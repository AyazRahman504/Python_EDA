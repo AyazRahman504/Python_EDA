{
  "nbformat": 4,
  "nbformat_minor": 0,
  "metadata": {
    "colab": {
      "provenance": [],
      "include_colab_link": true
    },
    "kernelspec": {
      "name": "python3",
      "display_name": "Python 3"
    },
    "language_info": {
      "name": "python"
    }
  },
  "cells": [
    {
      "cell_type": "markdown",
      "metadata": {
        "id": "view-in-github",
        "colab_type": "text"
      },
      "source": [
        "<a href=\"https://colab.research.google.com/github/drshahizan/Python_EDA/blob/main/assignment/hpdp/SYNA/casestudy2a/SYNA_CASESTUDY2a.ipynb\" target=\"_parent\"><img src=\"https://colab.research.google.com/assets/colab-badge.svg\" alt=\"Open In Colab\"/></a>"
      ]
    },
    {
      "cell_type": "markdown",
      "source": [
        "# CASE STUDY 2a"
      ],
      "metadata": {
        "id": "9CSauC3RGd-3"
      }
    },
    {
      "cell_type": "markdown",
      "source": [
        "# Assignment 2\n",
        "#### Title : Vaccination of Covid-19 in school of Malaysia\n",
        "#### Group : SYNA\n",
        "#### Group Members\n",
        "#### 1. SARAH WARDINA BINTI RAFIDIN A21EC0128\n",
        "#### 2. NURUNNAJWA BINTI ZULKIFLI A21EC0121\n",
        "#### 3. ALYA DAMIA BINTI HUZAIMY A21EC0159\n",
        "#### 4. YASMEEN NATASHA BINTI HAFIZ SHAHREL A21EC0147\n"
      ],
      "metadata": {
        "id": "H3aFHazWziB5"
      }
    },
    {
      "cell_type": "markdown",
      "source": [
        "## Data Preparation and Cleansing"
      ],
      "metadata": {
        "id": "5dcPKD6m7l2L"
      }
    },
    {
      "cell_type": "markdown",
      "source": [
        "Instructions (delete this cell):\n",
        "\n",
        "- Load the dataset into a data frame using Pandas\n",
        "- Explore the number of rows & columns, ranges of values etc.\n",
        "- Handle missing, incorrect and invalid data\n",
        "- Perform any additional steps (parsing dates, creating additional columns, merging multiple dataset etc.)"
      ],
      "metadata": {
        "id": "n0t1OATl8c94"
      }
    },
    {
      "cell_type": "markdown",
      "source": [
        "\n",
        " This data provides an overview and analysis of the COVID-19 vaccination data in Malaysian schools, specifically focusing on the dataset titled vax_school.csv. The dataset contains information on vaccination doses administered to staff, students, and various age groups within different schools across Malaysia."
      ],
      "metadata": {
        "id": "e1ZPCuBz4aZK"
      }
    },
    {
      "cell_type": "markdown",
      "source": [
        "1. First, we import the necessary libraries"
      ],
      "metadata": {
        "id": "UKXgTCkascmQ"
      }
    },
    {
      "cell_type": "code",
      "source": [
        "import pandas as pd\n",
        "\n",
        "import numpy as np\n",
        "\n",
        "import matplotlib.pyplot as plt"
      ],
      "metadata": {
        "id": "lhYvreAR-Umm"
      },
      "execution_count": null,
      "outputs": []
    },
    {
      "cell_type": "code",
      "source": [
        "path = \"https://raw.githubusercontent.com/MoH-Malaysia/covid19-public/main/vaccination/vax_school.csv\""
      ],
      "metadata": {
        "id": "MJ3rXd_cy281"
      },
      "execution_count": null,
      "outputs": []
    },
    {
      "cell_type": "code",
      "source": [
        "vax = pd.read_csv(path)\n",
        "\n",
        "# Display the DataFrame\n",
        "vax"
      ],
      "metadata": {
        "id": "2Egh0Wf1zEci"
      },
      "execution_count": null,
      "outputs": []
    },
    {
      "cell_type": "markdown",
      "source": [
        "2. The dataset has been downloaded and extracted."
      ],
      "metadata": {
        "id": "q6bvizZo7iZL"
      }
    },
    {
      "cell_type": "markdown",
      "source": [
        "3. Find info about this dataset\n",
        "\n"
      ],
      "metadata": {
        "id": "Pz8aOKJp5tBp"
      }
    },
    {
      "cell_type": "markdown",
      "source": [
        "The dataset consists of 10,216 entries and 40 columns, capturing detailed information about vaccination activities in schools. Here is a summary of the key columns:\n",
        "\n",
        "- code: School codes for identification.\n",
        "- school: School names.\n",
        "- state, district, postcode: Geographic information of the schools.\n",
        "- lat, lon: Latitude and longitude coordinates of the schools.\n",
        "- dose1_staff, dose2_staff, dose3_staff: Vaccination doses administered to staff members.\n",
        "- dose1_student, dose2_student: Vaccination doses administered to students.\n",
        "- Columns from dose1_5 to dose2_18: Possible vaccination doses administered to different age groups, with varying levels of missing data."
      ],
      "metadata": {
        "id": "aRHJLttrH6p0"
      }
    },
    {
      "cell_type": "code",
      "source": [
        "vax.info()"
      ],
      "metadata": {
        "id": "iz6s8Q0OzLbp"
      },
      "execution_count": null,
      "outputs": []
    },
    {
      "cell_type": "markdown",
      "source": [
        "4. Above show the info of the dataset"
      ],
      "metadata": {
        "id": "B8W7_NJNraY6"
      }
    },
    {
      "cell_type": "markdown",
      "source": [
        "5. Next, drop column with all null values  which are dose1_5 to dose2_18"
      ],
      "metadata": {
        "id": "FVHYzXsOrx6-"
      }
    },
    {
      "cell_type": "code",
      "source": [
        "vax_cleaned = vax.dropna(axis=1, how='all')"
      ],
      "metadata": {
        "id": "Z-xkQV3BqpYx"
      },
      "execution_count": null,
      "outputs": []
    },
    {
      "cell_type": "code",
      "source": [
        "vax_cleaned.info()"
      ],
      "metadata": {
        "id": "RN8y3pzPv-sz"
      },
      "execution_count": null,
      "outputs": []
    },
    {
      "cell_type": "markdown",
      "source": [
        "6. Info above shows that column has reduce from 40 columns to 26 columns"
      ],
      "metadata": {
        "id": "a4E1LUD_zHMq"
      }
    },
    {
      "cell_type": "markdown",
      "source": [
        "7. Fill missing values in specific columns with appropriate mean values"
      ],
      "metadata": {
        "id": "pyZKIiXJs-4w"
      }
    },
    {
      "cell_type": "code",
      "source": [
        "numerical_columns = vax_cleaned.select_dtypes(include=['float64']).columns\n",
        "vax_cleaned[numerical_columns] = vax_cleaned[numerical_columns].fillna(vax_cleaned[numerical_columns].mean())"
      ],
      "metadata": {
        "id": "6MDE8e1OvwMo"
      },
      "execution_count": null,
      "outputs": []
    },
    {
      "cell_type": "code",
      "source": [
        "vax_cleaned.head()"
      ],
      "metadata": {
        "id": "tf3y8faCv2qo"
      },
      "execution_count": null,
      "outputs": []
    },
    {
      "cell_type": "markdown",
      "source": [
        "8. The NaN value has changed to mean values"
      ],
      "metadata": {
        "id": "85i2o_BOzmO5"
      }
    },
    {
      "cell_type": "code",
      "source": [
        "vax_cleaned.info()"
      ],
      "metadata": {
        "id": "PtIxWo201Md5"
      },
      "execution_count": null,
      "outputs": []
    },
    {
      "cell_type": "markdown",
      "source": [
        "9. Find unique values in the 'school' column\n",
        "\n"
      ],
      "metadata": {
        "id": "q71Y-165JPbN"
      }
    },
    {
      "cell_type": "code",
      "source": [
        "unique_values = vax_cleaned.stack().unique()\n",
        "unique_values\n"
      ],
      "metadata": {
        "id": "ea36H2DjJUOF"
      },
      "execution_count": null,
      "outputs": []
    },
    {
      "cell_type": "markdown",
      "source": [
        "10. Remove duplicate column in all columns"
      ],
      "metadata": {
        "id": "43rB0XT9JehE"
      }
    },
    {
      "cell_type": "code",
      "source": [
        "duplicate_rows = vax_cleaned.duplicated()"
      ],
      "metadata": {
        "id": "ggmUnj3bvuMK"
      },
      "execution_count": null,
      "outputs": []
    },
    {
      "cell_type": "code",
      "source": [
        "duplicates = vax_cleaned[duplicate_rows]\n",
        "print(duplicates)"
      ],
      "metadata": {
        "id": "j72CydDEwGwH"
      },
      "execution_count": null,
      "outputs": []
    },
    {
      "cell_type": "code",
      "source": [
        "vax_cleaned = vax_cleaned.drop_duplicates()"
      ],
      "metadata": {
        "id": "iSbIXcGMJkSj"
      },
      "execution_count": null,
      "outputs": []
    },
    {
      "cell_type": "code",
      "source": [
        "vax_cleaned.info()"
      ],
      "metadata": {
        "id": "jM0xn-hsJpgs"
      },
      "execution_count": null,
      "outputs": []
    },
    {
      "cell_type": "markdown",
      "source": [
        "11. Info above shows there are no duplicate column and rows"
      ],
      "metadata": {
        "id": "b_XRNaHkJuRW"
      }
    },
    {
      "cell_type": "markdown",
      "source": [
        "12. Reset index after dropping rows\n"
      ],
      "metadata": {
        "id": "yzoukx9pyq-L"
      }
    },
    {
      "cell_type": "code",
      "source": [
        "vax_cleaned.reset_index(drop=True, inplace=True)"
      ],
      "metadata": {
        "id": "IexETAPJytO6"
      },
      "execution_count": null,
      "outputs": []
    },
    {
      "cell_type": "code",
      "source": [
        "vax_cleaned.head()"
      ],
      "metadata": {
        "id": "1_jcXRvnuHfT"
      },
      "execution_count": null,
      "outputs": []
    },
    {
      "cell_type": "code",
      "source": [
        "vax_cleaned.tail()"
      ],
      "metadata": {
        "id": "0w6olIkoyEml"
      },
      "execution_count": null,
      "outputs": []
    },
    {
      "cell_type": "markdown",
      "source": [
        "13. Round all float columns to 2 decimal places\n"
      ],
      "metadata": {
        "id": "WzU78uU7HPS4"
      }
    },
    {
      "cell_type": "code",
      "source": [
        "vax_cleaned = vax_cleaned.round(2)"
      ],
      "metadata": {
        "id": "Lmd370daHSy3"
      },
      "execution_count": null,
      "outputs": []
    },
    {
      "cell_type": "code",
      "source": [
        "vax_cleaned.head()"
      ],
      "metadata": {
        "id": "TifKoNVPHVgi"
      },
      "execution_count": null,
      "outputs": []
    },
    {
      "cell_type": "code",
      "source": [
        "vax_cleaned.tail()"
      ],
      "metadata": {
        "id": "jPtny1zFIPY_"
      },
      "execution_count": null,
      "outputs": []
    },
    {
      "cell_type": "markdown",
      "source": [
        "14. All the float data type column has set to two decimal places"
      ],
      "metadata": {
        "id": "43fTn06IHcIZ"
      }
    },
    {
      "cell_type": "markdown",
      "source": [
        "15. Change the data type of state and postcode into string"
      ],
      "metadata": {
        "id": "-yTkjCIVAs4k"
      }
    },
    {
      "cell_type": "code",
      "source": [
        "# Convert 'state' and 'district' columns to strings\n",
        "vax_cleaned['state'] = vax_cleaned['state'].astype(str)\n",
        "vax_cleaned['district'] = vax_cleaned['district'].astype(str)"
      ],
      "metadata": {
        "id": "dTYyWIU0BKy8"
      },
      "execution_count": null,
      "outputs": []
    },
    {
      "cell_type": "code",
      "source": [
        "vax_cleaned.info()"
      ],
      "metadata": {
        "id": "Nb4RsS7KGjI7"
      },
      "execution_count": null,
      "outputs": []
    },
    {
      "cell_type": "markdown",
      "source": [
        "16. State and district succeccfully changed to string data type"
      ],
      "metadata": {
        "id": "nf4rfCxmH6HU"
      }
    },
    {
      "cell_type": "code",
      "source": [
        "vax_cleaned.head()"
      ],
      "metadata": {
        "id": "ecPbn_BnGoTE"
      },
      "execution_count": null,
      "outputs": []
    },
    {
      "cell_type": "code",
      "source": [
        "vax_cleaned.tail()"
      ],
      "metadata": {
        "id": "_4_KXPijJSpw"
      },
      "execution_count": null,
      "outputs": []
    },
    {
      "cell_type": "code",
      "source": [
        "vax_cleaned.info()"
      ],
      "metadata": {
        "id": "VJYMx32MJ1_y"
      },
      "execution_count": null,
      "outputs": []
    },
    {
      "cell_type": "markdown",
      "source": [
        "17. Dataset successfully prep and cleaned"
      ],
      "metadata": {
        "id": "Omw-YKLXJDOr"
      }
    },
    {
      "cell_type": "markdown",
      "source": [
        "## 1. AutoViz"
      ],
      "metadata": {
        "id": "g9HSObq5H4NI"
      }
    },
    {
      "cell_type": "markdown",
      "source": [
        "### Data Preparation"
      ],
      "metadata": {
        "id": "0IUbt9AHIFBP"
      }
    },
    {
      "cell_type": "markdown",
      "source": [
        "1. Import Libraries"
      ],
      "metadata": {
        "id": "RpmNeH5r6Ka9"
      }
    },
    {
      "cell_type": "code",
      "source": [
        "import numpy as np # linear algebra\n",
        "import pandas as pd # data processing, CSV file I/O (e.g. pd.read_csv)\n",
        "\n",
        "import warnings\n",
        "warnings.filterwarnings('ignore')"
      ],
      "metadata": {
        "id": "IRTidOcNxdpX"
      },
      "execution_count": null,
      "outputs": []
    },
    {
      "cell_type": "markdown",
      "source": [
        "2. Install Autoviz"
      ],
      "metadata": {
        "id": "VaHIICuT6UDi"
      }
    },
    {
      "cell_type": "code",
      "source": [
        "!pip install autoviz"
      ],
      "metadata": {
        "id": "8YelUBi_xdwk"
      },
      "execution_count": null,
      "outputs": []
    },
    {
      "cell_type": "markdown",
      "source": [
        "3. Once Autoviz is installed, you can import your data into the tool using a variety of file formats, including CSV, Excel, and JSON."
      ],
      "metadata": {
        "id": "fOv7tEra6b1b"
      }
    },
    {
      "cell_type": "code",
      "source": [
        "url='https://raw.githubusercontent.com/MoH-Malaysia/covid19-public/main/vaccination/vax_school.csv'\n",
        "data = pd.read_csv(url)\n",
        "data.head()"
      ],
      "metadata": {
        "id": "QUiYzRmjxdzM"
      },
      "execution_count": null,
      "outputs": []
    },
    {
      "cell_type": "markdown",
      "source": [
        "### Implementation of Automated EDA Tools"
      ],
      "metadata": {
        "id": "XQqibGgmIMcM"
      }
    },
    {
      "cell_type": "markdown",
      "source": [
        "4. You can use Autoviz to generate visualizations. Autoviz have a function called “AutoViz_Class” that takes in a pandas DataFrame and generates visualizations.\n",
        "\n",
        "5. You must perform %matplotlib inline just before you run AutoViz on your data to avoid AutoViz no displays plots automatically.\n"
      ],
      "metadata": {
        "id": "T0pgN4EJ6to3"
      }
    },
    {
      "cell_type": "code",
      "source": [
        "from autoviz.AutoViz_Class import AutoViz_Class\n",
        "\n",
        "url='https://raw.githubusercontent.com/MoH-Malaysia/covid19-public/main/vaccination/vax_school.csv'\n",
        "data = pd.read_csv(url)\n",
        "\n",
        "AV = AutoViz_Class()\n",
        "\n",
        "\n",
        "\n",
        "%matplotlib inline"
      ],
      "metadata": {
        "id": "COas65LTybES"
      },
      "execution_count": null,
      "outputs": []
    },
    {
      "cell_type": "markdown",
      "source": [
        "6. Generate Visualization"
      ],
      "metadata": {
        "id": "JReAl2547JbZ"
      }
    },
    {
      "cell_type": "code",
      "source": [
        "AV.AutoViz(url)"
      ],
      "metadata": {
        "id": "UQ_pbhGWxd7R"
      },
      "execution_count": null,
      "outputs": []
    },
    {
      "cell_type": "markdown",
      "source": [
        "##Setting a Target Variable\n",
        "\n",
        "7. During the process of data visualization, one can define a parameter known as \"depVar.\" This parameter allows us to designate a specific target variable, enabling the creation of corresponding plots. Additionally, it is possible to specify which columns of the dataframe should be included in the visualization and which ones should be excluded. For example I use \"dose1_staff\" in the depVar."
      ],
      "metadata": {
        "id": "OSm_vXQ27Ta_"
      }
    },
    {
      "cell_type": "code",
      "source": [
        "# Generate visualizations and specify a local output file\n",
        "report = AV.AutoViz(\n",
        "   filename=\"\",  # Specify a local output file path\n",
        "   sep=',',\n",
        "   depVar='dose1_staff',\n",
        "   dfte=url,  # Pass the URL directly\n",
        "   header=0,\n",
        "   verbose=0,\n",
        "   lowess=False,\n",
        "   chart_format='png',\n",
        "   max_rows_analyzed=150000,\n",
        "   max_cols_analyzed=30,\n",
        ")\n",
        "\n"
      ],
      "metadata": {
        "id": "YeCdHCFQ1D02"
      },
      "execution_count": null,
      "outputs": []
    },
    {
      "cell_type": "markdown",
      "source": [
        "## AutoViz provides data cleaning suggestions\n",
        "\n",
        "8. AutoViz performs an automatic analysis of your dataset and offers recommendations for data cleaning. It can detect missing values, recognize infrequent categories, pinpoint infinite values, identify mixed data types, and much more. These capabilities greatly enhance the efficiency of your data cleaning tasks."
      ],
      "metadata": {
        "id": "gDOFaLD48D7T"
      }
    },
    {
      "cell_type": "code",
      "source": [
        "from autoviz import data_cleaning_suggestions\n",
        "data_cleaning_suggestions(data)"
      ],
      "metadata": {
        "id": "ekF9wBghxHVt"
      },
      "execution_count": null,
      "outputs": []
    },
    {
      "cell_type": "markdown",
      "source": [
        "### Pros and Cons Analysis"
      ],
      "metadata": {
        "id": "MCtHtjeoxhJb"
      }
    },
    {
      "cell_type": "markdown",
      "source": [
        "**Pros**:\n",
        "\n",
        "**Automation:** AutoViz automates the process of data visualization, saving you time and effort by automatically generating a variety of plots and charts for your dataset. This can be especially useful for quickly exploring large datasets.\n",
        "\n",
        "**Quick Initial Insights:** AutoViz provides a fast way to get initial insights into your data without the need for manually specifying visualization types or parameters. It can generate a wide range of charts to help you understand your data's characteristics.\n",
        "\n",
        "**No Coding Required:**  You don't need to be a data visualization expert or have advanced coding skills to use AutoViz. It's designed to be user-friendly and accessible for those who may not have extensive programming experience.\n",
        "Interactive Plots: AutoViz supports interactive plotting, making it easier to explore your data in more detail. You can zoom in on specific data points or interact with the charts to gain a deeper understanding.\n",
        "Supports Different Data Types: AutoViz is capable of handling various data types, including numerical, categorical, and time series data. It can generate appropriate visualizations for each data type.\n",
        "\n",
        "\n",
        "**Cons:**\n",
        "\n",
        "**Limited Customization:**  While AutoViz is designed to be user-friendly, it may not offer the same level of customization and control over visualizations that you would have with more manual approaches or dedicated data visualization libraries like Matplotlib or Seaborn. If you have specific customization requirements, AutoViz may not meet your needs.\n",
        "\n",
        "**Overwhelming Output:**  AutoViz can generate a large number of visualizations, which can be overwhelming for complex datasets. It's important to review the generated visualizations carefully to focus on the most relevant insights.\n",
        "\n",
        "**Dependent on Data Quality:**  The quality of the visualizations generated by AutoViz depends on the quality of the input data. If your data is messy or contains missing values, AutoViz may not be able to compensate for these issues, and you might need to clean the data before obtaining meaningful visualizations.\n",
        "\n",
        "**May Not Cover All Use Cases:**  AutoViz may not cover every specific use case or type of data analysis. In some cases, you may still need to create custom visualizations or use other data visualization libraries to address your unique requirements."
      ],
      "metadata": {
        "id": "somEkDfX8ebX"
      }
    },
    {
      "cell_type": "markdown",
      "source": [
        "### Conclusion"
      ],
      "metadata": {
        "id": "c-soO5laIdHi"
      }
    },
    {
      "cell_type": "markdown",
      "source": [
        "In conclusion, AutoViz proves to be a valuable tool for data analysis, offering a wide range of benefits and advantages. This automated visualization tool streamlines the data exploration process, making it accessible to both novice and experienced analysts. It excels in several key areas.\n",
        "\n",
        "Firstly, AutoViz significantly reduces the time required for data analysis by automating the visualization process, which is crucial in today's fast-paced business environment where quick insights lead to more informed decision-making. Secondly, the tool offers a diverse array of visualization options, ensuring that analysts can explore their data from multiple angles. This not only enhances the depth of analysis but also enables a more comprehensive understanding of the data.\n",
        "\n",
        "Moreover, AutoViz is designed to be user-friendly, making it accessible to individuals with varying levels of expertise in data analysis. Its intuitive interface allows even those without extensive coding or data visualization experience to create meaningful visuals. The automated nature of AutoViz encourages analysts to explore the data thoroughly, uncovering hidden patterns, anomalies, and insights that might have otherwise gone unnoticed. It also helps in generating insights quickly, driving better decision-making and problem-solving across various domains.\n",
        "\n",
        "Additionally, AutoViz enables the easy reproduction of analysis and visuals, which is vital for maintaining data integrity and sharing results with others. While it automates the process, it still allows for customization, allowing analysts to fine-tune the visualizations to suit their specific needs and preferences.\n",
        "\n",
        "However, it's important to remember that AutoViz is not a one-size-fits-all solution. It may not handle extremely complex or highly specialized data analysis tasks as effectively as manual approaches or other specialized tools. Therefore, analysts should consider the nature of their data and objectives before choosing AutoViz as their primary analysis tool.\n",
        "\n",
        "In summary, AutoViz is a powerful tool for data analysis that significantly enhances the efficiency, accessibility, and depth of the data exploration process. Its ability to automate visualization tasks, coupled with customization options, makes it a valuable asset for both beginners and experts in the field of data analysis. However, it should be used judiciously, in conjunction with other analysis techniques, to ensure the most comprehensive and accurate results."
      ],
      "metadata": {
        "id": "ccgSonrE9qMI"
      }
    },
    {
      "cell_type": "markdown",
      "source": [
        "## Reference"
      ],
      "metadata": {
        "id": "qggrvqcM9Ky8"
      }
    },
    {
      "cell_type": "markdown",
      "source": [
        "1. https://medium.datadriveninvestor.com/autoviz-the-key-to-effortless-data-visualization-4b930b0c5ad9"
      ],
      "metadata": {
        "id": "4y9N6eZM9Ofr"
      }
    }
  ]
}
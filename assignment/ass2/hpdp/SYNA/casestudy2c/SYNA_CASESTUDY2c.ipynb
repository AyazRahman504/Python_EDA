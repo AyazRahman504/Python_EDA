{
  "nbformat": 4,
  "nbformat_minor": 0,
  "metadata": {
    "colab": {
      "provenance": [],
      "include_colab_link": true
    },
    "kernelspec": {
      "name": "python3",
      "display_name": "Python 3"
    },
    "language_info": {
      "name": "python"
    }
  },
  "cells": [
    {
      "cell_type": "markdown",
      "metadata": {
        "id": "view-in-github",
        "colab_type": "text"
      },
      "source": [
        "<a href=\"https://colab.research.google.com/github/drshahizan/Python_EDA/blob/main/assignment/hpdp/SYNA/casestudy2c/SYNA_CASESTUDY2c.ipynb\" target=\"_parent\"><img src=\"https://colab.research.google.com/assets/colab-badge.svg\" alt=\"Open In Colab\"/></a>"
      ]
    },
    {
      "cell_type": "markdown",
      "source": [
        "# CASE STUDY 2c"
      ],
      "metadata": {
        "id": "rvjwWMpzop6B"
      }
    },
    {
      "cell_type": "markdown",
      "source": [
        "# Assignment 2\n",
        "#### Title : Vaccination of Covid-19 in school of Malaysia\n",
        "#### Group : SYNA\n",
        "#### Group Members\n",
        "#### 1. SARAH WARDINA BINTI RAFIDIN A21EC0128\n",
        "#### 2. NURUNNAJWA BINTI ZULKIFLI A21EC0121\n",
        "#### 3. ALYA DAMIA BINTI HUZAIMY A21EC0159\n",
        "#### 4. YASMEEN NATASHA BINTI HAFIZ SHAHREL A21EC0147\n"
      ],
      "metadata": {
        "id": "H3aFHazWziB5"
      }
    },
    {
      "cell_type": "markdown",
      "source": [
        "# CASE STUDY 2"
      ],
      "metadata": {
        "id": "9CSauC3RGd-3"
      }
    },
    {
      "cell_type": "markdown",
      "source": [
        "## Data Preparation and Cleansing"
      ],
      "metadata": {
        "id": "5dcPKD6m7l2L"
      }
    },
    {
      "cell_type": "markdown",
      "source": [
        "Instructions (delete this cell):\n",
        "\n",
        "- Load the dataset into a data frame using Pandas\n",
        "- Explore the number of rows & columns, ranges of values etc.\n",
        "- Handle missing, incorrect and invalid data\n",
        "- Perform any additional steps (parsing dates, creating additional columns, merging multiple dataset etc.)"
      ],
      "metadata": {
        "id": "n0t1OATl8c94"
      }
    },
    {
      "cell_type": "markdown",
      "source": [
        "\n",
        " This data provides an overview and analysis of the COVID-19 vaccination data in Malaysian schools, specifically focusing on the dataset titled vax_school.csv. The dataset contains information on vaccination doses administered to staff, students, and various age groups within different schools across Malaysia."
      ],
      "metadata": {
        "id": "e1ZPCuBz4aZK"
      }
    },
    {
      "cell_type": "markdown",
      "source": [
        "1. First, we import the necessary libraries"
      ],
      "metadata": {
        "id": "UKXgTCkascmQ"
      }
    },
    {
      "cell_type": "code",
      "source": [
        "import pandas as pd\n",
        "\n",
        "import numpy as np\n",
        "\n",
        "import matplotlib.pyplot as plt"
      ],
      "metadata": {
        "id": "lhYvreAR-Umm"
      },
      "execution_count": null,
      "outputs": []
    },
    {
      "cell_type": "code",
      "source": [
        "path = \"https://raw.githubusercontent.com/MoH-Malaysia/covid19-public/main/vaccination/vax_school.csv\""
      ],
      "metadata": {
        "id": "MJ3rXd_cy281"
      },
      "execution_count": null,
      "outputs": []
    },
    {
      "cell_type": "code",
      "source": [
        "vax = pd.read_csv(path)\n",
        "\n",
        "# Display the DataFrame\n",
        "vax"
      ],
      "metadata": {
        "id": "2Egh0Wf1zEci"
      },
      "execution_count": null,
      "outputs": []
    },
    {
      "cell_type": "markdown",
      "source": [
        "2. The dataset has been downloaded and extracted."
      ],
      "metadata": {
        "id": "q6bvizZo7iZL"
      }
    },
    {
      "cell_type": "markdown",
      "source": [
        "3. Find info about this dataset\n",
        "\n"
      ],
      "metadata": {
        "id": "Pz8aOKJp5tBp"
      }
    },
    {
      "cell_type": "markdown",
      "source": [
        "The dataset consists of 10,216 entries and 40 columns, capturing detailed information about vaccination activities in schools. Here is a summary of the key columns:\n",
        "\n",
        "- code: School codes for identification.\n",
        "- school: School names.\n",
        "- state, district, postcode: Geographic information of the schools.\n",
        "- lat, lon: Latitude and longitude coordinates of the schools.\n",
        "- dose1_staff, dose2_staff, dose3_staff: Vaccination doses administered to staff members.\n",
        "- dose1_student, dose2_student: Vaccination doses administered to students.\n",
        "- Columns from dose1_5 to dose2_18: Possible vaccination doses administered to different age groups, with varying levels of missing data."
      ],
      "metadata": {
        "id": "aRHJLttrH6p0"
      }
    },
    {
      "cell_type": "code",
      "source": [
        "vax.info()"
      ],
      "metadata": {
        "id": "iz6s8Q0OzLbp"
      },
      "execution_count": null,
      "outputs": []
    },
    {
      "cell_type": "markdown",
      "source": [
        "4. Above show the info of the dataset"
      ],
      "metadata": {
        "id": "B8W7_NJNraY6"
      }
    },
    {
      "cell_type": "markdown",
      "source": [
        "5. Next, drop column with all null values  which are dose1_5 to dose2_18"
      ],
      "metadata": {
        "id": "FVHYzXsOrx6-"
      }
    },
    {
      "cell_type": "code",
      "source": [
        "vax_cleaned = vax.dropna(axis=1, how='all')"
      ],
      "metadata": {
        "id": "Z-xkQV3BqpYx"
      },
      "execution_count": null,
      "outputs": []
    },
    {
      "cell_type": "code",
      "source": [
        "vax_cleaned.info()"
      ],
      "metadata": {
        "id": "RN8y3pzPv-sz"
      },
      "execution_count": null,
      "outputs": []
    },
    {
      "cell_type": "markdown",
      "source": [
        "6. Info above shows that column has reduce from 40 columns to 26 columns"
      ],
      "metadata": {
        "id": "a4E1LUD_zHMq"
      }
    },
    {
      "cell_type": "markdown",
      "source": [
        "7. Fill missing values in specific columns with appropriate mean values"
      ],
      "metadata": {
        "id": "pyZKIiXJs-4w"
      }
    },
    {
      "cell_type": "code",
      "source": [
        "numerical_columns = vax_cleaned.select_dtypes(include=['float64']).columns\n",
        "vax_cleaned[numerical_columns] = vax_cleaned[numerical_columns].fillna(vax_cleaned[numerical_columns].mean())"
      ],
      "metadata": {
        "id": "6MDE8e1OvwMo"
      },
      "execution_count": null,
      "outputs": []
    },
    {
      "cell_type": "code",
      "source": [
        "vax_cleaned.head()"
      ],
      "metadata": {
        "id": "tf3y8faCv2qo"
      },
      "execution_count": null,
      "outputs": []
    },
    {
      "cell_type": "markdown",
      "source": [
        "8. The NaN value has changed to mean values"
      ],
      "metadata": {
        "id": "85i2o_BOzmO5"
      }
    },
    {
      "cell_type": "code",
      "source": [
        "vax_cleaned.info()"
      ],
      "metadata": {
        "id": "PtIxWo201Md5"
      },
      "execution_count": null,
      "outputs": []
    },
    {
      "cell_type": "markdown",
      "source": [
        "9. Find unique values in the 'school' column\n",
        "\n"
      ],
      "metadata": {
        "id": "q71Y-165JPbN"
      }
    },
    {
      "cell_type": "code",
      "source": [
        "unique_values = vax_cleaned.stack().unique()\n",
        "unique_values\n"
      ],
      "metadata": {
        "id": "ea36H2DjJUOF"
      },
      "execution_count": null,
      "outputs": []
    },
    {
      "cell_type": "markdown",
      "source": [
        "10. Remove duplicate column in all columns"
      ],
      "metadata": {
        "id": "43rB0XT9JehE"
      }
    },
    {
      "cell_type": "code",
      "source": [
        "duplicate_rows = vax_cleaned.duplicated()"
      ],
      "metadata": {
        "id": "ggmUnj3bvuMK"
      },
      "execution_count": null,
      "outputs": []
    },
    {
      "cell_type": "code",
      "source": [
        "duplicates = vax_cleaned[duplicate_rows]\n",
        "print(duplicates)"
      ],
      "metadata": {
        "id": "j72CydDEwGwH"
      },
      "execution_count": null,
      "outputs": []
    },
    {
      "cell_type": "code",
      "source": [
        "vax_cleaned = vax_cleaned.drop_duplicates()"
      ],
      "metadata": {
        "id": "iSbIXcGMJkSj"
      },
      "execution_count": null,
      "outputs": []
    },
    {
      "cell_type": "code",
      "source": [
        "vax_cleaned.info()"
      ],
      "metadata": {
        "id": "jM0xn-hsJpgs"
      },
      "execution_count": null,
      "outputs": []
    },
    {
      "cell_type": "markdown",
      "source": [
        "11. Info above shows there are no duplicate column and rows"
      ],
      "metadata": {
        "id": "b_XRNaHkJuRW"
      }
    },
    {
      "cell_type": "markdown",
      "source": [
        "12. Reset index after dropping rows\n"
      ],
      "metadata": {
        "id": "yzoukx9pyq-L"
      }
    },
    {
      "cell_type": "code",
      "source": [
        "vax_cleaned.reset_index(drop=True, inplace=True)"
      ],
      "metadata": {
        "id": "IexETAPJytO6"
      },
      "execution_count": null,
      "outputs": []
    },
    {
      "cell_type": "code",
      "source": [
        "vax_cleaned.head()"
      ],
      "metadata": {
        "id": "1_jcXRvnuHfT"
      },
      "execution_count": null,
      "outputs": []
    },
    {
      "cell_type": "code",
      "source": [
        "vax_cleaned.tail()"
      ],
      "metadata": {
        "id": "0w6olIkoyEml"
      },
      "execution_count": null,
      "outputs": []
    },
    {
      "cell_type": "markdown",
      "source": [
        "13. Round all float columns to 2 decimal places\n"
      ],
      "metadata": {
        "id": "WzU78uU7HPS4"
      }
    },
    {
      "cell_type": "code",
      "source": [
        "vax_cleaned = vax_cleaned.round(2)"
      ],
      "metadata": {
        "id": "Lmd370daHSy3"
      },
      "execution_count": null,
      "outputs": []
    },
    {
      "cell_type": "code",
      "source": [
        "vax_cleaned.head()"
      ],
      "metadata": {
        "id": "TifKoNVPHVgi"
      },
      "execution_count": null,
      "outputs": []
    },
    {
      "cell_type": "code",
      "source": [
        "vax_cleaned.tail()"
      ],
      "metadata": {
        "id": "jPtny1zFIPY_"
      },
      "execution_count": null,
      "outputs": []
    },
    {
      "cell_type": "markdown",
      "source": [
        "14. All the float data type column has set to two decimal places"
      ],
      "metadata": {
        "id": "43fTn06IHcIZ"
      }
    },
    {
      "cell_type": "markdown",
      "source": [
        "15. Change the data type of state and postcode into string"
      ],
      "metadata": {
        "id": "-yTkjCIVAs4k"
      }
    },
    {
      "cell_type": "code",
      "source": [
        "# Convert 'state' and 'district' columns to strings\n",
        "vax_cleaned['state'] = vax_cleaned['state'].astype(str)\n",
        "vax_cleaned['district'] = vax_cleaned['district'].astype(str)"
      ],
      "metadata": {
        "id": "dTYyWIU0BKy8"
      },
      "execution_count": null,
      "outputs": []
    },
    {
      "cell_type": "code",
      "source": [
        "vax_cleaned.info()"
      ],
      "metadata": {
        "id": "Nb4RsS7KGjI7"
      },
      "execution_count": null,
      "outputs": []
    },
    {
      "cell_type": "markdown",
      "source": [
        "16. State and district succeccfully changed to string data type"
      ],
      "metadata": {
        "id": "nf4rfCxmH6HU"
      }
    },
    {
      "cell_type": "code",
      "source": [
        "vax_cleaned.head()"
      ],
      "metadata": {
        "id": "ecPbn_BnGoTE"
      },
      "execution_count": null,
      "outputs": []
    },
    {
      "cell_type": "code",
      "source": [
        "vax_cleaned.tail()"
      ],
      "metadata": {
        "id": "_4_KXPijJSpw"
      },
      "execution_count": null,
      "outputs": []
    },
    {
      "cell_type": "code",
      "source": [
        "vax_cleaned.info()"
      ],
      "metadata": {
        "id": "VJYMx32MJ1_y"
      },
      "execution_count": null,
      "outputs": []
    },
    {
      "cell_type": "markdown",
      "source": [
        "17. Dataset successfully prep and cleaned"
      ],
      "metadata": {
        "id": "Omw-YKLXJDOr"
      }
    },
    {
      "cell_type": "markdown",
      "source": [
        "# 3. DataPrep"
      ],
      "metadata": {
        "id": "e191IS6vJOYR"
      }
    },
    {
      "cell_type": "markdown",
      "source": [
        "### Data Preparation"
      ],
      "metadata": {
        "id": "t8CGEEdoJStA"
      }
    },
    {
      "cell_type": "code",
      "source": [
        "!pip install dataprep"
      ],
      "metadata": {
        "id": "GdTjg5hmJV61"
      },
      "execution_count": null,
      "outputs": []
    },
    {
      "cell_type": "code",
      "source": [
        "import dataprep"
      ],
      "metadata": {
        "id": "_bp2FXydLg7g"
      },
      "execution_count": null,
      "outputs": []
    },
    {
      "cell_type": "markdown",
      "source": [
        "1. DataPrep has successfully imported and ready to use"
      ],
      "metadata": {
        "id": "ZAqehsoNOwrj"
      }
    },
    {
      "cell_type": "markdown",
      "source": [
        "### Implementation of Automated EDA Tools\n",
        "\n",
        "---\n",
        "\n"
      ],
      "metadata": {
        "id": "BWPm9CD1JWRu"
      }
    },
    {
      "cell_type": "markdown",
      "source": [
        "* How to load the dataset into the tool.\n",
        "* How to generate basic statistics and visualizations.\n",
        "* How to explore relationships and patterns in the data.\n",
        "* Any unique features or capabilities of each tool that you find noteworthy."
      ],
      "metadata": {
        "id": "E24aABYG59vR"
      }
    },
    {
      "cell_type": "markdown",
      "source": [
        "#### a) How to load the dataset into the tool.\n"
      ],
      "metadata": {
        "id": "scCIuX4Go78d"
      }
    },
    {
      "cell_type": "markdown",
      "source": [
        "2. First, we need to load the data"
      ],
      "metadata": {
        "id": "SZyomL7vR1HO"
      }
    },
    {
      "cell_type": "code",
      "source": [
        "from dataprep.eda import *\n",
        "from dataprep.datasets import load_dataset\n",
        "vax_cleaned"
      ],
      "metadata": {
        "id": "nPi9WKsNR3_M"
      },
      "execution_count": null,
      "outputs": []
    },
    {
      "cell_type": "markdown",
      "source": [
        "#### b) How to generate basic statistics and visualizations.\n"
      ],
      "metadata": {
        "id": "ZEVKXBp-pDHw"
      }
    },
    {
      "cell_type": "markdown",
      "source": [
        "3. Now , we need to get the glimpse of data. This is important to roughly understand the data. For example, how many columns are available,which column are categorical, which column are numerical and which column contain missing value.\n",
        "\n"
      ],
      "metadata": {
        "id": "b14_UWxMSJV1"
      }
    },
    {
      "cell_type": "code",
      "source": [
        "plot (vax_cleaned)"
      ],
      "metadata": {
        "id": "dgmYKd-YpcpV"
      },
      "execution_count": null,
      "outputs": []
    },
    {
      "cell_type": "markdown",
      "source": [
        "The plot shows the distribution of each column. For a categorical column, it shows the bar chart with blue color. For a numeric column, it shows the histogram with gray color. Currently, the column type (i.e., categorical or numeric) is based on the column type in input dataframe."
      ],
      "metadata": {
        "id": "3M6fLiVKq-bv"
      }
    },
    {
      "cell_type": "markdown",
      "source": [
        "4. Now, we get an overview of the missing values with plot_missing()"
      ],
      "metadata": {
        "id": "sW8zZSLEO-71"
      }
    },
    {
      "cell_type": "code",
      "source": [
        "from dataprep.eda.missing import plot_missing\n",
        "plot_missing(vax_cleaned)"
      ],
      "metadata": {
        "id": "m5bBPi68LmEQ"
      },
      "execution_count": null,
      "outputs": []
    },
    {
      "cell_type": "markdown",
      "source": [
        "5. Here, we can see that there are no missing cells in this dataset"
      ],
      "metadata": {
        "id": "pDZpZxSQPVKy"
      }
    },
    {
      "cell_type": "markdown",
      "source": [
        "#### b) How to generate basic statistics and visualizations."
      ],
      "metadata": {
        "id": "N28sny8rp_U_"
      }
    },
    {
      "cell_type": "markdown",
      "source": [
        "6. Now, we need to understand each column by generate their info and visualization."
      ],
      "metadata": {
        "id": "FEbpKNeirnm6"
      }
    },
    {
      "cell_type": "code",
      "source": [
        "plot (vax_cleaned,\"school\")"
      ],
      "metadata": {
        "id": "UxOeb7-cpRlg"
      },
      "execution_count": null,
      "outputs": []
    },
    {
      "cell_type": "markdown",
      "source": [
        "- This graph show the top 10 schools that receive vaccination."
      ],
      "metadata": {
        "id": "gmBe09b26IUD"
      }
    },
    {
      "cell_type": "code",
      "source": [
        "plot(vax_cleaned, \"district\")"
      ],
      "metadata": {
        "id": "qIaghRHDuh5b"
      },
      "execution_count": null,
      "outputs": []
    },
    {
      "cell_type": "markdown",
      "source": [
        "- The graph show the top 10 district of vaccination coverage. District 157 is the highest."
      ],
      "metadata": {
        "id": "7BLliTOs6Rqw"
      }
    },
    {
      "cell_type": "markdown",
      "source": [
        "- Graph below how the frequency of dose 1 , dose 2 and dose 3 that received by student and staff respectively."
      ],
      "metadata": {
        "id": "weBsK5wT6hhV"
      }
    },
    {
      "cell_type": "code",
      "source": [
        "plot(vax_cleaned, \"dose1_student\")"
      ],
      "metadata": {
        "id": "ZlU7gHnQtOY4"
      },
      "execution_count": null,
      "outputs": []
    },
    {
      "cell_type": "code",
      "source": [
        "plot(vax_cleaned, \"dose2_student\")"
      ],
      "metadata": {
        "id": "3GENNflcuyHj"
      },
      "execution_count": null,
      "outputs": []
    },
    {
      "cell_type": "code",
      "source": [
        "plot(vax_cleaned, \"dose1_staff\")"
      ],
      "metadata": {
        "id": "RR9RHK_Ju7Od"
      },
      "execution_count": null,
      "outputs": []
    },
    {
      "cell_type": "code",
      "source": [
        "plot(vax_cleaned, \"dose2_staff\")"
      ],
      "metadata": {
        "id": "sH1P2i7Vu_NL"
      },
      "execution_count": null,
      "outputs": []
    },
    {
      "cell_type": "code",
      "source": [
        "plot(vax_cleaned, \"dose3_staff\")"
      ],
      "metadata": {
        "id": "LpAevEAkvHiL"
      },
      "execution_count": null,
      "outputs": []
    },
    {
      "cell_type": "markdown",
      "source": [
        "#### c) How to explore relationships and patterns in the data."
      ],
      "metadata": {
        "id": "Cey8T8D3qMUx"
      }
    },
    {
      "cell_type": "markdown",
      "source": [
        "- Graph below show the relationship between school with dose 1, dose 2 and dose 3 received by student and staff respectively."
      ],
      "metadata": {
        "id": "L-PIiRCP6uZT"
      }
    },
    {
      "cell_type": "code",
      "source": [
        "plot(vax_cleaned, \"school\", \"dose1_student\")"
      ],
      "metadata": {
        "id": "mHnfGl6cJbwO"
      },
      "execution_count": null,
      "outputs": []
    },
    {
      "cell_type": "code",
      "source": [
        "plot(vax_cleaned, \"school\", \"dose2_student\")"
      ],
      "metadata": {
        "id": "c36R78eQ-epi"
      },
      "execution_count": null,
      "outputs": []
    },
    {
      "cell_type": "code",
      "source": [
        "plot(vax_cleaned, \"school\", \"dose1_staff\")"
      ],
      "metadata": {
        "id": "JT7S6zSthcuX"
      },
      "execution_count": null,
      "outputs": []
    },
    {
      "cell_type": "code",
      "source": [
        "plot(vax_cleaned, \"school\", \"dose2_staff\")"
      ],
      "metadata": {
        "id": "1xkj3AePlHS_"
      },
      "execution_count": null,
      "outputs": []
    },
    {
      "cell_type": "markdown",
      "source": [
        "7. Next, we can explore the correlation between columns col1 and col2 using plot(df, col1, col2). The output depends on the types of the columns."
      ],
      "metadata": {
        "id": "0q-TbwtbvWbO"
      }
    },
    {
      "cell_type": "code",
      "source": [
        "from dataprep.eda import plot_correlation\n",
        "plot_correlation(vax_cleaned)"
      ],
      "metadata": {
        "id": "Vj75Qjwsznh0"
      },
      "execution_count": null,
      "outputs": []
    },
    {
      "cell_type": "markdown",
      "source": [
        "- The graph below show the correlation between dose 1 and dose 2 received by student.\n",
        "\n",
        "-   In the context of vaccination, a positive correlation would suggest that schools with higher rates of students receiving dose 1 also have higher rates of students receiving dose 2."
      ],
      "metadata": {
        "id": "VzM1-A8c68Z_"
      }
    },
    {
      "cell_type": "code",
      "source": [
        "plot_correlation(vax_cleaned, \"dose1_student\", \"dose2_student\")"
      ],
      "metadata": {
        "id": "MbrprFpb0EiD"
      },
      "execution_count": null,
      "outputs": []
    },
    {
      "cell_type": "markdown",
      "source": [
        "- The graph below show the correlation between dose 1 and dose 2 received by staff respectively.\n",
        "\n",
        "- In the context of vaccination, a positive correlation would suggest that schools with higher rates of staff members receiving dose 1 also have higher rates of staff members receiving dose 2.\n",
        "\n"
      ],
      "metadata": {
        "id": "jjA9jUpm7Eet"
      }
    },
    {
      "cell_type": "code",
      "source": [
        "plot_correlation(vax_cleaned, \"dose1_staff\", \"dose2_staff\")"
      ],
      "metadata": {
        "id": "PQ9P7WXM0Vh7"
      },
      "execution_count": null,
      "outputs": []
    },
    {
      "cell_type": "markdown",
      "source": [
        "#### d) Any unique features or capabilities of each tool that you find noteworthy.\n",
        "\n",
        "Dataprep finds schemas, data types, potential joins, and anomalies such as missing values, outliers, and duplicates automatically, allowing you to bypass the time-consuming effort of verifying data quality and jump immediately into exploration and analysis."
      ],
      "metadata": {
        "id": "u-k8Sw3HotAz"
      }
    },
    {
      "cell_type": "markdown",
      "source": [
        "9. Create overview report."
      ],
      "metadata": {
        "id": "1cwTefGK5IcK"
      }
    },
    {
      "cell_type": "code",
      "source": [
        "from dataprep.eda import create_report\n",
        "report = create_report(vax_cleaned)\n",
        "report"
      ],
      "metadata": {
        "id": "xpX1ZjIV5RMb"
      },
      "execution_count": null,
      "outputs": []
    },
    {
      "cell_type": "markdown",
      "source": [
        "### Pros and Cons Analysis"
      ],
      "metadata": {
        "id": "UtXodvDnJcQx"
      }
    },
    {
      "cell_type": "markdown",
      "source": [
        "* After implementing both EDA tools, summarize the pros and cons of each tool based on your experience and observations.\n",
        "* Consider factors such as ease of use, comprehensiveness, visualization capabilities, and any limitations.\n",
        "* Include your insights on how each tool performed in the context of the Malaysian dataset you chose."
      ],
      "metadata": {
        "id": "Nf9HQIqP7k8Q"
      }
    },
    {
      "cell_type": "markdown",
      "source": [
        "**In my opinion, these are the pros of DataPrep**\n",
        "\n",
        "1. Ease of Use:\n",
        "\n",
        "* Dataprep is designed to provide a user-friendly interface for data exploration and preparation.\n",
        "* It's suitable for users who want a quick overview of their dataset without delving too deep into coding.\n",
        "\n",
        "2. Quick EDA Reports:\n",
        "\n",
        "* The create_report function in dataprep allows for quick generation of EDA reports, providing summary statistics and visualizations.\n",
        "\n",
        "3. Interactive Visualizations:\n",
        "\n",
        "* DataPrep often includes interactive visualizations in its EDA reports, enhancing the exploration experience.\n",
        "\n",
        "**In my opinion, these are the cons of DataPrep**\n",
        "\n",
        "1. Limited Customization\n",
        "\n",
        "* DataPrep lack the extensive customization options offered by more specialized visualization libraries.\n",
        "\n",
        "2. Additional Libraries for Specific Tasks\n",
        "\n",
        "* For advanced or specific analysis needs, we need to complement dataprep with other libraries like matplotlib or seaborn.\n",
        "\n",
        "3. Dependency on Documentation\n",
        "\n",
        "* Since dataprep is a library that might undergo updates, it's crucial to refer to the latest documentation for any changes or additional features.\n",
        "\n",
        "**Insights on how DataPrep performed in the context of the Malaysian dataset**\n",
        "\n",
        "- For line graph, it shows top 13 of school that receive higher amount of dose 1 for student. The highest is SJK(C) Chung Hwa with lower bin of 99.15 with frequency of 15 followed by SJK(C)Sin Min with lower bin 99.15 with frequency of 10. While for dose 2 for students, SJK(C) Chung Hwa also receive the highest  with lower bin of 99.11 with frequency of 14 followed  by SJK(C) Sin Min  with lower bin of 99.12   with frequency of 7.\n",
        "\n",
        "- While for staff dose 1, The highest is SJK(C) Chung Hwa with lower bin of 99.8 with frequency of 24 followed by SJK(C)Sin Min with lower bin of 99.8  with frequency of 111. Dose 2 and dose 3 for staff show the same record.\n",
        "\n",
        "- The correlation graph show there is high correlation between dose 1 student and dose 2 student. It also shows that there are high correlation between dose1 staff and dose2 staff.\n",
        "\n",
        "- It means that the administration of dose 1 for students and dose 2 for students is closely related, indicating a strong positive relationship between these two variables. This suggests that schools with higher percentages of students receiving the first dose also tend to have higher percentages of students receiving the second dose. The correlation value would likely be close to 1, signifying a strong positive correlation.\n",
        "\n",
        "- Similarly, the high correlation between dose 1 for staff and dose 2 for staff implies that there is a strong positive association between the percentages of staff members receiving their first and second doses. Schools where a larger proportion of staff receive the first dose also tend to have a higher proportion of staff members receiving the second dose. Again, the correlation value would likely be close to 1.\n",
        "\n",
        "- This information is valuable for understanding the vaccination patterns within schools, and it can help inform vaccination strategies and interventions. It suggests that efforts to increase the vaccination coverage for either the first dose or the second dose in either students or staff are likely to impact the corresponding dose in a similar manner.\n",
        "\n"
      ],
      "metadata": {
        "id": "PdAv1r8fzMZL"
      }
    },
    {
      "cell_type": "markdown",
      "source": [
        "### Conclusion"
      ],
      "metadata": {
        "id": "FKx2LNGYJggm"
      }
    },
    {
      "cell_type": "markdown",
      "source": [
        "Conclude your case study by summarizing the key findings and insights from your analysis.\n",
        "Provide recommendations or insights on when each tool may be more suitable or preferable based on the specific needs of EDA projects."
      ],
      "metadata": {
        "id": "GztDUFU27vqr"
      }
    },
    {
      "cell_type": "markdown",
      "source": [
        "**Summarization:**\n",
        "\n",
        "The analysis of vaccination data in schools reveals noteworthy trends:\n",
        "\n",
        "1. **Dose 1 for Students:**\n",
        "   - The top 13 schools receiving the highest dose 1 for students are led by SJK(C) Chung Hwa with a lower bin of 99.15 and a frequency of 15, followed by SJK(C) Sin Min at the same lower bin (99.15) with a frequency of 10.\n",
        "\n",
        "2. **Dose 2 for Students:**\n",
        "   - SJK(C) Chung Hwa maintains its lead for dose 2 in students with a lower bin of 99.11 and a frequency of 14. SJK(C) Sin Min follows with a lower bin of 99.12 and a frequency of 7.\n",
        "\n",
        "3. **Dose 1 for Staff:**\n",
        "   - SJK(C) Chung Hwa again leads for dose 1 in staff with a lower bin of 99.8 and a frequency of 24. SJK(C) Sin Min follows closely with the same lower bin (99.8) but a higher frequency of 111. Doses 2 and 3 for staff exhibit identical records.\n",
        "\n",
        "4. **Correlation Analysis:**\n",
        "   - High correlations are observed between dose 1 and dose 2 for both students and staff. This indicates a strong positive relationship, suggesting that schools with higher percentages of individuals receiving the first dose also tend to have higher percentages receiving the second dose. Correlation values are likely close to 1.\n",
        "\n",
        "**Insights:**\n",
        "\n",
        "1. **Relationship Across Doses:**\n",
        "   - There is a clear link between the administration of dose 1 and dose 2 for both students and staff. This implies a consistent pattern where schools with higher initial vaccination rates are likely to maintain similar rates for the second dose.\n",
        "\n",
        "2. **Consistency in Staff Vaccination:**\n",
        "   - The staff's vaccination pattern shows consistency, especially for dose 1, with a notable frequency at SJK(C) Chung Hwa and SJK(C) Sin Min. The uniformity in doses 2 and 3 suggests a stable vaccination trend among staff members.\n",
        "\n",
        "3. **Informative Correlation Graphs:**\n",
        "   - The high correlation values on the graphs provide quantitative evidence of the observed relationships. This information is crucial for understanding the dynamics of vaccination within schools.\n",
        "\n",
        "4. **Guidance for Vaccination Strategies:**\n",
        "   - The findings suggest that strategies aimed at increasing vaccination coverage, whether for the first or second dose, are likely to have a parallel impact on both students and staff. This insight is valuable for informed decision-making in vaccination programs within educational institutions.\n",
        "\n",
        "* In conclusion, the analysis provides actionable insights that can guide targeted vaccination interventions, ensuring a comprehensive and effective approach to vaccination within school settings.\n",
        "\n",
        "\n",
        "**Another EDA Tools insight**\n",
        "\n",
        "- If you require extensive customization options, Pandas-Profiling might be more suitable as it offers a detailed report with various customization settings.\n",
        "\n",
        "- Autoviz is designed for users who want quick visualizations without much manual configuration.\n",
        "\n"
      ],
      "metadata": {
        "id": "bT_Vls2LtEz-"
      }
    },
    {
      "cell_type": "markdown",
      "source": [
        "### Reference"
      ],
      "metadata": {
        "id": "9tCqRW248i1O"
      }
    },
    {
      "cell_type": "markdown",
      "source": [
        "- sfu-db/dataprep: Open-source low code data preparation library in python. Collect, clean and visualization your data in python with a few lines of code. (n.d.). GitHub. Retrieved November 11, 2023, from https://github.com/sfu-db/dataprep\n",
        "\n",
        "- Yi, M. (n.d.). A Complete Guide to Line Charts | Tutorial by Chartio. Chartio. Retrieved November 11, 2023, from https://chartio.com/learn/charts/line-chart-complete-guide/\n"
      ],
      "metadata": {
        "id": "q4rIImuPzQts"
      }
    }
  ]
}
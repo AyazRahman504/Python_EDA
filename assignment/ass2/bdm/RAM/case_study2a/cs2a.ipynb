{
  "cells": [
    {
      "cell_type": "markdown",
      "metadata": {
        "id": "view-in-github",
        "colab_type": "text"
      },
      "source": [
        "<a href=\"https://colab.research.google.com/github/drshahizan/Python_EDA/blob/main/assignment/ass2/bdm/RAM/case_study2a/cs2a.ipynb\" target=\"_parent\"><img src=\"https://colab.research.google.com/assets/colab-badge.svg\" alt=\"Open In Colab\"/></a>"
      ]
    },
    {
      "cell_type": "markdown",
      "metadata": {
        "id": "TMbYjKTZsEiv"
      },
      "source": [
        "\n",
        "**Project Title -- Air Pollution Index (API) in Malaysia**\n",
        "\n",
        "Data from 2005 to 2017 are retrieved from data.gov.my under MOSTI, DOE and KeTSA. The data is licensed under Creative Commons Attribution and Open Definition 2.1.\n",
        "\n",
        "The data from 2018 to current date are retrieved directly from APIMS website. Data might still be under copyright (unclear) but it's safe to assume the data will eventually be released under the same license as above.\n",
        "\n",
        "\n",
        "Project Team:\n",
        "\n",
        "| Name          | Matric Number  | Task            |\n",
        "| ------------- | -------------- | --------------- |\n",
        "| MOHAMMED RAZA ASFAK CHIDIMAR     | MCS231004       | Case Study 1: Step by step EDA          |\n",
        "| AYAZ RAHMAN BHUIYAN    | MCS232001        | Case Study 2a : Pandas-Profiling          |\n",
        "| MUSAB IBNE AHMAD  | MCS231017        | Case Study 2b, 2c : DataPrep, SweetViz          |\n",
        "\n",
        "\n",
        "\n",
        "In this case study, We will study Pandas Profiling Automated Exploratory Data Analysis (EDA) Tool. We will demonstrate how Pandas Profiling can be implemented step by step using a Malaysian dataset. Additionally, we will summarize the pros and cons of the Automated EDA Tools used.\n"
      ]
    },
    {
      "cell_type": "markdown",
      "metadata": {
        "id": "LDz5RmVtsHuB"
      },
      "source": [
        "**Implementation of Automated EDA Tools**"
      ]
    },
    {
      "cell_type": "markdown",
      "metadata": {
        "id": "paUm8mRWsKef"
      },
      "source": [
        "**STEP 1: Pandas Profiling Installation ~Deprecated 'pandas-profiling' package, use 'ydata-profiling' instead**"
      ]
    },
    {
      "cell_type": "code",
      "execution_count": null,
      "metadata": {
        "id": "Q6rZpoDwBjz4"
      },
      "outputs": [],
      "source": [
        "pip install notebook\n",
        "pip install -U ydata-profiling"
      ]
    },
    {
      "cell_type": "markdown",
      "metadata": {
        "id": "we_syJsLsi-3"
      },
      "source": [
        "**STEP 2: Import Python libraries that required for Automated EDA using Pandas-Profiling**"
      ]
    },
    {
      "cell_type": "code",
      "execution_count": null,
      "metadata": {
        "id": "Bao0eEw_sdTM"
      },
      "outputs": [],
      "source": [
        "from pathlib import Path\n",
        "import pandas as pd\n",
        "from ydata_profiling import ProfileReport"
      ]
    },
    {
      "cell_type": "markdown",
      "metadata": {
        "id": "PSfBzosls9hx"
      },
      "source": [
        "**STEP 3: Retrieving the Cleaned Dataset**"
      ]
    },
    {
      "cell_type": "code",
      "execution_count": null,
      "metadata": {
        "id": "6AdDXB5LtH-i"
      },
      "outputs": [],
      "source": [
        "df = pd.read_csv(\"apims-20kdata.csv\")"
      ]
    },
    {
      "cell_type": "markdown",
      "metadata": {
        "id": "3gEq6ix3uwdZ"
      },
      "source": [
        "**STEP 4: Generate the profile**"
      ]
    },
    {
      "cell_type": "code",
      "execution_count": null,
      "metadata": {
        "id": "1CFmNxGGBjz6"
      },
      "outputs": [],
      "source": [
        "profile = ProfileReport(\n",
        "    df, title=\"Air Pollution Index (API) in Malaysia - EDA\", html={\"style\": {\"full_width\": True}}, sort=None\n",
        ")\n",
        "profile"
      ]
    },
    {
      "cell_type": "markdown",
      "metadata": {
        "id": "D-4v1m0dwMue"
      },
      "source": [
        "### **Conclusion and Inferences**"
      ]
    },
    {
      "cell_type": "markdown",
      "metadata": {
        "id": "HkoHkRdkweyq"
      },
      "source": [
        "For a comprehensive analysis, researchers and environmental agencies often study trends over time, identifying sources of pollution and implementing measures to improve air quality. Public awareness campaigns and policy interventions may also be designed based on this analysis to address specific pollution challenges in different Malaysian states."
      ]
    },
    {
      "cell_type": "markdown",
      "metadata": {
        "id": "ii_gVXb-xYIo"
      },
      "source": [
        "Pros and Cons of conducting Automated EDA using Pandas-Profiling"
      ]
    },
    {
      "cell_type": "markdown",
      "metadata": {
        "id": "XMwSfKSr0KaN"
      },
      "source": [
        "### Pros\n",
        "\n",
        "(1) Pandas Profiling is helpful for exploratory data analysis since it offers a quick and simple method of conducting an initial data analysis.\n",
        "\n",
        "(2) As opposed to manually creating code to investigate the data, it creates a comprehensive report with summary statistics, data type information, data distributions, correlations, and more, which can save a significant amount of time\n",
        "\n",
        "(3) You can use the visualizations in the library to better comprehend your data graphically. Examples of these visualizations are correlation matrices, scatter plots, and histograms.\n",
        "\n",
        "(4) Issues with data quality, such as missing values, outliers, and duplicate rows, can be swiftly identified with the aid of this report.\n",
        "\n",
        "(5) To improve teamwork, the created report can be shared with stakeholders or other team members in an easy-to-use HTML format.\n",
        "\n",
        "(6) By choosing which analyses to include and adjusting settings, you may somewhat tailor the report.\n",
        "\n",
        "### Cons\n",
        "\n",
        "(1) Large dataset report generation can be resource-intensive, resulting in lengthy processing times or even memory leaks. In these situations, you may need to sample or subset your data.\n",
        "\n",
        "(2) Although Pandas Profiling offers a wealth of helpful data, it is not capable of carrying out more complex statistical analysis or machine learning activities. It works well for initial data investigation.\n",
        "\n",
        "(3) Pandas Profiling might not be the ideal option if you need to generate reports programmatically as part of an automated data processing pipeline because it involves manual intervention to generate and see the results.\n",
        "\n",
        "(4) Although you can alter certain parts of the report, if you require extremely personalized data analysis and visualization, you could find it to be restrictive.\n",
        "\n",
        "(5) Pandas Profiling is a third-party library, maintenance problems could arise if it isn't always compatible with the most recent Pandas or Python versions."
      ]
    },
    {
      "cell_type": "markdown",
      "metadata": {
        "id": "9cVW_sl138Uq"
      },
      "source": [
        "### **References**"
      ]
    },
    {
      "cell_type": "markdown",
      "metadata": {
        "id": "Q81UdMfP4Bvr"
      },
      "source": [
        "GitHub - Ydataai/Ydata-profiling: 1 Line of Code Data Quality Profiling & Exploratory Data Analysis for Pandas and Spark DataFrames. (n.d.). https://github.com/ydataai/ydata-profiling"
      ]
    }
  ],
  "metadata": {
    "colab": {
      "provenance": [],
      "include_colab_link": true
    },
    "kernelspec": {
      "display_name": "Python 3 (ipykernel)",
      "language": "python",
      "name": "python3"
    },
    "language_info": {
      "codemirror_mode": {
        "name": "ipython",
        "version": 3
      },
      "file_extension": ".py",
      "mimetype": "text/x-python",
      "name": "python",
      "nbconvert_exporter": "python",
      "pygments_lexer": "ipython3",
      "version": "3.11.5"
    }
  },
  "nbformat": 4,
  "nbformat_minor": 0
}
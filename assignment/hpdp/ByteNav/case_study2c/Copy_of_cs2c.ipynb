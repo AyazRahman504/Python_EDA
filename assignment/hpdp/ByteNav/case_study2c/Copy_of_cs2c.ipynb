{
  "nbformat": 4,
  "nbformat_minor": 0,
  "metadata": {
    "colab": {
      "provenance": [],
      "toc_visible": true,
      "authorship_tag": "ABX9TyMa5Q2Uj9/iCfqVYFedI6oM",
      "include_colab_link": true
    },
    "kernelspec": {
      "name": "python3",
      "display_name": "Python 3"
    },
    "language_info": {
      "name": "python"
    }
  },
  "cells": [
    {
      "cell_type": "markdown",
      "metadata": {
        "id": "view-in-github",
        "colab_type": "text"
      },
      "source": [
        "<a href=\"https://colab.research.google.com/github/drshahizan/Python_EDA/blob/main/assignment/hpdp/ByteNav/case_study2c/Copy_of_cs2c.ipynb\" target=\"_parent\"><img src=\"https://colab.research.google.com/assets/colab-badge.svg\" alt=\"Open In Colab\"/></a>"
      ]
    },
    {
      "cell_type": "markdown",
      "source": [
        "# Assignment 2 (Case Study 2c)\n",
        "## Group: Byte Navigators (ByteNav)\n",
        "\n",
        "## Group Member:\n",
        "<table>\n",
        "  <tr>\n",
        "    <th>Name</th>\n",
        "    <th>Matric Number</th>\n",
        "  </tr>\n",
        "  <tr>\n",
        "    <th>LOO ZHI YUAN</th>\n",
        "    <th>A21EC0197</th>\n",
        "  </tr>\n",
        "  <tr>\n",
        "    <th>LAU YEE CHI</th>\n",
        "    <th>A21EC0042</th>\n",
        "  </tr>\n",
        "  <tr>\n",
        "    <th>SOO WAN YING</th>\n",
        "    <th>A21EC0227</th>\n",
        "  </tr>\n",
        "    <tr>\n",
        "    <th>YEW RUI XIANG</th>\n",
        "    <th>A21EC0149</th>\n",
        "  </tr>\n",
        "</table>"
      ],
      "metadata": {
        "id": "1708IP-PMPpw"
      }
    },
    {
      "cell_type": "markdown",
      "source": [
        "## 1. Selecting Automated EDA Tools:\n",
        "DataPrep is a Python library was created to make the preprocessing and data cleaning steps of the data analysis process easier. It facilitates data exploration with summary statistics and visualizations, and offers user-friendly functions for managing outliers, duplicate records, and missing values. Through the optimization of these fundamental data preparation processes, DataPrep seeks to improve the overall workflow efficiency and efficacy of data analysis.\n",
        "\n",
        "In this case study, we are mainly using DataPrep as the automated EDA tool to analyze data from a Malaysian dataset.\n",
        "\n",
        "Source:\n",
        "[DataPrep(GitHub)](https://github.com/sfu-db/dataprep/)\n",
        "[DataPrep(Website)](https://dataprep.ai/)"
      ],
      "metadata": {
        "id": "atLt8g0xOEDd"
      }
    },
    {
      "cell_type": "markdown",
      "source": [
        "### 1.1 Install DataPrep\n",
        "The step below is use to install the DataPrep."
      ],
      "metadata": {
        "id": "PNcB0tjWWdG2"
      }
    },
    {
      "cell_type": "code",
      "source": [
        "!pip install -U dataprep"
      ],
      "metadata": {
        "id": "NrngbZimWwgE"
      },
      "execution_count": null,
      "outputs": []
    },
    {
      "cell_type": "markdown",
      "source": [
        "## 2. Malaysian Dataset:\n",
        "In this case study, we have choose a dataset from GitHub of [COVID-19 Immunisation Task Force (CITF Malaysia)](https://github.com/CITF-Malaysia/citf-public/blob/main/vaccination/vax_state.csv) by Ministry of Health of (MoH) Malaysia. In this dataset, it consists of 51 columns which is included the date, state, daily 1st dose (daily_partial), daily 2nd dose (daily_full), daily 1st booster dose (daily_booster), cummulative dose in every state and daily dose by diffrent type of vaccine brands. Moreover, the dataset contains up to 15679 rows of valuable data.\n",
        "\n",
        "Link for Dataset:[Vaccination by State in Malaysia](https://raw.githubusercontent.com/CITF-Malaysia/citf-public/main/vaccination/vax_state.csv)"
      ],
      "metadata": {
        "id": "15uW23O6P6YR"
      }
    },
    {
      "cell_type": "markdown",
      "source": [
        "### 2.1. Import Dataset"
      ],
      "metadata": {
        "id": "3TJp9YA_Uj9O"
      }
    },
    {
      "cell_type": "code",
      "source": [
        "from google.colab import drive\n",
        "drive.mount('/content/drive')\n",
        "\n",
        "#Mount google colab to my personal google drive"
      ],
      "metadata": {
        "id": "JSVykD8CUsuC"
      },
      "execution_count": null,
      "outputs": []
    },
    {
      "cell_type": "code",
      "source": [
        "import pandas as pd\n",
        "vax = pd.read_csv('/content/drive/MyDrive/vax_state.csv')\n",
        "\n",
        "#Import pandas library and use it to read the dataset from my google drive"
      ],
      "metadata": {
        "id": "hdpdFARHaFC1"
      },
      "execution_count": null,
      "outputs": []
    },
    {
      "cell_type": "markdown",
      "source": [
        "## 3. Data Preparation:"
      ],
      "metadata": {
        "id": "sqQNKhDbUaYJ"
      }
    },
    {
      "cell_type": "markdown",
      "source": [
        "### 3.1. Data Exploration"
      ],
      "metadata": {
        "id": "krVw_ycjq2FK"
      }
    },
    {
      "cell_type": "code",
      "source": [
        "vax.head()\n",
        "\n",
        "#Display the first 5 rows of the dataset"
      ],
      "metadata": {
        "id": "9dsfF_LJqH0y"
      },
      "execution_count": null,
      "outputs": []
    },
    {
      "cell_type": "code",
      "source": [
        "vax.info()\n",
        "\n",
        "#Display the summary of the dataset"
      ],
      "metadata": {
        "id": "5A8UJM5_qRSK"
      },
      "execution_count": null,
      "outputs": []
    },
    {
      "cell_type": "code",
      "source": [
        "vax.describe()\n",
        "\n",
        "#Display descriptive statistics of the numerical columns in the dataset"
      ],
      "metadata": {
        "id": "_kgQ6xsLqVoD"
      },
      "execution_count": null,
      "outputs": []
    },
    {
      "cell_type": "code",
      "source": [
        "vax.shape\n",
        "\n",
        "#Display the dimensions of the dataset"
      ],
      "metadata": {
        "id": "8ZPiFfjQvZEk"
      },
      "execution_count": null,
      "outputs": []
    },
    {
      "cell_type": "code",
      "source": [
        "vax.index\n",
        "\n",
        "#Display the index of the dataset"
      ],
      "metadata": {
        "id": "HdBWI28vynQC"
      },
      "execution_count": null,
      "outputs": []
    },
    {
      "cell_type": "markdown",
      "source": [
        "### 3.2. Handle Missing Values"
      ],
      "metadata": {
        "id": "0Xw7uguqrDe2"
      }
    },
    {
      "cell_type": "code",
      "source": [
        "vax.isna().sum()\n",
        "\n",
        "#Identify the missing values and count it's number"
      ],
      "metadata": {
        "id": "JjJrJro1rI8s"
      },
      "execution_count": null,
      "outputs": []
    },
    {
      "cell_type": "markdown",
      "source": [
        "Since there is no null value in the dataset, does not need to use `dropna()` to remove the rows that contain missing values and `fillna()` to fill in the missing values by using a specified value or a statistical measure such as mean, median and mode."
      ],
      "metadata": {
        "id": "ij9LXrnrsf3X"
      }
    },
    {
      "cell_type": "markdown",
      "source": [
        "### 3.3. Handle Duplicated\n",
        "\n"
      ],
      "metadata": {
        "id": "J6WALpuztgth"
      }
    },
    {
      "cell_type": "code",
      "source": [
        "vax.duplicated().sum()\n",
        "\n",
        "#Identify the duplicated rows and count it's number"
      ],
      "metadata": {
        "id": "DKf9Mc1Nt04A"
      },
      "execution_count": null,
      "outputs": []
    },
    {
      "cell_type": "markdown",
      "source": [
        "Since there is no duplicate rows in the dataset, does not need to use `drop_duplicates()` to remove the duplicate rows."
      ],
      "metadata": {
        "id": "ZgZnxGjhu6lt"
      }
    },
    {
      "cell_type": "markdown",
      "source": [
        "## 4. Implementation of Automated EDA Tools:"
      ],
      "metadata": {
        "id": "guN7b9aawQ96"
      }
    },
    {
      "cell_type": "markdown",
      "source": [
        "### 4.1. Load Modules"
      ],
      "metadata": {
        "id": "QMjZSaPF2X2G"
      }
    },
    {
      "cell_type": "markdown",
      "source": [
        "Load the neccessary modules and modules that possible to use by using the code segment below."
      ],
      "metadata": {
        "id": "E05FOC4WV5zQ"
      }
    },
    {
      "cell_type": "code",
      "source": [
        "from dataprep.eda import *\n",
        "from dataprep.datasets import load_dataset\n",
        "from dataprep.eda import plot, plot_correlation, plot_missing, plot_diff, create_report\n",
        "\n",
        "#Load the modules of DataPrep"
      ],
      "metadata": {
        "id": "FHJRI1Oiy4Cc"
      },
      "execution_count": null,
      "outputs": []
    },
    {
      "cell_type": "markdown",
      "source": [
        "### 4.2. How to load the dataset into the tool"
      ],
      "metadata": {
        "id": "gQMDV0vN2cAa"
      }
    },
    {
      "cell_type": "code",
      "source": [
        "vax = pd.read_csv('/content/drive/MyDrive/vax_state.csv')\n",
        "\n",
        "#Read the dataset from my google drive"
      ],
      "metadata": {
        "id": "HKwyHdny2zCb"
      },
      "execution_count": null,
      "outputs": []
    },
    {
      "cell_type": "markdown",
      "source": [
        "### 4.3. How to generate basic statistics and visualizations"
      ],
      "metadata": {
        "id": "hyQiXgnG25tJ"
      }
    },
    {
      "cell_type": "markdown",
      "source": [
        "#### 4.3.1. Analyze column distributions"
      ],
      "metadata": {
        "id": "Cqjh0Bbw29va"
      }
    },
    {
      "cell_type": "code",
      "source": [
        "plot(vax)\n",
        "\n",
        "#Plots the distribution of each column and computes dataset statistics"
      ],
      "metadata": {
        "id": "4LgxpF6H3GLj"
      },
      "execution_count": null,
      "outputs": []
    },
    {
      "cell_type": "code",
      "source": [
        "plot(vax, 'daily')\n",
        "\n",
        "#Plots the distribution of column daily in various ways, and computes its statistics"
      ],
      "metadata": {
        "id": "fEfECuga7xBm"
      },
      "execution_count": null,
      "outputs": []
    },
    {
      "cell_type": "markdown",
      "source": [
        "#### 4.3.2. Analyze correlations"
      ],
      "metadata": {
        "id": "06_8jxLq5zuf"
      }
    },
    {
      "cell_type": "code",
      "source": [
        "plot_correlation(vax)\n",
        "\n",
        "#Plots correlation matrices of the dataset"
      ],
      "metadata": {
        "id": "lDAWbGSo53Uo"
      },
      "execution_count": null,
      "outputs": []
    },
    {
      "cell_type": "code",
      "source": [
        "plot_correlation(vax, 'daily')\n",
        "\n",
        "#Plots the most correlated columns to column daily"
      ],
      "metadata": {
        "id": "-VVt4BmYD95t"
      },
      "execution_count": null,
      "outputs": []
    },
    {
      "cell_type": "markdown",
      "source": [
        "Since there is no missing value, we do not need to analyze missing values by using `plot_missing()`."
      ],
      "metadata": {
        "id": "YSMv1U0N6Qe6"
      }
    },
    {
      "cell_type": "markdown",
      "source": [
        "#### 4.3.3. Create report"
      ],
      "metadata": {
        "id": "zhrDpsc_BWiD"
      }
    },
    {
      "cell_type": "code",
      "source": [
        "create_report(vax)\n",
        "\n",
        "#Generate profile reports from the dataset"
      ],
      "metadata": {
        "id": "orKMZCgaBi8O"
      },
      "execution_count": null,
      "outputs": []
    },
    {
      "cell_type": "markdown",
      "source": [
        "### 4.4. How to explore relationships and patterns in the data"
      ],
      "metadata": {
        "id": "gbH4Z4ZbCyJ2"
      }
    },
    {
      "cell_type": "markdown",
      "source": [
        "#### 4.4.1. Categorical vs Numerical"
      ],
      "metadata": {
        "id": "aLlqPBSfETwD"
      }
    },
    {
      "cell_type": "code",
      "source": [
        "plot(vax, 'state', 'daily')\n",
        "\n",
        "#Generates plots depicting the Categorical vs Numerical relationship between columns state and daily"
      ],
      "metadata": {
        "id": "QIfdTMpOC5Ya"
      },
      "execution_count": null,
      "outputs": []
    },
    {
      "cell_type": "markdown",
      "source": [
        "#### 4.4.2. Numerical vs Numerical"
      ],
      "metadata": {
        "id": "KraaqWpaFVkM"
      }
    },
    {
      "cell_type": "code",
      "source": [
        "plot(vax, 'daily_partial', 'daily_full')\n",
        "\n",
        "#Generates plots depicting the Numerical vs Numerical relationship between columns daily_partial and daily_full"
      ],
      "metadata": {
        "id": "eRnx20-eFGIF"
      },
      "execution_count": null,
      "outputs": []
    },
    {
      "cell_type": "markdown",
      "source": [
        "### 4.5. Any unique features or capabilities of each tool that you find noteworthy\n",
        "\n"
      ],
      "metadata": {
        "id": "wmIlWboJDLPV"
      }
    },
    {
      "cell_type": "code",
      "source": [
        " plot(vax, \"daily\", display = [\"Histogram\"])\n",
        "\n",
        " #Plots the column daily and specified to display in histogram"
      ],
      "metadata": {
        "id": "_H8Kx6UTDMG5"
      },
      "execution_count": null,
      "outputs": []
    },
    {
      "cell_type": "code",
      "source": [
        "plot(vax, \"daily\", display = [\"Histogram\"], config = {\"hist.bins\": 1000, \"height\":500})\n",
        "\n",
        "#Specified the size of the histogram"
      ],
      "metadata": {
        "id": "GTPJ2mGaDgWS"
      },
      "execution_count": null,
      "outputs": []
    },
    {
      "cell_type": "markdown",
      "source": [
        "## 5. Pros and Cons Analysis:"
      ],
      "metadata": {
        "id": "JYkzWimvFm7P"
      }
    },
    {
      "cell_type": "markdown",
      "source": [
        "### Pros\n",
        "\n",
        "\n",
        "1.   **10X Faster:** DataPrep.EDA's highly optimized Dask-based computing module allows it to be 10X faster than profiling tools based on Pandas.\n",
        "\n",
        "2.   **Interactive Visualization:** A report's appearance is improved for end users when DataPrep.EDA creates interactive visualizations for it.\n",
        "\n",
        "3. **Big Data Support:** By taking a Dask dataframe as input, DataPrep.EDA inherently supports big data kept in a Dask cluster.\n",
        "\n",
        "4. **Better API Design:** DataPrep providing the great `.plot()` function that help people to understand the distributions and dataset easily.\n",
        "\n",
        "\n"
      ],
      "metadata": {
        "id": "25_1WNV1ZAq5"
      }
    },
    {
      "cell_type": "markdown",
      "source": [
        "### Cons\n",
        "\n",
        "\n",
        "1.   **Dependency on the Quality of Data:** The quality of the data might affect the results of DataPrep. The results outcome may be deceptive if the data is noisy, erroneous, or incomplete as the process is mostly automated.\n",
        "\n",
        "2.  **Possibility of Misinterpreting:** When dealing with large and complex dataset, there is possible to misinterpret the patterns or making false inferences from statistical summaries and visualizations.\n",
        "\n",
        "3. **Limited Functions:** In DataPrep.EDA, there are very limited function provided for EDA process. It might affect people to making further analysis process.\n"
      ],
      "metadata": {
        "id": "ai2uDSVkZLai"
      }
    },
    {
      "cell_type": "markdown",
      "source": [
        "### Insights of DataPrep.EDA Tool on the Malaysian Dataset\n",
        "\n",
        "As the quickest and easiest Python Exploratory Data Analysis (EDA) tool, DataPrep.EDA excels at providing quick code comprehension of Pandas/Dask DataFrames. With its interactive visualizations for improved user appeal, 10 times faster than Pandas-based tools, and seamless big data support in Dask clusters, its `create_report()` function quickly produces informative profile reports. Because of the tool's novel design, which prioritizes task-centric usability, users can declaratively define EDA tasks with just one call. Key patterns are automatically highlighted by auto-insights, and easy customization of visualizations is made possible by a comprehensive how-to guide. In Python's EDA landscape, DataPrep.EDA is a strong and intuitive solution."
      ],
      "metadata": {
        "id": "cVfCAuBwi2K7"
      }
    },
    {
      "cell_type": "markdown",
      "source": [
        "## 6. Conclusion:\n",
        "\n",
        "Based on my case study, there is a noteworthy key findings which is the 'state' Selangor has the highest number of complete three doses by studying the relationship between columns 'state' and 'daily'. Other than that, we also can gained more valueble knowledges and data from the result of DataPrep.EDA by utilising the functions such as `create_report()`, `plot()`, `plot_correlation()` and more.\n",
        "\n",
        "In conclusion, DataPrep.EDA transforms Python's EDA environment with unmatched effectiveness. It decodes Pandas/Dask DataFrames 10 times faster than traditional tools, providing quick insights. User engagement is increased by interactive visualizations integrated into profile reports. Beyond speed, the tool handles large data in Dask clusters with ease. Its task-centric API automates the creation of visualizations while streamlining EDA tasks. Auto-insights speed up the process of finding patterns, and an easy-to-follow guide for customization is included. DataPrep.EDA is a powerful yet easy-to-use EDA solution that gives analysts and data scientists a flexible tool for quickly deciphering complicated datasets. Its versatile approach, which combines usability, speed, and interactivity, makes it an essential tool for Python data analysis. On the other hand, it is still having some disadvantages that still have solution, it is all depends on the user."
      ],
      "metadata": {
        "id": "WlMzyuKlFp-x"
      }
    },
    {
      "cell_type": "markdown",
      "source": [
        "## 7. References:"
      ],
      "metadata": {
        "id": "Y8ZeKDYUFuDF"
      }
    },
    {
      "cell_type": "markdown",
      "source": [
        "1.   [DataPrep(GitHub)](https://github.com/sfu-db/dataprep/)\n",
        "2.   [DataPrep(Website)](https://dataprep.ai/)\n",
        "\n",
        "\n"
      ],
      "metadata": {
        "id": "7636PYs9RPL5"
      }
    }
  ]
}
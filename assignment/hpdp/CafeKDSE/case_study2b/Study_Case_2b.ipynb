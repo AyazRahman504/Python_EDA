{
  "nbformat": 4,
  "nbformat_minor": 0,
  "metadata": {
    "colab": {
      "provenance": [],
      "authorship_tag": "ABX9TyO2BaknMcnZOkdyP2iw705X",
      "include_colab_link": true
    },
    "kernelspec": {
      "name": "python3",
      "display_name": "Python 3"
    },
    "language_info": {
      "name": "python"
    },
    "widgets": {
      "application/vnd.jupyter.widget-state+json": {
        "8f95cd9bdde741da8eec4178990fe3bf": {
          "model_module": "@jupyter-widgets/controls",
          "model_name": "ButtonModel",
          "model_module_version": "1.5.0",
          "state": {
            "_dom_classes": [],
            "_model_module": "@jupyter-widgets/controls",
            "_model_module_version": "1.5.0",
            "_model_name": "ButtonModel",
            "_view_count": null,
            "_view_module": "@jupyter-widgets/controls",
            "_view_module_version": "1.5.0",
            "_view_name": "ButtonView",
            "button_style": "",
            "description": "Toggle Pandas/Lux",
            "disabled": false,
            "icon": "",
            "layout": "IPY_MODEL_b9d9f89f4c1049999557aa97c22df287",
            "style": "IPY_MODEL_5dffc0c9ff364ba4b37988628d2e61a6",
            "tooltip": ""
          }
        },
        "b9d9f89f4c1049999557aa97c22df287": {
          "model_module": "@jupyter-widgets/base",
          "model_name": "LayoutModel",
          "model_module_version": "1.2.0",
          "state": {
            "_model_module": "@jupyter-widgets/base",
            "_model_module_version": "1.2.0",
            "_model_name": "LayoutModel",
            "_view_count": null,
            "_view_module": "@jupyter-widgets/base",
            "_view_module_version": "1.2.0",
            "_view_name": "LayoutView",
            "align_content": null,
            "align_items": null,
            "align_self": null,
            "border": null,
            "bottom": null,
            "display": null,
            "flex": null,
            "flex_flow": null,
            "grid_area": null,
            "grid_auto_columns": null,
            "grid_auto_flow": null,
            "grid_auto_rows": null,
            "grid_column": null,
            "grid_gap": null,
            "grid_row": null,
            "grid_template_areas": null,
            "grid_template_columns": null,
            "grid_template_rows": null,
            "height": null,
            "justify_content": null,
            "justify_items": null,
            "left": null,
            "margin": null,
            "max_height": null,
            "max_width": null,
            "min_height": null,
            "min_width": null,
            "object_fit": null,
            "object_position": null,
            "order": null,
            "overflow": null,
            "overflow_x": null,
            "overflow_y": null,
            "padding": null,
            "right": null,
            "top": "5px",
            "visibility": null,
            "width": "140px"
          }
        },
        "5dffc0c9ff364ba4b37988628d2e61a6": {
          "model_module": "@jupyter-widgets/controls",
          "model_name": "ButtonStyleModel",
          "model_module_version": "1.5.0",
          "state": {
            "_model_module": "@jupyter-widgets/controls",
            "_model_module_version": "1.5.0",
            "_model_name": "ButtonStyleModel",
            "_view_count": null,
            "_view_module": "@jupyter-widgets/base",
            "_view_module_version": "1.2.0",
            "_view_name": "StyleView",
            "button_color": null,
            "font_weight": ""
          }
        },
        "e6eadea803a64456a946449e81aba6db": {
          "model_module": "@jupyter-widgets/output",
          "model_name": "OutputModel",
          "model_module_version": "1.0.0",
          "state": {
            "_dom_classes": [],
            "_model_module": "@jupyter-widgets/output",
            "_model_module_version": "1.0.0",
            "_model_name": "OutputModel",
            "_view_count": null,
            "_view_module": "@jupyter-widgets/output",
            "_view_module_version": "1.0.0",
            "_view_name": "OutputView",
            "layout": "IPY_MODEL_10e13f6bda57472baf6b9b09ad8afdd6",
            "msg_id": "",
            "outputs": [
              {
                "output_type": "display_data",
                "data": {
                  "text/plain": "             date              state      district  partial_comorbid  \\\n0      2021-02-24              Johor    Batu Pahat                 0   \n1      2021-02-24              Johor   Johor Bahru                 0   \n2      2021-02-24              Johor        Kluang                 0   \n3      2021-02-24              Johor   Kota Tinggi                 0   \n4      2021-02-24              Johor         Kulai                 0   \n...           ...                ...           ...               ...   \n156415 2023-11-10         Terengganu        Marang                 0   \n156416 2023-11-10         Terengganu         Setiu                 0   \n156417 2023-11-10  W.P. Kuala Lumpur  Kuala Lumpur                 0   \n156418 2023-11-10        W.P. Labuan        Labuan                 0   \n156419 2023-11-10     W.P. Putrajaya     Putrajaya                 0   \n\n        full_comorbid  booster_comorbid  booster2_comorbid  partial_oku  \\\n0                   0                 0                  0            0   \n1                   0                 0                  0            0   \n2                   0                 0                  0            0   \n3                   0                 0                  0            0   \n4                   0                 0                  0            0   \n...               ...               ...                ...          ...   \n156415              0                 0                  0            0   \n156416              0                 0                  0            0   \n156417              0                 2                  1            0   \n156418              0                 0                  0            0   \n156419              0                 0                  0            0   \n\n        full_oku  booster_oku  booster2_oku  partial_hcw  full_hcw  \\\n0              0            0             0            0         0   \n1              0            0             0            0         0   \n2              0            0             0            0         0   \n3              0            0             0            0         0   \n4              0            0             0            0         0   \n...          ...          ...           ...          ...       ...   \n156415         0            0             0            0         0   \n156416         0            0             0            0         0   \n156417         0            1             0            0         0   \n156418         0            0             0            0         0   \n156419         0            0             0            0         0   \n\n        booster_hcw  booster2_hcw  \n0                 0             0  \n1                 0             0  \n2                 0             0  \n3                 0             0  \n4                 0             0  \n...             ...           ...  \n156415            0             0  \n156416            0             0  \n156417            0             0  \n156418            0             0  \n156419            0             0  \n\n[156420 rows x 15 columns]",
                  "text/html": "\n  <div id=\"df-e3d97cae-5e3e-4b63-9a32-200b3d656c15\" class=\"colab-df-container\">\n    <div>\n<style scoped>\n    .dataframe tbody tr th:only-of-type {\n        vertical-align: middle;\n    }\n\n    .dataframe tbody tr th {\n        vertical-align: top;\n    }\n\n    .dataframe thead th {\n        text-align: right;\n    }\n</style>\n<table border=\"1\" class=\"dataframe\">\n  <thead>\n    <tr style=\"text-align: right;\">\n      <th></th>\n      <th>date</th>\n      <th>state</th>\n      <th>district</th>\n      <th>partial_comorbid</th>\n      <th>full_comorbid</th>\n      <th>booster_comorbid</th>\n      <th>booster2_comorbid</th>\n      <th>partial_oku</th>\n      <th>full_oku</th>\n      <th>booster_oku</th>\n      <th>booster2_oku</th>\n      <th>partial_hcw</th>\n      <th>full_hcw</th>\n      <th>booster_hcw</th>\n      <th>booster2_hcw</th>\n    </tr>\n  </thead>\n  <tbody>\n    <tr>\n      <th>0</th>\n      <td>2021-02-24</td>\n      <td>Johor</td>\n      <td>Batu Pahat</td>\n      <td>0</td>\n      <td>0</td>\n      <td>0</td>\n      <td>0</td>\n      <td>0</td>\n      <td>0</td>\n      <td>0</td>\n      <td>0</td>\n      <td>0</td>\n      <td>0</td>\n      <td>0</td>\n      <td>0</td>\n    </tr>\n    <tr>\n      <th>1</th>\n      <td>2021-02-24</td>\n      <td>Johor</td>\n      <td>Johor Bahru</td>\n      <td>0</td>\n      <td>0</td>\n      <td>0</td>\n      <td>0</td>\n      <td>0</td>\n      <td>0</td>\n      <td>0</td>\n      <td>0</td>\n      <td>0</td>\n      <td>0</td>\n      <td>0</td>\n      <td>0</td>\n    </tr>\n    <tr>\n      <th>2</th>\n      <td>2021-02-24</td>\n      <td>Johor</td>\n      <td>Kluang</td>\n      <td>0</td>\n      <td>0</td>\n      <td>0</td>\n      <td>0</td>\n      <td>0</td>\n      <td>0</td>\n      <td>0</td>\n      <td>0</td>\n      <td>0</td>\n      <td>0</td>\n      <td>0</td>\n      <td>0</td>\n    </tr>\n    <tr>\n      <th>3</th>\n      <td>2021-02-24</td>\n      <td>Johor</td>\n      <td>Kota Tinggi</td>\n      <td>0</td>\n      <td>0</td>\n      <td>0</td>\n      <td>0</td>\n      <td>0</td>\n      <td>0</td>\n      <td>0</td>\n      <td>0</td>\n      <td>0</td>\n      <td>0</td>\n      <td>0</td>\n      <td>0</td>\n    </tr>\n    <tr>\n      <th>4</th>\n      <td>2021-02-24</td>\n      <td>Johor</td>\n      <td>Kulai</td>\n      <td>0</td>\n      <td>0</td>\n      <td>0</td>\n      <td>0</td>\n      <td>0</td>\n      <td>0</td>\n      <td>0</td>\n      <td>0</td>\n      <td>0</td>\n      <td>0</td>\n      <td>0</td>\n      <td>0</td>\n    </tr>\n    <tr>\n      <th>...</th>\n      <td>...</td>\n      <td>...</td>\n      <td>...</td>\n      <td>...</td>\n      <td>...</td>\n      <td>...</td>\n      <td>...</td>\n      <td>...</td>\n      <td>...</td>\n      <td>...</td>\n      <td>...</td>\n      <td>...</td>\n      <td>...</td>\n      <td>...</td>\n      <td>...</td>\n    </tr>\n    <tr>\n      <th>156415</th>\n      <td>2023-11-10</td>\n      <td>Terengganu</td>\n      <td>Marang</td>\n      <td>0</td>\n      <td>0</td>\n      <td>0</td>\n      <td>0</td>\n      <td>0</td>\n      <td>0</td>\n      <td>0</td>\n      <td>0</td>\n      <td>0</td>\n      <td>0</td>\n      <td>0</td>\n      <td>0</td>\n    </tr>\n    <tr>\n      <th>156416</th>\n      <td>2023-11-10</td>\n      <td>Terengganu</td>\n      <td>Setiu</td>\n      <td>0</td>\n      <td>0</td>\n      <td>0</td>\n      <td>0</td>\n      <td>0</td>\n      <td>0</td>\n      <td>0</td>\n      <td>0</td>\n      <td>0</td>\n      <td>0</td>\n      <td>0</td>\n      <td>0</td>\n    </tr>\n    <tr>\n      <th>156417</th>\n      <td>2023-11-10</td>\n      <td>W.P. Kuala Lumpur</td>\n      <td>Kuala Lumpur</td>\n      <td>0</td>\n      <td>0</td>\n      <td>2</td>\n      <td>1</td>\n      <td>0</td>\n      <td>0</td>\n      <td>1</td>\n      <td>0</td>\n      <td>0</td>\n      <td>0</td>\n      <td>0</td>\n      <td>0</td>\n    </tr>\n    <tr>\n      <th>156418</th>\n      <td>2023-11-10</td>\n      <td>W.P. Labuan</td>\n      <td>Labuan</td>\n      <td>0</td>\n      <td>0</td>\n      <td>0</td>\n      <td>0</td>\n      <td>0</td>\n      <td>0</td>\n      <td>0</td>\n      <td>0</td>\n      <td>0</td>\n      <td>0</td>\n      <td>0</td>\n      <td>0</td>\n    </tr>\n    <tr>\n      <th>156419</th>\n      <td>2023-11-10</td>\n      <td>W.P. Putrajaya</td>\n      <td>Putrajaya</td>\n      <td>0</td>\n      <td>0</td>\n      <td>0</td>\n      <td>0</td>\n      <td>0</td>\n      <td>0</td>\n      <td>0</td>\n      <td>0</td>\n      <td>0</td>\n      <td>0</td>\n      <td>0</td>\n      <td>0</td>\n    </tr>\n  </tbody>\n</table>\n<p>156420 rows × 15 columns</p>\n</div>\n    <div class=\"colab-df-buttons\">\n\n  <div class=\"colab-df-container\">\n    <button class=\"colab-df-convert\" onclick=\"convertToInteractive('df-e3d97cae-5e3e-4b63-9a32-200b3d656c15')\"\n            title=\"Convert this dataframe to an interactive table.\"\n            style=\"display:none;\">\n\n  <svg xmlns=\"http://www.w3.org/2000/svg\" height=\"24px\" viewBox=\"0 -960 960 960\">\n    <path d=\"M120-120v-720h720v720H120Zm60-500h600v-160H180v160Zm220 220h160v-160H400v160Zm0 220h160v-160H400v160ZM180-400h160v-160H180v160Zm440 0h160v-160H620v160ZM180-180h160v-160H180v160Zm440 0h160v-160H620v160Z\"/>\n  </svg>\n    </button>\n\n  <style>\n    .colab-df-container {\n      display:flex;\n      gap: 12px;\n    }\n\n    .colab-df-convert {\n      background-color: #E8F0FE;\n      border: none;\n      border-radius: 50%;\n      cursor: pointer;\n      display: none;\n      fill: #1967D2;\n      height: 32px;\n      padding: 0 0 0 0;\n      width: 32px;\n    }\n\n    .colab-df-convert:hover {\n      background-color: #E2EBFA;\n      box-shadow: 0px 1px 2px rgba(60, 64, 67, 0.3), 0px 1px 3px 1px rgba(60, 64, 67, 0.15);\n      fill: #174EA6;\n    }\n\n    .colab-df-buttons div {\n      margin-bottom: 4px;\n    }\n\n    [theme=dark] .colab-df-convert {\n      background-color: #3B4455;\n      fill: #D2E3FC;\n    }\n\n    [theme=dark] .colab-df-convert:hover {\n      background-color: #434B5C;\n      box-shadow: 0px 1px 3px 1px rgba(0, 0, 0, 0.15);\n      filter: drop-shadow(0px 1px 2px rgba(0, 0, 0, 0.3));\n      fill: #FFFFFF;\n    }\n  </style>\n\n    <script>\n      const buttonEl =\n        document.querySelector('#df-e3d97cae-5e3e-4b63-9a32-200b3d656c15 button.colab-df-convert');\n      buttonEl.style.display =\n        google.colab.kernel.accessAllowed ? 'block' : 'none';\n\n      async function convertToInteractive(key) {\n        const element = document.querySelector('#df-e3d97cae-5e3e-4b63-9a32-200b3d656c15');\n        const dataTable =\n          await google.colab.kernel.invokeFunction('convertToInteractive',\n                                                    [key], {});\n        if (!dataTable) return;\n\n        const docLinkHtml = 'Like what you see? Visit the ' +\n          '<a target=\"_blank\" href=https://colab.research.google.com/notebooks/data_table.ipynb>data table notebook</a>'\n          + ' to learn more about interactive tables.';\n        element.innerHTML = '';\n        dataTable['output_type'] = 'display_data';\n        await google.colab.output.renderOutput(dataTable, element);\n        const docLink = document.createElement('div');\n        docLink.innerHTML = docLinkHtml;\n        element.appendChild(docLink);\n      }\n    </script>\n  </div>\n\n\n<div id=\"df-151afe58-eddb-4477-9760-17f0fc16e4c4\">\n  <button class=\"colab-df-quickchart\" onclick=\"quickchart('df-151afe58-eddb-4477-9760-17f0fc16e4c4')\"\n            title=\"Suggest charts\"\n            style=\"display:none;\">\n\n<svg xmlns=\"http://www.w3.org/2000/svg\" height=\"24px\"viewBox=\"0 0 24 24\"\n     width=\"24px\">\n    <g>\n        <path d=\"M19 3H5c-1.1 0-2 .9-2 2v14c0 1.1.9 2 2 2h14c1.1 0 2-.9 2-2V5c0-1.1-.9-2-2-2zM9 17H7v-7h2v7zm4 0h-2V7h2v10zm4 0h-2v-4h2v4z\"/>\n    </g>\n</svg>\n  </button>\n\n<style>\n  .colab-df-quickchart {\n      --bg-color: #E8F0FE;\n      --fill-color: #1967D2;\n      --hover-bg-color: #E2EBFA;\n      --hover-fill-color: #174EA6;\n      --disabled-fill-color: #AAA;\n      --disabled-bg-color: #DDD;\n  }\n\n  [theme=dark] .colab-df-quickchart {\n      --bg-color: #3B4455;\n      --fill-color: #D2E3FC;\n      --hover-bg-color: #434B5C;\n      --hover-fill-color: #FFFFFF;\n      --disabled-bg-color: #3B4455;\n      --disabled-fill-color: #666;\n  }\n\n  .colab-df-quickchart {\n    background-color: var(--bg-color);\n    border: none;\n    border-radius: 50%;\n    cursor: pointer;\n    display: none;\n    fill: var(--fill-color);\n    height: 32px;\n    padding: 0;\n    width: 32px;\n  }\n\n  .colab-df-quickchart:hover {\n    background-color: var(--hover-bg-color);\n    box-shadow: 0 1px 2px rgba(60, 64, 67, 0.3), 0 1px 3px 1px rgba(60, 64, 67, 0.15);\n    fill: var(--button-hover-fill-color);\n  }\n\n  .colab-df-quickchart-complete:disabled,\n  .colab-df-quickchart-complete:disabled:hover {\n    background-color: var(--disabled-bg-color);\n    fill: var(--disabled-fill-color);\n    box-shadow: none;\n  }\n\n  .colab-df-spinner {\n    border: 2px solid var(--fill-color);\n    border-color: transparent;\n    border-bottom-color: var(--fill-color);\n    animation:\n      spin 1s steps(1) infinite;\n  }\n\n  @keyframes spin {\n    0% {\n      border-color: transparent;\n      border-bottom-color: var(--fill-color);\n      border-left-color: var(--fill-color);\n    }\n    20% {\n      border-color: transparent;\n      border-left-color: var(--fill-color);\n      border-top-color: var(--fill-color);\n    }\n    30% {\n      border-color: transparent;\n      border-left-color: var(--fill-color);\n      border-top-color: var(--fill-color);\n      border-right-color: var(--fill-color);\n    }\n    40% {\n      border-color: transparent;\n      border-right-color: var(--fill-color);\n      border-top-color: var(--fill-color);\n    }\n    60% {\n      border-color: transparent;\n      border-right-color: var(--fill-color);\n    }\n    80% {\n      border-color: transparent;\n      border-right-color: var(--fill-color);\n      border-bottom-color: var(--fill-color);\n    }\n    90% {\n      border-color: transparent;\n      border-bottom-color: var(--fill-color);\n    }\n  }\n</style>\n\n  <script>\n    async function quickchart(key) {\n      const quickchartButtonEl =\n        document.querySelector('#' + key + ' button');\n      quickchartButtonEl.disabled = true;  // To prevent multiple clicks.\n      quickchartButtonEl.classList.add('colab-df-spinner');\n      try {\n        const charts = await google.colab.kernel.invokeFunction(\n            'suggestCharts', [key], {});\n      } catch (error) {\n        console.error('Error during call to suggestCharts:', error);\n      }\n      quickchartButtonEl.classList.remove('colab-df-spinner');\n      quickchartButtonEl.classList.add('colab-df-quickchart-complete');\n    }\n    (() => {\n      let quickchartButtonEl =\n        document.querySelector('#df-151afe58-eddb-4477-9760-17f0fc16e4c4 button');\n      quickchartButtonEl.style.display =\n        google.colab.kernel.accessAllowed ? 'block' : 'none';\n    })();\n  </script>\n</div>\n    </div>\n  </div>\n"
                },
                "metadata": {}
              }
            ]
          }
        },
        "8daa084c734f43f18a895fa4c2d9733e": {
          "model_module": "luxwidget",
          "model_name": "LuxModel",
          "model_module_version": "0.1.11",
          "state": {
            "_dom_classes": [],
            "_model_module": "luxwidget",
            "_model_module_version": "0.1.11",
            "_model_name": "LuxModel",
            "_selectedVisIdxs": {},
            "_view_count": null,
            "_view_module": "luxwidget",
            "_view_module_version": "0.1.11",
            "_view_name": "LuxWidgetView",
            "all_column": false,
            "current_vis": {},
            "data": [],
            "deletedIndices": {},
            "intent": "",
            "layout": "IPY_MODEL_9f4c86ec3dec4d259523030f8ffcebe3",
            "message": "<ul><li>Large dataframe detected: Lux is visualizing a sample of 0.75% of the dataframe (117315 rows).</li><li>Large scatterplots detected: Lux is automatically binning scatterplots to heatmaps.</li><li>Large search space detected: Lux is approximating the interestingness of recommended visualizations.</li></ul>",
            "plotting_scale": 1,
            "recommendations": [
              {
                "action": "Correlation",
                "description": "Show relationships between two <p class='highlight-descriptor'>quantitative</p> attributes.",
                "long_description": "Correlation searches through all pairwise relationship between two quantitative attributes             (e.g., booster2_comorbid, full_hcw). The visualizations are ranked from most to least linearly correlated based on                 their Pearson’s correlation score.",
                "vspec": [
                  {
                    "config": {
                      "view": {
                        "continuousWidth": 400,
                        "continuousHeight": 300
                      },
                      "axis": {
                        "labelColor": "#505050",
                        "labelFont": "Helvetica Neue",
                        "labelFontSize": 9,
                        "labelFontWeight": 400,
                        "titleFont": "Helvetica Neue",
                        "titleFontSize": 11,
                        "titleFontWeight": 500
                      },
                      "legend": {
                        "labelFont": "Helvetica Neue",
                        "labelFontSize": 9,
                        "labelFontWeight": 400,
                        "titleFont": "Helvetica Neue",
                        "titleFontSize": 10,
                        "titleFontWeight": 500
                      },
                      "mark": {
                        "tooltip": {
                          "content": "encoding"
                        }
                      },
                      "scale": {
                        "maxOpacity": 1,
                        "minOpacity": 0.1
                      },
                      "title": {
                        "font": "Helvetica Neue",
                        "fontSize": 13,
                        "fontWeight": 500
                      }
                    },
                    "data": {
                      "name": "data-5d50429ec5dc9c07b82a750de0228771"
                    },
                    "mark": "rect",
                    "encoding": {
                      "opacity": {
                        "field": "count",
                        "legend": null,
                        "scale": {
                          "type": "log"
                        },
                        "type": "quantitative"
                      },
                      "x": {
                        "axis": {
                          "title": "booster_oku"
                        },
                        "bin": {
                          "binned": true
                        },
                        "field": "xBinStart",
                        "type": "quantitative"
                      },
                      "x2": {
                        "field": "xBinEnd"
                      },
                      "y": {
                        "axis": {
                          "title": "booster_comorbid"
                        },
                        "bin": {
                          "binned": true
                        },
                        "field": "yBinStart",
                        "type": "quantitative"
                      },
                      "y2": {
                        "field": "yBinEnd"
                      }
                    },
                    "height": 150,
                    "selection": {
                      "selector039": {
                        "type": "interval",
                        "bind": "scales",
                        "encodings": [
                          "x",
                          "y"
                        ]
                      }
                    },
                    "width": 160,
                    "$schema": "https://vega.github.io/schema/vega-lite/v4.17.0.json",
                    "datasets": {
                      "data-5d50429ec5dc9c07b82a750de0228771": [
                        {
                          "count": 29124,
                          "xBinStart": -1.029,
                          "xBinEnd": 25.725,
                          "yBinStart": -11.015,
                          "yBinEnd": 275.375
                        },
                        {
                          "count": 258,
                          "xBinStart": -1.029,
                          "xBinEnd": 25.725,
                          "yBinStart": 275.375,
                          "yBinEnd": 550.75
                        },
                        {
                          "count": 39,
                          "xBinStart": -1.029,
                          "xBinEnd": 25.725,
                          "yBinStart": 550.75,
                          "yBinEnd": 826.125
                        },
                        {
                          "count": 6,
                          "xBinStart": -1.029,
                          "xBinEnd": 25.725,
                          "yBinStart": 826.125,
                          "yBinEnd": 1101.5
                        },
                        {
                          "count": 48,
                          "xBinStart": 25.725,
                          "xBinEnd": 51.45,
                          "yBinStart": -11.015,
                          "yBinEnd": 275.375
                        },
                        {
                          "count": 118,
                          "xBinStart": 25.725,
                          "xBinEnd": 51.45,
                          "yBinStart": 275.375,
                          "yBinEnd": 550.75
                        },
                        {
                          "count": 70,
                          "xBinStart": 25.725,
                          "xBinEnd": 51.45,
                          "yBinStart": 550.75,
                          "yBinEnd": 826.125
                        },
                        {
                          "count": 25,
                          "xBinStart": 25.725,
                          "xBinEnd": 51.45,
                          "yBinStart": 826.125,
                          "yBinEnd": 1101.5
                        },
                        {
                          "count": 11,
                          "xBinStart": 25.725,
                          "xBinEnd": 51.45,
                          "yBinStart": 1101.5,
                          "yBinEnd": 1376.875
                        },
                        {
                          "count": 3,
                          "xBinStart": 25.725,
                          "xBinEnd": 51.45,
                          "yBinStart": 1376.875,
                          "yBinEnd": 1652.25
                        },
                        {
                          "count": 1,
                          "xBinStart": 25.725,
                          "xBinEnd": 51.45,
                          "yBinStart": 1652.25,
                          "yBinEnd": 1927.625
                        },
                        {
                          "count": 1,
                          "xBinStart": 25.725,
                          "xBinEnd": 51.45,
                          "yBinStart": 1927.625,
                          "yBinEnd": 2203
                        },
                        {
                          "count": 2,
                          "xBinStart": 51.45,
                          "xBinEnd": 77.175,
                          "yBinStart": -11.015,
                          "yBinEnd": 275.375
                        },
                        {
                          "count": 34,
                          "xBinStart": 51.45,
                          "xBinEnd": 77.175,
                          "yBinStart": 275.375,
                          "yBinEnd": 550.75
                        },
                        {
                          "count": 24,
                          "xBinStart": 51.45,
                          "xBinEnd": 77.175,
                          "yBinStart": 550.75,
                          "yBinEnd": 826.125
                        },
                        {
                          "count": 23,
                          "xBinStart": 51.45,
                          "xBinEnd": 77.175,
                          "yBinStart": 826.125,
                          "yBinEnd": 1101.5
                        },
                        {
                          "count": 13,
                          "xBinStart": 51.45,
                          "xBinEnd": 77.175,
                          "yBinStart": 1101.5,
                          "yBinEnd": 1376.875
                        },
                        {
                          "count": 7,
                          "xBinStart": 51.45,
                          "xBinEnd": 77.175,
                          "yBinStart": 1376.875,
                          "yBinEnd": 1652.25
                        },
                        {
                          "count": 6,
                          "xBinStart": 51.45,
                          "xBinEnd": 77.175,
                          "yBinStart": 1652.25,
                          "yBinEnd": 1927.625
                        },
                        {
                          "count": 5,
                          "xBinStart": 51.45,
                          "xBinEnd": 77.175,
                          "yBinStart": 1927.625,
                          "yBinEnd": 2203
                        },
                        {
                          "count": 5,
                          "xBinStart": 51.45,
                          "xBinEnd": 77.175,
                          "yBinStart": 2203,
                          "yBinEnd": 2478.375
                        },
                        {
                          "count": 1,
                          "xBinStart": 51.45,
                          "xBinEnd": 77.175,
                          "yBinStart": 2478.375,
                          "yBinEnd": 2753.75
                        },
                        {
                          "count": 1,
                          "xBinStart": 77.175,
                          "xBinEnd": 102.9,
                          "yBinStart": -11.015,
                          "yBinEnd": 275.375
                        },
                        {
                          "count": 5,
                          "xBinStart": 77.175,
                          "xBinEnd": 102.9,
                          "yBinStart": 275.375,
                          "yBinEnd": 550.75
                        },
                        {
                          "count": 13,
                          "xBinStart": 77.175,
                          "xBinEnd": 102.9,
                          "yBinStart": 550.75,
                          "yBinEnd": 826.125
                        },
                        {
                          "count": 14,
                          "xBinStart": 77.175,
                          "xBinEnd": 102.9,
                          "yBinStart": 826.125,
                          "yBinEnd": 1101.5
                        },
                        {
                          "count": 3,
                          "xBinStart": 77.175,
                          "xBinEnd": 102.9,
                          "yBinStart": 1101.5,
                          "yBinEnd": 1376.875
                        },
                        {
                          "count": 9,
                          "xBinStart": 77.175,
                          "xBinEnd": 102.9,
                          "yBinStart": 1376.875,
                          "yBinEnd": 1652.25
                        },
                        {
                          "count": 3,
                          "xBinStart": 77.175,
                          "xBinEnd": 102.9,
                          "yBinStart": 1652.25,
                          "yBinEnd": 1927.625
                        },
                        {
                          "count": 2,
                          "xBinStart": 77.175,
                          "xBinEnd": 102.9,
                          "yBinStart": 1927.625,
                          "yBinEnd": 2203
                        },
                        {
                          "count": 1,
                          "xBinStart": 77.175,
                          "xBinEnd": 102.9,
                          "yBinStart": 2203,
                          "yBinEnd": 2478.375
                        },
                        {
                          "count": 2,
                          "xBinStart": 77.175,
                          "xBinEnd": 102.9,
                          "yBinStart": 2478.375,
                          "yBinEnd": 2753.75
                        },
                        {
                          "count": 1,
                          "xBinStart": 77.175,
                          "xBinEnd": 102.9,
                          "yBinStart": 2753.75,
                          "yBinEnd": 3029.125
                        },
                        {
                          "count": 3,
                          "xBinStart": 77.175,
                          "xBinEnd": 102.9,
                          "yBinStart": 3029.125,
                          "yBinEnd": 3304.5
                        },
                        {
                          "count": 1,
                          "xBinStart": 77.175,
                          "xBinEnd": 102.9,
                          "yBinStart": 4406,
                          "yBinEnd": 4681.375
                        },
                        {
                          "count": 1,
                          "xBinStart": 102.9,
                          "xBinEnd": 128.625,
                          "yBinStart": 275.375,
                          "yBinEnd": 550.75
                        },
                        {
                          "count": 9,
                          "xBinStart": 102.9,
                          "xBinEnd": 128.625,
                          "yBinStart": 550.75,
                          "yBinEnd": 826.125
                        },
                        {
                          "count": 4,
                          "xBinStart": 102.9,
                          "xBinEnd": 128.625,
                          "yBinStart": 826.125,
                          "yBinEnd": 1101.5
                        },
                        {
                          "count": 7,
                          "xBinStart": 102.9,
                          "xBinEnd": 128.625,
                          "yBinStart": 1101.5,
                          "yBinEnd": 1376.875
                        },
                        {
                          "count": 5,
                          "xBinStart": 102.9,
                          "xBinEnd": 128.625,
                          "yBinStart": 1376.875,
                          "yBinEnd": 1652.25
                        },
                        {
                          "count": 1,
                          "xBinStart": 102.9,
                          "xBinEnd": 128.625,
                          "yBinStart": 1652.25,
                          "yBinEnd": 1927.625
                        },
                        {
                          "count": 4,
                          "xBinStart": 102.9,
                          "xBinEnd": 128.625,
                          "yBinStart": 1927.625,
                          "yBinEnd": 2203
                        },
                        {
                          "count": 3,
                          "xBinStart": 102.9,
                          "xBinEnd": 128.625,
                          "yBinStart": 2203,
                          "yBinEnd": 2478.375
                        },
                        {
                          "count": 2,
                          "xBinStart": 102.9,
                          "xBinEnd": 128.625,
                          "yBinStart": 2478.375,
                          "yBinEnd": 2753.75
                        },
                        {
                          "count": 4,
                          "xBinStart": 102.9,
                          "xBinEnd": 128.625,
                          "yBinStart": 2753.75,
                          "yBinEnd": 3029.125
                        },
                        {
                          "count": 1,
                          "xBinStart": 102.9,
                          "xBinEnd": 128.625,
                          "yBinStart": 3029.125,
                          "yBinEnd": 3304.5
                        },
                        {
                          "count": 1,
                          "xBinStart": 102.9,
                          "xBinEnd": 128.625,
                          "yBinStart": 3579.875,
                          "yBinEnd": 3855.25
                        },
                        {
                          "count": 1,
                          "xBinStart": 128.625,
                          "xBinEnd": 154.35,
                          "yBinStart": 550.75,
                          "yBinEnd": 826.125
                        },
                        {
                          "count": 2,
                          "xBinStart": 128.625,
                          "xBinEnd": 154.35,
                          "yBinStart": 826.125,
                          "yBinEnd": 1101.5
                        },
                        {
                          "count": 2,
                          "xBinStart": 128.625,
                          "xBinEnd": 154.35,
                          "yBinStart": 1101.5,
                          "yBinEnd": 1376.875
                        },
                        {
                          "count": 2,
                          "xBinStart": 128.625,
                          "xBinEnd": 154.35,
                          "yBinStart": 1376.875,
                          "yBinEnd": 1652.25
                        },
                        {
                          "count": 2,
                          "xBinStart": 128.625,
                          "xBinEnd": 154.35,
                          "yBinStart": 1652.25,
                          "yBinEnd": 1927.625
                        },
                        {
                          "count": 2,
                          "xBinStart": 128.625,
                          "xBinEnd": 154.35,
                          "yBinStart": 1927.625,
                          "yBinEnd": 2203
                        },
                        {
                          "count": 2,
                          "xBinStart": 128.625,
                          "xBinEnd": 154.35,
                          "yBinStart": 2478.375,
                          "yBinEnd": 2753.75
                        },
                        {
                          "count": 2,
                          "xBinStart": 128.625,
                          "xBinEnd": 154.35,
                          "yBinStart": 2753.75,
                          "yBinEnd": 3029.125
                        },
                        {
                          "count": 2,
                          "xBinStart": 128.625,
                          "xBinEnd": 154.35,
                          "yBinStart": 3029.125,
                          "yBinEnd": 3304.5
                        },
                        {
                          "count": 1,
                          "xBinStart": 128.625,
                          "xBinEnd": 154.35,
                          "yBinStart": 3304.5,
                          "yBinEnd": 3579.875
                        },
                        {
                          "count": 1,
                          "xBinStart": 128.625,
                          "xBinEnd": 154.35,
                          "yBinStart": 3855.25,
                          "yBinEnd": 4130.625
                        },
                        {
                          "count": 1,
                          "xBinStart": 154.35,
                          "xBinEnd": 180.075,
                          "yBinStart": 550.75,
                          "yBinEnd": 826.125
                        },
                        {
                          "count": 1,
                          "xBinStart": 154.35,
                          "xBinEnd": 180.075,
                          "yBinStart": 826.125,
                          "yBinEnd": 1101.5
                        },
                        {
                          "count": 1,
                          "xBinStart": 154.35,
                          "xBinEnd": 180.075,
                          "yBinStart": 1101.5,
                          "yBinEnd": 1376.875
                        },
                        {
                          "count": 2,
                          "xBinStart": 154.35,
                          "xBinEnd": 180.075,
                          "yBinStart": 1652.25,
                          "yBinEnd": 1927.625
                        },
                        {
                          "count": 1,
                          "xBinStart": 154.35,
                          "xBinEnd": 180.075,
                          "yBinStart": 1927.625,
                          "yBinEnd": 2203
                        },
                        {
                          "count": 1,
                          "xBinStart": 154.35,
                          "xBinEnd": 180.075,
                          "yBinStart": 3855.25,
                          "yBinEnd": 4130.625
                        },
                        {
                          "count": 1,
                          "xBinStart": 154.35,
                          "xBinEnd": 180.075,
                          "yBinStart": 4406,
                          "yBinEnd": 4681.375
                        },
                        {
                          "count": 1,
                          "xBinStart": 180.075,
                          "xBinEnd": 205.8,
                          "yBinStart": 275.375,
                          "yBinEnd": 550.75
                        },
                        {
                          "count": 3,
                          "xBinStart": 180.075,
                          "xBinEnd": 205.8,
                          "yBinStart": 1376.875,
                          "yBinEnd": 1652.25
                        },
                        {
                          "count": 2,
                          "xBinStart": 180.075,
                          "xBinEnd": 205.8,
                          "yBinStart": 1652.25,
                          "yBinEnd": 1927.625
                        },
                        {
                          "count": 1,
                          "xBinStart": 180.075,
                          "xBinEnd": 205.8,
                          "yBinStart": 2203,
                          "yBinEnd": 2478.375
                        },
                        {
                          "count": 1,
                          "xBinStart": 180.075,
                          "xBinEnd": 205.8,
                          "yBinStart": 2478.375,
                          "yBinEnd": 2753.75
                        },
                        {
                          "count": 1,
                          "xBinStart": 180.075,
                          "xBinEnd": 205.8,
                          "yBinStart": 3304.5,
                          "yBinEnd": 3579.875
                        },
                        {
                          "count": 1,
                          "xBinStart": 180.075,
                          "xBinEnd": 205.8,
                          "yBinStart": 3855.25,
                          "yBinEnd": 4130.625
                        },
                        {
                          "count": 1,
                          "xBinStart": 180.075,
                          "xBinEnd": 205.8,
                          "yBinStart": 4956.75,
                          "yBinEnd": 5232.125
                        },
                        {
                          "count": 1,
                          "xBinStart": 205.8,
                          "xBinEnd": 231.525,
                          "yBinStart": 1376.875,
                          "yBinEnd": 1652.25
                        },
                        {
                          "count": 1,
                          "xBinStart": 205.8,
                          "xBinEnd": 231.525,
                          "yBinStart": 1652.25,
                          "yBinEnd": 1927.625
                        },
                        {
                          "count": 1,
                          "xBinStart": 205.8,
                          "xBinEnd": 231.525,
                          "yBinStart": 1927.625,
                          "yBinEnd": 2203
                        },
                        {
                          "count": 1,
                          "xBinStart": 205.8,
                          "xBinEnd": 231.525,
                          "yBinStart": 2478.375,
                          "yBinEnd": 2753.75
                        },
                        {
                          "count": 1,
                          "xBinStart": 205.8,
                          "xBinEnd": 231.525,
                          "yBinStart": 2753.75,
                          "yBinEnd": 3029.125
                        },
                        {
                          "count": 1,
                          "xBinStart": 205.8,
                          "xBinEnd": 231.525,
                          "yBinStart": 4130.625,
                          "yBinEnd": 4406
                        },
                        {
                          "count": 1,
                          "xBinStart": 205.8,
                          "xBinEnd": 231.525,
                          "yBinStart": 5507.5,
                          "yBinEnd": 5782.875
                        },
                        {
                          "count": 1,
                          "xBinStart": 231.525,
                          "xBinEnd": 257.25,
                          "yBinStart": 275.375,
                          "yBinEnd": 550.75
                        },
                        {
                          "count": 1,
                          "xBinStart": 231.525,
                          "xBinEnd": 257.25,
                          "yBinStart": 1927.625,
                          "yBinEnd": 2203
                        },
                        {
                          "count": 2,
                          "xBinStart": 231.525,
                          "xBinEnd": 257.25,
                          "yBinStart": 2203,
                          "yBinEnd": 2478.375
                        },
                        {
                          "count": 1,
                          "xBinStart": 231.525,
                          "xBinEnd": 257.25,
                          "yBinStart": 2478.375,
                          "yBinEnd": 2753.75
                        },
                        {
                          "count": 1,
                          "xBinStart": 231.525,
                          "xBinEnd": 257.25,
                          "yBinStart": 3304.5,
                          "yBinEnd": 3579.875
                        },
                        {
                          "count": 1,
                          "xBinStart": 231.525,
                          "xBinEnd": 257.25,
                          "yBinStart": 3855.25,
                          "yBinEnd": 4130.625
                        },
                        {
                          "count": 1,
                          "xBinStart": 231.525,
                          "xBinEnd": 257.25,
                          "yBinStart": 5507.5,
                          "yBinEnd": 5782.875
                        },
                        {
                          "count": 1,
                          "xBinStart": 231.525,
                          "xBinEnd": 257.25,
                          "yBinStart": 6058.25,
                          "yBinEnd": 6333.625
                        },
                        {
                          "count": 1,
                          "xBinStart": 257.25,
                          "xBinEnd": 282.975,
                          "yBinStart": 1927.625,
                          "yBinEnd": 2203
                        },
                        {
                          "count": 1,
                          "xBinStart": 257.25,
                          "xBinEnd": 282.975,
                          "yBinStart": 2203,
                          "yBinEnd": 2478.375
                        },
                        {
                          "count": 2,
                          "xBinStart": 282.975,
                          "xBinEnd": 308.7,
                          "yBinStart": 5232.125,
                          "yBinEnd": 5507.5
                        },
                        {
                          "count": 1,
                          "xBinStart": 308.7,
                          "xBinEnd": 334.425,
                          "yBinStart": 1927.625,
                          "yBinEnd": 2203
                        },
                        {
                          "count": 1,
                          "xBinStart": 308.7,
                          "xBinEnd": 334.425,
                          "yBinStart": 2478.375,
                          "yBinEnd": 2753.75
                        },
                        {
                          "count": 1,
                          "xBinStart": 308.7,
                          "xBinEnd": 334.425,
                          "yBinStart": 5232.125,
                          "yBinEnd": 5507.5
                        },
                        {
                          "count": 1,
                          "xBinStart": 334.425,
                          "xBinEnd": 360.15,
                          "yBinStart": 1927.625,
                          "yBinEnd": 2203
                        },
                        {
                          "count": 1,
                          "xBinStart": 360.15,
                          "xBinEnd": 385.875,
                          "yBinStart": 2478.375,
                          "yBinEnd": 2753.75
                        },
                        {
                          "count": 1,
                          "xBinStart": 360.15,
                          "xBinEnd": 385.875,
                          "yBinStart": 3029.125,
                          "yBinEnd": 3304.5
                        },
                        {
                          "count": 1,
                          "xBinStart": 360.15,
                          "xBinEnd": 385.875,
                          "yBinStart": 4956.75,
                          "yBinEnd": 5232.125
                        },
                        {
                          "count": 1,
                          "xBinStart": 360.15,
                          "xBinEnd": 385.875,
                          "yBinStart": 5782.875,
                          "yBinEnd": 6058.25
                        },
                        {
                          "count": 1,
                          "xBinStart": 360.15,
                          "xBinEnd": 385.875,
                          "yBinStart": 7710.5,
                          "yBinEnd": 7985.875
                        },
                        {
                          "count": 1,
                          "xBinStart": 463.05,
                          "xBinEnd": 488.775,
                          "yBinStart": 3579.875,
                          "yBinEnd": 3855.25
                        },
                        {
                          "count": 1,
                          "xBinStart": 463.05,
                          "xBinEnd": 488.775,
                          "yBinStart": 4406,
                          "yBinEnd": 4681.375
                        },
                        {
                          "count": 1,
                          "xBinStart": 463.05,
                          "xBinEnd": 488.775,
                          "yBinStart": 5232.125,
                          "yBinEnd": 5507.5
                        },
                        {
                          "count": 1,
                          "xBinStart": 488.775,
                          "xBinEnd": 514.5,
                          "yBinStart": 4130.625,
                          "yBinEnd": 4406
                        },
                        {
                          "count": 1,
                          "xBinStart": 488.775,
                          "xBinEnd": 514.5,
                          "yBinStart": 9913.5,
                          "yBinEnd": 10188.875
                        },
                        {
                          "count": 1,
                          "xBinStart": 488.775,
                          "xBinEnd": 514.5,
                          "yBinStart": 10739.625,
                          "yBinEnd": 11015
                        },
                        {
                          "count": 1,
                          "xBinStart": 514.5,
                          "xBinEnd": 540.225,
                          "yBinStart": 7710.5,
                          "yBinEnd": 7985.875
                        },
                        {
                          "count": 1,
                          "xBinStart": 540.225,
                          "xBinEnd": 565.95,
                          "yBinStart": 4130.625,
                          "yBinEnd": 4406
                        },
                        {
                          "count": 1,
                          "xBinStart": 1003.275,
                          "xBinEnd": 1029,
                          "yBinStart": 8536.625,
                          "yBinEnd": 8812
                        }
                      ]
                    },
                    "vislib": "vegalite"
                  },
                  {
                    "config": {
                      "view": {
                        "continuousWidth": 400,
                        "continuousHeight": 300
                      },
                      "axis": {
                        "labelColor": "#505050",
                        "labelFont": "Helvetica Neue",
                        "labelFontSize": 9,
                        "labelFontWeight": 400,
                        "titleFont": "Helvetica Neue",
                        "titleFontSize": 11,
                        "titleFontWeight": 500
                      },
                      "legend": {
                        "labelFont": "Helvetica Neue",
                        "labelFontSize": 9,
                        "labelFontWeight": 400,
                        "titleFont": "Helvetica Neue",
                        "titleFontSize": 10,
                        "titleFontWeight": 500
                      },
                      "mark": {
                        "tooltip": {
                          "content": "encoding"
                        }
                      },
                      "scale": {
                        "maxOpacity": 1,
                        "minOpacity": 0.1
                      },
                      "title": {
                        "font": "Helvetica Neue",
                        "fontSize": 13,
                        "fontWeight": 500
                      }
                    },
                    "data": {
                      "name": "data-efd28539aafc624153b4a39cc84555c3"
                    },
                    "mark": "rect",
                    "encoding": {
                      "opacity": {
                        "field": "count",
                        "legend": null,
                        "scale": {
                          "type": "log"
                        },
                        "type": "quantitative"
                      },
                      "x": {
                        "axis": {
                          "title": "booster2_oku"
                        },
                        "bin": {
                          "binned": true
                        },
                        "field": "xBinStart",
                        "type": "quantitative"
                      },
                      "x2": {
                        "field": "xBinEnd"
                      },
                      "y": {
                        "axis": {
                          "title": "booster2_comorbid"
                        },
                        "bin": {
                          "binned": true
                        },
                        "field": "yBinStart",
                        "type": "quantitative"
                      },
                      "y2": {
                        "field": "yBinEnd"
                      }
                    },
                    "height": 150,
                    "selection": {
                      "selector040": {
                        "type": "interval",
                        "bind": "scales",
                        "encodings": [
                          "x",
                          "y"
                        ]
                      }
                    },
                    "width": 160,
                    "$schema": "https://vega.github.io/schema/vega-lite/v4.17.0.json",
                    "datasets": {
                      "data-efd28539aafc624153b4a39cc84555c3": [
                        {
                          "count": 29445,
                          "xBinStart": -0.07,
                          "xBinEnd": 1.75,
                          "yBinStart": -1.457,
                          "yBinEnd": 36.425
                        },
                        {
                          "count": 70,
                          "xBinStart": -0.07,
                          "xBinEnd": 1.75,
                          "yBinStart": 36.425,
                          "yBinEnd": 72.85
                        },
                        {
                          "count": 16,
                          "xBinStart": -0.07,
                          "xBinEnd": 1.75,
                          "yBinStart": 72.85,
                          "yBinEnd": 109.275
                        },
                        {
                          "count": 2,
                          "xBinStart": -0.07,
                          "xBinEnd": 1.75,
                          "yBinStart": 109.275,
                          "yBinEnd": 145.7
                        },
                        {
                          "count": 164,
                          "xBinStart": 1.75,
                          "xBinEnd": 3.5,
                          "yBinStart": -1.457,
                          "yBinEnd": 36.425
                        },
                        {
                          "count": 64,
                          "xBinStart": 1.75,
                          "xBinEnd": 3.5,
                          "yBinStart": 36.425,
                          "yBinEnd": 72.85
                        },
                        {
                          "count": 28,
                          "xBinStart": 1.75,
                          "xBinEnd": 3.5,
                          "yBinStart": 72.85,
                          "yBinEnd": 109.275
                        },
                        {
                          "count": 9,
                          "xBinStart": 1.75,
                          "xBinEnd": 3.5,
                          "yBinStart": 109.275,
                          "yBinEnd": 145.7
                        },
                        {
                          "count": 3,
                          "xBinStart": 1.75,
                          "xBinEnd": 3.5,
                          "yBinStart": 145.7,
                          "yBinEnd": 182.125
                        },
                        {
                          "count": 1,
                          "xBinStart": 1.75,
                          "xBinEnd": 3.5,
                          "yBinStart": 182.125,
                          "yBinEnd": 218.55
                        },
                        {
                          "count": 1,
                          "xBinStart": 1.75,
                          "xBinEnd": 3.5,
                          "yBinStart": 291.4,
                          "yBinEnd": 327.825
                        },
                        {
                          "count": 20,
                          "xBinStart": 3.5,
                          "xBinEnd": 5.25,
                          "yBinStart": -1.457,
                          "yBinEnd": 36.425
                        },
                        {
                          "count": 38,
                          "xBinStart": 3.5,
                          "xBinEnd": 5.25,
                          "yBinStart": 36.425,
                          "yBinEnd": 72.85
                        },
                        {
                          "count": 17,
                          "xBinStart": 3.5,
                          "xBinEnd": 5.25,
                          "yBinStart": 72.85,
                          "yBinEnd": 109.275
                        },
                        {
                          "count": 6,
                          "xBinStart": 3.5,
                          "xBinEnd": 5.25,
                          "yBinStart": 109.275,
                          "yBinEnd": 145.7
                        },
                        {
                          "count": 6,
                          "xBinStart": 3.5,
                          "xBinEnd": 5.25,
                          "yBinStart": 145.7,
                          "yBinEnd": 182.125
                        },
                        {
                          "count": 1,
                          "xBinStart": 3.5,
                          "xBinEnd": 5.25,
                          "yBinStart": 182.125,
                          "yBinEnd": 218.55
                        },
                        {
                          "count": 1,
                          "xBinStart": 3.5,
                          "xBinEnd": 5.25,
                          "yBinStart": 218.55,
                          "yBinEnd": 254.975
                        },
                        {
                          "count": 1,
                          "xBinStart": 3.5,
                          "xBinEnd": 5.25,
                          "yBinStart": 291.4,
                          "yBinEnd": 327.825
                        },
                        {
                          "count": 2,
                          "xBinStart": 5.25,
                          "xBinEnd": 7,
                          "yBinStart": -1.457,
                          "yBinEnd": 36.425
                        },
                        {
                          "count": 8,
                          "xBinStart": 5.25,
                          "xBinEnd": 7,
                          "yBinStart": 36.425,
                          "yBinEnd": 72.85
                        },
                        {
                          "count": 3,
                          "xBinStart": 5.25,
                          "xBinEnd": 7,
                          "yBinStart": 72.85,
                          "yBinEnd": 109.275
                        },
                        {
                          "count": 5,
                          "xBinStart": 5.25,
                          "xBinEnd": 7,
                          "yBinStart": 109.275,
                          "yBinEnd": 145.7
                        },
                        {
                          "count": 4,
                          "xBinStart": 5.25,
                          "xBinEnd": 7,
                          "yBinStart": 145.7,
                          "yBinEnd": 182.125
                        },
                        {
                          "count": 2,
                          "xBinStart": 5.25,
                          "xBinEnd": 7,
                          "yBinStart": 182.125,
                          "yBinEnd": 218.55
                        },
                        {
                          "count": 3,
                          "xBinStart": 5.25,
                          "xBinEnd": 7,
                          "yBinStart": 218.55,
                          "yBinEnd": 254.975
                        },
                        {
                          "count": 3,
                          "xBinStart": 5.25,
                          "xBinEnd": 7,
                          "yBinStart": 254.975,
                          "yBinEnd": 291.4
                        },
                        {
                          "count": 1,
                          "xBinStart": 5.25,
                          "xBinEnd": 7,
                          "yBinStart": 327.825,
                          "yBinEnd": 364.25
                        },
                        {
                          "count": 3,
                          "xBinStart": 7,
                          "xBinEnd": 8.75,
                          "yBinStart": 36.425,
                          "yBinEnd": 72.85
                        },
                        {
                          "count": 3,
                          "xBinStart": 7,
                          "xBinEnd": 8.75,
                          "yBinStart": 72.85,
                          "yBinEnd": 109.275
                        },
                        {
                          "count": 3,
                          "xBinStart": 7,
                          "xBinEnd": 8.75,
                          "yBinStart": 109.275,
                          "yBinEnd": 145.7
                        },
                        {
                          "count": 2,
                          "xBinStart": 7,
                          "xBinEnd": 8.75,
                          "yBinStart": 145.7,
                          "yBinEnd": 182.125
                        },
                        {
                          "count": 1,
                          "xBinStart": 7,
                          "xBinEnd": 8.75,
                          "yBinStart": 182.125,
                          "yBinEnd": 218.55
                        },
                        {
                          "count": 2,
                          "xBinStart": 7,
                          "xBinEnd": 8.75,
                          "yBinStart": 218.55,
                          "yBinEnd": 254.975
                        },
                        {
                          "count": 1,
                          "xBinStart": 7,
                          "xBinEnd": 8.75,
                          "yBinStart": 291.4,
                          "yBinEnd": 327.825
                        },
                        {
                          "count": 2,
                          "xBinStart": 7,
                          "xBinEnd": 8.75,
                          "yBinStart": 327.825,
                          "yBinEnd": 364.25
                        },
                        {
                          "count": 1,
                          "xBinStart": 8.75,
                          "xBinEnd": 10.5,
                          "yBinStart": -1.457,
                          "yBinEnd": 36.425
                        },
                        {
                          "count": 2,
                          "xBinStart": 8.75,
                          "xBinEnd": 10.5,
                          "yBinStart": 36.425,
                          "yBinEnd": 72.85
                        },
                        {
                          "count": 2,
                          "xBinStart": 8.75,
                          "xBinEnd": 10.5,
                          "yBinStart": 72.85,
                          "yBinEnd": 109.275
                        },
                        {
                          "count": 1,
                          "xBinStart": 8.75,
                          "xBinEnd": 10.5,
                          "yBinStart": 109.275,
                          "yBinEnd": 145.7
                        },
                        {
                          "count": 2,
                          "xBinStart": 8.75,
                          "xBinEnd": 10.5,
                          "yBinStart": 145.7,
                          "yBinEnd": 182.125
                        },
                        {
                          "count": 3,
                          "xBinStart": 8.75,
                          "xBinEnd": 10.5,
                          "yBinStart": 182.125,
                          "yBinEnd": 218.55
                        },
                        {
                          "count": 2,
                          "xBinStart": 8.75,
                          "xBinEnd": 10.5,
                          "yBinStart": 218.55,
                          "yBinEnd": 254.975
                        },
                        {
                          "count": 2,
                          "xBinStart": 8.75,
                          "xBinEnd": 10.5,
                          "yBinStart": 291.4,
                          "yBinEnd": 327.825
                        },
                        {
                          "count": 1,
                          "xBinStart": 8.75,
                          "xBinEnd": 10.5,
                          "yBinStart": 327.825,
                          "yBinEnd": 364.25
                        },
                        {
                          "count": 1,
                          "xBinStart": 8.75,
                          "xBinEnd": 10.5,
                          "yBinStart": 437.1,
                          "yBinEnd": 473.525
                        },
                        {
                          "count": 3,
                          "xBinStart": 10.5,
                          "xBinEnd": 12.25,
                          "yBinStart": -1.457,
                          "yBinEnd": 36.425
                        },
                        {
                          "count": 1,
                          "xBinStart": 10.5,
                          "xBinEnd": 12.25,
                          "yBinStart": 72.85,
                          "yBinEnd": 109.275
                        },
                        {
                          "count": 1,
                          "xBinStart": 10.5,
                          "xBinEnd": 12.25,
                          "yBinStart": 109.275,
                          "yBinEnd": 145.7
                        },
                        {
                          "count": 4,
                          "xBinStart": 10.5,
                          "xBinEnd": 12.25,
                          "yBinStart": 145.7,
                          "yBinEnd": 182.125
                        },
                        {
                          "count": 2,
                          "xBinStart": 10.5,
                          "xBinEnd": 12.25,
                          "yBinStart": 182.125,
                          "yBinEnd": 218.55
                        },
                        {
                          "count": 1,
                          "xBinStart": 10.5,
                          "xBinEnd": 12.25,
                          "yBinStart": 218.55,
                          "yBinEnd": 254.975
                        },
                        {
                          "count": 2,
                          "xBinStart": 10.5,
                          "xBinEnd": 12.25,
                          "yBinStart": 327.825,
                          "yBinEnd": 364.25
                        },
                        {
                          "count": 2,
                          "xBinStart": 10.5,
                          "xBinEnd": 12.25,
                          "yBinStart": 364.25,
                          "yBinEnd": 400.675
                        },
                        {
                          "count": 1,
                          "xBinStart": 10.5,
                          "xBinEnd": 12.25,
                          "yBinStart": 400.675,
                          "yBinEnd": 437.1
                        },
                        {
                          "count": 2,
                          "xBinStart": 12.25,
                          "xBinEnd": 14,
                          "yBinStart": 109.275,
                          "yBinEnd": 145.7
                        },
                        {
                          "count": 1,
                          "xBinStart": 12.25,
                          "xBinEnd": 14,
                          "yBinStart": 182.125,
                          "yBinEnd": 218.55
                        },
                        {
                          "count": 1,
                          "xBinStart": 12.25,
                          "xBinEnd": 14,
                          "yBinStart": 254.975,
                          "yBinEnd": 291.4
                        },
                        {
                          "count": 2,
                          "xBinStart": 12.25,
                          "xBinEnd": 14,
                          "yBinStart": 400.675,
                          "yBinEnd": 437.1
                        },
                        {
                          "count": 2,
                          "xBinStart": 14,
                          "xBinEnd": 15.75,
                          "yBinStart": 72.85,
                          "yBinEnd": 109.275
                        },
                        {
                          "count": 1,
                          "xBinStart": 14,
                          "xBinEnd": 15.75,
                          "yBinStart": 364.25,
                          "yBinEnd": 400.675
                        },
                        {
                          "count": 1,
                          "xBinStart": 15.75,
                          "xBinEnd": 17.5,
                          "yBinStart": 145.7,
                          "yBinEnd": 182.125
                        },
                        {
                          "count": 1,
                          "xBinStart": 17.5,
                          "xBinEnd": 19.25,
                          "yBinStart": 109.275,
                          "yBinEnd": 145.7
                        },
                        {
                          "count": 1,
                          "xBinStart": 17.5,
                          "xBinEnd": 19.25,
                          "yBinStart": 400.675,
                          "yBinEnd": 437.1
                        },
                        {
                          "count": 1,
                          "xBinStart": 21,
                          "xBinEnd": 22.75,
                          "yBinStart": 619.225,
                          "yBinEnd": 655.65
                        },
                        {
                          "count": 1,
                          "xBinStart": 22.75,
                          "xBinEnd": 24.5,
                          "yBinStart": -1.457,
                          "yBinEnd": 36.425
                        },
                        {
                          "count": 1,
                          "xBinStart": 24.5,
                          "xBinEnd": 26.25,
                          "yBinStart": -1.457,
                          "yBinEnd": 36.425
                        },
                        {
                          "count": 1,
                          "xBinStart": 24.5,
                          "xBinEnd": 26.25,
                          "yBinStart": 655.65,
                          "yBinEnd": 692.075
                        },
                        {
                          "count": 1,
                          "xBinStart": 24.5,
                          "xBinEnd": 26.25,
                          "yBinStart": 764.925,
                          "yBinEnd": 801.35
                        },
                        {
                          "count": 1,
                          "xBinStart": 26.25,
                          "xBinEnd": 28,
                          "yBinStart": 692.075,
                          "yBinEnd": 728.5
                        },
                        {
                          "count": 1,
                          "xBinStart": 31.5,
                          "xBinEnd": 33.25,
                          "yBinStart": 837.775,
                          "yBinEnd": 874.2
                        },
                        {
                          "count": 1,
                          "xBinStart": 33.25,
                          "xBinEnd": 35,
                          "yBinStart": 145.7,
                          "yBinEnd": 182.125
                        },
                        {
                          "count": 1,
                          "xBinStart": 35,
                          "xBinEnd": 36.75,
                          "yBinStart": 910.625,
                          "yBinEnd": 947.05
                        },
                        {
                          "count": 1,
                          "xBinStart": 35,
                          "xBinEnd": 36.75,
                          "yBinStart": 1092.75,
                          "yBinEnd": 1129.175
                        },
                        {
                          "count": 1,
                          "xBinStart": 49,
                          "xBinEnd": 50.75,
                          "yBinStart": 1274.875,
                          "yBinEnd": 1311.3
                        },
                        {
                          "count": 1,
                          "xBinStart": 54.25,
                          "xBinEnd": 56,
                          "yBinStart": 1165.6,
                          "yBinEnd": 1202.025
                        },
                        {
                          "count": 1,
                          "xBinStart": 68.25,
                          "xBinEnd": 70,
                          "yBinStart": 1420.575,
                          "yBinEnd": 1457
                        }
                      ]
                    },
                    "vislib": "vegalite"
                  },
                  {
                    "config": {
                      "view": {
                        "continuousWidth": 400,
                        "continuousHeight": 300
                      },
                      "axis": {
                        "labelColor": "#505050",
                        "labelFont": "Helvetica Neue",
                        "labelFontSize": 9,
                        "labelFontWeight": 400,
                        "titleFont": "Helvetica Neue",
                        "titleFontSize": 11,
                        "titleFontWeight": 500
                      },
                      "legend": {
                        "labelFont": "Helvetica Neue",
                        "labelFontSize": 9,
                        "labelFontWeight": 400,
                        "titleFont": "Helvetica Neue",
                        "titleFontSize": 10,
                        "titleFontWeight": 500
                      },
                      "mark": {
                        "tooltip": {
                          "content": "encoding"
                        }
                      },
                      "scale": {
                        "maxOpacity": 1,
                        "minOpacity": 0.1
                      },
                      "title": {
                        "font": "Helvetica Neue",
                        "fontSize": 13,
                        "fontWeight": 500
                      }
                    },
                    "data": {
                      "name": "data-72daf2176e6450bf9f57b8190decea09"
                    },
                    "mark": "rect",
                    "encoding": {
                      "opacity": {
                        "field": "count",
                        "legend": null,
                        "scale": {
                          "type": "log"
                        },
                        "type": "quantitative"
                      },
                      "x": {
                        "axis": {
                          "title": "booster2_hcw"
                        },
                        "bin": {
                          "binned": true
                        },
                        "field": "xBinStart",
                        "type": "quantitative"
                      },
                      "x2": {
                        "field": "xBinEnd"
                      },
                      "y": {
                        "axis": {
                          "title": "booster2_comorbid"
                        },
                        "bin": {
                          "binned": true
                        },
                        "field": "yBinStart",
                        "type": "quantitative"
                      },
                      "y2": {
                        "field": "yBinEnd"
                      }
                    },
                    "height": 150,
                    "selection": {
                      "selector041": {
                        "type": "interval",
                        "bind": "scales",
                        "encodings": [
                          "x",
                          "y"
                        ]
                      }
                    },
                    "width": 160,
                    "$schema": "https://vega.github.io/schema/vega-lite/v4.17.0.json",
                    "datasets": {
                      "data-72daf2176e6450bf9f57b8190decea09": [
                        {
                          "count": 29479,
                          "xBinStart": -0.284,
                          "xBinEnd": 7.1,
                          "yBinStart": -1.457,
                          "yBinEnd": 36.425
                        },
                        {
                          "count": 125,
                          "xBinStart": -0.284,
                          "xBinEnd": 7.1,
                          "yBinStart": 36.425,
                          "yBinEnd": 72.85
                        },
                        {
                          "count": 29,
                          "xBinStart": -0.284,
                          "xBinEnd": 7.1,
                          "yBinStart": 72.85,
                          "yBinEnd": 109.275
                        },
                        {
                          "count": 9,
                          "xBinStart": -0.284,
                          "xBinEnd": 7.1,
                          "yBinStart": 109.275,
                          "yBinEnd": 145.7
                        },
                        {
                          "count": 9,
                          "xBinStart": -0.284,
                          "xBinEnd": 7.1,
                          "yBinStart": 145.7,
                          "yBinEnd": 182.125
                        },
                        {
                          "count": 4,
                          "xBinStart": -0.284,
                          "xBinEnd": 7.1,
                          "yBinStart": 182.125,
                          "yBinEnd": 218.55
                        },
                        {
                          "count": 1,
                          "xBinStart": -0.284,
                          "xBinEnd": 7.1,
                          "yBinStart": 218.55,
                          "yBinEnd": 254.975
                        },
                        {
                          "count": 3,
                          "xBinStart": -0.284,
                          "xBinEnd": 7.1,
                          "yBinStart": 254.975,
                          "yBinEnd": 291.4
                        },
                        {
                          "count": 1,
                          "xBinStart": -0.284,
                          "xBinEnd": 7.1,
                          "yBinStart": 291.4,
                          "yBinEnd": 327.825
                        },
                        {
                          "count": 1,
                          "xBinStart": -0.284,
                          "xBinEnd": 7.1,
                          "yBinStart": 327.825,
                          "yBinEnd": 364.25
                        },
                        {
                          "count": 91,
                          "xBinStart": 7.1,
                          "xBinEnd": 14.2,
                          "yBinStart": -1.457,
                          "yBinEnd": 36.425
                        },
                        {
                          "count": 30,
                          "xBinStart": 7.1,
                          "xBinEnd": 14.2,
                          "yBinStart": 36.425,
                          "yBinEnd": 72.85
                        },
                        {
                          "count": 21,
                          "xBinStart": 7.1,
                          "xBinEnd": 14.2,
                          "yBinStart": 72.85,
                          "yBinEnd": 109.275
                        },
                        {
                          "count": 8,
                          "xBinStart": 7.1,
                          "xBinEnd": 14.2,
                          "yBinStart": 109.275,
                          "yBinEnd": 145.7
                        },
                        {
                          "count": 4,
                          "xBinStart": 7.1,
                          "xBinEnd": 14.2,
                          "yBinStart": 145.7,
                          "yBinEnd": 182.125
                        },
                        {
                          "count": 1,
                          "xBinStart": 7.1,
                          "xBinEnd": 14.2,
                          "yBinStart": 182.125,
                          "yBinEnd": 218.55
                        },
                        {
                          "count": 3,
                          "xBinStart": 7.1,
                          "xBinEnd": 14.2,
                          "yBinStart": 218.55,
                          "yBinEnd": 254.975
                        },
                        {
                          "count": 1,
                          "xBinStart": 7.1,
                          "xBinEnd": 14.2,
                          "yBinStart": 291.4,
                          "yBinEnd": 327.825
                        },
                        {
                          "count": 3,
                          "xBinStart": 7.1,
                          "xBinEnd": 14.2,
                          "yBinStart": 327.825,
                          "yBinEnd": 364.25
                        },
                        {
                          "count": 31,
                          "xBinStart": 14.2,
                          "xBinEnd": 21.3,
                          "yBinStart": -1.457,
                          "yBinEnd": 36.425
                        },
                        {
                          "count": 7,
                          "xBinStart": 14.2,
                          "xBinEnd": 21.3,
                          "yBinStart": 36.425,
                          "yBinEnd": 72.85
                        },
                        {
                          "count": 9,
                          "xBinStart": 14.2,
                          "xBinEnd": 21.3,
                          "yBinStart": 72.85,
                          "yBinEnd": 109.275
                        },
                        {
                          "count": 3,
                          "xBinStart": 14.2,
                          "xBinEnd": 21.3,
                          "yBinStart": 109.275,
                          "yBinEnd": 145.7
                        },
                        {
                          "count": 2,
                          "xBinStart": 14.2,
                          "xBinEnd": 21.3,
                          "yBinStart": 145.7,
                          "yBinEnd": 182.125
                        },
                        {
                          "count": 3,
                          "xBinStart": 14.2,
                          "xBinEnd": 21.3,
                          "yBinStart": 182.125,
                          "yBinEnd": 218.55
                        },
                        {
                          "count": 1,
                          "xBinStart": 14.2,
                          "xBinEnd": 21.3,
                          "yBinStart": 218.55,
                          "yBinEnd": 254.975
                        },
                        {
                          "count": 2,
                          "xBinStart": 14.2,
                          "xBinEnd": 21.3,
                          "yBinStart": 291.4,
                          "yBinEnd": 327.825
                        },
                        {
                          "count": 17,
                          "xBinStart": 21.3,
                          "xBinEnd": 28.4,
                          "yBinStart": -1.457,
                          "yBinEnd": 36.425
                        },
                        {
                          "count": 7,
                          "xBinStart": 21.3,
                          "xBinEnd": 28.4,
                          "yBinStart": 36.425,
                          "yBinEnd": 72.85
                        },
                        {
                          "count": 4,
                          "xBinStart": 21.3,
                          "xBinEnd": 28.4,
                          "yBinStart": 72.85,
                          "yBinEnd": 109.275
                        },
                        {
                          "count": 5,
                          "xBinStart": 21.3,
                          "xBinEnd": 28.4,
                          "yBinStart": 109.275,
                          "yBinEnd": 145.7
                        },
                        {
                          "count": 1,
                          "xBinStart": 21.3,
                          "xBinEnd": 28.4,
                          "yBinStart": 145.7,
                          "yBinEnd": 182.125
                        },
                        {
                          "count": 1,
                          "xBinStart": 21.3,
                          "xBinEnd": 28.4,
                          "yBinStart": 327.825,
                          "yBinEnd": 364.25
                        },
                        {
                          "count": 1,
                          "xBinStart": 21.3,
                          "xBinEnd": 28.4,
                          "yBinStart": 364.25,
                          "yBinEnd": 400.675
                        },
                        {
                          "count": 1,
                          "xBinStart": 21.3,
                          "xBinEnd": 28.4,
                          "yBinStart": 400.675,
                          "yBinEnd": 437.1
                        },
                        {
                          "count": 1,
                          "xBinStart": 21.3,
                          "xBinEnd": 28.4,
                          "yBinStart": 437.1,
                          "yBinEnd": 473.525
                        },
                        {
                          "count": 6,
                          "xBinStart": 28.4,
                          "xBinEnd": 35.5,
                          "yBinStart": -1.457,
                          "yBinEnd": 36.425
                        },
                        {
                          "count": 7,
                          "xBinStart": 28.4,
                          "xBinEnd": 35.5,
                          "yBinStart": 36.425,
                          "yBinEnd": 72.85
                        },
                        {
                          "count": 3,
                          "xBinStart": 28.4,
                          "xBinEnd": 35.5,
                          "yBinStart": 72.85,
                          "yBinEnd": 109.275
                        },
                        {
                          "count": 1,
                          "xBinStart": 28.4,
                          "xBinEnd": 35.5,
                          "yBinStart": 109.275,
                          "yBinEnd": 145.7
                        },
                        {
                          "count": 1,
                          "xBinStart": 28.4,
                          "xBinEnd": 35.5,
                          "yBinStart": 145.7,
                          "yBinEnd": 182.125
                        },
                        {
                          "count": 1,
                          "xBinStart": 28.4,
                          "xBinEnd": 35.5,
                          "yBinStart": 182.125,
                          "yBinEnd": 218.55
                        },
                        {
                          "count": 8,
                          "xBinStart": 35.5,
                          "xBinEnd": 42.6,
                          "yBinStart": -1.457,
                          "yBinEnd": 36.425
                        },
                        {
                          "count": 1,
                          "xBinStart": 35.5,
                          "xBinEnd": 42.6,
                          "yBinStart": 36.425,
                          "yBinEnd": 72.85
                        },
                        {
                          "count": 1,
                          "xBinStart": 35.5,
                          "xBinEnd": 42.6,
                          "yBinStart": 109.275,
                          "yBinEnd": 145.7
                        },
                        {
                          "count": 1,
                          "xBinStart": 35.5,
                          "xBinEnd": 42.6,
                          "yBinStart": 182.125,
                          "yBinEnd": 218.55
                        },
                        {
                          "count": 1,
                          "xBinStart": 35.5,
                          "xBinEnd": 42.6,
                          "yBinStart": 218.55,
                          "yBinEnd": 254.975
                        },
                        {
                          "count": 1,
                          "xBinStart": 35.5,
                          "xBinEnd": 42.6,
                          "yBinStart": 364.25,
                          "yBinEnd": 400.675
                        },
                        {
                          "count": 1,
                          "xBinStart": 35.5,
                          "xBinEnd": 42.6,
                          "yBinStart": 400.675,
                          "yBinEnd": 437.1
                        },
                        {
                          "count": 1,
                          "xBinStart": 35.5,
                          "xBinEnd": 42.6,
                          "yBinStart": 837.775,
                          "yBinEnd": 874.2
                        },
                        {
                          "count": 3,
                          "xBinStart": 42.6,
                          "xBinEnd": 49.7,
                          "yBinStart": -1.457,
                          "yBinEnd": 36.425
                        },
                        {
                          "count": 1,
                          "xBinStart": 42.6,
                          "xBinEnd": 49.7,
                          "yBinStart": 36.425,
                          "yBinEnd": 72.85
                        },
                        {
                          "count": 2,
                          "xBinStart": 42.6,
                          "xBinEnd": 49.7,
                          "yBinStart": 72.85,
                          "yBinEnd": 109.275
                        },
                        {
                          "count": 1,
                          "xBinStart": 42.6,
                          "xBinEnd": 49.7,
                          "yBinStart": 109.275,
                          "yBinEnd": 145.7
                        },
                        {
                          "count": 1,
                          "xBinStart": 42.6,
                          "xBinEnd": 49.7,
                          "yBinStart": 145.7,
                          "yBinEnd": 182.125
                        },
                        {
                          "count": 2,
                          "xBinStart": 42.6,
                          "xBinEnd": 49.7,
                          "yBinStart": 218.55,
                          "yBinEnd": 254.975
                        },
                        {
                          "count": 1,
                          "xBinStart": 42.6,
                          "xBinEnd": 49.7,
                          "yBinStart": 692.075,
                          "yBinEnd": 728.5
                        },
                        {
                          "count": 1,
                          "xBinStart": 49.7,
                          "xBinEnd": 56.8,
                          "yBinStart": -1.457,
                          "yBinEnd": 36.425
                        },
                        {
                          "count": 1,
                          "xBinStart": 49.7,
                          "xBinEnd": 56.8,
                          "yBinStart": 145.7,
                          "yBinEnd": 182.125
                        },
                        {
                          "count": 1,
                          "xBinStart": 49.7,
                          "xBinEnd": 56.8,
                          "yBinStart": 182.125,
                          "yBinEnd": 218.55
                        },
                        {
                          "count": 1,
                          "xBinStart": 56.8,
                          "xBinEnd": 63.9,
                          "yBinStart": 145.7,
                          "yBinEnd": 182.125
                        },
                        {
                          "count": 1,
                          "xBinStart": 56.8,
                          "xBinEnd": 63.9,
                          "yBinStart": 910.625,
                          "yBinEnd": 947.05
                        },
                        {
                          "count": 2,
                          "xBinStart": 63.9,
                          "xBinEnd": 71,
                          "yBinStart": 36.425,
                          "yBinEnd": 72.85
                        },
                        {
                          "count": 1,
                          "xBinStart": 63.9,
                          "xBinEnd": 71,
                          "yBinStart": 72.85,
                          "yBinEnd": 109.275
                        },
                        {
                          "count": 1,
                          "xBinStart": 63.9,
                          "xBinEnd": 71,
                          "yBinStart": 145.7,
                          "yBinEnd": 182.125
                        },
                        {
                          "count": 1,
                          "xBinStart": 63.9,
                          "xBinEnd": 71,
                          "yBinStart": 400.675,
                          "yBinEnd": 437.1
                        },
                        {
                          "count": 2,
                          "xBinStart": 71,
                          "xBinEnd": 78.1,
                          "yBinStart": 109.275,
                          "yBinEnd": 145.7
                        },
                        {
                          "count": 1,
                          "xBinStart": 71,
                          "xBinEnd": 78.1,
                          "yBinStart": 291.4,
                          "yBinEnd": 327.825
                        },
                        {
                          "count": 1,
                          "xBinStart": 71,
                          "xBinEnd": 78.1,
                          "yBinStart": 364.25,
                          "yBinEnd": 400.675
                        },
                        {
                          "count": 1,
                          "xBinStart": 71,
                          "xBinEnd": 78.1,
                          "yBinStart": 400.675,
                          "yBinEnd": 437.1
                        },
                        {
                          "count": 1,
                          "xBinStart": 71,
                          "xBinEnd": 78.1,
                          "yBinStart": 764.925,
                          "yBinEnd": 801.35
                        },
                        {
                          "count": 2,
                          "xBinStart": 78.1,
                          "xBinEnd": 85.2,
                          "yBinStart": 36.425,
                          "yBinEnd": 72.85
                        },
                        {
                          "count": 1,
                          "xBinStart": 78.1,
                          "xBinEnd": 85.2,
                          "yBinStart": 72.85,
                          "yBinEnd": 109.275
                        },
                        {
                          "count": 1,
                          "xBinStart": 78.1,
                          "xBinEnd": 85.2,
                          "yBinStart": 254.975,
                          "yBinEnd": 291.4
                        },
                        {
                          "count": 1,
                          "xBinStart": 78.1,
                          "xBinEnd": 85.2,
                          "yBinStart": 619.225,
                          "yBinEnd": 655.65
                        },
                        {
                          "count": 1,
                          "xBinStart": 78.1,
                          "xBinEnd": 85.2,
                          "yBinStart": 1092.75,
                          "yBinEnd": 1129.175
                        },
                        {
                          "count": 1,
                          "xBinStart": 85.2,
                          "xBinEnd": 92.3,
                          "yBinStart": 72.85,
                          "yBinEnd": 109.275
                        },
                        {
                          "count": 1,
                          "xBinStart": 85.2,
                          "xBinEnd": 92.3,
                          "yBinStart": 145.7,
                          "yBinEnd": 182.125
                        },
                        {
                          "count": 1,
                          "xBinStart": 92.3,
                          "xBinEnd": 99.4,
                          "yBinStart": -1.457,
                          "yBinEnd": 36.425
                        },
                        {
                          "count": 1,
                          "xBinStart": 106.5,
                          "xBinEnd": 113.6,
                          "yBinStart": 145.7,
                          "yBinEnd": 182.125
                        },
                        {
                          "count": 1,
                          "xBinStart": 106.5,
                          "xBinEnd": 113.6,
                          "yBinStart": 1274.875,
                          "yBinEnd": 1311.3
                        },
                        {
                          "count": 1,
                          "xBinStart": 113.6,
                          "xBinEnd": 120.7,
                          "yBinStart": 36.425,
                          "yBinEnd": 72.85
                        },
                        {
                          "count": 1,
                          "xBinStart": 113.6,
                          "xBinEnd": 120.7,
                          "yBinStart": 327.825,
                          "yBinEnd": 364.25
                        },
                        {
                          "count": 1,
                          "xBinStart": 142,
                          "xBinEnd": 149.1,
                          "yBinStart": 36.425,
                          "yBinEnd": 72.85
                        },
                        {
                          "count": 1,
                          "xBinStart": 142,
                          "xBinEnd": 149.1,
                          "yBinStart": 72.85,
                          "yBinEnd": 109.275
                        },
                        {
                          "count": 1,
                          "xBinStart": 156.2,
                          "xBinEnd": 163.3,
                          "yBinStart": 655.65,
                          "yBinEnd": 692.075
                        },
                        {
                          "count": 1,
                          "xBinStart": 177.5,
                          "xBinEnd": 184.6,
                          "yBinStart": 218.55,
                          "yBinEnd": 254.975
                        },
                        {
                          "count": 1,
                          "xBinStart": 184.6,
                          "xBinEnd": 191.7,
                          "yBinStart": 36.425,
                          "yBinEnd": 72.85
                        },
                        {
                          "count": 1,
                          "xBinStart": 220.1,
                          "xBinEnd": 227.2,
                          "yBinStart": 1165.6,
                          "yBinEnd": 1202.025
                        },
                        {
                          "count": 1,
                          "xBinStart": 276.9,
                          "xBinEnd": 284,
                          "yBinStart": 1420.575,
                          "yBinEnd": 1457
                        }
                      ]
                    },
                    "vislib": "vegalite"
                  },
                  {
                    "config": {
                      "view": {
                        "continuousWidth": 400,
                        "continuousHeight": 300
                      },
                      "axis": {
                        "labelColor": "#505050",
                        "labelFont": "Helvetica Neue",
                        "labelFontSize": 9,
                        "labelFontWeight": 400,
                        "titleFont": "Helvetica Neue",
                        "titleFontSize": 11,
                        "titleFontWeight": 500
                      },
                      "legend": {
                        "labelFont": "Helvetica Neue",
                        "labelFontSize": 9,
                        "labelFontWeight": 400,
                        "titleFont": "Helvetica Neue",
                        "titleFontSize": 10,
                        "titleFontWeight": 500
                      },
                      "mark": {
                        "tooltip": {
                          "content": "encoding"
                        }
                      },
                      "scale": {
                        "maxOpacity": 1,
                        "minOpacity": 0.1
                      },
                      "title": {
                        "font": "Helvetica Neue",
                        "fontSize": 13,
                        "fontWeight": 500
                      }
                    },
                    "data": {
                      "name": "data-beafb6751d161b2052a81d4b34eb2195"
                    },
                    "mark": "rect",
                    "encoding": {
                      "opacity": {
                        "field": "count",
                        "legend": null,
                        "scale": {
                          "type": "log"
                        },
                        "type": "quantitative"
                      },
                      "x": {
                        "axis": {
                          "title": "partial_comorbid"
                        },
                        "bin": {
                          "binned": true
                        },
                        "field": "xBinStart",
                        "type": "quantitative"
                      },
                      "x2": {
                        "field": "xBinEnd"
                      },
                      "y": {
                        "axis": {
                          "title": "partial_oku"
                        },
                        "bin": {
                          "binned": true
                        },
                        "field": "yBinStart",
                        "type": "quantitative"
                      },
                      "y2": {
                        "field": "yBinEnd"
                      }
                    },
                    "height": 150,
                    "selection": {
                      "selector042": {
                        "type": "interval",
                        "bind": "scales",
                        "encodings": [
                          "x",
                          "y"
                        ]
                      }
                    },
                    "width": 160,
                    "$schema": "https://vega.github.io/schema/vega-lite/v4.17.0.json",
                    "datasets": {
                      "data-beafb6751d161b2052a81d4b34eb2195": [
                        {
                          "count": 28875,
                          "xBinStart": -12.815,
                          "xBinEnd": 320.375,
                          "yBinStart": -3.371,
                          "yBinEnd": 84.275
                        },
                        {
                          "count": 8,
                          "xBinStart": -12.815,
                          "xBinEnd": 320.375,
                          "yBinStart": 84.275,
                          "yBinEnd": 168.55
                        },
                        {
                          "count": 1,
                          "xBinStart": -12.815,
                          "xBinEnd": 320.375,
                          "yBinStart": 252.825,
                          "yBinEnd": 337.1
                        },
                        {
                          "count": 572,
                          "xBinStart": 320.375,
                          "xBinEnd": 640.75,
                          "yBinStart": -3.371,
                          "yBinEnd": 84.275
                        },
                        {
                          "count": 31,
                          "xBinStart": 320.375,
                          "xBinEnd": 640.75,
                          "yBinStart": 84.275,
                          "yBinEnd": 168.55
                        },
                        {
                          "count": 2,
                          "xBinStart": 320.375,
                          "xBinEnd": 640.75,
                          "yBinStart": 168.55,
                          "yBinEnd": 252.825
                        },
                        {
                          "count": 3,
                          "xBinStart": 320.375,
                          "xBinEnd": 640.75,
                          "yBinStart": 252.825,
                          "yBinEnd": 337.1
                        },
                        {
                          "count": 1,
                          "xBinStart": 320.375,
                          "xBinEnd": 640.75,
                          "yBinStart": 337.1,
                          "yBinEnd": 421.375
                        },
                        {
                          "count": 1,
                          "xBinStart": 320.375,
                          "xBinEnd": 640.75,
                          "yBinStart": 421.375,
                          "yBinEnd": 505.65
                        },
                        {
                          "count": 1,
                          "xBinStart": 320.375,
                          "xBinEnd": 640.75,
                          "yBinStart": 505.65,
                          "yBinEnd": 589.925
                        },
                        {
                          "count": 202,
                          "xBinStart": 640.75,
                          "xBinEnd": 961.125,
                          "yBinStart": -3.371,
                          "yBinEnd": 84.275
                        },
                        {
                          "count": 16,
                          "xBinStart": 640.75,
                          "xBinEnd": 961.125,
                          "yBinStart": 84.275,
                          "yBinEnd": 168.55
                        },
                        {
                          "count": 3,
                          "xBinStart": 640.75,
                          "xBinEnd": 961.125,
                          "yBinStart": 168.55,
                          "yBinEnd": 252.825
                        },
                        {
                          "count": 1,
                          "xBinStart": 640.75,
                          "xBinEnd": 961.125,
                          "yBinStart": 252.825,
                          "yBinEnd": 337.1
                        },
                        {
                          "count": 3,
                          "xBinStart": 640.75,
                          "xBinEnd": 961.125,
                          "yBinStart": 421.375,
                          "yBinEnd": 505.65
                        },
                        {
                          "count": 66,
                          "xBinStart": 961.125,
                          "xBinEnd": 1281.5,
                          "yBinStart": -3.371,
                          "yBinEnd": 84.275
                        },
                        {
                          "count": 23,
                          "xBinStart": 961.125,
                          "xBinEnd": 1281.5,
                          "yBinStart": 84.275,
                          "yBinEnd": 168.55
                        },
                        {
                          "count": 1,
                          "xBinStart": 961.125,
                          "xBinEnd": 1281.5,
                          "yBinStart": 168.55,
                          "yBinEnd": 252.825
                        },
                        {
                          "count": 2,
                          "xBinStart": 961.125,
                          "xBinEnd": 1281.5,
                          "yBinStart": 252.825,
                          "yBinEnd": 337.1
                        },
                        {
                          "count": 1,
                          "xBinStart": 961.125,
                          "xBinEnd": 1281.5,
                          "yBinStart": 421.375,
                          "yBinEnd": 505.65
                        },
                        {
                          "count": 1,
                          "xBinStart": 961.125,
                          "xBinEnd": 1281.5,
                          "yBinStart": 505.65,
                          "yBinEnd": 589.925
                        },
                        {
                          "count": 1,
                          "xBinStart": 961.125,
                          "xBinEnd": 1281.5,
                          "yBinStart": 674.2,
                          "yBinEnd": 758.475
                        },
                        {
                          "count": 29,
                          "xBinStart": 1281.5,
                          "xBinEnd": 1601.875,
                          "yBinStart": -3.371,
                          "yBinEnd": 84.275
                        },
                        {
                          "count": 14,
                          "xBinStart": 1281.5,
                          "xBinEnd": 1601.875,
                          "yBinStart": 84.275,
                          "yBinEnd": 168.55
                        },
                        {
                          "count": 1,
                          "xBinStart": 1281.5,
                          "xBinEnd": 1601.875,
                          "yBinStart": 168.55,
                          "yBinEnd": 252.825
                        },
                        {
                          "count": 3,
                          "xBinStart": 1281.5,
                          "xBinEnd": 1601.875,
                          "yBinStart": 252.825,
                          "yBinEnd": 337.1
                        },
                        {
                          "count": 1,
                          "xBinStart": 1281.5,
                          "xBinEnd": 1601.875,
                          "yBinStart": 337.1,
                          "yBinEnd": 421.375
                        },
                        {
                          "count": 1,
                          "xBinStart": 1281.5,
                          "xBinEnd": 1601.875,
                          "yBinStart": 589.925,
                          "yBinEnd": 674.2
                        },
                        {
                          "count": 17,
                          "xBinStart": 1601.875,
                          "xBinEnd": 1922.25,
                          "yBinStart": -3.371,
                          "yBinEnd": 84.275
                        },
                        {
                          "count": 8,
                          "xBinStart": 1601.875,
                          "xBinEnd": 1922.25,
                          "yBinStart": 84.275,
                          "yBinEnd": 168.55
                        },
                        {
                          "count": 2,
                          "xBinStart": 1601.875,
                          "xBinEnd": 1922.25,
                          "yBinStart": 168.55,
                          "yBinEnd": 252.825
                        },
                        {
                          "count": 4,
                          "xBinStart": 1601.875,
                          "xBinEnd": 1922.25,
                          "yBinStart": 252.825,
                          "yBinEnd": 337.1
                        },
                        {
                          "count": 1,
                          "xBinStart": 1601.875,
                          "xBinEnd": 1922.25,
                          "yBinStart": 337.1,
                          "yBinEnd": 421.375
                        },
                        {
                          "count": 1,
                          "xBinStart": 1601.875,
                          "xBinEnd": 1922.25,
                          "yBinStart": 1516.95,
                          "yBinEnd": 1601.225
                        },
                        {
                          "count": 9,
                          "xBinStart": 1922.25,
                          "xBinEnd": 2242.625,
                          "yBinStart": -3.371,
                          "yBinEnd": 84.275
                        },
                        {
                          "count": 6,
                          "xBinStart": 1922.25,
                          "xBinEnd": 2242.625,
                          "yBinStart": 84.275,
                          "yBinEnd": 168.55
                        },
                        {
                          "count": 1,
                          "xBinStart": 1922.25,
                          "xBinEnd": 2242.625,
                          "yBinStart": 168.55,
                          "yBinEnd": 252.825
                        },
                        {
                          "count": 1,
                          "xBinStart": 1922.25,
                          "xBinEnd": 2242.625,
                          "yBinStart": 421.375,
                          "yBinEnd": 505.65
                        },
                        {
                          "count": 2,
                          "xBinStart": 2242.625,
                          "xBinEnd": 2563,
                          "yBinStart": -3.371,
                          "yBinEnd": 84.275
                        },
                        {
                          "count": 6,
                          "xBinStart": 2242.625,
                          "xBinEnd": 2563,
                          "yBinStart": 84.275,
                          "yBinEnd": 168.55
                        },
                        {
                          "count": 2,
                          "xBinStart": 2242.625,
                          "xBinEnd": 2563,
                          "yBinStart": 168.55,
                          "yBinEnd": 252.825
                        },
                        {
                          "count": 2,
                          "xBinStart": 2242.625,
                          "xBinEnd": 2563,
                          "yBinStart": 421.375,
                          "yBinEnd": 505.65
                        },
                        {
                          "count": 1,
                          "xBinStart": 2242.625,
                          "xBinEnd": 2563,
                          "yBinStart": 674.2,
                          "yBinEnd": 758.475
                        },
                        {
                          "count": 2,
                          "xBinStart": 2563,
                          "xBinEnd": 2883.375,
                          "yBinStart": 84.275,
                          "yBinEnd": 168.55
                        },
                        {
                          "count": 1,
                          "xBinStart": 2563,
                          "xBinEnd": 2883.375,
                          "yBinStart": 337.1,
                          "yBinEnd": 421.375
                        },
                        {
                          "count": 1,
                          "xBinStart": 2563,
                          "xBinEnd": 2883.375,
                          "yBinStart": 421.375,
                          "yBinEnd": 505.65
                        },
                        {
                          "count": 1,
                          "xBinStart": 2563,
                          "xBinEnd": 2883.375,
                          "yBinStart": 842.75,
                          "yBinEnd": 927.025
                        },
                        {
                          "count": 1,
                          "xBinStart": 2563,
                          "xBinEnd": 2883.375,
                          "yBinStart": 1516.95,
                          "yBinEnd": 1601.225
                        },
                        {
                          "count": 2,
                          "xBinStart": 2883.375,
                          "xBinEnd": 3203.75,
                          "yBinStart": -3.371,
                          "yBinEnd": 84.275
                        },
                        {
                          "count": 2,
                          "xBinStart": 2883.375,
                          "xBinEnd": 3203.75,
                          "yBinStart": 84.275,
                          "yBinEnd": 168.55
                        },
                        {
                          "count": 3,
                          "xBinStart": 2883.375,
                          "xBinEnd": 3203.75,
                          "yBinStart": 168.55,
                          "yBinEnd": 252.825
                        },
                        {
                          "count": 1,
                          "xBinStart": 2883.375,
                          "xBinEnd": 3203.75,
                          "yBinStart": 674.2,
                          "yBinEnd": 758.475
                        },
                        {
                          "count": 1,
                          "xBinStart": 3203.75,
                          "xBinEnd": 3524.125,
                          "yBinStart": 84.275,
                          "yBinEnd": 168.55
                        },
                        {
                          "count": 2,
                          "xBinStart": 3203.75,
                          "xBinEnd": 3524.125,
                          "yBinStart": 168.55,
                          "yBinEnd": 252.825
                        },
                        {
                          "count": 1,
                          "xBinStart": 3203.75,
                          "xBinEnd": 3524.125,
                          "yBinStart": 252.825,
                          "yBinEnd": 337.1
                        },
                        {
                          "count": 3,
                          "xBinStart": 3524.125,
                          "xBinEnd": 3844.5,
                          "yBinStart": 84.275,
                          "yBinEnd": 168.55
                        },
                        {
                          "count": 2,
                          "xBinStart": 3524.125,
                          "xBinEnd": 3844.5,
                          "yBinStart": 168.55,
                          "yBinEnd": 252.825
                        },
                        {
                          "count": 3,
                          "xBinStart": 3844.5,
                          "xBinEnd": 4164.875,
                          "yBinStart": 84.275,
                          "yBinEnd": 168.55
                        },
                        {
                          "count": 1,
                          "xBinStart": 4164.875,
                          "xBinEnd": 4485.25,
                          "yBinStart": -3.371,
                          "yBinEnd": 84.275
                        },
                        {
                          "count": 4,
                          "xBinStart": 4164.875,
                          "xBinEnd": 4485.25,
                          "yBinStart": 84.275,
                          "yBinEnd": 168.55
                        },
                        {
                          "count": 2,
                          "xBinStart": 4164.875,
                          "xBinEnd": 4485.25,
                          "yBinStart": 168.55,
                          "yBinEnd": 252.825
                        },
                        {
                          "count": 1,
                          "xBinStart": 4164.875,
                          "xBinEnd": 4485.25,
                          "yBinStart": 674.2,
                          "yBinEnd": 758.475
                        },
                        {
                          "count": 1,
                          "xBinStart": 4164.875,
                          "xBinEnd": 4485.25,
                          "yBinStart": 1011.3,
                          "yBinEnd": 1095.575
                        },
                        {
                          "count": 3,
                          "xBinStart": 4485.25,
                          "xBinEnd": 4805.625,
                          "yBinStart": 84.275,
                          "yBinEnd": 168.55
                        },
                        {
                          "count": 1,
                          "xBinStart": 4485.25,
                          "xBinEnd": 4805.625,
                          "yBinStart": 168.55,
                          "yBinEnd": 252.825
                        },
                        {
                          "count": 1,
                          "xBinStart": 4485.25,
                          "xBinEnd": 4805.625,
                          "yBinStart": 674.2,
                          "yBinEnd": 758.475
                        },
                        {
                          "count": 1,
                          "xBinStart": 4485.25,
                          "xBinEnd": 4805.625,
                          "yBinStart": 3286.725,
                          "yBinEnd": 3371
                        },
                        {
                          "count": 1,
                          "xBinStart": 4805.625,
                          "xBinEnd": 5126,
                          "yBinStart": 84.275,
                          "yBinEnd": 168.55
                        },
                        {
                          "count": 2,
                          "xBinStart": 5126,
                          "xBinEnd": 5446.375,
                          "yBinStart": 168.55,
                          "yBinEnd": 252.825
                        },
                        {
                          "count": 2,
                          "xBinStart": 5766.75,
                          "xBinEnd": 6087.125,
                          "yBinStart": 168.55,
                          "yBinEnd": 252.825
                        },
                        {
                          "count": 3,
                          "xBinStart": 6087.125,
                          "xBinEnd": 6407.5,
                          "yBinStart": 168.55,
                          "yBinEnd": 252.825
                        },
                        {
                          "count": 1,
                          "xBinStart": 6407.5,
                          "xBinEnd": 6727.875,
                          "yBinStart": 84.275,
                          "yBinEnd": 168.55
                        },
                        {
                          "count": 1,
                          "xBinStart": 6407.5,
                          "xBinEnd": 6727.875,
                          "yBinStart": 168.55,
                          "yBinEnd": 252.825
                        },
                        {
                          "count": 1,
                          "xBinStart": 6407.5,
                          "xBinEnd": 6727.875,
                          "yBinStart": 421.375,
                          "yBinEnd": 505.65
                        },
                        {
                          "count": 1,
                          "xBinStart": 6407.5,
                          "xBinEnd": 6727.875,
                          "yBinStart": 589.925,
                          "yBinEnd": 674.2
                        },
                        {
                          "count": 1,
                          "xBinStart": 6727.875,
                          "xBinEnd": 7048.25,
                          "yBinStart": 252.825,
                          "yBinEnd": 337.1
                        },
                        {
                          "count": 1,
                          "xBinStart": 6727.875,
                          "xBinEnd": 7048.25,
                          "yBinStart": 337.1,
                          "yBinEnd": 421.375
                        },
                        {
                          "count": 1,
                          "xBinStart": 7048.25,
                          "xBinEnd": 7368.625,
                          "yBinStart": 1938.325,
                          "yBinEnd": 2022.6
                        },
                        {
                          "count": 1,
                          "xBinStart": 7368.625,
                          "xBinEnd": 7689,
                          "yBinStart": 252.825,
                          "yBinEnd": 337.1
                        },
                        {
                          "count": 1,
                          "xBinStart": 7368.625,
                          "xBinEnd": 7689,
                          "yBinStart": 2359.7,
                          "yBinEnd": 2443.975
                        },
                        {
                          "count": 1,
                          "xBinStart": 7689,
                          "xBinEnd": 8009.375,
                          "yBinStart": 168.55,
                          "yBinEnd": 252.825
                        },
                        {
                          "count": 1,
                          "xBinStart": 7689,
                          "xBinEnd": 8009.375,
                          "yBinStart": 421.375,
                          "yBinEnd": 505.65
                        },
                        {
                          "count": 1,
                          "xBinStart": 8650.125,
                          "xBinEnd": 8970.5,
                          "yBinStart": 252.825,
                          "yBinEnd": 337.1
                        },
                        {
                          "count": 1,
                          "xBinStart": 8970.5,
                          "xBinEnd": 9290.875,
                          "yBinStart": 505.65,
                          "yBinEnd": 589.925
                        },
                        {
                          "count": 1,
                          "xBinStart": 9290.875,
                          "xBinEnd": 9611.25,
                          "yBinStart": 252.825,
                          "yBinEnd": 337.1
                        },
                        {
                          "count": 1,
                          "xBinStart": 9611.25,
                          "xBinEnd": 9931.625,
                          "yBinStart": 421.375,
                          "yBinEnd": 505.65
                        },
                        {
                          "count": 1,
                          "xBinStart": 9611.25,
                          "xBinEnd": 9931.625,
                          "yBinStart": 1516.95,
                          "yBinEnd": 1601.225
                        },
                        {
                          "count": 1,
                          "xBinStart": 9611.25,
                          "xBinEnd": 9931.625,
                          "yBinStart": 1854.05,
                          "yBinEnd": 1938.325
                        },
                        {
                          "count": 1,
                          "xBinStart": 10572.375,
                          "xBinEnd": 10892.75,
                          "yBinStart": 1769.775,
                          "yBinEnd": 1854.05
                        },
                        {
                          "count": 1,
                          "xBinStart": 10892.75,
                          "xBinEnd": 11213.125,
                          "yBinStart": 337.1,
                          "yBinEnd": 421.375
                        },
                        {
                          "count": 1,
                          "xBinStart": 11213.125,
                          "xBinEnd": 11533.5,
                          "yBinStart": 1095.575,
                          "yBinEnd": 1179.85
                        },
                        {
                          "count": 1,
                          "xBinStart": 11853.875,
                          "xBinEnd": 12174.25,
                          "yBinStart": 337.1,
                          "yBinEnd": 421.375
                        },
                        {
                          "count": 1,
                          "xBinStart": 11853.875,
                          "xBinEnd": 12174.25,
                          "yBinStart": 589.925,
                          "yBinEnd": 674.2
                        },
                        {
                          "count": 1,
                          "xBinStart": 12174.25,
                          "xBinEnd": 12494.625,
                          "yBinStart": 421.375,
                          "yBinEnd": 505.65
                        },
                        {
                          "count": 1,
                          "xBinStart": 12494.625,
                          "xBinEnd": 12815,
                          "yBinStart": 674.2,
                          "yBinEnd": 758.475
                        }
                      ]
                    },
                    "vislib": "vegalite"
                  },
                  {
                    "config": {
                      "view": {
                        "continuousWidth": 400,
                        "continuousHeight": 300
                      },
                      "axis": {
                        "labelColor": "#505050",
                        "labelFont": "Helvetica Neue",
                        "labelFontSize": 9,
                        "labelFontWeight": 400,
                        "titleFont": "Helvetica Neue",
                        "titleFontSize": 11,
                        "titleFontWeight": 500
                      },
                      "legend": {
                        "labelFont": "Helvetica Neue",
                        "labelFontSize": 9,
                        "labelFontWeight": 400,
                        "titleFont": "Helvetica Neue",
                        "titleFontSize": 10,
                        "titleFontWeight": 500
                      },
                      "mark": {
                        "tooltip": {
                          "content": "encoding"
                        }
                      },
                      "scale": {
                        "maxOpacity": 1,
                        "minOpacity": 0.1
                      },
                      "title": {
                        "font": "Helvetica Neue",
                        "fontSize": 13,
                        "fontWeight": 500
                      }
                    },
                    "data": {
                      "name": "data-dffbe4ee7b26206acff1c467ecaa2711"
                    },
                    "mark": "rect",
                    "encoding": {
                      "opacity": {
                        "field": "count",
                        "legend": null,
                        "scale": {
                          "type": "log"
                        },
                        "type": "quantitative"
                      },
                      "x": {
                        "axis": {
                          "title": "partial_comorbid"
                        },
                        "bin": {
                          "binned": true
                        },
                        "field": "xBinStart",
                        "type": "quantitative"
                      },
                      "x2": {
                        "field": "xBinEnd"
                      },
                      "y": {
                        "axis": {
                          "title": "full_comorbid"
                        },
                        "bin": {
                          "binned": true
                        },
                        "field": "yBinStart",
                        "type": "quantitative"
                      },
                      "y2": {
                        "field": "yBinEnd"
                      }
                    },
                    "height": 150,
                    "selection": {
                      "selector043": {
                        "type": "interval",
                        "bind": "scales",
                        "encodings": [
                          "x",
                          "y"
                        ]
                      }
                    },
                    "width": 160,
                    "$schema": "https://vega.github.io/schema/vega-lite/v4.17.0.json",
                    "datasets": {
                      "data-dffbe4ee7b26206acff1c467ecaa2711": [
                        {
                          "count": 28303,
                          "xBinStart": -12.815,
                          "xBinEnd": 320.375,
                          "yBinStart": -12.701,
                          "yBinEnd": 317.525
                        },
                        {
                          "count": 406,
                          "xBinStart": -12.815,
                          "xBinEnd": 320.375,
                          "yBinStart": 317.525,
                          "yBinEnd": 635.05
                        },
                        {
                          "count": 107,
                          "xBinStart": -12.815,
                          "xBinEnd": 320.375,
                          "yBinStart": 635.05,
                          "yBinEnd": 952.575
                        },
                        {
                          "count": 36,
                          "xBinStart": -12.815,
                          "xBinEnd": 320.375,
                          "yBinStart": 952.575,
                          "yBinEnd": 1270.1
                        },
                        {
                          "count": 15,
                          "xBinStart": -12.815,
                          "xBinEnd": 320.375,
                          "yBinStart": 1270.1,
                          "yBinEnd": 1587.625
                        },
                        {
                          "count": 7,
                          "xBinStart": -12.815,
                          "xBinEnd": 320.375,
                          "yBinStart": 1587.625,
                          "yBinEnd": 1905.15
                        },
                        {
                          "count": 6,
                          "xBinStart": -12.815,
                          "xBinEnd": 320.375,
                          "yBinStart": 1905.15,
                          "yBinEnd": 2222.675
                        },
                        {
                          "count": 3,
                          "xBinStart": -12.815,
                          "xBinEnd": 320.375,
                          "yBinStart": 2222.675,
                          "yBinEnd": 2540.2
                        },
                        {
                          "count": 1,
                          "xBinStart": -12.815,
                          "xBinEnd": 320.375,
                          "yBinStart": 2540.2,
                          "yBinEnd": 2857.725
                        },
                        {
                          "count": 407,
                          "xBinStart": 320.375,
                          "xBinEnd": 640.75,
                          "yBinStart": -12.701,
                          "yBinEnd": 317.525
                        },
                        {
                          "count": 111,
                          "xBinStart": 320.375,
                          "xBinEnd": 640.75,
                          "yBinStart": 317.525,
                          "yBinEnd": 635.05
                        },
                        {
                          "count": 33,
                          "xBinStart": 320.375,
                          "xBinEnd": 640.75,
                          "yBinStart": 635.05,
                          "yBinEnd": 952.575
                        },
                        {
                          "count": 28,
                          "xBinStart": 320.375,
                          "xBinEnd": 640.75,
                          "yBinStart": 952.575,
                          "yBinEnd": 1270.1
                        },
                        {
                          "count": 16,
                          "xBinStart": 320.375,
                          "xBinEnd": 640.75,
                          "yBinStart": 1270.1,
                          "yBinEnd": 1587.625
                        },
                        {
                          "count": 7,
                          "xBinStart": 320.375,
                          "xBinEnd": 640.75,
                          "yBinStart": 1587.625,
                          "yBinEnd": 1905.15
                        },
                        {
                          "count": 4,
                          "xBinStart": 320.375,
                          "xBinEnd": 640.75,
                          "yBinStart": 1905.15,
                          "yBinEnd": 2222.675
                        },
                        {
                          "count": 2,
                          "xBinStart": 320.375,
                          "xBinEnd": 640.75,
                          "yBinStart": 2222.675,
                          "yBinEnd": 2540.2
                        },
                        {
                          "count": 1,
                          "xBinStart": 320.375,
                          "xBinEnd": 640.75,
                          "yBinStart": 2540.2,
                          "yBinEnd": 2857.725
                        },
                        {
                          "count": 1,
                          "xBinStart": 320.375,
                          "xBinEnd": 640.75,
                          "yBinStart": 3810.3,
                          "yBinEnd": 4127.825
                        },
                        {
                          "count": 1,
                          "xBinStart": 320.375,
                          "xBinEnd": 640.75,
                          "yBinStart": 5715.45,
                          "yBinEnd": 6032.975
                        },
                        {
                          "count": 103,
                          "xBinStart": 640.75,
                          "xBinEnd": 961.125,
                          "yBinStart": -12.701,
                          "yBinEnd": 317.525
                        },
                        {
                          "count": 53,
                          "xBinStart": 640.75,
                          "xBinEnd": 961.125,
                          "yBinStart": 317.525,
                          "yBinEnd": 635.05
                        },
                        {
                          "count": 29,
                          "xBinStart": 640.75,
                          "xBinEnd": 961.125,
                          "yBinStart": 635.05,
                          "yBinEnd": 952.575
                        },
                        {
                          "count": 20,
                          "xBinStart": 640.75,
                          "xBinEnd": 961.125,
                          "yBinStart": 952.575,
                          "yBinEnd": 1270.1
                        },
                        {
                          "count": 4,
                          "xBinStart": 640.75,
                          "xBinEnd": 961.125,
                          "yBinStart": 1270.1,
                          "yBinEnd": 1587.625
                        },
                        {
                          "count": 1,
                          "xBinStart": 640.75,
                          "xBinEnd": 961.125,
                          "yBinStart": 1587.625,
                          "yBinEnd": 1905.15
                        },
                        {
                          "count": 5,
                          "xBinStart": 640.75,
                          "xBinEnd": 961.125,
                          "yBinStart": 1905.15,
                          "yBinEnd": 2222.675
                        },
                        {
                          "count": 2,
                          "xBinStart": 640.75,
                          "xBinEnd": 961.125,
                          "yBinStart": 2222.675,
                          "yBinEnd": 2540.2
                        },
                        {
                          "count": 2,
                          "xBinStart": 640.75,
                          "xBinEnd": 961.125,
                          "yBinStart": 2540.2,
                          "yBinEnd": 2857.725
                        },
                        {
                          "count": 1,
                          "xBinStart": 640.75,
                          "xBinEnd": 961.125,
                          "yBinStart": 2857.725,
                          "yBinEnd": 3175.25
                        },
                        {
                          "count": 1,
                          "xBinStart": 640.75,
                          "xBinEnd": 961.125,
                          "yBinStart": 3492.775,
                          "yBinEnd": 3810.3
                        },
                        {
                          "count": 1,
                          "xBinStart": 640.75,
                          "xBinEnd": 961.125,
                          "yBinStart": 3810.3,
                          "yBinEnd": 4127.825
                        },
                        {
                          "count": 2,
                          "xBinStart": 640.75,
                          "xBinEnd": 961.125,
                          "yBinStart": 4127.825,
                          "yBinEnd": 4445.35
                        },
                        {
                          "count": 1,
                          "xBinStart": 640.75,
                          "xBinEnd": 961.125,
                          "yBinStart": 4762.875,
                          "yBinEnd": 5080.4
                        },
                        {
                          "count": 30,
                          "xBinStart": 961.125,
                          "xBinEnd": 1281.5,
                          "yBinStart": -12.701,
                          "yBinEnd": 317.525
                        },
                        {
                          "count": 20,
                          "xBinStart": 961.125,
                          "xBinEnd": 1281.5,
                          "yBinStart": 317.525,
                          "yBinEnd": 635.05
                        },
                        {
                          "count": 20,
                          "xBinStart": 961.125,
                          "xBinEnd": 1281.5,
                          "yBinStart": 635.05,
                          "yBinEnd": 952.575
                        },
                        {
                          "count": 7,
                          "xBinStart": 961.125,
                          "xBinEnd": 1281.5,
                          "yBinStart": 952.575,
                          "yBinEnd": 1270.1
                        },
                        {
                          "count": 6,
                          "xBinStart": 961.125,
                          "xBinEnd": 1281.5,
                          "yBinStart": 1270.1,
                          "yBinEnd": 1587.625
                        },
                        {
                          "count": 2,
                          "xBinStart": 961.125,
                          "xBinEnd": 1281.5,
                          "yBinStart": 1587.625,
                          "yBinEnd": 1905.15
                        },
                        {
                          "count": 1,
                          "xBinStart": 961.125,
                          "xBinEnd": 1281.5,
                          "yBinStart": 2222.675,
                          "yBinEnd": 2540.2
                        },
                        {
                          "count": 2,
                          "xBinStart": 961.125,
                          "xBinEnd": 1281.5,
                          "yBinStart": 2857.725,
                          "yBinEnd": 3175.25
                        },
                        {
                          "count": 1,
                          "xBinStart": 961.125,
                          "xBinEnd": 1281.5,
                          "yBinStart": 3175.25,
                          "yBinEnd": 3492.775
                        },
                        {
                          "count": 2,
                          "xBinStart": 961.125,
                          "xBinEnd": 1281.5,
                          "yBinStart": 4127.825,
                          "yBinEnd": 4445.35
                        },
                        {
                          "count": 3,
                          "xBinStart": 961.125,
                          "xBinEnd": 1281.5,
                          "yBinStart": 4762.875,
                          "yBinEnd": 5080.4
                        },
                        {
                          "count": 1,
                          "xBinStart": 961.125,
                          "xBinEnd": 1281.5,
                          "yBinStart": 8255.65,
                          "yBinEnd": 8573.175
                        },
                        {
                          "count": 10,
                          "xBinStart": 1281.5,
                          "xBinEnd": 1601.875,
                          "yBinStart": -12.701,
                          "yBinEnd": 317.525
                        },
                        {
                          "count": 6,
                          "xBinStart": 1281.5,
                          "xBinEnd": 1601.875,
                          "yBinStart": 317.525,
                          "yBinEnd": 635.05
                        },
                        {
                          "count": 9,
                          "xBinStart": 1281.5,
                          "xBinEnd": 1601.875,
                          "yBinStart": 635.05,
                          "yBinEnd": 952.575
                        },
                        {
                          "count": 5,
                          "xBinStart": 1281.5,
                          "xBinEnd": 1601.875,
                          "yBinStart": 952.575,
                          "yBinEnd": 1270.1
                        },
                        {
                          "count": 5,
                          "xBinStart": 1281.5,
                          "xBinEnd": 1601.875,
                          "yBinStart": 1270.1,
                          "yBinEnd": 1587.625
                        },
                        {
                          "count": 3,
                          "xBinStart": 1281.5,
                          "xBinEnd": 1601.875,
                          "yBinStart": 1587.625,
                          "yBinEnd": 1905.15
                        },
                        {
                          "count": 2,
                          "xBinStart": 1281.5,
                          "xBinEnd": 1601.875,
                          "yBinStart": 1905.15,
                          "yBinEnd": 2222.675
                        },
                        {
                          "count": 2,
                          "xBinStart": 1281.5,
                          "xBinEnd": 1601.875,
                          "yBinStart": 2540.2,
                          "yBinEnd": 2857.725
                        },
                        {
                          "count": 1,
                          "xBinStart": 1281.5,
                          "xBinEnd": 1601.875,
                          "yBinStart": 3175.25,
                          "yBinEnd": 3492.775
                        },
                        {
                          "count": 1,
                          "xBinStart": 1281.5,
                          "xBinEnd": 1601.875,
                          "yBinStart": 3492.775,
                          "yBinEnd": 3810.3
                        },
                        {
                          "count": 2,
                          "xBinStart": 1281.5,
                          "xBinEnd": 1601.875,
                          "yBinStart": 3810.3,
                          "yBinEnd": 4127.825
                        },
                        {
                          "count": 1,
                          "xBinStart": 1281.5,
                          "xBinEnd": 1601.875,
                          "yBinStart": 4127.825,
                          "yBinEnd": 4445.35
                        },
                        {
                          "count": 1,
                          "xBinStart": 1281.5,
                          "xBinEnd": 1601.875,
                          "yBinStart": 4762.875,
                          "yBinEnd": 5080.4
                        },
                        {
                          "count": 1,
                          "xBinStart": 1281.5,
                          "xBinEnd": 1601.875,
                          "yBinStart": 12383.475,
                          "yBinEnd": 12701
                        },
                        {
                          "count": 6,
                          "xBinStart": 1601.875,
                          "xBinEnd": 1922.25,
                          "yBinStart": -12.701,
                          "yBinEnd": 317.525
                        },
                        {
                          "count": 3,
                          "xBinStart": 1601.875,
                          "xBinEnd": 1922.25,
                          "yBinStart": 317.525,
                          "yBinEnd": 635.05
                        },
                        {
                          "count": 5,
                          "xBinStart": 1601.875,
                          "xBinEnd": 1922.25,
                          "yBinStart": 635.05,
                          "yBinEnd": 952.575
                        },
                        {
                          "count": 3,
                          "xBinStart": 1601.875,
                          "xBinEnd": 1922.25,
                          "yBinStart": 952.575,
                          "yBinEnd": 1270.1
                        },
                        {
                          "count": 3,
                          "xBinStart": 1601.875,
                          "xBinEnd": 1922.25,
                          "yBinStart": 1270.1,
                          "yBinEnd": 1587.625
                        },
                        {
                          "count": 1,
                          "xBinStart": 1601.875,
                          "xBinEnd": 1922.25,
                          "yBinStart": 1587.625,
                          "yBinEnd": 1905.15
                        },
                        {
                          "count": 3,
                          "xBinStart": 1601.875,
                          "xBinEnd": 1922.25,
                          "yBinStart": 1905.15,
                          "yBinEnd": 2222.675
                        },
                        {
                          "count": 2,
                          "xBinStart": 1601.875,
                          "xBinEnd": 1922.25,
                          "yBinStart": 2540.2,
                          "yBinEnd": 2857.725
                        },
                        {
                          "count": 1,
                          "xBinStart": 1601.875,
                          "xBinEnd": 1922.25,
                          "yBinStart": 3175.25,
                          "yBinEnd": 3492.775
                        },
                        {
                          "count": 1,
                          "xBinStart": 1601.875,
                          "xBinEnd": 1922.25,
                          "yBinStart": 3810.3,
                          "yBinEnd": 4127.825
                        },
                        {
                          "count": 1,
                          "xBinStart": 1601.875,
                          "xBinEnd": 1922.25,
                          "yBinStart": 4445.35,
                          "yBinEnd": 4762.875
                        },
                        {
                          "count": 1,
                          "xBinStart": 1601.875,
                          "xBinEnd": 1922.25,
                          "yBinStart": 4762.875,
                          "yBinEnd": 5080.4
                        },
                        {
                          "count": 1,
                          "xBinStart": 1601.875,
                          "xBinEnd": 1922.25,
                          "yBinStart": 8890.7,
                          "yBinEnd": 9208.225
                        },
                        {
                          "count": 1,
                          "xBinStart": 1601.875,
                          "xBinEnd": 1922.25,
                          "yBinStart": 9525.75,
                          "yBinEnd": 9843.275
                        },
                        {
                          "count": 1,
                          "xBinStart": 1601.875,
                          "xBinEnd": 1922.25,
                          "yBinStart": 10478.325,
                          "yBinEnd": 10795.85
                        },
                        {
                          "count": 2,
                          "xBinStart": 1922.25,
                          "xBinEnd": 2242.625,
                          "yBinStart": -12.701,
                          "yBinEnd": 317.525
                        },
                        {
                          "count": 2,
                          "xBinStart": 1922.25,
                          "xBinEnd": 2242.625,
                          "yBinStart": 317.525,
                          "yBinEnd": 635.05
                        },
                        {
                          "count": 1,
                          "xBinStart": 1922.25,
                          "xBinEnd": 2242.625,
                          "yBinStart": 635.05,
                          "yBinEnd": 952.575
                        },
                        {
                          "count": 1,
                          "xBinStart": 1922.25,
                          "xBinEnd": 2242.625,
                          "yBinStart": 952.575,
                          "yBinEnd": 1270.1
                        },
                        {
                          "count": 4,
                          "xBinStart": 1922.25,
                          "xBinEnd": 2242.625,
                          "yBinStart": 1270.1,
                          "yBinEnd": 1587.625
                        },
                        {
                          "count": 4,
                          "xBinStart": 1922.25,
                          "xBinEnd": 2242.625,
                          "yBinStart": 1587.625,
                          "yBinEnd": 1905.15
                        },
                        {
                          "count": 1,
                          "xBinStart": 1922.25,
                          "xBinEnd": 2242.625,
                          "yBinStart": 2222.675,
                          "yBinEnd": 2540.2
                        },
                        {
                          "count": 1,
                          "xBinStart": 1922.25,
                          "xBinEnd": 2242.625,
                          "yBinStart": 2540.2,
                          "yBinEnd": 2857.725
                        },
                        {
                          "count": 1,
                          "xBinStart": 1922.25,
                          "xBinEnd": 2242.625,
                          "yBinStart": 8255.65,
                          "yBinEnd": 8573.175
                        },
                        {
                          "count": 4,
                          "xBinStart": 2242.625,
                          "xBinEnd": 2563,
                          "yBinStart": -12.701,
                          "yBinEnd": 317.525
                        },
                        {
                          "count": 5,
                          "xBinStart": 2242.625,
                          "xBinEnd": 2563,
                          "yBinStart": 317.525,
                          "yBinEnd": 635.05
                        },
                        {
                          "count": 1,
                          "xBinStart": 2242.625,
                          "xBinEnd": 2563,
                          "yBinStart": 635.05,
                          "yBinEnd": 952.575
                        },
                        {
                          "count": 1,
                          "xBinStart": 2242.625,
                          "xBinEnd": 2563,
                          "yBinStart": 1270.1,
                          "yBinEnd": 1587.625
                        },
                        {
                          "count": 1,
                          "xBinStart": 2242.625,
                          "xBinEnd": 2563,
                          "yBinStart": 1905.15,
                          "yBinEnd": 2222.675
                        },
                        {
                          "count": 1,
                          "xBinStart": 2242.625,
                          "xBinEnd": 2563,
                          "yBinStart": 10795.85,
                          "yBinEnd": 11113.375
                        },
                        {
                          "count": 1,
                          "xBinStart": 2563,
                          "xBinEnd": 2883.375,
                          "yBinStart": -12.701,
                          "yBinEnd": 317.525
                        },
                        {
                          "count": 1,
                          "xBinStart": 2563,
                          "xBinEnd": 2883.375,
                          "yBinStart": 317.525,
                          "yBinEnd": 635.05
                        },
                        {
                          "count": 1,
                          "xBinStart": 2563,
                          "xBinEnd": 2883.375,
                          "yBinStart": 1270.1,
                          "yBinEnd": 1587.625
                        },
                        {
                          "count": 1,
                          "xBinStart": 2563,
                          "xBinEnd": 2883.375,
                          "yBinStart": 4445.35,
                          "yBinEnd": 4762.875
                        },
                        {
                          "count": 1,
                          "xBinStart": 2563,
                          "xBinEnd": 2883.375,
                          "yBinStart": 8890.7,
                          "yBinEnd": 9208.225
                        },
                        {
                          "count": 1,
                          "xBinStart": 2563,
                          "xBinEnd": 2883.375,
                          "yBinStart": 9843.275,
                          "yBinEnd": 10160.8
                        },
                        {
                          "count": 1,
                          "xBinStart": 2883.375,
                          "xBinEnd": 3203.75,
                          "yBinStart": 317.525,
                          "yBinEnd": 635.05
                        },
                        {
                          "count": 1,
                          "xBinStart": 2883.375,
                          "xBinEnd": 3203.75,
                          "yBinStart": 635.05,
                          "yBinEnd": 952.575
                        },
                        {
                          "count": 1,
                          "xBinStart": 2883.375,
                          "xBinEnd": 3203.75,
                          "yBinStart": 952.575,
                          "yBinEnd": 1270.1
                        },
                        {
                          "count": 2,
                          "xBinStart": 2883.375,
                          "xBinEnd": 3203.75,
                          "yBinStart": 1905.15,
                          "yBinEnd": 2222.675
                        },
                        {
                          "count": 1,
                          "xBinStart": 2883.375,
                          "xBinEnd": 3203.75,
                          "yBinStart": 2222.675,
                          "yBinEnd": 2540.2
                        },
                        {
                          "count": 1,
                          "xBinStart": 2883.375,
                          "xBinEnd": 3203.75,
                          "yBinStart": 3175.25,
                          "yBinEnd": 3492.775
                        },
                        {
                          "count": 1,
                          "xBinStart": 2883.375,
                          "xBinEnd": 3203.75,
                          "yBinStart": 3492.775,
                          "yBinEnd": 3810.3
                        },
                        {
                          "count": 1,
                          "xBinStart": 3203.75,
                          "xBinEnd": 3524.125,
                          "yBinStart": 952.575,
                          "yBinEnd": 1270.1
                        },
                        {
                          "count": 1,
                          "xBinStart": 3203.75,
                          "xBinEnd": 3524.125,
                          "yBinStart": 3810.3,
                          "yBinEnd": 4127.825
                        },
                        {
                          "count": 1,
                          "xBinStart": 3203.75,
                          "xBinEnd": 3524.125,
                          "yBinStart": 4445.35,
                          "yBinEnd": 4762.875
                        },
                        {
                          "count": 1,
                          "xBinStart": 3203.75,
                          "xBinEnd": 3524.125,
                          "yBinStart": 7938.125,
                          "yBinEnd": 8255.65
                        },
                        {
                          "count": 2,
                          "xBinStart": 3524.125,
                          "xBinEnd": 3844.5,
                          "yBinStart": -12.701,
                          "yBinEnd": 317.525
                        },
                        {
                          "count": 1,
                          "xBinStart": 3524.125,
                          "xBinEnd": 3844.5,
                          "yBinStart": 952.575,
                          "yBinEnd": 1270.1
                        },
                        {
                          "count": 1,
                          "xBinStart": 3524.125,
                          "xBinEnd": 3844.5,
                          "yBinStart": 1905.15,
                          "yBinEnd": 2222.675
                        },
                        {
                          "count": 1,
                          "xBinStart": 3524.125,
                          "xBinEnd": 3844.5,
                          "yBinStart": 5715.45,
                          "yBinEnd": 6032.975
                        },
                        {
                          "count": 1,
                          "xBinStart": 3844.5,
                          "xBinEnd": 4164.875,
                          "yBinStart": -12.701,
                          "yBinEnd": 317.525
                        },
                        {
                          "count": 1,
                          "xBinStart": 3844.5,
                          "xBinEnd": 4164.875,
                          "yBinStart": 635.05,
                          "yBinEnd": 952.575
                        },
                        {
                          "count": 1,
                          "xBinStart": 3844.5,
                          "xBinEnd": 4164.875,
                          "yBinStart": 952.575,
                          "yBinEnd": 1270.1
                        },
                        {
                          "count": 2,
                          "xBinStart": 4164.875,
                          "xBinEnd": 4485.25,
                          "yBinStart": -12.701,
                          "yBinEnd": 317.525
                        },
                        {
                          "count": 2,
                          "xBinStart": 4164.875,
                          "xBinEnd": 4485.25,
                          "yBinStart": 635.05,
                          "yBinEnd": 952.575
                        },
                        {
                          "count": 1,
                          "xBinStart": 4164.875,
                          "xBinEnd": 4485.25,
                          "yBinStart": 1270.1,
                          "yBinEnd": 1587.625
                        },
                        {
                          "count": 1,
                          "xBinStart": 4164.875,
                          "xBinEnd": 4485.25,
                          "yBinStart": 1587.625,
                          "yBinEnd": 1905.15
                        },
                        {
                          "count": 1,
                          "xBinStart": 4164.875,
                          "xBinEnd": 4485.25,
                          "yBinStart": 3810.3,
                          "yBinEnd": 4127.825
                        },
                        {
                          "count": 2,
                          "xBinStart": 4164.875,
                          "xBinEnd": 4485.25,
                          "yBinStart": 4762.875,
                          "yBinEnd": 5080.4
                        },
                        {
                          "count": 1,
                          "xBinStart": 4485.25,
                          "xBinEnd": 4805.625,
                          "yBinStart": -12.701,
                          "yBinEnd": 317.525
                        },
                        {
                          "count": 1,
                          "xBinStart": 4485.25,
                          "xBinEnd": 4805.625,
                          "yBinStart": 317.525,
                          "yBinEnd": 635.05
                        },
                        {
                          "count": 1,
                          "xBinStart": 4485.25,
                          "xBinEnd": 4805.625,
                          "yBinStart": 952.575,
                          "yBinEnd": 1270.1
                        },
                        {
                          "count": 2,
                          "xBinStart": 4485.25,
                          "xBinEnd": 4805.625,
                          "yBinStart": 1270.1,
                          "yBinEnd": 1587.625
                        },
                        {
                          "count": 1,
                          "xBinStart": 4485.25,
                          "xBinEnd": 4805.625,
                          "yBinStart": 4762.875,
                          "yBinEnd": 5080.4
                        },
                        {
                          "count": 1,
                          "xBinStart": 4805.625,
                          "xBinEnd": 5126,
                          "yBinStart": 635.05,
                          "yBinEnd": 952.575
                        },
                        {
                          "count": 1,
                          "xBinStart": 5126,
                          "xBinEnd": 5446.375,
                          "yBinStart": -12.701,
                          "yBinEnd": 317.525
                        },
                        {
                          "count": 1,
                          "xBinStart": 5126,
                          "xBinEnd": 5446.375,
                          "yBinStart": 635.05,
                          "yBinEnd": 952.575
                        },
                        {
                          "count": 1,
                          "xBinStart": 5766.75,
                          "xBinEnd": 6087.125,
                          "yBinStart": 317.525,
                          "yBinEnd": 635.05
                        },
                        {
                          "count": 1,
                          "xBinStart": 5766.75,
                          "xBinEnd": 6087.125,
                          "yBinStart": 635.05,
                          "yBinEnd": 952.575
                        },
                        {
                          "count": 1,
                          "xBinStart": 6087.125,
                          "xBinEnd": 6407.5,
                          "yBinStart": 317.525,
                          "yBinEnd": 635.05
                        },
                        {
                          "count": 1,
                          "xBinStart": 6087.125,
                          "xBinEnd": 6407.5,
                          "yBinStart": 635.05,
                          "yBinEnd": 952.575
                        },
                        {
                          "count": 1,
                          "xBinStart": 6087.125,
                          "xBinEnd": 6407.5,
                          "yBinStart": 952.575,
                          "yBinEnd": 1270.1
                        },
                        {
                          "count": 1,
                          "xBinStart": 6407.5,
                          "xBinEnd": 6727.875,
                          "yBinStart": -12.701,
                          "yBinEnd": 317.525
                        },
                        {
                          "count": 1,
                          "xBinStart": 6407.5,
                          "xBinEnd": 6727.875,
                          "yBinStart": 3810.3,
                          "yBinEnd": 4127.825
                        },
                        {
                          "count": 1,
                          "xBinStart": 6407.5,
                          "xBinEnd": 6727.875,
                          "yBinStart": 4762.875,
                          "yBinEnd": 5080.4
                        },
                        {
                          "count": 1,
                          "xBinStart": 6407.5,
                          "xBinEnd": 6727.875,
                          "yBinStart": 8890.7,
                          "yBinEnd": 9208.225
                        },
                        {
                          "count": 1,
                          "xBinStart": 6727.875,
                          "xBinEnd": 7048.25,
                          "yBinStart": 2540.2,
                          "yBinEnd": 2857.725
                        },
                        {
                          "count": 1,
                          "xBinStart": 6727.875,
                          "xBinEnd": 7048.25,
                          "yBinStart": 5397.925,
                          "yBinEnd": 5715.45
                        },
                        {
                          "count": 1,
                          "xBinStart": 7048.25,
                          "xBinEnd": 7368.625,
                          "yBinStart": 8890.7,
                          "yBinEnd": 9208.225
                        },
                        {
                          "count": 1,
                          "xBinStart": 7368.625,
                          "xBinEnd": 7689,
                          "yBinStart": 5715.45,
                          "yBinEnd": 6032.975
                        },
                        {
                          "count": 1,
                          "xBinStart": 7368.625,
                          "xBinEnd": 7689,
                          "yBinStart": 7620.6,
                          "yBinEnd": 7938.125
                        },
                        {
                          "count": 1,
                          "xBinStart": 7689,
                          "xBinEnd": 8009.375,
                          "yBinStart": 1587.625,
                          "yBinEnd": 1905.15
                        },
                        {
                          "count": 1,
                          "xBinStart": 7689,
                          "xBinEnd": 8009.375,
                          "yBinStart": 7938.125,
                          "yBinEnd": 8255.65
                        },
                        {
                          "count": 1,
                          "xBinStart": 8650.125,
                          "xBinEnd": 8970.5,
                          "yBinStart": 8255.65,
                          "yBinEnd": 8573.175
                        },
                        {
                          "count": 1,
                          "xBinStart": 8970.5,
                          "xBinEnd": 9290.875,
                          "yBinStart": 6985.55,
                          "yBinEnd": 7303.075
                        },
                        {
                          "count": 1,
                          "xBinStart": 9290.875,
                          "xBinEnd": 9611.25,
                          "yBinStart": 4445.35,
                          "yBinEnd": 4762.875
                        },
                        {
                          "count": 1,
                          "xBinStart": 9611.25,
                          "xBinEnd": 9931.625,
                          "yBinStart": 7620.6,
                          "yBinEnd": 7938.125
                        },
                        {
                          "count": 1,
                          "xBinStart": 9611.25,
                          "xBinEnd": 9931.625,
                          "yBinStart": 7938.125,
                          "yBinEnd": 8255.65
                        },
                        {
                          "count": 1,
                          "xBinStart": 9611.25,
                          "xBinEnd": 9931.625,
                          "yBinStart": 9208.225,
                          "yBinEnd": 9525.75
                        },
                        {
                          "count": 1,
                          "xBinStart": 10572.375,
                          "xBinEnd": 10892.75,
                          "yBinStart": 8890.7,
                          "yBinEnd": 9208.225
                        },
                        {
                          "count": 1,
                          "xBinStart": 10892.75,
                          "xBinEnd": 11213.125,
                          "yBinStart": 4127.825,
                          "yBinEnd": 4445.35
                        },
                        {
                          "count": 1,
                          "xBinStart": 11213.125,
                          "xBinEnd": 11533.5,
                          "yBinStart": 9208.225,
                          "yBinEnd": 9525.75
                        },
                        {
                          "count": 1,
                          "xBinStart": 11853.875,
                          "xBinEnd": 12174.25,
                          "yBinStart": 2222.675,
                          "yBinEnd": 2540.2
                        },
                        {
                          "count": 1,
                          "xBinStart": 11853.875,
                          "xBinEnd": 12174.25,
                          "yBinStart": 4127.825,
                          "yBinEnd": 4445.35
                        },
                        {
                          "count": 1,
                          "xBinStart": 12174.25,
                          "xBinEnd": 12494.625,
                          "yBinStart": 3175.25,
                          "yBinEnd": 3492.775
                        },
                        {
                          "count": 1,
                          "xBinStart": 12494.625,
                          "xBinEnd": 12815,
                          "yBinStart": 317.525,
                          "yBinEnd": 635.05
                        }
                      ]
                    },
                    "vislib": "vegalite"
                  },
                  {
                    "config": {
                      "view": {
                        "continuousWidth": 400,
                        "continuousHeight": 300
                      },
                      "axis": {
                        "labelColor": "#505050",
                        "labelFont": "Helvetica Neue",
                        "labelFontSize": 9,
                        "labelFontWeight": 400,
                        "titleFont": "Helvetica Neue",
                        "titleFontSize": 11,
                        "titleFontWeight": 500
                      },
                      "legend": {
                        "labelFont": "Helvetica Neue",
                        "labelFontSize": 9,
                        "labelFontWeight": 400,
                        "titleFont": "Helvetica Neue",
                        "titleFontSize": 10,
                        "titleFontWeight": 500
                      },
                      "mark": {
                        "tooltip": {
                          "content": "encoding"
                        }
                      },
                      "scale": {
                        "maxOpacity": 1,
                        "minOpacity": 0.1
                      },
                      "title": {
                        "font": "Helvetica Neue",
                        "fontSize": 13,
                        "fontWeight": 500
                      }
                    },
                    "data": {
                      "name": "data-35e6c301b142fffcc43d7e4de7d7e7be"
                    },
                    "mark": "rect",
                    "encoding": {
                      "opacity": {
                        "field": "count",
                        "legend": null,
                        "scale": {
                          "type": "log"
                        },
                        "type": "quantitative"
                      },
                      "x": {
                        "axis": {
                          "title": "booster2_oku"
                        },
                        "bin": {
                          "binned": true
                        },
                        "field": "xBinStart",
                        "type": "quantitative"
                      },
                      "x2": {
                        "field": "xBinEnd"
                      },
                      "y": {
                        "axis": {
                          "title": "booster2_hcw"
                        },
                        "bin": {
                          "binned": true
                        },
                        "field": "yBinStart",
                        "type": "quantitative"
                      },
                      "y2": {
                        "field": "yBinEnd"
                      }
                    },
                    "height": 150,
                    "selection": {
                      "selector044": {
                        "type": "interval",
                        "bind": "scales",
                        "encodings": [
                          "x",
                          "y"
                        ]
                      }
                    },
                    "width": 160,
                    "$schema": "https://vega.github.io/schema/vega-lite/v4.17.0.json",
                    "datasets": {
                      "data-35e6c301b142fffcc43d7e4de7d7e7be": [
                        {
                          "count": 29370,
                          "xBinStart": -0.07,
                          "xBinEnd": 1.75,
                          "yBinStart": -0.284,
                          "yBinEnd": 7.1
                        },
                        {
                          "count": 91,
                          "xBinStart": -0.07,
                          "xBinEnd": 1.75,
                          "yBinStart": 7.1,
                          "yBinEnd": 14.2
                        },
                        {
                          "count": 28,
                          "xBinStart": -0.07,
                          "xBinEnd": 1.75,
                          "yBinStart": 14.2,
                          "yBinEnd": 21.3
                        },
                        {
                          "count": 16,
                          "xBinStart": -0.07,
                          "xBinEnd": 1.75,
                          "yBinStart": 21.3,
                          "yBinEnd": 28.4
                        },
                        {
                          "count": 9,
                          "xBinStart": -0.07,
                          "xBinEnd": 1.75,
                          "yBinStart": 28.4,
                          "yBinEnd": 35.5
                        },
                        {
                          "count": 7,
                          "xBinStart": -0.07,
                          "xBinEnd": 1.75,
                          "yBinStart": 35.5,
                          "yBinEnd": 42.6
                        },
                        {
                          "count": 4,
                          "xBinStart": -0.07,
                          "xBinEnd": 1.75,
                          "yBinStart": 42.6,
                          "yBinEnd": 49.7
                        },
                        {
                          "count": 1,
                          "xBinStart": -0.07,
                          "xBinEnd": 1.75,
                          "yBinStart": 49.7,
                          "yBinEnd": 56.8
                        },
                        {
                          "count": 1,
                          "xBinStart": -0.07,
                          "xBinEnd": 1.75,
                          "yBinStart": 63.9,
                          "yBinEnd": 71
                        },
                        {
                          "count": 1,
                          "xBinStart": -0.07,
                          "xBinEnd": 1.75,
                          "yBinStart": 78.1,
                          "yBinEnd": 85.2
                        },
                        {
                          "count": 1,
                          "xBinStart": -0.07,
                          "xBinEnd": 1.75,
                          "yBinStart": 85.2,
                          "yBinEnd": 92.3
                        },
                        {
                          "count": 1,
                          "xBinStart": -0.07,
                          "xBinEnd": 1.75,
                          "yBinStart": 92.3,
                          "yBinEnd": 99.4
                        },
                        {
                          "count": 1,
                          "xBinStart": -0.07,
                          "xBinEnd": 1.75,
                          "yBinStart": 113.6,
                          "yBinEnd": 120.7
                        },
                        {
                          "count": 1,
                          "xBinStart": -0.07,
                          "xBinEnd": 1.75,
                          "yBinStart": 142,
                          "yBinEnd": 149.1
                        },
                        {
                          "count": 1,
                          "xBinStart": -0.07,
                          "xBinEnd": 1.75,
                          "yBinStart": 184.6,
                          "yBinEnd": 191.7
                        },
                        {
                          "count": 207,
                          "xBinStart": 1.75,
                          "xBinEnd": 3.5,
                          "yBinStart": -0.284,
                          "yBinEnd": 7.1
                        },
                        {
                          "count": 34,
                          "xBinStart": 1.75,
                          "xBinEnd": 3.5,
                          "yBinStart": 7.1,
                          "yBinEnd": 14.2
                        },
                        {
                          "count": 10,
                          "xBinStart": 1.75,
                          "xBinEnd": 3.5,
                          "yBinStart": 14.2,
                          "yBinEnd": 21.3
                        },
                        {
                          "count": 8,
                          "xBinStart": 1.75,
                          "xBinEnd": 3.5,
                          "yBinStart": 21.3,
                          "yBinEnd": 28.4
                        },
                        {
                          "count": 3,
                          "xBinStart": 1.75,
                          "xBinEnd": 3.5,
                          "yBinStart": 28.4,
                          "yBinEnd": 35.5
                        },
                        {
                          "count": 1,
                          "xBinStart": 1.75,
                          "xBinEnd": 3.5,
                          "yBinStart": 35.5,
                          "yBinEnd": 42.6
                        },
                        {
                          "count": 1,
                          "xBinStart": 1.75,
                          "xBinEnd": 3.5,
                          "yBinStart": 42.6,
                          "yBinEnd": 49.7
                        },
                        {
                          "count": 2,
                          "xBinStart": 1.75,
                          "xBinEnd": 3.5,
                          "yBinStart": 63.9,
                          "yBinEnd": 71
                        },
                        {
                          "count": 2,
                          "xBinStart": 1.75,
                          "xBinEnd": 3.5,
                          "yBinStart": 71,
                          "yBinEnd": 78.1
                        },
                        {
                          "count": 2,
                          "xBinStart": 1.75,
                          "xBinEnd": 3.5,
                          "yBinStart": 78.1,
                          "yBinEnd": 85.2
                        },
                        {
                          "count": 51,
                          "xBinStart": 3.5,
                          "xBinEnd": 5.25,
                          "yBinStart": -0.284,
                          "yBinEnd": 7.1
                        },
                        {
                          "count": 19,
                          "xBinStart": 3.5,
                          "xBinEnd": 5.25,
                          "yBinStart": 7.1,
                          "yBinEnd": 14.2
                        },
                        {
                          "count": 5,
                          "xBinStart": 3.5,
                          "xBinEnd": 5.25,
                          "yBinStart": 14.2,
                          "yBinEnd": 21.3
                        },
                        {
                          "count": 6,
                          "xBinStart": 3.5,
                          "xBinEnd": 5.25,
                          "yBinStart": 21.3,
                          "yBinEnd": 28.4
                        },
                        {
                          "count": 3,
                          "xBinStart": 3.5,
                          "xBinEnd": 5.25,
                          "yBinStart": 28.4,
                          "yBinEnd": 35.5
                        },
                        {
                          "count": 2,
                          "xBinStart": 3.5,
                          "xBinEnd": 5.25,
                          "yBinStart": 35.5,
                          "yBinEnd": 42.6
                        },
                        {
                          "count": 1,
                          "xBinStart": 3.5,
                          "xBinEnd": 5.25,
                          "yBinStart": 42.6,
                          "yBinEnd": 49.7
                        },
                        {
                          "count": 1,
                          "xBinStart": 3.5,
                          "xBinEnd": 5.25,
                          "yBinStart": 85.2,
                          "yBinEnd": 92.3
                        },
                        {
                          "count": 1,
                          "xBinStart": 3.5,
                          "xBinEnd": 5.25,
                          "yBinStart": 142,
                          "yBinEnd": 149.1
                        },
                        {
                          "count": 1,
                          "xBinStart": 3.5,
                          "xBinEnd": 5.25,
                          "yBinStart": 177.5,
                          "yBinEnd": 184.6
                        },
                        {
                          "count": 16,
                          "xBinStart": 5.25,
                          "xBinEnd": 7,
                          "yBinStart": -0.284,
                          "yBinEnd": 7.1
                        },
                        {
                          "count": 6,
                          "xBinStart": 5.25,
                          "xBinEnd": 7,
                          "yBinStart": 7.1,
                          "yBinEnd": 14.2
                        },
                        {
                          "count": 3,
                          "xBinStart": 5.25,
                          "xBinEnd": 7,
                          "yBinStart": 14.2,
                          "yBinEnd": 21.3
                        },
                        {
                          "count": 1,
                          "xBinStart": 5.25,
                          "xBinEnd": 7,
                          "yBinStart": 21.3,
                          "yBinEnd": 28.4
                        },
                        {
                          "count": 2,
                          "xBinStart": 5.25,
                          "xBinEnd": 7,
                          "yBinStart": 28.4,
                          "yBinEnd": 35.5
                        },
                        {
                          "count": 1,
                          "xBinStart": 5.25,
                          "xBinEnd": 7,
                          "yBinStart": 42.6,
                          "yBinEnd": 49.7
                        },
                        {
                          "count": 1,
                          "xBinStart": 5.25,
                          "xBinEnd": 7,
                          "yBinStart": 78.1,
                          "yBinEnd": 85.2
                        },
                        {
                          "count": 1,
                          "xBinStart": 5.25,
                          "xBinEnd": 7,
                          "yBinStart": 106.5,
                          "yBinEnd": 113.6
                        },
                        {
                          "count": 4,
                          "xBinStart": 7,
                          "xBinEnd": 8.75,
                          "yBinStart": -0.284,
                          "yBinEnd": 7.1
                        },
                        {
                          "count": 8,
                          "xBinStart": 7,
                          "xBinEnd": 8.75,
                          "yBinStart": 7.1,
                          "yBinEnd": 14.2
                        },
                        {
                          "count": 3,
                          "xBinStart": 7,
                          "xBinEnd": 8.75,
                          "yBinStart": 14.2,
                          "yBinEnd": 21.3
                        },
                        {
                          "count": 1,
                          "xBinStart": 7,
                          "xBinEnd": 8.75,
                          "yBinStart": 21.3,
                          "yBinEnd": 28.4
                        },
                        {
                          "count": 1,
                          "xBinStart": 7,
                          "xBinEnd": 8.75,
                          "yBinStart": 49.7,
                          "yBinEnd": 56.8
                        },
                        {
                          "count": 5,
                          "xBinStart": 8.75,
                          "xBinEnd": 10.5,
                          "yBinStart": -0.284,
                          "yBinEnd": 7.1
                        },
                        {
                          "count": 1,
                          "xBinStart": 8.75,
                          "xBinEnd": 10.5,
                          "yBinStart": 7.1,
                          "yBinEnd": 14.2
                        },
                        {
                          "count": 3,
                          "xBinStart": 8.75,
                          "xBinEnd": 10.5,
                          "yBinStart": 14.2,
                          "yBinEnd": 21.3
                        },
                        {
                          "count": 2,
                          "xBinStart": 8.75,
                          "xBinEnd": 10.5,
                          "yBinStart": 21.3,
                          "yBinEnd": 28.4
                        },
                        {
                          "count": 2,
                          "xBinStart": 8.75,
                          "xBinEnd": 10.5,
                          "yBinStart": 35.5,
                          "yBinEnd": 42.6
                        },
                        {
                          "count": 1,
                          "xBinStart": 8.75,
                          "xBinEnd": 10.5,
                          "yBinStart": 42.6,
                          "yBinEnd": 49.7
                        },
                        {
                          "count": 1,
                          "xBinStart": 8.75,
                          "xBinEnd": 10.5,
                          "yBinStart": 49.7,
                          "yBinEnd": 56.8
                        },
                        {
                          "count": 1,
                          "xBinStart": 8.75,
                          "xBinEnd": 10.5,
                          "yBinStart": 56.8,
                          "yBinEnd": 63.9
                        },
                        {
                          "count": 1,
                          "xBinStart": 8.75,
                          "xBinEnd": 10.5,
                          "yBinStart": 113.6,
                          "yBinEnd": 120.7
                        },
                        {
                          "count": 4,
                          "xBinStart": 10.5,
                          "xBinEnd": 12.25,
                          "yBinStart": -0.284,
                          "yBinEnd": 7.1
                        },
                        {
                          "count": 3,
                          "xBinStart": 10.5,
                          "xBinEnd": 12.25,
                          "yBinStart": 7.1,
                          "yBinEnd": 14.2
                        },
                        {
                          "count": 4,
                          "xBinStart": 10.5,
                          "xBinEnd": 12.25,
                          "yBinStart": 14.2,
                          "yBinEnd": 21.3
                        },
                        {
                          "count": 1,
                          "xBinStart": 10.5,
                          "xBinEnd": 12.25,
                          "yBinStart": 21.3,
                          "yBinEnd": 28.4
                        },
                        {
                          "count": 2,
                          "xBinStart": 10.5,
                          "xBinEnd": 12.25,
                          "yBinStart": 28.4,
                          "yBinEnd": 35.5
                        },
                        {
                          "count": 2,
                          "xBinStart": 10.5,
                          "xBinEnd": 12.25,
                          "yBinStart": 35.5,
                          "yBinEnd": 42.6
                        },
                        {
                          "count": 1,
                          "xBinStart": 10.5,
                          "xBinEnd": 12.25,
                          "yBinStart": 63.9,
                          "yBinEnd": 71
                        },
                        {
                          "count": 2,
                          "xBinStart": 12.25,
                          "xBinEnd": 14,
                          "yBinStart": -0.284,
                          "yBinEnd": 7.1
                        },
                        {
                          "count": 1,
                          "xBinStart": 12.25,
                          "xBinEnd": 14,
                          "yBinStart": 21.3,
                          "yBinEnd": 28.4
                        },
                        {
                          "count": 1,
                          "xBinStart": 12.25,
                          "xBinEnd": 14,
                          "yBinStart": 42.6,
                          "yBinEnd": 49.7
                        },
                        {
                          "count": 1,
                          "xBinStart": 12.25,
                          "xBinEnd": 14,
                          "yBinStart": 63.9,
                          "yBinEnd": 71
                        },
                        {
                          "count": 1,
                          "xBinStart": 12.25,
                          "xBinEnd": 14,
                          "yBinStart": 71,
                          "yBinEnd": 78.1
                        },
                        {
                          "count": 2,
                          "xBinStart": 14,
                          "xBinEnd": 15.75,
                          "yBinStart": 14.2,
                          "yBinEnd": 21.3
                        },
                        {
                          "count": 1,
                          "xBinStart": 14,
                          "xBinEnd": 15.75,
                          "yBinStart": 71,
                          "yBinEnd": 78.1
                        },
                        {
                          "count": 1,
                          "xBinStart": 15.75,
                          "xBinEnd": 17.5,
                          "yBinStart": 42.6,
                          "yBinEnd": 49.7
                        },
                        {
                          "count": 1,
                          "xBinStart": 17.5,
                          "xBinEnd": 19.25,
                          "yBinStart": 21.3,
                          "yBinEnd": 28.4
                        },
                        {
                          "count": 1,
                          "xBinStart": 17.5,
                          "xBinEnd": 19.25,
                          "yBinStart": 71,
                          "yBinEnd": 78.1
                        },
                        {
                          "count": 1,
                          "xBinStart": 21,
                          "xBinEnd": 22.75,
                          "yBinStart": 78.1,
                          "yBinEnd": 85.2
                        },
                        {
                          "count": 1,
                          "xBinStart": 22.75,
                          "xBinEnd": 24.5,
                          "yBinStart": -0.284,
                          "yBinEnd": 7.1
                        },
                        {
                          "count": 1,
                          "xBinStart": 24.5,
                          "xBinEnd": 26.25,
                          "yBinStart": -0.284,
                          "yBinEnd": 7.1
                        },
                        {
                          "count": 1,
                          "xBinStart": 24.5,
                          "xBinEnd": 26.25,
                          "yBinStart": 71,
                          "yBinEnd": 78.1
                        },
                        {
                          "count": 1,
                          "xBinStart": 24.5,
                          "xBinEnd": 26.25,
                          "yBinStart": 156.2,
                          "yBinEnd": 163.3
                        },
                        {
                          "count": 1,
                          "xBinStart": 26.25,
                          "xBinEnd": 28,
                          "yBinStart": 42.6,
                          "yBinEnd": 49.7
                        },
                        {
                          "count": 1,
                          "xBinStart": 31.5,
                          "xBinEnd": 33.25,
                          "yBinStart": 35.5,
                          "yBinEnd": 42.6
                        },
                        {
                          "count": 1,
                          "xBinStart": 33.25,
                          "xBinEnd": 35,
                          "yBinStart": 21.3,
                          "yBinEnd": 28.4
                        },
                        {
                          "count": 1,
                          "xBinStart": 35,
                          "xBinEnd": 36.75,
                          "yBinStart": 56.8,
                          "yBinEnd": 63.9
                        },
                        {
                          "count": 1,
                          "xBinStart": 35,
                          "xBinEnd": 36.75,
                          "yBinStart": 78.1,
                          "yBinEnd": 85.2
                        },
                        {
                          "count": 1,
                          "xBinStart": 49,
                          "xBinEnd": 50.75,
                          "yBinStart": 106.5,
                          "yBinEnd": 113.6
                        },
                        {
                          "count": 1,
                          "xBinStart": 54.25,
                          "xBinEnd": 56,
                          "yBinStart": 220.1,
                          "yBinEnd": 227.2
                        },
                        {
                          "count": 1,
                          "xBinStart": 68.25,
                          "xBinEnd": 70,
                          "yBinStart": 276.9,
                          "yBinEnd": 284
                        }
                      ]
                    },
                    "vislib": "vegalite"
                  },
                  {
                    "config": {
                      "view": {
                        "continuousWidth": 400,
                        "continuousHeight": 300
                      },
                      "axis": {
                        "labelColor": "#505050",
                        "labelFont": "Helvetica Neue",
                        "labelFontSize": 9,
                        "labelFontWeight": 400,
                        "titleFont": "Helvetica Neue",
                        "titleFontSize": 11,
                        "titleFontWeight": 500
                      },
                      "legend": {
                        "labelFont": "Helvetica Neue",
                        "labelFontSize": 9,
                        "labelFontWeight": 400,
                        "titleFont": "Helvetica Neue",
                        "titleFontSize": 10,
                        "titleFontWeight": 500
                      },
                      "mark": {
                        "tooltip": {
                          "content": "encoding"
                        }
                      },
                      "scale": {
                        "maxOpacity": 1,
                        "minOpacity": 0.1
                      },
                      "title": {
                        "font": "Helvetica Neue",
                        "fontSize": 13,
                        "fontWeight": 500
                      }
                    },
                    "data": {
                      "name": "data-9a118b6963167976a5a322f76cf1b0d2"
                    },
                    "mark": "rect",
                    "encoding": {
                      "opacity": {
                        "field": "count",
                        "legend": null,
                        "scale": {
                          "type": "log"
                        },
                        "type": "quantitative"
                      },
                      "x": {
                        "axis": {
                          "title": "full_comorbid"
                        },
                        "bin": {
                          "binned": true
                        },
                        "field": "xBinStart",
                        "type": "quantitative"
                      },
                      "x2": {
                        "field": "xBinEnd"
                      },
                      "y": {
                        "axis": {
                          "title": "full_oku"
                        },
                        "bin": {
                          "binned": true
                        },
                        "field": "yBinStart",
                        "type": "quantitative"
                      },
                      "y2": {
                        "field": "yBinEnd"
                      }
                    },
                    "height": 150,
                    "selection": {
                      "selector045": {
                        "type": "interval",
                        "bind": "scales",
                        "encodings": [
                          "x",
                          "y"
                        ]
                      }
                    },
                    "width": 160,
                    "$schema": "https://vega.github.io/schema/vega-lite/v4.17.0.json",
                    "datasets": {
                      "data-9a118b6963167976a5a322f76cf1b0d2": [
                        {
                          "count": 28863,
                          "xBinStart": -12.701,
                          "xBinEnd": 317.525,
                          "yBinStart": -3.225,
                          "yBinEnd": 80.625
                        },
                        {
                          "count": 8,
                          "xBinStart": -12.701,
                          "xBinEnd": 317.525,
                          "yBinStart": 80.625,
                          "yBinEnd": 161.25
                        },
                        {
                          "count": 3,
                          "xBinStart": -12.701,
                          "xBinEnd": 317.525,
                          "yBinStart": 161.25,
                          "yBinEnd": 241.875
                        },
                        {
                          "count": 580,
                          "xBinStart": 317.525,
                          "xBinEnd": 635.05,
                          "yBinStart": -3.225,
                          "yBinEnd": 80.625
                        },
                        {
                          "count": 22,
                          "xBinStart": 317.525,
                          "xBinEnd": 635.05,
                          "yBinStart": 80.625,
                          "yBinEnd": 161.25
                        },
                        {
                          "count": 3,
                          "xBinStart": 317.525,
                          "xBinEnd": 635.05,
                          "yBinStart": 161.25,
                          "yBinEnd": 241.875
                        },
                        {
                          "count": 5,
                          "xBinStart": 317.525,
                          "xBinEnd": 635.05,
                          "yBinStart": 241.875,
                          "yBinEnd": 322.5
                        },
                        {
                          "count": 1,
                          "xBinStart": 317.525,
                          "xBinEnd": 635.05,
                          "yBinStart": 564.375,
                          "yBinEnd": 645
                        },
                        {
                          "count": 1,
                          "xBinStart": 317.525,
                          "xBinEnd": 635.05,
                          "yBinStart": 645,
                          "yBinEnd": 725.625
                        },
                        {
                          "count": 185,
                          "xBinStart": 635.05,
                          "xBinEnd": 952.575,
                          "yBinStart": -3.225,
                          "yBinEnd": 80.625
                        },
                        {
                          "count": 17,
                          "xBinStart": 635.05,
                          "xBinEnd": 952.575,
                          "yBinStart": 80.625,
                          "yBinEnd": 161.25
                        },
                        {
                          "count": 5,
                          "xBinStart": 635.05,
                          "xBinEnd": 952.575,
                          "yBinStart": 161.25,
                          "yBinEnd": 241.875
                        },
                        {
                          "count": 1,
                          "xBinStart": 635.05,
                          "xBinEnd": 952.575,
                          "yBinStart": 241.875,
                          "yBinEnd": 322.5
                        },
                        {
                          "count": 1,
                          "xBinStart": 635.05,
                          "xBinEnd": 952.575,
                          "yBinStart": 322.5,
                          "yBinEnd": 403.125
                        },
                        {
                          "count": 3,
                          "xBinStart": 635.05,
                          "xBinEnd": 952.575,
                          "yBinStart": 564.375,
                          "yBinEnd": 645
                        },
                        {
                          "count": 1,
                          "xBinStart": 635.05,
                          "xBinEnd": 952.575,
                          "yBinStart": 725.625,
                          "yBinEnd": 806.25
                        },
                        {
                          "count": 77,
                          "xBinStart": 952.575,
                          "xBinEnd": 1270.1,
                          "yBinStart": -3.225,
                          "yBinEnd": 80.625
                        },
                        {
                          "count": 19,
                          "xBinStart": 952.575,
                          "xBinEnd": 1270.1,
                          "yBinStart": 80.625,
                          "yBinEnd": 161.25
                        },
                        {
                          "count": 6,
                          "xBinStart": 952.575,
                          "xBinEnd": 1270.1,
                          "yBinStart": 161.25,
                          "yBinEnd": 241.875
                        },
                        {
                          "count": 2,
                          "xBinStart": 952.575,
                          "xBinEnd": 1270.1,
                          "yBinStart": 241.875,
                          "yBinEnd": 322.5
                        },
                        {
                          "count": 1,
                          "xBinStart": 952.575,
                          "xBinEnd": 1270.1,
                          "yBinStart": 483.75,
                          "yBinEnd": 564.375
                        },
                        {
                          "count": 1,
                          "xBinStart": 952.575,
                          "xBinEnd": 1270.1,
                          "yBinStart": 725.625,
                          "yBinEnd": 806.25
                        },
                        {
                          "count": 39,
                          "xBinStart": 1270.1,
                          "xBinEnd": 1587.625,
                          "yBinStart": -3.225,
                          "yBinEnd": 80.625
                        },
                        {
                          "count": 12,
                          "xBinStart": 1270.1,
                          "xBinEnd": 1587.625,
                          "yBinStart": 80.625,
                          "yBinEnd": 161.25
                        },
                        {
                          "count": 3,
                          "xBinStart": 1270.1,
                          "xBinEnd": 1587.625,
                          "yBinStart": 161.25,
                          "yBinEnd": 241.875
                        },
                        {
                          "count": 2,
                          "xBinStart": 1270.1,
                          "xBinEnd": 1587.625,
                          "yBinStart": 241.875,
                          "yBinEnd": 322.5
                        },
                        {
                          "count": 2,
                          "xBinStart": 1270.1,
                          "xBinEnd": 1587.625,
                          "yBinStart": 322.5,
                          "yBinEnd": 403.125
                        },
                        {
                          "count": 20,
                          "xBinStart": 1587.625,
                          "xBinEnd": 1905.15,
                          "yBinStart": -3.225,
                          "yBinEnd": 80.625
                        },
                        {
                          "count": 4,
                          "xBinStart": 1587.625,
                          "xBinEnd": 1905.15,
                          "yBinStart": 80.625,
                          "yBinEnd": 161.25
                        },
                        {
                          "count": 2,
                          "xBinStart": 1587.625,
                          "xBinEnd": 1905.15,
                          "yBinStart": 241.875,
                          "yBinEnd": 322.5
                        },
                        {
                          "count": 1,
                          "xBinStart": 1587.625,
                          "xBinEnd": 1905.15,
                          "yBinStart": 1612.5,
                          "yBinEnd": 1693.125
                        },
                        {
                          "count": 11,
                          "xBinStart": 1905.15,
                          "xBinEnd": 2222.675,
                          "yBinStart": -3.225,
                          "yBinEnd": 80.625
                        },
                        {
                          "count": 12,
                          "xBinStart": 1905.15,
                          "xBinEnd": 2222.675,
                          "yBinStart": 80.625,
                          "yBinEnd": 161.25
                        },
                        {
                          "count": 1,
                          "xBinStart": 1905.15,
                          "xBinEnd": 2222.675,
                          "yBinStart": 322.5,
                          "yBinEnd": 403.125
                        },
                        {
                          "count": 4,
                          "xBinStart": 2222.675,
                          "xBinEnd": 2540.2,
                          "yBinStart": -3.225,
                          "yBinEnd": 80.625
                        },
                        {
                          "count": 4,
                          "xBinStart": 2222.675,
                          "xBinEnd": 2540.2,
                          "yBinStart": 80.625,
                          "yBinEnd": 161.25
                        },
                        {
                          "count": 1,
                          "xBinStart": 2222.675,
                          "xBinEnd": 2540.2,
                          "yBinStart": 161.25,
                          "yBinEnd": 241.875
                        },
                        {
                          "count": 1,
                          "xBinStart": 2222.675,
                          "xBinEnd": 2540.2,
                          "yBinStart": 403.125,
                          "yBinEnd": 483.75
                        },
                        {
                          "count": 1,
                          "xBinStart": 2222.675,
                          "xBinEnd": 2540.2,
                          "yBinStart": 645,
                          "yBinEnd": 725.625
                        },
                        {
                          "count": 5,
                          "xBinStart": 2540.2,
                          "xBinEnd": 2857.725,
                          "yBinStart": -3.225,
                          "yBinEnd": 80.625
                        },
                        {
                          "count": 2,
                          "xBinStart": 2540.2,
                          "xBinEnd": 2857.725,
                          "yBinStart": 80.625,
                          "yBinEnd": 161.25
                        },
                        {
                          "count": 1,
                          "xBinStart": 2540.2,
                          "xBinEnd": 2857.725,
                          "yBinStart": 161.25,
                          "yBinEnd": 241.875
                        },
                        {
                          "count": 1,
                          "xBinStart": 2540.2,
                          "xBinEnd": 2857.725,
                          "yBinStart": 1048.125,
                          "yBinEnd": 1128.75
                        },
                        {
                          "count": 1,
                          "xBinStart": 2540.2,
                          "xBinEnd": 2857.725,
                          "yBinStart": 1209.375,
                          "yBinEnd": 1290
                        },
                        {
                          "count": 1,
                          "xBinStart": 2857.725,
                          "xBinEnd": 3175.25,
                          "yBinStart": 161.25,
                          "yBinEnd": 241.875
                        },
                        {
                          "count": 1,
                          "xBinStart": 2857.725,
                          "xBinEnd": 3175.25,
                          "yBinStart": 241.875,
                          "yBinEnd": 322.5
                        },
                        {
                          "count": 1,
                          "xBinStart": 2857.725,
                          "xBinEnd": 3175.25,
                          "yBinStart": 645,
                          "yBinEnd": 725.625
                        },
                        {
                          "count": 3,
                          "xBinStart": 3175.25,
                          "xBinEnd": 3492.775,
                          "yBinStart": 80.625,
                          "yBinEnd": 161.25
                        },
                        {
                          "count": 1,
                          "xBinStart": 3175.25,
                          "xBinEnd": 3492.775,
                          "yBinStart": 403.125,
                          "yBinEnd": 483.75
                        },
                        {
                          "count": 1,
                          "xBinStart": 3175.25,
                          "xBinEnd": 3492.775,
                          "yBinStart": 564.375,
                          "yBinEnd": 645
                        },
                        {
                          "count": 2,
                          "xBinStart": 3492.775,
                          "xBinEnd": 3810.3,
                          "yBinStart": 161.25,
                          "yBinEnd": 241.875
                        },
                        {
                          "count": 1,
                          "xBinStart": 3492.775,
                          "xBinEnd": 3810.3,
                          "yBinStart": 645,
                          "yBinEnd": 725.625
                        },
                        {
                          "count": 6,
                          "xBinStart": 3810.3,
                          "xBinEnd": 4127.825,
                          "yBinStart": 80.625,
                          "yBinEnd": 161.25
                        },
                        {
                          "count": 1,
                          "xBinStart": 3810.3,
                          "xBinEnd": 4127.825,
                          "yBinStart": 241.875,
                          "yBinEnd": 322.5
                        },
                        {
                          "count": 1,
                          "xBinStart": 3810.3,
                          "xBinEnd": 4127.825,
                          "yBinStart": 483.75,
                          "yBinEnd": 564.375
                        },
                        {
                          "count": 1,
                          "xBinStart": 4127.825,
                          "xBinEnd": 4445.35,
                          "yBinStart": -3.225,
                          "yBinEnd": 80.625
                        },
                        {
                          "count": 3,
                          "xBinStart": 4127.825,
                          "xBinEnd": 4445.35,
                          "yBinStart": 80.625,
                          "yBinEnd": 161.25
                        },
                        {
                          "count": 2,
                          "xBinStart": 4127.825,
                          "xBinEnd": 4445.35,
                          "yBinStart": 161.25,
                          "yBinEnd": 241.875
                        },
                        {
                          "count": 1,
                          "xBinStart": 4127.825,
                          "xBinEnd": 4445.35,
                          "yBinStart": 1209.375,
                          "yBinEnd": 1290
                        },
                        {
                          "count": 2,
                          "xBinStart": 4445.35,
                          "xBinEnd": 4762.875,
                          "yBinStart": 80.625,
                          "yBinEnd": 161.25
                        },
                        {
                          "count": 1,
                          "xBinStart": 4445.35,
                          "xBinEnd": 4762.875,
                          "yBinStart": 241.875,
                          "yBinEnd": 322.5
                        },
                        {
                          "count": 1,
                          "xBinStart": 4445.35,
                          "xBinEnd": 4762.875,
                          "yBinStart": 3144.375,
                          "yBinEnd": 3225
                        },
                        {
                          "count": 4,
                          "xBinStart": 4762.875,
                          "xBinEnd": 5080.4,
                          "yBinStart": 80.625,
                          "yBinEnd": 161.25
                        },
                        {
                          "count": 5,
                          "xBinStart": 4762.875,
                          "xBinEnd": 5080.4,
                          "yBinStart": 161.25,
                          "yBinEnd": 241.875
                        },
                        {
                          "count": 1,
                          "xBinStart": 4762.875,
                          "xBinEnd": 5080.4,
                          "yBinStart": 241.875,
                          "yBinEnd": 322.5
                        },
                        {
                          "count": 1,
                          "xBinStart": 5397.925,
                          "xBinEnd": 5715.45,
                          "yBinStart": 161.25,
                          "yBinEnd": 241.875
                        },
                        {
                          "count": 1,
                          "xBinStart": 5715.45,
                          "xBinEnd": 6032.975,
                          "yBinStart": 161.25,
                          "yBinEnd": 241.875
                        },
                        {
                          "count": 1,
                          "xBinStart": 5715.45,
                          "xBinEnd": 6032.975,
                          "yBinStart": 241.875,
                          "yBinEnd": 322.5
                        },
                        {
                          "count": 1,
                          "xBinStart": 5715.45,
                          "xBinEnd": 6032.975,
                          "yBinStart": 725.625,
                          "yBinEnd": 806.25
                        },
                        {
                          "count": 1,
                          "xBinStart": 6985.55,
                          "xBinEnd": 7303.075,
                          "yBinStart": 322.5,
                          "yBinEnd": 403.125
                        },
                        {
                          "count": 1,
                          "xBinStart": 7620.6,
                          "xBinEnd": 7938.125,
                          "yBinStart": 241.875,
                          "yBinEnd": 322.5
                        },
                        {
                          "count": 1,
                          "xBinStart": 7620.6,
                          "xBinEnd": 7938.125,
                          "yBinStart": 403.125,
                          "yBinEnd": 483.75
                        },
                        {
                          "count": 2,
                          "xBinStart": 7938.125,
                          "xBinEnd": 8255.65,
                          "yBinStart": 322.5,
                          "yBinEnd": 403.125
                        },
                        {
                          "count": 1,
                          "xBinStart": 7938.125,
                          "xBinEnd": 8255.65,
                          "yBinStart": 403.125,
                          "yBinEnd": 483.75
                        },
                        {
                          "count": 1,
                          "xBinStart": 8255.65,
                          "xBinEnd": 8573.175,
                          "yBinStart": 161.25,
                          "yBinEnd": 241.875
                        },
                        {
                          "count": 1,
                          "xBinStart": 8255.65,
                          "xBinEnd": 8573.175,
                          "yBinStart": 322.5,
                          "yBinEnd": 403.125
                        },
                        {
                          "count": 1,
                          "xBinStart": 8255.65,
                          "xBinEnd": 8573.175,
                          "yBinStart": 483.75,
                          "yBinEnd": 564.375
                        },
                        {
                          "count": 1,
                          "xBinStart": 8890.7,
                          "xBinEnd": 9208.225,
                          "yBinStart": 241.875,
                          "yBinEnd": 322.5
                        },
                        {
                          "count": 2,
                          "xBinStart": 8890.7,
                          "xBinEnd": 9208.225,
                          "yBinStart": 322.5,
                          "yBinEnd": 403.125
                        },
                        {
                          "count": 1,
                          "xBinStart": 8890.7,
                          "xBinEnd": 9208.225,
                          "yBinStart": 403.125,
                          "yBinEnd": 483.75
                        },
                        {
                          "count": 1,
                          "xBinStart": 8890.7,
                          "xBinEnd": 9208.225,
                          "yBinStart": 645,
                          "yBinEnd": 725.625
                        },
                        {
                          "count": 1,
                          "xBinStart": 9208.225,
                          "xBinEnd": 9525.75,
                          "yBinStart": 322.5,
                          "yBinEnd": 403.125
                        },
                        {
                          "count": 1,
                          "xBinStart": 9208.225,
                          "xBinEnd": 9525.75,
                          "yBinStart": 403.125,
                          "yBinEnd": 483.75
                        },
                        {
                          "count": 1,
                          "xBinStart": 9525.75,
                          "xBinEnd": 9843.275,
                          "yBinStart": 1612.5,
                          "yBinEnd": 1693.125
                        },
                        {
                          "count": 1,
                          "xBinStart": 9843.275,
                          "xBinEnd": 10160.8,
                          "yBinStart": 322.5,
                          "yBinEnd": 403.125
                        },
                        {
                          "count": 1,
                          "xBinStart": 10478.325,
                          "xBinEnd": 10795.85,
                          "yBinStart": 1531.875,
                          "yBinEnd": 1612.5
                        },
                        {
                          "count": 1,
                          "xBinStart": 10795.85,
                          "xBinEnd": 11113.375,
                          "yBinStart": 725.625,
                          "yBinEnd": 806.25
                        },
                        {
                          "count": 1,
                          "xBinStart": 12383.475,
                          "xBinEnd": 12701,
                          "yBinStart": 564.375,
                          "yBinEnd": 645
                        }
                      ]
                    },
                    "vislib": "vegalite"
                  },
                  {
                    "config": {
                      "view": {
                        "continuousWidth": 400,
                        "continuousHeight": 300
                      },
                      "axis": {
                        "labelColor": "#505050",
                        "labelFont": "Helvetica Neue",
                        "labelFontSize": 9,
                        "labelFontWeight": 400,
                        "titleFont": "Helvetica Neue",
                        "titleFontSize": 11,
                        "titleFontWeight": 500
                      },
                      "legend": {
                        "labelFont": "Helvetica Neue",
                        "labelFontSize": 9,
                        "labelFontWeight": 400,
                        "titleFont": "Helvetica Neue",
                        "titleFontSize": 10,
                        "titleFontWeight": 500
                      },
                      "mark": {
                        "tooltip": {
                          "content": "encoding"
                        }
                      },
                      "scale": {
                        "maxOpacity": 1,
                        "minOpacity": 0.1
                      },
                      "title": {
                        "font": "Helvetica Neue",
                        "fontSize": 13,
                        "fontWeight": 500
                      }
                    },
                    "data": {
                      "name": "data-f53c41e0e2c217134d5ae6088889c42d"
                    },
                    "mark": "rect",
                    "encoding": {
                      "opacity": {
                        "field": "count",
                        "legend": null,
                        "scale": {
                          "type": "log"
                        },
                        "type": "quantitative"
                      },
                      "x": {
                        "axis": {
                          "title": "booster_hcw"
                        },
                        "bin": {
                          "binned": true
                        },
                        "field": "xBinStart",
                        "type": "quantitative"
                      },
                      "x2": {
                        "field": "xBinEnd"
                      },
                      "y": {
                        "axis": {
                          "title": "booster_comorbid"
                        },
                        "bin": {
                          "binned": true
                        },
                        "field": "yBinStart",
                        "type": "quantitative"
                      },
                      "y2": {
                        "field": "yBinEnd"
                      }
                    },
                    "height": 150,
                    "selection": {
                      "selector046": {
                        "type": "interval",
                        "bind": "scales",
                        "encodings": [
                          "x",
                          "y"
                        ]
                      }
                    },
                    "width": 160,
                    "$schema": "https://vega.github.io/schema/vega-lite/v4.17.0.json",
                    "datasets": {
                      "data-f53c41e0e2c217134d5ae6088889c42d": [
                        {
                          "count": 28981,
                          "xBinStart": -1.226,
                          "xBinEnd": 30.65,
                          "yBinStart": -11.015,
                          "yBinEnd": 275.375
                        },
                        {
                          "count": 353,
                          "xBinStart": -1.226,
                          "xBinEnd": 30.65,
                          "yBinStart": 275.375,
                          "yBinEnd": 550.75
                        },
                        {
                          "count": 97,
                          "xBinStart": -1.226,
                          "xBinEnd": 30.65,
                          "yBinStart": 550.75,
                          "yBinEnd": 826.125
                        },
                        {
                          "count": 32,
                          "xBinStart": -1.226,
                          "xBinEnd": 30.65,
                          "yBinStart": 826.125,
                          "yBinEnd": 1101.5
                        },
                        {
                          "count": 12,
                          "xBinStart": -1.226,
                          "xBinEnd": 30.65,
                          "yBinStart": 1101.5,
                          "yBinEnd": 1376.875
                        },
                        {
                          "count": 8,
                          "xBinStart": -1.226,
                          "xBinEnd": 30.65,
                          "yBinStart": 1376.875,
                          "yBinEnd": 1652.25
                        },
                        {
                          "count": 2,
                          "xBinStart": -1.226,
                          "xBinEnd": 30.65,
                          "yBinStart": 1652.25,
                          "yBinEnd": 1927.625
                        },
                        {
                          "count": 1,
                          "xBinStart": -1.226,
                          "xBinEnd": 30.65,
                          "yBinStart": 1927.625,
                          "yBinEnd": 2203
                        },
                        {
                          "count": 1,
                          "xBinStart": -1.226,
                          "xBinEnd": 30.65,
                          "yBinStart": 2203,
                          "yBinEnd": 2478.375
                        },
                        {
                          "count": 84,
                          "xBinStart": 30.65,
                          "xBinEnd": 61.3,
                          "yBinStart": -11.015,
                          "yBinEnd": 275.375
                        },
                        {
                          "count": 42,
                          "xBinStart": 30.65,
                          "xBinEnd": 61.3,
                          "yBinStart": 275.375,
                          "yBinEnd": 550.75
                        },
                        {
                          "count": 39,
                          "xBinStart": 30.65,
                          "xBinEnd": 61.3,
                          "yBinStart": 550.75,
                          "yBinEnd": 826.125
                        },
                        {
                          "count": 26,
                          "xBinStart": 30.65,
                          "xBinEnd": 61.3,
                          "yBinStart": 826.125,
                          "yBinEnd": 1101.5
                        },
                        {
                          "count": 11,
                          "xBinStart": 30.65,
                          "xBinEnd": 61.3,
                          "yBinStart": 1101.5,
                          "yBinEnd": 1376.875
                        },
                        {
                          "count": 7,
                          "xBinStart": 30.65,
                          "xBinEnd": 61.3,
                          "yBinStart": 1376.875,
                          "yBinEnd": 1652.25
                        },
                        {
                          "count": 5,
                          "xBinStart": 30.65,
                          "xBinEnd": 61.3,
                          "yBinStart": 1652.25,
                          "yBinEnd": 1927.625
                        },
                        {
                          "count": 2,
                          "xBinStart": 30.65,
                          "xBinEnd": 61.3,
                          "yBinStart": 1927.625,
                          "yBinEnd": 2203
                        },
                        {
                          "count": 1,
                          "xBinStart": 30.65,
                          "xBinEnd": 61.3,
                          "yBinStart": 2478.375,
                          "yBinEnd": 2753.75
                        },
                        {
                          "count": 3,
                          "xBinStart": 30.65,
                          "xBinEnd": 61.3,
                          "yBinStart": 2753.75,
                          "yBinEnd": 3029.125
                        },
                        {
                          "count": 1,
                          "xBinStart": 30.65,
                          "xBinEnd": 61.3,
                          "yBinStart": 3029.125,
                          "yBinEnd": 3304.5
                        },
                        {
                          "count": 1,
                          "xBinStart": 30.65,
                          "xBinEnd": 61.3,
                          "yBinStart": 3304.5,
                          "yBinEnd": 3579.875
                        },
                        {
                          "count": 39,
                          "xBinStart": 61.3,
                          "xBinEnd": 91.95,
                          "yBinStart": -11.015,
                          "yBinEnd": 275.375
                        },
                        {
                          "count": 6,
                          "xBinStart": 61.3,
                          "xBinEnd": 91.95,
                          "yBinStart": 275.375,
                          "yBinEnd": 550.75
                        },
                        {
                          "count": 4,
                          "xBinStart": 61.3,
                          "xBinEnd": 91.95,
                          "yBinStart": 550.75,
                          "yBinEnd": 826.125
                        },
                        {
                          "count": 9,
                          "xBinStart": 61.3,
                          "xBinEnd": 91.95,
                          "yBinStart": 826.125,
                          "yBinEnd": 1101.5
                        },
                        {
                          "count": 4,
                          "xBinStart": 61.3,
                          "xBinEnd": 91.95,
                          "yBinStart": 1101.5,
                          "yBinEnd": 1376.875
                        },
                        {
                          "count": 8,
                          "xBinStart": 61.3,
                          "xBinEnd": 91.95,
                          "yBinStart": 1376.875,
                          "yBinEnd": 1652.25
                        },
                        {
                          "count": 7,
                          "xBinStart": 61.3,
                          "xBinEnd": 91.95,
                          "yBinStart": 1652.25,
                          "yBinEnd": 1927.625
                        },
                        {
                          "count": 5,
                          "xBinStart": 61.3,
                          "xBinEnd": 91.95,
                          "yBinStart": 1927.625,
                          "yBinEnd": 2203
                        },
                        {
                          "count": 3,
                          "xBinStart": 61.3,
                          "xBinEnd": 91.95,
                          "yBinStart": 2203,
                          "yBinEnd": 2478.375
                        },
                        {
                          "count": 1,
                          "xBinStart": 61.3,
                          "xBinEnd": 91.95,
                          "yBinStart": 2478.375,
                          "yBinEnd": 2753.75
                        },
                        {
                          "count": 1,
                          "xBinStart": 61.3,
                          "xBinEnd": 91.95,
                          "yBinStart": 2753.75,
                          "yBinEnd": 3029.125
                        },
                        {
                          "count": 1,
                          "xBinStart": 61.3,
                          "xBinEnd": 91.95,
                          "yBinStart": 3029.125,
                          "yBinEnd": 3304.5
                        },
                        {
                          "count": 1,
                          "xBinStart": 61.3,
                          "xBinEnd": 91.95,
                          "yBinStart": 4130.625,
                          "yBinEnd": 4406
                        },
                        {
                          "count": 22,
                          "xBinStart": 91.95,
                          "xBinEnd": 122.6,
                          "yBinStart": -11.015,
                          "yBinEnd": 275.375
                        },
                        {
                          "count": 4,
                          "xBinStart": 91.95,
                          "xBinEnd": 122.6,
                          "yBinStart": 275.375,
                          "yBinEnd": 550.75
                        },
                        {
                          "count": 5,
                          "xBinStart": 91.95,
                          "xBinEnd": 122.6,
                          "yBinStart": 550.75,
                          "yBinEnd": 826.125
                        },
                        {
                          "count": 4,
                          "xBinStart": 91.95,
                          "xBinEnd": 122.6,
                          "yBinStart": 826.125,
                          "yBinEnd": 1101.5
                        },
                        {
                          "count": 4,
                          "xBinStart": 91.95,
                          "xBinEnd": 122.6,
                          "yBinStart": 1101.5,
                          "yBinEnd": 1376.875
                        },
                        {
                          "count": 3,
                          "xBinStart": 91.95,
                          "xBinEnd": 122.6,
                          "yBinStart": 1376.875,
                          "yBinEnd": 1652.25
                        },
                        {
                          "count": 1,
                          "xBinStart": 91.95,
                          "xBinEnd": 122.6,
                          "yBinStart": 1652.25,
                          "yBinEnd": 1927.625
                        },
                        {
                          "count": 1,
                          "xBinStart": 91.95,
                          "xBinEnd": 122.6,
                          "yBinStart": 1927.625,
                          "yBinEnd": 2203
                        },
                        {
                          "count": 3,
                          "xBinStart": 91.95,
                          "xBinEnd": 122.6,
                          "yBinStart": 2203,
                          "yBinEnd": 2478.375
                        },
                        {
                          "count": 3,
                          "xBinStart": 91.95,
                          "xBinEnd": 122.6,
                          "yBinStart": 2478.375,
                          "yBinEnd": 2753.75
                        },
                        {
                          "count": 1,
                          "xBinStart": 91.95,
                          "xBinEnd": 122.6,
                          "yBinStart": 2753.75,
                          "yBinEnd": 3029.125
                        },
                        {
                          "count": 1,
                          "xBinStart": 91.95,
                          "xBinEnd": 122.6,
                          "yBinStart": 3029.125,
                          "yBinEnd": 3304.5
                        },
                        {
                          "count": 1,
                          "xBinStart": 91.95,
                          "xBinEnd": 122.6,
                          "yBinStart": 4406,
                          "yBinEnd": 4681.375
                        },
                        {
                          "count": 1,
                          "xBinStart": 91.95,
                          "xBinEnd": 122.6,
                          "yBinStart": 5507.5,
                          "yBinEnd": 5782.875
                        },
                        {
                          "count": 1,
                          "xBinStart": 91.95,
                          "xBinEnd": 122.6,
                          "yBinStart": 6058.25,
                          "yBinEnd": 6333.625
                        },
                        {
                          "count": 1,
                          "xBinStart": 91.95,
                          "xBinEnd": 122.6,
                          "yBinStart": 7710.5,
                          "yBinEnd": 7985.875
                        },
                        {
                          "count": 12,
                          "xBinStart": 122.6,
                          "xBinEnd": 153.25,
                          "yBinStart": -11.015,
                          "yBinEnd": 275.375
                        },
                        {
                          "count": 2,
                          "xBinStart": 122.6,
                          "xBinEnd": 153.25,
                          "yBinStart": 275.375,
                          "yBinEnd": 550.75
                        },
                        {
                          "count": 2,
                          "xBinStart": 122.6,
                          "xBinEnd": 153.25,
                          "yBinStart": 550.75,
                          "yBinEnd": 826.125
                        },
                        {
                          "count": 2,
                          "xBinStart": 122.6,
                          "xBinEnd": 153.25,
                          "yBinStart": 826.125,
                          "yBinEnd": 1101.5
                        },
                        {
                          "count": 2,
                          "xBinStart": 122.6,
                          "xBinEnd": 153.25,
                          "yBinStart": 1652.25,
                          "yBinEnd": 1927.625
                        },
                        {
                          "count": 1,
                          "xBinStart": 122.6,
                          "xBinEnd": 153.25,
                          "yBinStart": 1927.625,
                          "yBinEnd": 2203
                        },
                        {
                          "count": 2,
                          "xBinStart": 122.6,
                          "xBinEnd": 153.25,
                          "yBinStart": 2203,
                          "yBinEnd": 2478.375
                        },
                        {
                          "count": 2,
                          "xBinStart": 122.6,
                          "xBinEnd": 153.25,
                          "yBinStart": 2478.375,
                          "yBinEnd": 2753.75
                        },
                        {
                          "count": 1,
                          "xBinStart": 122.6,
                          "xBinEnd": 153.25,
                          "yBinStart": 2753.75,
                          "yBinEnd": 3029.125
                        },
                        {
                          "count": 10,
                          "xBinStart": 153.25,
                          "xBinEnd": 183.9,
                          "yBinStart": -11.015,
                          "yBinEnd": 275.375
                        },
                        {
                          "count": 2,
                          "xBinStart": 153.25,
                          "xBinEnd": 183.9,
                          "yBinStart": 275.375,
                          "yBinEnd": 550.75
                        },
                        {
                          "count": 2,
                          "xBinStart": 153.25,
                          "xBinEnd": 183.9,
                          "yBinStart": 550.75,
                          "yBinEnd": 826.125
                        },
                        {
                          "count": 1,
                          "xBinStart": 153.25,
                          "xBinEnd": 183.9,
                          "yBinStart": 1101.5,
                          "yBinEnd": 1376.875
                        },
                        {
                          "count": 1,
                          "xBinStart": 153.25,
                          "xBinEnd": 183.9,
                          "yBinStart": 1376.875,
                          "yBinEnd": 1652.25
                        },
                        {
                          "count": 1,
                          "xBinStart": 153.25,
                          "xBinEnd": 183.9,
                          "yBinStart": 1652.25,
                          "yBinEnd": 1927.625
                        },
                        {
                          "count": 2,
                          "xBinStart": 153.25,
                          "xBinEnd": 183.9,
                          "yBinStart": 1927.625,
                          "yBinEnd": 2203
                        },
                        {
                          "count": 2,
                          "xBinStart": 153.25,
                          "xBinEnd": 183.9,
                          "yBinStart": 2203,
                          "yBinEnd": 2478.375
                        },
                        {
                          "count": 1,
                          "xBinStart": 153.25,
                          "xBinEnd": 183.9,
                          "yBinStart": 2478.375,
                          "yBinEnd": 2753.75
                        },
                        {
                          "count": 1,
                          "xBinStart": 153.25,
                          "xBinEnd": 183.9,
                          "yBinStart": 2753.75,
                          "yBinEnd": 3029.125
                        },
                        {
                          "count": 1,
                          "xBinStart": 153.25,
                          "xBinEnd": 183.9,
                          "yBinStart": 4130.625,
                          "yBinEnd": 4406
                        },
                        {
                          "count": 1,
                          "xBinStart": 153.25,
                          "xBinEnd": 183.9,
                          "yBinStart": 4406,
                          "yBinEnd": 4681.375
                        },
                        {
                          "count": 2,
                          "xBinStart": 183.9,
                          "xBinEnd": 214.55,
                          "yBinStart": -11.015,
                          "yBinEnd": 275.375
                        },
                        {
                          "count": 2,
                          "xBinStart": 183.9,
                          "xBinEnd": 214.55,
                          "yBinStart": 1101.5,
                          "yBinEnd": 1376.875
                        },
                        {
                          "count": 6,
                          "xBinStart": 183.9,
                          "xBinEnd": 214.55,
                          "yBinStart": 1927.625,
                          "yBinEnd": 2203
                        },
                        {
                          "count": 1,
                          "xBinStart": 183.9,
                          "xBinEnd": 214.55,
                          "yBinStart": 2203,
                          "yBinEnd": 2478.375
                        },
                        {
                          "count": 1,
                          "xBinStart": 183.9,
                          "xBinEnd": 214.55,
                          "yBinStart": 2478.375,
                          "yBinEnd": 2753.75
                        },
                        {
                          "count": 1,
                          "xBinStart": 183.9,
                          "xBinEnd": 214.55,
                          "yBinStart": 3029.125,
                          "yBinEnd": 3304.5
                        },
                        {
                          "count": 1,
                          "xBinStart": 183.9,
                          "xBinEnd": 214.55,
                          "yBinStart": 3304.5,
                          "yBinEnd": 3579.875
                        },
                        {
                          "count": 1,
                          "xBinStart": 183.9,
                          "xBinEnd": 214.55,
                          "yBinStart": 4130.625,
                          "yBinEnd": 4406
                        },
                        {
                          "count": 2,
                          "xBinStart": 183.9,
                          "xBinEnd": 214.55,
                          "yBinStart": 5232.125,
                          "yBinEnd": 5507.5
                        },
                        {
                          "count": 4,
                          "xBinStart": 214.55,
                          "xBinEnd": 245.2,
                          "yBinStart": -11.015,
                          "yBinEnd": 275.375
                        },
                        {
                          "count": 1,
                          "xBinStart": 214.55,
                          "xBinEnd": 245.2,
                          "yBinStart": 275.375,
                          "yBinEnd": 550.75
                        },
                        {
                          "count": 1,
                          "xBinStart": 214.55,
                          "xBinEnd": 245.2,
                          "yBinStart": 550.75,
                          "yBinEnd": 826.125
                        },
                        {
                          "count": 1,
                          "xBinStart": 214.55,
                          "xBinEnd": 245.2,
                          "yBinStart": 826.125,
                          "yBinEnd": 1101.5
                        },
                        {
                          "count": 1,
                          "xBinStart": 214.55,
                          "xBinEnd": 245.2,
                          "yBinStart": 1927.625,
                          "yBinEnd": 2203
                        },
                        {
                          "count": 1,
                          "xBinStart": 214.55,
                          "xBinEnd": 245.2,
                          "yBinStart": 2478.375,
                          "yBinEnd": 2753.75
                        },
                        {
                          "count": 1,
                          "xBinStart": 214.55,
                          "xBinEnd": 245.2,
                          "yBinStart": 3855.25,
                          "yBinEnd": 4130.625
                        },
                        {
                          "count": 1,
                          "xBinStart": 214.55,
                          "xBinEnd": 245.2,
                          "yBinStart": 4406,
                          "yBinEnd": 4681.375
                        },
                        {
                          "count": 1,
                          "xBinStart": 214.55,
                          "xBinEnd": 245.2,
                          "yBinStart": 5507.5,
                          "yBinEnd": 5782.875
                        },
                        {
                          "count": 1,
                          "xBinStart": 245.2,
                          "xBinEnd": 275.85,
                          "yBinStart": -11.015,
                          "yBinEnd": 275.375
                        },
                        {
                          "count": 2,
                          "xBinStart": 245.2,
                          "xBinEnd": 275.85,
                          "yBinStart": 275.375,
                          "yBinEnd": 550.75
                        },
                        {
                          "count": 2,
                          "xBinStart": 245.2,
                          "xBinEnd": 275.85,
                          "yBinStart": 1101.5,
                          "yBinEnd": 1376.875
                        },
                        {
                          "count": 1,
                          "xBinStart": 245.2,
                          "xBinEnd": 275.85,
                          "yBinStart": 1376.875,
                          "yBinEnd": 1652.25
                        },
                        {
                          "count": 1,
                          "xBinStart": 245.2,
                          "xBinEnd": 275.85,
                          "yBinStart": 1927.625,
                          "yBinEnd": 2203
                        },
                        {
                          "count": 1,
                          "xBinStart": 245.2,
                          "xBinEnd": 275.85,
                          "yBinStart": 2478.375,
                          "yBinEnd": 2753.75
                        },
                        {
                          "count": 1,
                          "xBinStart": 245.2,
                          "xBinEnd": 275.85,
                          "yBinStart": 3029.125,
                          "yBinEnd": 3304.5
                        },
                        {
                          "count": 6,
                          "xBinStart": 275.85,
                          "xBinEnd": 306.5,
                          "yBinStart": -11.015,
                          "yBinEnd": 275.375
                        },
                        {
                          "count": 3,
                          "xBinStart": 275.85,
                          "xBinEnd": 306.5,
                          "yBinStart": 275.375,
                          "yBinEnd": 550.75
                        },
                        {
                          "count": 1,
                          "xBinStart": 275.85,
                          "xBinEnd": 306.5,
                          "yBinStart": 550.75,
                          "yBinEnd": 826.125
                        },
                        {
                          "count": 1,
                          "xBinStart": 275.85,
                          "xBinEnd": 306.5,
                          "yBinStart": 1376.875,
                          "yBinEnd": 1652.25
                        },
                        {
                          "count": 1,
                          "xBinStart": 275.85,
                          "xBinEnd": 306.5,
                          "yBinStart": 4956.75,
                          "yBinEnd": 5232.125
                        },
                        {
                          "count": 3,
                          "xBinStart": 306.5,
                          "xBinEnd": 337.15,
                          "yBinStart": -11.015,
                          "yBinEnd": 275.375
                        },
                        {
                          "count": 1,
                          "xBinStart": 306.5,
                          "xBinEnd": 337.15,
                          "yBinStart": 275.375,
                          "yBinEnd": 550.75
                        },
                        {
                          "count": 1,
                          "xBinStart": 306.5,
                          "xBinEnd": 337.15,
                          "yBinStart": 1376.875,
                          "yBinEnd": 1652.25
                        },
                        {
                          "count": 1,
                          "xBinStart": 306.5,
                          "xBinEnd": 337.15,
                          "yBinStart": 2203,
                          "yBinEnd": 2478.375
                        },
                        {
                          "count": 1,
                          "xBinStart": 306.5,
                          "xBinEnd": 337.15,
                          "yBinStart": 5782.875,
                          "yBinEnd": 6058.25
                        },
                        {
                          "count": 1,
                          "xBinStart": 306.5,
                          "xBinEnd": 337.15,
                          "yBinStart": 7710.5,
                          "yBinEnd": 7985.875
                        },
                        {
                          "count": 1,
                          "xBinStart": 337.15,
                          "xBinEnd": 367.8,
                          "yBinStart": -11.015,
                          "yBinEnd": 275.375
                        },
                        {
                          "count": 1,
                          "xBinStart": 337.15,
                          "xBinEnd": 367.8,
                          "yBinStart": 3579.875,
                          "yBinEnd": 3855.25
                        },
                        {
                          "count": 1,
                          "xBinStart": 337.15,
                          "xBinEnd": 367.8,
                          "yBinStart": 8536.625,
                          "yBinEnd": 8812
                        },
                        {
                          "count": 2,
                          "xBinStart": 367.8,
                          "xBinEnd": 398.45,
                          "yBinStart": -11.015,
                          "yBinEnd": 275.375
                        },
                        {
                          "count": 2,
                          "xBinStart": 367.8,
                          "xBinEnd": 398.45,
                          "yBinStart": 550.75,
                          "yBinEnd": 826.125
                        },
                        {
                          "count": 1,
                          "xBinStart": 398.45,
                          "xBinEnd": 429.1,
                          "yBinStart": -11.015,
                          "yBinEnd": 275.375
                        },
                        {
                          "count": 1,
                          "xBinStart": 398.45,
                          "xBinEnd": 429.1,
                          "yBinStart": 3029.125,
                          "yBinEnd": 3304.5
                        },
                        {
                          "count": 3,
                          "xBinStart": 429.1,
                          "xBinEnd": 459.75,
                          "yBinStart": -11.015,
                          "yBinEnd": 275.375
                        },
                        {
                          "count": 1,
                          "xBinStart": 429.1,
                          "xBinEnd": 459.75,
                          "yBinStart": 550.75,
                          "yBinEnd": 826.125
                        },
                        {
                          "count": 1,
                          "xBinStart": 429.1,
                          "xBinEnd": 459.75,
                          "yBinStart": 826.125,
                          "yBinEnd": 1101.5
                        },
                        {
                          "count": 2,
                          "xBinStart": 459.75,
                          "xBinEnd": 490.4,
                          "yBinStart": -11.015,
                          "yBinEnd": 275.375
                        },
                        {
                          "count": 1,
                          "xBinStart": 459.75,
                          "xBinEnd": 490.4,
                          "yBinStart": 4956.75,
                          "yBinEnd": 5232.125
                        },
                        {
                          "count": 1,
                          "xBinStart": 459.75,
                          "xBinEnd": 490.4,
                          "yBinStart": 5232.125,
                          "yBinEnd": 5507.5
                        },
                        {
                          "count": 1,
                          "xBinStart": 490.4,
                          "xBinEnd": 521.05,
                          "yBinStart": 3304.5,
                          "yBinEnd": 3579.875
                        },
                        {
                          "count": 1,
                          "xBinStart": 490.4,
                          "xBinEnd": 521.05,
                          "yBinStart": 10739.625,
                          "yBinEnd": 11015
                        },
                        {
                          "count": 1,
                          "xBinStart": 521.05,
                          "xBinEnd": 551.7,
                          "yBinStart": -11.015,
                          "yBinEnd": 275.375
                        },
                        {
                          "count": 1,
                          "xBinStart": 521.05,
                          "xBinEnd": 551.7,
                          "yBinStart": 550.75,
                          "yBinEnd": 826.125
                        },
                        {
                          "count": 1,
                          "xBinStart": 551.7,
                          "xBinEnd": 582.35,
                          "yBinStart": 550.75,
                          "yBinEnd": 826.125
                        },
                        {
                          "count": 1,
                          "xBinStart": 551.7,
                          "xBinEnd": 582.35,
                          "yBinStart": 2753.75,
                          "yBinEnd": 3029.125
                        },
                        {
                          "count": 1,
                          "xBinStart": 582.35,
                          "xBinEnd": 613,
                          "yBinStart": 3855.25,
                          "yBinEnd": 4130.625
                        },
                        {
                          "count": 1,
                          "xBinStart": 582.35,
                          "xBinEnd": 613,
                          "yBinStart": 5232.125,
                          "yBinEnd": 5507.5
                        },
                        {
                          "count": 1,
                          "xBinStart": 613,
                          "xBinEnd": 643.65,
                          "yBinStart": -11.015,
                          "yBinEnd": 275.375
                        },
                        {
                          "count": 1,
                          "xBinStart": 613,
                          "xBinEnd": 643.65,
                          "yBinStart": 275.375,
                          "yBinEnd": 550.75
                        },
                        {
                          "count": 1,
                          "xBinStart": 704.95,
                          "xBinEnd": 735.6,
                          "yBinStart": 275.375,
                          "yBinEnd": 550.75
                        },
                        {
                          "count": 1,
                          "xBinStart": 704.95,
                          "xBinEnd": 735.6,
                          "yBinStart": 3855.25,
                          "yBinEnd": 4130.625
                        },
                        {
                          "count": 1,
                          "xBinStart": 735.6,
                          "xBinEnd": 766.25,
                          "yBinStart": 1101.5,
                          "yBinEnd": 1376.875
                        },
                        {
                          "count": 1,
                          "xBinStart": 735.6,
                          "xBinEnd": 766.25,
                          "yBinStart": 3579.875,
                          "yBinEnd": 3855.25
                        },
                        {
                          "count": 1,
                          "xBinStart": 827.55,
                          "xBinEnd": 858.2,
                          "yBinStart": 3855.25,
                          "yBinEnd": 4130.625
                        },
                        {
                          "count": 1,
                          "xBinStart": 888.85,
                          "xBinEnd": 919.5,
                          "yBinStart": 3029.125,
                          "yBinEnd": 3304.5
                        },
                        {
                          "count": 1,
                          "xBinStart": 1011.45,
                          "xBinEnd": 1042.1,
                          "yBinStart": 9913.5,
                          "yBinEnd": 10188.875
                        },
                        {
                          "count": 1,
                          "xBinStart": 1072.75,
                          "xBinEnd": 1103.4,
                          "yBinStart": 550.75,
                          "yBinEnd": 826.125
                        },
                        {
                          "count": 1,
                          "xBinStart": 1195.35,
                          "xBinEnd": 1226,
                          "yBinStart": 2478.375,
                          "yBinEnd": 2753.75
                        }
                      ]
                    },
                    "vislib": "vegalite"
                  },
                  {
                    "config": {
                      "view": {
                        "continuousWidth": 400,
                        "continuousHeight": 300
                      },
                      "axis": {
                        "labelColor": "#505050",
                        "labelFont": "Helvetica Neue",
                        "labelFontSize": 9,
                        "labelFontWeight": 400,
                        "titleFont": "Helvetica Neue",
                        "titleFontSize": 11,
                        "titleFontWeight": 500
                      },
                      "legend": {
                        "labelFont": "Helvetica Neue",
                        "labelFontSize": 9,
                        "labelFontWeight": 400,
                        "titleFont": "Helvetica Neue",
                        "titleFontSize": 10,
                        "titleFontWeight": 500
                      },
                      "mark": {
                        "tooltip": {
                          "content": "encoding"
                        }
                      },
                      "scale": {
                        "maxOpacity": 1,
                        "minOpacity": 0.1
                      },
                      "title": {
                        "font": "Helvetica Neue",
                        "fontSize": 13,
                        "fontWeight": 500
                      }
                    },
                    "data": {
                      "name": "data-ff878681b2d11a361ff9a4ce1ea4b4f0"
                    },
                    "mark": "rect",
                    "encoding": {
                      "opacity": {
                        "field": "count",
                        "legend": null,
                        "scale": {
                          "type": "log"
                        },
                        "type": "quantitative"
                      },
                      "x": {
                        "axis": {
                          "title": "full_comorbid"
                        },
                        "bin": {
                          "binned": true
                        },
                        "field": "xBinStart",
                        "type": "quantitative"
                      },
                      "x2": {
                        "field": "xBinEnd"
                      },
                      "y": {
                        "axis": {
                          "title": "partial_oku"
                        },
                        "bin": {
                          "binned": true
                        },
                        "field": "yBinStart",
                        "type": "quantitative"
                      },
                      "y2": {
                        "field": "yBinEnd"
                      }
                    },
                    "height": 150,
                    "selection": {
                      "selector047": {
                        "type": "interval",
                        "bind": "scales",
                        "encodings": [
                          "x",
                          "y"
                        ]
                      }
                    },
                    "width": 160,
                    "$schema": "https://vega.github.io/schema/vega-lite/v4.17.0.json",
                    "datasets": {
                      "data-ff878681b2d11a361ff9a4ce1ea4b4f0": [
                        {
                          "count": 28824,
                          "xBinStart": -12.701,
                          "xBinEnd": 317.525,
                          "yBinStart": -3.371,
                          "yBinEnd": 84.275
                        },
                        {
                          "count": 38,
                          "xBinStart": -12.701,
                          "xBinEnd": 317.525,
                          "yBinStart": 84.275,
                          "yBinEnd": 168.55
                        },
                        {
                          "count": 5,
                          "xBinStart": -12.701,
                          "xBinEnd": 317.525,
                          "yBinStart": 168.55,
                          "yBinEnd": 252.825
                        },
                        {
                          "count": 4,
                          "xBinStart": -12.701,
                          "xBinEnd": 317.525,
                          "yBinStart": 252.825,
                          "yBinEnd": 337.1
                        },
                        {
                          "count": 2,
                          "xBinStart": -12.701,
                          "xBinEnd": 317.525,
                          "yBinStart": 421.375,
                          "yBinEnd": 505.65
                        },
                        {
                          "count": 1,
                          "xBinStart": -12.701,
                          "xBinEnd": 317.525,
                          "yBinStart": 1516.95,
                          "yBinEnd": 1601.225
                        },
                        {
                          "count": 577,
                          "xBinStart": 317.525,
                          "xBinEnd": 635.05,
                          "yBinStart": -3.371,
                          "yBinEnd": 84.275
                        },
                        {
                          "count": 23,
                          "xBinStart": 317.525,
                          "xBinEnd": 635.05,
                          "yBinStart": 84.275,
                          "yBinEnd": 168.55
                        },
                        {
                          "count": 6,
                          "xBinStart": 317.525,
                          "xBinEnd": 635.05,
                          "yBinStart": 168.55,
                          "yBinEnd": 252.825
                        },
                        {
                          "count": 2,
                          "xBinStart": 317.525,
                          "xBinEnd": 635.05,
                          "yBinStart": 252.825,
                          "yBinEnd": 337.1
                        },
                        {
                          "count": 1,
                          "xBinStart": 317.525,
                          "xBinEnd": 635.05,
                          "yBinStart": 337.1,
                          "yBinEnd": 421.375
                        },
                        {
                          "count": 1,
                          "xBinStart": 317.525,
                          "xBinEnd": 635.05,
                          "yBinStart": 421.375,
                          "yBinEnd": 505.65
                        },
                        {
                          "count": 2,
                          "xBinStart": 317.525,
                          "xBinEnd": 635.05,
                          "yBinStart": 674.2,
                          "yBinEnd": 758.475
                        },
                        {
                          "count": 184,
                          "xBinStart": 635.05,
                          "xBinEnd": 952.575,
                          "yBinStart": -3.371,
                          "yBinEnd": 84.275
                        },
                        {
                          "count": 20,
                          "xBinStart": 635.05,
                          "xBinEnd": 952.575,
                          "yBinStart": 84.275,
                          "yBinEnd": 168.55
                        },
                        {
                          "count": 4,
                          "xBinStart": 635.05,
                          "xBinEnd": 952.575,
                          "yBinStart": 168.55,
                          "yBinEnd": 252.825
                        },
                        {
                          "count": 3,
                          "xBinStart": 635.05,
                          "xBinEnd": 952.575,
                          "yBinStart": 252.825,
                          "yBinEnd": 337.1
                        },
                        {
                          "count": 2,
                          "xBinStart": 635.05,
                          "xBinEnd": 952.575,
                          "yBinStart": 505.65,
                          "yBinEnd": 589.925
                        },
                        {
                          "count": 92,
                          "xBinStart": 952.575,
                          "xBinEnd": 1270.1,
                          "yBinStart": -3.371,
                          "yBinEnd": 84.275
                        },
                        {
                          "count": 10,
                          "xBinStart": 952.575,
                          "xBinEnd": 1270.1,
                          "yBinStart": 84.275,
                          "yBinEnd": 168.55
                        },
                        {
                          "count": 1,
                          "xBinStart": 952.575,
                          "xBinEnd": 1270.1,
                          "yBinStart": 168.55,
                          "yBinEnd": 252.825
                        },
                        {
                          "count": 1,
                          "xBinStart": 952.575,
                          "xBinEnd": 1270.1,
                          "yBinStart": 252.825,
                          "yBinEnd": 337.1
                        },
                        {
                          "count": 1,
                          "xBinStart": 952.575,
                          "xBinEnd": 1270.1,
                          "yBinStart": 421.375,
                          "yBinEnd": 505.65
                        },
                        {
                          "count": 1,
                          "xBinStart": 952.575,
                          "xBinEnd": 1270.1,
                          "yBinStart": 674.2,
                          "yBinEnd": 758.475
                        },
                        {
                          "count": 38,
                          "xBinStart": 1270.1,
                          "xBinEnd": 1587.625,
                          "yBinStart": -3.371,
                          "yBinEnd": 84.275
                        },
                        {
                          "count": 13,
                          "xBinStart": 1270.1,
                          "xBinEnd": 1587.625,
                          "yBinStart": 84.275,
                          "yBinEnd": 168.55
                        },
                        {
                          "count": 3,
                          "xBinStart": 1270.1,
                          "xBinEnd": 1587.625,
                          "yBinStart": 168.55,
                          "yBinEnd": 252.825
                        },
                        {
                          "count": 2,
                          "xBinStart": 1270.1,
                          "xBinEnd": 1587.625,
                          "yBinStart": 421.375,
                          "yBinEnd": 505.65
                        },
                        {
                          "count": 1,
                          "xBinStart": 1270.1,
                          "xBinEnd": 1587.625,
                          "yBinStart": 1516.95,
                          "yBinEnd": 1601.225
                        },
                        {
                          "count": 1,
                          "xBinStart": 1270.1,
                          "xBinEnd": 1587.625,
                          "yBinStart": 3286.725,
                          "yBinEnd": 3371
                        },
                        {
                          "count": 26,
                          "xBinStart": 1587.625,
                          "xBinEnd": 1905.15,
                          "yBinStart": -3.371,
                          "yBinEnd": 84.275
                        },
                        {
                          "count": 1,
                          "xBinStart": 1587.625,
                          "xBinEnd": 1905.15,
                          "yBinStart": 421.375,
                          "yBinEnd": 505.65
                        },
                        {
                          "count": 15,
                          "xBinStart": 1905.15,
                          "xBinEnd": 2222.675,
                          "yBinStart": -3.371,
                          "yBinEnd": 84.275
                        },
                        {
                          "count": 2,
                          "xBinStart": 1905.15,
                          "xBinEnd": 2222.675,
                          "yBinStart": 84.275,
                          "yBinEnd": 168.55
                        },
                        {
                          "count": 3,
                          "xBinStart": 1905.15,
                          "xBinEnd": 2222.675,
                          "yBinStart": 168.55,
                          "yBinEnd": 252.825
                        },
                        {
                          "count": 2,
                          "xBinStart": 1905.15,
                          "xBinEnd": 2222.675,
                          "yBinStart": 252.825,
                          "yBinEnd": 337.1
                        },
                        {
                          "count": 1,
                          "xBinStart": 1905.15,
                          "xBinEnd": 2222.675,
                          "yBinStart": 421.375,
                          "yBinEnd": 505.65
                        },
                        {
                          "count": 1,
                          "xBinStart": 1905.15,
                          "xBinEnd": 2222.675,
                          "yBinStart": 674.2,
                          "yBinEnd": 758.475
                        },
                        {
                          "count": 6,
                          "xBinStart": 2222.675,
                          "xBinEnd": 2540.2,
                          "yBinStart": -3.371,
                          "yBinEnd": 84.275
                        },
                        {
                          "count": 4,
                          "xBinStart": 2222.675,
                          "xBinEnd": 2540.2,
                          "yBinStart": 84.275,
                          "yBinEnd": 168.55
                        },
                        {
                          "count": 1,
                          "xBinStart": 2222.675,
                          "xBinEnd": 2540.2,
                          "yBinStart": 337.1,
                          "yBinEnd": 421.375
                        },
                        {
                          "count": 5,
                          "xBinStart": 2540.2,
                          "xBinEnd": 2857.725,
                          "yBinStart": -3.371,
                          "yBinEnd": 84.275
                        },
                        {
                          "count": 2,
                          "xBinStart": 2540.2,
                          "xBinEnd": 2857.725,
                          "yBinStart": 84.275,
                          "yBinEnd": 168.55
                        },
                        {
                          "count": 2,
                          "xBinStart": 2540.2,
                          "xBinEnd": 2857.725,
                          "yBinStart": 168.55,
                          "yBinEnd": 252.825
                        },
                        {
                          "count": 1,
                          "xBinStart": 2540.2,
                          "xBinEnd": 2857.725,
                          "yBinStart": 252.825,
                          "yBinEnd": 337.1
                        },
                        {
                          "count": 2,
                          "xBinStart": 2857.725,
                          "xBinEnd": 3175.25,
                          "yBinStart": -3.371,
                          "yBinEnd": 84.275
                        },
                        {
                          "count": 1,
                          "xBinStart": 2857.725,
                          "xBinEnd": 3175.25,
                          "yBinStart": 84.275,
                          "yBinEnd": 168.55
                        },
                        {
                          "count": 1,
                          "xBinStart": 3175.25,
                          "xBinEnd": 3492.775,
                          "yBinStart": -3.371,
                          "yBinEnd": 84.275
                        },
                        {
                          "count": 1,
                          "xBinStart": 3175.25,
                          "xBinEnd": 3492.775,
                          "yBinStart": 84.275,
                          "yBinEnd": 168.55
                        },
                        {
                          "count": 1,
                          "xBinStart": 3175.25,
                          "xBinEnd": 3492.775,
                          "yBinStart": 168.55,
                          "yBinEnd": 252.825
                        },
                        {
                          "count": 1,
                          "xBinStart": 3175.25,
                          "xBinEnd": 3492.775,
                          "yBinStart": 337.1,
                          "yBinEnd": 421.375
                        },
                        {
                          "count": 1,
                          "xBinStart": 3175.25,
                          "xBinEnd": 3492.775,
                          "yBinStart": 421.375,
                          "yBinEnd": 505.65
                        },
                        {
                          "count": 1,
                          "xBinStart": 3492.775,
                          "xBinEnd": 3810.3,
                          "yBinStart": 84.275,
                          "yBinEnd": 168.55
                        },
                        {
                          "count": 1,
                          "xBinStart": 3492.775,
                          "xBinEnd": 3810.3,
                          "yBinStart": 252.825,
                          "yBinEnd": 337.1
                        },
                        {
                          "count": 1,
                          "xBinStart": 3492.775,
                          "xBinEnd": 3810.3,
                          "yBinStart": 674.2,
                          "yBinEnd": 758.475
                        },
                        {
                          "count": 1,
                          "xBinStart": 3810.3,
                          "xBinEnd": 4127.825,
                          "yBinStart": -3.371,
                          "yBinEnd": 84.275
                        },
                        {
                          "count": 3,
                          "xBinStart": 3810.3,
                          "xBinEnd": 4127.825,
                          "yBinStart": 84.275,
                          "yBinEnd": 168.55
                        },
                        {
                          "count": 1,
                          "xBinStart": 3810.3,
                          "xBinEnd": 4127.825,
                          "yBinStart": 337.1,
                          "yBinEnd": 421.375
                        },
                        {
                          "count": 2,
                          "xBinStart": 3810.3,
                          "xBinEnd": 4127.825,
                          "yBinStart": 589.925,
                          "yBinEnd": 674.2
                        },
                        {
                          "count": 1,
                          "xBinStart": 3810.3,
                          "xBinEnd": 4127.825,
                          "yBinStart": 1011.3,
                          "yBinEnd": 1095.575
                        },
                        {
                          "count": 1,
                          "xBinStart": 4127.825,
                          "xBinEnd": 4445.35,
                          "yBinStart": -3.371,
                          "yBinEnd": 84.275
                        },
                        {
                          "count": 4,
                          "xBinStart": 4127.825,
                          "xBinEnd": 4445.35,
                          "yBinStart": 84.275,
                          "yBinEnd": 168.55
                        },
                        {
                          "count": 1,
                          "xBinStart": 4127.825,
                          "xBinEnd": 4445.35,
                          "yBinStart": 337.1,
                          "yBinEnd": 421.375
                        },
                        {
                          "count": 1,
                          "xBinStart": 4127.825,
                          "xBinEnd": 4445.35,
                          "yBinStart": 589.925,
                          "yBinEnd": 674.2
                        },
                        {
                          "count": 1,
                          "xBinStart": 4445.35,
                          "xBinEnd": 4762.875,
                          "yBinStart": 84.275,
                          "yBinEnd": 168.55
                        },
                        {
                          "count": 1,
                          "xBinStart": 4445.35,
                          "xBinEnd": 4762.875,
                          "yBinStart": 168.55,
                          "yBinEnd": 252.825
                        },
                        {
                          "count": 1,
                          "xBinStart": 4445.35,
                          "xBinEnd": 4762.875,
                          "yBinStart": 252.825,
                          "yBinEnd": 337.1
                        },
                        {
                          "count": 1,
                          "xBinStart": 4445.35,
                          "xBinEnd": 4762.875,
                          "yBinStart": 842.75,
                          "yBinEnd": 927.025
                        },
                        {
                          "count": 2,
                          "xBinStart": 4762.875,
                          "xBinEnd": 5080.4,
                          "yBinStart": -3.371,
                          "yBinEnd": 84.275
                        },
                        {
                          "count": 6,
                          "xBinStart": 4762.875,
                          "xBinEnd": 5080.4,
                          "yBinStart": 84.275,
                          "yBinEnd": 168.55
                        },
                        {
                          "count": 1,
                          "xBinStart": 4762.875,
                          "xBinEnd": 5080.4,
                          "yBinStart": 252.825,
                          "yBinEnd": 337.1
                        },
                        {
                          "count": 1,
                          "xBinStart": 4762.875,
                          "xBinEnd": 5080.4,
                          "yBinStart": 674.2,
                          "yBinEnd": 758.475
                        },
                        {
                          "count": 1,
                          "xBinStart": 5397.925,
                          "xBinEnd": 5715.45,
                          "yBinStart": 337.1,
                          "yBinEnd": 421.375
                        },
                        {
                          "count": 1,
                          "xBinStart": 5715.45,
                          "xBinEnd": 6032.975,
                          "yBinStart": -3.371,
                          "yBinEnd": 84.275
                        },
                        {
                          "count": 1,
                          "xBinStart": 5715.45,
                          "xBinEnd": 6032.975,
                          "yBinStart": 84.275,
                          "yBinEnd": 168.55
                        },
                        {
                          "count": 1,
                          "xBinStart": 5715.45,
                          "xBinEnd": 6032.975,
                          "yBinStart": 252.825,
                          "yBinEnd": 337.1
                        },
                        {
                          "count": 1,
                          "xBinStart": 6985.55,
                          "xBinEnd": 7303.075,
                          "yBinStart": 505.65,
                          "yBinEnd": 589.925
                        },
                        {
                          "count": 1,
                          "xBinStart": 7620.6,
                          "xBinEnd": 7938.125,
                          "yBinStart": 1854.05,
                          "yBinEnd": 1938.325
                        },
                        {
                          "count": 1,
                          "xBinStart": 7620.6,
                          "xBinEnd": 7938.125,
                          "yBinStart": 2359.7,
                          "yBinEnd": 2443.975
                        },
                        {
                          "count": 2,
                          "xBinStart": 7938.125,
                          "xBinEnd": 8255.65,
                          "yBinStart": 168.55,
                          "yBinEnd": 252.825
                        },
                        {
                          "count": 1,
                          "xBinStart": 7938.125,
                          "xBinEnd": 8255.65,
                          "yBinStart": 421.375,
                          "yBinEnd": 505.65
                        },
                        {
                          "count": 1,
                          "xBinStart": 8255.65,
                          "xBinEnd": 8573.175,
                          "yBinStart": 84.275,
                          "yBinEnd": 168.55
                        },
                        {
                          "count": 1,
                          "xBinStart": 8255.65,
                          "xBinEnd": 8573.175,
                          "yBinStart": 168.55,
                          "yBinEnd": 252.825
                        },
                        {
                          "count": 1,
                          "xBinStart": 8255.65,
                          "xBinEnd": 8573.175,
                          "yBinStart": 252.825,
                          "yBinEnd": 337.1
                        },
                        {
                          "count": 1,
                          "xBinStart": 8890.7,
                          "xBinEnd": 9208.225,
                          "yBinStart": 168.55,
                          "yBinEnd": 252.825
                        },
                        {
                          "count": 2,
                          "xBinStart": 8890.7,
                          "xBinEnd": 9208.225,
                          "yBinStart": 421.375,
                          "yBinEnd": 505.65
                        },
                        {
                          "count": 1,
                          "xBinStart": 8890.7,
                          "xBinEnd": 9208.225,
                          "yBinStart": 1769.775,
                          "yBinEnd": 1854.05
                        },
                        {
                          "count": 1,
                          "xBinStart": 8890.7,
                          "xBinEnd": 9208.225,
                          "yBinStart": 1938.325,
                          "yBinEnd": 2022.6
                        },
                        {
                          "count": 1,
                          "xBinStart": 9208.225,
                          "xBinEnd": 9525.75,
                          "yBinStart": 1095.575,
                          "yBinEnd": 1179.85
                        },
                        {
                          "count": 1,
                          "xBinStart": 9208.225,
                          "xBinEnd": 9525.75,
                          "yBinStart": 1516.95,
                          "yBinEnd": 1601.225
                        },
                        {
                          "count": 1,
                          "xBinStart": 9525.75,
                          "xBinEnd": 9843.275,
                          "yBinStart": 84.275,
                          "yBinEnd": 168.55
                        },
                        {
                          "count": 1,
                          "xBinStart": 9843.275,
                          "xBinEnd": 10160.8,
                          "yBinStart": 337.1,
                          "yBinEnd": 421.375
                        },
                        {
                          "count": 1,
                          "xBinStart": 10478.325,
                          "xBinEnd": 10795.85,
                          "yBinStart": 168.55,
                          "yBinEnd": 252.825
                        },
                        {
                          "count": 1,
                          "xBinStart": 10795.85,
                          "xBinEnd": 11113.375,
                          "yBinStart": 421.375,
                          "yBinEnd": 505.65
                        },
                        {
                          "count": 1,
                          "xBinStart": 12383.475,
                          "xBinEnd": 12701,
                          "yBinStart": 252.825,
                          "yBinEnd": 337.1
                        }
                      ]
                    },
                    "vislib": "vegalite"
                  },
                  {
                    "config": {
                      "view": {
                        "continuousWidth": 400,
                        "continuousHeight": 300
                      },
                      "axis": {
                        "labelColor": "#505050",
                        "labelFont": "Helvetica Neue",
                        "labelFontSize": 9,
                        "labelFontWeight": 400,
                        "titleFont": "Helvetica Neue",
                        "titleFontSize": 11,
                        "titleFontWeight": 500
                      },
                      "legend": {
                        "labelFont": "Helvetica Neue",
                        "labelFontSize": 9,
                        "labelFontWeight": 400,
                        "titleFont": "Helvetica Neue",
                        "titleFontSize": 10,
                        "titleFontWeight": 500
                      },
                      "mark": {
                        "tooltip": {
                          "content": "encoding"
                        }
                      },
                      "scale": {
                        "maxOpacity": 1,
                        "minOpacity": 0.1
                      },
                      "title": {
                        "font": "Helvetica Neue",
                        "fontSize": 13,
                        "fontWeight": 500
                      }
                    },
                    "data": {
                      "name": "data-c340081fd7f3e97daa21f8dc8c5d157a"
                    },
                    "mark": "rect",
                    "encoding": {
                      "opacity": {
                        "field": "count",
                        "legend": null,
                        "scale": {
                          "type": "log"
                        },
                        "type": "quantitative"
                      },
                      "x": {
                        "axis": {
                          "title": "booster_oku"
                        },
                        "bin": {
                          "binned": true
                        },
                        "field": "xBinStart",
                        "type": "quantitative"
                      },
                      "x2": {
                        "field": "xBinEnd"
                      },
                      "y": {
                        "axis": {
                          "title": "booster_hcw"
                        },
                        "bin": {
                          "binned": true
                        },
                        "field": "yBinStart",
                        "type": "quantitative"
                      },
                      "y2": {
                        "field": "yBinEnd"
                      }
                    },
                    "height": 150,
                    "selection": {
                      "selector048": {
                        "type": "interval",
                        "bind": "scales",
                        "encodings": [
                          "x",
                          "y"
                        ]
                      }
                    },
                    "width": 160,
                    "$schema": "https://vega.github.io/schema/vega-lite/v4.17.0.json",
                    "datasets": {
                      "data-c340081fd7f3e97daa21f8dc8c5d157a": [
                        {
                          "count": 29181,
                          "xBinStart": -1.029,
                          "xBinEnd": 25.725,
                          "yBinStart": -1.226,
                          "yBinEnd": 30.65
                        },
                        {
                          "count": 107,
                          "xBinStart": -1.029,
                          "xBinEnd": 25.725,
                          "yBinStart": 30.65,
                          "yBinEnd": 61.3
                        },
                        {
                          "count": 43,
                          "xBinStart": -1.029,
                          "xBinEnd": 25.725,
                          "yBinStart": 61.3,
                          "yBinEnd": 91.95
                        },
                        {
                          "count": 27,
                          "xBinStart": -1.029,
                          "xBinEnd": 25.725,
                          "yBinStart": 91.95,
                          "yBinEnd": 122.6
                        },
                        {
                          "count": 13,
                          "xBinStart": -1.029,
                          "xBinEnd": 25.725,
                          "yBinStart": 122.6,
                          "yBinEnd": 153.25
                        },
                        {
                          "count": 12,
                          "xBinStart": -1.029,
                          "xBinEnd": 25.725,
                          "yBinStart": 153.25,
                          "yBinEnd": 183.9
                        },
                        {
                          "count": 2,
                          "xBinStart": -1.029,
                          "xBinEnd": 25.725,
                          "yBinStart": 183.9,
                          "yBinEnd": 214.55
                        },
                        {
                          "count": 6,
                          "xBinStart": -1.029,
                          "xBinEnd": 25.725,
                          "yBinStart": 214.55,
                          "yBinEnd": 245.2
                        },
                        {
                          "count": 3,
                          "xBinStart": -1.029,
                          "xBinEnd": 25.725,
                          "yBinStart": 245.2,
                          "yBinEnd": 275.85
                        },
                        {
                          "count": 9,
                          "xBinStart": -1.029,
                          "xBinEnd": 25.725,
                          "yBinStart": 275.85,
                          "yBinEnd": 306.5
                        },
                        {
                          "count": 4,
                          "xBinStart": -1.029,
                          "xBinEnd": 25.725,
                          "yBinStart": 306.5,
                          "yBinEnd": 337.15
                        },
                        {
                          "count": 1,
                          "xBinStart": -1.029,
                          "xBinEnd": 25.725,
                          "yBinStart": 337.15,
                          "yBinEnd": 367.8
                        },
                        {
                          "count": 4,
                          "xBinStart": -1.029,
                          "xBinEnd": 25.725,
                          "yBinStart": 367.8,
                          "yBinEnd": 398.45
                        },
                        {
                          "count": 1,
                          "xBinStart": -1.029,
                          "xBinEnd": 25.725,
                          "yBinStart": 398.45,
                          "yBinEnd": 429.1
                        },
                        {
                          "count": 5,
                          "xBinStart": -1.029,
                          "xBinEnd": 25.725,
                          "yBinStart": 429.1,
                          "yBinEnd": 459.75
                        },
                        {
                          "count": 2,
                          "xBinStart": -1.029,
                          "xBinEnd": 25.725,
                          "yBinStart": 459.75,
                          "yBinEnd": 490.4
                        },
                        {
                          "count": 2,
                          "xBinStart": -1.029,
                          "xBinEnd": 25.725,
                          "yBinStart": 521.05,
                          "yBinEnd": 551.7
                        },
                        {
                          "count": 1,
                          "xBinStart": -1.029,
                          "xBinEnd": 25.725,
                          "yBinStart": 551.7,
                          "yBinEnd": 582.35
                        },
                        {
                          "count": 2,
                          "xBinStart": -1.029,
                          "xBinEnd": 25.725,
                          "yBinStart": 613,
                          "yBinEnd": 643.65
                        },
                        {
                          "count": 1,
                          "xBinStart": -1.029,
                          "xBinEnd": 25.725,
                          "yBinStart": 704.95,
                          "yBinEnd": 735.6
                        },
                        {
                          "count": 1,
                          "xBinStart": -1.029,
                          "xBinEnd": 25.725,
                          "yBinStart": 1072.75,
                          "yBinEnd": 1103.4
                        },
                        {
                          "count": 210,
                          "xBinStart": 25.725,
                          "xBinEnd": 51.45,
                          "yBinStart": -1.226,
                          "yBinEnd": 30.65
                        },
                        {
                          "count": 45,
                          "xBinStart": 25.725,
                          "xBinEnd": 51.45,
                          "yBinStart": 30.65,
                          "yBinEnd": 61.3
                        },
                        {
                          "count": 10,
                          "xBinStart": 25.725,
                          "xBinEnd": 51.45,
                          "yBinStart": 61.3,
                          "yBinEnd": 91.95
                        },
                        {
                          "count": 4,
                          "xBinStart": 25.725,
                          "xBinEnd": 51.45,
                          "yBinStart": 91.95,
                          "yBinEnd": 122.6
                        },
                        {
                          "count": 1,
                          "xBinStart": 25.725,
                          "xBinEnd": 51.45,
                          "yBinStart": 122.6,
                          "yBinEnd": 153.25
                        },
                        {
                          "count": 1,
                          "xBinStart": 25.725,
                          "xBinEnd": 51.45,
                          "yBinStart": 153.25,
                          "yBinEnd": 183.9
                        },
                        {
                          "count": 3,
                          "xBinStart": 25.725,
                          "xBinEnd": 51.45,
                          "yBinStart": 183.9,
                          "yBinEnd": 214.55
                        },
                        {
                          "count": 1,
                          "xBinStart": 25.725,
                          "xBinEnd": 51.45,
                          "yBinStart": 214.55,
                          "yBinEnd": 245.2
                        },
                        {
                          "count": 1,
                          "xBinStart": 25.725,
                          "xBinEnd": 51.45,
                          "yBinStart": 245.2,
                          "yBinEnd": 275.85
                        },
                        {
                          "count": 1,
                          "xBinStart": 25.725,
                          "xBinEnd": 51.45,
                          "yBinStart": 275.85,
                          "yBinEnd": 306.5
                        },
                        {
                          "count": 64,
                          "xBinStart": 51.45,
                          "xBinEnd": 77.175,
                          "yBinStart": -1.226,
                          "yBinEnd": 30.65
                        },
                        {
                          "count": 31,
                          "xBinStart": 51.45,
                          "xBinEnd": 77.175,
                          "yBinStart": 30.65,
                          "yBinEnd": 61.3
                        },
                        {
                          "count": 10,
                          "xBinStart": 51.45,
                          "xBinEnd": 77.175,
                          "yBinStart": 61.3,
                          "yBinEnd": 91.95
                        },
                        {
                          "count": 5,
                          "xBinStart": 51.45,
                          "xBinEnd": 77.175,
                          "yBinStart": 91.95,
                          "yBinEnd": 122.6
                        },
                        {
                          "count": 2,
                          "xBinStart": 51.45,
                          "xBinEnd": 77.175,
                          "yBinStart": 122.6,
                          "yBinEnd": 153.25
                        },
                        {
                          "count": 3,
                          "xBinStart": 51.45,
                          "xBinEnd": 77.175,
                          "yBinStart": 153.25,
                          "yBinEnd": 183.9
                        },
                        {
                          "count": 2,
                          "xBinStart": 51.45,
                          "xBinEnd": 77.175,
                          "yBinStart": 183.9,
                          "yBinEnd": 214.55
                        },
                        {
                          "count": 1,
                          "xBinStart": 51.45,
                          "xBinEnd": 77.175,
                          "yBinStart": 214.55,
                          "yBinEnd": 245.2
                        },
                        {
                          "count": 1,
                          "xBinStart": 51.45,
                          "xBinEnd": 77.175,
                          "yBinStart": 306.5,
                          "yBinEnd": 337.15
                        },
                        {
                          "count": 1,
                          "xBinStart": 51.45,
                          "xBinEnd": 77.175,
                          "yBinStart": 735.6,
                          "yBinEnd": 766.25
                        },
                        {
                          "count": 20,
                          "xBinStart": 77.175,
                          "xBinEnd": 102.9,
                          "yBinStart": -1.226,
                          "yBinEnd": 30.65
                        },
                        {
                          "count": 17,
                          "xBinStart": 77.175,
                          "xBinEnd": 102.9,
                          "yBinStart": 30.65,
                          "yBinEnd": 61.3
                        },
                        {
                          "count": 6,
                          "xBinStart": 77.175,
                          "xBinEnd": 102.9,
                          "yBinStart": 61.3,
                          "yBinEnd": 91.95
                        },
                        {
                          "count": 5,
                          "xBinStart": 77.175,
                          "xBinEnd": 102.9,
                          "yBinStart": 91.95,
                          "yBinEnd": 122.6
                        },
                        {
                          "count": 1,
                          "xBinStart": 77.175,
                          "xBinEnd": 102.9,
                          "yBinStart": 122.6,
                          "yBinEnd": 153.25
                        },
                        {
                          "count": 2,
                          "xBinStart": 77.175,
                          "xBinEnd": 102.9,
                          "yBinStart": 153.25,
                          "yBinEnd": 183.9
                        },
                        {
                          "count": 1,
                          "xBinStart": 77.175,
                          "xBinEnd": 102.9,
                          "yBinStart": 183.9,
                          "yBinEnd": 214.55
                        },
                        {
                          "count": 2,
                          "xBinStart": 77.175,
                          "xBinEnd": 102.9,
                          "yBinStart": 245.2,
                          "yBinEnd": 275.85
                        },
                        {
                          "count": 1,
                          "xBinStart": 77.175,
                          "xBinEnd": 102.9,
                          "yBinStart": 275.85,
                          "yBinEnd": 306.5
                        },
                        {
                          "count": 1,
                          "xBinStart": 77.175,
                          "xBinEnd": 102.9,
                          "yBinStart": 306.5,
                          "yBinEnd": 337.15
                        },
                        {
                          "count": 1,
                          "xBinStart": 77.175,
                          "xBinEnd": 102.9,
                          "yBinStart": 888.85,
                          "yBinEnd": 919.5
                        },
                        {
                          "count": 1,
                          "xBinStart": 77.175,
                          "xBinEnd": 102.9,
                          "yBinStart": 1195.35,
                          "yBinEnd": 1226
                        },
                        {
                          "count": 8,
                          "xBinStart": 102.9,
                          "xBinEnd": 128.625,
                          "yBinStart": -1.226,
                          "yBinEnd": 30.65
                        },
                        {
                          "count": 10,
                          "xBinStart": 102.9,
                          "xBinEnd": 128.625,
                          "yBinStart": 30.65,
                          "yBinEnd": 61.3
                        },
                        {
                          "count": 9,
                          "xBinStart": 102.9,
                          "xBinEnd": 128.625,
                          "yBinStart": 61.3,
                          "yBinEnd": 91.95
                        },
                        {
                          "count": 9,
                          "xBinStart": 102.9,
                          "xBinEnd": 128.625,
                          "yBinStart": 91.95,
                          "yBinEnd": 122.6
                        },
                        {
                          "count": 1,
                          "xBinStart": 102.9,
                          "xBinEnd": 128.625,
                          "yBinStart": 122.6,
                          "yBinEnd": 153.25
                        },
                        {
                          "count": 1,
                          "xBinStart": 102.9,
                          "xBinEnd": 128.625,
                          "yBinStart": 153.25,
                          "yBinEnd": 183.9
                        },
                        {
                          "count": 1,
                          "xBinStart": 102.9,
                          "xBinEnd": 128.625,
                          "yBinStart": 183.9,
                          "yBinEnd": 214.55
                        },
                        {
                          "count": 1,
                          "xBinStart": 102.9,
                          "xBinEnd": 128.625,
                          "yBinStart": 245.2,
                          "yBinEnd": 275.85
                        },
                        {
                          "count": 1,
                          "xBinStart": 102.9,
                          "xBinEnd": 128.625,
                          "yBinStart": 551.7,
                          "yBinEnd": 582.35
                        },
                        {
                          "count": 1,
                          "xBinStart": 102.9,
                          "xBinEnd": 128.625,
                          "yBinStart": 735.6,
                          "yBinEnd": 766.25
                        },
                        {
                          "count": 1,
                          "xBinStart": 128.625,
                          "xBinEnd": 154.35,
                          "yBinStart": -1.226,
                          "yBinEnd": 30.65
                        },
                        {
                          "count": 7,
                          "xBinStart": 128.625,
                          "xBinEnd": 154.35,
                          "yBinStart": 30.65,
                          "yBinEnd": 61.3
                        },
                        {
                          "count": 3,
                          "xBinStart": 128.625,
                          "xBinEnd": 154.35,
                          "yBinStart": 61.3,
                          "yBinEnd": 91.95
                        },
                        {
                          "count": 4,
                          "xBinStart": 128.625,
                          "xBinEnd": 154.35,
                          "yBinStart": 122.6,
                          "yBinEnd": 153.25
                        },
                        {
                          "count": 2,
                          "xBinStart": 128.625,
                          "xBinEnd": 154.35,
                          "yBinStart": 153.25,
                          "yBinEnd": 183.9
                        },
                        {
                          "count": 1,
                          "xBinStart": 128.625,
                          "xBinEnd": 154.35,
                          "yBinStart": 398.45,
                          "yBinEnd": 429.1
                        },
                        {
                          "count": 1,
                          "xBinStart": 128.625,
                          "xBinEnd": 154.35,
                          "yBinStart": 827.55,
                          "yBinEnd": 858.2
                        },
                        {
                          "count": 1,
                          "xBinStart": 154.35,
                          "xBinEnd": 180.075,
                          "yBinStart": -1.226,
                          "yBinEnd": 30.65
                        },
                        {
                          "count": 3,
                          "xBinStart": 154.35,
                          "xBinEnd": 180.075,
                          "yBinStart": 30.65,
                          "yBinEnd": 61.3
                        },
                        {
                          "count": 1,
                          "xBinStart": 154.35,
                          "xBinEnd": 180.075,
                          "yBinStart": 61.3,
                          "yBinEnd": 91.95
                        },
                        {
                          "count": 1,
                          "xBinStart": 154.35,
                          "xBinEnd": 180.075,
                          "yBinStart": 122.6,
                          "yBinEnd": 153.25
                        },
                        {
                          "count": 2,
                          "xBinStart": 154.35,
                          "xBinEnd": 180.075,
                          "yBinStart": 214.55,
                          "yBinEnd": 245.2
                        },
                        {
                          "count": 2,
                          "xBinStart": 180.075,
                          "xBinEnd": 205.8,
                          "yBinStart": -1.226,
                          "yBinEnd": 30.65
                        },
                        {
                          "count": 2,
                          "xBinStart": 180.075,
                          "xBinEnd": 205.8,
                          "yBinStart": 61.3,
                          "yBinEnd": 91.95
                        },
                        {
                          "count": 1,
                          "xBinStart": 180.075,
                          "xBinEnd": 205.8,
                          "yBinStart": 91.95,
                          "yBinEnd": 122.6
                        },
                        {
                          "count": 2,
                          "xBinStart": 180.075,
                          "xBinEnd": 205.8,
                          "yBinStart": 122.6,
                          "yBinEnd": 153.25
                        },
                        {
                          "count": 1,
                          "xBinStart": 180.075,
                          "xBinEnd": 205.8,
                          "yBinStart": 183.9,
                          "yBinEnd": 214.55
                        },
                        {
                          "count": 1,
                          "xBinStart": 180.075,
                          "xBinEnd": 205.8,
                          "yBinStart": 245.2,
                          "yBinEnd": 275.85
                        },
                        {
                          "count": 1,
                          "xBinStart": 180.075,
                          "xBinEnd": 205.8,
                          "yBinStart": 459.75,
                          "yBinEnd": 490.4
                        },
                        {
                          "count": 1,
                          "xBinStart": 180.075,
                          "xBinEnd": 205.8,
                          "yBinStart": 704.95,
                          "yBinEnd": 735.6
                        },
                        {
                          "count": 1,
                          "xBinStart": 205.8,
                          "xBinEnd": 231.525,
                          "yBinStart": 30.65,
                          "yBinEnd": 61.3
                        },
                        {
                          "count": 2,
                          "xBinStart": 205.8,
                          "xBinEnd": 231.525,
                          "yBinStart": 61.3,
                          "yBinEnd": 91.95
                        },
                        {
                          "count": 1,
                          "xBinStart": 205.8,
                          "xBinEnd": 231.525,
                          "yBinStart": 91.95,
                          "yBinEnd": 122.6
                        },
                        {
                          "count": 2,
                          "xBinStart": 205.8,
                          "xBinEnd": 231.525,
                          "yBinStart": 153.25,
                          "yBinEnd": 183.9
                        },
                        {
                          "count": 1,
                          "xBinStart": 205.8,
                          "xBinEnd": 231.525,
                          "yBinStart": 183.9,
                          "yBinEnd": 214.55
                        },
                        {
                          "count": 1,
                          "xBinStart": 231.525,
                          "xBinEnd": 257.25,
                          "yBinStart": 30.65,
                          "yBinEnd": 61.3
                        },
                        {
                          "count": 1,
                          "xBinStart": 231.525,
                          "xBinEnd": 257.25,
                          "yBinStart": 91.95,
                          "yBinEnd": 122.6
                        },
                        {
                          "count": 1,
                          "xBinStart": 231.525,
                          "xBinEnd": 257.25,
                          "yBinStart": 122.6,
                          "yBinEnd": 153.25
                        },
                        {
                          "count": 1,
                          "xBinStart": 231.525,
                          "xBinEnd": 257.25,
                          "yBinStart": 153.25,
                          "yBinEnd": 183.9
                        },
                        {
                          "count": 2,
                          "xBinStart": 231.525,
                          "xBinEnd": 257.25,
                          "yBinStart": 183.9,
                          "yBinEnd": 214.55
                        },
                        {
                          "count": 1,
                          "xBinStart": 231.525,
                          "xBinEnd": 257.25,
                          "yBinStart": 214.55,
                          "yBinEnd": 245.2
                        },
                        {
                          "count": 1,
                          "xBinStart": 231.525,
                          "xBinEnd": 257.25,
                          "yBinStart": 490.4,
                          "yBinEnd": 521.05
                        },
                        {
                          "count": 1,
                          "xBinStart": 231.525,
                          "xBinEnd": 257.25,
                          "yBinStart": 582.35,
                          "yBinEnd": 613
                        },
                        {
                          "count": 1,
                          "xBinStart": 257.25,
                          "xBinEnd": 282.975,
                          "yBinStart": 61.3,
                          "yBinEnd": 91.95
                        },
                        {
                          "count": 1,
                          "xBinStart": 257.25,
                          "xBinEnd": 282.975,
                          "yBinStart": 153.25,
                          "yBinEnd": 183.9
                        },
                        {
                          "count": 1,
                          "xBinStart": 282.975,
                          "xBinEnd": 308.7,
                          "yBinStart": 459.75,
                          "yBinEnd": 490.4
                        },
                        {
                          "count": 1,
                          "xBinStart": 282.975,
                          "xBinEnd": 308.7,
                          "yBinStart": 582.35,
                          "yBinEnd": 613
                        },
                        {
                          "count": 1,
                          "xBinStart": 308.7,
                          "xBinEnd": 334.425,
                          "yBinStart": 61.3,
                          "yBinEnd": 91.95
                        },
                        {
                          "count": 1,
                          "xBinStart": 308.7,
                          "xBinEnd": 334.425,
                          "yBinStart": 91.95,
                          "yBinEnd": 122.6
                        },
                        {
                          "count": 1,
                          "xBinStart": 308.7,
                          "xBinEnd": 334.425,
                          "yBinStart": 183.9,
                          "yBinEnd": 214.55
                        },
                        {
                          "count": 1,
                          "xBinStart": 334.425,
                          "xBinEnd": 360.15,
                          "yBinStart": 183.9,
                          "yBinEnd": 214.55
                        },
                        {
                          "count": 1,
                          "xBinStart": 360.15,
                          "xBinEnd": 385.875,
                          "yBinStart": 91.95,
                          "yBinEnd": 122.6
                        },
                        {
                          "count": 1,
                          "xBinStart": 360.15,
                          "xBinEnd": 385.875,
                          "yBinStart": 214.55,
                          "yBinEnd": 245.2
                        },
                        {
                          "count": 1,
                          "xBinStart": 360.15,
                          "xBinEnd": 385.875,
                          "yBinStart": 245.2,
                          "yBinEnd": 275.85
                        },
                        {
                          "count": 1,
                          "xBinStart": 360.15,
                          "xBinEnd": 385.875,
                          "yBinStart": 275.85,
                          "yBinEnd": 306.5
                        },
                        {
                          "count": 1,
                          "xBinStart": 360.15,
                          "xBinEnd": 385.875,
                          "yBinStart": 306.5,
                          "yBinEnd": 337.15
                        },
                        {
                          "count": 1,
                          "xBinStart": 463.05,
                          "xBinEnd": 488.775,
                          "yBinStart": 91.95,
                          "yBinEnd": 122.6
                        },
                        {
                          "count": 1,
                          "xBinStart": 463.05,
                          "xBinEnd": 488.775,
                          "yBinStart": 183.9,
                          "yBinEnd": 214.55
                        },
                        {
                          "count": 1,
                          "xBinStart": 463.05,
                          "xBinEnd": 488.775,
                          "yBinStart": 337.15,
                          "yBinEnd": 367.8
                        },
                        {
                          "count": 1,
                          "xBinStart": 488.775,
                          "xBinEnd": 514.5,
                          "yBinStart": 183.9,
                          "yBinEnd": 214.55
                        },
                        {
                          "count": 1,
                          "xBinStart": 488.775,
                          "xBinEnd": 514.5,
                          "yBinStart": 490.4,
                          "yBinEnd": 521.05
                        },
                        {
                          "count": 1,
                          "xBinStart": 488.775,
                          "xBinEnd": 514.5,
                          "yBinStart": 1011.45,
                          "yBinEnd": 1042.1
                        },
                        {
                          "count": 1,
                          "xBinStart": 514.5,
                          "xBinEnd": 540.225,
                          "yBinStart": 306.5,
                          "yBinEnd": 337.15
                        },
                        {
                          "count": 1,
                          "xBinStart": 540.225,
                          "xBinEnd": 565.95,
                          "yBinStart": 61.3,
                          "yBinEnd": 91.95
                        },
                        {
                          "count": 1,
                          "xBinStart": 1003.275,
                          "xBinEnd": 1029,
                          "yBinStart": 337.15,
                          "yBinEnd": 367.8
                        }
                      ]
                    },
                    "vislib": "vegalite"
                  },
                  {
                    "config": {
                      "view": {
                        "continuousWidth": 400,
                        "continuousHeight": 300
                      },
                      "axis": {
                        "labelColor": "#505050",
                        "labelFont": "Helvetica Neue",
                        "labelFontSize": 9,
                        "labelFontWeight": 400,
                        "titleFont": "Helvetica Neue",
                        "titleFontSize": 11,
                        "titleFontWeight": 500
                      },
                      "legend": {
                        "labelFont": "Helvetica Neue",
                        "labelFontSize": 9,
                        "labelFontWeight": 400,
                        "titleFont": "Helvetica Neue",
                        "titleFontSize": 10,
                        "titleFontWeight": 500
                      },
                      "mark": {
                        "tooltip": {
                          "content": "encoding"
                        }
                      },
                      "scale": {
                        "maxOpacity": 1,
                        "minOpacity": 0.1
                      },
                      "title": {
                        "font": "Helvetica Neue",
                        "fontSize": 13,
                        "fontWeight": 500
                      }
                    },
                    "data": {
                      "name": "data-165e87c923cb41dc0b4b4b6651b41019"
                    },
                    "mark": "rect",
                    "encoding": {
                      "opacity": {
                        "field": "count",
                        "legend": null,
                        "scale": {
                          "type": "log"
                        },
                        "type": "quantitative"
                      },
                      "x": {
                        "axis": {
                          "title": "partial_comorbid"
                        },
                        "bin": {
                          "binned": true
                        },
                        "field": "xBinStart",
                        "type": "quantitative"
                      },
                      "x2": {
                        "field": "xBinEnd"
                      },
                      "y": {
                        "axis": {
                          "title": "partial_hcw"
                        },
                        "bin": {
                          "binned": true
                        },
                        "field": "yBinStart",
                        "type": "quantitative"
                      },
                      "y2": {
                        "field": "yBinEnd"
                      }
                    },
                    "height": 150,
                    "selection": {
                      "selector049": {
                        "type": "interval",
                        "bind": "scales",
                        "encodings": [
                          "x",
                          "y"
                        ]
                      }
                    },
                    "width": 160,
                    "$schema": "https://vega.github.io/schema/vega-lite/v4.17.0.json",
                    "datasets": {
                      "data-165e87c923cb41dc0b4b4b6651b41019": [
                        {
                          "count": 28612,
                          "xBinStart": -12.815,
                          "xBinEnd": 320.375,
                          "yBinStart": -1.71,
                          "yBinEnd": 42.75
                        },
                        {
                          "count": 104,
                          "xBinStart": -12.815,
                          "xBinEnd": 320.375,
                          "yBinStart": 42.75,
                          "yBinEnd": 85.5
                        },
                        {
                          "count": 53,
                          "xBinStart": -12.815,
                          "xBinEnd": 320.375,
                          "yBinStart": 85.5,
                          "yBinEnd": 128.25
                        },
                        {
                          "count": 32,
                          "xBinStart": -12.815,
                          "xBinEnd": 320.375,
                          "yBinStart": 128.25,
                          "yBinEnd": 171
                        },
                        {
                          "count": 14,
                          "xBinStart": -12.815,
                          "xBinEnd": 320.375,
                          "yBinStart": 171,
                          "yBinEnd": 213.75
                        },
                        {
                          "count": 11,
                          "xBinStart": -12.815,
                          "xBinEnd": 320.375,
                          "yBinStart": 213.75,
                          "yBinEnd": 256.5
                        },
                        {
                          "count": 16,
                          "xBinStart": -12.815,
                          "xBinEnd": 320.375,
                          "yBinStart": 256.5,
                          "yBinEnd": 299.25
                        },
                        {
                          "count": 5,
                          "xBinStart": -12.815,
                          "xBinEnd": 320.375,
                          "yBinStart": 299.25,
                          "yBinEnd": 342
                        },
                        {
                          "count": 8,
                          "xBinStart": -12.815,
                          "xBinEnd": 320.375,
                          "yBinStart": 342,
                          "yBinEnd": 384.75
                        },
                        {
                          "count": 3,
                          "xBinStart": -12.815,
                          "xBinEnd": 320.375,
                          "yBinStart": 384.75,
                          "yBinEnd": 427.5
                        },
                        {
                          "count": 5,
                          "xBinStart": -12.815,
                          "xBinEnd": 320.375,
                          "yBinStart": 427.5,
                          "yBinEnd": 470.25
                        },
                        {
                          "count": 1,
                          "xBinStart": -12.815,
                          "xBinEnd": 320.375,
                          "yBinStart": 470.25,
                          "yBinEnd": 513
                        },
                        {
                          "count": 4,
                          "xBinStart": -12.815,
                          "xBinEnd": 320.375,
                          "yBinStart": 513,
                          "yBinEnd": 555.75
                        },
                        {
                          "count": 1,
                          "xBinStart": -12.815,
                          "xBinEnd": 320.375,
                          "yBinStart": 555.75,
                          "yBinEnd": 598.5
                        },
                        {
                          "count": 5,
                          "xBinStart": -12.815,
                          "xBinEnd": 320.375,
                          "yBinStart": 598.5,
                          "yBinEnd": 641.25
                        },
                        {
                          "count": 4,
                          "xBinStart": -12.815,
                          "xBinEnd": 320.375,
                          "yBinStart": 641.25,
                          "yBinEnd": 684
                        },
                        {
                          "count": 1,
                          "xBinStart": -12.815,
                          "xBinEnd": 320.375,
                          "yBinStart": 684,
                          "yBinEnd": 726.75
                        },
                        {
                          "count": 2,
                          "xBinStart": -12.815,
                          "xBinEnd": 320.375,
                          "yBinStart": 726.75,
                          "yBinEnd": 769.5
                        },
                        {
                          "count": 2,
                          "xBinStart": -12.815,
                          "xBinEnd": 320.375,
                          "yBinStart": 769.5,
                          "yBinEnd": 812.25
                        },
                        {
                          "count": 1,
                          "xBinStart": -12.815,
                          "xBinEnd": 320.375,
                          "yBinStart": 855,
                          "yBinEnd": 897.75
                        },
                        {
                          "count": 584,
                          "xBinStart": 320.375,
                          "xBinEnd": 640.75,
                          "yBinStart": -1.71,
                          "yBinEnd": 42.75
                        },
                        {
                          "count": 12,
                          "xBinStart": 320.375,
                          "xBinEnd": 640.75,
                          "yBinStart": 42.75,
                          "yBinEnd": 85.5
                        },
                        {
                          "count": 3,
                          "xBinStart": 320.375,
                          "xBinEnd": 640.75,
                          "yBinStart": 85.5,
                          "yBinEnd": 128.25
                        },
                        {
                          "count": 1,
                          "xBinStart": 320.375,
                          "xBinEnd": 640.75,
                          "yBinStart": 128.25,
                          "yBinEnd": 171
                        },
                        {
                          "count": 1,
                          "xBinStart": 320.375,
                          "xBinEnd": 640.75,
                          "yBinStart": 171,
                          "yBinEnd": 213.75
                        },
                        {
                          "count": 1,
                          "xBinStart": 320.375,
                          "xBinEnd": 640.75,
                          "yBinStart": 213.75,
                          "yBinEnd": 256.5
                        },
                        {
                          "count": 2,
                          "xBinStart": 320.375,
                          "xBinEnd": 640.75,
                          "yBinStart": 256.5,
                          "yBinEnd": 299.25
                        },
                        {
                          "count": 1,
                          "xBinStart": 320.375,
                          "xBinEnd": 640.75,
                          "yBinStart": 342,
                          "yBinEnd": 384.75
                        },
                        {
                          "count": 2,
                          "xBinStart": 320.375,
                          "xBinEnd": 640.75,
                          "yBinStart": 726.75,
                          "yBinEnd": 769.5
                        },
                        {
                          "count": 1,
                          "xBinStart": 320.375,
                          "xBinEnd": 640.75,
                          "yBinStart": 769.5,
                          "yBinEnd": 812.25
                        },
                        {
                          "count": 1,
                          "xBinStart": 320.375,
                          "xBinEnd": 640.75,
                          "yBinStart": 812.25,
                          "yBinEnd": 855
                        },
                        {
                          "count": 1,
                          "xBinStart": 320.375,
                          "xBinEnd": 640.75,
                          "yBinStart": 940.5,
                          "yBinEnd": 983.25
                        },
                        {
                          "count": 1,
                          "xBinStart": 320.375,
                          "xBinEnd": 640.75,
                          "yBinStart": 1667.25,
                          "yBinEnd": 1710
                        },
                        {
                          "count": 211,
                          "xBinStart": 640.75,
                          "xBinEnd": 961.125,
                          "yBinStart": -1.71,
                          "yBinEnd": 42.75
                        },
                        {
                          "count": 8,
                          "xBinStart": 640.75,
                          "xBinEnd": 961.125,
                          "yBinStart": 42.75,
                          "yBinEnd": 85.5
                        },
                        {
                          "count": 2,
                          "xBinStart": 640.75,
                          "xBinEnd": 961.125,
                          "yBinStart": 85.5,
                          "yBinEnd": 128.25
                        },
                        {
                          "count": 2,
                          "xBinStart": 640.75,
                          "xBinEnd": 961.125,
                          "yBinStart": 128.25,
                          "yBinEnd": 171
                        },
                        {
                          "count": 1,
                          "xBinStart": 640.75,
                          "xBinEnd": 961.125,
                          "yBinStart": 299.25,
                          "yBinEnd": 342
                        },
                        {
                          "count": 1,
                          "xBinStart": 640.75,
                          "xBinEnd": 961.125,
                          "yBinStart": 983.25,
                          "yBinEnd": 1026
                        },
                        {
                          "count": 79,
                          "xBinStart": 961.125,
                          "xBinEnd": 1281.5,
                          "yBinStart": -1.71,
                          "yBinEnd": 42.75
                        },
                        {
                          "count": 10,
                          "xBinStart": 961.125,
                          "xBinEnd": 1281.5,
                          "yBinStart": 42.75,
                          "yBinEnd": 85.5
                        },
                        {
                          "count": 5,
                          "xBinStart": 961.125,
                          "xBinEnd": 1281.5,
                          "yBinStart": 85.5,
                          "yBinEnd": 128.25
                        },
                        {
                          "count": 1,
                          "xBinStart": 961.125,
                          "xBinEnd": 1281.5,
                          "yBinStart": 256.5,
                          "yBinEnd": 299.25
                        },
                        {
                          "count": 32,
                          "xBinStart": 1281.5,
                          "xBinEnd": 1601.875,
                          "yBinStart": -1.71,
                          "yBinEnd": 42.75
                        },
                        {
                          "count": 13,
                          "xBinStart": 1281.5,
                          "xBinEnd": 1601.875,
                          "yBinStart": 42.75,
                          "yBinEnd": 85.5
                        },
                        {
                          "count": 2,
                          "xBinStart": 1281.5,
                          "xBinEnd": 1601.875,
                          "yBinStart": 85.5,
                          "yBinEnd": 128.25
                        },
                        {
                          "count": 1,
                          "xBinStart": 1281.5,
                          "xBinEnd": 1601.875,
                          "yBinStart": 128.25,
                          "yBinEnd": 171
                        },
                        {
                          "count": 1,
                          "xBinStart": 1281.5,
                          "xBinEnd": 1601.875,
                          "yBinStart": 256.5,
                          "yBinEnd": 299.25
                        },
                        {
                          "count": 16,
                          "xBinStart": 1601.875,
                          "xBinEnd": 1922.25,
                          "yBinStart": -1.71,
                          "yBinEnd": 42.75
                        },
                        {
                          "count": 13,
                          "xBinStart": 1601.875,
                          "xBinEnd": 1922.25,
                          "yBinStart": 42.75,
                          "yBinEnd": 85.5
                        },
                        {
                          "count": 1,
                          "xBinStart": 1601.875,
                          "xBinEnd": 1922.25,
                          "yBinStart": 85.5,
                          "yBinEnd": 128.25
                        },
                        {
                          "count": 1,
                          "xBinStart": 1601.875,
                          "xBinEnd": 1922.25,
                          "yBinStart": 171,
                          "yBinEnd": 213.75
                        },
                        {
                          "count": 2,
                          "xBinStart": 1601.875,
                          "xBinEnd": 1922.25,
                          "yBinStart": 256.5,
                          "yBinEnd": 299.25
                        },
                        {
                          "count": 5,
                          "xBinStart": 1922.25,
                          "xBinEnd": 2242.625,
                          "yBinStart": -1.71,
                          "yBinEnd": 42.75
                        },
                        {
                          "count": 5,
                          "xBinStart": 1922.25,
                          "xBinEnd": 2242.625,
                          "yBinStart": 42.75,
                          "yBinEnd": 85.5
                        },
                        {
                          "count": 2,
                          "xBinStart": 1922.25,
                          "xBinEnd": 2242.625,
                          "yBinStart": 85.5,
                          "yBinEnd": 128.25
                        },
                        {
                          "count": 1,
                          "xBinStart": 1922.25,
                          "xBinEnd": 2242.625,
                          "yBinStart": 128.25,
                          "yBinEnd": 171
                        },
                        {
                          "count": 1,
                          "xBinStart": 1922.25,
                          "xBinEnd": 2242.625,
                          "yBinStart": 171,
                          "yBinEnd": 213.75
                        },
                        {
                          "count": 1,
                          "xBinStart": 1922.25,
                          "xBinEnd": 2242.625,
                          "yBinStart": 213.75,
                          "yBinEnd": 256.5
                        },
                        {
                          "count": 1,
                          "xBinStart": 1922.25,
                          "xBinEnd": 2242.625,
                          "yBinStart": 299.25,
                          "yBinEnd": 342
                        },
                        {
                          "count": 1,
                          "xBinStart": 1922.25,
                          "xBinEnd": 2242.625,
                          "yBinStart": 384.75,
                          "yBinEnd": 427.5
                        },
                        {
                          "count": 4,
                          "xBinStart": 2242.625,
                          "xBinEnd": 2563,
                          "yBinStart": -1.71,
                          "yBinEnd": 42.75
                        },
                        {
                          "count": 6,
                          "xBinStart": 2242.625,
                          "xBinEnd": 2563,
                          "yBinStart": 42.75,
                          "yBinEnd": 85.5
                        },
                        {
                          "count": 1,
                          "xBinStart": 2242.625,
                          "xBinEnd": 2563,
                          "yBinStart": 85.5,
                          "yBinEnd": 128.25
                        },
                        {
                          "count": 1,
                          "xBinStart": 2242.625,
                          "xBinEnd": 2563,
                          "yBinStart": 128.25,
                          "yBinEnd": 171
                        },
                        {
                          "count": 1,
                          "xBinStart": 2242.625,
                          "xBinEnd": 2563,
                          "yBinStart": 256.5,
                          "yBinEnd": 299.25
                        },
                        {
                          "count": 3,
                          "xBinStart": 2563,
                          "xBinEnd": 2883.375,
                          "yBinStart": 42.75,
                          "yBinEnd": 85.5
                        },
                        {
                          "count": 2,
                          "xBinStart": 2563,
                          "xBinEnd": 2883.375,
                          "yBinStart": 85.5,
                          "yBinEnd": 128.25
                        },
                        {
                          "count": 1,
                          "xBinStart": 2563,
                          "xBinEnd": 2883.375,
                          "yBinStart": 342,
                          "yBinEnd": 384.75
                        },
                        {
                          "count": 2,
                          "xBinStart": 2883.375,
                          "xBinEnd": 3203.75,
                          "yBinStart": -1.71,
                          "yBinEnd": 42.75
                        },
                        {
                          "count": 5,
                          "xBinStart": 2883.375,
                          "xBinEnd": 3203.75,
                          "yBinStart": 42.75,
                          "yBinEnd": 85.5
                        },
                        {
                          "count": 1,
                          "xBinStart": 2883.375,
                          "xBinEnd": 3203.75,
                          "yBinStart": 85.5,
                          "yBinEnd": 128.25
                        },
                        {
                          "count": 1,
                          "xBinStart": 3203.75,
                          "xBinEnd": 3524.125,
                          "yBinStart": 42.75,
                          "yBinEnd": 85.5
                        },
                        {
                          "count": 1,
                          "xBinStart": 3203.75,
                          "xBinEnd": 3524.125,
                          "yBinStart": 171,
                          "yBinEnd": 213.75
                        },
                        {
                          "count": 2,
                          "xBinStart": 3203.75,
                          "xBinEnd": 3524.125,
                          "yBinStart": 256.5,
                          "yBinEnd": 299.25
                        },
                        {
                          "count": 3,
                          "xBinStart": 3524.125,
                          "xBinEnd": 3844.5,
                          "yBinStart": 42.75,
                          "yBinEnd": 85.5
                        },
                        {
                          "count": 2,
                          "xBinStart": 3524.125,
                          "xBinEnd": 3844.5,
                          "yBinStart": 128.25,
                          "yBinEnd": 171
                        },
                        {
                          "count": 1,
                          "xBinStart": 3844.5,
                          "xBinEnd": 4164.875,
                          "yBinStart": 42.75,
                          "yBinEnd": 85.5
                        },
                        {
                          "count": 1,
                          "xBinStart": 3844.5,
                          "xBinEnd": 4164.875,
                          "yBinStart": 128.25,
                          "yBinEnd": 171
                        },
                        {
                          "count": 1,
                          "xBinStart": 3844.5,
                          "xBinEnd": 4164.875,
                          "yBinStart": 684,
                          "yBinEnd": 726.75
                        },
                        {
                          "count": 3,
                          "xBinStart": 4164.875,
                          "xBinEnd": 4485.25,
                          "yBinStart": 42.75,
                          "yBinEnd": 85.5
                        },
                        {
                          "count": 1,
                          "xBinStart": 4164.875,
                          "xBinEnd": 4485.25,
                          "yBinStart": 85.5,
                          "yBinEnd": 128.25
                        },
                        {
                          "count": 1,
                          "xBinStart": 4164.875,
                          "xBinEnd": 4485.25,
                          "yBinStart": 128.25,
                          "yBinEnd": 171
                        },
                        {
                          "count": 1,
                          "xBinStart": 4164.875,
                          "xBinEnd": 4485.25,
                          "yBinStart": 213.75,
                          "yBinEnd": 256.5
                        },
                        {
                          "count": 1,
                          "xBinStart": 4164.875,
                          "xBinEnd": 4485.25,
                          "yBinStart": 299.25,
                          "yBinEnd": 342
                        },
                        {
                          "count": 1,
                          "xBinStart": 4164.875,
                          "xBinEnd": 4485.25,
                          "yBinStart": 427.5,
                          "yBinEnd": 470.25
                        },
                        {
                          "count": 1,
                          "xBinStart": 4164.875,
                          "xBinEnd": 4485.25,
                          "yBinStart": 684,
                          "yBinEnd": 726.75
                        },
                        {
                          "count": 1,
                          "xBinStart": 4485.25,
                          "xBinEnd": 4805.625,
                          "yBinStart": 42.75,
                          "yBinEnd": 85.5
                        },
                        {
                          "count": 4,
                          "xBinStart": 4485.25,
                          "xBinEnd": 4805.625,
                          "yBinStart": 85.5,
                          "yBinEnd": 128.25
                        },
                        {
                          "count": 1,
                          "xBinStart": 4485.25,
                          "xBinEnd": 4805.625,
                          "yBinStart": 213.75,
                          "yBinEnd": 256.5
                        },
                        {
                          "count": 1,
                          "xBinStart": 4805.625,
                          "xBinEnd": 5126,
                          "yBinStart": 42.75,
                          "yBinEnd": 85.5
                        },
                        {
                          "count": 1,
                          "xBinStart": 5126,
                          "xBinEnd": 5446.375,
                          "yBinStart": 42.75,
                          "yBinEnd": 85.5
                        },
                        {
                          "count": 1,
                          "xBinStart": 5126,
                          "xBinEnd": 5446.375,
                          "yBinStart": 256.5,
                          "yBinEnd": 299.25
                        },
                        {
                          "count": 2,
                          "xBinStart": 5766.75,
                          "xBinEnd": 6087.125,
                          "yBinStart": 299.25,
                          "yBinEnd": 342
                        },
                        {
                          "count": 1,
                          "xBinStart": 6087.125,
                          "xBinEnd": 6407.5,
                          "yBinStart": 42.75,
                          "yBinEnd": 85.5
                        },
                        {
                          "count": 2,
                          "xBinStart": 6087.125,
                          "xBinEnd": 6407.5,
                          "yBinStart": 85.5,
                          "yBinEnd": 128.25
                        },
                        {
                          "count": 1,
                          "xBinStart": 6407.5,
                          "xBinEnd": 6727.875,
                          "yBinStart": 256.5,
                          "yBinEnd": 299.25
                        },
                        {
                          "count": 1,
                          "xBinStart": 6407.5,
                          "xBinEnd": 6727.875,
                          "yBinStart": 299.25,
                          "yBinEnd": 342
                        },
                        {
                          "count": 1,
                          "xBinStart": 6407.5,
                          "xBinEnd": 6727.875,
                          "yBinStart": 342,
                          "yBinEnd": 384.75
                        },
                        {
                          "count": 1,
                          "xBinStart": 6407.5,
                          "xBinEnd": 6727.875,
                          "yBinStart": 384.75,
                          "yBinEnd": 427.5
                        },
                        {
                          "count": 1,
                          "xBinStart": 6727.875,
                          "xBinEnd": 7048.25,
                          "yBinStart": 171,
                          "yBinEnd": 213.75
                        },
                        {
                          "count": 1,
                          "xBinStart": 6727.875,
                          "xBinEnd": 7048.25,
                          "yBinStart": 342,
                          "yBinEnd": 384.75
                        },
                        {
                          "count": 1,
                          "xBinStart": 7048.25,
                          "xBinEnd": 7368.625,
                          "yBinStart": 256.5,
                          "yBinEnd": 299.25
                        },
                        {
                          "count": 1,
                          "xBinStart": 7368.625,
                          "xBinEnd": 7689,
                          "yBinStart": 384.75,
                          "yBinEnd": 427.5
                        },
                        {
                          "count": 1,
                          "xBinStart": 7368.625,
                          "xBinEnd": 7689,
                          "yBinStart": 555.75,
                          "yBinEnd": 598.5
                        },
                        {
                          "count": 1,
                          "xBinStart": 7689,
                          "xBinEnd": 8009.375,
                          "yBinStart": 128.25,
                          "yBinEnd": 171
                        },
                        {
                          "count": 1,
                          "xBinStart": 7689,
                          "xBinEnd": 8009.375,
                          "yBinStart": 470.25,
                          "yBinEnd": 513
                        },
                        {
                          "count": 1,
                          "xBinStart": 8650.125,
                          "xBinEnd": 8970.5,
                          "yBinStart": 427.5,
                          "yBinEnd": 470.25
                        },
                        {
                          "count": 1,
                          "xBinStart": 8970.5,
                          "xBinEnd": 9290.875,
                          "yBinStart": 470.25,
                          "yBinEnd": 513
                        },
                        {
                          "count": 1,
                          "xBinStart": 9290.875,
                          "xBinEnd": 9611.25,
                          "yBinStart": 470.25,
                          "yBinEnd": 513
                        },
                        {
                          "count": 1,
                          "xBinStart": 9611.25,
                          "xBinEnd": 9931.625,
                          "yBinStart": 427.5,
                          "yBinEnd": 470.25
                        },
                        {
                          "count": 1,
                          "xBinStart": 9611.25,
                          "xBinEnd": 9931.625,
                          "yBinStart": 598.5,
                          "yBinEnd": 641.25
                        },
                        {
                          "count": 1,
                          "xBinStart": 9611.25,
                          "xBinEnd": 9931.625,
                          "yBinStart": 726.75,
                          "yBinEnd": 769.5
                        },
                        {
                          "count": 1,
                          "xBinStart": 10572.375,
                          "xBinEnd": 10892.75,
                          "yBinStart": 726.75,
                          "yBinEnd": 769.5
                        },
                        {
                          "count": 1,
                          "xBinStart": 10892.75,
                          "xBinEnd": 11213.125,
                          "yBinStart": 598.5,
                          "yBinEnd": 641.25
                        },
                        {
                          "count": 1,
                          "xBinStart": 11213.125,
                          "xBinEnd": 11533.5,
                          "yBinStart": 812.25,
                          "yBinEnd": 855
                        },
                        {
                          "count": 1,
                          "xBinStart": 11853.875,
                          "xBinEnd": 12174.25,
                          "yBinStart": 470.25,
                          "yBinEnd": 513
                        },
                        {
                          "count": 1,
                          "xBinStart": 11853.875,
                          "xBinEnd": 12174.25,
                          "yBinStart": 513,
                          "yBinEnd": 555.75
                        },
                        {
                          "count": 1,
                          "xBinStart": 12174.25,
                          "xBinEnd": 12494.625,
                          "yBinStart": 299.25,
                          "yBinEnd": 342
                        },
                        {
                          "count": 1,
                          "xBinStart": 12494.625,
                          "xBinEnd": 12815,
                          "yBinStart": 384.75,
                          "yBinEnd": 427.5
                        }
                      ]
                    },
                    "vislib": "vegalite"
                  },
                  {
                    "config": {
                      "view": {
                        "continuousWidth": 400,
                        "continuousHeight": 300
                      },
                      "axis": {
                        "labelColor": "#505050",
                        "labelFont": "Helvetica Neue",
                        "labelFontSize": 9,
                        "labelFontWeight": 400,
                        "titleFont": "Helvetica Neue",
                        "titleFontSize": 11,
                        "titleFontWeight": 500
                      },
                      "legend": {
                        "labelFont": "Helvetica Neue",
                        "labelFontSize": 9,
                        "labelFontWeight": 400,
                        "titleFont": "Helvetica Neue",
                        "titleFontSize": 10,
                        "titleFontWeight": 500
                      },
                      "mark": {
                        "tooltip": {
                          "content": "encoding"
                        }
                      },
                      "scale": {
                        "maxOpacity": 1,
                        "minOpacity": 0.1
                      },
                      "title": {
                        "font": "Helvetica Neue",
                        "fontSize": 13,
                        "fontWeight": 500
                      }
                    },
                    "data": {
                      "name": "data-6605e7f626b6d764df9b6f306ff96451"
                    },
                    "mark": "rect",
                    "encoding": {
                      "opacity": {
                        "field": "count",
                        "legend": null,
                        "scale": {
                          "type": "log"
                        },
                        "type": "quantitative"
                      },
                      "x": {
                        "axis": {
                          "title": "full_comorbid"
                        },
                        "bin": {
                          "binned": true
                        },
                        "field": "xBinStart",
                        "type": "quantitative"
                      },
                      "x2": {
                        "field": "xBinEnd"
                      },
                      "y": {
                        "axis": {
                          "title": "full_hcw"
                        },
                        "bin": {
                          "binned": true
                        },
                        "field": "yBinStart",
                        "type": "quantitative"
                      },
                      "y2": {
                        "field": "yBinEnd"
                      }
                    },
                    "height": 150,
                    "selection": {
                      "selector050": {
                        "type": "interval",
                        "bind": "scales",
                        "encodings": [
                          "x",
                          "y"
                        ]
                      }
                    },
                    "width": 160,
                    "$schema": "https://vega.github.io/schema/vega-lite/v4.17.0.json",
                    "datasets": {
                      "data-6605e7f626b6d764df9b6f306ff96451": [
                        {
                          "count": 28621,
                          "xBinStart": -12.701,
                          "xBinEnd": 317.525,
                          "yBinStart": -1.921,
                          "yBinEnd": 48.025
                        },
                        {
                          "count": 98,
                          "xBinStart": -12.701,
                          "xBinEnd": 317.525,
                          "yBinStart": 48.025,
                          "yBinEnd": 96.05
                        },
                        {
                          "count": 53,
                          "xBinStart": -12.701,
                          "xBinEnd": 317.525,
                          "yBinStart": 96.05,
                          "yBinEnd": 144.075
                        },
                        {
                          "count": 24,
                          "xBinStart": -12.701,
                          "xBinEnd": 317.525,
                          "yBinStart": 144.075,
                          "yBinEnd": 192.1
                        },
                        {
                          "count": 14,
                          "xBinStart": -12.701,
                          "xBinEnd": 317.525,
                          "yBinStart": 192.1,
                          "yBinEnd": 240.125
                        },
                        {
                          "count": 14,
                          "xBinStart": -12.701,
                          "xBinEnd": 317.525,
                          "yBinStart": 240.125,
                          "yBinEnd": 288.15
                        },
                        {
                          "count": 13,
                          "xBinStart": -12.701,
                          "xBinEnd": 317.525,
                          "yBinStart": 288.15,
                          "yBinEnd": 336.175
                        },
                        {
                          "count": 6,
                          "xBinStart": -12.701,
                          "xBinEnd": 317.525,
                          "yBinStart": 336.175,
                          "yBinEnd": 384.2
                        },
                        {
                          "count": 6,
                          "xBinStart": -12.701,
                          "xBinEnd": 317.525,
                          "yBinStart": 384.2,
                          "yBinEnd": 432.225
                        },
                        {
                          "count": 5,
                          "xBinStart": -12.701,
                          "xBinEnd": 317.525,
                          "yBinStart": 432.225,
                          "yBinEnd": 480.25
                        },
                        {
                          "count": 2,
                          "xBinStart": -12.701,
                          "xBinEnd": 317.525,
                          "yBinStart": 480.25,
                          "yBinEnd": 528.275
                        },
                        {
                          "count": 2,
                          "xBinStart": -12.701,
                          "xBinEnd": 317.525,
                          "yBinStart": 528.275,
                          "yBinEnd": 576.3
                        },
                        {
                          "count": 6,
                          "xBinStart": -12.701,
                          "xBinEnd": 317.525,
                          "yBinStart": 576.3,
                          "yBinEnd": 624.325
                        },
                        {
                          "count": 2,
                          "xBinStart": -12.701,
                          "xBinEnd": 317.525,
                          "yBinStart": 624.325,
                          "yBinEnd": 672.35
                        },
                        {
                          "count": 1,
                          "xBinStart": -12.701,
                          "xBinEnd": 317.525,
                          "yBinStart": 672.35,
                          "yBinEnd": 720.375
                        },
                        {
                          "count": 2,
                          "xBinStart": -12.701,
                          "xBinEnd": 317.525,
                          "yBinStart": 720.375,
                          "yBinEnd": 768.4
                        },
                        {
                          "count": 3,
                          "xBinStart": -12.701,
                          "xBinEnd": 317.525,
                          "yBinStart": 768.4,
                          "yBinEnd": 816.425
                        },
                        {
                          "count": 2,
                          "xBinStart": -12.701,
                          "xBinEnd": 317.525,
                          "yBinStart": 816.425,
                          "yBinEnd": 864.45
                        },
                        {
                          "count": 588,
                          "xBinStart": 317.525,
                          "xBinEnd": 635.05,
                          "yBinStart": -1.921,
                          "yBinEnd": 48.025
                        },
                        {
                          "count": 9,
                          "xBinStart": 317.525,
                          "xBinEnd": 635.05,
                          "yBinStart": 48.025,
                          "yBinEnd": 96.05
                        },
                        {
                          "count": 4,
                          "xBinStart": 317.525,
                          "xBinEnd": 635.05,
                          "yBinStart": 96.05,
                          "yBinEnd": 144.075
                        },
                        {
                          "count": 3,
                          "xBinStart": 317.525,
                          "xBinEnd": 635.05,
                          "yBinStart": 144.075,
                          "yBinEnd": 192.1
                        },
                        {
                          "count": 1,
                          "xBinStart": 317.525,
                          "xBinEnd": 635.05,
                          "yBinStart": 240.125,
                          "yBinEnd": 288.15
                        },
                        {
                          "count": 1,
                          "xBinStart": 317.525,
                          "xBinEnd": 635.05,
                          "yBinStart": 288.15,
                          "yBinEnd": 336.175
                        },
                        {
                          "count": 1,
                          "xBinStart": 317.525,
                          "xBinEnd": 635.05,
                          "yBinStart": 384.2,
                          "yBinEnd": 432.225
                        },
                        {
                          "count": 1,
                          "xBinStart": 317.525,
                          "xBinEnd": 635.05,
                          "yBinStart": 528.275,
                          "yBinEnd": 576.3
                        },
                        {
                          "count": 1,
                          "xBinStart": 317.525,
                          "xBinEnd": 635.05,
                          "yBinStart": 576.3,
                          "yBinEnd": 624.325
                        },
                        {
                          "count": 1,
                          "xBinStart": 317.525,
                          "xBinEnd": 635.05,
                          "yBinStart": 720.375,
                          "yBinEnd": 768.4
                        },
                        {
                          "count": 1,
                          "xBinStart": 317.525,
                          "xBinEnd": 635.05,
                          "yBinStart": 1344.7,
                          "yBinEnd": 1392.725
                        },
                        {
                          "count": 1,
                          "xBinStart": 317.525,
                          "xBinEnd": 635.05,
                          "yBinStart": 1872.975,
                          "yBinEnd": 1921
                        },
                        {
                          "count": 198,
                          "xBinStart": 635.05,
                          "xBinEnd": 952.575,
                          "yBinStart": -1.921,
                          "yBinEnd": 48.025
                        },
                        {
                          "count": 6,
                          "xBinStart": 635.05,
                          "xBinEnd": 952.575,
                          "yBinStart": 48.025,
                          "yBinEnd": 96.05
                        },
                        {
                          "count": 1,
                          "xBinStart": 635.05,
                          "xBinEnd": 952.575,
                          "yBinStart": 96.05,
                          "yBinEnd": 144.075
                        },
                        {
                          "count": 2,
                          "xBinStart": 635.05,
                          "xBinEnd": 952.575,
                          "yBinStart": 144.075,
                          "yBinEnd": 192.1
                        },
                        {
                          "count": 2,
                          "xBinStart": 635.05,
                          "xBinEnd": 952.575,
                          "yBinStart": 192.1,
                          "yBinEnd": 240.125
                        },
                        {
                          "count": 2,
                          "xBinStart": 635.05,
                          "xBinEnd": 952.575,
                          "yBinStart": 240.125,
                          "yBinEnd": 288.15
                        },
                        {
                          "count": 1,
                          "xBinStart": 635.05,
                          "xBinEnd": 952.575,
                          "yBinStart": 1056.55,
                          "yBinEnd": 1104.575
                        },
                        {
                          "count": 1,
                          "xBinStart": 635.05,
                          "xBinEnd": 952.575,
                          "yBinStart": 1872.975,
                          "yBinEnd": 1921
                        },
                        {
                          "count": 92,
                          "xBinStart": 952.575,
                          "xBinEnd": 1270.1,
                          "yBinStart": -1.921,
                          "yBinEnd": 48.025
                        },
                        {
                          "count": 10,
                          "xBinStart": 952.575,
                          "xBinEnd": 1270.1,
                          "yBinStart": 48.025,
                          "yBinEnd": 96.05
                        },
                        {
                          "count": 2,
                          "xBinStart": 952.575,
                          "xBinEnd": 1270.1,
                          "yBinStart": 96.05,
                          "yBinEnd": 144.075
                        },
                        {
                          "count": 1,
                          "xBinStart": 952.575,
                          "xBinEnd": 1270.1,
                          "yBinStart": 144.075,
                          "yBinEnd": 192.1
                        },
                        {
                          "count": 1,
                          "xBinStart": 952.575,
                          "xBinEnd": 1270.1,
                          "yBinStart": 1680.875,
                          "yBinEnd": 1728.9
                        },
                        {
                          "count": 39,
                          "xBinStart": 1270.1,
                          "xBinEnd": 1587.625,
                          "yBinStart": -1.921,
                          "yBinEnd": 48.025
                        },
                        {
                          "count": 14,
                          "xBinStart": 1270.1,
                          "xBinEnd": 1587.625,
                          "yBinStart": 48.025,
                          "yBinEnd": 96.05
                        },
                        {
                          "count": 3,
                          "xBinStart": 1270.1,
                          "xBinEnd": 1587.625,
                          "yBinStart": 96.05,
                          "yBinEnd": 144.075
                        },
                        {
                          "count": 1,
                          "xBinStart": 1270.1,
                          "xBinEnd": 1587.625,
                          "yBinStart": 144.075,
                          "yBinEnd": 192.1
                        },
                        {
                          "count": 1,
                          "xBinStart": 1270.1,
                          "xBinEnd": 1587.625,
                          "yBinStart": 240.125,
                          "yBinEnd": 288.15
                        },
                        {
                          "count": 18,
                          "xBinStart": 1587.625,
                          "xBinEnd": 1905.15,
                          "yBinStart": -1.921,
                          "yBinEnd": 48.025
                        },
                        {
                          "count": 4,
                          "xBinStart": 1587.625,
                          "xBinEnd": 1905.15,
                          "yBinStart": 48.025,
                          "yBinEnd": 96.05
                        },
                        {
                          "count": 3,
                          "xBinStart": 1587.625,
                          "xBinEnd": 1905.15,
                          "yBinStart": 96.05,
                          "yBinEnd": 144.075
                        },
                        {
                          "count": 1,
                          "xBinStart": 1587.625,
                          "xBinEnd": 1905.15,
                          "yBinStart": 192.1,
                          "yBinEnd": 240.125
                        },
                        {
                          "count": 1,
                          "xBinStart": 1587.625,
                          "xBinEnd": 1905.15,
                          "yBinStart": 288.15,
                          "yBinEnd": 336.175
                        },
                        {
                          "count": 16,
                          "xBinStart": 1905.15,
                          "xBinEnd": 2222.675,
                          "yBinStart": -1.921,
                          "yBinEnd": 48.025
                        },
                        {
                          "count": 4,
                          "xBinStart": 1905.15,
                          "xBinEnd": 2222.675,
                          "yBinStart": 48.025,
                          "yBinEnd": 96.05
                        },
                        {
                          "count": 1,
                          "xBinStart": 1905.15,
                          "xBinEnd": 2222.675,
                          "yBinStart": 144.075,
                          "yBinEnd": 192.1
                        },
                        {
                          "count": 2,
                          "xBinStart": 1905.15,
                          "xBinEnd": 2222.675,
                          "yBinStart": 192.1,
                          "yBinEnd": 240.125
                        },
                        {
                          "count": 1,
                          "xBinStart": 1905.15,
                          "xBinEnd": 2222.675,
                          "yBinStart": 240.125,
                          "yBinEnd": 288.15
                        },
                        {
                          "count": 5,
                          "xBinStart": 2222.675,
                          "xBinEnd": 2540.2,
                          "yBinStart": -1.921,
                          "yBinEnd": 48.025
                        },
                        {
                          "count": 3,
                          "xBinStart": 2222.675,
                          "xBinEnd": 2540.2,
                          "yBinStart": 48.025,
                          "yBinEnd": 96.05
                        },
                        {
                          "count": 2,
                          "xBinStart": 2222.675,
                          "xBinEnd": 2540.2,
                          "yBinStart": 96.05,
                          "yBinEnd": 144.075
                        },
                        {
                          "count": 1,
                          "xBinStart": 2222.675,
                          "xBinEnd": 2540.2,
                          "yBinStart": 240.125,
                          "yBinEnd": 288.15
                        },
                        {
                          "count": 4,
                          "xBinStart": 2540.2,
                          "xBinEnd": 2857.725,
                          "yBinStart": -1.921,
                          "yBinEnd": 48.025
                        },
                        {
                          "count": 3,
                          "xBinStart": 2540.2,
                          "xBinEnd": 2857.725,
                          "yBinStart": 48.025,
                          "yBinEnd": 96.05
                        },
                        {
                          "count": 3,
                          "xBinStart": 2540.2,
                          "xBinEnd": 2857.725,
                          "yBinStart": 96.05,
                          "yBinEnd": 144.075
                        },
                        {
                          "count": 1,
                          "xBinStart": 2857.725,
                          "xBinEnd": 3175.25,
                          "yBinStart": 48.025,
                          "yBinEnd": 96.05
                        },
                        {
                          "count": 1,
                          "xBinStart": 2857.725,
                          "xBinEnd": 3175.25,
                          "yBinStart": 96.05,
                          "yBinEnd": 144.075
                        },
                        {
                          "count": 1,
                          "xBinStart": 2857.725,
                          "xBinEnd": 3175.25,
                          "yBinStart": 192.1,
                          "yBinEnd": 240.125
                        },
                        {
                          "count": 1,
                          "xBinStart": 3175.25,
                          "xBinEnd": 3492.775,
                          "yBinStart": -1.921,
                          "yBinEnd": 48.025
                        },
                        {
                          "count": 3,
                          "xBinStart": 3175.25,
                          "xBinEnd": 3492.775,
                          "yBinStart": 48.025,
                          "yBinEnd": 96.05
                        },
                        {
                          "count": 1,
                          "xBinStart": 3175.25,
                          "xBinEnd": 3492.775,
                          "yBinStart": 240.125,
                          "yBinEnd": 288.15
                        },
                        {
                          "count": 1,
                          "xBinStart": 3492.775,
                          "xBinEnd": 3810.3,
                          "yBinStart": 48.025,
                          "yBinEnd": 96.05
                        },
                        {
                          "count": 1,
                          "xBinStart": 3492.775,
                          "xBinEnd": 3810.3,
                          "yBinStart": 240.125,
                          "yBinEnd": 288.15
                        },
                        {
                          "count": 1,
                          "xBinStart": 3492.775,
                          "xBinEnd": 3810.3,
                          "yBinStart": 336.175,
                          "yBinEnd": 384.2
                        },
                        {
                          "count": 1,
                          "xBinStart": 3810.3,
                          "xBinEnd": 4127.825,
                          "yBinStart": -1.921,
                          "yBinEnd": 48.025
                        },
                        {
                          "count": 3,
                          "xBinStart": 3810.3,
                          "xBinEnd": 4127.825,
                          "yBinStart": 48.025,
                          "yBinEnd": 96.05
                        },
                        {
                          "count": 1,
                          "xBinStart": 3810.3,
                          "xBinEnd": 4127.825,
                          "yBinStart": 96.05,
                          "yBinEnd": 144.075
                        },
                        {
                          "count": 1,
                          "xBinStart": 3810.3,
                          "xBinEnd": 4127.825,
                          "yBinStart": 144.075,
                          "yBinEnd": 192.1
                        },
                        {
                          "count": 2,
                          "xBinStart": 3810.3,
                          "xBinEnd": 4127.825,
                          "yBinStart": 192.1,
                          "yBinEnd": 240.125
                        },
                        {
                          "count": 1,
                          "xBinStart": 4127.825,
                          "xBinEnd": 4445.35,
                          "yBinStart": 48.025,
                          "yBinEnd": 96.05
                        },
                        {
                          "count": 5,
                          "xBinStart": 4127.825,
                          "xBinEnd": 4445.35,
                          "yBinStart": 96.05,
                          "yBinEnd": 144.075
                        },
                        {
                          "count": 1,
                          "xBinStart": 4127.825,
                          "xBinEnd": 4445.35,
                          "yBinStart": 192.1,
                          "yBinEnd": 240.125
                        },
                        {
                          "count": 2,
                          "xBinStart": 4445.35,
                          "xBinEnd": 4762.875,
                          "yBinStart": 48.025,
                          "yBinEnd": 96.05
                        },
                        {
                          "count": 1,
                          "xBinStart": 4445.35,
                          "xBinEnd": 4762.875,
                          "yBinStart": 240.125,
                          "yBinEnd": 288.15
                        },
                        {
                          "count": 1,
                          "xBinStart": 4445.35,
                          "xBinEnd": 4762.875,
                          "yBinStart": 768.4,
                          "yBinEnd": 816.425
                        },
                        {
                          "count": 1,
                          "xBinStart": 4762.875,
                          "xBinEnd": 5080.4,
                          "yBinStart": -1.921,
                          "yBinEnd": 48.025
                        },
                        {
                          "count": 4,
                          "xBinStart": 4762.875,
                          "xBinEnd": 5080.4,
                          "yBinStart": 48.025,
                          "yBinEnd": 96.05
                        },
                        {
                          "count": 2,
                          "xBinStart": 4762.875,
                          "xBinEnd": 5080.4,
                          "yBinStart": 96.05,
                          "yBinEnd": 144.075
                        },
                        {
                          "count": 1,
                          "xBinStart": 4762.875,
                          "xBinEnd": 5080.4,
                          "yBinStart": 192.1,
                          "yBinEnd": 240.125
                        },
                        {
                          "count": 1,
                          "xBinStart": 4762.875,
                          "xBinEnd": 5080.4,
                          "yBinStart": 240.125,
                          "yBinEnd": 288.15
                        },
                        {
                          "count": 1,
                          "xBinStart": 4762.875,
                          "xBinEnd": 5080.4,
                          "yBinStart": 288.15,
                          "yBinEnd": 336.175
                        },
                        {
                          "count": 1,
                          "xBinStart": 5397.925,
                          "xBinEnd": 5715.45,
                          "yBinStart": 96.05,
                          "yBinEnd": 144.075
                        },
                        {
                          "count": 1,
                          "xBinStart": 5715.45,
                          "xBinEnd": 6032.975,
                          "yBinStart": 48.025,
                          "yBinEnd": 96.05
                        },
                        {
                          "count": 1,
                          "xBinStart": 5715.45,
                          "xBinEnd": 6032.975,
                          "yBinStart": 240.125,
                          "yBinEnd": 288.15
                        },
                        {
                          "count": 1,
                          "xBinStart": 5715.45,
                          "xBinEnd": 6032.975,
                          "yBinStart": 432.225,
                          "yBinEnd": 480.25
                        },
                        {
                          "count": 1,
                          "xBinStart": 6985.55,
                          "xBinEnd": 7303.075,
                          "yBinStart": 432.225,
                          "yBinEnd": 480.25
                        },
                        {
                          "count": 1,
                          "xBinStart": 7620.6,
                          "xBinEnd": 7938.125,
                          "yBinStart": 336.175,
                          "yBinEnd": 384.2
                        },
                        {
                          "count": 1,
                          "xBinStart": 7620.6,
                          "xBinEnd": 7938.125,
                          "yBinStart": 480.25,
                          "yBinEnd": 528.275
                        },
                        {
                          "count": 1,
                          "xBinStart": 7938.125,
                          "xBinEnd": 8255.65,
                          "yBinStart": 48.025,
                          "yBinEnd": 96.05
                        },
                        {
                          "count": 1,
                          "xBinStart": 7938.125,
                          "xBinEnd": 8255.65,
                          "yBinStart": 240.125,
                          "yBinEnd": 288.15
                        },
                        {
                          "count": 1,
                          "xBinStart": 7938.125,
                          "xBinEnd": 8255.65,
                          "yBinStart": 432.225,
                          "yBinEnd": 480.25
                        },
                        {
                          "count": 1,
                          "xBinStart": 8255.65,
                          "xBinEnd": 8573.175,
                          "yBinStart": 48.025,
                          "yBinEnd": 96.05
                        },
                        {
                          "count": 2,
                          "xBinStart": 8255.65,
                          "xBinEnd": 8573.175,
                          "yBinStart": 528.275,
                          "yBinEnd": 576.3
                        },
                        {
                          "count": 1,
                          "xBinStart": 8890.7,
                          "xBinEnd": 9208.225,
                          "yBinStart": 192.1,
                          "yBinEnd": 240.125
                        },
                        {
                          "count": 2,
                          "xBinStart": 8890.7,
                          "xBinEnd": 9208.225,
                          "yBinStart": 336.175,
                          "yBinEnd": 384.2
                        },
                        {
                          "count": 1,
                          "xBinStart": 8890.7,
                          "xBinEnd": 9208.225,
                          "yBinStart": 432.225,
                          "yBinEnd": 480.25
                        },
                        {
                          "count": 1,
                          "xBinStart": 8890.7,
                          "xBinEnd": 9208.225,
                          "yBinStart": 480.25,
                          "yBinEnd": 528.275
                        },
                        {
                          "count": 1,
                          "xBinStart": 9208.225,
                          "xBinEnd": 9525.75,
                          "yBinStart": 336.175,
                          "yBinEnd": 384.2
                        },
                        {
                          "count": 1,
                          "xBinStart": 9208.225,
                          "xBinEnd": 9525.75,
                          "yBinStart": 576.3,
                          "yBinEnd": 624.325
                        },
                        {
                          "count": 1,
                          "xBinStart": 9525.75,
                          "xBinEnd": 9843.275,
                          "yBinStart": 768.4,
                          "yBinEnd": 816.425
                        },
                        {
                          "count": 1,
                          "xBinStart": 9843.275,
                          "xBinEnd": 10160.8,
                          "yBinStart": 96.05,
                          "yBinEnd": 144.075
                        },
                        {
                          "count": 1,
                          "xBinStart": 10478.325,
                          "xBinEnd": 10795.85,
                          "yBinStart": 720.375,
                          "yBinEnd": 768.4
                        },
                        {
                          "count": 1,
                          "xBinStart": 10795.85,
                          "xBinEnd": 11113.375,
                          "yBinStart": 528.275,
                          "yBinEnd": 576.3
                        },
                        {
                          "count": 1,
                          "xBinStart": 12383.475,
                          "xBinEnd": 12701,
                          "yBinStart": 576.3,
                          "yBinEnd": 624.325
                        }
                      ]
                    },
                    "vislib": "vegalite"
                  },
                  {
                    "config": {
                      "view": {
                        "continuousWidth": 400,
                        "continuousHeight": 300
                      },
                      "axis": {
                        "labelColor": "#505050",
                        "labelFont": "Helvetica Neue",
                        "labelFontSize": 9,
                        "labelFontWeight": 400,
                        "titleFont": "Helvetica Neue",
                        "titleFontSize": 11,
                        "titleFontWeight": 500
                      },
                      "legend": {
                        "labelFont": "Helvetica Neue",
                        "labelFontSize": 9,
                        "labelFontWeight": 400,
                        "titleFont": "Helvetica Neue",
                        "titleFontSize": 10,
                        "titleFontWeight": 500
                      },
                      "mark": {
                        "tooltip": {
                          "content": "encoding"
                        }
                      },
                      "scale": {
                        "maxOpacity": 1,
                        "minOpacity": 0.1
                      },
                      "title": {
                        "font": "Helvetica Neue",
                        "fontSize": 13,
                        "fontWeight": 500
                      }
                    },
                    "data": {
                      "name": "data-fe04e894895888f86ce80ce4dc1065c9"
                    },
                    "mark": "rect",
                    "encoding": {
                      "opacity": {
                        "field": "count",
                        "legend": null,
                        "scale": {
                          "type": "log"
                        },
                        "type": "quantitative"
                      },
                      "x": {
                        "axis": {
                          "title": "partial_comorbid"
                        },
                        "bin": {
                          "binned": true
                        },
                        "field": "xBinStart",
                        "type": "quantitative"
                      },
                      "x2": {
                        "field": "xBinEnd"
                      },
                      "y": {
                        "axis": {
                          "title": "full_oku"
                        },
                        "bin": {
                          "binned": true
                        },
                        "field": "yBinStart",
                        "type": "quantitative"
                      },
                      "y2": {
                        "field": "yBinEnd"
                      }
                    },
                    "height": 150,
                    "selection": {
                      "selector051": {
                        "type": "interval",
                        "bind": "scales",
                        "encodings": [
                          "x",
                          "y"
                        ]
                      }
                    },
                    "width": 160,
                    "$schema": "https://vega.github.io/schema/vega-lite/v4.17.0.json",
                    "datasets": {
                      "data-fe04e894895888f86ce80ce4dc1065c9": [
                        {
                          "count": 28803,
                          "xBinStart": -12.815,
                          "xBinEnd": 320.375,
                          "yBinStart": -3.225,
                          "yBinEnd": 80.625
                        },
                        {
                          "count": 58,
                          "xBinStart": -12.815,
                          "xBinEnd": 320.375,
                          "yBinStart": 80.625,
                          "yBinEnd": 161.25
                        },
                        {
                          "count": 9,
                          "xBinStart": -12.815,
                          "xBinEnd": 320.375,
                          "yBinStart": 161.25,
                          "yBinEnd": 241.875
                        },
                        {
                          "count": 8,
                          "xBinStart": -12.815,
                          "xBinEnd": 320.375,
                          "yBinStart": 241.875,
                          "yBinEnd": 322.5
                        },
                        {
                          "count": 2,
                          "xBinStart": -12.815,
                          "xBinEnd": 320.375,
                          "yBinStart": 322.5,
                          "yBinEnd": 403.125
                        },
                        {
                          "count": 1,
                          "xBinStart": -12.815,
                          "xBinEnd": 320.375,
                          "yBinStart": 483.75,
                          "yBinEnd": 564.375
                        },
                        {
                          "count": 1,
                          "xBinStart": -12.815,
                          "xBinEnd": 320.375,
                          "yBinStart": 564.375,
                          "yBinEnd": 645
                        },
                        {
                          "count": 1,
                          "xBinStart": -12.815,
                          "xBinEnd": 320.375,
                          "yBinStart": 645,
                          "yBinEnd": 725.625
                        },
                        {
                          "count": 1,
                          "xBinStart": -12.815,
                          "xBinEnd": 320.375,
                          "yBinStart": 725.625,
                          "yBinEnd": 806.25
                        },
                        {
                          "count": 583,
                          "xBinStart": 320.375,
                          "xBinEnd": 640.75,
                          "yBinStart": -3.225,
                          "yBinEnd": 80.625
                        },
                        {
                          "count": 15,
                          "xBinStart": 320.375,
                          "xBinEnd": 640.75,
                          "yBinStart": 80.625,
                          "yBinEnd": 161.25
                        },
                        {
                          "count": 5,
                          "xBinStart": 320.375,
                          "xBinEnd": 640.75,
                          "yBinStart": 161.25,
                          "yBinEnd": 241.875
                        },
                        {
                          "count": 4,
                          "xBinStart": 320.375,
                          "xBinEnd": 640.75,
                          "yBinStart": 241.875,
                          "yBinEnd": 322.5
                        },
                        {
                          "count": 1,
                          "xBinStart": 320.375,
                          "xBinEnd": 640.75,
                          "yBinStart": 322.5,
                          "yBinEnd": 403.125
                        },
                        {
                          "count": 1,
                          "xBinStart": 320.375,
                          "xBinEnd": 640.75,
                          "yBinStart": 564.375,
                          "yBinEnd": 645
                        },
                        {
                          "count": 2,
                          "xBinStart": 320.375,
                          "xBinEnd": 640.75,
                          "yBinStart": 725.625,
                          "yBinEnd": 806.25
                        },
                        {
                          "count": 199,
                          "xBinStart": 640.75,
                          "xBinEnd": 961.125,
                          "yBinStart": -3.225,
                          "yBinEnd": 80.625
                        },
                        {
                          "count": 14,
                          "xBinStart": 640.75,
                          "xBinEnd": 961.125,
                          "yBinStart": 80.625,
                          "yBinEnd": 161.25
                        },
                        {
                          "count": 5,
                          "xBinStart": 640.75,
                          "xBinEnd": 961.125,
                          "yBinStart": 161.25,
                          "yBinEnd": 241.875
                        },
                        {
                          "count": 1,
                          "xBinStart": 640.75,
                          "xBinEnd": 961.125,
                          "yBinStart": 241.875,
                          "yBinEnd": 322.5
                        },
                        {
                          "count": 1,
                          "xBinStart": 640.75,
                          "xBinEnd": 961.125,
                          "yBinStart": 483.75,
                          "yBinEnd": 564.375
                        },
                        {
                          "count": 1,
                          "xBinStart": 640.75,
                          "xBinEnd": 961.125,
                          "yBinStart": 564.375,
                          "yBinEnd": 645
                        },
                        {
                          "count": 3,
                          "xBinStart": 640.75,
                          "xBinEnd": 961.125,
                          "yBinStart": 645,
                          "yBinEnd": 725.625
                        },
                        {
                          "count": 1,
                          "xBinStart": 640.75,
                          "xBinEnd": 961.125,
                          "yBinStart": 1209.375,
                          "yBinEnd": 1290
                        },
                        {
                          "count": 80,
                          "xBinStart": 961.125,
                          "xBinEnd": 1281.5,
                          "yBinStart": -3.225,
                          "yBinEnd": 80.625
                        },
                        {
                          "count": 5,
                          "xBinStart": 961.125,
                          "xBinEnd": 1281.5,
                          "yBinStart": 80.625,
                          "yBinEnd": 161.25
                        },
                        {
                          "count": 6,
                          "xBinStart": 961.125,
                          "xBinEnd": 1281.5,
                          "yBinStart": 161.25,
                          "yBinEnd": 241.875
                        },
                        {
                          "count": 1,
                          "xBinStart": 961.125,
                          "xBinEnd": 1281.5,
                          "yBinStart": 241.875,
                          "yBinEnd": 322.5
                        },
                        {
                          "count": 1,
                          "xBinStart": 961.125,
                          "xBinEnd": 1281.5,
                          "yBinStart": 403.125,
                          "yBinEnd": 483.75
                        },
                        {
                          "count": 1,
                          "xBinStart": 961.125,
                          "xBinEnd": 1281.5,
                          "yBinStart": 483.75,
                          "yBinEnd": 564.375
                        },
                        {
                          "count": 1,
                          "xBinStart": 961.125,
                          "xBinEnd": 1281.5,
                          "yBinStart": 564.375,
                          "yBinEnd": 645
                        },
                        {
                          "count": 34,
                          "xBinStart": 1281.5,
                          "xBinEnd": 1601.875,
                          "yBinStart": -3.225,
                          "yBinEnd": 80.625
                        },
                        {
                          "count": 5,
                          "xBinStart": 1281.5,
                          "xBinEnd": 1601.875,
                          "yBinStart": 80.625,
                          "yBinEnd": 161.25
                        },
                        {
                          "count": 4,
                          "xBinStart": 1281.5,
                          "xBinEnd": 1601.875,
                          "yBinStart": 161.25,
                          "yBinEnd": 241.875
                        },
                        {
                          "count": 1,
                          "xBinStart": 1281.5,
                          "xBinEnd": 1601.875,
                          "yBinStart": 322.5,
                          "yBinEnd": 403.125
                        },
                        {
                          "count": 1,
                          "xBinStart": 1281.5,
                          "xBinEnd": 1601.875,
                          "yBinStart": 403.125,
                          "yBinEnd": 483.75
                        },
                        {
                          "count": 1,
                          "xBinStart": 1281.5,
                          "xBinEnd": 1601.875,
                          "yBinStart": 564.375,
                          "yBinEnd": 645
                        },
                        {
                          "count": 1,
                          "xBinStart": 1281.5,
                          "xBinEnd": 1601.875,
                          "yBinStart": 1048.125,
                          "yBinEnd": 1128.75
                        },
                        {
                          "count": 1,
                          "xBinStart": 1281.5,
                          "xBinEnd": 1601.875,
                          "yBinStart": 1209.375,
                          "yBinEnd": 1290
                        },
                        {
                          "count": 1,
                          "xBinStart": 1281.5,
                          "xBinEnd": 1601.875,
                          "yBinStart": 1612.5,
                          "yBinEnd": 1693.125
                        },
                        {
                          "count": 21,
                          "xBinStart": 1601.875,
                          "xBinEnd": 1922.25,
                          "yBinStart": -3.225,
                          "yBinEnd": 80.625
                        },
                        {
                          "count": 8,
                          "xBinStart": 1601.875,
                          "xBinEnd": 1922.25,
                          "yBinStart": 80.625,
                          "yBinEnd": 161.25
                        },
                        {
                          "count": 2,
                          "xBinStart": 1601.875,
                          "xBinEnd": 1922.25,
                          "yBinStart": 241.875,
                          "yBinEnd": 322.5
                        },
                        {
                          "count": 1,
                          "xBinStart": 1601.875,
                          "xBinEnd": 1922.25,
                          "yBinStart": 1531.875,
                          "yBinEnd": 1612.5
                        },
                        {
                          "count": 1,
                          "xBinStart": 1601.875,
                          "xBinEnd": 1922.25,
                          "yBinStart": 1612.5,
                          "yBinEnd": 1693.125
                        },
                        {
                          "count": 15,
                          "xBinStart": 1922.25,
                          "xBinEnd": 2242.625,
                          "yBinStart": -3.225,
                          "yBinEnd": 80.625
                        },
                        {
                          "count": 1,
                          "xBinStart": 1922.25,
                          "xBinEnd": 2242.625,
                          "yBinStart": 80.625,
                          "yBinEnd": 161.25
                        },
                        {
                          "count": 1,
                          "xBinStart": 1922.25,
                          "xBinEnd": 2242.625,
                          "yBinStart": 161.25,
                          "yBinEnd": 241.875
                        },
                        {
                          "count": 11,
                          "xBinStart": 2242.625,
                          "xBinEnd": 2563,
                          "yBinStart": -3.225,
                          "yBinEnd": 80.625
                        },
                        {
                          "count": 1,
                          "xBinStart": 2242.625,
                          "xBinEnd": 2563,
                          "yBinStart": 80.625,
                          "yBinEnd": 161.25
                        },
                        {
                          "count": 1,
                          "xBinStart": 2242.625,
                          "xBinEnd": 2563,
                          "yBinStart": 725.625,
                          "yBinEnd": 806.25
                        },
                        {
                          "count": 3,
                          "xBinStart": 2563,
                          "xBinEnd": 2883.375,
                          "yBinStart": -3.225,
                          "yBinEnd": 80.625
                        },
                        {
                          "count": 1,
                          "xBinStart": 2563,
                          "xBinEnd": 2883.375,
                          "yBinStart": 80.625,
                          "yBinEnd": 161.25
                        },
                        {
                          "count": 1,
                          "xBinStart": 2563,
                          "xBinEnd": 2883.375,
                          "yBinStart": 322.5,
                          "yBinEnd": 403.125
                        },
                        {
                          "count": 1,
                          "xBinStart": 2563,
                          "xBinEnd": 2883.375,
                          "yBinStart": 645,
                          "yBinEnd": 725.625
                        },
                        {
                          "count": 5,
                          "xBinStart": 2883.375,
                          "xBinEnd": 3203.75,
                          "yBinStart": -3.225,
                          "yBinEnd": 80.625
                        },
                        {
                          "count": 1,
                          "xBinStart": 2883.375,
                          "xBinEnd": 3203.75,
                          "yBinStart": 80.625,
                          "yBinEnd": 161.25
                        },
                        {
                          "count": 1,
                          "xBinStart": 2883.375,
                          "xBinEnd": 3203.75,
                          "yBinStart": 161.25,
                          "yBinEnd": 241.875
                        },
                        {
                          "count": 1,
                          "xBinStart": 2883.375,
                          "xBinEnd": 3203.75,
                          "yBinStart": 564.375,
                          "yBinEnd": 645
                        },
                        {
                          "count": 1,
                          "xBinStart": 3203.75,
                          "xBinEnd": 3524.125,
                          "yBinStart": -3.225,
                          "yBinEnd": 80.625
                        },
                        {
                          "count": 1,
                          "xBinStart": 3203.75,
                          "xBinEnd": 3524.125,
                          "yBinStart": 80.625,
                          "yBinEnd": 161.25
                        },
                        {
                          "count": 1,
                          "xBinStart": 3203.75,
                          "xBinEnd": 3524.125,
                          "yBinStart": 322.5,
                          "yBinEnd": 403.125
                        },
                        {
                          "count": 1,
                          "xBinStart": 3203.75,
                          "xBinEnd": 3524.125,
                          "yBinStart": 3144.375,
                          "yBinEnd": 3225
                        },
                        {
                          "count": 3,
                          "xBinStart": 3524.125,
                          "xBinEnd": 3844.5,
                          "yBinStart": -3.225,
                          "yBinEnd": 80.625
                        },
                        {
                          "count": 1,
                          "xBinStart": 3524.125,
                          "xBinEnd": 3844.5,
                          "yBinStart": 80.625,
                          "yBinEnd": 161.25
                        },
                        {
                          "count": 1,
                          "xBinStart": 3524.125,
                          "xBinEnd": 3844.5,
                          "yBinStart": 161.25,
                          "yBinEnd": 241.875
                        },
                        {
                          "count": 3,
                          "xBinStart": 3844.5,
                          "xBinEnd": 4164.875,
                          "yBinStart": -3.225,
                          "yBinEnd": 80.625
                        },
                        {
                          "count": 6,
                          "xBinStart": 4164.875,
                          "xBinEnd": 4485.25,
                          "yBinStart": -3.225,
                          "yBinEnd": 80.625
                        },
                        {
                          "count": 2,
                          "xBinStart": 4164.875,
                          "xBinEnd": 4485.25,
                          "yBinStart": 80.625,
                          "yBinEnd": 161.25
                        },
                        {
                          "count": 1,
                          "xBinStart": 4164.875,
                          "xBinEnd": 4485.25,
                          "yBinStart": 161.25,
                          "yBinEnd": 241.875
                        },
                        {
                          "count": 5,
                          "xBinStart": 4485.25,
                          "xBinEnd": 4805.625,
                          "yBinStart": -3.225,
                          "yBinEnd": 80.625
                        },
                        {
                          "count": 1,
                          "xBinStart": 4485.25,
                          "xBinEnd": 4805.625,
                          "yBinStart": 80.625,
                          "yBinEnd": 161.25
                        },
                        {
                          "count": 1,
                          "xBinStart": 4805.625,
                          "xBinEnd": 5126,
                          "yBinStart": -3.225,
                          "yBinEnd": 80.625
                        },
                        {
                          "count": 2,
                          "xBinStart": 5126,
                          "xBinEnd": 5446.375,
                          "yBinStart": -3.225,
                          "yBinEnd": 80.625
                        },
                        {
                          "count": 2,
                          "xBinStart": 5766.75,
                          "xBinEnd": 6087.125,
                          "yBinStart": -3.225,
                          "yBinEnd": 80.625
                        },
                        {
                          "count": 3,
                          "xBinStart": 6087.125,
                          "xBinEnd": 6407.5,
                          "yBinStart": -3.225,
                          "yBinEnd": 80.625
                        },
                        {
                          "count": 1,
                          "xBinStart": 6407.5,
                          "xBinEnd": 6727.875,
                          "yBinStart": -3.225,
                          "yBinEnd": 80.625
                        },
                        {
                          "count": 2,
                          "xBinStart": 6407.5,
                          "xBinEnd": 6727.875,
                          "yBinStart": 80.625,
                          "yBinEnd": 161.25
                        },
                        {
                          "count": 1,
                          "xBinStart": 6407.5,
                          "xBinEnd": 6727.875,
                          "yBinStart": 322.5,
                          "yBinEnd": 403.125
                        },
                        {
                          "count": 1,
                          "xBinStart": 6727.875,
                          "xBinEnd": 7048.25,
                          "yBinStart": -3.225,
                          "yBinEnd": 80.625
                        },
                        {
                          "count": 1,
                          "xBinStart": 6727.875,
                          "xBinEnd": 7048.25,
                          "yBinStart": 161.25,
                          "yBinEnd": 241.875
                        },
                        {
                          "count": 1,
                          "xBinStart": 7048.25,
                          "xBinEnd": 7368.625,
                          "yBinStart": 322.5,
                          "yBinEnd": 403.125
                        },
                        {
                          "count": 1,
                          "xBinStart": 7368.625,
                          "xBinEnd": 7689,
                          "yBinStart": 241.875,
                          "yBinEnd": 322.5
                        },
                        {
                          "count": 1,
                          "xBinStart": 7368.625,
                          "xBinEnd": 7689,
                          "yBinStart": 403.125,
                          "yBinEnd": 483.75
                        },
                        {
                          "count": 1,
                          "xBinStart": 7689,
                          "xBinEnd": 8009.375,
                          "yBinStart": -3.225,
                          "yBinEnd": 80.625
                        },
                        {
                          "count": 1,
                          "xBinStart": 7689,
                          "xBinEnd": 8009.375,
                          "yBinStart": 322.5,
                          "yBinEnd": 403.125
                        },
                        {
                          "count": 1,
                          "xBinStart": 8650.125,
                          "xBinEnd": 8970.5,
                          "yBinStart": 322.5,
                          "yBinEnd": 403.125
                        },
                        {
                          "count": 1,
                          "xBinStart": 8970.5,
                          "xBinEnd": 9290.875,
                          "yBinStart": 322.5,
                          "yBinEnd": 403.125
                        },
                        {
                          "count": 1,
                          "xBinStart": 9290.875,
                          "xBinEnd": 9611.25,
                          "yBinStart": 241.875,
                          "yBinEnd": 322.5
                        },
                        {
                          "count": 1,
                          "xBinStart": 9611.25,
                          "xBinEnd": 9931.625,
                          "yBinStart": 241.875,
                          "yBinEnd": 322.5
                        },
                        {
                          "count": 2,
                          "xBinStart": 9611.25,
                          "xBinEnd": 9931.625,
                          "yBinStart": 403.125,
                          "yBinEnd": 483.75
                        },
                        {
                          "count": 1,
                          "xBinStart": 10572.375,
                          "xBinEnd": 10892.75,
                          "yBinStart": 403.125,
                          "yBinEnd": 483.75
                        },
                        {
                          "count": 1,
                          "xBinStart": 10892.75,
                          "xBinEnd": 11213.125,
                          "yBinStart": 80.625,
                          "yBinEnd": 161.25
                        },
                        {
                          "count": 1,
                          "xBinStart": 11213.125,
                          "xBinEnd": 11533.5,
                          "yBinStart": 322.5,
                          "yBinEnd": 403.125
                        },
                        {
                          "count": 1,
                          "xBinStart": 11853.875,
                          "xBinEnd": 12174.25,
                          "yBinStart": -3.225,
                          "yBinEnd": 80.625
                        },
                        {
                          "count": 1,
                          "xBinStart": 11853.875,
                          "xBinEnd": 12174.25,
                          "yBinStart": 161.25,
                          "yBinEnd": 241.875
                        },
                        {
                          "count": 1,
                          "xBinStart": 12174.25,
                          "xBinEnd": 12494.625,
                          "yBinStart": 80.625,
                          "yBinEnd": 161.25
                        },
                        {
                          "count": 1,
                          "xBinStart": 12494.625,
                          "xBinEnd": 12815,
                          "yBinStart": -3.225,
                          "yBinEnd": 80.625
                        }
                      ]
                    },
                    "vislib": "vegalite"
                  },
                  {
                    "config": {
                      "view": {
                        "continuousWidth": 400,
                        "continuousHeight": 300
                      },
                      "axis": {
                        "labelColor": "#505050",
                        "labelFont": "Helvetica Neue",
                        "labelFontSize": 9,
                        "labelFontWeight": 400,
                        "titleFont": "Helvetica Neue",
                        "titleFontSize": 11,
                        "titleFontWeight": 500
                      },
                      "legend": {
                        "labelFont": "Helvetica Neue",
                        "labelFontSize": 9,
                        "labelFontWeight": 400,
                        "titleFont": "Helvetica Neue",
                        "titleFontSize": 10,
                        "titleFontWeight": 500
                      },
                      "mark": {
                        "tooltip": {
                          "content": "encoding"
                        }
                      },
                      "scale": {
                        "maxOpacity": 1,
                        "minOpacity": 0.1
                      },
                      "title": {
                        "font": "Helvetica Neue",
                        "fontSize": 13,
                        "fontWeight": 500
                      }
                    },
                    "data": {
                      "name": "data-2f1fd9e94c035e6e78bfd53b15f4a1da"
                    },
                    "mark": "rect",
                    "encoding": {
                      "opacity": {
                        "field": "count",
                        "legend": null,
                        "scale": {
                          "type": "log"
                        },
                        "type": "quantitative"
                      },
                      "x": {
                        "axis": {
                          "title": "full_comorbid"
                        },
                        "bin": {
                          "binned": true
                        },
                        "field": "xBinStart",
                        "type": "quantitative"
                      },
                      "x2": {
                        "field": "xBinEnd"
                      },
                      "y": {
                        "axis": {
                          "title": "partial_hcw"
                        },
                        "bin": {
                          "binned": true
                        },
                        "field": "yBinStart",
                        "type": "quantitative"
                      },
                      "y2": {
                        "field": "yBinEnd"
                      }
                    },
                    "height": 150,
                    "selection": {
                      "selector052": {
                        "type": "interval",
                        "bind": "scales",
                        "encodings": [
                          "x",
                          "y"
                        ]
                      }
                    },
                    "width": 160,
                    "$schema": "https://vega.github.io/schema/vega-lite/v4.17.0.json",
                    "datasets": {
                      "data-2f1fd9e94c035e6e78bfd53b15f4a1da": [
                        {
                          "count": 28563,
                          "xBinStart": -12.701,
                          "xBinEnd": 317.525,
                          "yBinStart": -1.71,
                          "yBinEnd": 42.75
                        },
                        {
                          "count": 122,
                          "xBinStart": -12.701,
                          "xBinEnd": 317.525,
                          "yBinStart": 42.75,
                          "yBinEnd": 85.5
                        },
                        {
                          "count": 55,
                          "xBinStart": -12.701,
                          "xBinEnd": 317.525,
                          "yBinStart": 85.5,
                          "yBinEnd": 128.25
                        },
                        {
                          "count": 35,
                          "xBinStart": -12.701,
                          "xBinEnd": 317.525,
                          "yBinStart": 128.25,
                          "yBinEnd": 171
                        },
                        {
                          "count": 17,
                          "xBinStart": -12.701,
                          "xBinEnd": 317.525,
                          "yBinStart": 171,
                          "yBinEnd": 213.75
                        },
                        {
                          "count": 12,
                          "xBinStart": -12.701,
                          "xBinEnd": 317.525,
                          "yBinStart": 213.75,
                          "yBinEnd": 256.5
                        },
                        {
                          "count": 19,
                          "xBinStart": -12.701,
                          "xBinEnd": 317.525,
                          "yBinStart": 256.5,
                          "yBinEnd": 299.25
                        },
                        {
                          "count": 5,
                          "xBinStart": -12.701,
                          "xBinEnd": 317.525,
                          "yBinStart": 299.25,
                          "yBinEnd": 342
                        },
                        {
                          "count": 9,
                          "xBinStart": -12.701,
                          "xBinEnd": 317.525,
                          "yBinStart": 342,
                          "yBinEnd": 384.75
                        },
                        {
                          "count": 4,
                          "xBinStart": -12.701,
                          "xBinEnd": 317.525,
                          "yBinStart": 384.75,
                          "yBinEnd": 427.5
                        },
                        {
                          "count": 4,
                          "xBinStart": -12.701,
                          "xBinEnd": 317.525,
                          "yBinStart": 427.5,
                          "yBinEnd": 470.25
                        },
                        {
                          "count": 1,
                          "xBinStart": -12.701,
                          "xBinEnd": 317.525,
                          "yBinStart": 470.25,
                          "yBinEnd": 513
                        },
                        {
                          "count": 4,
                          "xBinStart": -12.701,
                          "xBinEnd": 317.525,
                          "yBinStart": 513,
                          "yBinEnd": 555.75
                        },
                        {
                          "count": 1,
                          "xBinStart": -12.701,
                          "xBinEnd": 317.525,
                          "yBinStart": 555.75,
                          "yBinEnd": 598.5
                        },
                        {
                          "count": 5,
                          "xBinStart": -12.701,
                          "xBinEnd": 317.525,
                          "yBinStart": 598.5,
                          "yBinEnd": 641.25
                        },
                        {
                          "count": 4,
                          "xBinStart": -12.701,
                          "xBinEnd": 317.525,
                          "yBinStart": 641.25,
                          "yBinEnd": 684
                        },
                        {
                          "count": 2,
                          "xBinStart": -12.701,
                          "xBinEnd": 317.525,
                          "yBinStart": 684,
                          "yBinEnd": 726.75
                        },
                        {
                          "count": 4,
                          "xBinStart": -12.701,
                          "xBinEnd": 317.525,
                          "yBinStart": 726.75,
                          "yBinEnd": 769.5
                        },
                        {
                          "count": 3,
                          "xBinStart": -12.701,
                          "xBinEnd": 317.525,
                          "yBinStart": 769.5,
                          "yBinEnd": 812.25
                        },
                        {
                          "count": 1,
                          "xBinStart": -12.701,
                          "xBinEnd": 317.525,
                          "yBinStart": 812.25,
                          "yBinEnd": 855
                        },
                        {
                          "count": 1,
                          "xBinStart": -12.701,
                          "xBinEnd": 317.525,
                          "yBinStart": 855,
                          "yBinEnd": 897.75
                        },
                        {
                          "count": 1,
                          "xBinStart": -12.701,
                          "xBinEnd": 317.525,
                          "yBinStart": 940.5,
                          "yBinEnd": 983.25
                        },
                        {
                          "count": 1,
                          "xBinStart": -12.701,
                          "xBinEnd": 317.525,
                          "yBinStart": 983.25,
                          "yBinEnd": 1026
                        },
                        {
                          "count": 1,
                          "xBinStart": -12.701,
                          "xBinEnd": 317.525,
                          "yBinStart": 1667.25,
                          "yBinEnd": 1710
                        },
                        {
                          "count": 583,
                          "xBinStart": 317.525,
                          "xBinEnd": 635.05,
                          "yBinStart": -1.71,
                          "yBinEnd": 42.75
                        },
                        {
                          "count": 16,
                          "xBinStart": 317.525,
                          "xBinEnd": 635.05,
                          "yBinStart": 42.75,
                          "yBinEnd": 85.5
                        },
                        {
                          "count": 7,
                          "xBinStart": 317.525,
                          "xBinEnd": 635.05,
                          "yBinStart": 85.5,
                          "yBinEnd": 128.25
                        },
                        {
                          "count": 1,
                          "xBinStart": 317.525,
                          "xBinEnd": 635.05,
                          "yBinStart": 128.25,
                          "yBinEnd": 171
                        },
                        {
                          "count": 2,
                          "xBinStart": 317.525,
                          "xBinEnd": 635.05,
                          "yBinStart": 299.25,
                          "yBinEnd": 342
                        },
                        {
                          "count": 2,
                          "xBinStart": 317.525,
                          "xBinEnd": 635.05,
                          "yBinStart": 384.75,
                          "yBinEnd": 427.5
                        },
                        {
                          "count": 1,
                          "xBinStart": 317.525,
                          "xBinEnd": 635.05,
                          "yBinStart": 427.5,
                          "yBinEnd": 470.25
                        },
                        {
                          "count": 192,
                          "xBinStart": 635.05,
                          "xBinEnd": 952.575,
                          "yBinStart": -1.71,
                          "yBinEnd": 42.75
                        },
                        {
                          "count": 11,
                          "xBinStart": 635.05,
                          "xBinEnd": 952.575,
                          "yBinStart": 42.75,
                          "yBinEnd": 85.5
                        },
                        {
                          "count": 6,
                          "xBinStart": 635.05,
                          "xBinEnd": 952.575,
                          "yBinStart": 85.5,
                          "yBinEnd": 128.25
                        },
                        {
                          "count": 1,
                          "xBinStart": 635.05,
                          "xBinEnd": 952.575,
                          "yBinStart": 128.25,
                          "yBinEnd": 171
                        },
                        {
                          "count": 2,
                          "xBinStart": 635.05,
                          "xBinEnd": 952.575,
                          "yBinStart": 256.5,
                          "yBinEnd": 299.25
                        },
                        {
                          "count": 1,
                          "xBinStart": 635.05,
                          "xBinEnd": 952.575,
                          "yBinStart": 299.25,
                          "yBinEnd": 342
                        },
                        {
                          "count": 93,
                          "xBinStart": 952.575,
                          "xBinEnd": 1270.1,
                          "yBinStart": -1.71,
                          "yBinEnd": 42.75
                        },
                        {
                          "count": 8,
                          "xBinStart": 952.575,
                          "xBinEnd": 1270.1,
                          "yBinStart": 42.75,
                          "yBinEnd": 85.5
                        },
                        {
                          "count": 3,
                          "xBinStart": 952.575,
                          "xBinEnd": 1270.1,
                          "yBinStart": 85.5,
                          "yBinEnd": 128.25
                        },
                        {
                          "count": 1,
                          "xBinStart": 952.575,
                          "xBinEnd": 1270.1,
                          "yBinStart": 128.25,
                          "yBinEnd": 171
                        },
                        {
                          "count": 1,
                          "xBinStart": 952.575,
                          "xBinEnd": 1270.1,
                          "yBinStart": 256.5,
                          "yBinEnd": 299.25
                        },
                        {
                          "count": 46,
                          "xBinStart": 1270.1,
                          "xBinEnd": 1587.625,
                          "yBinStart": -1.71,
                          "yBinEnd": 42.75
                        },
                        {
                          "count": 6,
                          "xBinStart": 1270.1,
                          "xBinEnd": 1587.625,
                          "yBinStart": 42.75,
                          "yBinEnd": 85.5
                        },
                        {
                          "count": 3,
                          "xBinStart": 1270.1,
                          "xBinEnd": 1587.625,
                          "yBinStart": 85.5,
                          "yBinEnd": 128.25
                        },
                        {
                          "count": 1,
                          "xBinStart": 1270.1,
                          "xBinEnd": 1587.625,
                          "yBinStart": 128.25,
                          "yBinEnd": 171
                        },
                        {
                          "count": 2,
                          "xBinStart": 1270.1,
                          "xBinEnd": 1587.625,
                          "yBinStart": 256.5,
                          "yBinEnd": 299.25
                        },
                        {
                          "count": 18,
                          "xBinStart": 1587.625,
                          "xBinEnd": 1905.15,
                          "yBinStart": -1.71,
                          "yBinEnd": 42.75
                        },
                        {
                          "count": 6,
                          "xBinStart": 1587.625,
                          "xBinEnd": 1905.15,
                          "yBinStart": 42.75,
                          "yBinEnd": 85.5
                        },
                        {
                          "count": 1,
                          "xBinStart": 1587.625,
                          "xBinEnd": 1905.15,
                          "yBinStart": 128.25,
                          "yBinEnd": 171
                        },
                        {
                          "count": 1,
                          "xBinStart": 1587.625,
                          "xBinEnd": 1905.15,
                          "yBinStart": 299.25,
                          "yBinEnd": 342
                        },
                        {
                          "count": 1,
                          "xBinStart": 1587.625,
                          "xBinEnd": 1905.15,
                          "yBinStart": 684,
                          "yBinEnd": 726.75
                        },
                        {
                          "count": 19,
                          "xBinStart": 1905.15,
                          "xBinEnd": 2222.675,
                          "yBinStart": -1.71,
                          "yBinEnd": 42.75
                        },
                        {
                          "count": 3,
                          "xBinStart": 1905.15,
                          "xBinEnd": 2222.675,
                          "yBinStart": 42.75,
                          "yBinEnd": 85.5
                        },
                        {
                          "count": 1,
                          "xBinStart": 1905.15,
                          "xBinEnd": 2222.675,
                          "yBinStart": 85.5,
                          "yBinEnd": 128.25
                        },
                        {
                          "count": 1,
                          "xBinStart": 1905.15,
                          "xBinEnd": 2222.675,
                          "yBinStart": 128.25,
                          "yBinEnd": 171
                        },
                        {
                          "count": 8,
                          "xBinStart": 2222.675,
                          "xBinEnd": 2540.2,
                          "yBinStart": -1.71,
                          "yBinEnd": 42.75
                        },
                        {
                          "count": 2,
                          "xBinStart": 2222.675,
                          "xBinEnd": 2540.2,
                          "yBinStart": 42.75,
                          "yBinEnd": 85.5
                        },
                        {
                          "count": 1,
                          "xBinStart": 2222.675,
                          "xBinEnd": 2540.2,
                          "yBinStart": 470.25,
                          "yBinEnd": 513
                        },
                        {
                          "count": 6,
                          "xBinStart": 2540.2,
                          "xBinEnd": 2857.725,
                          "yBinStart": -1.71,
                          "yBinEnd": 42.75
                        },
                        {
                          "count": 3,
                          "xBinStart": 2540.2,
                          "xBinEnd": 2857.725,
                          "yBinStart": 42.75,
                          "yBinEnd": 85.5
                        },
                        {
                          "count": 1,
                          "xBinStart": 2540.2,
                          "xBinEnd": 2857.725,
                          "yBinStart": 171,
                          "yBinEnd": 213.75
                        },
                        {
                          "count": 2,
                          "xBinStart": 2857.725,
                          "xBinEnd": 3175.25,
                          "yBinStart": -1.71,
                          "yBinEnd": 42.75
                        },
                        {
                          "count": 1,
                          "xBinStart": 2857.725,
                          "xBinEnd": 3175.25,
                          "yBinStart": 85.5,
                          "yBinEnd": 128.25
                        },
                        {
                          "count": 1,
                          "xBinStart": 3175.25,
                          "xBinEnd": 3492.775,
                          "yBinStart": -1.71,
                          "yBinEnd": 42.75
                        },
                        {
                          "count": 3,
                          "xBinStart": 3175.25,
                          "xBinEnd": 3492.775,
                          "yBinStart": 42.75,
                          "yBinEnd": 85.5
                        },
                        {
                          "count": 1,
                          "xBinStart": 3175.25,
                          "xBinEnd": 3492.775,
                          "yBinStart": 299.25,
                          "yBinEnd": 342
                        },
                        {
                          "count": 1,
                          "xBinStart": 3492.775,
                          "xBinEnd": 3810.3,
                          "yBinStart": -1.71,
                          "yBinEnd": 42.75
                        },
                        {
                          "count": 1,
                          "xBinStart": 3492.775,
                          "xBinEnd": 3810.3,
                          "yBinStart": 42.75,
                          "yBinEnd": 85.5
                        },
                        {
                          "count": 1,
                          "xBinStart": 3492.775,
                          "xBinEnd": 3810.3,
                          "yBinStart": 128.25,
                          "yBinEnd": 171
                        },
                        {
                          "count": 3,
                          "xBinStart": 3810.3,
                          "xBinEnd": 4127.825,
                          "yBinStart": -1.71,
                          "yBinEnd": 42.75
                        },
                        {
                          "count": 2,
                          "xBinStart": 3810.3,
                          "xBinEnd": 4127.825,
                          "yBinStart": 42.75,
                          "yBinEnd": 85.5
                        },
                        {
                          "count": 1,
                          "xBinStart": 3810.3,
                          "xBinEnd": 4127.825,
                          "yBinStart": 171,
                          "yBinEnd": 213.75
                        },
                        {
                          "count": 1,
                          "xBinStart": 3810.3,
                          "xBinEnd": 4127.825,
                          "yBinStart": 213.75,
                          "yBinEnd": 256.5
                        },
                        {
                          "count": 1,
                          "xBinStart": 3810.3,
                          "xBinEnd": 4127.825,
                          "yBinStart": 256.5,
                          "yBinEnd": 299.25
                        },
                        {
                          "count": 4,
                          "xBinStart": 4127.825,
                          "xBinEnd": 4445.35,
                          "yBinStart": -1.71,
                          "yBinEnd": 42.75
                        },
                        {
                          "count": 1,
                          "xBinStart": 4127.825,
                          "xBinEnd": 4445.35,
                          "yBinStart": 42.75,
                          "yBinEnd": 85.5
                        },
                        {
                          "count": 1,
                          "xBinStart": 4127.825,
                          "xBinEnd": 4445.35,
                          "yBinStart": 513,
                          "yBinEnd": 555.75
                        },
                        {
                          "count": 1,
                          "xBinStart": 4127.825,
                          "xBinEnd": 4445.35,
                          "yBinStart": 598.5,
                          "yBinEnd": 641.25
                        },
                        {
                          "count": 1,
                          "xBinStart": 4445.35,
                          "xBinEnd": 4762.875,
                          "yBinStart": 42.75,
                          "yBinEnd": 85.5
                        },
                        {
                          "count": 1,
                          "xBinStart": 4445.35,
                          "xBinEnd": 4762.875,
                          "yBinStart": 85.5,
                          "yBinEnd": 128.25
                        },
                        {
                          "count": 1,
                          "xBinStart": 4445.35,
                          "xBinEnd": 4762.875,
                          "yBinStart": 256.5,
                          "yBinEnd": 299.25
                        },
                        {
                          "count": 1,
                          "xBinStart": 4445.35,
                          "xBinEnd": 4762.875,
                          "yBinStart": 470.25,
                          "yBinEnd": 513
                        },
                        {
                          "count": 4,
                          "xBinStart": 4762.875,
                          "xBinEnd": 5080.4,
                          "yBinStart": -1.71,
                          "yBinEnd": 42.75
                        },
                        {
                          "count": 2,
                          "xBinStart": 4762.875,
                          "xBinEnd": 5080.4,
                          "yBinStart": 42.75,
                          "yBinEnd": 85.5
                        },
                        {
                          "count": 1,
                          "xBinStart": 4762.875,
                          "xBinEnd": 5080.4,
                          "yBinStart": 213.75,
                          "yBinEnd": 256.5
                        },
                        {
                          "count": 2,
                          "xBinStart": 4762.875,
                          "xBinEnd": 5080.4,
                          "yBinStart": 299.25,
                          "yBinEnd": 342
                        },
                        {
                          "count": 1,
                          "xBinStart": 4762.875,
                          "xBinEnd": 5080.4,
                          "yBinStart": 427.5,
                          "yBinEnd": 470.25
                        },
                        {
                          "count": 1,
                          "xBinStart": 5397.925,
                          "xBinEnd": 5715.45,
                          "yBinStart": 342,
                          "yBinEnd": 384.75
                        },
                        {
                          "count": 1,
                          "xBinStart": 5715.45,
                          "xBinEnd": 6032.975,
                          "yBinStart": -1.71,
                          "yBinEnd": 42.75
                        },
                        {
                          "count": 1,
                          "xBinStart": 5715.45,
                          "xBinEnd": 6032.975,
                          "yBinStart": 128.25,
                          "yBinEnd": 171
                        },
                        {
                          "count": 1,
                          "xBinStart": 5715.45,
                          "xBinEnd": 6032.975,
                          "yBinStart": 555.75,
                          "yBinEnd": 598.5
                        },
                        {
                          "count": 1,
                          "xBinStart": 6985.55,
                          "xBinEnd": 7303.075,
                          "yBinStart": 470.25,
                          "yBinEnd": 513
                        },
                        {
                          "count": 1,
                          "xBinStart": 7620.6,
                          "xBinEnd": 7938.125,
                          "yBinStart": 384.75,
                          "yBinEnd": 427.5
                        },
                        {
                          "count": 1,
                          "xBinStart": 7620.6,
                          "xBinEnd": 7938.125,
                          "yBinStart": 726.75,
                          "yBinEnd": 769.5
                        },
                        {
                          "count": 1,
                          "xBinStart": 7938.125,
                          "xBinEnd": 8255.65,
                          "yBinStart": 256.5,
                          "yBinEnd": 299.25
                        },
                        {
                          "count": 1,
                          "xBinStart": 7938.125,
                          "xBinEnd": 8255.65,
                          "yBinStart": 470.25,
                          "yBinEnd": 513
                        },
                        {
                          "count": 1,
                          "xBinStart": 7938.125,
                          "xBinEnd": 8255.65,
                          "yBinStart": 598.5,
                          "yBinEnd": 641.25
                        },
                        {
                          "count": 1,
                          "xBinStart": 8255.65,
                          "xBinEnd": 8573.175,
                          "yBinStart": -1.71,
                          "yBinEnd": 42.75
                        },
                        {
                          "count": 1,
                          "xBinStart": 8255.65,
                          "xBinEnd": 8573.175,
                          "yBinStart": 213.75,
                          "yBinEnd": 256.5
                        },
                        {
                          "count": 1,
                          "xBinStart": 8255.65,
                          "xBinEnd": 8573.175,
                          "yBinStart": 427.5,
                          "yBinEnd": 470.25
                        },
                        {
                          "count": 2,
                          "xBinStart": 8890.7,
                          "xBinEnd": 9208.225,
                          "yBinStart": 42.75,
                          "yBinEnd": 85.5
                        },
                        {
                          "count": 1,
                          "xBinStart": 8890.7,
                          "xBinEnd": 9208.225,
                          "yBinStart": 256.5,
                          "yBinEnd": 299.25
                        },
                        {
                          "count": 1,
                          "xBinStart": 8890.7,
                          "xBinEnd": 9208.225,
                          "yBinStart": 342,
                          "yBinEnd": 384.75
                        },
                        {
                          "count": 1,
                          "xBinStart": 8890.7,
                          "xBinEnd": 9208.225,
                          "yBinStart": 726.75,
                          "yBinEnd": 769.5
                        },
                        {
                          "count": 1,
                          "xBinStart": 9208.225,
                          "xBinEnd": 9525.75,
                          "yBinStart": 427.5,
                          "yBinEnd": 470.25
                        },
                        {
                          "count": 1,
                          "xBinStart": 9208.225,
                          "xBinEnd": 9525.75,
                          "yBinStart": 812.25,
                          "yBinEnd": 855
                        },
                        {
                          "count": 1,
                          "xBinStart": 9525.75,
                          "xBinEnd": 9843.275,
                          "yBinStart": 42.75,
                          "yBinEnd": 85.5
                        },
                        {
                          "count": 1,
                          "xBinStart": 9843.275,
                          "xBinEnd": 10160.8,
                          "yBinStart": 342,
                          "yBinEnd": 384.75
                        },
                        {
                          "count": 1,
                          "xBinStart": 10478.325,
                          "xBinEnd": 10795.85,
                          "yBinStart": 42.75,
                          "yBinEnd": 85.5
                        },
                        {
                          "count": 1,
                          "xBinStart": 10795.85,
                          "xBinEnd": 11113.375,
                          "yBinStart": 85.5,
                          "yBinEnd": 128.25
                        },
                        {
                          "count": 1,
                          "xBinStart": 12383.475,
                          "xBinEnd": 12701,
                          "yBinStart": 85.5,
                          "yBinEnd": 128.25
                        }
                      ]
                    },
                    "vislib": "vegalite"
                  },
                  {
                    "config": {
                      "view": {
                        "continuousWidth": 400,
                        "continuousHeight": 300
                      },
                      "axis": {
                        "labelColor": "#505050",
                        "labelFont": "Helvetica Neue",
                        "labelFontSize": 9,
                        "labelFontWeight": 400,
                        "titleFont": "Helvetica Neue",
                        "titleFontSize": 11,
                        "titleFontWeight": 500
                      },
                      "legend": {
                        "labelFont": "Helvetica Neue",
                        "labelFontSize": 9,
                        "labelFontWeight": 400,
                        "titleFont": "Helvetica Neue",
                        "titleFontSize": 10,
                        "titleFontWeight": 500
                      },
                      "mark": {
                        "tooltip": {
                          "content": "encoding"
                        }
                      },
                      "scale": {
                        "maxOpacity": 1,
                        "minOpacity": 0.1
                      },
                      "title": {
                        "font": "Helvetica Neue",
                        "fontSize": 13,
                        "fontWeight": 500
                      }
                    },
                    "data": {
                      "name": "data-c8df1736c2ef6ffa7a3db18d0dd6e2e5"
                    },
                    "mark": "rect",
                    "encoding": {
                      "opacity": {
                        "field": "count",
                        "legend": null,
                        "scale": {
                          "type": "log"
                        },
                        "type": "quantitative"
                      },
                      "x": {
                        "axis": {
                          "title": "partial_oku"
                        },
                        "bin": {
                          "binned": true
                        },
                        "field": "xBinStart",
                        "type": "quantitative"
                      },
                      "x2": {
                        "field": "xBinEnd"
                      },
                      "y": {
                        "axis": {
                          "title": "partial_hcw"
                        },
                        "bin": {
                          "binned": true
                        },
                        "field": "yBinStart",
                        "type": "quantitative"
                      },
                      "y2": {
                        "field": "yBinEnd"
                      }
                    },
                    "height": 150,
                    "selection": {
                      "selector053": {
                        "type": "interval",
                        "bind": "scales",
                        "encodings": [
                          "x",
                          "y"
                        ]
                      }
                    },
                    "width": 160,
                    "$schema": "https://vega.github.io/schema/vega-lite/v4.17.0.json",
                    "datasets": {
                      "data-c8df1736c2ef6ffa7a3db18d0dd6e2e5": [
                        {
                          "count": 29421,
                          "xBinStart": -3.371,
                          "xBinEnd": 84.275,
                          "yBinStart": -1.71,
                          "yBinEnd": 42.75
                        },
                        {
                          "count": 149,
                          "xBinStart": -3.371,
                          "xBinEnd": 84.275,
                          "yBinStart": 42.75,
                          "yBinEnd": 85.5
                        },
                        {
                          "count": 66,
                          "xBinStart": -3.371,
                          "xBinEnd": 84.275,
                          "yBinStart": 85.5,
                          "yBinEnd": 128.25
                        },
                        {
                          "count": 36,
                          "xBinStart": -3.371,
                          "xBinEnd": 84.275,
                          "yBinStart": 128.25,
                          "yBinEnd": 171
                        },
                        {
                          "count": 16,
                          "xBinStart": -3.371,
                          "xBinEnd": 84.275,
                          "yBinStart": 171,
                          "yBinEnd": 213.75
                        },
                        {
                          "count": 12,
                          "xBinStart": -3.371,
                          "xBinEnd": 84.275,
                          "yBinStart": 213.75,
                          "yBinEnd": 256.5
                        },
                        {
                          "count": 21,
                          "xBinStart": -3.371,
                          "xBinEnd": 84.275,
                          "yBinStart": 256.5,
                          "yBinEnd": 299.25
                        },
                        {
                          "count": 7,
                          "xBinStart": -3.371,
                          "xBinEnd": 84.275,
                          "yBinStart": 299.25,
                          "yBinEnd": 342
                        },
                        {
                          "count": 9,
                          "xBinStart": -3.371,
                          "xBinEnd": 84.275,
                          "yBinStart": 342,
                          "yBinEnd": 384.75
                        },
                        {
                          "count": 4,
                          "xBinStart": -3.371,
                          "xBinEnd": 84.275,
                          "yBinStart": 384.75,
                          "yBinEnd": 427.5
                        },
                        {
                          "count": 5,
                          "xBinStart": -3.371,
                          "xBinEnd": 84.275,
                          "yBinStart": 427.5,
                          "yBinEnd": 470.25
                        },
                        {
                          "count": 1,
                          "xBinStart": -3.371,
                          "xBinEnd": 84.275,
                          "yBinStart": 470.25,
                          "yBinEnd": 513
                        },
                        {
                          "count": 4,
                          "xBinStart": -3.371,
                          "xBinEnd": 84.275,
                          "yBinStart": 513,
                          "yBinEnd": 555.75
                        },
                        {
                          "count": 1,
                          "xBinStart": -3.371,
                          "xBinEnd": 84.275,
                          "yBinStart": 555.75,
                          "yBinEnd": 598.5
                        },
                        {
                          "count": 5,
                          "xBinStart": -3.371,
                          "xBinEnd": 84.275,
                          "yBinStart": 598.5,
                          "yBinEnd": 641.25
                        },
                        {
                          "count": 4,
                          "xBinStart": -3.371,
                          "xBinEnd": 84.275,
                          "yBinStart": 641.25,
                          "yBinEnd": 684
                        },
                        {
                          "count": 2,
                          "xBinStart": -3.371,
                          "xBinEnd": 84.275,
                          "yBinStart": 684,
                          "yBinEnd": 726.75
                        },
                        {
                          "count": 4,
                          "xBinStart": -3.371,
                          "xBinEnd": 84.275,
                          "yBinStart": 726.75,
                          "yBinEnd": 769.5
                        },
                        {
                          "count": 3,
                          "xBinStart": -3.371,
                          "xBinEnd": 84.275,
                          "yBinStart": 769.5,
                          "yBinEnd": 812.25
                        },
                        {
                          "count": 1,
                          "xBinStart": -3.371,
                          "xBinEnd": 84.275,
                          "yBinStart": 812.25,
                          "yBinEnd": 855
                        },
                        {
                          "count": 1,
                          "xBinStart": -3.371,
                          "xBinEnd": 84.275,
                          "yBinStart": 855,
                          "yBinEnd": 897.75
                        },
                        {
                          "count": 1,
                          "xBinStart": -3.371,
                          "xBinEnd": 84.275,
                          "yBinStart": 940.5,
                          "yBinEnd": 983.25
                        },
                        {
                          "count": 1,
                          "xBinStart": -3.371,
                          "xBinEnd": 84.275,
                          "yBinStart": 983.25,
                          "yBinEnd": 1026
                        },
                        {
                          "count": 1,
                          "xBinStart": -3.371,
                          "xBinEnd": 84.275,
                          "yBinStart": 1667.25,
                          "yBinEnd": 1710
                        },
                        {
                          "count": 94,
                          "xBinStart": 84.275,
                          "xBinEnd": 168.55,
                          "yBinStart": -1.71,
                          "yBinEnd": 42.75
                        },
                        {
                          "count": 22,
                          "xBinStart": 84.275,
                          "xBinEnd": 168.55,
                          "yBinStart": 42.75,
                          "yBinEnd": 85.5
                        },
                        {
                          "count": 4,
                          "xBinStart": 84.275,
                          "xBinEnd": 168.55,
                          "yBinStart": 85.5,
                          "yBinEnd": 128.25
                        },
                        {
                          "count": 4,
                          "xBinStart": 84.275,
                          "xBinEnd": 168.55,
                          "yBinStart": 128.25,
                          "yBinEnd": 171
                        },
                        {
                          "count": 2,
                          "xBinStart": 84.275,
                          "xBinEnd": 168.55,
                          "yBinStart": 171,
                          "yBinEnd": 213.75
                        },
                        {
                          "count": 1,
                          "xBinStart": 84.275,
                          "xBinEnd": 168.55,
                          "yBinStart": 213.75,
                          "yBinEnd": 256.5
                        },
                        {
                          "count": 2,
                          "xBinStart": 84.275,
                          "xBinEnd": 168.55,
                          "yBinStart": 256.5,
                          "yBinEnd": 299.25
                        },
                        {
                          "count": 1,
                          "xBinStart": 84.275,
                          "xBinEnd": 168.55,
                          "yBinStart": 299.25,
                          "yBinEnd": 342
                        },
                        {
                          "count": 1,
                          "xBinStart": 84.275,
                          "xBinEnd": 168.55,
                          "yBinStart": 427.5,
                          "yBinEnd": 470.25
                        },
                        {
                          "count": 1,
                          "xBinStart": 84.275,
                          "xBinEnd": 168.55,
                          "yBinStart": 684,
                          "yBinEnd": 726.75
                        },
                        {
                          "count": 9,
                          "xBinStart": 168.55,
                          "xBinEnd": 252.825,
                          "yBinStart": -1.71,
                          "yBinEnd": 42.75
                        },
                        {
                          "count": 9,
                          "xBinStart": 168.55,
                          "xBinEnd": 252.825,
                          "yBinStart": 42.75,
                          "yBinEnd": 85.5
                        },
                        {
                          "count": 4,
                          "xBinStart": 168.55,
                          "xBinEnd": 252.825,
                          "yBinStart": 85.5,
                          "yBinEnd": 128.25
                        },
                        {
                          "count": 1,
                          "xBinStart": 168.55,
                          "xBinEnd": 252.825,
                          "yBinStart": 128.25,
                          "yBinEnd": 171
                        },
                        {
                          "count": 1,
                          "xBinStart": 168.55,
                          "xBinEnd": 252.825,
                          "yBinStart": 213.75,
                          "yBinEnd": 256.5
                        },
                        {
                          "count": 3,
                          "xBinStart": 168.55,
                          "xBinEnd": 252.825,
                          "yBinStart": 256.5,
                          "yBinEnd": 299.25
                        },
                        {
                          "count": 2,
                          "xBinStart": 168.55,
                          "xBinEnd": 252.825,
                          "yBinStart": 299.25,
                          "yBinEnd": 342
                        },
                        {
                          "count": 1,
                          "xBinStart": 168.55,
                          "xBinEnd": 252.825,
                          "yBinStart": 384.75,
                          "yBinEnd": 427.5
                        },
                        {
                          "count": 1,
                          "xBinStart": 168.55,
                          "xBinEnd": 252.825,
                          "yBinStart": 470.25,
                          "yBinEnd": 513
                        },
                        {
                          "count": 9,
                          "xBinStart": 252.825,
                          "xBinEnd": 337.1,
                          "yBinStart": -1.71,
                          "yBinEnd": 42.75
                        },
                        {
                          "count": 3,
                          "xBinStart": 252.825,
                          "xBinEnd": 337.1,
                          "yBinStart": 42.75,
                          "yBinEnd": 85.5
                        },
                        {
                          "count": 2,
                          "xBinStart": 252.825,
                          "xBinEnd": 337.1,
                          "yBinStart": 85.5,
                          "yBinEnd": 128.25
                        },
                        {
                          "count": 1,
                          "xBinStart": 252.825,
                          "xBinEnd": 337.1,
                          "yBinStart": 128.25,
                          "yBinEnd": 171
                        },
                        {
                          "count": 1,
                          "xBinStart": 252.825,
                          "xBinEnd": 337.1,
                          "yBinStart": 171,
                          "yBinEnd": 213.75
                        },
                        {
                          "count": 1,
                          "xBinStart": 252.825,
                          "xBinEnd": 337.1,
                          "yBinStart": 427.5,
                          "yBinEnd": 470.25
                        },
                        {
                          "count": 1,
                          "xBinStart": 252.825,
                          "xBinEnd": 337.1,
                          "yBinStart": 470.25,
                          "yBinEnd": 513
                        },
                        {
                          "count": 1,
                          "xBinStart": 252.825,
                          "xBinEnd": 337.1,
                          "yBinStart": 555.75,
                          "yBinEnd": 598.5
                        },
                        {
                          "count": 2,
                          "xBinStart": 337.1,
                          "xBinEnd": 421.375,
                          "yBinStart": -1.71,
                          "yBinEnd": 42.75
                        },
                        {
                          "count": 1,
                          "xBinStart": 337.1,
                          "xBinEnd": 421.375,
                          "yBinStart": 42.75,
                          "yBinEnd": 85.5
                        },
                        {
                          "count": 2,
                          "xBinStart": 337.1,
                          "xBinEnd": 421.375,
                          "yBinStart": 342,
                          "yBinEnd": 384.75
                        },
                        {
                          "count": 1,
                          "xBinStart": 337.1,
                          "xBinEnd": 421.375,
                          "yBinStart": 470.25,
                          "yBinEnd": 513
                        },
                        {
                          "count": 1,
                          "xBinStart": 337.1,
                          "xBinEnd": 421.375,
                          "yBinStart": 598.5,
                          "yBinEnd": 641.25
                        },
                        {
                          "count": 6,
                          "xBinStart": 421.375,
                          "xBinEnd": 505.65,
                          "yBinStart": -1.71,
                          "yBinEnd": 42.75
                        },
                        {
                          "count": 2,
                          "xBinStart": 421.375,
                          "xBinEnd": 505.65,
                          "yBinStart": 42.75,
                          "yBinEnd": 85.5
                        },
                        {
                          "count": 1,
                          "xBinStart": 421.375,
                          "xBinEnd": 505.65,
                          "yBinStart": 85.5,
                          "yBinEnd": 128.25
                        },
                        {
                          "count": 1,
                          "xBinStart": 421.375,
                          "xBinEnd": 505.65,
                          "yBinStart": 128.25,
                          "yBinEnd": 171
                        },
                        {
                          "count": 1,
                          "xBinStart": 421.375,
                          "xBinEnd": 505.65,
                          "yBinStart": 299.25,
                          "yBinEnd": 342
                        },
                        {
                          "count": 1,
                          "xBinStart": 421.375,
                          "xBinEnd": 505.65,
                          "yBinStart": 342,
                          "yBinEnd": 384.75
                        },
                        {
                          "count": 1,
                          "xBinStart": 421.375,
                          "xBinEnd": 505.65,
                          "yBinStart": 598.5,
                          "yBinEnd": 641.25
                        },
                        {
                          "count": 2,
                          "xBinStart": 505.65,
                          "xBinEnd": 589.925,
                          "yBinStart": -1.71,
                          "yBinEnd": 42.75
                        },
                        {
                          "count": 1,
                          "xBinStart": 505.65,
                          "xBinEnd": 589.925,
                          "yBinStart": 470.25,
                          "yBinEnd": 513
                        },
                        {
                          "count": 1,
                          "xBinStart": 589.925,
                          "xBinEnd": 674.2,
                          "yBinStart": 42.75,
                          "yBinEnd": 85.5
                        },
                        {
                          "count": 1,
                          "xBinStart": 589.925,
                          "xBinEnd": 674.2,
                          "yBinStart": 256.5,
                          "yBinEnd": 299.25
                        },
                        {
                          "count": 1,
                          "xBinStart": 589.925,
                          "xBinEnd": 674.2,
                          "yBinStart": 513,
                          "yBinEnd": 555.75
                        },
                        {
                          "count": 1,
                          "xBinStart": 674.2,
                          "xBinEnd": 758.475,
                          "yBinStart": -1.71,
                          "yBinEnd": 42.75
                        },
                        {
                          "count": 2,
                          "xBinStart": 674.2,
                          "xBinEnd": 758.475,
                          "yBinStart": 42.75,
                          "yBinEnd": 85.5
                        },
                        {
                          "count": 1,
                          "xBinStart": 674.2,
                          "xBinEnd": 758.475,
                          "yBinStart": 85.5,
                          "yBinEnd": 128.25
                        },
                        {
                          "count": 1,
                          "xBinStart": 674.2,
                          "xBinEnd": 758.475,
                          "yBinStart": 299.25,
                          "yBinEnd": 342
                        },
                        {
                          "count": 1,
                          "xBinStart": 674.2,
                          "xBinEnd": 758.475,
                          "yBinStart": 384.75,
                          "yBinEnd": 427.5
                        },
                        {
                          "count": 1,
                          "xBinStart": 842.75,
                          "xBinEnd": 927.025,
                          "yBinStart": 85.5,
                          "yBinEnd": 128.25
                        },
                        {
                          "count": 1,
                          "xBinStart": 1011.3,
                          "xBinEnd": 1095.575,
                          "yBinStart": 213.75,
                          "yBinEnd": 256.5
                        },
                        {
                          "count": 1,
                          "xBinStart": 1095.575,
                          "xBinEnd": 1179.85,
                          "yBinStart": 812.25,
                          "yBinEnd": 855
                        },
                        {
                          "count": 1,
                          "xBinStart": 1516.95,
                          "xBinEnd": 1601.225,
                          "yBinStart": -1.71,
                          "yBinEnd": 42.75
                        },
                        {
                          "count": 1,
                          "xBinStart": 1516.95,
                          "xBinEnd": 1601.225,
                          "yBinStart": 42.75,
                          "yBinEnd": 85.5
                        },
                        {
                          "count": 1,
                          "xBinStart": 1516.95,
                          "xBinEnd": 1601.225,
                          "yBinStart": 427.5,
                          "yBinEnd": 470.25
                        },
                        {
                          "count": 1,
                          "xBinStart": 1769.775,
                          "xBinEnd": 1854.05,
                          "yBinStart": 726.75,
                          "yBinEnd": 769.5
                        },
                        {
                          "count": 1,
                          "xBinStart": 1854.05,
                          "xBinEnd": 1938.325,
                          "yBinStart": 726.75,
                          "yBinEnd": 769.5
                        },
                        {
                          "count": 1,
                          "xBinStart": 1938.325,
                          "xBinEnd": 2022.6,
                          "yBinStart": 256.5,
                          "yBinEnd": 299.25
                        },
                        {
                          "count": 1,
                          "xBinStart": 2359.7,
                          "xBinEnd": 2443.975,
                          "yBinStart": 384.75,
                          "yBinEnd": 427.5
                        },
                        {
                          "count": 1,
                          "xBinStart": 3286.725,
                          "xBinEnd": 3371,
                          "yBinStart": 42.75,
                          "yBinEnd": 85.5
                        }
                      ]
                    },
                    "vislib": "vegalite"
                  }
                ]
              },
              {
                "action": "Distribution",
                "description": "Show univariate histograms of <p class='highlight-descriptor'>quantitative</p>  attributes.",
                "long_description": "Distribution displays univariate histogram distributions of all quantitative attributes (e.g., partial_comorbid). Visualizations are ranked from most to least skewed.",
                "vspec": [
                  {
                    "config": {
                      "view": {
                        "continuousWidth": 400,
                        "continuousHeight": 300
                      },
                      "axis": {
                        "labelColor": "#505050",
                        "labelFont": "Helvetica Neue",
                        "labelFontSize": 9,
                        "labelFontWeight": 400,
                        "titleFont": "Helvetica Neue",
                        "titleFontSize": 11,
                        "titleFontWeight": 500
                      },
                      "legend": {
                        "labelFont": "Helvetica Neue",
                        "labelFontSize": 9,
                        "labelFontWeight": 400,
                        "titleFont": "Helvetica Neue",
                        "titleFontSize": 10,
                        "titleFontWeight": 500
                      },
                      "title": {
                        "font": "Helvetica Neue",
                        "fontSize": 13,
                        "fontWeight": 500
                      }
                    },
                    "data": {
                      "name": "data-b6b5f51df99b8267376f49bb3bd45f18"
                    },
                    "mark": "bar",
                    "encoding": {
                      "x": {
                        "axis": {
                          "title": "partial_oku (binned)"
                        },
                        "bin": {
                          "binned": true,
                          "step": 337.1
                        },
                        "field": "partial_oku",
                        "scale": {
                          "domain": [
                            0,
                            3402
                          ]
                        },
                        "title": "partial_oku (binned)",
                        "type": "quantitative"
                      },
                      "x2": {
                        "field": "partial_oku_end"
                      },
                      "y": {
                        "field": "Number of Records",
                        "type": "quantitative"
                      }
                    },
                    "height": 150,
                    "width": 160,
                    "$schema": "https://vega.github.io/schema/vega-lite/v4.17.0.json",
                    "datasets": {
                      "data-b6b5f51df99b8267376f49bb3bd45f18": [
                        {
                          "partial_oku": 0,
                          "Number of Records": 117162,
                          "partial_oku_end": 353.96
                        },
                        {
                          "partial_oku": 337.1,
                          "Number of Records": 98,
                          "partial_oku_end": 691.06
                        },
                        {
                          "partial_oku": 674.2,
                          "Number of Records": 26,
                          "partial_oku_end": 1028.16
                        },
                        {
                          "partial_oku": 1011.3000000000001,
                          "Number of Records": 8,
                          "partial_oku_end": 1365.26
                        },
                        {
                          "partial_oku": 1348.4,
                          "Number of Records": 10,
                          "partial_oku_end": 1702.3600000000001
                        },
                        {
                          "partial_oku": 1685.5,
                          "Number of Records": 5,
                          "partial_oku_end": 2039.46
                        },
                        {
                          "partial_oku": 2022.6000000000001,
                          "Number of Records": 1,
                          "partial_oku_end": 2376.56
                        },
                        {
                          "partial_oku": 2359.7000000000003,
                          "Number of Records": 2,
                          "partial_oku_end": 2713.6600000000003
                        },
                        {
                          "partial_oku": 2696.8,
                          "Number of Records": 1,
                          "partial_oku_end": 3050.76
                        },
                        {
                          "partial_oku": 3033.9,
                          "Number of Records": 2,
                          "partial_oku_end": 3387.86
                        }
                      ]
                    },
                    "vislib": "vegalite"
                  },
                  {
                    "config": {
                      "view": {
                        "continuousWidth": 400,
                        "continuousHeight": 300
                      },
                      "axis": {
                        "labelColor": "#505050",
                        "labelFont": "Helvetica Neue",
                        "labelFontSize": 9,
                        "labelFontWeight": 400,
                        "titleFont": "Helvetica Neue",
                        "titleFontSize": 11,
                        "titleFontWeight": 500
                      },
                      "legend": {
                        "labelFont": "Helvetica Neue",
                        "labelFontSize": 9,
                        "labelFontWeight": 400,
                        "titleFont": "Helvetica Neue",
                        "titleFontSize": 10,
                        "titleFontWeight": 500
                      },
                      "title": {
                        "font": "Helvetica Neue",
                        "fontSize": 13,
                        "fontWeight": 500
                      }
                    },
                    "data": {
                      "name": "data-c206f847cfdc9e46b62c72f6452e0f73"
                    },
                    "mark": "bar",
                    "encoding": {
                      "x": {
                        "axis": {
                          "title": "full_oku (binned)"
                        },
                        "bin": {
                          "binned": true,
                          "step": 322.5
                        },
                        "field": "full_oku",
                        "scale": {
                          "domain": [
                            0,
                            3225
                          ]
                        },
                        "title": "full_oku (binned)",
                        "type": "quantitative"
                      },
                      "x2": {
                        "field": "full_oku_end"
                      },
                      "y": {
                        "field": "Number of Records",
                        "type": "quantitative"
                      }
                    },
                    "height": 150,
                    "width": 160,
                    "$schema": "https://vega.github.io/schema/vega-lite/v4.17.0.json",
                    "datasets": {
                      "data-c206f847cfdc9e46b62c72f6452e0f73": [
                        {
                          "full_oku": 0,
                          "Number of Records": 117152,
                          "full_oku_end": 338.62
                        },
                        {
                          "full_oku": 322.5,
                          "Number of Records": 110,
                          "full_oku_end": 661.12
                        },
                        {
                          "full_oku": 645,
                          "Number of Records": 26,
                          "full_oku_end": 983.62
                        },
                        {
                          "full_oku": 967.5,
                          "Number of Records": 11,
                          "full_oku_end": 1306.12
                        },
                        {
                          "full_oku": 1290,
                          "Number of Records": 7,
                          "full_oku_end": 1628.62
                        },
                        {
                          "full_oku": 1612.5,
                          "Number of Records": 3,
                          "full_oku_end": 1951.12
                        },
                        {
                          "full_oku": 1935,
                          "Number of Records": 2,
                          "full_oku_end": 2273.62
                        },
                        {
                          "full_oku": 2257.5,
                          "Number of Records": 1,
                          "full_oku_end": 2596.12
                        },
                        {
                          "full_oku": 2580,
                          "Number of Records": 2,
                          "full_oku_end": 2918.62
                        },
                        {
                          "full_oku": 2902.5,
                          "Number of Records": 1,
                          "full_oku_end": 3241.12
                        }
                      ]
                    },
                    "vislib": "vegalite"
                  },
                  {
                    "config": {
                      "view": {
                        "continuousWidth": 400,
                        "continuousHeight": 300
                      },
                      "axis": {
                        "labelColor": "#505050",
                        "labelFont": "Helvetica Neue",
                        "labelFontSize": 9,
                        "labelFontWeight": 400,
                        "titleFont": "Helvetica Neue",
                        "titleFontSize": 11,
                        "titleFontWeight": 500
                      },
                      "legend": {
                        "labelFont": "Helvetica Neue",
                        "labelFontSize": 9,
                        "labelFontWeight": 400,
                        "titleFont": "Helvetica Neue",
                        "titleFontSize": 10,
                        "titleFontWeight": 500
                      },
                      "title": {
                        "font": "Helvetica Neue",
                        "fontSize": 13,
                        "fontWeight": 500
                      }
                    },
                    "data": {
                      "name": "data-56278951652cd43fe6c064a40fed5a33"
                    },
                    "mark": "bar",
                    "encoding": {
                      "x": {
                        "axis": {
                          "title": "booster2_comorbid (binned)"
                        },
                        "bin": {
                          "binned": true,
                          "step": 157
                        },
                        "field": "booster2_comorbid",
                        "scale": {
                          "domain": [
                            0,
                            1646
                          ]
                        },
                        "title": "booster2_comorbid (binned)",
                        "type": "quantitative"
                      },
                      "x2": {
                        "field": "booster2_comorbid_end"
                      },
                      "y": {
                        "field": "Number of Records",
                        "type": "quantitative"
                      }
                    },
                    "height": 150,
                    "width": 160,
                    "$schema": "https://vega.github.io/schema/vega-lite/v4.17.0.json",
                    "datasets": {
                      "data-56278951652cd43fe6c064a40fed5a33": [
                        {
                          "booster2_comorbid": 0,
                          "Number of Records": 117050,
                          "booster2_comorbid_end": 164.85
                        },
                        {
                          "booster2_comorbid": 157,
                          "Number of Records": 177,
                          "booster2_comorbid_end": 321.85
                        },
                        {
                          "booster2_comorbid": 314,
                          "Number of Records": 52,
                          "booster2_comorbid_end": 478.85
                        },
                        {
                          "booster2_comorbid": 471,
                          "Number of Records": 10,
                          "booster2_comorbid_end": 635.85
                        },
                        {
                          "booster2_comorbid": 628,
                          "Number of Records": 14,
                          "booster2_comorbid_end": 792.85
                        },
                        {
                          "booster2_comorbid": 785,
                          "Number of Records": 3,
                          "booster2_comorbid_end": 949.85
                        },
                        {
                          "booster2_comorbid": 942,
                          "Number of Records": 1,
                          "booster2_comorbid_end": 1106.85
                        },
                        {
                          "booster2_comorbid": 1099,
                          "Number of Records": 3,
                          "booster2_comorbid_end": 1263.85
                        },
                        {
                          "booster2_comorbid": 1256,
                          "Number of Records": 3,
                          "booster2_comorbid_end": 1420.85
                        },
                        {
                          "booster2_comorbid": 1413,
                          "Number of Records": 2,
                          "booster2_comorbid_end": 1577.85
                        }
                      ]
                    },
                    "vislib": "vegalite"
                  },
                  {
                    "config": {
                      "view": {
                        "continuousWidth": 400,
                        "continuousHeight": 300
                      },
                      "axis": {
                        "labelColor": "#505050",
                        "labelFont": "Helvetica Neue",
                        "labelFontSize": 9,
                        "labelFontWeight": 400,
                        "titleFont": "Helvetica Neue",
                        "titleFontSize": 11,
                        "titleFontWeight": 500
                      },
                      "legend": {
                        "labelFont": "Helvetica Neue",
                        "labelFontSize": 9,
                        "labelFontWeight": 400,
                        "titleFont": "Helvetica Neue",
                        "titleFontSize": 10,
                        "titleFontWeight": 500
                      },
                      "title": {
                        "font": "Helvetica Neue",
                        "fontSize": 13,
                        "fontWeight": 500
                      }
                    },
                    "data": {
                      "name": "data-4fd5b0926ca5158689c3db87b403ad64"
                    },
                    "mark": "bar",
                    "encoding": {
                      "x": {
                        "axis": {
                          "title": "booster2_hcw (binned)"
                        },
                        "bin": {
                          "binned": true,
                          "step": 29.8
                        },
                        "field": "booster2_hcw",
                        "scale": {
                          "domain": [
                            0,
                            298
                          ]
                        },
                        "title": "booster2_hcw (binned)",
                        "type": "quantitative"
                      },
                      "x2": {
                        "field": "booster2_hcw_end"
                      },
                      "y": {
                        "field": "Number of Records",
                        "type": "quantitative"
                      }
                    },
                    "height": 150,
                    "width": 160,
                    "$schema": "https://vega.github.io/schema/vega-lite/v4.17.0.json",
                    "datasets": {
                      "data-4fd5b0926ca5158689c3db87b403ad64": [
                        {
                          "booster2_hcw": 0,
                          "Number of Records": 117014,
                          "booster2_hcw_end": 31.29
                        },
                        {
                          "booster2_hcw": 29.8,
                          "Number of Records": 203,
                          "booster2_hcw_end": 61.09
                        },
                        {
                          "booster2_hcw": 59.6,
                          "Number of Records": 56,
                          "booster2_hcw_end": 90.89
                        },
                        {
                          "booster2_hcw": 89.4,
                          "Number of Records": 18,
                          "booster2_hcw_end": 120.69
                        },
                        {
                          "booster2_hcw": 119.2,
                          "Number of Records": 8,
                          "booster2_hcw_end": 150.49
                        },
                        {
                          "booster2_hcw": 149,
                          "Number of Records": 9,
                          "booster2_hcw_end": 180.29
                        },
                        {
                          "booster2_hcw": 178.8,
                          "Number of Records": 4,
                          "booster2_hcw_end": 210.09
                        },
                        {
                          "booster2_hcw": 208.6,
                          "Number of Records": 1,
                          "booster2_hcw_end": 239.89
                        },
                        {
                          "booster2_hcw": 238.4,
                          "Number of Records": 0,
                          "booster2_hcw_end": 269.69
                        },
                        {
                          "booster2_hcw": 268.2,
                          "Number of Records": 2,
                          "booster2_hcw_end": 299.49
                        }
                      ]
                    },
                    "vislib": "vegalite"
                  },
                  {
                    "config": {
                      "view": {
                        "continuousWidth": 400,
                        "continuousHeight": 300
                      },
                      "axis": {
                        "labelColor": "#505050",
                        "labelFont": "Helvetica Neue",
                        "labelFontSize": 9,
                        "labelFontWeight": 400,
                        "titleFont": "Helvetica Neue",
                        "titleFontSize": 11,
                        "titleFontWeight": 500
                      },
                      "legend": {
                        "labelFont": "Helvetica Neue",
                        "labelFontSize": 9,
                        "labelFontWeight": 400,
                        "titleFont": "Helvetica Neue",
                        "titleFontSize": 10,
                        "titleFontWeight": 500
                      },
                      "title": {
                        "font": "Helvetica Neue",
                        "fontSize": 13,
                        "fontWeight": 500
                      }
                    },
                    "data": {
                      "name": "data-133402b0652d822c3e295a663b0b4824"
                    },
                    "mark": "bar",
                    "encoding": {
                      "x": {
                        "axis": {
                          "title": "booster2_oku (binned)"
                        },
                        "bin": {
                          "binned": true,
                          "step": 7
                        },
                        "field": "booster2_oku",
                        "scale": {
                          "domain": [
                            0,
                            70
                          ]
                        },
                        "title": "booster2_oku (binned)",
                        "type": "quantitative"
                      },
                      "x2": {
                        "field": "booster2_oku_end"
                      },
                      "y": {
                        "field": "Number of Records",
                        "type": "quantitative"
                      }
                    },
                    "height": 150,
                    "width": 160,
                    "$schema": "https://vega.github.io/schema/vega-lite/v4.17.0.json",
                    "datasets": {
                      "data-133402b0652d822c3e295a663b0b4824": [
                        {
                          "booster2_oku": 0,
                          "Number of Records": 116977,
                          "booster2_oku_end": 7.35
                        },
                        {
                          "booster2_oku": 7,
                          "Number of Records": 243,
                          "booster2_oku_end": 14.35
                        },
                        {
                          "booster2_oku": 14,
                          "Number of Records": 50,
                          "booster2_oku_end": 21.35
                        },
                        {
                          "booster2_oku": 21,
                          "Number of Records": 27,
                          "booster2_oku_end": 28.35
                        },
                        {
                          "booster2_oku": 28,
                          "Number of Records": 5,
                          "booster2_oku_end": 35.35
                        },
                        {
                          "booster2_oku": 35,
                          "Number of Records": 8,
                          "booster2_oku_end": 42.35
                        },
                        {
                          "booster2_oku": 42,
                          "Number of Records": 0,
                          "booster2_oku_end": 49.35
                        },
                        {
                          "booster2_oku": 49,
                          "Number of Records": 3,
                          "booster2_oku_end": 56.35
                        },
                        {
                          "booster2_oku": 56,
                          "Number of Records": 1,
                          "booster2_oku_end": 63.35
                        },
                        {
                          "booster2_oku": 63,
                          "Number of Records": 1,
                          "booster2_oku_end": 70.35
                        }
                      ]
                    },
                    "vislib": "vegalite"
                  },
                  {
                    "config": {
                      "view": {
                        "continuousWidth": 400,
                        "continuousHeight": 300
                      },
                      "axis": {
                        "labelColor": "#505050",
                        "labelFont": "Helvetica Neue",
                        "labelFontSize": 9,
                        "labelFontWeight": 400,
                        "titleFont": "Helvetica Neue",
                        "titleFontSize": 11,
                        "titleFontWeight": 500
                      },
                      "legend": {
                        "labelFont": "Helvetica Neue",
                        "labelFontSize": 9,
                        "labelFontWeight": 400,
                        "titleFont": "Helvetica Neue",
                        "titleFontSize": 10,
                        "titleFontWeight": 500
                      },
                      "title": {
                        "font": "Helvetica Neue",
                        "fontSize": 13,
                        "fontWeight": 500
                      }
                    },
                    "data": {
                      "name": "data-75bacfd44d133122dfe94ece536f7f74"
                    },
                    "mark": "bar",
                    "encoding": {
                      "x": {
                        "axis": {
                          "title": "booster_oku (binned)"
                        },
                        "bin": {
                          "binned": true,
                          "step": 102.9
                        },
                        "field": "booster_oku",
                        "scale": {
                          "domain": [
                            0,
                            1131
                          ]
                        },
                        "title": "booster_oku (binned)",
                        "type": "quantitative"
                      },
                      "x2": {
                        "field": "booster_oku_end"
                      },
                      "y": {
                        "field": "Number of Records",
                        "type": "quantitative"
                      }
                    },
                    "height": 150,
                    "width": 160,
                    "$schema": "https://vega.github.io/schema/vega-lite/v4.17.0.json",
                    "datasets": {
                      "data-75bacfd44d133122dfe94ece536f7f74": [
                        {
                          "booster_oku": 0,
                          "Number of Records": 116879,
                          "booster_oku_end": 108.04
                        },
                        {
                          "booster_oku": 102.9,
                          "Number of Records": 274,
                          "booster_oku_end": 210.94
                        },
                        {
                          "booster_oku": 205.8,
                          "Number of Records": 80,
                          "booster_oku_end": 313.84000000000003
                        },
                        {
                          "booster_oku": 308.70000000000005,
                          "Number of Records": 34,
                          "booster_oku_end": 416.74000000000007
                        },
                        {
                          "booster_oku": 411.6,
                          "Number of Records": 22,
                          "booster_oku_end": 519.64
                        },
                        {
                          "booster_oku": 514.5,
                          "Number of Records": 14,
                          "booster_oku_end": 622.54
                        },
                        {
                          "booster_oku": 617.4000000000001,
                          "Number of Records": 6,
                          "booster_oku_end": 725.44
                        },
                        {
                          "booster_oku": 720.3000000000001,
                          "Number of Records": 4,
                          "booster_oku_end": 828.34
                        },
                        {
                          "booster_oku": 823.2,
                          "Number of Records": 0,
                          "booster_oku_end": 931.24
                        },
                        {
                          "booster_oku": 926.1,
                          "Number of Records": 2,
                          "booster_oku_end": 1034.14
                        }
                      ]
                    },
                    "vislib": "vegalite"
                  },
                  {
                    "config": {
                      "view": {
                        "continuousWidth": 400,
                        "continuousHeight": 300
                      },
                      "axis": {
                        "labelColor": "#505050",
                        "labelFont": "Helvetica Neue",
                        "labelFontSize": 9,
                        "labelFontWeight": 400,
                        "titleFont": "Helvetica Neue",
                        "titleFontSize": 11,
                        "titleFontWeight": 500
                      },
                      "legend": {
                        "labelFont": "Helvetica Neue",
                        "labelFontSize": 9,
                        "labelFontWeight": 400,
                        "titleFont": "Helvetica Neue",
                        "titleFontSize": 10,
                        "titleFontWeight": 500
                      },
                      "title": {
                        "font": "Helvetica Neue",
                        "fontSize": 13,
                        "fontWeight": 500
                      }
                    },
                    "data": {
                      "name": "data-356eb6d3c27364dc2c7b9f6a1e3b4873"
                    },
                    "mark": "bar",
                    "encoding": {
                      "x": {
                        "axis": {
                          "title": "booster_hcw (binned)"
                        },
                        "bin": {
                          "binned": true,
                          "step": 151.5
                        },
                        "field": "booster_hcw",
                        "scale": {
                          "domain": [
                            0,
                            1887
                          ]
                        },
                        "title": "booster_hcw (binned)",
                        "type": "quantitative"
                      },
                      "x2": {
                        "field": "booster_hcw_end"
                      },
                      "y": {
                        "field": "Number of Records",
                        "type": "quantitative"
                      }
                    },
                    "height": 150,
                    "width": 160,
                    "$schema": "https://vega.github.io/schema/vega-lite/v4.17.0.json",
                    "datasets": {
                      "data-356eb6d3c27364dc2c7b9f6a1e3b4873": [
                        {
                          "booster_hcw": 0,
                          "Number of Records": 116834,
                          "booster_hcw_end": 159.08
                        },
                        {
                          "booster_hcw": 151.5,
                          "Number of Records": 282,
                          "booster_hcw_end": 310.58000000000004
                        },
                        {
                          "booster_hcw": 303,
                          "Number of Records": 97,
                          "booster_hcw_end": 462.08000000000004
                        },
                        {
                          "booster_hcw": 454.5,
                          "Number of Records": 51,
                          "booster_hcw_end": 613.58
                        },
                        {
                          "booster_hcw": 606,
                          "Number of Records": 17,
                          "booster_hcw_end": 765.08
                        },
                        {
                          "booster_hcw": 757.5,
                          "Number of Records": 15,
                          "booster_hcw_end": 916.58
                        },
                        {
                          "booster_hcw": 909,
                          "Number of Records": 10,
                          "booster_hcw_end": 1068.08
                        },
                        {
                          "booster_hcw": 1060.5,
                          "Number of Records": 3,
                          "booster_hcw_end": 1219.58
                        },
                        {
                          "booster_hcw": 1212,
                          "Number of Records": 2,
                          "booster_hcw_end": 1371.08
                        },
                        {
                          "booster_hcw": 1363.5,
                          "Number of Records": 4,
                          "booster_hcw_end": 1522.58
                        }
                      ]
                    },
                    "vislib": "vegalite"
                  },
                  {
                    "config": {
                      "view": {
                        "continuousWidth": 400,
                        "continuousHeight": 300
                      },
                      "axis": {
                        "labelColor": "#505050",
                        "labelFont": "Helvetica Neue",
                        "labelFontSize": 9,
                        "labelFontWeight": 400,
                        "titleFont": "Helvetica Neue",
                        "titleFontSize": 11,
                        "titleFontWeight": 500
                      },
                      "legend": {
                        "labelFont": "Helvetica Neue",
                        "labelFontSize": 9,
                        "labelFontWeight": 400,
                        "titleFont": "Helvetica Neue",
                        "titleFontSize": 10,
                        "titleFontWeight": 500
                      },
                      "title": {
                        "font": "Helvetica Neue",
                        "fontSize": 13,
                        "fontWeight": 500
                      }
                    },
                    "data": {
                      "name": "data-8435f3621246c6f4f63f18499dcb81af"
                    },
                    "mark": "bar",
                    "encoding": {
                      "x": {
                        "axis": {
                          "title": "partial_hcw (binned)"
                        },
                        "bin": {
                          "binned": true,
                          "step": 198.4
                        },
                        "field": "partial_hcw",
                        "scale": {
                          "domain": [
                            0,
                            1984
                          ]
                        },
                        "title": "partial_hcw (binned)",
                        "type": "quantitative"
                      },
                      "x2": {
                        "field": "partial_hcw_end"
                      },
                      "y": {
                        "field": "Number of Records",
                        "type": "quantitative"
                      }
                    },
                    "height": 150,
                    "width": 160,
                    "$schema": "https://vega.github.io/schema/vega-lite/v4.17.0.json",
                    "datasets": {
                      "data-8435f3621246c6f4f63f18499dcb81af": [
                        {
                          "partial_hcw": 0,
                          "Number of Records": 116837,
                          "partial_hcw_end": 208.32
                        },
                        {
                          "partial_hcw": 198.4,
                          "Number of Records": 278,
                          "partial_hcw_end": 406.72
                        },
                        {
                          "partial_hcw": 396.8,
                          "Number of Records": 103,
                          "partial_hcw_end": 605.12
                        },
                        {
                          "partial_hcw": 595.2,
                          "Number of Records": 67,
                          "partial_hcw_end": 803.52
                        },
                        {
                          "partial_hcw": 793.6,
                          "Number of Records": 16,
                          "partial_hcw_end": 1001.9200000000001
                        },
                        {
                          "partial_hcw": 992,
                          "Number of Records": 5,
                          "partial_hcw_end": 1200.32
                        },
                        {
                          "partial_hcw": 1190.4,
                          "Number of Records": 1,
                          "partial_hcw_end": 1398.72
                        },
                        {
                          "partial_hcw": 1388.8,
                          "Number of Records": 3,
                          "partial_hcw_end": 1597.12
                        },
                        {
                          "partial_hcw": 1587.2,
                          "Number of Records": 4,
                          "partial_hcw_end": 1795.52
                        },
                        {
                          "partial_hcw": 1785.6000000000001,
                          "Number of Records": 1,
                          "partial_hcw_end": 1993.92
                        }
                      ]
                    },
                    "vislib": "vegalite"
                  },
                  {
                    "config": {
                      "view": {
                        "continuousWidth": 400,
                        "continuousHeight": 300
                      },
                      "axis": {
                        "labelColor": "#505050",
                        "labelFont": "Helvetica Neue",
                        "labelFontSize": 9,
                        "labelFontWeight": 400,
                        "titleFont": "Helvetica Neue",
                        "titleFontSize": 11,
                        "titleFontWeight": 500
                      },
                      "legend": {
                        "labelFont": "Helvetica Neue",
                        "labelFontSize": 9,
                        "labelFontWeight": 400,
                        "titleFont": "Helvetica Neue",
                        "titleFontSize": 10,
                        "titleFontWeight": 500
                      },
                      "title": {
                        "font": "Helvetica Neue",
                        "fontSize": 13,
                        "fontWeight": 500
                      }
                    },
                    "data": {
                      "name": "data-d9519cec9d92efe0256d405777b124cc"
                    },
                    "mark": "bar",
                    "encoding": {
                      "x": {
                        "axis": {
                          "title": "full_hcw (binned)"
                        },
                        "bin": {
                          "binned": true,
                          "step": 192.1
                        },
                        "field": "full_hcw",
                        "scale": {
                          "domain": [
                            0,
                            1921
                          ]
                        },
                        "title": "full_hcw (binned)",
                        "type": "quantitative"
                      },
                      "x2": {
                        "field": "full_hcw_end"
                      },
                      "y": {
                        "field": "Number of Records",
                        "type": "quantitative"
                      }
                    },
                    "height": 150,
                    "width": 160,
                    "$schema": "https://vega.github.io/schema/vega-lite/v4.17.0.json",
                    "datasets": {
                      "data-d9519cec9d92efe0256d405777b124cc": [
                        {
                          "full_hcw": 0,
                          "Number of Records": 116840,
                          "full_hcw_end": 201.7
                        },
                        {
                          "full_hcw": 192.1,
                          "Number of Records": 291,
                          "full_hcw_end": 393.79999999999995
                        },
                        {
                          "full_hcw": 384.2,
                          "Number of Records": 86,
                          "full_hcw_end": 585.9
                        },
                        {
                          "full_hcw": 576.3,
                          "Number of Records": 61,
                          "full_hcw_end": 778
                        },
                        {
                          "full_hcw": 768.4,
                          "Number of Records": 21,
                          "full_hcw_end": 970.0999999999999
                        },
                        {
                          "full_hcw": 960.5,
                          "Number of Records": 7,
                          "full_hcw_end": 1162.2
                        },
                        {
                          "full_hcw": 1152.6,
                          "Number of Records": 2,
                          "full_hcw_end": 1354.3
                        },
                        {
                          "full_hcw": 1344.7,
                          "Number of Records": 1,
                          "full_hcw_end": 1546.4
                        },
                        {
                          "full_hcw": 1536.8,
                          "Number of Records": 3,
                          "full_hcw_end": 1738.5
                        },
                        {
                          "full_hcw": 1728.8999999999999,
                          "Number of Records": 3,
                          "full_hcw_end": 1930.6
                        }
                      ]
                    },
                    "vislib": "vegalite"
                  },
                  {
                    "config": {
                      "view": {
                        "continuousWidth": 400,
                        "continuousHeight": 300
                      },
                      "axis": {
                        "labelColor": "#505050",
                        "labelFont": "Helvetica Neue",
                        "labelFontSize": 9,
                        "labelFontWeight": 400,
                        "titleFont": "Helvetica Neue",
                        "titleFontSize": 11,
                        "titleFontWeight": 500
                      },
                      "legend": {
                        "labelFont": "Helvetica Neue",
                        "labelFontSize": 9,
                        "labelFontWeight": 400,
                        "titleFont": "Helvetica Neue",
                        "titleFontSize": 10,
                        "titleFontWeight": 500
                      },
                      "title": {
                        "font": "Helvetica Neue",
                        "fontSize": 13,
                        "fontWeight": 500
                      }
                    },
                    "data": {
                      "name": "data-64e8f338c3c3bda18150538fa94fc2c0"
                    },
                    "mark": "bar",
                    "encoding": {
                      "x": {
                        "axis": {
                          "title": "booster_comorbid (binned)"
                        },
                        "bin": {
                          "binned": true,
                          "step": 1495.8
                        },
                        "field": "booster_comorbid",
                        "scale": {
                          "domain": [
                            0,
                            16074
                          ]
                        },
                        "title": "booster_comorbid (binned)",
                        "type": "quantitative"
                      },
                      "x2": {
                        "field": "booster_comorbid_end"
                      },
                      "y": {
                        "field": "Number of Records",
                        "type": "quantitative"
                      }
                    },
                    "height": 150,
                    "width": 160,
                    "$schema": "https://vega.github.io/schema/vega-lite/v4.17.0.json",
                    "datasets": {
                      "data-64e8f338c3c3bda18150538fa94fc2c0": [
                        {
                          "booster_comorbid": 0,
                          "Number of Records": 116858,
                          "booster_comorbid_end": 1570.59
                        },
                        {
                          "booster_comorbid": 1495.8,
                          "Number of Records": 306,
                          "booster_comorbid_end": 3066.39
                        },
                        {
                          "booster_comorbid": 2991.6,
                          "Number of Records": 69,
                          "booster_comorbid_end": 4562.19
                        },
                        {
                          "booster_comorbid": 4487.4,
                          "Number of Records": 45,
                          "booster_comorbid_end": 6057.99
                        },
                        {
                          "booster_comorbid": 5983.2,
                          "Number of Records": 17,
                          "booster_comorbid_end": 7553.79
                        },
                        {
                          "booster_comorbid": 7479,
                          "Number of Records": 9,
                          "booster_comorbid_end": 9049.59
                        },
                        {
                          "booster_comorbid": 8974.8,
                          "Number of Records": 4,
                          "booster_comorbid_end": 10545.39
                        },
                        {
                          "booster_comorbid": 10470.6,
                          "Number of Records": 3,
                          "booster_comorbid_end": 12041.19
                        },
                        {
                          "booster_comorbid": 11966.4,
                          "Number of Records": 1,
                          "booster_comorbid_end": 13536.99
                        },
                        {
                          "booster_comorbid": 13462.199999999999,
                          "Number of Records": 3,
                          "booster_comorbid_end": 15032.789999999999
                        }
                      ]
                    },
                    "vislib": "vegalite"
                  },
                  {
                    "config": {
                      "view": {
                        "continuousWidth": 400,
                        "continuousHeight": 300
                      },
                      "axis": {
                        "labelColor": "#505050",
                        "labelFont": "Helvetica Neue",
                        "labelFontSize": 9,
                        "labelFontWeight": 400,
                        "titleFont": "Helvetica Neue",
                        "titleFontSize": 11,
                        "titleFontWeight": 500
                      },
                      "legend": {
                        "labelFont": "Helvetica Neue",
                        "labelFontSize": 9,
                        "labelFontWeight": 400,
                        "titleFont": "Helvetica Neue",
                        "titleFontSize": 10,
                        "titleFontWeight": 500
                      },
                      "title": {
                        "font": "Helvetica Neue",
                        "fontSize": 13,
                        "fontWeight": 500
                      }
                    },
                    "data": {
                      "name": "data-2e67689ed40cdfc301676cdd8395dc7b"
                    },
                    "mark": "bar",
                    "encoding": {
                      "x": {
                        "axis": {
                          "title": "partial_comorbid (binned)"
                        },
                        "bin": {
                          "binned": true,
                          "step": 1289.4
                        },
                        "field": "partial_comorbid",
                        "scale": {
                          "domain": [
                            0,
                            12894
                          ]
                        },
                        "title": "partial_comorbid (binned)",
                        "type": "quantitative"
                      },
                      "x2": {
                        "field": "partial_comorbid_end"
                      },
                      "y": {
                        "field": "Number of Records",
                        "type": "quantitative"
                      }
                    },
                    "height": 150,
                    "width": 160,
                    "$schema": "https://vega.github.io/schema/vega-lite/v4.17.0.json",
                    "datasets": {
                      "data-2e67689ed40cdfc301676cdd8395dc7b": [
                        {
                          "partial_comorbid": 0,
                          "Number of Records": 116589,
                          "partial_comorbid_end": 1353.87
                        },
                        {
                          "partial_comorbid": 1289.4,
                          "Number of Records": 464,
                          "partial_comorbid_end": 2643.27
                        },
                        {
                          "partial_comorbid": 2578.8,
                          "Number of Records": 82,
                          "partial_comorbid_end": 3932.67
                        },
                        {
                          "partial_comorbid": 3868.2000000000003,
                          "Number of Records": 62,
                          "partial_comorbid_end": 5222.07
                        },
                        {
                          "partial_comorbid": 5157.6,
                          "Number of Records": 32,
                          "partial_comorbid_end": 6511.47
                        },
                        {
                          "partial_comorbid": 6447,
                          "Number of Records": 34,
                          "partial_comorbid_end": 7800.87
                        },
                        {
                          "partial_comorbid": 7736.400000000001,
                          "Number of Records": 13,
                          "partial_comorbid_end": 9090.27
                        },
                        {
                          "partial_comorbid": 9025.800000000001,
                          "Number of Records": 18,
                          "partial_comorbid_end": 10379.670000000002
                        },
                        {
                          "partial_comorbid": 10315.2,
                          "Number of Records": 12,
                          "partial_comorbid_end": 11669.07
                        },
                        {
                          "partial_comorbid": 11604.6,
                          "Number of Records": 9,
                          "partial_comorbid_end": 12958.470000000001
                        }
                      ]
                    },
                    "vislib": "vegalite"
                  },
                  {
                    "config": {
                      "view": {
                        "continuousWidth": 400,
                        "continuousHeight": 300
                      },
                      "axis": {
                        "labelColor": "#505050",
                        "labelFont": "Helvetica Neue",
                        "labelFontSize": 9,
                        "labelFontWeight": 400,
                        "titleFont": "Helvetica Neue",
                        "titleFontSize": 11,
                        "titleFontWeight": 500
                      },
                      "legend": {
                        "labelFont": "Helvetica Neue",
                        "labelFontSize": 9,
                        "labelFontWeight": 400,
                        "titleFont": "Helvetica Neue",
                        "titleFontSize": 10,
                        "titleFontWeight": 500
                      },
                      "title": {
                        "font": "Helvetica Neue",
                        "fontSize": 13,
                        "fontWeight": 500
                      }
                    },
                    "data": {
                      "name": "data-1543c75f774f1bc41f34d48d0b76768a"
                    },
                    "mark": "bar",
                    "encoding": {
                      "x": {
                        "axis": {
                          "title": "full_comorbid (binned)"
                        },
                        "bin": {
                          "binned": true,
                          "step": 1272.2
                        },
                        "field": "full_comorbid",
                        "scale": {
                          "domain": [
                            0,
                            15384
                          ]
                        },
                        "title": "full_comorbid (binned)",
                        "type": "quantitative"
                      },
                      "x2": {
                        "field": "full_comorbid_end"
                      },
                      "y": {
                        "field": "Number of Records",
                        "type": "quantitative"
                      }
                    },
                    "height": 150,
                    "width": 160,
                    "$schema": "https://vega.github.io/schema/vega-lite/v4.17.0.json",
                    "datasets": {
                      "data-1543c75f774f1bc41f34d48d0b76768a": [
                        {
                          "full_comorbid": 0,
                          "Number of Records": 116558,
                          "full_comorbid_end": 1335.81
                        },
                        {
                          "full_comorbid": 1272.2,
                          "Number of Records": 477,
                          "full_comorbid_end": 2608.01
                        },
                        {
                          "full_comorbid": 2544.4,
                          "Number of Records": 104,
                          "full_comorbid_end": 3880.21
                        },
                        {
                          "full_comorbid": 3816.6000000000004,
                          "Number of Records": 85,
                          "full_comorbid_end": 5152.41
                        },
                        {
                          "full_comorbid": 5088.8,
                          "Number of Records": 28,
                          "full_comorbid_end": 6424.610000000001
                        },
                        {
                          "full_comorbid": 6361,
                          "Number of Records": 13,
                          "full_comorbid_end": 7696.8099999999995
                        },
                        {
                          "full_comorbid": 7633.200000000001,
                          "Number of Records": 19,
                          "full_comorbid_end": 8969.01
                        },
                        {
                          "full_comorbid": 8905.4,
                          "Number of Records": 20,
                          "full_comorbid_end": 10241.21
                        },
                        {
                          "full_comorbid": 10177.6,
                          "Number of Records": 8,
                          "full_comorbid_end": 11513.41
                        },
                        {
                          "full_comorbid": 11449.800000000001,
                          "Number of Records": 3,
                          "full_comorbid_end": 12785.61
                        }
                      ]
                    },
                    "vislib": "vegalite"
                  }
                ]
              },
              {
                "action": "Occurrence",
                "description": "Show frequency of occurrence for <p class='highlight-descriptor'>categorical</p> attributes.",
                "long_description": "Occurence displays bar charts of counts for all categorical attributes (e.g., district). Visualizations are ranked from most to least uneven across the bars. ",
                "vspec": [
                  {
                    "config": {
                      "view": {
                        "continuousWidth": 400,
                        "continuousHeight": 300
                      },
                      "axis": {
                        "labelColor": "#505050",
                        "labelFont": "Helvetica Neue",
                        "labelFontSize": 9,
                        "labelFontWeight": 400,
                        "titleFont": "Helvetica Neue",
                        "titleFontSize": 11,
                        "titleFontWeight": 500
                      },
                      "legend": {
                        "labelFont": "Helvetica Neue",
                        "labelFontSize": 9,
                        "labelFontWeight": 400,
                        "titleFont": "Helvetica Neue",
                        "titleFontSize": 10,
                        "titleFontWeight": 500
                      },
                      "mark": {
                        "tooltip": {
                          "content": "encoding"
                        }
                      },
                      "title": {
                        "font": "Helvetica Neue",
                        "fontSize": 13,
                        "fontWeight": 500
                      }
                    },
                    "layer": [
                      {
                        "data": {
                          "name": "data-e1f539769472a1e5fd7bafe3e4934a4c"
                        },
                        "mark": "bar",
                        "encoding": {
                          "x": {
                            "axis": {
                              "title": "Number of Records"
                            },
                            "field": "Record",
                            "title": "Number of Records",
                            "type": "quantitative"
                          },
                          "y": {
                            "axis": {
                              "labelOverlap": true,
                              "title": "district"
                            },
                            "field": "district",
                            "sort": "-x",
                            "type": "nominal"
                          }
                        }
                      },
                      {
                        "data": {
                          "name": "data-e1f539769472a1e5fd7bafe3e4934a4c"
                        },
                        "mark": {
                          "type": "text",
                          "align": "right",
                          "color": "#ff8e04",
                          "fontSize": 11,
                          "text": "+ 148 more ...",
                          "x": 155,
                          "y": 142
                        }
                      }
                    ],
                    "height": 150,
                    "width": 160,
                    "$schema": "https://vega.github.io/schema/vega-lite/v4.17.0.json",
                    "datasets": {
                      "data-e1f539769472a1e5fd7bafe3e4934a4c": [
                        {
                          "district": "Gua Musang",
                          "Record": 772
                        },
                        {
                          "district": "Maradong",
                          "Record": 771
                        },
                        {
                          "district": "Tongod",
                          "Record": 771
                        },
                        {
                          "district": "Jerantut",
                          "Record": 770
                        },
                        {
                          "district": "Song",
                          "Record": 770
                        },
                        {
                          "district": "Kudat",
                          "Record": 769
                        },
                        {
                          "district": "Cameron Highlands",
                          "Record": 766
                        },
                        {
                          "district": "Tatau",
                          "Record": 766
                        },
                        {
                          "district": "Semporna",
                          "Record": 765
                        },
                        {
                          "district": "Telang Usan",
                          "Record": 764
                        }
                      ]
                    },
                    "vislib": "vegalite"
                  }
                ]
              },
              {
                "action": "Temporal",
                "description": "Show trends over <p class='highlight-descriptor'>time-related</p> attributes.",
                "long_description": "Temporal displays line charts for all attributes related to datetimes in the dataframe. Lux displays the overall temporal trend first, followed by trends across other timescales (e.g., year, month, week, day).",
                "vspec": [
                  {
                    "config": {
                      "view": {
                        "continuousWidth": 400,
                        "continuousHeight": 300
                      },
                      "axis": {
                        "labelColor": "#505050",
                        "labelFont": "Helvetica Neue",
                        "labelFontSize": 9,
                        "labelFontWeight": 400,
                        "titleFont": "Helvetica Neue",
                        "titleFontSize": 11,
                        "titleFontWeight": 500
                      },
                      "legend": {
                        "labelFont": "Helvetica Neue",
                        "labelFontSize": 9,
                        "labelFontWeight": 400,
                        "titleFont": "Helvetica Neue",
                        "titleFontSize": 10,
                        "titleFontWeight": 500
                      },
                      "title": {
                        "font": "Helvetica Neue",
                        "fontSize": 13,
                        "fontWeight": 500
                      }
                    },
                    "data": {
                      "name": "data-ebfd73dc2d444ea6d345366a9ce5b98c"
                    },
                    "mark": "line",
                    "encoding": {
                      "x": {
                        "axis": {
                          "title": "date"
                        },
                        "field": "date",
                        "type": "temporal"
                      },
                      "y": {
                        "axis": {
                          "title": "Record"
                        },
                        "field": "Record",
                        "title": "Number of Records",
                        "type": "quantitative"
                      }
                    },
                    "height": 150,
                    "selection": {
                      "selector054": {
                        "type": "interval",
                        "bind": "scales",
                        "encodings": [
                          "x",
                          "y"
                        ]
                      }
                    },
                    "width": 160,
                    "$schema": "https://vega.github.io/schema/vega-lite/v4.17.0.json",
                    "datasets": {
                      "data-ebfd73dc2d444ea6d345366a9ce5b98c": [
                        {
                          "date": "2021-02-24T00:00:00",
                          "Record": 120
                        },
                        {
                          "date": "2021-02-25T00:00:00",
                          "Record": 123
                        },
                        {
                          "date": "2021-02-26T00:00:00",
                          "Record": 120
                        },
                        {
                          "date": "2021-02-27T00:00:00",
                          "Record": 109
                        },
                        {
                          "date": "2021-02-28T00:00:00",
                          "Record": 119
                        },
                        {
                          "date": "2021-03-01T00:00:00",
                          "Record": 120
                        },
                        {
                          "date": "2021-03-02T00:00:00",
                          "Record": 113
                        },
                        {
                          "date": "2021-03-03T00:00:00",
                          "Record": 129
                        },
                        {
                          "date": "2021-03-04T00:00:00",
                          "Record": 131
                        },
                        {
                          "date": "2021-03-05T00:00:00",
                          "Record": 118
                        },
                        {
                          "date": "2021-03-06T00:00:00",
                          "Record": 115
                        },
                        {
                          "date": "2021-03-07T00:00:00",
                          "Record": 113
                        },
                        {
                          "date": "2021-03-08T00:00:00",
                          "Record": 121
                        },
                        {
                          "date": "2021-03-09T00:00:00",
                          "Record": 112
                        },
                        {
                          "date": "2021-03-10T00:00:00",
                          "Record": 116
                        },
                        {
                          "date": "2021-03-11T00:00:00",
                          "Record": 117
                        },
                        {
                          "date": "2021-03-12T00:00:00",
                          "Record": 121
                        },
                        {
                          "date": "2021-03-13T00:00:00",
                          "Record": 114
                        },
                        {
                          "date": "2021-03-14T00:00:00",
                          "Record": 113
                        },
                        {
                          "date": "2021-03-15T00:00:00",
                          "Record": 110
                        },
                        {
                          "date": "2021-03-16T00:00:00",
                          "Record": 125
                        },
                        {
                          "date": "2021-03-17T00:00:00",
                          "Record": 121
                        },
                        {
                          "date": "2021-03-18T00:00:00",
                          "Record": 110
                        },
                        {
                          "date": "2021-03-19T00:00:00",
                          "Record": 113
                        },
                        {
                          "date": "2021-03-20T00:00:00",
                          "Record": 118
                        },
                        {
                          "date": "2021-03-21T00:00:00",
                          "Record": 119
                        },
                        {
                          "date": "2021-03-22T00:00:00",
                          "Record": 121
                        },
                        {
                          "date": "2021-03-23T00:00:00",
                          "Record": 114
                        },
                        {
                          "date": "2021-03-24T00:00:00",
                          "Record": 118
                        },
                        {
                          "date": "2021-03-25T00:00:00",
                          "Record": 117
                        },
                        {
                          "date": "2021-03-26T00:00:00",
                          "Record": 120
                        },
                        {
                          "date": "2021-03-27T00:00:00",
                          "Record": 128
                        },
                        {
                          "date": "2021-03-28T00:00:00",
                          "Record": 118
                        },
                        {
                          "date": "2021-03-29T00:00:00",
                          "Record": 113
                        },
                        {
                          "date": "2021-03-30T00:00:00",
                          "Record": 118
                        },
                        {
                          "date": "2021-03-31T00:00:00",
                          "Record": 123
                        },
                        {
                          "date": "2021-04-01T00:00:00",
                          "Record": 113
                        },
                        {
                          "date": "2021-04-02T00:00:00",
                          "Record": 121
                        },
                        {
                          "date": "2021-04-03T00:00:00",
                          "Record": 116
                        },
                        {
                          "date": "2021-04-04T00:00:00",
                          "Record": 127
                        },
                        {
                          "date": "2021-04-05T00:00:00",
                          "Record": 124
                        },
                        {
                          "date": "2021-04-06T00:00:00",
                          "Record": 107
                        },
                        {
                          "date": "2021-04-07T00:00:00",
                          "Record": 119
                        },
                        {
                          "date": "2021-04-08T00:00:00",
                          "Record": 123
                        },
                        {
                          "date": "2021-04-09T00:00:00",
                          "Record": 117
                        },
                        {
                          "date": "2021-04-10T00:00:00",
                          "Record": 120
                        },
                        {
                          "date": "2021-04-11T00:00:00",
                          "Record": 120
                        },
                        {
                          "date": "2021-04-12T00:00:00",
                          "Record": 117
                        },
                        {
                          "date": "2021-04-13T00:00:00",
                          "Record": 113
                        },
                        {
                          "date": "2021-04-14T00:00:00",
                          "Record": 113
                        },
                        {
                          "date": "2021-04-15T00:00:00",
                          "Record": 115
                        },
                        {
                          "date": "2021-04-16T00:00:00",
                          "Record": 118
                        },
                        {
                          "date": "2021-04-17T00:00:00",
                          "Record": 123
                        },
                        {
                          "date": "2021-04-18T00:00:00",
                          "Record": 123
                        },
                        {
                          "date": "2021-04-19T00:00:00",
                          "Record": 123
                        },
                        {
                          "date": "2021-04-20T00:00:00",
                          "Record": 110
                        },
                        {
                          "date": "2021-04-21T00:00:00",
                          "Record": 115
                        },
                        {
                          "date": "2021-04-22T00:00:00",
                          "Record": 120
                        },
                        {
                          "date": "2021-04-23T00:00:00",
                          "Record": 119
                        },
                        {
                          "date": "2021-04-24T00:00:00",
                          "Record": 117
                        },
                        {
                          "date": "2021-04-25T00:00:00",
                          "Record": 120
                        },
                        {
                          "date": "2021-04-26T00:00:00",
                          "Record": 114
                        },
                        {
                          "date": "2021-04-27T00:00:00",
                          "Record": 116
                        },
                        {
                          "date": "2021-04-28T00:00:00",
                          "Record": 128
                        },
                        {
                          "date": "2021-04-29T00:00:00",
                          "Record": 114
                        },
                        {
                          "date": "2021-04-30T00:00:00",
                          "Record": 117
                        },
                        {
                          "date": "2021-05-01T00:00:00",
                          "Record": 124
                        },
                        {
                          "date": "2021-05-02T00:00:00",
                          "Record": 118
                        },
                        {
                          "date": "2021-05-03T00:00:00",
                          "Record": 119
                        },
                        {
                          "date": "2021-05-04T00:00:00",
                          "Record": 123
                        },
                        {
                          "date": "2021-05-05T00:00:00",
                          "Record": 122
                        },
                        {
                          "date": "2021-05-06T00:00:00",
                          "Record": 120
                        },
                        {
                          "date": "2021-05-07T00:00:00",
                          "Record": 130
                        },
                        {
                          "date": "2021-05-08T00:00:00",
                          "Record": 132
                        },
                        {
                          "date": "2021-05-09T00:00:00",
                          "Record": 126
                        },
                        {
                          "date": "2021-05-10T00:00:00",
                          "Record": 118
                        },
                        {
                          "date": "2021-05-11T00:00:00",
                          "Record": 129
                        },
                        {
                          "date": "2021-05-12T00:00:00",
                          "Record": 120
                        },
                        {
                          "date": "2021-05-13T00:00:00",
                          "Record": 115
                        },
                        {
                          "date": "2021-05-14T00:00:00",
                          "Record": 126
                        },
                        {
                          "date": "2021-05-15T00:00:00",
                          "Record": 126
                        },
                        {
                          "date": "2021-05-16T00:00:00",
                          "Record": 123
                        },
                        {
                          "date": "2021-05-17T00:00:00",
                          "Record": 110
                        },
                        {
                          "date": "2021-05-18T00:00:00",
                          "Record": 130
                        },
                        {
                          "date": "2021-05-19T00:00:00",
                          "Record": 120
                        },
                        {
                          "date": "2021-05-20T00:00:00",
                          "Record": 124
                        },
                        {
                          "date": "2021-05-21T00:00:00",
                          "Record": 118
                        },
                        {
                          "date": "2021-05-22T00:00:00",
                          "Record": 113
                        },
                        {
                          "date": "2021-05-23T00:00:00",
                          "Record": 118
                        },
                        {
                          "date": "2021-05-24T00:00:00",
                          "Record": 123
                        },
                        {
                          "date": "2021-05-25T00:00:00",
                          "Record": 117
                        },
                        {
                          "date": "2021-05-26T00:00:00",
                          "Record": 114
                        },
                        {
                          "date": "2021-05-27T00:00:00",
                          "Record": 123
                        },
                        {
                          "date": "2021-05-28T00:00:00",
                          "Record": 112
                        },
                        {
                          "date": "2021-05-29T00:00:00",
                          "Record": 114
                        },
                        {
                          "date": "2021-05-30T00:00:00",
                          "Record": 123
                        },
                        {
                          "date": "2021-05-31T00:00:00",
                          "Record": 119
                        },
                        {
                          "date": "2021-06-01T00:00:00",
                          "Record": 130
                        },
                        {
                          "date": "2021-06-02T00:00:00",
                          "Record": 126
                        },
                        {
                          "date": "2021-06-03T00:00:00",
                          "Record": 118
                        },
                        {
                          "date": "2021-06-04T00:00:00",
                          "Record": 120
                        },
                        {
                          "date": "2021-06-05T00:00:00",
                          "Record": 127
                        },
                        {
                          "date": "2021-06-06T00:00:00",
                          "Record": 122
                        },
                        {
                          "date": "2021-06-07T00:00:00",
                          "Record": 122
                        },
                        {
                          "date": "2021-06-08T00:00:00",
                          "Record": 112
                        },
                        {
                          "date": "2021-06-09T00:00:00",
                          "Record": 111
                        },
                        {
                          "date": "2021-06-10T00:00:00",
                          "Record": 113
                        },
                        {
                          "date": "2021-06-11T00:00:00",
                          "Record": 116
                        },
                        {
                          "date": "2021-06-12T00:00:00",
                          "Record": 115
                        },
                        {
                          "date": "2021-06-13T00:00:00",
                          "Record": 116
                        },
                        {
                          "date": "2021-06-14T00:00:00",
                          "Record": 125
                        },
                        {
                          "date": "2021-06-15T00:00:00",
                          "Record": 117
                        },
                        {
                          "date": "2021-06-16T00:00:00",
                          "Record": 121
                        },
                        {
                          "date": "2021-06-17T00:00:00",
                          "Record": 130
                        },
                        {
                          "date": "2021-06-18T00:00:00",
                          "Record": 110
                        },
                        {
                          "date": "2021-06-19T00:00:00",
                          "Record": 124
                        },
                        {
                          "date": "2021-06-20T00:00:00",
                          "Record": 121
                        },
                        {
                          "date": "2021-06-21T00:00:00",
                          "Record": 112
                        },
                        {
                          "date": "2021-06-22T00:00:00",
                          "Record": 126
                        },
                        {
                          "date": "2021-06-23T00:00:00",
                          "Record": 119
                        },
                        {
                          "date": "2021-06-24T00:00:00",
                          "Record": 129
                        },
                        {
                          "date": "2021-06-25T00:00:00",
                          "Record": 113
                        },
                        {
                          "date": "2021-06-26T00:00:00",
                          "Record": 118
                        },
                        {
                          "date": "2021-06-27T00:00:00",
                          "Record": 111
                        },
                        {
                          "date": "2021-06-28T00:00:00",
                          "Record": 119
                        },
                        {
                          "date": "2021-06-29T00:00:00",
                          "Record": 124
                        },
                        {
                          "date": "2021-06-30T00:00:00",
                          "Record": 128
                        },
                        {
                          "date": "2021-07-01T00:00:00",
                          "Record": 115
                        },
                        {
                          "date": "2021-07-02T00:00:00",
                          "Record": 112
                        },
                        {
                          "date": "2021-07-03T00:00:00",
                          "Record": 109
                        },
                        {
                          "date": "2021-07-04T00:00:00",
                          "Record": 122
                        },
                        {
                          "date": "2021-07-05T00:00:00",
                          "Record": 120
                        },
                        {
                          "date": "2021-07-06T00:00:00",
                          "Record": 116
                        },
                        {
                          "date": "2021-07-07T00:00:00",
                          "Record": 121
                        },
                        {
                          "date": "2021-07-08T00:00:00",
                          "Record": 119
                        },
                        {
                          "date": "2021-07-09T00:00:00",
                          "Record": 117
                        },
                        {
                          "date": "2021-07-10T00:00:00",
                          "Record": 120
                        },
                        {
                          "date": "2021-07-11T00:00:00",
                          "Record": 123
                        },
                        {
                          "date": "2021-07-12T00:00:00",
                          "Record": 124
                        },
                        {
                          "date": "2021-07-13T00:00:00",
                          "Record": 116
                        },
                        {
                          "date": "2021-07-14T00:00:00",
                          "Record": 123
                        },
                        {
                          "date": "2021-07-15T00:00:00",
                          "Record": 117
                        },
                        {
                          "date": "2021-07-16T00:00:00",
                          "Record": 118
                        },
                        {
                          "date": "2021-07-17T00:00:00",
                          "Record": 117
                        },
                        {
                          "date": "2021-07-18T00:00:00",
                          "Record": 118
                        },
                        {
                          "date": "2021-07-19T00:00:00",
                          "Record": 115
                        },
                        {
                          "date": "2021-07-20T00:00:00",
                          "Record": 121
                        },
                        {
                          "date": "2021-07-21T00:00:00",
                          "Record": 119
                        },
                        {
                          "date": "2021-07-22T00:00:00",
                          "Record": 115
                        },
                        {
                          "date": "2021-07-23T00:00:00",
                          "Record": 121
                        },
                        {
                          "date": "2021-07-24T00:00:00",
                          "Record": 123
                        },
                        {
                          "date": "2021-07-25T00:00:00",
                          "Record": 120
                        },
                        {
                          "date": "2021-07-26T00:00:00",
                          "Record": 118
                        },
                        {
                          "date": "2021-07-27T00:00:00",
                          "Record": 122
                        },
                        {
                          "date": "2021-07-28T00:00:00",
                          "Record": 121
                        },
                        {
                          "date": "2021-07-29T00:00:00",
                          "Record": 124
                        },
                        {
                          "date": "2021-07-30T00:00:00",
                          "Record": 112
                        },
                        {
                          "date": "2021-07-31T00:00:00",
                          "Record": 116
                        },
                        {
                          "date": "2021-08-01T00:00:00",
                          "Record": 117
                        },
                        {
                          "date": "2021-08-02T00:00:00",
                          "Record": 120
                        },
                        {
                          "date": "2021-08-03T00:00:00",
                          "Record": 112
                        },
                        {
                          "date": "2021-08-04T00:00:00",
                          "Record": 121
                        },
                        {
                          "date": "2021-08-05T00:00:00",
                          "Record": 120
                        },
                        {
                          "date": "2021-08-06T00:00:00",
                          "Record": 125
                        },
                        {
                          "date": "2021-08-07T00:00:00",
                          "Record": 122
                        },
                        {
                          "date": "2021-08-08T00:00:00",
                          "Record": 118
                        },
                        {
                          "date": "2021-08-09T00:00:00",
                          "Record": 115
                        },
                        {
                          "date": "2021-08-10T00:00:00",
                          "Record": 122
                        },
                        {
                          "date": "2021-08-11T00:00:00",
                          "Record": 111
                        },
                        {
                          "date": "2021-08-12T00:00:00",
                          "Record": 124
                        },
                        {
                          "date": "2021-08-13T00:00:00",
                          "Record": 119
                        },
                        {
                          "date": "2021-08-14T00:00:00",
                          "Record": 123
                        },
                        {
                          "date": "2021-08-15T00:00:00",
                          "Record": 113
                        },
                        {
                          "date": "2021-08-16T00:00:00",
                          "Record": 116
                        },
                        {
                          "date": "2021-08-17T00:00:00",
                          "Record": 110
                        },
                        {
                          "date": "2021-08-18T00:00:00",
                          "Record": 108
                        },
                        {
                          "date": "2021-08-19T00:00:00",
                          "Record": 124
                        },
                        {
                          "date": "2021-08-20T00:00:00",
                          "Record": 122
                        },
                        {
                          "date": "2021-08-21T00:00:00",
                          "Record": 126
                        },
                        {
                          "date": "2021-08-22T00:00:00",
                          "Record": 113
                        },
                        {
                          "date": "2021-08-23T00:00:00",
                          "Record": 115
                        },
                        {
                          "date": "2021-08-24T00:00:00",
                          "Record": 115
                        },
                        {
                          "date": "2021-08-25T00:00:00",
                          "Record": 119
                        },
                        {
                          "date": "2021-08-26T00:00:00",
                          "Record": 120
                        },
                        {
                          "date": "2021-08-27T00:00:00",
                          "Record": 125
                        },
                        {
                          "date": "2021-08-28T00:00:00",
                          "Record": 113
                        },
                        {
                          "date": "2021-08-29T00:00:00",
                          "Record": 115
                        },
                        {
                          "date": "2021-08-30T00:00:00",
                          "Record": 115
                        },
                        {
                          "date": "2021-08-31T00:00:00",
                          "Record": 113
                        },
                        {
                          "date": "2021-09-01T00:00:00",
                          "Record": 117
                        },
                        {
                          "date": "2021-09-02T00:00:00",
                          "Record": 111
                        },
                        {
                          "date": "2021-09-03T00:00:00",
                          "Record": 111
                        },
                        {
                          "date": "2021-09-04T00:00:00",
                          "Record": 115
                        },
                        {
                          "date": "2021-09-05T00:00:00",
                          "Record": 118
                        },
                        {
                          "date": "2021-09-06T00:00:00",
                          "Record": 117
                        },
                        {
                          "date": "2021-09-07T00:00:00",
                          "Record": 121
                        },
                        {
                          "date": "2021-09-08T00:00:00",
                          "Record": 117
                        },
                        {
                          "date": "2021-09-09T00:00:00",
                          "Record": 130
                        },
                        {
                          "date": "2021-09-10T00:00:00",
                          "Record": 119
                        },
                        {
                          "date": "2021-09-11T00:00:00",
                          "Record": 124
                        },
                        {
                          "date": "2021-09-12T00:00:00",
                          "Record": 119
                        },
                        {
                          "date": "2021-09-13T00:00:00",
                          "Record": 121
                        },
                        {
                          "date": "2021-09-14T00:00:00",
                          "Record": 112
                        },
                        {
                          "date": "2021-09-15T00:00:00",
                          "Record": 119
                        },
                        {
                          "date": "2021-09-16T00:00:00",
                          "Record": 126
                        },
                        {
                          "date": "2021-09-17T00:00:00",
                          "Record": 113
                        },
                        {
                          "date": "2021-09-18T00:00:00",
                          "Record": 121
                        },
                        {
                          "date": "2021-09-19T00:00:00",
                          "Record": 118
                        },
                        {
                          "date": "2021-09-20T00:00:00",
                          "Record": 121
                        },
                        {
                          "date": "2021-09-21T00:00:00",
                          "Record": 114
                        },
                        {
                          "date": "2021-09-22T00:00:00",
                          "Record": 126
                        },
                        {
                          "date": "2021-09-23T00:00:00",
                          "Record": 120
                        },
                        {
                          "date": "2021-09-24T00:00:00",
                          "Record": 119
                        },
                        {
                          "date": "2021-09-25T00:00:00",
                          "Record": 123
                        },
                        {
                          "date": "2021-09-26T00:00:00",
                          "Record": 120
                        },
                        {
                          "date": "2021-09-27T00:00:00",
                          "Record": 115
                        },
                        {
                          "date": "2021-09-28T00:00:00",
                          "Record": 113
                        },
                        {
                          "date": "2021-09-29T00:00:00",
                          "Record": 116
                        },
                        {
                          "date": "2021-09-30T00:00:00",
                          "Record": 128
                        },
                        {
                          "date": "2021-10-01T00:00:00",
                          "Record": 124
                        },
                        {
                          "date": "2021-10-02T00:00:00",
                          "Record": 123
                        },
                        {
                          "date": "2021-10-03T00:00:00",
                          "Record": 116
                        },
                        {
                          "date": "2021-10-04T00:00:00",
                          "Record": 109
                        },
                        {
                          "date": "2021-10-05T00:00:00",
                          "Record": 113
                        },
                        {
                          "date": "2021-10-06T00:00:00",
                          "Record": 115
                        },
                        {
                          "date": "2021-10-07T00:00:00",
                          "Record": 124
                        },
                        {
                          "date": "2021-10-08T00:00:00",
                          "Record": 124
                        },
                        {
                          "date": "2021-10-09T00:00:00",
                          "Record": 122
                        },
                        {
                          "date": "2021-10-10T00:00:00",
                          "Record": 126
                        },
                        {
                          "date": "2021-10-11T00:00:00",
                          "Record": 121
                        },
                        {
                          "date": "2021-10-12T00:00:00",
                          "Record": 115
                        },
                        {
                          "date": "2021-10-13T00:00:00",
                          "Record": 120
                        },
                        {
                          "date": "2021-10-14T00:00:00",
                          "Record": 125
                        },
                        {
                          "date": "2021-10-15T00:00:00",
                          "Record": 109
                        },
                        {
                          "date": "2021-10-16T00:00:00",
                          "Record": 122
                        },
                        {
                          "date": "2021-10-17T00:00:00",
                          "Record": 109
                        },
                        {
                          "date": "2021-10-18T00:00:00",
                          "Record": 114
                        },
                        {
                          "date": "2021-10-19T00:00:00",
                          "Record": 123
                        },
                        {
                          "date": "2021-10-20T00:00:00",
                          "Record": 118
                        },
                        {
                          "date": "2021-10-21T00:00:00",
                          "Record": 109
                        },
                        {
                          "date": "2021-10-22T00:00:00",
                          "Record": 120
                        },
                        {
                          "date": "2021-10-23T00:00:00",
                          "Record": 102
                        },
                        {
                          "date": "2021-10-24T00:00:00",
                          "Record": 121
                        },
                        {
                          "date": "2021-10-25T00:00:00",
                          "Record": 120
                        },
                        {
                          "date": "2021-10-26T00:00:00",
                          "Record": 114
                        },
                        {
                          "date": "2021-10-27T00:00:00",
                          "Record": 119
                        },
                        {
                          "date": "2021-10-28T00:00:00",
                          "Record": 125
                        },
                        {
                          "date": "2021-10-29T00:00:00",
                          "Record": 110
                        },
                        {
                          "date": "2021-10-30T00:00:00",
                          "Record": 118
                        },
                        {
                          "date": "2021-10-31T00:00:00",
                          "Record": 120
                        },
                        {
                          "date": "2021-11-01T00:00:00",
                          "Record": 130
                        },
                        {
                          "date": "2021-11-02T00:00:00",
                          "Record": 118
                        },
                        {
                          "date": "2021-11-03T00:00:00",
                          "Record": 124
                        },
                        {
                          "date": "2021-11-04T00:00:00",
                          "Record": 115
                        },
                        {
                          "date": "2021-11-05T00:00:00",
                          "Record": 125
                        },
                        {
                          "date": "2021-11-06T00:00:00",
                          "Record": 125
                        },
                        {
                          "date": "2021-11-07T00:00:00",
                          "Record": 113
                        },
                        {
                          "date": "2021-11-08T00:00:00",
                          "Record": 114
                        },
                        {
                          "date": "2021-11-09T00:00:00",
                          "Record": 114
                        },
                        {
                          "date": "2021-11-10T00:00:00",
                          "Record": 129
                        },
                        {
                          "date": "2021-11-11T00:00:00",
                          "Record": 122
                        },
                        {
                          "date": "2021-11-12T00:00:00",
                          "Record": 119
                        },
                        {
                          "date": "2021-11-13T00:00:00",
                          "Record": 127
                        },
                        {
                          "date": "2021-11-14T00:00:00",
                          "Record": 123
                        },
                        {
                          "date": "2021-11-15T00:00:00",
                          "Record": 113
                        },
                        {
                          "date": "2021-11-16T00:00:00",
                          "Record": 125
                        },
                        {
                          "date": "2021-11-17T00:00:00",
                          "Record": 117
                        },
                        {
                          "date": "2021-11-18T00:00:00",
                          "Record": 120
                        },
                        {
                          "date": "2021-11-19T00:00:00",
                          "Record": 122
                        },
                        {
                          "date": "2021-11-20T00:00:00",
                          "Record": 119
                        },
                        {
                          "date": "2021-11-21T00:00:00",
                          "Record": 126
                        },
                        {
                          "date": "2021-11-22T00:00:00",
                          "Record": 128
                        },
                        {
                          "date": "2021-11-23T00:00:00",
                          "Record": 119
                        },
                        {
                          "date": "2021-11-24T00:00:00",
                          "Record": 119
                        },
                        {
                          "date": "2021-11-25T00:00:00",
                          "Record": 120
                        },
                        {
                          "date": "2021-11-26T00:00:00",
                          "Record": 113
                        },
                        {
                          "date": "2021-11-27T00:00:00",
                          "Record": 105
                        },
                        {
                          "date": "2021-11-28T00:00:00",
                          "Record": 103
                        },
                        {
                          "date": "2021-11-29T00:00:00",
                          "Record": 114
                        },
                        {
                          "date": "2021-11-30T00:00:00",
                          "Record": 127
                        },
                        {
                          "date": "2021-12-01T00:00:00",
                          "Record": 116
                        },
                        {
                          "date": "2021-12-02T00:00:00",
                          "Record": 127
                        },
                        {
                          "date": "2021-12-03T00:00:00",
                          "Record": 118
                        },
                        {
                          "date": "2021-12-04T00:00:00",
                          "Record": 120
                        },
                        {
                          "date": "2021-12-05T00:00:00",
                          "Record": 110
                        },
                        {
                          "date": "2021-12-06T00:00:00",
                          "Record": 112
                        },
                        {
                          "date": "2021-12-07T00:00:00",
                          "Record": 121
                        },
                        {
                          "date": "2021-12-08T00:00:00",
                          "Record": 117
                        },
                        {
                          "date": "2021-12-09T00:00:00",
                          "Record": 121
                        },
                        {
                          "date": "2021-12-10T00:00:00",
                          "Record": 121
                        },
                        {
                          "date": "2021-12-11T00:00:00",
                          "Record": 110
                        },
                        {
                          "date": "2021-12-12T00:00:00",
                          "Record": 109
                        },
                        {
                          "date": "2021-12-13T00:00:00",
                          "Record": 120
                        },
                        {
                          "date": "2021-12-14T00:00:00",
                          "Record": 110
                        },
                        {
                          "date": "2021-12-15T00:00:00",
                          "Record": 118
                        },
                        {
                          "date": "2021-12-16T00:00:00",
                          "Record": 121
                        },
                        {
                          "date": "2021-12-17T00:00:00",
                          "Record": 118
                        },
                        {
                          "date": "2021-12-18T00:00:00",
                          "Record": 116
                        },
                        {
                          "date": "2021-12-19T00:00:00",
                          "Record": 115
                        },
                        {
                          "date": "2021-12-20T00:00:00",
                          "Record": 120
                        },
                        {
                          "date": "2021-12-21T00:00:00",
                          "Record": 120
                        },
                        {
                          "date": "2021-12-22T00:00:00",
                          "Record": 123
                        },
                        {
                          "date": "2021-12-23T00:00:00",
                          "Record": 115
                        },
                        {
                          "date": "2021-12-24T00:00:00",
                          "Record": 120
                        },
                        {
                          "date": "2021-12-25T00:00:00",
                          "Record": 114
                        },
                        {
                          "date": "2021-12-26T00:00:00",
                          "Record": 120
                        },
                        {
                          "date": "2021-12-27T00:00:00",
                          "Record": 124
                        },
                        {
                          "date": "2021-12-28T00:00:00",
                          "Record": 116
                        },
                        {
                          "date": "2021-12-29T00:00:00",
                          "Record": 116
                        },
                        {
                          "date": "2021-12-30T00:00:00",
                          "Record": 113
                        },
                        {
                          "date": "2021-12-31T00:00:00",
                          "Record": 115
                        },
                        {
                          "date": "2022-01-01T00:00:00",
                          "Record": 106
                        },
                        {
                          "date": "2022-01-02T00:00:00",
                          "Record": 113
                        },
                        {
                          "date": "2022-01-03T00:00:00",
                          "Record": 120
                        },
                        {
                          "date": "2022-01-04T00:00:00",
                          "Record": 112
                        },
                        {
                          "date": "2022-01-05T00:00:00",
                          "Record": 121
                        },
                        {
                          "date": "2022-01-06T00:00:00",
                          "Record": 109
                        },
                        {
                          "date": "2022-01-07T00:00:00",
                          "Record": 111
                        },
                        {
                          "date": "2022-01-08T00:00:00",
                          "Record": 125
                        },
                        {
                          "date": "2022-01-09T00:00:00",
                          "Record": 118
                        },
                        {
                          "date": "2022-01-10T00:00:00",
                          "Record": 116
                        },
                        {
                          "date": "2022-01-11T00:00:00",
                          "Record": 127
                        },
                        {
                          "date": "2022-01-12T00:00:00",
                          "Record": 128
                        },
                        {
                          "date": "2022-01-13T00:00:00",
                          "Record": 123
                        },
                        {
                          "date": "2022-01-14T00:00:00",
                          "Record": 116
                        },
                        {
                          "date": "2022-01-15T00:00:00",
                          "Record": 118
                        },
                        {
                          "date": "2022-01-16T00:00:00",
                          "Record": 111
                        },
                        {
                          "date": "2022-01-17T00:00:00",
                          "Record": 120
                        },
                        {
                          "date": "2022-01-18T00:00:00",
                          "Record": 118
                        },
                        {
                          "date": "2022-01-19T00:00:00",
                          "Record": 112
                        },
                        {
                          "date": "2022-01-20T00:00:00",
                          "Record": 122
                        },
                        {
                          "date": "2022-01-21T00:00:00",
                          "Record": 109
                        },
                        {
                          "date": "2022-01-22T00:00:00",
                          "Record": 132
                        },
                        {
                          "date": "2022-01-23T00:00:00",
                          "Record": 115
                        },
                        {
                          "date": "2022-01-24T00:00:00",
                          "Record": 114
                        },
                        {
                          "date": "2022-01-25T00:00:00",
                          "Record": 115
                        },
                        {
                          "date": "2022-01-26T00:00:00",
                          "Record": 121
                        },
                        {
                          "date": "2022-01-27T00:00:00",
                          "Record": 117
                        },
                        {
                          "date": "2022-01-28T00:00:00",
                          "Record": 118
                        },
                        {
                          "date": "2022-01-29T00:00:00",
                          "Record": 126
                        },
                        {
                          "date": "2022-01-30T00:00:00",
                          "Record": 124
                        },
                        {
                          "date": "2022-01-31T00:00:00",
                          "Record": 118
                        },
                        {
                          "date": "2022-02-01T00:00:00",
                          "Record": 121
                        },
                        {
                          "date": "2022-02-02T00:00:00",
                          "Record": 120
                        },
                        {
                          "date": "2022-02-03T00:00:00",
                          "Record": 115
                        },
                        {
                          "date": "2022-02-04T00:00:00",
                          "Record": 115
                        },
                        {
                          "date": "2022-02-05T00:00:00",
                          "Record": 129
                        },
                        {
                          "date": "2022-02-06T00:00:00",
                          "Record": 130
                        },
                        {
                          "date": "2022-02-07T00:00:00",
                          "Record": 120
                        },
                        {
                          "date": "2022-02-08T00:00:00",
                          "Record": 123
                        },
                        {
                          "date": "2022-02-09T00:00:00",
                          "Record": 119
                        },
                        {
                          "date": "2022-02-10T00:00:00",
                          "Record": 108
                        },
                        {
                          "date": "2022-02-11T00:00:00",
                          "Record": 112
                        },
                        {
                          "date": "2022-02-12T00:00:00",
                          "Record": 121
                        },
                        {
                          "date": "2022-02-13T00:00:00",
                          "Record": 118
                        },
                        {
                          "date": "2022-02-14T00:00:00",
                          "Record": 119
                        },
                        {
                          "date": "2022-02-15T00:00:00",
                          "Record": 122
                        },
                        {
                          "date": "2022-02-16T00:00:00",
                          "Record": 108
                        },
                        {
                          "date": "2022-02-17T00:00:00",
                          "Record": 129
                        },
                        {
                          "date": "2022-02-18T00:00:00",
                          "Record": 127
                        },
                        {
                          "date": "2022-02-19T00:00:00",
                          "Record": 119
                        },
                        {
                          "date": "2022-02-20T00:00:00",
                          "Record": 121
                        },
                        {
                          "date": "2022-02-21T00:00:00",
                          "Record": 104
                        },
                        {
                          "date": "2022-02-22T00:00:00",
                          "Record": 129
                        },
                        {
                          "date": "2022-02-23T00:00:00",
                          "Record": 116
                        },
                        {
                          "date": "2022-02-24T00:00:00",
                          "Record": 112
                        },
                        {
                          "date": "2022-02-25T00:00:00",
                          "Record": 110
                        },
                        {
                          "date": "2022-02-26T00:00:00",
                          "Record": 114
                        },
                        {
                          "date": "2022-02-27T00:00:00",
                          "Record": 111
                        },
                        {
                          "date": "2022-02-28T00:00:00",
                          "Record": 108
                        },
                        {
                          "date": "2022-03-01T00:00:00",
                          "Record": 125
                        },
                        {
                          "date": "2022-03-02T00:00:00",
                          "Record": 124
                        },
                        {
                          "date": "2022-03-03T00:00:00",
                          "Record": 118
                        },
                        {
                          "date": "2022-03-04T00:00:00",
                          "Record": 112
                        },
                        {
                          "date": "2022-03-05T00:00:00",
                          "Record": 131
                        },
                        {
                          "date": "2022-03-06T00:00:00",
                          "Record": 116
                        },
                        {
                          "date": "2022-03-07T00:00:00",
                          "Record": 115
                        },
                        {
                          "date": "2022-03-08T00:00:00",
                          "Record": 120
                        },
                        {
                          "date": "2022-03-09T00:00:00",
                          "Record": 121
                        },
                        {
                          "date": "2022-03-10T00:00:00",
                          "Record": 116
                        },
                        {
                          "date": "2022-03-11T00:00:00",
                          "Record": 103
                        },
                        {
                          "date": "2022-03-12T00:00:00",
                          "Record": 120
                        },
                        {
                          "date": "2022-03-13T00:00:00",
                          "Record": 124
                        },
                        {
                          "date": "2022-03-14T00:00:00",
                          "Record": 117
                        },
                        {
                          "date": "2022-03-15T00:00:00",
                          "Record": 110
                        },
                        {
                          "date": "2022-03-16T00:00:00",
                          "Record": 114
                        },
                        {
                          "date": "2022-03-17T00:00:00",
                          "Record": 107
                        },
                        {
                          "date": "2022-03-18T00:00:00",
                          "Record": 114
                        },
                        {
                          "date": "2022-03-19T00:00:00",
                          "Record": 118
                        },
                        {
                          "date": "2022-03-20T00:00:00",
                          "Record": 116
                        },
                        {
                          "date": "2022-03-21T00:00:00",
                          "Record": 123
                        },
                        {
                          "date": "2022-03-22T00:00:00",
                          "Record": 102
                        },
                        {
                          "date": "2022-03-23T00:00:00",
                          "Record": 125
                        },
                        {
                          "date": "2022-03-24T00:00:00",
                          "Record": 119
                        },
                        {
                          "date": "2022-03-25T00:00:00",
                          "Record": 119
                        },
                        {
                          "date": "2022-03-26T00:00:00",
                          "Record": 114
                        },
                        {
                          "date": "2022-03-27T00:00:00",
                          "Record": 121
                        },
                        {
                          "date": "2022-03-28T00:00:00",
                          "Record": 118
                        },
                        {
                          "date": "2022-03-29T00:00:00",
                          "Record": 118
                        },
                        {
                          "date": "2022-03-30T00:00:00",
                          "Record": 122
                        },
                        {
                          "date": "2022-03-31T00:00:00",
                          "Record": 115
                        },
                        {
                          "date": "2022-04-01T00:00:00",
                          "Record": 113
                        },
                        {
                          "date": "2022-04-02T00:00:00",
                          "Record": 123
                        },
                        {
                          "date": "2022-04-03T00:00:00",
                          "Record": 117
                        },
                        {
                          "date": "2022-04-04T00:00:00",
                          "Record": 124
                        },
                        {
                          "date": "2022-04-05T00:00:00",
                          "Record": 122
                        },
                        {
                          "date": "2022-04-06T00:00:00",
                          "Record": 118
                        },
                        {
                          "date": "2022-04-07T00:00:00",
                          "Record": 122
                        },
                        {
                          "date": "2022-04-08T00:00:00",
                          "Record": 117
                        },
                        {
                          "date": "2022-04-09T00:00:00",
                          "Record": 122
                        },
                        {
                          "date": "2022-04-10T00:00:00",
                          "Record": 119
                        },
                        {
                          "date": "2022-04-11T00:00:00",
                          "Record": 127
                        },
                        {
                          "date": "2022-04-12T00:00:00",
                          "Record": 126
                        },
                        {
                          "date": "2022-04-13T00:00:00",
                          "Record": 117
                        },
                        {
                          "date": "2022-04-14T00:00:00",
                          "Record": 114
                        },
                        {
                          "date": "2022-04-15T00:00:00",
                          "Record": 121
                        },
                        {
                          "date": "2022-04-16T00:00:00",
                          "Record": 119
                        },
                        {
                          "date": "2022-04-17T00:00:00",
                          "Record": 115
                        },
                        {
                          "date": "2022-04-18T00:00:00",
                          "Record": 115
                        },
                        {
                          "date": "2022-04-19T00:00:00",
                          "Record": 120
                        },
                        {
                          "date": "2022-04-20T00:00:00",
                          "Record": 123
                        },
                        {
                          "date": "2022-04-21T00:00:00",
                          "Record": 114
                        },
                        {
                          "date": "2022-04-22T00:00:00",
                          "Record": 125
                        },
                        {
                          "date": "2022-04-23T00:00:00",
                          "Record": 123
                        },
                        {
                          "date": "2022-04-24T00:00:00",
                          "Record": 126
                        },
                        {
                          "date": "2022-04-25T00:00:00",
                          "Record": 123
                        },
                        {
                          "date": "2022-04-26T00:00:00",
                          "Record": 118
                        },
                        {
                          "date": "2022-04-27T00:00:00",
                          "Record": 113
                        },
                        {
                          "date": "2022-04-28T00:00:00",
                          "Record": 123
                        },
                        {
                          "date": "2022-04-29T00:00:00",
                          "Record": 120
                        },
                        {
                          "date": "2022-04-30T00:00:00",
                          "Record": 119
                        },
                        {
                          "date": "2022-05-01T00:00:00",
                          "Record": 125
                        },
                        {
                          "date": "2022-05-02T00:00:00",
                          "Record": 121
                        },
                        {
                          "date": "2022-05-03T00:00:00",
                          "Record": 128
                        },
                        {
                          "date": "2022-05-04T00:00:00",
                          "Record": 114
                        },
                        {
                          "date": "2022-05-05T00:00:00",
                          "Record": 113
                        },
                        {
                          "date": "2022-05-06T00:00:00",
                          "Record": 119
                        },
                        {
                          "date": "2022-05-07T00:00:00",
                          "Record": 123
                        },
                        {
                          "date": "2022-05-08T00:00:00",
                          "Record": 111
                        },
                        {
                          "date": "2022-05-09T00:00:00",
                          "Record": 119
                        },
                        {
                          "date": "2022-05-10T00:00:00",
                          "Record": 116
                        },
                        {
                          "date": "2022-05-11T00:00:00",
                          "Record": 119
                        },
                        {
                          "date": "2022-05-12T00:00:00",
                          "Record": 121
                        },
                        {
                          "date": "2022-05-13T00:00:00",
                          "Record": 126
                        },
                        {
                          "date": "2022-05-14T00:00:00",
                          "Record": 120
                        },
                        {
                          "date": "2022-05-15T00:00:00",
                          "Record": 121
                        },
                        {
                          "date": "2022-05-16T00:00:00",
                          "Record": 125
                        },
                        {
                          "date": "2022-05-17T00:00:00",
                          "Record": 117
                        },
                        {
                          "date": "2022-05-18T00:00:00",
                          "Record": 121
                        },
                        {
                          "date": "2022-05-19T00:00:00",
                          "Record": 115
                        },
                        {
                          "date": "2022-05-20T00:00:00",
                          "Record": 120
                        },
                        {
                          "date": "2022-05-21T00:00:00",
                          "Record": 117
                        },
                        {
                          "date": "2022-05-22T00:00:00",
                          "Record": 127
                        },
                        {
                          "date": "2022-05-23T00:00:00",
                          "Record": 120
                        },
                        {
                          "date": "2022-05-24T00:00:00",
                          "Record": 116
                        },
                        {
                          "date": "2022-05-25T00:00:00",
                          "Record": 124
                        },
                        {
                          "date": "2022-05-26T00:00:00",
                          "Record": 125
                        },
                        {
                          "date": "2022-05-27T00:00:00",
                          "Record": 126
                        },
                        {
                          "date": "2022-05-28T00:00:00",
                          "Record": 119
                        },
                        {
                          "date": "2022-05-29T00:00:00",
                          "Record": 129
                        },
                        {
                          "date": "2022-05-30T00:00:00",
                          "Record": 118
                        },
                        {
                          "date": "2022-05-31T00:00:00",
                          "Record": 127
                        },
                        {
                          "date": "2022-06-01T00:00:00",
                          "Record": 111
                        },
                        {
                          "date": "2022-06-02T00:00:00",
                          "Record": 121
                        },
                        {
                          "date": "2022-06-03T00:00:00",
                          "Record": 116
                        },
                        {
                          "date": "2022-06-04T00:00:00",
                          "Record": 120
                        },
                        {
                          "date": "2022-06-05T00:00:00",
                          "Record": 108
                        },
                        {
                          "date": "2022-06-06T00:00:00",
                          "Record": 133
                        },
                        {
                          "date": "2022-06-07T00:00:00",
                          "Record": 118
                        },
                        {
                          "date": "2022-06-08T00:00:00",
                          "Record": 112
                        },
                        {
                          "date": "2022-06-09T00:00:00",
                          "Record": 122
                        },
                        {
                          "date": "2022-06-10T00:00:00",
                          "Record": 117
                        },
                        {
                          "date": "2022-06-11T00:00:00",
                          "Record": 130
                        },
                        {
                          "date": "2022-06-12T00:00:00",
                          "Record": 118
                        },
                        {
                          "date": "2022-06-13T00:00:00",
                          "Record": 119
                        },
                        {
                          "date": "2022-06-14T00:00:00",
                          "Record": 116
                        },
                        {
                          "date": "2022-06-15T00:00:00",
                          "Record": 116
                        },
                        {
                          "date": "2022-06-16T00:00:00",
                          "Record": 113
                        },
                        {
                          "date": "2022-06-17T00:00:00",
                          "Record": 115
                        },
                        {
                          "date": "2022-06-18T00:00:00",
                          "Record": 117
                        },
                        {
                          "date": "2022-06-19T00:00:00",
                          "Record": 104
                        },
                        {
                          "date": "2022-06-20T00:00:00",
                          "Record": 129
                        },
                        {
                          "date": "2022-06-21T00:00:00",
                          "Record": 114
                        },
                        {
                          "date": "2022-06-22T00:00:00",
                          "Record": 122
                        },
                        {
                          "date": "2022-06-23T00:00:00",
                          "Record": 116
                        },
                        {
                          "date": "2022-06-24T00:00:00",
                          "Record": 118
                        },
                        {
                          "date": "2022-06-25T00:00:00",
                          "Record": 113
                        },
                        {
                          "date": "2022-06-26T00:00:00",
                          "Record": 125
                        },
                        {
                          "date": "2022-06-27T00:00:00",
                          "Record": 124
                        },
                        {
                          "date": "2022-06-28T00:00:00",
                          "Record": 121
                        },
                        {
                          "date": "2022-06-29T00:00:00",
                          "Record": 114
                        },
                        {
                          "date": "2022-06-30T00:00:00",
                          "Record": 114
                        },
                        {
                          "date": "2022-07-01T00:00:00",
                          "Record": 121
                        },
                        {
                          "date": "2022-07-02T00:00:00",
                          "Record": 119
                        },
                        {
                          "date": "2022-07-03T00:00:00",
                          "Record": 118
                        },
                        {
                          "date": "2022-07-04T00:00:00",
                          "Record": 117
                        },
                        {
                          "date": "2022-07-05T00:00:00",
                          "Record": 125
                        },
                        {
                          "date": "2022-07-06T00:00:00",
                          "Record": 120
                        },
                        {
                          "date": "2022-07-07T00:00:00",
                          "Record": 117
                        },
                        {
                          "date": "2022-07-08T00:00:00",
                          "Record": 117
                        },
                        {
                          "date": "2022-07-09T00:00:00",
                          "Record": 122
                        },
                        {
                          "date": "2022-07-10T00:00:00",
                          "Record": 114
                        },
                        {
                          "date": "2022-07-11T00:00:00",
                          "Record": 126
                        },
                        {
                          "date": "2022-07-12T00:00:00",
                          "Record": 119
                        },
                        {
                          "date": "2022-07-13T00:00:00",
                          "Record": 115
                        },
                        {
                          "date": "2022-07-14T00:00:00",
                          "Record": 118
                        },
                        {
                          "date": "2022-07-15T00:00:00",
                          "Record": 117
                        },
                        {
                          "date": "2022-07-16T00:00:00",
                          "Record": 129
                        },
                        {
                          "date": "2022-07-17T00:00:00",
                          "Record": 120
                        },
                        {
                          "date": "2022-07-18T00:00:00",
                          "Record": 117
                        },
                        {
                          "date": "2022-07-19T00:00:00",
                          "Record": 114
                        },
                        {
                          "date": "2022-07-20T00:00:00",
                          "Record": 118
                        },
                        {
                          "date": "2022-07-21T00:00:00",
                          "Record": 118
                        },
                        {
                          "date": "2022-07-22T00:00:00",
                          "Record": 121
                        },
                        {
                          "date": "2022-07-23T00:00:00",
                          "Record": 118
                        },
                        {
                          "date": "2022-07-24T00:00:00",
                          "Record": 121
                        },
                        {
                          "date": "2022-07-25T00:00:00",
                          "Record": 112
                        },
                        {
                          "date": "2022-07-26T00:00:00",
                          "Record": 118
                        },
                        {
                          "date": "2022-07-27T00:00:00",
                          "Record": 127
                        },
                        {
                          "date": "2022-07-28T00:00:00",
                          "Record": 117
                        },
                        {
                          "date": "2022-07-29T00:00:00",
                          "Record": 123
                        },
                        {
                          "date": "2022-07-30T00:00:00",
                          "Record": 122
                        },
                        {
                          "date": "2022-07-31T00:00:00",
                          "Record": 122
                        },
                        {
                          "date": "2022-08-01T00:00:00",
                          "Record": 119
                        },
                        {
                          "date": "2022-08-02T00:00:00",
                          "Record": 125
                        },
                        {
                          "date": "2022-08-03T00:00:00",
                          "Record": 117
                        },
                        {
                          "date": "2022-08-04T00:00:00",
                          "Record": 116
                        },
                        {
                          "date": "2022-08-05T00:00:00",
                          "Record": 117
                        },
                        {
                          "date": "2022-08-06T00:00:00",
                          "Record": 121
                        },
                        {
                          "date": "2022-08-07T00:00:00",
                          "Record": 114
                        },
                        {
                          "date": "2022-08-08T00:00:00",
                          "Record": 116
                        },
                        {
                          "date": "2022-08-09T00:00:00",
                          "Record": 125
                        },
                        {
                          "date": "2022-08-10T00:00:00",
                          "Record": 120
                        },
                        {
                          "date": "2022-08-11T00:00:00",
                          "Record": 131
                        },
                        {
                          "date": "2022-08-12T00:00:00",
                          "Record": 127
                        },
                        {
                          "date": "2022-08-13T00:00:00",
                          "Record": 113
                        },
                        {
                          "date": "2022-08-14T00:00:00",
                          "Record": 121
                        },
                        {
                          "date": "2022-08-15T00:00:00",
                          "Record": 119
                        },
                        {
                          "date": "2022-08-16T00:00:00",
                          "Record": 127
                        },
                        {
                          "date": "2022-08-17T00:00:00",
                          "Record": 117
                        },
                        {
                          "date": "2022-08-18T00:00:00",
                          "Record": 115
                        },
                        {
                          "date": "2022-08-19T00:00:00",
                          "Record": 119
                        },
                        {
                          "date": "2022-08-20T00:00:00",
                          "Record": 122
                        },
                        {
                          "date": "2022-08-21T00:00:00",
                          "Record": 108
                        },
                        {
                          "date": "2022-08-22T00:00:00",
                          "Record": 124
                        },
                        {
                          "date": "2022-08-23T00:00:00",
                          "Record": 114
                        },
                        {
                          "date": "2022-08-24T00:00:00",
                          "Record": 125
                        },
                        {
                          "date": "2022-08-25T00:00:00",
                          "Record": 121
                        },
                        {
                          "date": "2022-08-26T00:00:00",
                          "Record": 123
                        },
                        {
                          "date": "2022-08-27T00:00:00",
                          "Record": 108
                        },
                        {
                          "date": "2022-08-28T00:00:00",
                          "Record": 126
                        },
                        {
                          "date": "2022-08-29T00:00:00",
                          "Record": 129
                        },
                        {
                          "date": "2022-08-30T00:00:00",
                          "Record": 119
                        },
                        {
                          "date": "2022-08-31T00:00:00",
                          "Record": 116
                        },
                        {
                          "date": "2022-09-01T00:00:00",
                          "Record": 122
                        },
                        {
                          "date": "2022-09-02T00:00:00",
                          "Record": 108
                        },
                        {
                          "date": "2022-09-03T00:00:00",
                          "Record": 119
                        },
                        {
                          "date": "2022-09-04T00:00:00",
                          "Record": 123
                        },
                        {
                          "date": "2022-09-05T00:00:00",
                          "Record": 115
                        },
                        {
                          "date": "2022-09-06T00:00:00",
                          "Record": 116
                        },
                        {
                          "date": "2022-09-07T00:00:00",
                          "Record": 118
                        },
                        {
                          "date": "2022-09-08T00:00:00",
                          "Record": 119
                        },
                        {
                          "date": "2022-09-09T00:00:00",
                          "Record": 116
                        },
                        {
                          "date": "2022-09-10T00:00:00",
                          "Record": 115
                        },
                        {
                          "date": "2022-09-11T00:00:00",
                          "Record": 119
                        },
                        {
                          "date": "2022-09-12T00:00:00",
                          "Record": 122
                        },
                        {
                          "date": "2022-09-13T00:00:00",
                          "Record": 125
                        },
                        {
                          "date": "2022-09-14T00:00:00",
                          "Record": 110
                        },
                        {
                          "date": "2022-09-15T00:00:00",
                          "Record": 120
                        },
                        {
                          "date": "2022-09-16T00:00:00",
                          "Record": 119
                        },
                        {
                          "date": "2022-09-17T00:00:00",
                          "Record": 110
                        },
                        {
                          "date": "2022-09-18T00:00:00",
                          "Record": 122
                        },
                        {
                          "date": "2022-09-19T00:00:00",
                          "Record": 118
                        },
                        {
                          "date": "2022-09-20T00:00:00",
                          "Record": 122
                        },
                        {
                          "date": "2022-09-21T00:00:00",
                          "Record": 107
                        },
                        {
                          "date": "2022-09-22T00:00:00",
                          "Record": 111
                        },
                        {
                          "date": "2022-09-23T00:00:00",
                          "Record": 105
                        },
                        {
                          "date": "2022-09-24T00:00:00",
                          "Record": 127
                        },
                        {
                          "date": "2022-09-25T00:00:00",
                          "Record": 115
                        },
                        {
                          "date": "2022-09-26T00:00:00",
                          "Record": 114
                        },
                        {
                          "date": "2022-09-27T00:00:00",
                          "Record": 116
                        },
                        {
                          "date": "2022-09-28T00:00:00",
                          "Record": 120
                        },
                        {
                          "date": "2022-09-29T00:00:00",
                          "Record": 113
                        },
                        {
                          "date": "2022-09-30T00:00:00",
                          "Record": 120
                        },
                        {
                          "date": "2022-10-01T00:00:00",
                          "Record": 117
                        },
                        {
                          "date": "2022-10-02T00:00:00",
                          "Record": 120
                        },
                        {
                          "date": "2022-10-03T00:00:00",
                          "Record": 110
                        },
                        {
                          "date": "2022-10-04T00:00:00",
                          "Record": 114
                        },
                        {
                          "date": "2022-10-05T00:00:00",
                          "Record": 115
                        },
                        {
                          "date": "2022-10-06T00:00:00",
                          "Record": 114
                        },
                        {
                          "date": "2022-10-07T00:00:00",
                          "Record": 115
                        },
                        {
                          "date": "2022-10-08T00:00:00",
                          "Record": 121
                        },
                        {
                          "date": "2022-10-09T00:00:00",
                          "Record": 114
                        },
                        {
                          "date": "2022-10-10T00:00:00",
                          "Record": 118
                        },
                        {
                          "date": "2022-10-11T00:00:00",
                          "Record": 123
                        },
                        {
                          "date": "2022-10-12T00:00:00",
                          "Record": 113
                        },
                        {
                          "date": "2022-10-13T00:00:00",
                          "Record": 119
                        },
                        {
                          "date": "2022-10-14T00:00:00",
                          "Record": 123
                        },
                        {
                          "date": "2022-10-15T00:00:00",
                          "Record": 130
                        },
                        {
                          "date": "2022-10-16T00:00:00",
                          "Record": 113
                        },
                        {
                          "date": "2022-10-17T00:00:00",
                          "Record": 122
                        },
                        {
                          "date": "2022-10-18T00:00:00",
                          "Record": 119
                        },
                        {
                          "date": "2022-10-19T00:00:00",
                          "Record": 120
                        },
                        {
                          "date": "2022-10-20T00:00:00",
                          "Record": 124
                        },
                        {
                          "date": "2022-10-21T00:00:00",
                          "Record": 122
                        },
                        {
                          "date": "2022-10-22T00:00:00",
                          "Record": 114
                        },
                        {
                          "date": "2022-10-23T00:00:00",
                          "Record": 106
                        },
                        {
                          "date": "2022-10-24T00:00:00",
                          "Record": 129
                        },
                        {
                          "date": "2022-10-25T00:00:00",
                          "Record": 117
                        },
                        {
                          "date": "2022-10-26T00:00:00",
                          "Record": 106
                        },
                        {
                          "date": "2022-10-27T00:00:00",
                          "Record": 124
                        },
                        {
                          "date": "2022-10-28T00:00:00",
                          "Record": 122
                        },
                        {
                          "date": "2022-10-29T00:00:00",
                          "Record": 111
                        },
                        {
                          "date": "2022-10-30T00:00:00",
                          "Record": 110
                        },
                        {
                          "date": "2022-10-31T00:00:00",
                          "Record": 109
                        },
                        {
                          "date": "2022-11-01T00:00:00",
                          "Record": 124
                        },
                        {
                          "date": "2022-11-02T00:00:00",
                          "Record": 120
                        },
                        {
                          "date": "2022-11-03T00:00:00",
                          "Record": 121
                        },
                        {
                          "date": "2022-11-04T00:00:00",
                          "Record": 124
                        },
                        {
                          "date": "2022-11-05T00:00:00",
                          "Record": 108
                        },
                        {
                          "date": "2022-11-06T00:00:00",
                          "Record": 115
                        },
                        {
                          "date": "2022-11-07T00:00:00",
                          "Record": 120
                        },
                        {
                          "date": "2022-11-08T00:00:00",
                          "Record": 122
                        },
                        {
                          "date": "2022-11-09T00:00:00",
                          "Record": 115
                        },
                        {
                          "date": "2022-11-10T00:00:00",
                          "Record": 119
                        },
                        {
                          "date": "2022-11-11T00:00:00",
                          "Record": 117
                        },
                        {
                          "date": "2022-11-12T00:00:00",
                          "Record": 123
                        },
                        {
                          "date": "2022-11-13T00:00:00",
                          "Record": 115
                        },
                        {
                          "date": "2022-11-14T00:00:00",
                          "Record": 117
                        },
                        {
                          "date": "2022-11-15T00:00:00",
                          "Record": 117
                        },
                        {
                          "date": "2022-11-16T00:00:00",
                          "Record": 109
                        },
                        {
                          "date": "2022-11-17T00:00:00",
                          "Record": 116
                        },
                        {
                          "date": "2022-11-18T00:00:00",
                          "Record": 108
                        },
                        {
                          "date": "2022-11-19T00:00:00",
                          "Record": 116
                        },
                        {
                          "date": "2022-11-20T00:00:00",
                          "Record": 117
                        },
                        {
                          "date": "2022-11-21T00:00:00",
                          "Record": 120
                        },
                        {
                          "date": "2022-11-22T00:00:00",
                          "Record": 112
                        },
                        {
                          "date": "2022-11-23T00:00:00",
                          "Record": 114
                        },
                        {
                          "date": "2022-11-24T00:00:00",
                          "Record": 115
                        },
                        {
                          "date": "2022-11-25T00:00:00",
                          "Record": 117
                        },
                        {
                          "date": "2022-11-26T00:00:00",
                          "Record": 121
                        },
                        {
                          "date": "2022-11-27T00:00:00",
                          "Record": 121
                        },
                        {
                          "date": "2022-11-28T00:00:00",
                          "Record": 120
                        },
                        {
                          "date": "2022-11-29T00:00:00",
                          "Record": 111
                        },
                        {
                          "date": "2022-11-30T00:00:00",
                          "Record": 119
                        },
                        {
                          "date": "2022-12-01T00:00:00",
                          "Record": 125
                        },
                        {
                          "date": "2022-12-02T00:00:00",
                          "Record": 121
                        },
                        {
                          "date": "2022-12-03T00:00:00",
                          "Record": 120
                        },
                        {
                          "date": "2022-12-04T00:00:00",
                          "Record": 113
                        },
                        {
                          "date": "2022-12-05T00:00:00",
                          "Record": 120
                        },
                        {
                          "date": "2022-12-06T00:00:00",
                          "Record": 117
                        },
                        {
                          "date": "2022-12-07T00:00:00",
                          "Record": 117
                        },
                        {
                          "date": "2022-12-08T00:00:00",
                          "Record": 116
                        },
                        {
                          "date": "2022-12-09T00:00:00",
                          "Record": 118
                        },
                        {
                          "date": "2022-12-10T00:00:00",
                          "Record": 121
                        },
                        {
                          "date": "2022-12-11T00:00:00",
                          "Record": 122
                        },
                        {
                          "date": "2022-12-12T00:00:00",
                          "Record": 110
                        },
                        {
                          "date": "2022-12-13T00:00:00",
                          "Record": 122
                        },
                        {
                          "date": "2022-12-14T00:00:00",
                          "Record": 120
                        },
                        {
                          "date": "2022-12-15T00:00:00",
                          "Record": 124
                        },
                        {
                          "date": "2022-12-16T00:00:00",
                          "Record": 119
                        },
                        {
                          "date": "2022-12-17T00:00:00",
                          "Record": 125
                        },
                        {
                          "date": "2022-12-18T00:00:00",
                          "Record": 111
                        },
                        {
                          "date": "2022-12-19T00:00:00",
                          "Record": 123
                        },
                        {
                          "date": "2022-12-20T00:00:00",
                          "Record": 116
                        },
                        {
                          "date": "2022-12-21T00:00:00",
                          "Record": 114
                        },
                        {
                          "date": "2022-12-22T00:00:00",
                          "Record": 124
                        },
                        {
                          "date": "2022-12-23T00:00:00",
                          "Record": 125
                        },
                        {
                          "date": "2022-12-24T00:00:00",
                          "Record": 107
                        },
                        {
                          "date": "2022-12-25T00:00:00",
                          "Record": 109
                        },
                        {
                          "date": "2022-12-26T00:00:00",
                          "Record": 117
                        },
                        {
                          "date": "2022-12-27T00:00:00",
                          "Record": 116
                        },
                        {
                          "date": "2022-12-28T00:00:00",
                          "Record": 123
                        },
                        {
                          "date": "2022-12-29T00:00:00",
                          "Record": 119
                        },
                        {
                          "date": "2022-12-30T00:00:00",
                          "Record": 116
                        },
                        {
                          "date": "2022-12-31T00:00:00",
                          "Record": 121
                        },
                        {
                          "date": "2023-01-01T00:00:00",
                          "Record": 123
                        },
                        {
                          "date": "2023-01-02T00:00:00",
                          "Record": 119
                        },
                        {
                          "date": "2023-01-03T00:00:00",
                          "Record": 119
                        },
                        {
                          "date": "2023-01-04T00:00:00",
                          "Record": 120
                        },
                        {
                          "date": "2023-01-05T00:00:00",
                          "Record": 122
                        },
                        {
                          "date": "2023-01-06T00:00:00",
                          "Record": 119
                        },
                        {
                          "date": "2023-01-07T00:00:00",
                          "Record": 106
                        },
                        {
                          "date": "2023-01-08T00:00:00",
                          "Record": 119
                        },
                        {
                          "date": "2023-01-09T00:00:00",
                          "Record": 123
                        },
                        {
                          "date": "2023-01-10T00:00:00",
                          "Record": 117
                        },
                        {
                          "date": "2023-01-11T00:00:00",
                          "Record": 123
                        },
                        {
                          "date": "2023-01-12T00:00:00",
                          "Record": 116
                        },
                        {
                          "date": "2023-01-13T00:00:00",
                          "Record": 116
                        },
                        {
                          "date": "2023-01-14T00:00:00",
                          "Record": 115
                        },
                        {
                          "date": "2023-01-15T00:00:00",
                          "Record": 113
                        },
                        {
                          "date": "2023-01-16T00:00:00",
                          "Record": 123
                        },
                        {
                          "date": "2023-01-17T00:00:00",
                          "Record": 114
                        },
                        {
                          "date": "2023-01-18T00:00:00",
                          "Record": 112
                        },
                        {
                          "date": "2023-01-19T00:00:00",
                          "Record": 117
                        },
                        {
                          "date": "2023-01-20T00:00:00",
                          "Record": 122
                        },
                        {
                          "date": "2023-01-21T00:00:00",
                          "Record": 114
                        },
                        {
                          "date": "2023-01-22T00:00:00",
                          "Record": 120
                        },
                        {
                          "date": "2023-01-23T00:00:00",
                          "Record": 119
                        },
                        {
                          "date": "2023-01-24T00:00:00",
                          "Record": 117
                        },
                        {
                          "date": "2023-01-25T00:00:00",
                          "Record": 121
                        },
                        {
                          "date": "2023-01-26T00:00:00",
                          "Record": 116
                        },
                        {
                          "date": "2023-01-27T00:00:00",
                          "Record": 128
                        },
                        {
                          "date": "2023-01-28T00:00:00",
                          "Record": 109
                        },
                        {
                          "date": "2023-01-29T00:00:00",
                          "Record": 114
                        },
                        {
                          "date": "2023-01-30T00:00:00",
                          "Record": 116
                        },
                        {
                          "date": "2023-01-31T00:00:00",
                          "Record": 120
                        },
                        {
                          "date": "2023-02-01T00:00:00",
                          "Record": 123
                        },
                        {
                          "date": "2023-02-02T00:00:00",
                          "Record": 115
                        },
                        {
                          "date": "2023-02-03T00:00:00",
                          "Record": 120
                        },
                        {
                          "date": "2023-02-04T00:00:00",
                          "Record": 118
                        },
                        {
                          "date": "2023-02-05T00:00:00",
                          "Record": 115
                        },
                        {
                          "date": "2023-02-06T00:00:00",
                          "Record": 124
                        },
                        {
                          "date": "2023-02-07T00:00:00",
                          "Record": 118
                        },
                        {
                          "date": "2023-02-08T00:00:00",
                          "Record": 114
                        },
                        {
                          "date": "2023-02-09T00:00:00",
                          "Record": 113
                        },
                        {
                          "date": "2023-02-10T00:00:00",
                          "Record": 124
                        },
                        {
                          "date": "2023-02-11T00:00:00",
                          "Record": 115
                        },
                        {
                          "date": "2023-02-12T00:00:00",
                          "Record": 115
                        },
                        {
                          "date": "2023-02-13T00:00:00",
                          "Record": 117
                        },
                        {
                          "date": "2023-02-14T00:00:00",
                          "Record": 110
                        },
                        {
                          "date": "2023-02-15T00:00:00",
                          "Record": 129
                        },
                        {
                          "date": "2023-02-16T00:00:00",
                          "Record": 118
                        },
                        {
                          "date": "2023-02-17T00:00:00",
                          "Record": 122
                        },
                        {
                          "date": "2023-02-18T00:00:00",
                          "Record": 120
                        },
                        {
                          "date": "2023-02-19T00:00:00",
                          "Record": 114
                        },
                        {
                          "date": "2023-02-20T00:00:00",
                          "Record": 113
                        },
                        {
                          "date": "2023-02-21T00:00:00",
                          "Record": 108
                        },
                        {
                          "date": "2023-02-22T00:00:00",
                          "Record": 116
                        },
                        {
                          "date": "2023-02-23T00:00:00",
                          "Record": 123
                        },
                        {
                          "date": "2023-02-24T00:00:00",
                          "Record": 125
                        },
                        {
                          "date": "2023-02-25T00:00:00",
                          "Record": 117
                        },
                        {
                          "date": "2023-02-26T00:00:00",
                          "Record": 111
                        },
                        {
                          "date": "2023-02-27T00:00:00",
                          "Record": 117
                        },
                        {
                          "date": "2023-02-28T00:00:00",
                          "Record": 113
                        },
                        {
                          "date": "2023-03-01T00:00:00",
                          "Record": 109
                        },
                        {
                          "date": "2023-03-02T00:00:00",
                          "Record": 116
                        },
                        {
                          "date": "2023-03-03T00:00:00",
                          "Record": 119
                        },
                        {
                          "date": "2023-03-04T00:00:00",
                          "Record": 114
                        },
                        {
                          "date": "2023-03-05T00:00:00",
                          "Record": 112
                        },
                        {
                          "date": "2023-03-06T00:00:00",
                          "Record": 124
                        },
                        {
                          "date": "2023-03-07T00:00:00",
                          "Record": 117
                        },
                        {
                          "date": "2023-03-08T00:00:00",
                          "Record": 116
                        },
                        {
                          "date": "2023-03-09T00:00:00",
                          "Record": 114
                        },
                        {
                          "date": "2023-03-10T00:00:00",
                          "Record": 121
                        },
                        {
                          "date": "2023-03-11T00:00:00",
                          "Record": 123
                        },
                        {
                          "date": "2023-03-12T00:00:00",
                          "Record": 119
                        },
                        {
                          "date": "2023-03-13T00:00:00",
                          "Record": 127
                        },
                        {
                          "date": "2023-03-14T00:00:00",
                          "Record": 115
                        },
                        {
                          "date": "2023-03-15T00:00:00",
                          "Record": 111
                        },
                        {
                          "date": "2023-03-16T00:00:00",
                          "Record": 112
                        },
                        {
                          "date": "2023-03-17T00:00:00",
                          "Record": 118
                        },
                        {
                          "date": "2023-03-18T00:00:00",
                          "Record": 122
                        },
                        {
                          "date": "2023-03-19T00:00:00",
                          "Record": 118
                        },
                        {
                          "date": "2023-03-20T00:00:00",
                          "Record": 125
                        },
                        {
                          "date": "2023-03-21T00:00:00",
                          "Record": 120
                        },
                        {
                          "date": "2023-03-22T00:00:00",
                          "Record": 125
                        },
                        {
                          "date": "2023-03-23T00:00:00",
                          "Record": 107
                        },
                        {
                          "date": "2023-03-24T00:00:00",
                          "Record": 122
                        },
                        {
                          "date": "2023-03-25T00:00:00",
                          "Record": 114
                        },
                        {
                          "date": "2023-03-26T00:00:00",
                          "Record": 123
                        },
                        {
                          "date": "2023-03-27T00:00:00",
                          "Record": 120
                        },
                        {
                          "date": "2023-03-28T00:00:00",
                          "Record": 118
                        },
                        {
                          "date": "2023-03-29T00:00:00",
                          "Record": 114
                        },
                        {
                          "date": "2023-03-30T00:00:00",
                          "Record": 125
                        },
                        {
                          "date": "2023-03-31T00:00:00",
                          "Record": 113
                        },
                        {
                          "date": "2023-04-01T00:00:00",
                          "Record": 117
                        },
                        {
                          "date": "2023-04-02T00:00:00",
                          "Record": 125
                        },
                        {
                          "date": "2023-04-03T00:00:00",
                          "Record": 118
                        },
                        {
                          "date": "2023-04-04T00:00:00",
                          "Record": 115
                        },
                        {
                          "date": "2023-04-05T00:00:00",
                          "Record": 116
                        },
                        {
                          "date": "2023-04-06T00:00:00",
                          "Record": 123
                        },
                        {
                          "date": "2023-04-07T00:00:00",
                          "Record": 123
                        },
                        {
                          "date": "2023-04-08T00:00:00",
                          "Record": 114
                        },
                        {
                          "date": "2023-04-09T00:00:00",
                          "Record": 126
                        },
                        {
                          "date": "2023-04-10T00:00:00",
                          "Record": 119
                        },
                        {
                          "date": "2023-04-11T00:00:00",
                          "Record": 103
                        },
                        {
                          "date": "2023-04-12T00:00:00",
                          "Record": 120
                        },
                        {
                          "date": "2023-04-13T00:00:00",
                          "Record": 114
                        },
                        {
                          "date": "2023-04-14T00:00:00",
                          "Record": 123
                        },
                        {
                          "date": "2023-04-15T00:00:00",
                          "Record": 122
                        },
                        {
                          "date": "2023-04-16T00:00:00",
                          "Record": 113
                        },
                        {
                          "date": "2023-04-17T00:00:00",
                          "Record": 113
                        },
                        {
                          "date": "2023-04-18T00:00:00",
                          "Record": 127
                        },
                        {
                          "date": "2023-04-19T00:00:00",
                          "Record": 116
                        },
                        {
                          "date": "2023-04-20T00:00:00",
                          "Record": 112
                        },
                        {
                          "date": "2023-04-21T00:00:00",
                          "Record": 118
                        },
                        {
                          "date": "2023-04-22T00:00:00",
                          "Record": 116
                        },
                        {
                          "date": "2023-04-23T00:00:00",
                          "Record": 132
                        },
                        {
                          "date": "2023-04-24T00:00:00",
                          "Record": 116
                        },
                        {
                          "date": "2023-04-25T00:00:00",
                          "Record": 108
                        },
                        {
                          "date": "2023-04-26T00:00:00",
                          "Record": 118
                        },
                        {
                          "date": "2023-04-27T00:00:00",
                          "Record": 117
                        },
                        {
                          "date": "2023-04-28T00:00:00",
                          "Record": 118
                        },
                        {
                          "date": "2023-04-29T00:00:00",
                          "Record": 119
                        },
                        {
                          "date": "2023-04-30T00:00:00",
                          "Record": 125
                        },
                        {
                          "date": "2023-05-01T00:00:00",
                          "Record": 119
                        },
                        {
                          "date": "2023-05-02T00:00:00",
                          "Record": 129
                        },
                        {
                          "date": "2023-05-03T00:00:00",
                          "Record": 114
                        },
                        {
                          "date": "2023-05-04T00:00:00",
                          "Record": 112
                        },
                        {
                          "date": "2023-05-05T00:00:00",
                          "Record": 115
                        },
                        {
                          "date": "2023-05-06T00:00:00",
                          "Record": 131
                        },
                        {
                          "date": "2023-05-07T00:00:00",
                          "Record": 111
                        },
                        {
                          "date": "2023-05-08T00:00:00",
                          "Record": 118
                        },
                        {
                          "date": "2023-05-09T00:00:00",
                          "Record": 118
                        },
                        {
                          "date": "2023-05-10T00:00:00",
                          "Record": 123
                        },
                        {
                          "date": "2023-05-11T00:00:00",
                          "Record": 122
                        },
                        {
                          "date": "2023-05-12T00:00:00",
                          "Record": 129
                        },
                        {
                          "date": "2023-05-13T00:00:00",
                          "Record": 121
                        },
                        {
                          "date": "2023-05-14T00:00:00",
                          "Record": 115
                        },
                        {
                          "date": "2023-05-15T00:00:00",
                          "Record": 115
                        },
                        {
                          "date": "2023-05-16T00:00:00",
                          "Record": 119
                        },
                        {
                          "date": "2023-05-17T00:00:00",
                          "Record": 119
                        },
                        {
                          "date": "2023-05-18T00:00:00",
                          "Record": 118
                        },
                        {
                          "date": "2023-05-19T00:00:00",
                          "Record": 117
                        },
                        {
                          "date": "2023-05-20T00:00:00",
                          "Record": 122
                        },
                        {
                          "date": "2023-05-21T00:00:00",
                          "Record": 116
                        },
                        {
                          "date": "2023-05-22T00:00:00",
                          "Record": 128
                        },
                        {
                          "date": "2023-05-23T00:00:00",
                          "Record": 119
                        },
                        {
                          "date": "2023-05-24T00:00:00",
                          "Record": 111
                        },
                        {
                          "date": "2023-05-25T00:00:00",
                          "Record": 113
                        },
                        {
                          "date": "2023-05-26T00:00:00",
                          "Record": 126
                        },
                        {
                          "date": "2023-05-27T00:00:00",
                          "Record": 122
                        },
                        {
                          "date": "2023-05-28T00:00:00",
                          "Record": 111
                        },
                        {
                          "date": "2023-05-29T00:00:00",
                          "Record": 119
                        },
                        {
                          "date": "2023-05-30T00:00:00",
                          "Record": 120
                        },
                        {
                          "date": "2023-05-31T00:00:00",
                          "Record": 122
                        },
                        {
                          "date": "2023-06-01T00:00:00",
                          "Record": 112
                        },
                        {
                          "date": "2023-06-02T00:00:00",
                          "Record": 129
                        },
                        {
                          "date": "2023-06-03T00:00:00",
                          "Record": 116
                        },
                        {
                          "date": "2023-06-04T00:00:00",
                          "Record": 115
                        },
                        {
                          "date": "2023-06-05T00:00:00",
                          "Record": 122
                        },
                        {
                          "date": "2023-06-06T00:00:00",
                          "Record": 123
                        },
                        {
                          "date": "2023-06-07T00:00:00",
                          "Record": 121
                        },
                        {
                          "date": "2023-06-08T00:00:00",
                          "Record": 121
                        },
                        {
                          "date": "2023-06-09T00:00:00",
                          "Record": 119
                        },
                        {
                          "date": "2023-06-10T00:00:00",
                          "Record": 106
                        },
                        {
                          "date": "2023-06-11T00:00:00",
                          "Record": 111
                        },
                        {
                          "date": "2023-06-12T00:00:00",
                          "Record": 114
                        },
                        {
                          "date": "2023-06-13T00:00:00",
                          "Record": 120
                        },
                        {
                          "date": "2023-06-14T00:00:00",
                          "Record": 121
                        },
                        {
                          "date": "2023-06-15T00:00:00",
                          "Record": 121
                        },
                        {
                          "date": "2023-06-16T00:00:00",
                          "Record": 121
                        },
                        {
                          "date": "2023-06-17T00:00:00",
                          "Record": 116
                        },
                        {
                          "date": "2023-06-18T00:00:00",
                          "Record": 115
                        },
                        {
                          "date": "2023-06-19T00:00:00",
                          "Record": 112
                        },
                        {
                          "date": "2023-06-20T00:00:00",
                          "Record": 124
                        },
                        {
                          "date": "2023-06-21T00:00:00",
                          "Record": 129
                        },
                        {
                          "date": "2023-06-22T00:00:00",
                          "Record": 122
                        },
                        {
                          "date": "2023-06-23T00:00:00",
                          "Record": 110
                        },
                        {
                          "date": "2023-06-24T00:00:00",
                          "Record": 127
                        },
                        {
                          "date": "2023-06-25T00:00:00",
                          "Record": 104
                        },
                        {
                          "date": "2023-06-26T00:00:00",
                          "Record": 116
                        },
                        {
                          "date": "2023-06-27T00:00:00",
                          "Record": 128
                        },
                        {
                          "date": "2023-06-28T00:00:00",
                          "Record": 128
                        },
                        {
                          "date": "2023-06-29T00:00:00",
                          "Record": 111
                        },
                        {
                          "date": "2023-06-30T00:00:00",
                          "Record": 116
                        },
                        {
                          "date": "2023-07-01T00:00:00",
                          "Record": 110
                        },
                        {
                          "date": "2023-07-02T00:00:00",
                          "Record": 109
                        },
                        {
                          "date": "2023-07-03T00:00:00",
                          "Record": 131
                        },
                        {
                          "date": "2023-07-04T00:00:00",
                          "Record": 115
                        },
                        {
                          "date": "2023-07-05T00:00:00",
                          "Record": 119
                        },
                        {
                          "date": "2023-07-06T00:00:00",
                          "Record": 119
                        },
                        {
                          "date": "2023-07-07T00:00:00",
                          "Record": 111
                        },
                        {
                          "date": "2023-07-08T00:00:00",
                          "Record": 118
                        },
                        {
                          "date": "2023-07-09T00:00:00",
                          "Record": 129
                        },
                        {
                          "date": "2023-07-10T00:00:00",
                          "Record": 127
                        },
                        {
                          "date": "2023-07-11T00:00:00",
                          "Record": 127
                        },
                        {
                          "date": "2023-07-12T00:00:00",
                          "Record": 121
                        },
                        {
                          "date": "2023-07-13T00:00:00",
                          "Record": 115
                        },
                        {
                          "date": "2023-07-14T00:00:00",
                          "Record": 118
                        },
                        {
                          "date": "2023-07-15T00:00:00",
                          "Record": 106
                        },
                        {
                          "date": "2023-07-16T00:00:00",
                          "Record": 118
                        },
                        {
                          "date": "2023-07-17T00:00:00",
                          "Record": 122
                        },
                        {
                          "date": "2023-07-18T00:00:00",
                          "Record": 123
                        },
                        {
                          "date": "2023-07-19T00:00:00",
                          "Record": 118
                        },
                        {
                          "date": "2023-07-20T00:00:00",
                          "Record": 116
                        },
                        {
                          "date": "2023-07-21T00:00:00",
                          "Record": 114
                        },
                        {
                          "date": "2023-07-22T00:00:00",
                          "Record": 111
                        },
                        {
                          "date": "2023-07-23T00:00:00",
                          "Record": 119
                        },
                        {
                          "date": "2023-07-24T00:00:00",
                          "Record": 112
                        },
                        {
                          "date": "2023-07-25T00:00:00",
                          "Record": 119
                        },
                        {
                          "date": "2023-07-26T00:00:00",
                          "Record": 125
                        },
                        {
                          "date": "2023-07-27T00:00:00",
                          "Record": 108
                        },
                        {
                          "date": "2023-07-28T00:00:00",
                          "Record": 122
                        },
                        {
                          "date": "2023-07-29T00:00:00",
                          "Record": 122
                        },
                        {
                          "date": "2023-07-30T00:00:00",
                          "Record": 124
                        },
                        {
                          "date": "2023-07-31T00:00:00",
                          "Record": 117
                        },
                        {
                          "date": "2023-08-01T00:00:00",
                          "Record": 122
                        },
                        {
                          "date": "2023-08-02T00:00:00",
                          "Record": 123
                        },
                        {
                          "date": "2023-08-03T00:00:00",
                          "Record": 112
                        },
                        {
                          "date": "2023-08-04T00:00:00",
                          "Record": 116
                        },
                        {
                          "date": "2023-08-05T00:00:00",
                          "Record": 116
                        },
                        {
                          "date": "2023-08-06T00:00:00",
                          "Record": 120
                        },
                        {
                          "date": "2023-08-07T00:00:00",
                          "Record": 115
                        },
                        {
                          "date": "2023-08-08T00:00:00",
                          "Record": 119
                        },
                        {
                          "date": "2023-08-09T00:00:00",
                          "Record": 119
                        },
                        {
                          "date": "2023-08-10T00:00:00",
                          "Record": 121
                        },
                        {
                          "date": "2023-08-11T00:00:00",
                          "Record": 111
                        },
                        {
                          "date": "2023-08-12T00:00:00",
                          "Record": 108
                        },
                        {
                          "date": "2023-08-13T00:00:00",
                          "Record": 115
                        },
                        {
                          "date": "2023-08-14T00:00:00",
                          "Record": 121
                        },
                        {
                          "date": "2023-08-15T00:00:00",
                          "Record": 114
                        },
                        {
                          "date": "2023-08-16T00:00:00",
                          "Record": 113
                        },
                        {
                          "date": "2023-08-17T00:00:00",
                          "Record": 125
                        },
                        {
                          "date": "2023-08-18T00:00:00",
                          "Record": 107
                        },
                        {
                          "date": "2023-08-19T00:00:00",
                          "Record": 124
                        },
                        {
                          "date": "2023-08-20T00:00:00",
                          "Record": 110
                        },
                        {
                          "date": "2023-08-21T00:00:00",
                          "Record": 117
                        },
                        {
                          "date": "2023-08-22T00:00:00",
                          "Record": 117
                        },
                        {
                          "date": "2023-08-23T00:00:00",
                          "Record": 121
                        },
                        {
                          "date": "2023-08-24T00:00:00",
                          "Record": 117
                        },
                        {
                          "date": "2023-08-25T00:00:00",
                          "Record": 116
                        },
                        {
                          "date": "2023-08-26T00:00:00",
                          "Record": 114
                        },
                        {
                          "date": "2023-08-27T00:00:00",
                          "Record": 121
                        },
                        {
                          "date": "2023-08-28T00:00:00",
                          "Record": 123
                        },
                        {
                          "date": "2023-08-29T00:00:00",
                          "Record": 127
                        },
                        {
                          "date": "2023-08-30T00:00:00",
                          "Record": 115
                        },
                        {
                          "date": "2023-08-31T00:00:00",
                          "Record": 121
                        },
                        {
                          "date": "2023-09-01T00:00:00",
                          "Record": 126
                        },
                        {
                          "date": "2023-09-02T00:00:00",
                          "Record": 124
                        },
                        {
                          "date": "2023-09-03T00:00:00",
                          "Record": 114
                        },
                        {
                          "date": "2023-09-04T00:00:00",
                          "Record": 118
                        },
                        {
                          "date": "2023-09-05T00:00:00",
                          "Record": 115
                        },
                        {
                          "date": "2023-09-06T00:00:00",
                          "Record": 108
                        },
                        {
                          "date": "2023-09-07T00:00:00",
                          "Record": 122
                        },
                        {
                          "date": "2023-09-08T00:00:00",
                          "Record": 111
                        },
                        {
                          "date": "2023-09-09T00:00:00",
                          "Record": 125
                        },
                        {
                          "date": "2023-09-10T00:00:00",
                          "Record": 109
                        },
                        {
                          "date": "2023-09-11T00:00:00",
                          "Record": 118
                        },
                        {
                          "date": "2023-09-12T00:00:00",
                          "Record": 123
                        },
                        {
                          "date": "2023-09-13T00:00:00",
                          "Record": 121
                        },
                        {
                          "date": "2023-09-14T00:00:00",
                          "Record": 124
                        },
                        {
                          "date": "2023-09-15T00:00:00",
                          "Record": 131
                        },
                        {
                          "date": "2023-09-16T00:00:00",
                          "Record": 128
                        },
                        {
                          "date": "2023-09-17T00:00:00",
                          "Record": 108
                        },
                        {
                          "date": "2023-09-18T00:00:00",
                          "Record": 115
                        },
                        {
                          "date": "2023-09-19T00:00:00",
                          "Record": 120
                        },
                        {
                          "date": "2023-09-20T00:00:00",
                          "Record": 115
                        },
                        {
                          "date": "2023-09-21T00:00:00",
                          "Record": 125
                        },
                        {
                          "date": "2023-09-22T00:00:00",
                          "Record": 117
                        },
                        {
                          "date": "2023-09-23T00:00:00",
                          "Record": 117
                        },
                        {
                          "date": "2023-09-24T00:00:00",
                          "Record": 119
                        },
                        {
                          "date": "2023-09-25T00:00:00",
                          "Record": 117
                        },
                        {
                          "date": "2023-09-26T00:00:00",
                          "Record": 117
                        },
                        {
                          "date": "2023-09-27T00:00:00",
                          "Record": 121
                        },
                        {
                          "date": "2023-09-28T00:00:00",
                          "Record": 124
                        },
                        {
                          "date": "2023-09-29T00:00:00",
                          "Record": 127
                        },
                        {
                          "date": "2023-09-30T00:00:00",
                          "Record": 119
                        },
                        {
                          "date": "2023-10-01T00:00:00",
                          "Record": 121
                        },
                        {
                          "date": "2023-10-02T00:00:00",
                          "Record": 118
                        },
                        {
                          "date": "2023-10-03T00:00:00",
                          "Record": 125
                        },
                        {
                          "date": "2023-10-04T00:00:00",
                          "Record": 121
                        },
                        {
                          "date": "2023-10-05T00:00:00",
                          "Record": 123
                        },
                        {
                          "date": "2023-10-06T00:00:00",
                          "Record": 127
                        },
                        {
                          "date": "2023-10-07T00:00:00",
                          "Record": 112
                        },
                        {
                          "date": "2023-10-08T00:00:00",
                          "Record": 122
                        },
                        {
                          "date": "2023-10-09T00:00:00",
                          "Record": 127
                        },
                        {
                          "date": "2023-10-10T00:00:00",
                          "Record": 125
                        },
                        {
                          "date": "2023-10-11T00:00:00",
                          "Record": 118
                        },
                        {
                          "date": "2023-10-12T00:00:00",
                          "Record": 124
                        },
                        {
                          "date": "2023-10-13T00:00:00",
                          "Record": 117
                        },
                        {
                          "date": "2023-10-14T00:00:00",
                          "Record": 118
                        },
                        {
                          "date": "2023-10-15T00:00:00",
                          "Record": 119
                        },
                        {
                          "date": "2023-10-16T00:00:00",
                          "Record": 120
                        },
                        {
                          "date": "2023-10-17T00:00:00",
                          "Record": 119
                        },
                        {
                          "date": "2023-10-18T00:00:00",
                          "Record": 129
                        },
                        {
                          "date": "2023-10-19T00:00:00",
                          "Record": 117
                        },
                        {
                          "date": "2023-10-20T00:00:00",
                          "Record": 122
                        },
                        {
                          "date": "2023-10-21T00:00:00",
                          "Record": 119
                        },
                        {
                          "date": "2023-10-22T00:00:00",
                          "Record": 125
                        },
                        {
                          "date": "2023-10-23T00:00:00",
                          "Record": 121
                        },
                        {
                          "date": "2023-10-24T00:00:00",
                          "Record": 118
                        },
                        {
                          "date": "2023-10-25T00:00:00",
                          "Record": 117
                        },
                        {
                          "date": "2023-10-26T00:00:00",
                          "Record": 118
                        },
                        {
                          "date": "2023-10-27T00:00:00",
                          "Record": 121
                        },
                        {
                          "date": "2023-10-28T00:00:00",
                          "Record": 110
                        },
                        {
                          "date": "2023-10-29T00:00:00",
                          "Record": 127
                        },
                        {
                          "date": "2023-10-30T00:00:00",
                          "Record": 123
                        },
                        {
                          "date": "2023-10-31T00:00:00",
                          "Record": 115
                        },
                        {
                          "date": "2023-11-01T00:00:00",
                          "Record": 119
                        },
                        {
                          "date": "2023-11-02T00:00:00",
                          "Record": 120
                        },
                        {
                          "date": "2023-11-03T00:00:00",
                          "Record": 122
                        },
                        {
                          "date": "2023-11-04T00:00:00",
                          "Record": 120
                        },
                        {
                          "date": "2023-11-05T00:00:00",
                          "Record": 121
                        },
                        {
                          "date": "2023-11-06T00:00:00",
                          "Record": 116
                        },
                        {
                          "date": "2023-11-07T00:00:00",
                          "Record": 125
                        },
                        {
                          "date": "2023-11-08T00:00:00",
                          "Record": 111
                        },
                        {
                          "date": "2023-11-09T00:00:00",
                          "Record": 128
                        },
                        {
                          "date": "2023-11-10T00:00:00",
                          "Record": 123
                        }
                      ]
                    },
                    "vislib": "vegalite"
                  },
                  {
                    "config": {
                      "view": {
                        "continuousWidth": 400,
                        "continuousHeight": 300
                      },
                      "axis": {
                        "labelColor": "#505050",
                        "labelFont": "Helvetica Neue",
                        "labelFontSize": 9,
                        "labelFontWeight": 400,
                        "titleFont": "Helvetica Neue",
                        "titleFontSize": 11,
                        "titleFontWeight": 500
                      },
                      "legend": {
                        "labelFont": "Helvetica Neue",
                        "labelFontSize": 9,
                        "labelFontWeight": 400,
                        "titleFont": "Helvetica Neue",
                        "titleFontSize": 10,
                        "titleFontWeight": 500
                      },
                      "title": {
                        "font": "Helvetica Neue",
                        "fontSize": 13,
                        "fontWeight": 500
                      }
                    },
                    "data": {
                      "name": "data-e4c25c7d9e18bc2d137972db1d78d830"
                    },
                    "mark": "line",
                    "encoding": {
                      "x": {
                        "axis": {
                          "title": "date (year)"
                        },
                        "field": "date (year)",
                        "type": "temporal"
                      },
                      "y": {
                        "axis": {
                          "title": "Record"
                        },
                        "field": "Record",
                        "title": "Number of Records",
                        "type": "quantitative"
                      }
                    },
                    "height": 150,
                    "selection": {
                      "selector055": {
                        "type": "interval",
                        "bind": "scales",
                        "encodings": [
                          "x",
                          "y"
                        ]
                      }
                    },
                    "width": 160,
                    "$schema": "https://vega.github.io/schema/vega-lite/v4.17.0.json",
                    "datasets": {
                      "data-e4c25c7d9e18bc2d137972db1d78d830": [
                        {
                          "date (year)": "2021-01-01T00:00:00",
                          "Record": 36899
                        },
                        {
                          "date (year)": "2022-01-01T00:00:00",
                          "Record": 43208
                        },
                        {
                          "date (year)": "2023-01-01T00:00:00",
                          "Record": 37208
                        }
                      ]
                    },
                    "vislib": "vegalite"
                  },
                  {
                    "config": {
                      "view": {
                        "continuousWidth": 400,
                        "continuousHeight": 300
                      },
                      "axis": {
                        "labelColor": "#505050",
                        "labelFont": "Helvetica Neue",
                        "labelFontSize": 9,
                        "labelFontWeight": 400,
                        "titleFont": "Helvetica Neue",
                        "titleFontSize": 11,
                        "titleFontWeight": 500
                      },
                      "legend": {
                        "labelFont": "Helvetica Neue",
                        "labelFontSize": 9,
                        "labelFontWeight": 400,
                        "titleFont": "Helvetica Neue",
                        "titleFontSize": 10,
                        "titleFontWeight": 500
                      },
                      "title": {
                        "font": "Helvetica Neue",
                        "fontSize": 13,
                        "fontWeight": 500
                      }
                    },
                    "data": {
                      "name": "data-10bbc4c490a67ac8b5eb7894ce36c732"
                    },
                    "mark": "line",
                    "encoding": {
                      "x": {
                        "axis": {
                          "title": "date (month)"
                        },
                        "field": "date (month)",
                        "type": "ordinal"
                      },
                      "y": {
                        "axis": {
                          "title": "Record"
                        },
                        "field": "Record",
                        "title": "Number of Records",
                        "type": "quantitative"
                      }
                    },
                    "height": 150,
                    "selection": {
                      "selector056": {
                        "type": "interval",
                        "bind": "scales",
                        "encodings": [
                          "x",
                          "y"
                        ]
                      }
                    },
                    "width": 160,
                    "$schema": "https://vega.github.io/schema/vega-lite/v4.17.0.json",
                    "datasets": {
                      "data-10bbc4c490a67ac8b5eb7894ce36c732": [
                        {
                          "date (month)": 1,
                          "Record": 7307
                        },
                        {
                          "date (month)": 2,
                          "Record": 7178
                        },
                        {
                          "date (month)": 3,
                          "Record": 10949
                        },
                        {
                          "date (month)": 4,
                          "Record": 10686
                        },
                        {
                          "date (month)": 5,
                          "Record": 11185
                        },
                        {
                          "date (month)": 6,
                          "Record": 10681
                        },
                        {
                          "date (month)": 7,
                          "Record": 11041
                        },
                        {
                          "date (month)": 8,
                          "Record": 11005
                        },
                        {
                          "date (month)": 9,
                          "Record": 10648
                        },
                        {
                          "date (month)": 10,
                          "Record": 11022
                        },
                        {
                          "date (month)": 11,
                          "Record": 8306
                        },
                        {
                          "date (month)": 12,
                          "Record": 7307
                        }
                      ]
                    },
                    "vislib": "vegalite"
                  },
                  {
                    "config": {
                      "view": {
                        "continuousWidth": 400,
                        "continuousHeight": 300
                      },
                      "axis": {
                        "labelColor": "#505050",
                        "labelFont": "Helvetica Neue",
                        "labelFontSize": 9,
                        "labelFontWeight": 400,
                        "titleFont": "Helvetica Neue",
                        "titleFontSize": 11,
                        "titleFontWeight": 500
                      },
                      "legend": {
                        "labelFont": "Helvetica Neue",
                        "labelFontSize": 9,
                        "labelFontWeight": 400,
                        "titleFont": "Helvetica Neue",
                        "titleFontSize": 10,
                        "titleFontWeight": 500
                      },
                      "title": {
                        "font": "Helvetica Neue",
                        "fontSize": 13,
                        "fontWeight": 500
                      }
                    },
                    "data": {
                      "name": "data-92e79032f4cf1faec351d1e23ae56c0f"
                    },
                    "mark": "line",
                    "encoding": {
                      "x": {
                        "axis": {
                          "title": "date (day of week)"
                        },
                        "field": "date (day of week)",
                        "type": "ordinal"
                      },
                      "y": {
                        "axis": {
                          "title": "Record"
                        },
                        "field": "Record",
                        "title": "Number of Records",
                        "type": "quantitative"
                      }
                    },
                    "height": 150,
                    "selection": {
                      "selector057": {
                        "type": "interval",
                        "bind": "scales",
                        "encodings": [
                          "x",
                          "y"
                        ]
                      }
                    },
                    "width": 160,
                    "$schema": "https://vega.github.io/schema/vega-lite/v4.17.0.json",
                    "datasets": {
                      "data-92e79032f4cf1faec351d1e23ae56c0f": [
                        {
                          "date (day of week)": 0,
                          "Record": 16767
                        },
                        {
                          "date (day of week)": 1,
                          "Record": 16718
                        },
                        {
                          "date (day of week)": 2,
                          "Record": 16827
                        },
                        {
                          "date (day of week)": 3,
                          "Record": 16857
                        },
                        {
                          "date (day of week)": 4,
                          "Record": 16831
                        },
                        {
                          "date (day of week)": 5,
                          "Record": 16723
                        },
                        {
                          "date (day of week)": 6,
                          "Record": 16592
                        }
                      ]
                    },
                    "vislib": "vegalite"
                  }
                ]
              },
              {
                "action": "Geographical",
                "description": "Show choropleth maps of <p class='highlight-descriptor'>geographic</p> attributes",
                "long_description": "Occurence displays choropleths of averages for some geographic attribute (e.g., state). Visualizations are ranked by diversity of the geographic attribute.",
                "vspec": [
                  {
                    "config": {
                      "view": {
                        "continuousWidth": 400,
                        "continuousHeight": 300
                      },
                      "axis": {
                        "labelColor": "#505050",
                        "labelFont": "Helvetica Neue",
                        "labelFontSize": 9,
                        "labelFontWeight": 400,
                        "titleFont": "Helvetica Neue",
                        "titleFontSize": 11,
                        "titleFontWeight": 500
                      },
                      "legend": {
                        "labelFont": "Helvetica Neue",
                        "labelFontSize": 9,
                        "labelFontWeight": 400,
                        "titleFont": "Helvetica Neue",
                        "titleFontSize": 10,
                        "titleFontWeight": 500
                      },
                      "mark": {
                        "tooltip": {
                          "content": "encoding"
                        }
                      },
                      "title": {
                        "font": "Helvetica Neue",
                        "fontSize": 13,
                        "fontWeight": 500
                      }
                    },
                    "layer": [
                      {
                        "data": {
                          "url": "https://cdn.jsdelivr.net/npm/vega-datasets@v1.29.0/data/us-10m.json",
                          "format": {
                            "feature": "states",
                            "type": "topojson"
                          }
                        },
                        "mark": {
                          "type": "geoshape",
                          "fill": "lightgray",
                          "stroke": "white"
                        },
                        "projection": {
                          "type": "albersUsa"
                        }
                      },
                      {
                        "data": {
                          "url": "https://cdn.jsdelivr.net/npm/vega-datasets@v1.29.0/data/us-10m.json",
                          "format": {
                            "feature": "states",
                            "type": "topojson"
                          }
                        },
                        "mark": "geoshape",
                        "encoding": {
                          "color": {
                            "field": "booster2_comorbid",
                            "type": "quantitative"
                          }
                        },
                        "projection": {
                          "type": "albersUsa"
                        },
                        "title": "Mean of booster2_comorbid across United States",
                        "transform": [
                          {
                            "lookup": "id",
                            "from": {
                              "data": {
                                "name": "data-0156470426c38100f058e4feb6ef4244"
                              },
                              "key": "state",
                              "fields": [
                                "booster2_comorbid"
                              ]
                            }
                          }
                        ]
                      }
                    ],
                    "height": 150,
                    "width": 200,
                    "$schema": "https://vega.github.io/schema/vega-lite/v4.17.0.json",
                    "datasets": {
                      "data-0156470426c38100f058e4feb6ef4244": [
                        {
                          "state": 0,
                          "booster2_comorbid": 3.980603448275862
                        },
                        {
                          "state": 0,
                          "booster2_comorbid": 0.5600766456266907
                        },
                        {
                          "state": 0,
                          "booster2_comorbid": 0.20510948905109488
                        },
                        {
                          "state": 0,
                          "booster2_comorbid": 3.612859097127223
                        },
                        {
                          "state": 0,
                          "booster2_comorbid": 1.8629976580796253
                        },
                        {
                          "state": 0,
                          "booster2_comorbid": 0.637111406798113
                        },
                        {
                          "state": 0,
                          "booster2_comorbid": 1.918091809180918
                        },
                        {
                          "state": 0,
                          "booster2_comorbid": 0.5776566757493188
                        },
                        {
                          "state": 0,
                          "booster2_comorbid": 2.9671562082777037
                        },
                        {
                          "state": 0,
                          "booster2_comorbid": 0.2685209119578142
                        },
                        {
                          "state": 0,
                          "booster2_comorbid": 1.0738592290310613
                        },
                        {
                          "state": 0,
                          "booster2_comorbid": 11.83857504844239
                        },
                        {
                          "state": 0,
                          "booster2_comorbid": 0.2595097210481826
                        },
                        {
                          "state": 0,
                          "booster2_comorbid": 56.952
                        },
                        {
                          "state": 0,
                          "booster2_comorbid": 0.36092265943012214
                        },
                        {
                          "state": 0,
                          "booster2_comorbid": 2.9434724091520863
                        }
                      ]
                    },
                    "vislib": "vegalite"
                  },
                  {
                    "config": {
                      "view": {
                        "continuousWidth": 400,
                        "continuousHeight": 300
                      },
                      "axis": {
                        "labelColor": "#505050",
                        "labelFont": "Helvetica Neue",
                        "labelFontSize": 9,
                        "labelFontWeight": 400,
                        "titleFont": "Helvetica Neue",
                        "titleFontSize": 11,
                        "titleFontWeight": 500
                      },
                      "legend": {
                        "labelFont": "Helvetica Neue",
                        "labelFontSize": 9,
                        "labelFontWeight": 400,
                        "titleFont": "Helvetica Neue",
                        "titleFontSize": 10,
                        "titleFontWeight": 500
                      },
                      "mark": {
                        "tooltip": {
                          "content": "encoding"
                        }
                      },
                      "title": {
                        "font": "Helvetica Neue",
                        "fontSize": 13,
                        "fontWeight": 500
                      }
                    },
                    "layer": [
                      {
                        "data": {
                          "url": "https://cdn.jsdelivr.net/npm/vega-datasets@v1.29.0/data/us-10m.json",
                          "format": {
                            "feature": "states",
                            "type": "topojson"
                          }
                        },
                        "mark": {
                          "type": "geoshape",
                          "fill": "lightgray",
                          "stroke": "white"
                        },
                        "projection": {
                          "type": "albersUsa"
                        }
                      },
                      {
                        "data": {
                          "url": "https://cdn.jsdelivr.net/npm/vega-datasets@v1.29.0/data/us-10m.json",
                          "format": {
                            "feature": "states",
                            "type": "topojson"
                          }
                        },
                        "mark": "geoshape",
                        "encoding": {
                          "color": {
                            "field": "full_hcw",
                            "type": "quantitative"
                          }
                        },
                        "projection": {
                          "type": "albersUsa"
                        },
                        "title": "Mean of full_hcw across United States",
                        "transform": [
                          {
                            "lookup": "id",
                            "from": {
                              "data": {
                                "name": "data-28d449a2144e8f0258b7793a50488123"
                              },
                              "key": "state",
                              "fields": [
                                "full_hcw"
                              ]
                            }
                          }
                        ]
                      }
                    ],
                    "height": 150,
                    "width": 200,
                    "$schema": "https://vega.github.io/schema/vega-lite/v4.17.0.json",
                    "datasets": {
                      "data-28d449a2144e8f0258b7793a50488123": [
                        {
                          "state": 0,
                          "full_hcw": 6.0319234913793105
                        },
                        {
                          "state": 0,
                          "full_hcw": 2.2008566275924255
                        },
                        {
                          "state": 0,
                          "full_hcw": 2.1900243309002434
                        },
                        {
                          "state": 0,
                          "full_hcw": 5.951208390332877
                        },
                        {
                          "state": 0,
                          "full_hcw": 2.972872755659641
                        },
                        {
                          "state": 0,
                          "full_hcw": 1.690576992863191
                        },
                        {
                          "state": 0,
                          "full_hcw": 2.904815481548155
                        },
                        {
                          "state": 0,
                          "full_hcw": 3.456403269754768
                        },
                        {
                          "state": 0,
                          "full_hcw": 7.150066755674232
                        },
                        {
                          "state": 0,
                          "full_hcw": 1.0834927363904254
                        },
                        {
                          "state": 0,
                          "full_hcw": 0.7001450204040336
                        },
                        {
                          "state": 0,
                          "full_hcw": 12.924877030854077
                        },
                        {
                          "state": 0,
                          "full_hcw": 2.031614539306847
                        },
                        {
                          "state": 0,
                          "full_hcw": 65.04266666666666
                        },
                        {
                          "state": 0,
                          "full_hcw": 0.6540027137042063
                        },
                        {
                          "state": 0,
                          "full_hcw": 7.2907133243607
                        }
                      ]
                    },
                    "vislib": "vegalite"
                  },
                  {
                    "config": {
                      "view": {
                        "continuousWidth": 400,
                        "continuousHeight": 300
                      },
                      "axis": {
                        "labelColor": "#505050",
                        "labelFont": "Helvetica Neue",
                        "labelFontSize": 9,
                        "labelFontWeight": 400,
                        "titleFont": "Helvetica Neue",
                        "titleFontSize": 11,
                        "titleFontWeight": 500
                      },
                      "legend": {
                        "labelFont": "Helvetica Neue",
                        "labelFontSize": 9,
                        "labelFontWeight": 400,
                        "titleFont": "Helvetica Neue",
                        "titleFontSize": 10,
                        "titleFontWeight": 500
                      },
                      "mark": {
                        "tooltip": {
                          "content": "encoding"
                        }
                      },
                      "title": {
                        "font": "Helvetica Neue",
                        "fontSize": 13,
                        "fontWeight": 500
                      }
                    },
                    "layer": [
                      {
                        "data": {
                          "url": "https://cdn.jsdelivr.net/npm/vega-datasets@v1.29.0/data/us-10m.json",
                          "format": {
                            "feature": "states",
                            "type": "topojson"
                          }
                        },
                        "mark": {
                          "type": "geoshape",
                          "fill": "lightgray",
                          "stroke": "white"
                        },
                        "projection": {
                          "type": "albersUsa"
                        }
                      },
                      {
                        "data": {
                          "url": "https://cdn.jsdelivr.net/npm/vega-datasets@v1.29.0/data/us-10m.json",
                          "format": {
                            "feature": "states",
                            "type": "topojson"
                          }
                        },
                        "mark": "geoshape",
                        "encoding": {
                          "color": {
                            "field": "partial_hcw",
                            "type": "quantitative"
                          }
                        },
                        "projection": {
                          "type": "albersUsa"
                        },
                        "title": "Mean of partial_hcw across United States",
                        "transform": [
                          {
                            "lookup": "id",
                            "from": {
                              "data": {
                                "name": "data-d3d503a915d1382558bffdbb604ddb8c"
                              },
                              "key": "state",
                              "fields": [
                                "partial_hcw"
                              ]
                            }
                          }
                        ]
                      }
                    ],
                    "height": 150,
                    "width": 200,
                    "$schema": "https://vega.github.io/schema/vega-lite/v4.17.0.json",
                    "datasets": {
                      "data-d3d503a915d1382558bffdbb604ddb8c": [
                        {
                          "state": 0,
                          "partial_hcw": 5.309132543103448
                        },
                        {
                          "state": 0,
                          "partial_hcw": 2.301510369702435
                        },
                        {
                          "state": 0,
                          "partial_hcw": 2.693552311435523
                        },
                        {
                          "state": 0,
                          "partial_hcw": 6.369357045143639
                        },
                        {
                          "state": 0,
                          "partial_hcw": 3.1805230288836848
                        },
                        {
                          "state": 0,
                          "partial_hcw": 1.9750816499334705
                        },
                        {
                          "state": 0,
                          "partial_hcw": 3.2442619261926193
                        },
                        {
                          "state": 0,
                          "partial_hcw": 4.3269754768392374
                        },
                        {
                          "state": 0,
                          "partial_hcw": 7.529238985313752
                        },
                        {
                          "state": 0,
                          "partial_hcw": 1.2381223181512693
                        },
                        {
                          "state": 0,
                          "partial_hcw": 0.8274594448753836
                        },
                        {
                          "state": 0,
                          "partial_hcw": 12.160083469965718
                        },
                        {
                          "state": 0,
                          "partial_hcw": 1.9261200338123414
                        },
                        {
                          "state": 0,
                          "partial_hcw": 71.03866666666667
                        },
                        {
                          "state": 0,
                          "partial_hcw": 0.8534599728629579
                        },
                        {
                          "state": 0,
                          "partial_hcw": 8.628532974427994
                        }
                      ]
                    },
                    "vislib": "vegalite"
                  },
                  {
                    "config": {
                      "view": {
                        "continuousWidth": 400,
                        "continuousHeight": 300
                      },
                      "axis": {
                        "labelColor": "#505050",
                        "labelFont": "Helvetica Neue",
                        "labelFontSize": 9,
                        "labelFontWeight": 400,
                        "titleFont": "Helvetica Neue",
                        "titleFontSize": 11,
                        "titleFontWeight": 500
                      },
                      "legend": {
                        "labelFont": "Helvetica Neue",
                        "labelFontSize": 9,
                        "labelFontWeight": 400,
                        "titleFont": "Helvetica Neue",
                        "titleFontSize": 10,
                        "titleFontWeight": 500
                      },
                      "mark": {
                        "tooltip": {
                          "content": "encoding"
                        }
                      },
                      "title": {
                        "font": "Helvetica Neue",
                        "fontSize": 13,
                        "fontWeight": 500
                      }
                    },
                    "layer": [
                      {
                        "data": {
                          "url": "https://cdn.jsdelivr.net/npm/vega-datasets@v1.29.0/data/us-10m.json",
                          "format": {
                            "feature": "states",
                            "type": "topojson"
                          }
                        },
                        "mark": {
                          "type": "geoshape",
                          "fill": "lightgray",
                          "stroke": "white"
                        },
                        "projection": {
                          "type": "albersUsa"
                        }
                      },
                      {
                        "data": {
                          "url": "https://cdn.jsdelivr.net/npm/vega-datasets@v1.29.0/data/us-10m.json",
                          "format": {
                            "feature": "states",
                            "type": "topojson"
                          }
                        },
                        "mark": "geoshape",
                        "encoding": {
                          "color": {
                            "field": "full_oku",
                            "type": "quantitative"
                          }
                        },
                        "projection": {
                          "type": "albersUsa"
                        },
                        "title": "Mean of full_oku across United States",
                        "transform": [
                          {
                            "lookup": "id",
                            "from": {
                              "data": {
                                "name": "data-68c21fa46e96f227138f0308ca19e1af"
                              },
                              "key": "state",
                              "fields": [
                                "full_oku"
                              ]
                            }
                          }
                        ]
                      }
                    ],
                    "height": 150,
                    "width": 200,
                    "$schema": "https://vega.github.io/schema/vega-lite/v4.17.0.json",
                    "datasets": {
                      "data-68c21fa46e96f227138f0308ca19e1af": [
                        {
                          "state": 0,
                          "full_oku": 7.676993534482759
                        },
                        {
                          "state": 0,
                          "full_oku": 3.4319206492335437
                        },
                        {
                          "state": 0,
                          "full_oku": 2.232116788321168
                        },
                        {
                          "state": 0,
                          "full_oku": 8.643410852713178
                        },
                        {
                          "state": 0,
                          "full_oku": 3.5388368462138953
                        },
                        {
                          "state": 0,
                          "full_oku": 2.283657917019475
                        },
                        {
                          "state": 0,
                          "full_oku": 3.6968946894689467
                        },
                        {
                          "state": 0,
                          "full_oku": 4.905994550408719
                        },
                        {
                          "state": 0,
                          "full_oku": 7.191188251001335
                        },
                        {
                          "state": 0,
                          "full_oku": 0.989039962777232
                        },
                        {
                          "state": 0,
                          "full_oku": 0.6862837678324508
                        },
                        {
                          "state": 0,
                          "full_oku": 12.03607094947086
                        },
                        {
                          "state": 0,
                          "full_oku": 2.32916314454776
                        },
                        {
                          "state": 0,
                          "full_oku": 53.616
                        },
                        {
                          "state": 0,
                          "full_oku": 1.0502035278154682
                        },
                        {
                          "state": 0,
                          "full_oku": 2.5437415881561236
                        }
                      ]
                    },
                    "vislib": "vegalite"
                  },
                  {
                    "config": {
                      "view": {
                        "continuousWidth": 400,
                        "continuousHeight": 300
                      },
                      "axis": {
                        "labelColor": "#505050",
                        "labelFont": "Helvetica Neue",
                        "labelFontSize": 9,
                        "labelFontWeight": 400,
                        "titleFont": "Helvetica Neue",
                        "titleFontSize": 11,
                        "titleFontWeight": 500
                      },
                      "legend": {
                        "labelFont": "Helvetica Neue",
                        "labelFontSize": 9,
                        "labelFontWeight": 400,
                        "titleFont": "Helvetica Neue",
                        "titleFontSize": 10,
                        "titleFontWeight": 500
                      },
                      "mark": {
                        "tooltip": {
                          "content": "encoding"
                        }
                      },
                      "title": {
                        "font": "Helvetica Neue",
                        "fontSize": 13,
                        "fontWeight": 500
                      }
                    },
                    "layer": [
                      {
                        "data": {
                          "url": "https://cdn.jsdelivr.net/npm/vega-datasets@v1.29.0/data/us-10m.json",
                          "format": {
                            "feature": "states",
                            "type": "topojson"
                          }
                        },
                        "mark": {
                          "type": "geoshape",
                          "fill": "lightgray",
                          "stroke": "white"
                        },
                        "projection": {
                          "type": "albersUsa"
                        }
                      },
                      {
                        "data": {
                          "url": "https://cdn.jsdelivr.net/npm/vega-datasets@v1.29.0/data/us-10m.json",
                          "format": {
                            "feature": "states",
                            "type": "topojson"
                          }
                        },
                        "mark": "geoshape",
                        "encoding": {
                          "color": {
                            "field": "booster_comorbid",
                            "type": "quantitative"
                          }
                        },
                        "projection": {
                          "type": "albersUsa"
                        },
                        "title": "Mean of booster_comorbid across United States",
                        "transform": [
                          {
                            "lookup": "id",
                            "from": {
                              "data": {
                                "name": "data-6bfed39a05ac5426d3590f2872200b0f"
                              },
                              "key": "state",
                              "fields": [
                                "booster_comorbid"
                              ]
                            }
                          }
                        ]
                      }
                    ],
                    "height": 150,
                    "width": 200,
                    "$schema": "https://vega.github.io/schema/vega-lite/v4.17.0.json",
                    "datasets": {
                      "data-6bfed39a05ac5426d3590f2872200b0f": [
                        {
                          "state": 0,
                          "booster_comorbid": 69.24690193965517
                        },
                        {
                          "state": 0,
                          "booster_comorbid": 21.723737601442743
                        },
                        {
                          "state": 0,
                          "booster_comorbid": 11.185523114355231
                        },
                        {
                          "state": 0,
                          "booster_comorbid": 57.01960784313726
                        },
                        {
                          "state": 0,
                          "booster_comorbid": 31.69145199063232
                        },
                        {
                          "state": 0,
                          "booster_comorbid": 17.564654651022135
                        },
                        {
                          "state": 0,
                          "booster_comorbid": 41.127137713771376
                        },
                        {
                          "state": 0,
                          "booster_comorbid": 32.83242506811989
                        },
                        {
                          "state": 0,
                          "booster_comorbid": 72.47983978638185
                        },
                        {
                          "state": 0,
                          "booster_comorbid": 9.377811094452774
                        },
                        {
                          "state": 0,
                          "booster_comorbid": 13.871741256618664
                        },
                        {
                          "state": 0,
                          "booster_comorbid": 134.39230883887316
                        },
                        {
                          "state": 0,
                          "booster_comorbid": 14.277768385460693
                        },
                        {
                          "state": 0,
                          "booster_comorbid": 511.6773333333333
                        },
                        {
                          "state": 0,
                          "booster_comorbid": 14.447761194029852
                        },
                        {
                          "state": 0,
                          "booster_comorbid": 28.121130551816957
                        }
                      ]
                    },
                    "vislib": "vegalite"
                  },
                  {
                    "config": {
                      "view": {
                        "continuousWidth": 400,
                        "continuousHeight": 300
                      },
                      "axis": {
                        "labelColor": "#505050",
                        "labelFont": "Helvetica Neue",
                        "labelFontSize": 9,
                        "labelFontWeight": 400,
                        "titleFont": "Helvetica Neue",
                        "titleFontSize": 11,
                        "titleFontWeight": 500
                      },
                      "legend": {
                        "labelFont": "Helvetica Neue",
                        "labelFontSize": 9,
                        "labelFontWeight": 400,
                        "titleFont": "Helvetica Neue",
                        "titleFontSize": 10,
                        "titleFontWeight": 500
                      },
                      "mark": {
                        "tooltip": {
                          "content": "encoding"
                        }
                      },
                      "title": {
                        "font": "Helvetica Neue",
                        "fontSize": 13,
                        "fontWeight": 500
                      }
                    },
                    "layer": [
                      {
                        "data": {
                          "url": "https://cdn.jsdelivr.net/npm/vega-datasets@v1.29.0/data/us-10m.json",
                          "format": {
                            "feature": "states",
                            "type": "topojson"
                          }
                        },
                        "mark": {
                          "type": "geoshape",
                          "fill": "lightgray",
                          "stroke": "white"
                        },
                        "projection": {
                          "type": "albersUsa"
                        }
                      },
                      {
                        "data": {
                          "url": "https://cdn.jsdelivr.net/npm/vega-datasets@v1.29.0/data/us-10m.json",
                          "format": {
                            "feature": "states",
                            "type": "topojson"
                          }
                        },
                        "mark": "geoshape",
                        "encoding": {
                          "color": {
                            "field": "partial_oku",
                            "type": "quantitative"
                          }
                        },
                        "projection": {
                          "type": "albersUsa"
                        },
                        "title": "Mean of partial_oku across United States",
                        "transform": [
                          {
                            "lookup": "id",
                            "from": {
                              "data": {
                                "name": "data-7b4cfda8bbd76b46b6a4eeeb841004d0"
                              },
                              "key": "state",
                              "fields": [
                                "partial_oku"
                              ]
                            }
                          }
                        ]
                      }
                    ],
                    "height": 150,
                    "width": 200,
                    "$schema": "https://vega.github.io/schema/vega-lite/v4.17.0.json",
                    "datasets": {
                      "data-7b4cfda8bbd76b46b6a4eeeb841004d0": [
                        {
                          "state": 0,
                          "partial_oku": 7.313442887931035
                        },
                        {
                          "state": 0,
                          "partial_oku": 3.3837917042380523
                        },
                        {
                          "state": 0,
                          "partial_oku": 2.195133819951338
                        },
                        {
                          "state": 0,
                          "partial_oku": 8.953032375740994
                        },
                        {
                          "state": 0,
                          "partial_oku": 3.732630757220921
                        },
                        {
                          "state": 0,
                          "partial_oku": 2.339663723236966
                        },
                        {
                          "state": 0,
                          "partial_oku": 3.730873087308731
                        },
                        {
                          "state": 0,
                          "partial_oku": 5.005449591280654
                        },
                        {
                          "state": 0,
                          "partial_oku": 6.241655540720961
                        },
                        {
                          "state": 0,
                          "partial_oku": 1.060228506436437
                        },
                        {
                          "state": 0,
                          "partial_oku": 0.7219992580351422
                        },
                        {
                          "state": 0,
                          "partial_oku": 11.963183782978088
                        },
                        {
                          "state": 0,
                          "partial_oku": 2.4459847844463227
                        },
                        {
                          "state": 0,
                          "partial_oku": 62.768
                        },
                        {
                          "state": 0,
                          "partial_oku": 1.2170963364993215
                        },
                        {
                          "state": 0,
                          "partial_oku": 3.4495289367429343
                        }
                      ]
                    },
                    "vislib": "vegalite"
                  },
                  {
                    "config": {
                      "view": {
                        "continuousWidth": 400,
                        "continuousHeight": 300
                      },
                      "axis": {
                        "labelColor": "#505050",
                        "labelFont": "Helvetica Neue",
                        "labelFontSize": 9,
                        "labelFontWeight": 400,
                        "titleFont": "Helvetica Neue",
                        "titleFontSize": 11,
                        "titleFontWeight": 500
                      },
                      "legend": {
                        "labelFont": "Helvetica Neue",
                        "labelFontSize": 9,
                        "labelFontWeight": 400,
                        "titleFont": "Helvetica Neue",
                        "titleFontSize": 10,
                        "titleFontWeight": 500
                      },
                      "mark": {
                        "tooltip": {
                          "content": "encoding"
                        }
                      },
                      "title": {
                        "font": "Helvetica Neue",
                        "fontSize": 13,
                        "fontWeight": 500
                      }
                    },
                    "layer": [
                      {
                        "data": {
                          "url": "https://cdn.jsdelivr.net/npm/vega-datasets@v1.29.0/data/us-10m.json",
                          "format": {
                            "feature": "states",
                            "type": "topojson"
                          }
                        },
                        "mark": {
                          "type": "geoshape",
                          "fill": "lightgray",
                          "stroke": "white"
                        },
                        "projection": {
                          "type": "albersUsa"
                        }
                      },
                      {
                        "data": {
                          "url": "https://cdn.jsdelivr.net/npm/vega-datasets@v1.29.0/data/us-10m.json",
                          "format": {
                            "feature": "states",
                            "type": "topojson"
                          }
                        },
                        "mark": "geoshape",
                        "encoding": {
                          "color": {
                            "field": "booster2_hcw",
                            "type": "quantitative"
                          }
                        },
                        "projection": {
                          "type": "albersUsa"
                        },
                        "title": "Mean of booster2_hcw across United States",
                        "transform": [
                          {
                            "lookup": "id",
                            "from": {
                              "data": {
                                "name": "data-b4d098b1ed56c72ddb980c9c91688d4d"
                              },
                              "key": "state",
                              "fields": [
                                "booster2_hcw"
                              ]
                            }
                          }
                        ]
                      }
                    ],
                    "height": 150,
                    "width": 200,
                    "$schema": "https://vega.github.io/schema/vega-lite/v4.17.0.json",
                    "datasets": {
                      "data-b4d098b1ed56c72ddb980c9c91688d4d": [
                        {
                          "state": 0,
                          "booster2_hcw": 0.8624730603448276
                        },
                        {
                          "state": 0,
                          "booster2_hcw": 0.17188908926961227
                        },
                        {
                          "state": 0,
                          "booster2_hcw": 0.10559610705596106
                        },
                        {
                          "state": 0,
                          "booster2_hcw": 0.7802097583219334
                        },
                        {
                          "state": 0,
                          "booster2_hcw": 0.3091334894613583
                        },
                        {
                          "state": 0,
                          "booster2_hcw": 0.14793758316196928
                        },
                        {
                          "state": 0,
                          "booster2_hcw": 0.27914041404140416
                        },
                        {
                          "state": 0,
                          "booster2_hcw": 0.2547683923705722
                        },
                        {
                          "state": 0,
                          "booster2_hcw": 0.4144192256341789
                        },
                        {
                          "state": 0,
                          "booster2_hcw": 0.1245928759758052
                        },
                        {
                          "state": 0,
                          "booster2_hcw": 0.28798354187042596
                        },
                        {
                          "state": 0,
                          "booster2_hcw": 1.534953048144284
                        },
                        {
                          "state": 0,
                          "booster2_hcw": 0.14505494505494507
                        },
                        {
                          "state": 0,
                          "booster2_hcw": 7.637333333333333
                        },
                        {
                          "state": 0,
                          "booster2_hcw": 0.2157394843962008
                        },
                        {
                          "state": 0,
                          "booster2_hcw": 1.4899057873485868
                        }
                      ]
                    },
                    "vislib": "vegalite"
                  },
                  {
                    "config": {
                      "view": {
                        "continuousWidth": 400,
                        "continuousHeight": 300
                      },
                      "axis": {
                        "labelColor": "#505050",
                        "labelFont": "Helvetica Neue",
                        "labelFontSize": 9,
                        "labelFontWeight": 400,
                        "titleFont": "Helvetica Neue",
                        "titleFontSize": 11,
                        "titleFontWeight": 500
                      },
                      "legend": {
                        "labelFont": "Helvetica Neue",
                        "labelFontSize": 9,
                        "labelFontWeight": 400,
                        "titleFont": "Helvetica Neue",
                        "titleFontSize": 10,
                        "titleFontWeight": 500
                      },
                      "mark": {
                        "tooltip": {
                          "content": "encoding"
                        }
                      },
                      "title": {
                        "font": "Helvetica Neue",
                        "fontSize": 13,
                        "fontWeight": 500
                      }
                    },
                    "layer": [
                      {
                        "data": {
                          "url": "https://cdn.jsdelivr.net/npm/vega-datasets@v1.29.0/data/us-10m.json",
                          "format": {
                            "feature": "states",
                            "type": "topojson"
                          }
                        },
                        "mark": {
                          "type": "geoshape",
                          "fill": "lightgray",
                          "stroke": "white"
                        },
                        "projection": {
                          "type": "albersUsa"
                        }
                      },
                      {
                        "data": {
                          "url": "https://cdn.jsdelivr.net/npm/vega-datasets@v1.29.0/data/us-10m.json",
                          "format": {
                            "feature": "states",
                            "type": "topojson"
                          }
                        },
                        "mark": "geoshape",
                        "encoding": {
                          "color": {
                            "field": "full_comorbid",
                            "type": "quantitative"
                          }
                        },
                        "projection": {
                          "type": "albersUsa"
                        },
                        "title": "Mean of full_comorbid across United States",
                        "transform": [
                          {
                            "lookup": "id",
                            "from": {
                              "data": {
                                "name": "data-408937707c6f3da99c8851e10288e51f"
                              },
                              "key": "state",
                              "fields": [
                                "full_comorbid"
                              ]
                            }
                          }
                        ]
                      }
                    ],
                    "height": 150,
                    "width": 200,
                    "$schema": "https://vega.github.io/schema/vega-lite/v4.17.0.json",
                    "datasets": {
                      "data-408937707c6f3da99c8851e10288e51f": [
                        {
                          "state": 0,
                          "full_comorbid": 89.84065193965517
                        },
                        {
                          "state": 0,
                          "full_comorbid": 41.839044183949504
                        },
                        {
                          "state": 0,
                          "full_comorbid": 30.40462287104623
                        },
                        {
                          "state": 0,
                          "full_comorbid": 86.06839945280437
                        },
                        {
                          "state": 0,
                          "full_comorbid": 44.96096799375488
                        },
                        {
                          "state": 0,
                          "full_comorbid": 30.35526793274465
                        },
                        {
                          "state": 0,
                          "full_comorbid": 60.78949144914491
                        },
                        {
                          "state": 0,
                          "full_comorbid": 82.02043596730245
                        },
                        {
                          "state": 0,
                          "full_comorbid": 97.18638184245661
                        },
                        {
                          "state": 0,
                          "full_comorbid": 19.5329059608127
                        },
                        {
                          "state": 0,
                          "full_comorbid": 17.307476982226568
                        },
                        {
                          "state": 0,
                          "full_comorbid": 158.68117454166045
                        },
                        {
                          "state": 0,
                          "full_comorbid": 31.021808960270498
                        },
                        {
                          "state": 0,
                          "full_comorbid": 767.788
                        },
                        {
                          "state": 0,
                          "full_comorbid": 17.755766621438262
                        },
                        {
                          "state": 0,
                          "full_comorbid": 42.114401076716014
                        }
                      ]
                    },
                    "vislib": "vegalite"
                  },
                  {
                    "config": {
                      "view": {
                        "continuousWidth": 400,
                        "continuousHeight": 300
                      },
                      "axis": {
                        "labelColor": "#505050",
                        "labelFont": "Helvetica Neue",
                        "labelFontSize": 9,
                        "labelFontWeight": 400,
                        "titleFont": "Helvetica Neue",
                        "titleFontSize": 11,
                        "titleFontWeight": 500
                      },
                      "legend": {
                        "labelFont": "Helvetica Neue",
                        "labelFontSize": 9,
                        "labelFontWeight": 400,
                        "titleFont": "Helvetica Neue",
                        "titleFontSize": 10,
                        "titleFontWeight": 500
                      },
                      "mark": {
                        "tooltip": {
                          "content": "encoding"
                        }
                      },
                      "title": {
                        "font": "Helvetica Neue",
                        "fontSize": 13,
                        "fontWeight": 500
                      }
                    },
                    "layer": [
                      {
                        "data": {
                          "url": "https://cdn.jsdelivr.net/npm/vega-datasets@v1.29.0/data/us-10m.json",
                          "format": {
                            "feature": "states",
                            "type": "topojson"
                          }
                        },
                        "mark": {
                          "type": "geoshape",
                          "fill": "lightgray",
                          "stroke": "white"
                        },
                        "projection": {
                          "type": "albersUsa"
                        }
                      },
                      {
                        "data": {
                          "url": "https://cdn.jsdelivr.net/npm/vega-datasets@v1.29.0/data/us-10m.json",
                          "format": {
                            "feature": "states",
                            "type": "topojson"
                          }
                        },
                        "mark": "geoshape",
                        "encoding": {
                          "color": {
                            "field": "partial_comorbid",
                            "type": "quantitative"
                          }
                        },
                        "projection": {
                          "type": "albersUsa"
                        },
                        "title": "Mean of partial_comorbid across United States",
                        "transform": [
                          {
                            "lookup": "id",
                            "from": {
                              "data": {
                                "name": "data-015256535323521cee328b60c6e41edf"
                              },
                              "key": "state",
                              "fields": [
                                "partial_comorbid"
                              ]
                            }
                          }
                        ]
                      }
                    ],
                    "height": 150,
                    "width": 200,
                    "$schema": "https://vega.github.io/schema/vega-lite/v4.17.0.json",
                    "datasets": {
                      "data-015256535323521cee328b60c6e41edf": [
                        {
                          "state": 0,
                          "partial_comorbid": 90.67322198275862
                        },
                        {
                          "state": 0,
                          "partial_comorbid": 40.63243913435527
                        },
                        {
                          "state": 0,
                          "partial_comorbid": 31.40389294403893
                        },
                        {
                          "state": 0,
                          "partial_comorbid": 84.07204742362062
                        },
                        {
                          "state": 0,
                          "partial_comorbid": 44.50936768149883
                        },
                        {
                          "state": 0,
                          "partial_comorbid": 30.743679690335068
                        },
                        {
                          "state": 0,
                          "partial_comorbid": 61.78847884788479
                        },
                        {
                          "state": 0,
                          "partial_comorbid": 74.0149863760218
                        },
                        {
                          "state": 0,
                          "partial_comorbid": 94.16635514018692
                        },
                        {
                          "state": 0,
                          "partial_comorbid": 20.055317169001707
                        },
                        {
                          "state": 0,
                          "partial_comorbid": 17.933358065495263
                        },
                        {
                          "state": 0,
                          "partial_comorbid": 159.30705023103295
                        },
                        {
                          "state": 0,
                          "partial_comorbid": 32.34792899408284
                        },
                        {
                          "state": 0,
                          "partial_comorbid": 846.9266666666666
                        },
                        {
                          "state": 0,
                          "partial_comorbid": 19.670284938941656
                        },
                        {
                          "state": 0,
                          "partial_comorbid": 45.597577388963664
                        }
                      ]
                    },
                    "vislib": "vegalite"
                  },
                  {
                    "config": {
                      "view": {
                        "continuousWidth": 400,
                        "continuousHeight": 300
                      },
                      "axis": {
                        "labelColor": "#505050",
                        "labelFont": "Helvetica Neue",
                        "labelFontSize": 9,
                        "labelFontWeight": 400,
                        "titleFont": "Helvetica Neue",
                        "titleFontSize": 11,
                        "titleFontWeight": 500
                      },
                      "legend": {
                        "labelFont": "Helvetica Neue",
                        "labelFontSize": 9,
                        "labelFontWeight": 400,
                        "titleFont": "Helvetica Neue",
                        "titleFontSize": 10,
                        "titleFontWeight": 500
                      },
                      "mark": {
                        "tooltip": {
                          "content": "encoding"
                        }
                      },
                      "title": {
                        "font": "Helvetica Neue",
                        "fontSize": 13,
                        "fontWeight": 500
                      }
                    },
                    "layer": [
                      {
                        "data": {
                          "url": "https://cdn.jsdelivr.net/npm/vega-datasets@v1.29.0/data/us-10m.json",
                          "format": {
                            "feature": "states",
                            "type": "topojson"
                          }
                        },
                        "mark": {
                          "type": "geoshape",
                          "fill": "lightgray",
                          "stroke": "white"
                        },
                        "projection": {
                          "type": "albersUsa"
                        }
                      },
                      {
                        "data": {
                          "url": "https://cdn.jsdelivr.net/npm/vega-datasets@v1.29.0/data/us-10m.json",
                          "format": {
                            "feature": "states",
                            "type": "topojson"
                          }
                        },
                        "mark": "geoshape",
                        "encoding": {
                          "color": {
                            "field": "booster_hcw",
                            "type": "quantitative"
                          }
                        },
                        "projection": {
                          "type": "albersUsa"
                        },
                        "title": "Mean of booster_hcw across United States",
                        "transform": [
                          {
                            "lookup": "id",
                            "from": {
                              "data": {
                                "name": "data-09a972bd28f045268700eb3384001171"
                              },
                              "key": "state",
                              "fields": [
                                "booster_hcw"
                              ]
                            }
                          }
                        ]
                      }
                    ],
                    "height": 150,
                    "width": 200,
                    "$schema": "https://vega.github.io/schema/vega-lite/v4.17.0.json",
                    "datasets": {
                      "data-09a972bd28f045268700eb3384001171": [
                        {
                          "state": 0,
                          "booster_hcw": 5.144665948275862
                        },
                        {
                          "state": 0,
                          "booster_hcw": 1.933160504959423
                        },
                        {
                          "state": 0,
                          "booster_hcw": 1.85
                        },
                        {
                          "state": 0,
                          "booster_hcw": 5.326493388052896
                        },
                        {
                          "state": 0,
                          "booster_hcw": 2.660421545667447
                        },
                        {
                          "state": 0,
                          "booster_hcw": 1.5748155316317891
                        },
                        {
                          "state": 0,
                          "booster_hcw": 2.4717596759675966
                        },
                        {
                          "state": 0,
                          "booster_hcw": 3.4168937329700273
                        },
                        {
                          "state": 0,
                          "booster_hcw": 6.709746328437917
                        },
                        {
                          "state": 0,
                          "booster_hcw": 0.9434937703562012
                        },
                        {
                          "state": 0,
                          "booster_hcw": 0.6805504030218205
                        },
                        {
                          "state": 0,
                          "booster_hcw": 11.67580861529289
                        },
                        {
                          "state": 0,
                          "booster_hcw": 1.430938292476754
                        },
                        {
                          "state": 0,
                          "booster_hcw": 49.909333333333336
                        },
                        {
                          "state": 0,
                          "booster_hcw": 1.0922659430122117
                        },
                        {
                          "state": 0,
                          "booster_hcw": 7.234185733512786
                        }
                      ]
                    },
                    "vislib": "vegalite"
                  },
                  {
                    "config": {
                      "view": {
                        "continuousWidth": 400,
                        "continuousHeight": 300
                      },
                      "axis": {
                        "labelColor": "#505050",
                        "labelFont": "Helvetica Neue",
                        "labelFontSize": 9,
                        "labelFontWeight": 400,
                        "titleFont": "Helvetica Neue",
                        "titleFontSize": 11,
                        "titleFontWeight": 500
                      },
                      "legend": {
                        "labelFont": "Helvetica Neue",
                        "labelFontSize": 9,
                        "labelFontWeight": 400,
                        "titleFont": "Helvetica Neue",
                        "titleFontSize": 10,
                        "titleFontWeight": 500
                      },
                      "mark": {
                        "tooltip": {
                          "content": "encoding"
                        }
                      },
                      "title": {
                        "font": "Helvetica Neue",
                        "fontSize": 13,
                        "fontWeight": 500
                      }
                    },
                    "layer": [
                      {
                        "data": {
                          "url": "https://cdn.jsdelivr.net/npm/vega-datasets@v1.29.0/data/us-10m.json",
                          "format": {
                            "feature": "states",
                            "type": "topojson"
                          }
                        },
                        "mark": {
                          "type": "geoshape",
                          "fill": "lightgray",
                          "stroke": "white"
                        },
                        "projection": {
                          "type": "albersUsa"
                        }
                      },
                      {
                        "data": {
                          "url": "https://cdn.jsdelivr.net/npm/vega-datasets@v1.29.0/data/us-10m.json",
                          "format": {
                            "feature": "states",
                            "type": "topojson"
                          }
                        },
                        "mark": "geoshape",
                        "encoding": {
                          "color": {
                            "field": "booster_oku",
                            "type": "quantitative"
                          }
                        },
                        "projection": {
                          "type": "albersUsa"
                        },
                        "title": "Mean of booster_oku across United States",
                        "transform": [
                          {
                            "lookup": "id",
                            "from": {
                              "data": {
                                "name": "data-7821bd247b02c7664a32139159f8073b"
                              },
                              "key": "state",
                              "fields": [
                                "booster_oku"
                              ]
                            }
                          }
                        ]
                      }
                    ],
                    "height": 150,
                    "width": 200,
                    "$schema": "https://vega.github.io/schema/vega-lite/v4.17.0.json",
                    "datasets": {
                      "data-7821bd247b02c7664a32139159f8073b": [
                        {
                          "state": 0,
                          "booster_oku": 5.578529094827586
                        },
                        {
                          "state": 0,
                          "booster_oku": 1.5451983769161406
                        },
                        {
                          "state": 0,
                          "booster_oku": 0.6155717761557178
                        },
                        {
                          "state": 0,
                          "booster_oku": 5.292293661650707
                        },
                        {
                          "state": 0,
                          "booster_oku": 2.3579234972677594
                        },
                        {
                          "state": 0,
                          "booster_oku": 1.2124107898875045
                        },
                        {
                          "state": 0,
                          "booster_oku": 2.237286228622862
                        },
                        {
                          "state": 0,
                          "booster_oku": 1.9632152588555858
                        },
                        {
                          "state": 0,
                          "booster_oku": 4.921495327102804
                        },
                        {
                          "state": 0,
                          "booster_oku": 0.4154474486894484
                        },
                        {
                          "state": 0,
                          "booster_oku": 0.5149573370206738
                        },
                        {
                          "state": 0,
                          "booster_oku": 9.123565359964227
                        },
                        {
                          "state": 0,
                          "booster_oku": 0.8880811496196112
                        },
                        {
                          "state": 0,
                          "booster_oku": 35.92
                        },
                        {
                          "state": 0,
                          "booster_oku": 0.7367706919945726
                        },
                        {
                          "state": 0,
                          "booster_oku": 1.339165545087483
                        }
                      ]
                    },
                    "vislib": "vegalite"
                  },
                  {
                    "config": {
                      "view": {
                        "continuousWidth": 400,
                        "continuousHeight": 300
                      },
                      "axis": {
                        "labelColor": "#505050",
                        "labelFont": "Helvetica Neue",
                        "labelFontSize": 9,
                        "labelFontWeight": 400,
                        "titleFont": "Helvetica Neue",
                        "titleFontSize": 11,
                        "titleFontWeight": 500
                      },
                      "legend": {
                        "labelFont": "Helvetica Neue",
                        "labelFontSize": 9,
                        "labelFontWeight": 400,
                        "titleFont": "Helvetica Neue",
                        "titleFontSize": 10,
                        "titleFontWeight": 500
                      },
                      "mark": {
                        "tooltip": {
                          "content": "encoding"
                        }
                      },
                      "title": {
                        "font": "Helvetica Neue",
                        "fontSize": 13,
                        "fontWeight": 500
                      }
                    },
                    "layer": [
                      {
                        "data": {
                          "url": "https://cdn.jsdelivr.net/npm/vega-datasets@v1.29.0/data/us-10m.json",
                          "format": {
                            "feature": "states",
                            "type": "topojson"
                          }
                        },
                        "mark": {
                          "type": "geoshape",
                          "fill": "lightgray",
                          "stroke": "white"
                        },
                        "projection": {
                          "type": "albersUsa"
                        }
                      },
                      {
                        "data": {
                          "url": "https://cdn.jsdelivr.net/npm/vega-datasets@v1.29.0/data/us-10m.json",
                          "format": {
                            "feature": "states",
                            "type": "topojson"
                          }
                        },
                        "mark": "geoshape",
                        "encoding": {
                          "color": {
                            "field": "booster2_oku",
                            "type": "quantitative"
                          }
                        },
                        "projection": {
                          "type": "albersUsa"
                        },
                        "title": "Mean of booster2_oku across United States",
                        "transform": [
                          {
                            "lookup": "id",
                            "from": {
                              "data": {
                                "name": "data-cc3c2beca5bd930a376eeb27bb4b1611"
                              },
                              "key": "state",
                              "fields": [
                                "booster2_oku"
                              ]
                            }
                          }
                        ]
                      }
                    ],
                    "height": 150,
                    "width": 200,
                    "$schema": "https://vega.github.io/schema/vega-lite/v4.17.0.json",
                    "datasets": {
                      "data-cc3c2beca5bd930a376eeb27bb4b1611": [
                        {
                          "state": 0,
                          "booster2_oku": 0.1927532327586207
                        },
                        {
                          "state": 0,
                          "booster2_oku": 0.06357078449053201
                        },
                        {
                          "state": 0,
                          "booster2_oku": 0.006812652068126521
                        },
                        {
                          "state": 0,
                          "booster2_oku": 0.25262197902416783
                        },
                        {
                          "state": 0,
                          "booster2_oku": 0.08840749414519906
                        },
                        {
                          "state": 0,
                          "booster2_oku": 0.03907100520140317
                        },
                        {
                          "state": 0,
                          "booster2_oku": 0.07256975697569756
                        },
                        {
                          "state": 0,
                          "booster2_oku": 0.0326975476839237
                        },
                        {
                          "state": 0,
                          "booster2_oku": 0.1300400534045394
                        },
                        {
                          "state": 0,
                          "booster2_oku": 0.008737010804942356
                        },
                        {
                          "state": 0,
                          "booster2_oku": 0.030656638899193955
                        },
                        {
                          "state": 0,
                          "booster2_oku": 0.5082724698166642
                        },
                        {
                          "state": 0,
                          "booster2_oku": 0.016568047337278107
                        },
                        {
                          "state": 0,
                          "booster2_oku": 2.716
                        },
                        {
                          "state": 0,
                          "booster2_oku": 0.014925373134328358
                        },
                        {
                          "state": 0,
                          "booster2_oku": 0.09959623149394348
                        }
                      ]
                    },
                    "vislib": "vegalite"
                  }
                ]
              }
            ],
            "selectedIntentIndex": {
              "Temporal": [
                2
              ]
            },
            "tabbable": null,
            "tooltip": null
          }
        },
        "10e13f6bda57472baf6b9b09ad8afdd6": {
          "model_module": "@jupyter-widgets/base",
          "model_name": "LayoutModel",
          "model_module_version": "1.2.0",
          "state": {
            "_model_module": "@jupyter-widgets/base",
            "_model_module_version": "1.2.0",
            "_model_name": "LayoutModel",
            "_view_count": null,
            "_view_module": "@jupyter-widgets/base",
            "_view_module_version": "1.2.0",
            "_view_name": "LayoutView",
            "align_content": null,
            "align_items": null,
            "align_self": null,
            "border": null,
            "bottom": null,
            "display": null,
            "flex": null,
            "flex_flow": null,
            "grid_area": null,
            "grid_auto_columns": null,
            "grid_auto_flow": null,
            "grid_auto_rows": null,
            "grid_column": null,
            "grid_gap": null,
            "grid_row": null,
            "grid_template_areas": null,
            "grid_template_columns": null,
            "grid_template_rows": null,
            "height": null,
            "justify_content": null,
            "justify_items": null,
            "left": null,
            "margin": null,
            "max_height": null,
            "max_width": null,
            "min_height": null,
            "min_width": null,
            "object_fit": null,
            "object_position": null,
            "order": null,
            "overflow": null,
            "overflow_x": null,
            "overflow_y": null,
            "padding": null,
            "right": null,
            "top": null,
            "visibility": null,
            "width": null
          }
        },
        "f0637404c34a43ed9806de41ae8f2bcc": {
          "model_module": "@jupyter-widgets/controls",
          "model_name": "ButtonModel",
          "model_module_version": "1.5.0",
          "state": {
            "_dom_classes": [],
            "_model_module": "@jupyter-widgets/controls",
            "_model_module_version": "1.5.0",
            "_model_name": "ButtonModel",
            "_view_count": null,
            "_view_module": "@jupyter-widgets/controls",
            "_view_module_version": "1.5.0",
            "_view_name": "ButtonView",
            "button_style": "",
            "description": "Toggle Pandas/Lux",
            "disabled": false,
            "icon": "",
            "layout": "IPY_MODEL_3fada00700b14faaa2e5b62337282294",
            "style": "IPY_MODEL_3673c4b60b454079963e472f833fc648",
            "tooltip": ""
          }
        },
        "3fada00700b14faaa2e5b62337282294": {
          "model_module": "@jupyter-widgets/base",
          "model_name": "LayoutModel",
          "model_module_version": "1.2.0",
          "state": {
            "_model_module": "@jupyter-widgets/base",
            "_model_module_version": "1.2.0",
            "_model_name": "LayoutModel",
            "_view_count": null,
            "_view_module": "@jupyter-widgets/base",
            "_view_module_version": "1.2.0",
            "_view_name": "LayoutView",
            "align_content": null,
            "align_items": null,
            "align_self": null,
            "border": null,
            "bottom": null,
            "display": null,
            "flex": null,
            "flex_flow": null,
            "grid_area": null,
            "grid_auto_columns": null,
            "grid_auto_flow": null,
            "grid_auto_rows": null,
            "grid_column": null,
            "grid_gap": null,
            "grid_row": null,
            "grid_template_areas": null,
            "grid_template_columns": null,
            "grid_template_rows": null,
            "height": null,
            "justify_content": null,
            "justify_items": null,
            "left": null,
            "margin": null,
            "max_height": null,
            "max_width": null,
            "min_height": null,
            "min_width": null,
            "object_fit": null,
            "object_position": null,
            "order": null,
            "overflow": null,
            "overflow_x": null,
            "overflow_y": null,
            "padding": null,
            "right": null,
            "top": "5px",
            "visibility": null,
            "width": "140px"
          }
        },
        "3673c4b60b454079963e472f833fc648": {
          "model_module": "@jupyter-widgets/controls",
          "model_name": "ButtonStyleModel",
          "model_module_version": "1.5.0",
          "state": {
            "_model_module": "@jupyter-widgets/controls",
            "_model_module_version": "1.5.0",
            "_model_name": "ButtonStyleModel",
            "_view_count": null,
            "_view_module": "@jupyter-widgets/base",
            "_view_module_version": "1.2.0",
            "_view_name": "StyleView",
            "button_color": null,
            "font_weight": ""
          }
        },
        "948a61728b30436a8283cb4200ffa877": {
          "model_module": "@jupyter-widgets/output",
          "model_name": "OutputModel",
          "model_module_version": "1.0.0",
          "state": {
            "_dom_classes": [],
            "_model_module": "@jupyter-widgets/output",
            "_model_module_version": "1.0.0",
            "_model_name": "OutputModel",
            "_view_count": null,
            "_view_module": "@jupyter-widgets/output",
            "_view_module_version": "1.0.0",
            "_view_name": "OutputView",
            "layout": "IPY_MODEL_54d7fae8986748ac889a48e4d3c44ae3",
            "msg_id": "",
            "outputs": [
              {
                "output_type": "display_data",
                "data": {
                  "text/plain": "LuxWidget(message='<ul><li>Large dataframe detected: Lux is visualizing a sample of 0.75% of the dataframe (11…",
                  "application/vnd.jupyter.widget-view+json": {
                    "version_major": 2,
                    "version_minor": 0,
                    "model_id": "8daa084c734f43f18a895fa4c2d9733e"
                  }
                },
                "metadata": {
                  "application/vnd.jupyter.widget-view+json": {
                    "colab": {
                      "custom_widget_manager": {
                        "url": "https://ssl.gstatic.com/colaboratory-static/widgets/colab-cdn-widget-manager/b3e629b1971e1542/manager.min.js"
                      }
                    }
                  }
                }
              }
            ]
          }
        },
        "54d7fae8986748ac889a48e4d3c44ae3": {
          "model_module": "@jupyter-widgets/base",
          "model_name": "LayoutModel",
          "model_module_version": "1.2.0",
          "state": {
            "_model_module": "@jupyter-widgets/base",
            "_model_module_version": "1.2.0",
            "_model_name": "LayoutModel",
            "_view_count": null,
            "_view_module": "@jupyter-widgets/base",
            "_view_module_version": "1.2.0",
            "_view_name": "LayoutView",
            "align_content": null,
            "align_items": null,
            "align_self": null,
            "border": null,
            "bottom": null,
            "display": null,
            "flex": null,
            "flex_flow": null,
            "grid_area": null,
            "grid_auto_columns": null,
            "grid_auto_flow": null,
            "grid_auto_rows": null,
            "grid_column": null,
            "grid_gap": null,
            "grid_row": null,
            "grid_template_areas": null,
            "grid_template_columns": null,
            "grid_template_rows": null,
            "height": null,
            "justify_content": null,
            "justify_items": null,
            "left": null,
            "margin": null,
            "max_height": null,
            "max_width": null,
            "min_height": null,
            "min_width": null,
            "object_fit": null,
            "object_position": null,
            "order": null,
            "overflow": null,
            "overflow_x": null,
            "overflow_y": null,
            "padding": null,
            "right": null,
            "top": null,
            "visibility": null,
            "width": null
          }
        },
        "9f4c86ec3dec4d259523030f8ffcebe3": {
          "model_module": "@jupyter-widgets/base",
          "model_name": "LayoutModel",
          "model_module_version": "1.2.0",
          "state": {
            "_model_module": "@jupyter-widgets/base",
            "_model_module_version": "1.2.0",
            "_model_name": "LayoutModel",
            "_view_count": null,
            "_view_module": "@jupyter-widgets/base",
            "_view_module_version": "1.2.0",
            "_view_name": "LayoutView",
            "align_content": null,
            "align_items": null,
            "align_self": null,
            "border": null,
            "bottom": null,
            "display": null,
            "flex": null,
            "flex_flow": null,
            "grid_area": null,
            "grid_auto_columns": null,
            "grid_auto_flow": null,
            "grid_auto_rows": null,
            "grid_column": null,
            "grid_gap": null,
            "grid_row": null,
            "grid_template_areas": null,
            "grid_template_columns": null,
            "grid_template_rows": null,
            "height": null,
            "justify_content": null,
            "justify_items": null,
            "left": null,
            "margin": null,
            "max_height": null,
            "max_width": null,
            "min_height": null,
            "min_width": null,
            "object_fit": null,
            "object_position": null,
            "order": null,
            "overflow": null,
            "overflow_x": null,
            "overflow_y": null,
            "padding": null,
            "right": null,
            "top": null,
            "visibility": null,
            "width": null
          }
        }
      }
    }
  },
  "cells": [
    {
      "cell_type": "markdown",
      "metadata": {
        "id": "view-in-github",
        "colab_type": "text"
      },
      "source": [
        "<a href=\"https://colab.research.google.com/github/drshahizan/Python_EDA/blob/main/assignment/hpdp/CafeKDSE/case_study2b/Study_Case_2b.ipynb\" target=\"_parent\"><img src=\"https://colab.research.google.com/assets/colab-badge.svg\" alt=\"Open In Colab\"/></a>"
      ]
    },
    {
      "cell_type": "markdown",
      "source": [
        "#**Assignment 2 - HPDP**\n",
        "\n",
        "##**Study case 2b - Lux**\n",
        "\n",
        "##**Group CafeKDSE**\n",
        "\n",
        "This project revolves around conducting an exploratory data analysis (EDA) on the demographic and high-risk factors related to vaccine coverage in Malaysia. Utilizing the Lux library, we simplify the analysis process, gaining insights into the relationships and patterns within the data."
      ],
      "metadata": {
        "id": "8c028mS-rvqu"
      }
    },
    {
      "cell_type": "markdown",
      "source": [
        "### **Install lux library in google colab**"
      ],
      "metadata": {
        "id": "hX9FkidErUwV"
      }
    },
    {
      "cell_type": "code",
      "execution_count": 14,
      "metadata": {
        "colab": {
          "base_uri": "https://localhost:8080/"
        },
        "id": "T_VeqZspfyOj",
        "outputId": "9d0d7ccb-5ea2-4ad3-ace4-0d31325724f7"
      },
      "outputs": [
        {
          "output_type": "stream",
          "name": "stdout",
          "text": [
            "Requirement already satisfied: lux-api in /usr/local/lib/python3.10/dist-packages (0.5.1)\n",
            "Requirement already satisfied: scipy>=1.3.3 in /usr/local/lib/python3.10/dist-packages (from lux-api) (1.11.3)\n",
            "Requirement already satisfied: altair>=4.0.0 in /usr/local/lib/python3.10/dist-packages (from lux-api) (4.2.2)\n",
            "Requirement already satisfied: numpy>=1.16.5 in /usr/local/lib/python3.10/dist-packages (from lux-api) (1.23.5)\n",
            "Requirement already satisfied: pandas in /usr/local/lib/python3.10/dist-packages (from lux-api) (1.5.3)\n",
            "Requirement already satisfied: scikit-learn>=0.22 in /usr/local/lib/python3.10/dist-packages (from lux-api) (1.2.2)\n",
            "Requirement already satisfied: matplotlib>=3.0.0 in /usr/local/lib/python3.10/dist-packages (from lux-api) (3.7.1)\n",
            "Requirement already satisfied: lux-widget>=0.1.4 in /usr/local/lib/python3.10/dist-packages (from lux-api) (0.1.11)\n",
            "Requirement already satisfied: autopep8>=1.5 in /usr/local/lib/python3.10/dist-packages (from lux-api) (2.0.4)\n",
            "Requirement already satisfied: iso3166 in /usr/local/lib/python3.10/dist-packages (from lux-api) (2.1.1)\n",
            "Requirement already satisfied: psutil>=5.9.0 in /usr/local/lib/python3.10/dist-packages (from lux-api) (5.9.5)\n",
            "Requirement already satisfied: sh in /usr/local/lib/python3.10/dist-packages (from lux-api) (2.0.6)\n",
            "Requirement already satisfied: entrypoints in /usr/local/lib/python3.10/dist-packages (from altair>=4.0.0->lux-api) (0.4)\n",
            "Requirement already satisfied: jinja2 in /usr/local/lib/python3.10/dist-packages (from altair>=4.0.0->lux-api) (3.1.2)\n",
            "Requirement already satisfied: jsonschema>=3.0 in /usr/local/lib/python3.10/dist-packages (from altair>=4.0.0->lux-api) (4.19.2)\n",
            "Requirement already satisfied: toolz in /usr/local/lib/python3.10/dist-packages (from altair>=4.0.0->lux-api) (0.12.0)\n",
            "Requirement already satisfied: pycodestyle>=2.10.0 in /usr/local/lib/python3.10/dist-packages (from autopep8>=1.5->lux-api) (2.11.1)\n",
            "Requirement already satisfied: tomli in /usr/local/lib/python3.10/dist-packages (from autopep8>=1.5->lux-api) (2.0.1)\n",
            "Requirement already satisfied: notebook>=4.0.0 in /usr/local/lib/python3.10/dist-packages (from lux-widget>=0.1.4->lux-api) (6.5.5)\n",
            "Requirement already satisfied: ipywidgets>=7.5.0 in /usr/local/lib/python3.10/dist-packages (from lux-widget>=0.1.4->lux-api) (7.7.1)\n",
            "Requirement already satisfied: contourpy>=1.0.1 in /usr/local/lib/python3.10/dist-packages (from matplotlib>=3.0.0->lux-api) (1.2.0)\n",
            "Requirement already satisfied: cycler>=0.10 in /usr/local/lib/python3.10/dist-packages (from matplotlib>=3.0.0->lux-api) (0.12.1)\n",
            "Requirement already satisfied: fonttools>=4.22.0 in /usr/local/lib/python3.10/dist-packages (from matplotlib>=3.0.0->lux-api) (4.44.0)\n",
            "Requirement already satisfied: kiwisolver>=1.0.1 in /usr/local/lib/python3.10/dist-packages (from matplotlib>=3.0.0->lux-api) (1.4.5)\n",
            "Requirement already satisfied: packaging>=20.0 in /usr/local/lib/python3.10/dist-packages (from matplotlib>=3.0.0->lux-api) (23.2)\n",
            "Requirement already satisfied: pillow>=6.2.0 in /usr/local/lib/python3.10/dist-packages (from matplotlib>=3.0.0->lux-api) (9.4.0)\n",
            "Requirement already satisfied: pyparsing>=2.3.1 in /usr/local/lib/python3.10/dist-packages (from matplotlib>=3.0.0->lux-api) (3.1.1)\n",
            "Requirement already satisfied: python-dateutil>=2.7 in /usr/local/lib/python3.10/dist-packages (from matplotlib>=3.0.0->lux-api) (2.8.2)\n",
            "Requirement already satisfied: pytz>=2020.1 in /usr/local/lib/python3.10/dist-packages (from pandas->lux-api) (2023.3.post1)\n",
            "Requirement already satisfied: joblib>=1.1.1 in /usr/local/lib/python3.10/dist-packages (from scikit-learn>=0.22->lux-api) (1.3.2)\n",
            "Requirement already satisfied: threadpoolctl>=2.0.0 in /usr/local/lib/python3.10/dist-packages (from scikit-learn>=0.22->lux-api) (3.2.0)\n",
            "Requirement already satisfied: ipykernel>=4.5.1 in /usr/local/lib/python3.10/dist-packages (from ipywidgets>=7.5.0->lux-widget>=0.1.4->lux-api) (5.5.6)\n",
            "Requirement already satisfied: ipython-genutils~=0.2.0 in /usr/local/lib/python3.10/dist-packages (from ipywidgets>=7.5.0->lux-widget>=0.1.4->lux-api) (0.2.0)\n",
            "Requirement already satisfied: traitlets>=4.3.1 in /usr/local/lib/python3.10/dist-packages (from ipywidgets>=7.5.0->lux-widget>=0.1.4->lux-api) (5.7.1)\n",
            "Requirement already satisfied: widgetsnbextension~=3.6.0 in /usr/local/lib/python3.10/dist-packages (from ipywidgets>=7.5.0->lux-widget>=0.1.4->lux-api) (3.6.6)\n",
            "Requirement already satisfied: ipython>=4.0.0 in /usr/local/lib/python3.10/dist-packages (from ipywidgets>=7.5.0->lux-widget>=0.1.4->lux-api) (7.34.0)\n",
            "Requirement already satisfied: jupyterlab-widgets>=1.0.0 in /usr/local/lib/python3.10/dist-packages (from ipywidgets>=7.5.0->lux-widget>=0.1.4->lux-api) (3.0.9)\n",
            "Requirement already satisfied: attrs>=22.2.0 in /usr/local/lib/python3.10/dist-packages (from jsonschema>=3.0->altair>=4.0.0->lux-api) (23.1.0)\n",
            "Requirement already satisfied: jsonschema-specifications>=2023.03.6 in /usr/local/lib/python3.10/dist-packages (from jsonschema>=3.0->altair>=4.0.0->lux-api) (2023.7.1)\n",
            "Requirement already satisfied: referencing>=0.28.4 in /usr/local/lib/python3.10/dist-packages (from jsonschema>=3.0->altair>=4.0.0->lux-api) (0.30.2)\n",
            "Requirement already satisfied: rpds-py>=0.7.1 in /usr/local/lib/python3.10/dist-packages (from jsonschema>=3.0->altair>=4.0.0->lux-api) (0.12.0)\n",
            "Requirement already satisfied: tornado>=6.1 in /usr/local/lib/python3.10/dist-packages (from notebook>=4.0.0->lux-widget>=0.1.4->lux-api) (6.3.2)\n",
            "Requirement already satisfied: pyzmq<25,>=17 in /usr/local/lib/python3.10/dist-packages (from notebook>=4.0.0->lux-widget>=0.1.4->lux-api) (23.2.1)\n",
            "Requirement already satisfied: argon2-cffi in /usr/local/lib/python3.10/dist-packages (from notebook>=4.0.0->lux-widget>=0.1.4->lux-api) (23.1.0)\n",
            "Requirement already satisfied: jupyter-core>=4.6.1 in /usr/local/lib/python3.10/dist-packages (from notebook>=4.0.0->lux-widget>=0.1.4->lux-api) (5.5.0)\n",
            "Requirement already satisfied: jupyter-client<8,>=5.3.4 in /usr/local/lib/python3.10/dist-packages (from notebook>=4.0.0->lux-widget>=0.1.4->lux-api) (6.1.12)\n",
            "Requirement already satisfied: nbformat in /usr/local/lib/python3.10/dist-packages (from notebook>=4.0.0->lux-widget>=0.1.4->lux-api) (5.9.2)\n",
            "Requirement already satisfied: nbconvert>=5 in /usr/local/lib/python3.10/dist-packages (from notebook>=4.0.0->lux-widget>=0.1.4->lux-api) (6.5.4)\n",
            "Requirement already satisfied: nest-asyncio>=1.5 in /usr/local/lib/python3.10/dist-packages (from notebook>=4.0.0->lux-widget>=0.1.4->lux-api) (1.5.8)\n",
            "Requirement already satisfied: Send2Trash>=1.8.0 in /usr/local/lib/python3.10/dist-packages (from notebook>=4.0.0->lux-widget>=0.1.4->lux-api) (1.8.2)\n",
            "Requirement already satisfied: terminado>=0.8.3 in /usr/local/lib/python3.10/dist-packages (from notebook>=4.0.0->lux-widget>=0.1.4->lux-api) (0.17.1)\n",
            "Requirement already satisfied: prometheus-client in /usr/local/lib/python3.10/dist-packages (from notebook>=4.0.0->lux-widget>=0.1.4->lux-api) (0.18.0)\n",
            "Requirement already satisfied: nbclassic>=0.4.7 in /usr/local/lib/python3.10/dist-packages (from notebook>=4.0.0->lux-widget>=0.1.4->lux-api) (1.0.0)\n",
            "Requirement already satisfied: six>=1.5 in /usr/local/lib/python3.10/dist-packages (from python-dateutil>=2.7->matplotlib>=3.0.0->lux-api) (1.16.0)\n",
            "Requirement already satisfied: MarkupSafe>=2.0 in /usr/local/lib/python3.10/dist-packages (from jinja2->altair>=4.0.0->lux-api) (2.1.3)\n",
            "Requirement already satisfied: setuptools>=18.5 in /usr/local/lib/python3.10/dist-packages (from ipython>=4.0.0->ipywidgets>=7.5.0->lux-widget>=0.1.4->lux-api) (67.7.2)\n",
            "Requirement already satisfied: jedi>=0.16 in /usr/local/lib/python3.10/dist-packages (from ipython>=4.0.0->ipywidgets>=7.5.0->lux-widget>=0.1.4->lux-api) (0.19.1)\n",
            "Requirement already satisfied: decorator in /usr/local/lib/python3.10/dist-packages (from ipython>=4.0.0->ipywidgets>=7.5.0->lux-widget>=0.1.4->lux-api) (4.4.2)\n",
            "Requirement already satisfied: pickleshare in /usr/local/lib/python3.10/dist-packages (from ipython>=4.0.0->ipywidgets>=7.5.0->lux-widget>=0.1.4->lux-api) (0.7.5)\n",
            "Requirement already satisfied: prompt-toolkit!=3.0.0,!=3.0.1,<3.1.0,>=2.0.0 in /usr/local/lib/python3.10/dist-packages (from ipython>=4.0.0->ipywidgets>=7.5.0->lux-widget>=0.1.4->lux-api) (3.0.39)\n",
            "Requirement already satisfied: pygments in /usr/local/lib/python3.10/dist-packages (from ipython>=4.0.0->ipywidgets>=7.5.0->lux-widget>=0.1.4->lux-api) (2.16.1)\n",
            "Requirement already satisfied: backcall in /usr/local/lib/python3.10/dist-packages (from ipython>=4.0.0->ipywidgets>=7.5.0->lux-widget>=0.1.4->lux-api) (0.2.0)\n",
            "Requirement already satisfied: matplotlib-inline in /usr/local/lib/python3.10/dist-packages (from ipython>=4.0.0->ipywidgets>=7.5.0->lux-widget>=0.1.4->lux-api) (0.1.6)\n",
            "Requirement already satisfied: pexpect>4.3 in /usr/local/lib/python3.10/dist-packages (from ipython>=4.0.0->ipywidgets>=7.5.0->lux-widget>=0.1.4->lux-api) (4.8.0)\n",
            "Requirement already satisfied: platformdirs>=2.5 in /usr/local/lib/python3.10/dist-packages (from jupyter-core>=4.6.1->notebook>=4.0.0->lux-widget>=0.1.4->lux-api) (3.11.0)\n",
            "Requirement already satisfied: jupyter-server>=1.8 in /usr/local/lib/python3.10/dist-packages (from nbclassic>=0.4.7->notebook>=4.0.0->lux-widget>=0.1.4->lux-api) (1.24.0)\n",
            "Requirement already satisfied: notebook-shim>=0.2.3 in /usr/local/lib/python3.10/dist-packages (from nbclassic>=0.4.7->notebook>=4.0.0->lux-widget>=0.1.4->lux-api) (0.2.3)\n",
            "Requirement already satisfied: lxml in /usr/local/lib/python3.10/dist-packages (from nbconvert>=5->notebook>=4.0.0->lux-widget>=0.1.4->lux-api) (4.9.3)\n",
            "Requirement already satisfied: beautifulsoup4 in /usr/local/lib/python3.10/dist-packages (from nbconvert>=5->notebook>=4.0.0->lux-widget>=0.1.4->lux-api) (4.11.2)\n",
            "Requirement already satisfied: bleach in /usr/local/lib/python3.10/dist-packages (from nbconvert>=5->notebook>=4.0.0->lux-widget>=0.1.4->lux-api) (6.1.0)\n",
            "Requirement already satisfied: defusedxml in /usr/local/lib/python3.10/dist-packages (from nbconvert>=5->notebook>=4.0.0->lux-widget>=0.1.4->lux-api) (0.7.1)\n",
            "Requirement already satisfied: jupyterlab-pygments in /usr/local/lib/python3.10/dist-packages (from nbconvert>=5->notebook>=4.0.0->lux-widget>=0.1.4->lux-api) (0.2.2)\n",
            "Requirement already satisfied: mistune<2,>=0.8.1 in /usr/local/lib/python3.10/dist-packages (from nbconvert>=5->notebook>=4.0.0->lux-widget>=0.1.4->lux-api) (0.8.4)\n",
            "Requirement already satisfied: nbclient>=0.5.0 in /usr/local/lib/python3.10/dist-packages (from nbconvert>=5->notebook>=4.0.0->lux-widget>=0.1.4->lux-api) (0.9.0)\n",
            "Requirement already satisfied: pandocfilters>=1.4.1 in /usr/local/lib/python3.10/dist-packages (from nbconvert>=5->notebook>=4.0.0->lux-widget>=0.1.4->lux-api) (1.5.0)\n",
            "Requirement already satisfied: tinycss2 in /usr/local/lib/python3.10/dist-packages (from nbconvert>=5->notebook>=4.0.0->lux-widget>=0.1.4->lux-api) (1.2.1)\n",
            "Requirement already satisfied: fastjsonschema in /usr/local/lib/python3.10/dist-packages (from nbformat->notebook>=4.0.0->lux-widget>=0.1.4->lux-api) (2.18.1)\n",
            "Requirement already satisfied: ptyprocess in /usr/local/lib/python3.10/dist-packages (from terminado>=0.8.3->notebook>=4.0.0->lux-widget>=0.1.4->lux-api) (0.7.0)\n",
            "Requirement already satisfied: argon2-cffi-bindings in /usr/local/lib/python3.10/dist-packages (from argon2-cffi->notebook>=4.0.0->lux-widget>=0.1.4->lux-api) (21.2.0)\n",
            "Requirement already satisfied: parso<0.9.0,>=0.8.3 in /usr/local/lib/python3.10/dist-packages (from jedi>=0.16->ipython>=4.0.0->ipywidgets>=7.5.0->lux-widget>=0.1.4->lux-api) (0.8.3)\n",
            "Requirement already satisfied: anyio<4,>=3.1.0 in /usr/local/lib/python3.10/dist-packages (from jupyter-server>=1.8->nbclassic>=0.4.7->notebook>=4.0.0->lux-widget>=0.1.4->lux-api) (3.7.1)\n",
            "Requirement already satisfied: websocket-client in /usr/local/lib/python3.10/dist-packages (from jupyter-server>=1.8->nbclassic>=0.4.7->notebook>=4.0.0->lux-widget>=0.1.4->lux-api) (1.6.4)\n",
            "Requirement already satisfied: wcwidth in /usr/local/lib/python3.10/dist-packages (from prompt-toolkit!=3.0.0,!=3.0.1,<3.1.0,>=2.0.0->ipython>=4.0.0->ipywidgets>=7.5.0->lux-widget>=0.1.4->lux-api) (0.2.9)\n",
            "Requirement already satisfied: cffi>=1.0.1 in /usr/local/lib/python3.10/dist-packages (from argon2-cffi-bindings->argon2-cffi->notebook>=4.0.0->lux-widget>=0.1.4->lux-api) (1.16.0)\n",
            "Requirement already satisfied: soupsieve>1.2 in /usr/local/lib/python3.10/dist-packages (from beautifulsoup4->nbconvert>=5->notebook>=4.0.0->lux-widget>=0.1.4->lux-api) (2.5)\n",
            "Requirement already satisfied: webencodings in /usr/local/lib/python3.10/dist-packages (from bleach->nbconvert>=5->notebook>=4.0.0->lux-widget>=0.1.4->lux-api) (0.5.1)\n",
            "Requirement already satisfied: idna>=2.8 in /usr/local/lib/python3.10/dist-packages (from anyio<4,>=3.1.0->jupyter-server>=1.8->nbclassic>=0.4.7->notebook>=4.0.0->lux-widget>=0.1.4->lux-api) (3.4)\n",
            "Requirement already satisfied: sniffio>=1.1 in /usr/local/lib/python3.10/dist-packages (from anyio<4,>=3.1.0->jupyter-server>=1.8->nbclassic>=0.4.7->notebook>=4.0.0->lux-widget>=0.1.4->lux-api) (1.3.0)\n",
            "Requirement already satisfied: exceptiongroup in /usr/local/lib/python3.10/dist-packages (from anyio<4,>=3.1.0->jupyter-server>=1.8->nbclassic>=0.4.7->notebook>=4.0.0->lux-widget>=0.1.4->lux-api) (1.1.3)\n",
            "Requirement already satisfied: pycparser in /usr/local/lib/python3.10/dist-packages (from cffi>=1.0.1->argon2-cffi-bindings->argon2-cffi->notebook>=4.0.0->lux-widget>=0.1.4->lux-api) (2.21)\n"
          ]
        }
      ],
      "source": [
        "!pip install lux-api"
      ]
    },
    {
      "cell_type": "markdown",
      "source": [
        "###**Import the dataset from the link in giithub into google colab**"
      ],
      "metadata": {
        "id": "Vv2pl-t4sYzX"
      }
    },
    {
      "cell_type": "code",
      "source": [
        "import pandas as pd\n",
        "import lux\n",
        "\n",
        "# Load your dataset into a pandas DataFrame\n",
        "url = 'https://raw.githubusercontent.com/MoH-Malaysia/covid19-public/main/vaccination/vax_demog_highrisk.csv'\n",
        "df = pd.read_csv(url)"
      ],
      "metadata": {
        "id": "60d1h7UXj-iV",
        "colab": {
          "base_uri": "https://localhost:8080/",
          "height": 649,
          "referenced_widgets": [
            "8f95cd9bdde741da8eec4178990fe3bf",
            "b9d9f89f4c1049999557aa97c22df287",
            "5dffc0c9ff364ba4b37988628d2e61a6",
            "e6eadea803a64456a946449e81aba6db",
            "8daa084c734f43f18a895fa4c2d9733e",
            "10e13f6bda57472baf6b9b09ad8afdd6"
          ]
        },
        "outputId": "30c4be67-fd62-4ca2-869f-245a08728b26"
      },
      "execution_count": 18,
      "outputs": [
        {
          "output_type": "display_data",
          "data": {
            "text/plain": [
              "Button(description='Toggle Pandas/Lux', layout=Layout(top='5px', width='140px'), style=ButtonStyle())"
            ],
            "application/vnd.jupyter.widget-view+json": {
              "version_major": 2,
              "version_minor": 0,
              "model_id": "8f95cd9bdde741da8eec4178990fe3bf"
            }
          },
          "metadata": {}
        },
        {
          "output_type": "display_data",
          "data": {
            "text/plain": [
              "Output()"
            ],
            "application/vnd.jupyter.widget-view+json": {
              "version_major": 2,
              "version_minor": 0,
              "model_id": "e6eadea803a64456a946449e81aba6db"
            }
          },
          "metadata": {}
        }
      ]
    },
    {
      "cell_type": "markdown",
      "source": [
        "###**Changing the date variable into a specific format for the graph design**"
      ],
      "metadata": {
        "id": "8hmN99BEuI-9"
      }
    },
    {
      "cell_type": "code",
      "source": [
        "df['date'] = pd.to_datetime(df['date'], format='%Y-%m-%d')"
      ],
      "metadata": {
        "id": "0pT-B5xtuIJu"
      },
      "execution_count": null,
      "outputs": []
    },
    {
      "cell_type": "markdown",
      "source": [
        "###**Enabling custom widget in Lux** (Automatic graph designer)"
      ],
      "metadata": {
        "id": "DpwFAAxcssgY"
      }
    },
    {
      "cell_type": "code",
      "source": [
        "from google.colab import output\n",
        "output.enable_custom_widget_manager()"
      ],
      "metadata": {
        "id": "cARm_r6GnQO1"
      },
      "execution_count": 21,
      "outputs": []
    },
    {
      "cell_type": "markdown",
      "source": [
        "### **Activate Lux widget for the DataFrame and calling the data**"
      ],
      "metadata": {
        "id": "sus8LTYgsh5-"
      }
    },
    {
      "cell_type": "code",
      "source": [
        "lux.config.default_display = \"lux\"\n",
        "df"
      ],
      "metadata": {
        "colab": {
          "base_uri": "https://localhost:8080/",
          "height": 1000,
          "referenced_widgets": [
            "f0637404c34a43ed9806de41ae8f2bcc",
            "3fada00700b14faaa2e5b62337282294",
            "3673c4b60b454079963e472f833fc648",
            "948a61728b30436a8283cb4200ffa877",
            "54d7fae8986748ac889a48e4d3c44ae3",
            "8daa084c734f43f18a895fa4c2d9733e",
            "9f4c86ec3dec4d259523030f8ffcebe3"
          ]
        },
        "id": "C_1CHkoYnQO_",
        "outputId": "283dd1bc-0b8c-4374-ba48-d47d81756bbc"
      },
      "execution_count": 22,
      "outputs": [
        {
          "output_type": "display_data",
          "data": {
            "text/plain": [
              "Button(description='Toggle Pandas/Lux', layout=Layout(top='5px', width='140px'), style=ButtonStyle())"
            ],
            "application/vnd.jupyter.widget-view+json": {
              "version_major": 2,
              "version_minor": 0,
              "model_id": "f0637404c34a43ed9806de41ae8f2bcc"
            }
          },
          "metadata": {
            "application/vnd.jupyter.widget-view+json": {
              "colab": {
                "custom_widget_manager": {
                  "url": "https://ssl.gstatic.com/colaboratory-static/widgets/colab-cdn-widget-manager/b3e629b1971e1542/manager.min.js"
                }
              }
            }
          }
        },
        {
          "output_type": "display_data",
          "data": {
            "text/plain": [
              "Output()"
            ],
            "application/vnd.jupyter.widget-view+json": {
              "version_major": 2,
              "version_minor": 0,
              "model_id": "948a61728b30436a8283cb4200ffa877"
            }
          },
          "metadata": {
            "application/vnd.jupyter.widget-view+json": {
              "colab": {
                "custom_widget_manager": {
                  "url": "https://ssl.gstatic.com/colaboratory-static/widgets/colab-cdn-widget-manager/b3e629b1971e1542/manager.min.js"
                }
              }
            }
          }
        },
        {
          "output_type": "error",
          "ename": "ValueError",
          "evalue": "ignored",
          "traceback": [
            "\u001b[0;31m---------------------------------------------------------------------------\u001b[0m",
            "\u001b[0;31mValueError\u001b[0m                                Traceback (most recent call last)",
            "\u001b[0;32m/usr/local/lib/python3.10/dist-packages/ipywidgets/widgets/widget.py\u001b[0m in \u001b[0;36m_handle_msg\u001b[0;34m(self, msg)\u001b[0m\n\u001b[1;32m    754\u001b[0m                 \u001b[0;32mif\u001b[0m \u001b[0;34m'buffer_paths'\u001b[0m \u001b[0;32min\u001b[0m \u001b[0mdata\u001b[0m\u001b[0;34m:\u001b[0m\u001b[0;34m\u001b[0m\u001b[0;34m\u001b[0m\u001b[0m\n\u001b[1;32m    755\u001b[0m                     \u001b[0m_put_buffers\u001b[0m\u001b[0;34m(\u001b[0m\u001b[0mstate\u001b[0m\u001b[0;34m,\u001b[0m \u001b[0mdata\u001b[0m\u001b[0;34m[\u001b[0m\u001b[0;34m'buffer_paths'\u001b[0m\u001b[0;34m]\u001b[0m\u001b[0;34m,\u001b[0m \u001b[0mmsg\u001b[0m\u001b[0;34m[\u001b[0m\u001b[0;34m'buffers'\u001b[0m\u001b[0;34m]\u001b[0m\u001b[0;34m)\u001b[0m\u001b[0;34m\u001b[0m\u001b[0;34m\u001b[0m\u001b[0m\n\u001b[0;32m--> 756\u001b[0;31m                 \u001b[0mself\u001b[0m\u001b[0;34m.\u001b[0m\u001b[0mset_state\u001b[0m\u001b[0;34m(\u001b[0m\u001b[0mstate\u001b[0m\u001b[0;34m)\u001b[0m\u001b[0;34m\u001b[0m\u001b[0;34m\u001b[0m\u001b[0m\n\u001b[0m\u001b[1;32m    757\u001b[0m \u001b[0;34m\u001b[0m\u001b[0m\n\u001b[1;32m    758\u001b[0m         \u001b[0;31m# Handle a state request.\u001b[0m\u001b[0;34m\u001b[0m\u001b[0;34m\u001b[0m\u001b[0m\n",
            "\u001b[0;32m/usr/local/lib/python3.10/dist-packages/ipywidgets/widgets/widget.py\u001b[0m in \u001b[0;36mset_state\u001b[0;34m(self, sync_data)\u001b[0m\n\u001b[1;32m    618\u001b[0m         \u001b[0;31m# be locked when the hold_trait_notification context manager is\u001b[0m\u001b[0;34m\u001b[0m\u001b[0;34m\u001b[0m\u001b[0m\n\u001b[1;32m    619\u001b[0m         \u001b[0;31m# released and notifications are fired.\u001b[0m\u001b[0;34m\u001b[0m\u001b[0;34m\u001b[0m\u001b[0m\n\u001b[0;32m--> 620\u001b[0;31m         \u001b[0;32mwith\u001b[0m \u001b[0mself\u001b[0m\u001b[0;34m.\u001b[0m\u001b[0m_lock_property\u001b[0m\u001b[0;34m(\u001b[0m\u001b[0;34m**\u001b[0m\u001b[0msync_data\u001b[0m\u001b[0;34m)\u001b[0m\u001b[0;34m,\u001b[0m \u001b[0mself\u001b[0m\u001b[0;34m.\u001b[0m\u001b[0mhold_trait_notifications\u001b[0m\u001b[0;34m(\u001b[0m\u001b[0;34m)\u001b[0m\u001b[0;34m:\u001b[0m\u001b[0;34m\u001b[0m\u001b[0;34m\u001b[0m\u001b[0m\n\u001b[0m\u001b[1;32m    621\u001b[0m             \u001b[0;32mfor\u001b[0m \u001b[0mname\u001b[0m \u001b[0;32min\u001b[0m \u001b[0msync_data\u001b[0m\u001b[0;34m:\u001b[0m\u001b[0;34m\u001b[0m\u001b[0;34m\u001b[0m\u001b[0m\n\u001b[1;32m    622\u001b[0m                 \u001b[0;32mif\u001b[0m \u001b[0mname\u001b[0m \u001b[0;32min\u001b[0m \u001b[0mself\u001b[0m\u001b[0;34m.\u001b[0m\u001b[0mkeys\u001b[0m\u001b[0;34m:\u001b[0m\u001b[0;34m\u001b[0m\u001b[0;34m\u001b[0m\u001b[0m\n",
            "\u001b[0;32m/usr/lib/python3.10/contextlib.py\u001b[0m in \u001b[0;36m__exit__\u001b[0;34m(self, typ, value, traceback)\u001b[0m\n\u001b[1;32m    140\u001b[0m         \u001b[0;32mif\u001b[0m \u001b[0mtyp\u001b[0m \u001b[0;32mis\u001b[0m \u001b[0;32mNone\u001b[0m\u001b[0;34m:\u001b[0m\u001b[0;34m\u001b[0m\u001b[0;34m\u001b[0m\u001b[0m\n\u001b[1;32m    141\u001b[0m             \u001b[0;32mtry\u001b[0m\u001b[0;34m:\u001b[0m\u001b[0;34m\u001b[0m\u001b[0;34m\u001b[0m\u001b[0m\n\u001b[0;32m--> 142\u001b[0;31m                 \u001b[0mnext\u001b[0m\u001b[0;34m(\u001b[0m\u001b[0mself\u001b[0m\u001b[0;34m.\u001b[0m\u001b[0mgen\u001b[0m\u001b[0;34m)\u001b[0m\u001b[0;34m\u001b[0m\u001b[0;34m\u001b[0m\u001b[0m\n\u001b[0m\u001b[1;32m    143\u001b[0m             \u001b[0;32mexcept\u001b[0m \u001b[0mStopIteration\u001b[0m\u001b[0;34m:\u001b[0m\u001b[0;34m\u001b[0m\u001b[0;34m\u001b[0m\u001b[0m\n\u001b[1;32m    144\u001b[0m                 \u001b[0;32mreturn\u001b[0m \u001b[0;32mFalse\u001b[0m\u001b[0;34m\u001b[0m\u001b[0;34m\u001b[0m\u001b[0m\n",
            "\u001b[0;32m/usr/local/lib/python3.10/dist-packages/traitlets/traitlets.py\u001b[0m in \u001b[0;36mhold_trait_notifications\u001b[0;34m(self)\u001b[0m\n\u001b[1;32m   1496\u001b[0m                 \u001b[0;32mfor\u001b[0m \u001b[0mchanges\u001b[0m \u001b[0;32min\u001b[0m \u001b[0mcache\u001b[0m\u001b[0;34m.\u001b[0m\u001b[0mvalues\u001b[0m\u001b[0;34m(\u001b[0m\u001b[0;34m)\u001b[0m\u001b[0;34m:\u001b[0m\u001b[0;34m\u001b[0m\u001b[0;34m\u001b[0m\u001b[0m\n\u001b[1;32m   1497\u001b[0m                     \u001b[0;32mfor\u001b[0m \u001b[0mchange\u001b[0m \u001b[0;32min\u001b[0m \u001b[0mchanges\u001b[0m\u001b[0;34m:\u001b[0m\u001b[0;34m\u001b[0m\u001b[0;34m\u001b[0m\u001b[0m\n\u001b[0;32m-> 1498\u001b[0;31m                         \u001b[0mself\u001b[0m\u001b[0;34m.\u001b[0m\u001b[0mnotify_change\u001b[0m\u001b[0;34m(\u001b[0m\u001b[0mchange\u001b[0m\u001b[0;34m)\u001b[0m\u001b[0;34m\u001b[0m\u001b[0;34m\u001b[0m\u001b[0m\n\u001b[0m\u001b[1;32m   1499\u001b[0m \u001b[0;34m\u001b[0m\u001b[0m\n\u001b[1;32m   1500\u001b[0m     \u001b[0;32mdef\u001b[0m \u001b[0m_notify_trait\u001b[0m\u001b[0;34m(\u001b[0m\u001b[0mself\u001b[0m\u001b[0;34m,\u001b[0m \u001b[0mname\u001b[0m\u001b[0;34m,\u001b[0m \u001b[0mold_value\u001b[0m\u001b[0;34m,\u001b[0m \u001b[0mnew_value\u001b[0m\u001b[0;34m)\u001b[0m\u001b[0;34m:\u001b[0m\u001b[0;34m\u001b[0m\u001b[0;34m\u001b[0m\u001b[0m\n",
            "\u001b[0;32m/usr/local/lib/python3.10/dist-packages/ipywidgets/widgets/widget.py\u001b[0m in \u001b[0;36mnotify_change\u001b[0;34m(self, change)\u001b[0m\n\u001b[1;32m    684\u001b[0m                 \u001b[0;31m# Send new state to front-end\u001b[0m\u001b[0;34m\u001b[0m\u001b[0;34m\u001b[0m\u001b[0m\n\u001b[1;32m    685\u001b[0m                 \u001b[0mself\u001b[0m\u001b[0;34m.\u001b[0m\u001b[0msend_state\u001b[0m\u001b[0;34m(\u001b[0m\u001b[0mkey\u001b[0m\u001b[0;34m=\u001b[0m\u001b[0mname\u001b[0m\u001b[0;34m)\u001b[0m\u001b[0;34m\u001b[0m\u001b[0;34m\u001b[0m\u001b[0m\n\u001b[0;32m--> 686\u001b[0;31m         \u001b[0msuper\u001b[0m\u001b[0;34m(\u001b[0m\u001b[0mWidget\u001b[0m\u001b[0;34m,\u001b[0m \u001b[0mself\u001b[0m\u001b[0;34m)\u001b[0m\u001b[0;34m.\u001b[0m\u001b[0mnotify_change\u001b[0m\u001b[0;34m(\u001b[0m\u001b[0mchange\u001b[0m\u001b[0;34m)\u001b[0m\u001b[0;34m\u001b[0m\u001b[0;34m\u001b[0m\u001b[0m\n\u001b[0m\u001b[1;32m    687\u001b[0m \u001b[0;34m\u001b[0m\u001b[0m\n\u001b[1;32m    688\u001b[0m     \u001b[0;32mdef\u001b[0m \u001b[0m__repr__\u001b[0m\u001b[0;34m(\u001b[0m\u001b[0mself\u001b[0m\u001b[0;34m)\u001b[0m\u001b[0;34m:\u001b[0m\u001b[0;34m\u001b[0m\u001b[0;34m\u001b[0m\u001b[0m\n",
            "\u001b[0;32m/usr/local/lib/python3.10/dist-packages/traitlets/traitlets.py\u001b[0m in \u001b[0;36mnotify_change\u001b[0;34m(self, change)\u001b[0m\n\u001b[1;32m   1511\u001b[0m     \u001b[0;32mdef\u001b[0m \u001b[0mnotify_change\u001b[0m\u001b[0;34m(\u001b[0m\u001b[0mself\u001b[0m\u001b[0;34m,\u001b[0m \u001b[0mchange\u001b[0m\u001b[0;34m)\u001b[0m\u001b[0;34m:\u001b[0m\u001b[0;34m\u001b[0m\u001b[0;34m\u001b[0m\u001b[0m\n\u001b[1;32m   1512\u001b[0m         \u001b[0;34m\"\"\"Notify observers of a change event\"\"\"\u001b[0m\u001b[0;34m\u001b[0m\u001b[0;34m\u001b[0m\u001b[0m\n\u001b[0;32m-> 1513\u001b[0;31m         \u001b[0;32mreturn\u001b[0m \u001b[0mself\u001b[0m\u001b[0;34m.\u001b[0m\u001b[0m_notify_observers\u001b[0m\u001b[0;34m(\u001b[0m\u001b[0mchange\u001b[0m\u001b[0;34m)\u001b[0m\u001b[0;34m\u001b[0m\u001b[0;34m\u001b[0m\u001b[0m\n\u001b[0m\u001b[1;32m   1514\u001b[0m \u001b[0;34m\u001b[0m\u001b[0m\n\u001b[1;32m   1515\u001b[0m     \u001b[0;32mdef\u001b[0m \u001b[0m_notify_observers\u001b[0m\u001b[0;34m(\u001b[0m\u001b[0mself\u001b[0m\u001b[0;34m,\u001b[0m \u001b[0mevent\u001b[0m\u001b[0;34m)\u001b[0m\u001b[0;34m:\u001b[0m\u001b[0;34m\u001b[0m\u001b[0;34m\u001b[0m\u001b[0m\n",
            "\u001b[0;32m/usr/local/lib/python3.10/dist-packages/traitlets/traitlets.py\u001b[0m in \u001b[0;36m_notify_observers\u001b[0;34m(self, event)\u001b[0m\n\u001b[1;32m   1558\u001b[0m                 \u001b[0mc\u001b[0m \u001b[0;34m=\u001b[0m \u001b[0mgetattr\u001b[0m\u001b[0;34m(\u001b[0m\u001b[0mself\u001b[0m\u001b[0;34m,\u001b[0m \u001b[0mc\u001b[0m\u001b[0;34m.\u001b[0m\u001b[0mname\u001b[0m\u001b[0;34m)\u001b[0m\u001b[0;34m\u001b[0m\u001b[0;34m\u001b[0m\u001b[0m\n\u001b[1;32m   1559\u001b[0m \u001b[0;34m\u001b[0m\u001b[0m\n\u001b[0;32m-> 1560\u001b[0;31m             \u001b[0mc\u001b[0m\u001b[0;34m(\u001b[0m\u001b[0mevent\u001b[0m\u001b[0;34m)\u001b[0m\u001b[0;34m\u001b[0m\u001b[0;34m\u001b[0m\u001b[0m\n\u001b[0m\u001b[1;32m   1561\u001b[0m \u001b[0;34m\u001b[0m\u001b[0m\n\u001b[1;32m   1562\u001b[0m     \u001b[0;32mdef\u001b[0m \u001b[0m_add_notifiers\u001b[0m\u001b[0;34m(\u001b[0m\u001b[0mself\u001b[0m\u001b[0;34m,\u001b[0m \u001b[0mhandler\u001b[0m\u001b[0;34m,\u001b[0m \u001b[0mname\u001b[0m\u001b[0;34m,\u001b[0m \u001b[0mtype\u001b[0m\u001b[0;34m)\u001b[0m\u001b[0;34m:\u001b[0m\u001b[0;34m\u001b[0m\u001b[0;34m\u001b[0m\u001b[0m\n",
            "\u001b[0;32m/usr/local/lib/python3.10/dist-packages/lux/core/frame.py\u001b[0m in \u001b[0;36mset_intent_on_click\u001b[0;34m(self, change)\u001b[0m\n\u001b[1;32m    559\u001b[0m         \u001b[0mself\u001b[0m\u001b[0;34m.\u001b[0m\u001b[0mmaintain_metadata\u001b[0m\u001b[0;34m(\u001b[0m\u001b[0;34m)\u001b[0m\u001b[0;34m\u001b[0m\u001b[0;34m\u001b[0m\u001b[0m\n\u001b[1;32m    560\u001b[0m         \u001b[0mself\u001b[0m\u001b[0;34m.\u001b[0m\u001b[0mcurrent_vis\u001b[0m \u001b[0;34m=\u001b[0m \u001b[0mCompiler\u001b[0m\u001b[0;34m.\u001b[0m\u001b[0mcompile_intent\u001b[0m\u001b[0;34m(\u001b[0m\u001b[0mself\u001b[0m\u001b[0;34m,\u001b[0m \u001b[0mself\u001b[0m\u001b[0;34m.\u001b[0m\u001b[0m_intent\u001b[0m\u001b[0;34m)\u001b[0m\u001b[0;34m\u001b[0m\u001b[0;34m\u001b[0m\u001b[0m\n\u001b[0;32m--> 561\u001b[0;31m         \u001b[0mself\u001b[0m\u001b[0;34m.\u001b[0m\u001b[0mmaintain_recs\u001b[0m\u001b[0;34m(\u001b[0m\u001b[0;34m)\u001b[0m\u001b[0;34m\u001b[0m\u001b[0;34m\u001b[0m\u001b[0m\n\u001b[0m\u001b[1;32m    562\u001b[0m \u001b[0;34m\u001b[0m\u001b[0m\n\u001b[1;32m    563\u001b[0m         \u001b[0;32mwith\u001b[0m \u001b[0mself\u001b[0m\u001b[0;34m.\u001b[0m\u001b[0moutput\u001b[0m\u001b[0;34m:\u001b[0m\u001b[0;34m\u001b[0m\u001b[0;34m\u001b[0m\u001b[0m\n",
            "\u001b[0;32m/usr/local/lib/python3.10/dist-packages/lux/core/frame.py\u001b[0m in \u001b[0;36mmaintain_recs\u001b[0;34m(self, is_series)\u001b[0m\n\u001b[1;32m    434\u001b[0m \u001b[0;34m\u001b[0m\u001b[0m\n\u001b[1;32m    435\u001b[0m                 \u001b[0;31m# generate vis from globally registered actions and append to dataframe\u001b[0m\u001b[0;34m\u001b[0m\u001b[0;34m\u001b[0m\u001b[0m\n\u001b[0;32m--> 436\u001b[0;31m                 \u001b[0mcustom_action_collection\u001b[0m \u001b[0;34m=\u001b[0m \u001b[0mcustom_actions\u001b[0m\u001b[0;34m(\u001b[0m\u001b[0mrec_df\u001b[0m\u001b[0;34m)\u001b[0m\u001b[0;34m\u001b[0m\u001b[0;34m\u001b[0m\u001b[0m\n\u001b[0m\u001b[1;32m    437\u001b[0m                 \u001b[0;32mfor\u001b[0m \u001b[0mrec\u001b[0m \u001b[0;32min\u001b[0m \u001b[0mcustom_action_collection\u001b[0m\u001b[0;34m:\u001b[0m\u001b[0;34m\u001b[0m\u001b[0;34m\u001b[0m\u001b[0m\n\u001b[1;32m    438\u001b[0m                     \u001b[0mrec_df\u001b[0m\u001b[0;34m.\u001b[0m\u001b[0m_append_rec\u001b[0m\u001b[0;34m(\u001b[0m\u001b[0mrec_infolist\u001b[0m\u001b[0;34m,\u001b[0m \u001b[0mrec\u001b[0m\u001b[0;34m)\u001b[0m\u001b[0;34m\u001b[0m\u001b[0;34m\u001b[0m\u001b[0m\n",
            "\u001b[0;32m/usr/local/lib/python3.10/dist-packages/lux/action/custom.py\u001b[0m in \u001b[0;36mcustom_actions\u001b[0;34m(ldf)\u001b[0m\n\u001b[1;32m     74\u001b[0m                     \u001b[0mrecommendation\u001b[0m \u001b[0;34m=\u001b[0m \u001b[0mlux\u001b[0m\u001b[0;34m.\u001b[0m\u001b[0mconfig\u001b[0m\u001b[0;34m.\u001b[0m\u001b[0mactions\u001b[0m\u001b[0;34m[\u001b[0m\u001b[0maction_name\u001b[0m\u001b[0;34m]\u001b[0m\u001b[0;34m.\u001b[0m\u001b[0maction\u001b[0m\u001b[0;34m(\u001b[0m\u001b[0mldf\u001b[0m\u001b[0;34m,\u001b[0m \u001b[0margs\u001b[0m\u001b[0;34m)\u001b[0m\u001b[0;34m\u001b[0m\u001b[0;34m\u001b[0m\u001b[0m\n\u001b[1;32m     75\u001b[0m                 \u001b[0;32melse\u001b[0m\u001b[0;34m:\u001b[0m\u001b[0;34m\u001b[0m\u001b[0;34m\u001b[0m\u001b[0m\n\u001b[0;32m---> 76\u001b[0;31m                     \u001b[0mrecommendation\u001b[0m \u001b[0;34m=\u001b[0m \u001b[0mlux\u001b[0m\u001b[0;34m.\u001b[0m\u001b[0mconfig\u001b[0m\u001b[0;34m.\u001b[0m\u001b[0mactions\u001b[0m\u001b[0;34m[\u001b[0m\u001b[0maction_name\u001b[0m\u001b[0;34m]\u001b[0m\u001b[0;34m.\u001b[0m\u001b[0maction\u001b[0m\u001b[0;34m(\u001b[0m\u001b[0mldf\u001b[0m\u001b[0;34m)\u001b[0m\u001b[0;34m\u001b[0m\u001b[0;34m\u001b[0m\u001b[0m\n\u001b[0m\u001b[1;32m     77\u001b[0m                 \u001b[0mrecommendations\u001b[0m\u001b[0;34m.\u001b[0m\u001b[0mappend\u001b[0m\u001b[0;34m(\u001b[0m\u001b[0mrecommendation\u001b[0m\u001b[0;34m)\u001b[0m\u001b[0;34m\u001b[0m\u001b[0;34m\u001b[0m\u001b[0m\n\u001b[1;32m     78\u001b[0m         \u001b[0;32mreturn\u001b[0m \u001b[0mrecommendations\u001b[0m\u001b[0;34m\u001b[0m\u001b[0;34m\u001b[0m\u001b[0m\n",
            "\u001b[0;32m/usr/local/lib/python3.10/dist-packages/lux/action/enhance.py\u001b[0m in \u001b[0;36menhance\u001b[0;34m(ldf)\u001b[0m\n\u001b[1;32m     63\u001b[0m     \u001b[0mintent\u001b[0m \u001b[0;34m=\u001b[0m \u001b[0mfilters\u001b[0m \u001b[0;34m+\u001b[0m \u001b[0mattr_specs\u001b[0m\u001b[0;34m\u001b[0m\u001b[0;34m\u001b[0m\u001b[0m\n\u001b[1;32m     64\u001b[0m     \u001b[0mintent\u001b[0m\u001b[0;34m.\u001b[0m\u001b[0mappend\u001b[0m\u001b[0;34m(\u001b[0m\u001b[0;34m\"?\"\u001b[0m\u001b[0;34m)\u001b[0m\u001b[0;34m\u001b[0m\u001b[0;34m\u001b[0m\u001b[0m\n\u001b[0;32m---> 65\u001b[0;31m     \u001b[0mvlist\u001b[0m \u001b[0;34m=\u001b[0m \u001b[0mlux\u001b[0m\u001b[0;34m.\u001b[0m\u001b[0mvis\u001b[0m\u001b[0;34m.\u001b[0m\u001b[0mVisList\u001b[0m\u001b[0;34m.\u001b[0m\u001b[0mVisList\u001b[0m\u001b[0;34m(\u001b[0m\u001b[0mintent\u001b[0m\u001b[0;34m,\u001b[0m \u001b[0mldf\u001b[0m\u001b[0;34m)\u001b[0m\u001b[0;34m\u001b[0m\u001b[0;34m\u001b[0m\u001b[0m\n\u001b[0m\u001b[1;32m     66\u001b[0m \u001b[0;34m\u001b[0m\u001b[0m\n\u001b[1;32m     67\u001b[0m     \u001b[0;31m# Then use the data populated in the vis list to compute score\u001b[0m\u001b[0;34m\u001b[0m\u001b[0;34m\u001b[0m\u001b[0m\n",
            "\u001b[0;32m/usr/local/lib/python3.10/dist-packages/lux/vis/VisList.py\u001b[0m in \u001b[0;36m__init__\u001b[0;34m(self, input_lst, source)\u001b[0m\n\u001b[1;32m     41\u001b[0m             \u001b[0mself\u001b[0m\u001b[0;34m.\u001b[0m\u001b[0m_intent\u001b[0m \u001b[0;34m=\u001b[0m \u001b[0;34m[\u001b[0m\u001b[0;34m]\u001b[0m\u001b[0;34m\u001b[0m\u001b[0;34m\u001b[0m\u001b[0m\n\u001b[1;32m     42\u001b[0m         \u001b[0mself\u001b[0m\u001b[0;34m.\u001b[0m\u001b[0m_widget\u001b[0m \u001b[0;34m=\u001b[0m \u001b[0;32mNone\u001b[0m\u001b[0;34m\u001b[0m\u001b[0;34m\u001b[0m\u001b[0m\n\u001b[0;32m---> 43\u001b[0;31m         \u001b[0mself\u001b[0m\u001b[0;34m.\u001b[0m\u001b[0mrefresh_source\u001b[0m\u001b[0;34m(\u001b[0m\u001b[0mself\u001b[0m\u001b[0;34m.\u001b[0m\u001b[0m_source\u001b[0m\u001b[0;34m)\u001b[0m\u001b[0;34m\u001b[0m\u001b[0;34m\u001b[0m\u001b[0m\n\u001b[0m\u001b[1;32m     44\u001b[0m         \u001b[0mwarnings\u001b[0m\u001b[0;34m.\u001b[0m\u001b[0mformatwarning\u001b[0m \u001b[0;34m=\u001b[0m \u001b[0mlux\u001b[0m\u001b[0;34m.\u001b[0m\u001b[0mwarning_format\u001b[0m\u001b[0;34m\u001b[0m\u001b[0;34m\u001b[0m\u001b[0m\n\u001b[1;32m     45\u001b[0m \u001b[0;34m\u001b[0m\u001b[0m\n",
            "\u001b[0;32m/usr/local/lib/python3.10/dist-packages/lux/vis/VisList.py\u001b[0m in \u001b[0;36mrefresh_source\u001b[0;34m(self, ldf)\u001b[0m\n\u001b[1;32m    334\u001b[0m                     )\n\u001b[1;32m    335\u001b[0m                     \u001b[0mapprox\u001b[0m \u001b[0;34m=\u001b[0m \u001b[0;32mTrue\u001b[0m\u001b[0;34m\u001b[0m\u001b[0;34m\u001b[0m\u001b[0m\n\u001b[0;32m--> 336\u001b[0;31m                 \u001b[0mlux\u001b[0m\u001b[0;34m.\u001b[0m\u001b[0mconfig\u001b[0m\u001b[0;34m.\u001b[0m\u001b[0mexecutor\u001b[0m\u001b[0;34m.\u001b[0m\u001b[0mexecute\u001b[0m\u001b[0;34m(\u001b[0m\u001b[0mself\u001b[0m\u001b[0;34m.\u001b[0m\u001b[0m_collection\u001b[0m\u001b[0;34m,\u001b[0m \u001b[0mldf\u001b[0m\u001b[0;34m,\u001b[0m \u001b[0mapprox\u001b[0m\u001b[0;34m=\u001b[0m\u001b[0mapprox\u001b[0m\u001b[0;34m)\u001b[0m\u001b[0;34m\u001b[0m\u001b[0;34m\u001b[0m\u001b[0m\n\u001b[0m",
            "\u001b[0;32m/usr/local/lib/python3.10/dist-packages/lux/executor/PandasExecutor.py\u001b[0m in \u001b[0;36mexecute\u001b[0;34m(vislist, ldf, approx)\u001b[0m\n\u001b[1;32m    136\u001b[0m \u001b[0;34m\u001b[0m\u001b[0m\n\u001b[1;32m    137\u001b[0m             \u001b[0;32mif\u001b[0m \u001b[0mvis\u001b[0m\u001b[0;34m.\u001b[0m\u001b[0mmark\u001b[0m \u001b[0;34m==\u001b[0m \u001b[0;34m\"bar\"\u001b[0m \u001b[0;32mor\u001b[0m \u001b[0mvis\u001b[0m\u001b[0;34m.\u001b[0m\u001b[0mmark\u001b[0m \u001b[0;34m==\u001b[0m \u001b[0;34m\"line\"\u001b[0m \u001b[0;32mor\u001b[0m \u001b[0mvis\u001b[0m\u001b[0;34m.\u001b[0m\u001b[0mmark\u001b[0m \u001b[0;34m==\u001b[0m \u001b[0;34m\"geographical\"\u001b[0m\u001b[0;34m:\u001b[0m\u001b[0;34m\u001b[0m\u001b[0;34m\u001b[0m\u001b[0m\n\u001b[0;32m--> 138\u001b[0;31m                 \u001b[0mPandasExecutor\u001b[0m\u001b[0;34m.\u001b[0m\u001b[0mexecute_aggregate\u001b[0m\u001b[0;34m(\u001b[0m\u001b[0mvis\u001b[0m\u001b[0;34m,\u001b[0m \u001b[0misFiltered\u001b[0m\u001b[0;34m=\u001b[0m\u001b[0mfilter_executed\u001b[0m\u001b[0;34m)\u001b[0m\u001b[0;34m\u001b[0m\u001b[0;34m\u001b[0m\u001b[0m\n\u001b[0m\u001b[1;32m    139\u001b[0m             \u001b[0;32melif\u001b[0m \u001b[0mvis\u001b[0m\u001b[0;34m.\u001b[0m\u001b[0mmark\u001b[0m \u001b[0;34m==\u001b[0m \u001b[0;34m\"histogram\"\u001b[0m\u001b[0;34m:\u001b[0m\u001b[0;34m\u001b[0m\u001b[0;34m\u001b[0m\u001b[0m\n\u001b[1;32m    140\u001b[0m                 \u001b[0mPandasExecutor\u001b[0m\u001b[0;34m.\u001b[0m\u001b[0mexecute_binning\u001b[0m\u001b[0;34m(\u001b[0m\u001b[0mldf\u001b[0m\u001b[0;34m,\u001b[0m \u001b[0mvis\u001b[0m\u001b[0;34m)\u001b[0m\u001b[0;34m\u001b[0m\u001b[0;34m\u001b[0m\u001b[0m\n",
            "\u001b[0;32m/usr/local/lib/python3.10/dist-packages/lux/executor/PandasExecutor.py\u001b[0m in \u001b[0;36mexecute_aggregate\u001b[0;34m(vis, isFiltered)\u001b[0m\n\u001b[1;32m    235\u001b[0m                     \u001b[0;32mif\u001b[0m \u001b[0mhas_color\u001b[0m\u001b[0;34m:\u001b[0m\u001b[0;34m\u001b[0m\u001b[0;34m\u001b[0m\u001b[0m\n\u001b[1;32m    236\u001b[0m                         \u001b[0mdf\u001b[0m \u001b[0;34m=\u001b[0m \u001b[0mpd\u001b[0m\u001b[0;34m.\u001b[0m\u001b[0mDataFrame\u001b[0m\u001b[0;34m(\u001b[0m\u001b[0;34m{\u001b[0m\u001b[0mcolumns\u001b[0m\u001b[0;34m[\u001b[0m\u001b[0;36m0\u001b[0m\u001b[0;34m]\u001b[0m\u001b[0;34m:\u001b[0m \u001b[0mattr_unique_vals\u001b[0m \u001b[0;34m*\u001b[0m \u001b[0mcolor_cardinality\u001b[0m\u001b[0;34m,\u001b[0m\u001b[0mcolumns\u001b[0m\u001b[0;34m[\u001b[0m\u001b[0;36m1\u001b[0m\u001b[0;34m]\u001b[0m\u001b[0;34m:\u001b[0m \u001b[0mpd\u001b[0m\u001b[0;34m.\u001b[0m\u001b[0mSeries\u001b[0m\u001b[0;34m(\u001b[0m\u001b[0mcolor_attr_vals\u001b[0m\u001b[0;34m)\u001b[0m\u001b[0;34m.\u001b[0m\u001b[0mrepeat\u001b[0m\u001b[0;34m(\u001b[0m\u001b[0mN_unique_vals\u001b[0m\u001b[0;34m)\u001b[0m\u001b[0;34m,\u001b[0m\u001b[0;34m}\u001b[0m\u001b[0;34m)\u001b[0m\u001b[0;34m\u001b[0m\u001b[0;34m\u001b[0m\u001b[0m\n\u001b[0;32m--> 237\u001b[0;31m                         \u001b[0mvis\u001b[0m\u001b[0;34m.\u001b[0m\u001b[0m_vis_data\u001b[0m \u001b[0;34m=\u001b[0m \u001b[0mvis\u001b[0m\u001b[0;34m.\u001b[0m\u001b[0mdata\u001b[0m\u001b[0;34m.\u001b[0m\u001b[0mmerge\u001b[0m\u001b[0;34m(\u001b[0m\u001b[0mdf\u001b[0m\u001b[0;34m,\u001b[0m\u001b[0mon\u001b[0m\u001b[0;34m=\u001b[0m\u001b[0;34m[\u001b[0m\u001b[0mcolumns\u001b[0m\u001b[0;34m[\u001b[0m\u001b[0;36m0\u001b[0m\u001b[0;34m]\u001b[0m\u001b[0;34m,\u001b[0m \u001b[0mcolumns\u001b[0m\u001b[0;34m[\u001b[0m\u001b[0;36m1\u001b[0m\u001b[0;34m]\u001b[0m\u001b[0;34m]\u001b[0m\u001b[0;34m,\u001b[0m\u001b[0mhow\u001b[0m\u001b[0;34m=\u001b[0m\u001b[0;34m\"right\"\u001b[0m\u001b[0;34m,\u001b[0m\u001b[0msuffixes\u001b[0m\u001b[0;34m=\u001b[0m\u001b[0;34m[\u001b[0m\u001b[0;34m\"\"\u001b[0m\u001b[0;34m,\u001b[0m \u001b[0;34m\"_right\"\u001b[0m\u001b[0;34m]\u001b[0m\u001b[0;34m,\u001b[0m\u001b[0;34m)\u001b[0m\u001b[0;34m\u001b[0m\u001b[0;34m\u001b[0m\u001b[0m\n\u001b[0m\u001b[1;32m    238\u001b[0m                         \u001b[0;32mfor\u001b[0m \u001b[0mcol\u001b[0m \u001b[0;32min\u001b[0m \u001b[0mcolumns\u001b[0m\u001b[0;34m[\u001b[0m\u001b[0;36m2\u001b[0m\u001b[0;34m:\u001b[0m\u001b[0;34m]\u001b[0m\u001b[0;34m:\u001b[0m\u001b[0;34m\u001b[0m\u001b[0;34m\u001b[0m\u001b[0m\n\u001b[1;32m    239\u001b[0m                             \u001b[0;31m# Triggers __setitem__\u001b[0m\u001b[0;34m\u001b[0m\u001b[0;34m\u001b[0m\u001b[0m\n",
            "\u001b[0;32m/usr/local/lib/python3.10/dist-packages/pandas/core/frame.py\u001b[0m in \u001b[0;36mmerge\u001b[0;34m(self, right, how, on, left_on, right_on, left_index, right_index, sort, suffixes, copy, indicator, validate)\u001b[0m\n\u001b[1;32m  10091\u001b[0m         \u001b[0;32mfrom\u001b[0m \u001b[0mpandas\u001b[0m\u001b[0;34m.\u001b[0m\u001b[0mcore\u001b[0m\u001b[0;34m.\u001b[0m\u001b[0mreshape\u001b[0m\u001b[0;34m.\u001b[0m\u001b[0mmerge\u001b[0m \u001b[0;32mimport\u001b[0m \u001b[0mmerge\u001b[0m\u001b[0;34m\u001b[0m\u001b[0;34m\u001b[0m\u001b[0m\n\u001b[1;32m  10092\u001b[0m \u001b[0;34m\u001b[0m\u001b[0m\n\u001b[0;32m> 10093\u001b[0;31m         return merge(\n\u001b[0m\u001b[1;32m  10094\u001b[0m             \u001b[0mself\u001b[0m\u001b[0;34m,\u001b[0m\u001b[0;34m\u001b[0m\u001b[0;34m\u001b[0m\u001b[0m\n\u001b[1;32m  10095\u001b[0m             \u001b[0mright\u001b[0m\u001b[0;34m,\u001b[0m\u001b[0;34m\u001b[0m\u001b[0;34m\u001b[0m\u001b[0m\n",
            "\u001b[0;32m/usr/local/lib/python3.10/dist-packages/pandas/core/reshape/merge.py\u001b[0m in \u001b[0;36mmerge\u001b[0;34m(left, right, how, on, left_on, right_on, left_index, right_index, sort, suffixes, copy, indicator, validate)\u001b[0m\n\u001b[1;32m    122\u001b[0m         \u001b[0mvalidate\u001b[0m\u001b[0;34m=\u001b[0m\u001b[0mvalidate\u001b[0m\u001b[0;34m,\u001b[0m\u001b[0;34m\u001b[0m\u001b[0;34m\u001b[0m\u001b[0m\n\u001b[1;32m    123\u001b[0m     )\n\u001b[0;32m--> 124\u001b[0;31m     \u001b[0;32mreturn\u001b[0m \u001b[0mop\u001b[0m\u001b[0;34m.\u001b[0m\u001b[0mget_result\u001b[0m\u001b[0;34m(\u001b[0m\u001b[0mcopy\u001b[0m\u001b[0;34m=\u001b[0m\u001b[0mcopy\u001b[0m\u001b[0;34m)\u001b[0m\u001b[0;34m\u001b[0m\u001b[0;34m\u001b[0m\u001b[0m\n\u001b[0m\u001b[1;32m    125\u001b[0m \u001b[0;34m\u001b[0m\u001b[0m\n\u001b[1;32m    126\u001b[0m \u001b[0;34m\u001b[0m\u001b[0m\n",
            "\u001b[0;32m/usr/local/lib/python3.10/dist-packages/pandas/core/reshape/merge.py\u001b[0m in \u001b[0;36mget_result\u001b[0;34m(self, copy)\u001b[0m\n\u001b[1;32m    781\u001b[0m             \u001b[0mresult\u001b[0m \u001b[0;34m=\u001b[0m \u001b[0mself\u001b[0m\u001b[0;34m.\u001b[0m\u001b[0m_indicator_post_merge\u001b[0m\u001b[0;34m(\u001b[0m\u001b[0mresult\u001b[0m\u001b[0;34m)\u001b[0m\u001b[0;34m\u001b[0m\u001b[0;34m\u001b[0m\u001b[0m\n\u001b[1;32m    782\u001b[0m \u001b[0;34m\u001b[0m\u001b[0m\n\u001b[0;32m--> 783\u001b[0;31m         \u001b[0mself\u001b[0m\u001b[0;34m.\u001b[0m\u001b[0m_maybe_add_join_keys\u001b[0m\u001b[0;34m(\u001b[0m\u001b[0mresult\u001b[0m\u001b[0;34m,\u001b[0m \u001b[0mleft_indexer\u001b[0m\u001b[0;34m,\u001b[0m \u001b[0mright_indexer\u001b[0m\u001b[0;34m)\u001b[0m\u001b[0;34m\u001b[0m\u001b[0;34m\u001b[0m\u001b[0m\n\u001b[0m\u001b[1;32m    784\u001b[0m \u001b[0;34m\u001b[0m\u001b[0m\n\u001b[1;32m    785\u001b[0m         \u001b[0mself\u001b[0m\u001b[0;34m.\u001b[0m\u001b[0m_maybe_restore_index_levels\u001b[0m\u001b[0;34m(\u001b[0m\u001b[0mresult\u001b[0m\u001b[0;34m)\u001b[0m\u001b[0;34m\u001b[0m\u001b[0;34m\u001b[0m\u001b[0m\n",
            "\u001b[0;32m/usr/local/lib/python3.10/dist-packages/pandas/core/reshape/merge.py\u001b[0m in \u001b[0;36m_maybe_add_join_keys\u001b[0;34m(self, result, left_indexer, right_indexer)\u001b[0m\n\u001b[1;32m    977\u001b[0m \u001b[0;34m\u001b[0m\u001b[0m\n\u001b[1;32m    978\u001b[0m                 \u001b[0;32mif\u001b[0m \u001b[0mresult\u001b[0m\u001b[0;34m.\u001b[0m\u001b[0m_is_label_reference\u001b[0m\u001b[0;34m(\u001b[0m\u001b[0mname\u001b[0m\u001b[0;34m)\u001b[0m\u001b[0;34m:\u001b[0m\u001b[0;34m\u001b[0m\u001b[0;34m\u001b[0m\u001b[0m\n\u001b[0;32m--> 979\u001b[0;31m                     result[name] = Series(\n\u001b[0m\u001b[1;32m    980\u001b[0m                         \u001b[0mkey_col\u001b[0m\u001b[0;34m,\u001b[0m \u001b[0mdtype\u001b[0m\u001b[0;34m=\u001b[0m\u001b[0mresult_dtype\u001b[0m\u001b[0;34m,\u001b[0m \u001b[0mindex\u001b[0m\u001b[0;34m=\u001b[0m\u001b[0mresult\u001b[0m\u001b[0;34m.\u001b[0m\u001b[0mindex\u001b[0m\u001b[0;34m\u001b[0m\u001b[0;34m\u001b[0m\u001b[0m\n\u001b[1;32m    981\u001b[0m                     )\n",
            "\u001b[0;32m/usr/local/lib/python3.10/dist-packages/pandas/core/frame.py\u001b[0m in \u001b[0;36m__setitem__\u001b[0;34m(self, key, value)\u001b[0m\n\u001b[1;32m   3978\u001b[0m         \u001b[0;32melse\u001b[0m\u001b[0;34m:\u001b[0m\u001b[0;34m\u001b[0m\u001b[0;34m\u001b[0m\u001b[0m\n\u001b[1;32m   3979\u001b[0m             \u001b[0;31m# set column\u001b[0m\u001b[0;34m\u001b[0m\u001b[0;34m\u001b[0m\u001b[0m\n\u001b[0;32m-> 3980\u001b[0;31m             \u001b[0mself\u001b[0m\u001b[0;34m.\u001b[0m\u001b[0m_set_item\u001b[0m\u001b[0;34m(\u001b[0m\u001b[0mkey\u001b[0m\u001b[0;34m,\u001b[0m \u001b[0mvalue\u001b[0m\u001b[0;34m)\u001b[0m\u001b[0;34m\u001b[0m\u001b[0;34m\u001b[0m\u001b[0m\n\u001b[0m\u001b[1;32m   3981\u001b[0m \u001b[0;34m\u001b[0m\u001b[0m\n\u001b[1;32m   3982\u001b[0m     \u001b[0;32mdef\u001b[0m \u001b[0m_setitem_slice\u001b[0m\u001b[0;34m(\u001b[0m\u001b[0mself\u001b[0m\u001b[0;34m,\u001b[0m \u001b[0mkey\u001b[0m\u001b[0;34m:\u001b[0m \u001b[0mslice\u001b[0m\u001b[0;34m,\u001b[0m \u001b[0mvalue\u001b[0m\u001b[0;34m)\u001b[0m\u001b[0;34m:\u001b[0m\u001b[0;34m\u001b[0m\u001b[0;34m\u001b[0m\u001b[0m\n",
            "\u001b[0;32m/usr/local/lib/python3.10/dist-packages/lux/core/frame.py\u001b[0m in \u001b[0;36m_set_item\u001b[0;34m(self, key, value)\u001b[0m\n\u001b[1;32m    191\u001b[0m \u001b[0;34m\u001b[0m\u001b[0m\n\u001b[1;32m    192\u001b[0m     \u001b[0;32mdef\u001b[0m \u001b[0m_set_item\u001b[0m\u001b[0;34m(\u001b[0m\u001b[0mself\u001b[0m\u001b[0;34m,\u001b[0m \u001b[0mkey\u001b[0m\u001b[0;34m,\u001b[0m \u001b[0mvalue\u001b[0m\u001b[0;34m)\u001b[0m\u001b[0;34m:\u001b[0m\u001b[0;34m\u001b[0m\u001b[0;34m\u001b[0m\u001b[0m\n\u001b[0;32m--> 193\u001b[0;31m         \u001b[0msuper\u001b[0m\u001b[0;34m(\u001b[0m\u001b[0mLuxDataFrame\u001b[0m\u001b[0;34m,\u001b[0m \u001b[0mself\u001b[0m\u001b[0;34m)\u001b[0m\u001b[0;34m.\u001b[0m\u001b[0m_set_item\u001b[0m\u001b[0;34m(\u001b[0m\u001b[0mkey\u001b[0m\u001b[0;34m,\u001b[0m \u001b[0mvalue\u001b[0m\u001b[0;34m)\u001b[0m\u001b[0;34m\u001b[0m\u001b[0;34m\u001b[0m\u001b[0m\n\u001b[0m\u001b[1;32m    194\u001b[0m         \u001b[0mself\u001b[0m\u001b[0;34m.\u001b[0m\u001b[0mexpire_metadata\u001b[0m\u001b[0;34m(\u001b[0m\u001b[0;34m)\u001b[0m\u001b[0;34m\u001b[0m\u001b[0;34m\u001b[0m\u001b[0m\n\u001b[1;32m    195\u001b[0m         \u001b[0mself\u001b[0m\u001b[0;34m.\u001b[0m\u001b[0mexpire_recs\u001b[0m\u001b[0;34m(\u001b[0m\u001b[0;34m)\u001b[0m\u001b[0;34m\u001b[0m\u001b[0;34m\u001b[0m\u001b[0m\n",
            "\u001b[0;32m/usr/local/lib/python3.10/dist-packages/pandas/core/frame.py\u001b[0m in \u001b[0;36m_set_item\u001b[0;34m(self, key, value)\u001b[0m\n\u001b[1;32m   4172\u001b[0m         \u001b[0mensure\u001b[0m \u001b[0mhomogeneity\u001b[0m\u001b[0;34m.\u001b[0m\u001b[0;34m\u001b[0m\u001b[0;34m\u001b[0m\u001b[0m\n\u001b[1;32m   4173\u001b[0m         \"\"\"\n\u001b[0;32m-> 4174\u001b[0;31m         \u001b[0mvalue\u001b[0m \u001b[0;34m=\u001b[0m \u001b[0mself\u001b[0m\u001b[0;34m.\u001b[0m\u001b[0m_sanitize_column\u001b[0m\u001b[0;34m(\u001b[0m\u001b[0mvalue\u001b[0m\u001b[0;34m)\u001b[0m\u001b[0;34m\u001b[0m\u001b[0;34m\u001b[0m\u001b[0m\n\u001b[0m\u001b[1;32m   4175\u001b[0m \u001b[0;34m\u001b[0m\u001b[0m\n\u001b[1;32m   4176\u001b[0m         if (\n",
            "\u001b[0;32m/usr/local/lib/python3.10/dist-packages/pandas/core/frame.py\u001b[0m in \u001b[0;36m_sanitize_column\u001b[0;34m(self, value)\u001b[0m\n\u001b[1;32m   4910\u001b[0m             \u001b[0;32mreturn\u001b[0m \u001b[0m_reindex_for_setitem\u001b[0m\u001b[0;34m(\u001b[0m\u001b[0mvalue\u001b[0m\u001b[0;34m,\u001b[0m \u001b[0mself\u001b[0m\u001b[0;34m.\u001b[0m\u001b[0mindex\u001b[0m\u001b[0;34m)\u001b[0m\u001b[0;34m\u001b[0m\u001b[0;34m\u001b[0m\u001b[0m\n\u001b[1;32m   4911\u001b[0m         \u001b[0;32melif\u001b[0m \u001b[0mis_dict_like\u001b[0m\u001b[0;34m(\u001b[0m\u001b[0mvalue\u001b[0m\u001b[0;34m)\u001b[0m\u001b[0;34m:\u001b[0m\u001b[0;34m\u001b[0m\u001b[0;34m\u001b[0m\u001b[0m\n\u001b[0;32m-> 4912\u001b[0;31m             \u001b[0;32mreturn\u001b[0m \u001b[0m_reindex_for_setitem\u001b[0m\u001b[0;34m(\u001b[0m\u001b[0mSeries\u001b[0m\u001b[0;34m(\u001b[0m\u001b[0mvalue\u001b[0m\u001b[0;34m)\u001b[0m\u001b[0;34m,\u001b[0m \u001b[0mself\u001b[0m\u001b[0;34m.\u001b[0m\u001b[0mindex\u001b[0m\u001b[0;34m)\u001b[0m\u001b[0;34m\u001b[0m\u001b[0;34m\u001b[0m\u001b[0m\n\u001b[0m\u001b[1;32m   4913\u001b[0m \u001b[0;34m\u001b[0m\u001b[0m\n\u001b[1;32m   4914\u001b[0m         \u001b[0;32mif\u001b[0m \u001b[0mis_list_like\u001b[0m\u001b[0;34m(\u001b[0m\u001b[0mvalue\u001b[0m\u001b[0;34m)\u001b[0m\u001b[0;34m:\u001b[0m\u001b[0;34m\u001b[0m\u001b[0;34m\u001b[0m\u001b[0m\n",
            "\u001b[0;32m/usr/local/lib/python3.10/dist-packages/pandas/core/series.py\u001b[0m in \u001b[0;36m__init__\u001b[0;34m(self, data, index, dtype, name, copy, fastpath)\u001b[0m\n\u001b[1;32m    434\u001b[0m                 \u001b[0mdata\u001b[0m \u001b[0;34m=\u001b[0m \u001b[0mdata\u001b[0m\u001b[0;34m.\u001b[0m\u001b[0m_mgr\u001b[0m\u001b[0;34m\u001b[0m\u001b[0;34m\u001b[0m\u001b[0m\n\u001b[1;32m    435\u001b[0m             \u001b[0;32melif\u001b[0m \u001b[0mis_dict_like\u001b[0m\u001b[0;34m(\u001b[0m\u001b[0mdata\u001b[0m\u001b[0;34m)\u001b[0m\u001b[0;34m:\u001b[0m\u001b[0;34m\u001b[0m\u001b[0;34m\u001b[0m\u001b[0m\n\u001b[0;32m--> 436\u001b[0;31m                 \u001b[0mdata\u001b[0m\u001b[0;34m,\u001b[0m \u001b[0mindex\u001b[0m \u001b[0;34m=\u001b[0m \u001b[0mself\u001b[0m\u001b[0;34m.\u001b[0m\u001b[0m_init_dict\u001b[0m\u001b[0;34m(\u001b[0m\u001b[0mdata\u001b[0m\u001b[0;34m,\u001b[0m \u001b[0mindex\u001b[0m\u001b[0;34m,\u001b[0m \u001b[0mdtype\u001b[0m\u001b[0;34m)\u001b[0m\u001b[0;34m\u001b[0m\u001b[0;34m\u001b[0m\u001b[0m\n\u001b[0m\u001b[1;32m    437\u001b[0m                 \u001b[0mdtype\u001b[0m \u001b[0;34m=\u001b[0m \u001b[0;32mNone\u001b[0m\u001b[0;34m\u001b[0m\u001b[0;34m\u001b[0m\u001b[0m\n\u001b[1;32m    438\u001b[0m                 \u001b[0mcopy\u001b[0m \u001b[0;34m=\u001b[0m \u001b[0;32mFalse\u001b[0m\u001b[0;34m\u001b[0m\u001b[0;34m\u001b[0m\u001b[0m\n",
            "\u001b[0;32m/usr/local/lib/python3.10/dist-packages/pandas/core/series.py\u001b[0m in \u001b[0;36m_init_dict\u001b[0;34m(self, data, index, dtype)\u001b[0m\n\u001b[1;32m    509\u001b[0m         \u001b[0;31m# Looking for NaN in dict doesn't work ({np.nan : 1}[float('nan')]\u001b[0m\u001b[0;34m\u001b[0m\u001b[0;34m\u001b[0m\u001b[0m\n\u001b[1;32m    510\u001b[0m         \u001b[0;31m# raises KeyError), so we iterate the entire dict, and align\u001b[0m\u001b[0;34m\u001b[0m\u001b[0;34m\u001b[0m\u001b[0m\n\u001b[0;32m--> 511\u001b[0;31m         \u001b[0;32mif\u001b[0m \u001b[0mdata\u001b[0m\u001b[0;34m:\u001b[0m\u001b[0;34m\u001b[0m\u001b[0;34m\u001b[0m\u001b[0m\n\u001b[0m\u001b[1;32m    512\u001b[0m             \u001b[0;31m# GH:34717, issue was using zip to extract key and values from data.\u001b[0m\u001b[0;34m\u001b[0m\u001b[0;34m\u001b[0m\u001b[0m\n\u001b[1;32m    513\u001b[0m             \u001b[0;31m# using generators in effects the performance.\u001b[0m\u001b[0;34m\u001b[0m\u001b[0;34m\u001b[0m\u001b[0m\n",
            "\u001b[0;32m/usr/local/lib/python3.10/dist-packages/pandas/core/generic.py\u001b[0m in \u001b[0;36m__nonzero__\u001b[0;34m(self)\u001b[0m\n\u001b[1;32m   1525\u001b[0m     \u001b[0;34m@\u001b[0m\u001b[0mfinal\u001b[0m\u001b[0;34m\u001b[0m\u001b[0;34m\u001b[0m\u001b[0m\n\u001b[1;32m   1526\u001b[0m     \u001b[0;32mdef\u001b[0m \u001b[0m__nonzero__\u001b[0m\u001b[0;34m(\u001b[0m\u001b[0mself\u001b[0m\u001b[0;34m)\u001b[0m \u001b[0;34m->\u001b[0m \u001b[0mNoReturn\u001b[0m\u001b[0;34m:\u001b[0m\u001b[0;34m\u001b[0m\u001b[0;34m\u001b[0m\u001b[0m\n\u001b[0;32m-> 1527\u001b[0;31m         raise ValueError(\n\u001b[0m\u001b[1;32m   1528\u001b[0m             \u001b[0;34mf\"The truth value of a {type(self).__name__} is ambiguous. \"\u001b[0m\u001b[0;34m\u001b[0m\u001b[0;34m\u001b[0m\u001b[0m\n\u001b[1;32m   1529\u001b[0m             \u001b[0;34m\"Use a.empty, a.bool(), a.item(), a.any() or a.all().\"\u001b[0m\u001b[0;34m\u001b[0m\u001b[0;34m\u001b[0m\u001b[0m\n",
            "\u001b[0;31mValueError\u001b[0m: The truth value of a Series is ambiguous. Use a.empty, a.bool(), a.item(), a.any() or a.all()."
          ]
        },
        {
          "output_type": "error",
          "ename": "AttributeError",
          "evalue": "ignored",
          "traceback": [
            "\u001b[0;31m---------------------------------------------------------------------------\u001b[0m",
            "\u001b[0;31mAttributeError\u001b[0m                            Traceback (most recent call last)",
            "\u001b[0;32m/usr/local/lib/python3.10/dist-packages/ipywidgets/widgets/widget.py\u001b[0m in \u001b[0;36m_handle_msg\u001b[0;34m(self, msg)\u001b[0m\n\u001b[1;32m    754\u001b[0m                 \u001b[0;32mif\u001b[0m \u001b[0;34m'buffer_paths'\u001b[0m \u001b[0;32min\u001b[0m \u001b[0mdata\u001b[0m\u001b[0;34m:\u001b[0m\u001b[0;34m\u001b[0m\u001b[0;34m\u001b[0m\u001b[0m\n\u001b[1;32m    755\u001b[0m                     \u001b[0m_put_buffers\u001b[0m\u001b[0;34m(\u001b[0m\u001b[0mstate\u001b[0m\u001b[0;34m,\u001b[0m \u001b[0mdata\u001b[0m\u001b[0;34m[\u001b[0m\u001b[0;34m'buffer_paths'\u001b[0m\u001b[0;34m]\u001b[0m\u001b[0;34m,\u001b[0m \u001b[0mmsg\u001b[0m\u001b[0;34m[\u001b[0m\u001b[0;34m'buffers'\u001b[0m\u001b[0;34m]\u001b[0m\u001b[0;34m)\u001b[0m\u001b[0;34m\u001b[0m\u001b[0;34m\u001b[0m\u001b[0m\n\u001b[0;32m--> 756\u001b[0;31m                 \u001b[0mself\u001b[0m\u001b[0;34m.\u001b[0m\u001b[0mset_state\u001b[0m\u001b[0;34m(\u001b[0m\u001b[0mstate\u001b[0m\u001b[0;34m)\u001b[0m\u001b[0;34m\u001b[0m\u001b[0;34m\u001b[0m\u001b[0m\n\u001b[0m\u001b[1;32m    757\u001b[0m \u001b[0;34m\u001b[0m\u001b[0m\n\u001b[1;32m    758\u001b[0m         \u001b[0;31m# Handle a state request.\u001b[0m\u001b[0;34m\u001b[0m\u001b[0;34m\u001b[0m\u001b[0m\n",
            "\u001b[0;32m/usr/local/lib/python3.10/dist-packages/ipywidgets/widgets/widget.py\u001b[0m in \u001b[0;36mset_state\u001b[0;34m(self, sync_data)\u001b[0m\n\u001b[1;32m    618\u001b[0m         \u001b[0;31m# be locked when the hold_trait_notification context manager is\u001b[0m\u001b[0;34m\u001b[0m\u001b[0;34m\u001b[0m\u001b[0m\n\u001b[1;32m    619\u001b[0m         \u001b[0;31m# released and notifications are fired.\u001b[0m\u001b[0;34m\u001b[0m\u001b[0;34m\u001b[0m\u001b[0m\n\u001b[0;32m--> 620\u001b[0;31m         \u001b[0;32mwith\u001b[0m \u001b[0mself\u001b[0m\u001b[0;34m.\u001b[0m\u001b[0m_lock_property\u001b[0m\u001b[0;34m(\u001b[0m\u001b[0;34m**\u001b[0m\u001b[0msync_data\u001b[0m\u001b[0;34m)\u001b[0m\u001b[0;34m,\u001b[0m \u001b[0mself\u001b[0m\u001b[0;34m.\u001b[0m\u001b[0mhold_trait_notifications\u001b[0m\u001b[0;34m(\u001b[0m\u001b[0;34m)\u001b[0m\u001b[0;34m:\u001b[0m\u001b[0;34m\u001b[0m\u001b[0;34m\u001b[0m\u001b[0m\n\u001b[0m\u001b[1;32m    621\u001b[0m             \u001b[0;32mfor\u001b[0m \u001b[0mname\u001b[0m \u001b[0;32min\u001b[0m \u001b[0msync_data\u001b[0m\u001b[0;34m:\u001b[0m\u001b[0;34m\u001b[0m\u001b[0;34m\u001b[0m\u001b[0m\n\u001b[1;32m    622\u001b[0m                 \u001b[0;32mif\u001b[0m \u001b[0mname\u001b[0m \u001b[0;32min\u001b[0m \u001b[0mself\u001b[0m\u001b[0;34m.\u001b[0m\u001b[0mkeys\u001b[0m\u001b[0;34m:\u001b[0m\u001b[0;34m\u001b[0m\u001b[0;34m\u001b[0m\u001b[0m\n",
            "\u001b[0;32m/usr/lib/python3.10/contextlib.py\u001b[0m in \u001b[0;36m__exit__\u001b[0;34m(self, typ, value, traceback)\u001b[0m\n\u001b[1;32m    140\u001b[0m         \u001b[0;32mif\u001b[0m \u001b[0mtyp\u001b[0m \u001b[0;32mis\u001b[0m \u001b[0;32mNone\u001b[0m\u001b[0;34m:\u001b[0m\u001b[0;34m\u001b[0m\u001b[0;34m\u001b[0m\u001b[0m\n\u001b[1;32m    141\u001b[0m             \u001b[0;32mtry\u001b[0m\u001b[0;34m:\u001b[0m\u001b[0;34m\u001b[0m\u001b[0;34m\u001b[0m\u001b[0m\n\u001b[0;32m--> 142\u001b[0;31m                 \u001b[0mnext\u001b[0m\u001b[0;34m(\u001b[0m\u001b[0mself\u001b[0m\u001b[0;34m.\u001b[0m\u001b[0mgen\u001b[0m\u001b[0;34m)\u001b[0m\u001b[0;34m\u001b[0m\u001b[0;34m\u001b[0m\u001b[0m\n\u001b[0m\u001b[1;32m    143\u001b[0m             \u001b[0;32mexcept\u001b[0m \u001b[0mStopIteration\u001b[0m\u001b[0;34m:\u001b[0m\u001b[0;34m\u001b[0m\u001b[0;34m\u001b[0m\u001b[0m\n\u001b[1;32m    144\u001b[0m                 \u001b[0;32mreturn\u001b[0m \u001b[0;32mFalse\u001b[0m\u001b[0;34m\u001b[0m\u001b[0;34m\u001b[0m\u001b[0m\n",
            "\u001b[0;32m/usr/local/lib/python3.10/dist-packages/traitlets/traitlets.py\u001b[0m in \u001b[0;36mhold_trait_notifications\u001b[0;34m(self)\u001b[0m\n\u001b[1;32m   1496\u001b[0m                 \u001b[0;32mfor\u001b[0m \u001b[0mchanges\u001b[0m \u001b[0;32min\u001b[0m \u001b[0mcache\u001b[0m\u001b[0;34m.\u001b[0m\u001b[0mvalues\u001b[0m\u001b[0;34m(\u001b[0m\u001b[0;34m)\u001b[0m\u001b[0;34m:\u001b[0m\u001b[0;34m\u001b[0m\u001b[0;34m\u001b[0m\u001b[0m\n\u001b[1;32m   1497\u001b[0m                     \u001b[0;32mfor\u001b[0m \u001b[0mchange\u001b[0m \u001b[0;32min\u001b[0m \u001b[0mchanges\u001b[0m\u001b[0;34m:\u001b[0m\u001b[0;34m\u001b[0m\u001b[0;34m\u001b[0m\u001b[0m\n\u001b[0;32m-> 1498\u001b[0;31m                         \u001b[0mself\u001b[0m\u001b[0;34m.\u001b[0m\u001b[0mnotify_change\u001b[0m\u001b[0;34m(\u001b[0m\u001b[0mchange\u001b[0m\u001b[0;34m)\u001b[0m\u001b[0;34m\u001b[0m\u001b[0;34m\u001b[0m\u001b[0m\n\u001b[0m\u001b[1;32m   1499\u001b[0m \u001b[0;34m\u001b[0m\u001b[0m\n\u001b[1;32m   1500\u001b[0m     \u001b[0;32mdef\u001b[0m \u001b[0m_notify_trait\u001b[0m\u001b[0;34m(\u001b[0m\u001b[0mself\u001b[0m\u001b[0;34m,\u001b[0m \u001b[0mname\u001b[0m\u001b[0;34m,\u001b[0m \u001b[0mold_value\u001b[0m\u001b[0;34m,\u001b[0m \u001b[0mnew_value\u001b[0m\u001b[0;34m)\u001b[0m\u001b[0;34m:\u001b[0m\u001b[0;34m\u001b[0m\u001b[0;34m\u001b[0m\u001b[0m\n",
            "\u001b[0;32m/usr/local/lib/python3.10/dist-packages/ipywidgets/widgets/widget.py\u001b[0m in \u001b[0;36mnotify_change\u001b[0;34m(self, change)\u001b[0m\n\u001b[1;32m    684\u001b[0m                 \u001b[0;31m# Send new state to front-end\u001b[0m\u001b[0;34m\u001b[0m\u001b[0;34m\u001b[0m\u001b[0m\n\u001b[1;32m    685\u001b[0m                 \u001b[0mself\u001b[0m\u001b[0;34m.\u001b[0m\u001b[0msend_state\u001b[0m\u001b[0;34m(\u001b[0m\u001b[0mkey\u001b[0m\u001b[0;34m=\u001b[0m\u001b[0mname\u001b[0m\u001b[0;34m)\u001b[0m\u001b[0;34m\u001b[0m\u001b[0;34m\u001b[0m\u001b[0m\n\u001b[0;32m--> 686\u001b[0;31m         \u001b[0msuper\u001b[0m\u001b[0;34m(\u001b[0m\u001b[0mWidget\u001b[0m\u001b[0;34m,\u001b[0m \u001b[0mself\u001b[0m\u001b[0;34m)\u001b[0m\u001b[0;34m.\u001b[0m\u001b[0mnotify_change\u001b[0m\u001b[0;34m(\u001b[0m\u001b[0mchange\u001b[0m\u001b[0;34m)\u001b[0m\u001b[0;34m\u001b[0m\u001b[0;34m\u001b[0m\u001b[0m\n\u001b[0m\u001b[1;32m    687\u001b[0m \u001b[0;34m\u001b[0m\u001b[0m\n\u001b[1;32m    688\u001b[0m     \u001b[0;32mdef\u001b[0m \u001b[0m__repr__\u001b[0m\u001b[0;34m(\u001b[0m\u001b[0mself\u001b[0m\u001b[0;34m)\u001b[0m\u001b[0;34m:\u001b[0m\u001b[0;34m\u001b[0m\u001b[0;34m\u001b[0m\u001b[0m\n",
            "\u001b[0;32m/usr/local/lib/python3.10/dist-packages/traitlets/traitlets.py\u001b[0m in \u001b[0;36mnotify_change\u001b[0;34m(self, change)\u001b[0m\n\u001b[1;32m   1511\u001b[0m     \u001b[0;32mdef\u001b[0m \u001b[0mnotify_change\u001b[0m\u001b[0;34m(\u001b[0m\u001b[0mself\u001b[0m\u001b[0;34m,\u001b[0m \u001b[0mchange\u001b[0m\u001b[0;34m)\u001b[0m\u001b[0;34m:\u001b[0m\u001b[0;34m\u001b[0m\u001b[0;34m\u001b[0m\u001b[0m\n\u001b[1;32m   1512\u001b[0m         \u001b[0;34m\"\"\"Notify observers of a change event\"\"\"\u001b[0m\u001b[0;34m\u001b[0m\u001b[0;34m\u001b[0m\u001b[0m\n\u001b[0;32m-> 1513\u001b[0;31m         \u001b[0;32mreturn\u001b[0m \u001b[0mself\u001b[0m\u001b[0;34m.\u001b[0m\u001b[0m_notify_observers\u001b[0m\u001b[0;34m(\u001b[0m\u001b[0mchange\u001b[0m\u001b[0;34m)\u001b[0m\u001b[0;34m\u001b[0m\u001b[0;34m\u001b[0m\u001b[0m\n\u001b[0m\u001b[1;32m   1514\u001b[0m \u001b[0;34m\u001b[0m\u001b[0m\n\u001b[1;32m   1515\u001b[0m     \u001b[0;32mdef\u001b[0m \u001b[0m_notify_observers\u001b[0m\u001b[0;34m(\u001b[0m\u001b[0mself\u001b[0m\u001b[0;34m,\u001b[0m \u001b[0mevent\u001b[0m\u001b[0;34m)\u001b[0m\u001b[0;34m:\u001b[0m\u001b[0;34m\u001b[0m\u001b[0;34m\u001b[0m\u001b[0m\n",
            "\u001b[0;32m/usr/local/lib/python3.10/dist-packages/traitlets/traitlets.py\u001b[0m in \u001b[0;36m_notify_observers\u001b[0;34m(self, event)\u001b[0m\n\u001b[1;32m   1558\u001b[0m                 \u001b[0mc\u001b[0m \u001b[0;34m=\u001b[0m \u001b[0mgetattr\u001b[0m\u001b[0;34m(\u001b[0m\u001b[0mself\u001b[0m\u001b[0;34m,\u001b[0m \u001b[0mc\u001b[0m\u001b[0;34m.\u001b[0m\u001b[0mname\u001b[0m\u001b[0;34m)\u001b[0m\u001b[0;34m\u001b[0m\u001b[0;34m\u001b[0m\u001b[0m\n\u001b[1;32m   1559\u001b[0m \u001b[0;34m\u001b[0m\u001b[0m\n\u001b[0;32m-> 1560\u001b[0;31m             \u001b[0mc\u001b[0m\u001b[0;34m(\u001b[0m\u001b[0mevent\u001b[0m\u001b[0;34m)\u001b[0m\u001b[0;34m\u001b[0m\u001b[0;34m\u001b[0m\u001b[0m\n\u001b[0m\u001b[1;32m   1561\u001b[0m \u001b[0;34m\u001b[0m\u001b[0m\n\u001b[1;32m   1562\u001b[0m     \u001b[0;32mdef\u001b[0m \u001b[0m_add_notifiers\u001b[0m\u001b[0;34m(\u001b[0m\u001b[0mself\u001b[0m\u001b[0;34m,\u001b[0m \u001b[0mhandler\u001b[0m\u001b[0;34m,\u001b[0m \u001b[0mname\u001b[0m\u001b[0;34m,\u001b[0m \u001b[0mtype\u001b[0m\u001b[0;34m)\u001b[0m\u001b[0;34m:\u001b[0m\u001b[0;34m\u001b[0m\u001b[0;34m\u001b[0m\u001b[0m\n",
            "\u001b[0;32m/usr/local/lib/python3.10/dist-packages/lux/core/frame.py\u001b[0m in \u001b[0;36mset_intent_on_click\u001b[0;34m(self, change)\u001b[0m\n\u001b[1;32m    553\u001b[0m         \u001b[0;32mfrom\u001b[0m \u001b[0mlux\u001b[0m\u001b[0;34m.\u001b[0m\u001b[0mprocessor\u001b[0m\u001b[0;34m.\u001b[0m\u001b[0mCompiler\u001b[0m \u001b[0;32mimport\u001b[0m \u001b[0mCompiler\u001b[0m\u001b[0;34m\u001b[0m\u001b[0;34m\u001b[0m\u001b[0m\n\u001b[1;32m    554\u001b[0m \u001b[0;34m\u001b[0m\u001b[0m\n\u001b[0;32m--> 555\u001b[0;31m         \u001b[0mintent_action\u001b[0m \u001b[0;34m=\u001b[0m \u001b[0mlist\u001b[0m\u001b[0;34m(\u001b[0m\u001b[0mself\u001b[0m\u001b[0;34m.\u001b[0m\u001b[0m_widget\u001b[0m\u001b[0;34m.\u001b[0m\u001b[0mselectedIntentIndex\u001b[0m\u001b[0;34m.\u001b[0m\u001b[0mkeys\u001b[0m\u001b[0;34m(\u001b[0m\u001b[0;34m)\u001b[0m\u001b[0;34m)\u001b[0m\u001b[0;34m[\u001b[0m\u001b[0;36m0\u001b[0m\u001b[0;34m]\u001b[0m\u001b[0;34m\u001b[0m\u001b[0;34m\u001b[0m\u001b[0m\n\u001b[0m\u001b[1;32m    556\u001b[0m         \u001b[0mvis\u001b[0m \u001b[0;34m=\u001b[0m \u001b[0mself\u001b[0m\u001b[0;34m.\u001b[0m\u001b[0m_recommendation\u001b[0m\u001b[0;34m[\u001b[0m\u001b[0mintent_action\u001b[0m\u001b[0;34m]\u001b[0m\u001b[0;34m[\u001b[0m\u001b[0mself\u001b[0m\u001b[0;34m.\u001b[0m\u001b[0m_widget\u001b[0m\u001b[0;34m.\u001b[0m\u001b[0mselectedIntentIndex\u001b[0m\u001b[0;34m[\u001b[0m\u001b[0mintent_action\u001b[0m\u001b[0;34m]\u001b[0m\u001b[0;34m[\u001b[0m\u001b[0;36m0\u001b[0m\u001b[0;34m]\u001b[0m\u001b[0;34m]\u001b[0m\u001b[0;34m\u001b[0m\u001b[0;34m\u001b[0m\u001b[0m\n\u001b[1;32m    557\u001b[0m         \u001b[0mself\u001b[0m\u001b[0;34m.\u001b[0m\u001b[0mset_intent_as_vis\u001b[0m\u001b[0;34m(\u001b[0m\u001b[0mvis\u001b[0m\u001b[0;34m)\u001b[0m\u001b[0;34m\u001b[0m\u001b[0;34m\u001b[0m\u001b[0m\n",
            "\u001b[0;31mAttributeError\u001b[0m: 'NoneType' object has no attribute 'selectedIntentIndex'"
          ]
        },
        {
          "output_type": "error",
          "ename": "AttributeError",
          "evalue": "ignored",
          "traceback": [
            "\u001b[0;31m---------------------------------------------------------------------------\u001b[0m",
            "\u001b[0;31mAttributeError\u001b[0m                            Traceback (most recent call last)",
            "\u001b[0;32m/usr/local/lib/python3.10/dist-packages/ipywidgets/widgets/widget.py\u001b[0m in \u001b[0;36m_handle_msg\u001b[0;34m(self, msg)\u001b[0m\n\u001b[1;32m    754\u001b[0m                 \u001b[0;32mif\u001b[0m \u001b[0;34m'buffer_paths'\u001b[0m \u001b[0;32min\u001b[0m \u001b[0mdata\u001b[0m\u001b[0;34m:\u001b[0m\u001b[0;34m\u001b[0m\u001b[0;34m\u001b[0m\u001b[0m\n\u001b[1;32m    755\u001b[0m                     \u001b[0m_put_buffers\u001b[0m\u001b[0;34m(\u001b[0m\u001b[0mstate\u001b[0m\u001b[0;34m,\u001b[0m \u001b[0mdata\u001b[0m\u001b[0;34m[\u001b[0m\u001b[0;34m'buffer_paths'\u001b[0m\u001b[0;34m]\u001b[0m\u001b[0;34m,\u001b[0m \u001b[0mmsg\u001b[0m\u001b[0;34m[\u001b[0m\u001b[0;34m'buffers'\u001b[0m\u001b[0;34m]\u001b[0m\u001b[0;34m)\u001b[0m\u001b[0;34m\u001b[0m\u001b[0;34m\u001b[0m\u001b[0m\n\u001b[0;32m--> 756\u001b[0;31m                 \u001b[0mself\u001b[0m\u001b[0;34m.\u001b[0m\u001b[0mset_state\u001b[0m\u001b[0;34m(\u001b[0m\u001b[0mstate\u001b[0m\u001b[0;34m)\u001b[0m\u001b[0;34m\u001b[0m\u001b[0;34m\u001b[0m\u001b[0m\n\u001b[0m\u001b[1;32m    757\u001b[0m \u001b[0;34m\u001b[0m\u001b[0m\n\u001b[1;32m    758\u001b[0m         \u001b[0;31m# Handle a state request.\u001b[0m\u001b[0;34m\u001b[0m\u001b[0;34m\u001b[0m\u001b[0m\n",
            "\u001b[0;32m/usr/local/lib/python3.10/dist-packages/ipywidgets/widgets/widget.py\u001b[0m in \u001b[0;36mset_state\u001b[0;34m(self, sync_data)\u001b[0m\n\u001b[1;32m    618\u001b[0m         \u001b[0;31m# be locked when the hold_trait_notification context manager is\u001b[0m\u001b[0;34m\u001b[0m\u001b[0;34m\u001b[0m\u001b[0m\n\u001b[1;32m    619\u001b[0m         \u001b[0;31m# released and notifications are fired.\u001b[0m\u001b[0;34m\u001b[0m\u001b[0;34m\u001b[0m\u001b[0m\n\u001b[0;32m--> 620\u001b[0;31m         \u001b[0;32mwith\u001b[0m \u001b[0mself\u001b[0m\u001b[0;34m.\u001b[0m\u001b[0m_lock_property\u001b[0m\u001b[0;34m(\u001b[0m\u001b[0;34m**\u001b[0m\u001b[0msync_data\u001b[0m\u001b[0;34m)\u001b[0m\u001b[0;34m,\u001b[0m \u001b[0mself\u001b[0m\u001b[0;34m.\u001b[0m\u001b[0mhold_trait_notifications\u001b[0m\u001b[0;34m(\u001b[0m\u001b[0;34m)\u001b[0m\u001b[0;34m:\u001b[0m\u001b[0;34m\u001b[0m\u001b[0;34m\u001b[0m\u001b[0m\n\u001b[0m\u001b[1;32m    621\u001b[0m             \u001b[0;32mfor\u001b[0m \u001b[0mname\u001b[0m \u001b[0;32min\u001b[0m \u001b[0msync_data\u001b[0m\u001b[0;34m:\u001b[0m\u001b[0;34m\u001b[0m\u001b[0;34m\u001b[0m\u001b[0m\n\u001b[1;32m    622\u001b[0m                 \u001b[0;32mif\u001b[0m \u001b[0mname\u001b[0m \u001b[0;32min\u001b[0m \u001b[0mself\u001b[0m\u001b[0;34m.\u001b[0m\u001b[0mkeys\u001b[0m\u001b[0;34m:\u001b[0m\u001b[0;34m\u001b[0m\u001b[0;34m\u001b[0m\u001b[0m\n",
            "\u001b[0;32m/usr/lib/python3.10/contextlib.py\u001b[0m in \u001b[0;36m__exit__\u001b[0;34m(self, typ, value, traceback)\u001b[0m\n\u001b[1;32m    140\u001b[0m         \u001b[0;32mif\u001b[0m \u001b[0mtyp\u001b[0m \u001b[0;32mis\u001b[0m \u001b[0;32mNone\u001b[0m\u001b[0;34m:\u001b[0m\u001b[0;34m\u001b[0m\u001b[0;34m\u001b[0m\u001b[0m\n\u001b[1;32m    141\u001b[0m             \u001b[0;32mtry\u001b[0m\u001b[0;34m:\u001b[0m\u001b[0;34m\u001b[0m\u001b[0;34m\u001b[0m\u001b[0m\n\u001b[0;32m--> 142\u001b[0;31m                 \u001b[0mnext\u001b[0m\u001b[0;34m(\u001b[0m\u001b[0mself\u001b[0m\u001b[0;34m.\u001b[0m\u001b[0mgen\u001b[0m\u001b[0;34m)\u001b[0m\u001b[0;34m\u001b[0m\u001b[0;34m\u001b[0m\u001b[0m\n\u001b[0m\u001b[1;32m    143\u001b[0m             \u001b[0;32mexcept\u001b[0m \u001b[0mStopIteration\u001b[0m\u001b[0;34m:\u001b[0m\u001b[0;34m\u001b[0m\u001b[0;34m\u001b[0m\u001b[0m\n\u001b[1;32m    144\u001b[0m                 \u001b[0;32mreturn\u001b[0m \u001b[0;32mFalse\u001b[0m\u001b[0;34m\u001b[0m\u001b[0;34m\u001b[0m\u001b[0m\n",
            "\u001b[0;32m/usr/local/lib/python3.10/dist-packages/traitlets/traitlets.py\u001b[0m in \u001b[0;36mhold_trait_notifications\u001b[0;34m(self)\u001b[0m\n\u001b[1;32m   1496\u001b[0m                 \u001b[0;32mfor\u001b[0m \u001b[0mchanges\u001b[0m \u001b[0;32min\u001b[0m \u001b[0mcache\u001b[0m\u001b[0;34m.\u001b[0m\u001b[0mvalues\u001b[0m\u001b[0;34m(\u001b[0m\u001b[0;34m)\u001b[0m\u001b[0;34m:\u001b[0m\u001b[0;34m\u001b[0m\u001b[0;34m\u001b[0m\u001b[0m\n\u001b[1;32m   1497\u001b[0m                     \u001b[0;32mfor\u001b[0m \u001b[0mchange\u001b[0m \u001b[0;32min\u001b[0m \u001b[0mchanges\u001b[0m\u001b[0;34m:\u001b[0m\u001b[0;34m\u001b[0m\u001b[0;34m\u001b[0m\u001b[0m\n\u001b[0;32m-> 1498\u001b[0;31m                         \u001b[0mself\u001b[0m\u001b[0;34m.\u001b[0m\u001b[0mnotify_change\u001b[0m\u001b[0;34m(\u001b[0m\u001b[0mchange\u001b[0m\u001b[0;34m)\u001b[0m\u001b[0;34m\u001b[0m\u001b[0;34m\u001b[0m\u001b[0m\n\u001b[0m\u001b[1;32m   1499\u001b[0m \u001b[0;34m\u001b[0m\u001b[0m\n\u001b[1;32m   1500\u001b[0m     \u001b[0;32mdef\u001b[0m \u001b[0m_notify_trait\u001b[0m\u001b[0;34m(\u001b[0m\u001b[0mself\u001b[0m\u001b[0;34m,\u001b[0m \u001b[0mname\u001b[0m\u001b[0;34m,\u001b[0m \u001b[0mold_value\u001b[0m\u001b[0;34m,\u001b[0m \u001b[0mnew_value\u001b[0m\u001b[0;34m)\u001b[0m\u001b[0;34m:\u001b[0m\u001b[0;34m\u001b[0m\u001b[0;34m\u001b[0m\u001b[0m\n",
            "\u001b[0;32m/usr/local/lib/python3.10/dist-packages/ipywidgets/widgets/widget.py\u001b[0m in \u001b[0;36mnotify_change\u001b[0;34m(self, change)\u001b[0m\n\u001b[1;32m    684\u001b[0m                 \u001b[0;31m# Send new state to front-end\u001b[0m\u001b[0;34m\u001b[0m\u001b[0;34m\u001b[0m\u001b[0m\n\u001b[1;32m    685\u001b[0m                 \u001b[0mself\u001b[0m\u001b[0;34m.\u001b[0m\u001b[0msend_state\u001b[0m\u001b[0;34m(\u001b[0m\u001b[0mkey\u001b[0m\u001b[0;34m=\u001b[0m\u001b[0mname\u001b[0m\u001b[0;34m)\u001b[0m\u001b[0;34m\u001b[0m\u001b[0;34m\u001b[0m\u001b[0m\n\u001b[0;32m--> 686\u001b[0;31m         \u001b[0msuper\u001b[0m\u001b[0;34m(\u001b[0m\u001b[0mWidget\u001b[0m\u001b[0;34m,\u001b[0m \u001b[0mself\u001b[0m\u001b[0;34m)\u001b[0m\u001b[0;34m.\u001b[0m\u001b[0mnotify_change\u001b[0m\u001b[0;34m(\u001b[0m\u001b[0mchange\u001b[0m\u001b[0;34m)\u001b[0m\u001b[0;34m\u001b[0m\u001b[0;34m\u001b[0m\u001b[0m\n\u001b[0m\u001b[1;32m    687\u001b[0m \u001b[0;34m\u001b[0m\u001b[0m\n\u001b[1;32m    688\u001b[0m     \u001b[0;32mdef\u001b[0m \u001b[0m__repr__\u001b[0m\u001b[0;34m(\u001b[0m\u001b[0mself\u001b[0m\u001b[0;34m)\u001b[0m\u001b[0;34m:\u001b[0m\u001b[0;34m\u001b[0m\u001b[0;34m\u001b[0m\u001b[0m\n",
            "\u001b[0;32m/usr/local/lib/python3.10/dist-packages/traitlets/traitlets.py\u001b[0m in \u001b[0;36mnotify_change\u001b[0;34m(self, change)\u001b[0m\n\u001b[1;32m   1511\u001b[0m     \u001b[0;32mdef\u001b[0m \u001b[0mnotify_change\u001b[0m\u001b[0;34m(\u001b[0m\u001b[0mself\u001b[0m\u001b[0;34m,\u001b[0m \u001b[0mchange\u001b[0m\u001b[0;34m)\u001b[0m\u001b[0;34m:\u001b[0m\u001b[0;34m\u001b[0m\u001b[0;34m\u001b[0m\u001b[0m\n\u001b[1;32m   1512\u001b[0m         \u001b[0;34m\"\"\"Notify observers of a change event\"\"\"\u001b[0m\u001b[0;34m\u001b[0m\u001b[0;34m\u001b[0m\u001b[0m\n\u001b[0;32m-> 1513\u001b[0;31m         \u001b[0;32mreturn\u001b[0m \u001b[0mself\u001b[0m\u001b[0;34m.\u001b[0m\u001b[0m_notify_observers\u001b[0m\u001b[0;34m(\u001b[0m\u001b[0mchange\u001b[0m\u001b[0;34m)\u001b[0m\u001b[0;34m\u001b[0m\u001b[0;34m\u001b[0m\u001b[0m\n\u001b[0m\u001b[1;32m   1514\u001b[0m \u001b[0;34m\u001b[0m\u001b[0m\n\u001b[1;32m   1515\u001b[0m     \u001b[0;32mdef\u001b[0m \u001b[0m_notify_observers\u001b[0m\u001b[0;34m(\u001b[0m\u001b[0mself\u001b[0m\u001b[0;34m,\u001b[0m \u001b[0mevent\u001b[0m\u001b[0;34m)\u001b[0m\u001b[0;34m:\u001b[0m\u001b[0;34m\u001b[0m\u001b[0;34m\u001b[0m\u001b[0m\n",
            "\u001b[0;32m/usr/local/lib/python3.10/dist-packages/traitlets/traitlets.py\u001b[0m in \u001b[0;36m_notify_observers\u001b[0;34m(self, event)\u001b[0m\n\u001b[1;32m   1558\u001b[0m                 \u001b[0mc\u001b[0m \u001b[0;34m=\u001b[0m \u001b[0mgetattr\u001b[0m\u001b[0;34m(\u001b[0m\u001b[0mself\u001b[0m\u001b[0;34m,\u001b[0m \u001b[0mc\u001b[0m\u001b[0;34m.\u001b[0m\u001b[0mname\u001b[0m\u001b[0;34m)\u001b[0m\u001b[0;34m\u001b[0m\u001b[0;34m\u001b[0m\u001b[0m\n\u001b[1;32m   1559\u001b[0m \u001b[0;34m\u001b[0m\u001b[0m\n\u001b[0;32m-> 1560\u001b[0;31m             \u001b[0mc\u001b[0m\u001b[0;34m(\u001b[0m\u001b[0mevent\u001b[0m\u001b[0;34m)\u001b[0m\u001b[0;34m\u001b[0m\u001b[0;34m\u001b[0m\u001b[0m\n\u001b[0m\u001b[1;32m   1561\u001b[0m \u001b[0;34m\u001b[0m\u001b[0m\n\u001b[1;32m   1562\u001b[0m     \u001b[0;32mdef\u001b[0m \u001b[0m_add_notifiers\u001b[0m\u001b[0;34m(\u001b[0m\u001b[0mself\u001b[0m\u001b[0;34m,\u001b[0m \u001b[0mhandler\u001b[0m\u001b[0;34m,\u001b[0m \u001b[0mname\u001b[0m\u001b[0;34m,\u001b[0m \u001b[0mtype\u001b[0m\u001b[0;34m)\u001b[0m\u001b[0;34m:\u001b[0m\u001b[0;34m\u001b[0m\u001b[0;34m\u001b[0m\u001b[0m\n",
            "\u001b[0;32m/usr/local/lib/python3.10/dist-packages/lux/core/frame.py\u001b[0m in \u001b[0;36mset_intent_on_click\u001b[0;34m(self, change)\u001b[0m\n\u001b[1;32m    553\u001b[0m         \u001b[0;32mfrom\u001b[0m \u001b[0mlux\u001b[0m\u001b[0;34m.\u001b[0m\u001b[0mprocessor\u001b[0m\u001b[0;34m.\u001b[0m\u001b[0mCompiler\u001b[0m \u001b[0;32mimport\u001b[0m \u001b[0mCompiler\u001b[0m\u001b[0;34m\u001b[0m\u001b[0;34m\u001b[0m\u001b[0m\n\u001b[1;32m    554\u001b[0m \u001b[0;34m\u001b[0m\u001b[0m\n\u001b[0;32m--> 555\u001b[0;31m         \u001b[0mintent_action\u001b[0m \u001b[0;34m=\u001b[0m \u001b[0mlist\u001b[0m\u001b[0;34m(\u001b[0m\u001b[0mself\u001b[0m\u001b[0;34m.\u001b[0m\u001b[0m_widget\u001b[0m\u001b[0;34m.\u001b[0m\u001b[0mselectedIntentIndex\u001b[0m\u001b[0;34m.\u001b[0m\u001b[0mkeys\u001b[0m\u001b[0;34m(\u001b[0m\u001b[0;34m)\u001b[0m\u001b[0;34m)\u001b[0m\u001b[0;34m[\u001b[0m\u001b[0;36m0\u001b[0m\u001b[0;34m]\u001b[0m\u001b[0;34m\u001b[0m\u001b[0;34m\u001b[0m\u001b[0m\n\u001b[0m\u001b[1;32m    556\u001b[0m         \u001b[0mvis\u001b[0m \u001b[0;34m=\u001b[0m \u001b[0mself\u001b[0m\u001b[0;34m.\u001b[0m\u001b[0m_recommendation\u001b[0m\u001b[0;34m[\u001b[0m\u001b[0mintent_action\u001b[0m\u001b[0;34m]\u001b[0m\u001b[0;34m[\u001b[0m\u001b[0mself\u001b[0m\u001b[0;34m.\u001b[0m\u001b[0m_widget\u001b[0m\u001b[0;34m.\u001b[0m\u001b[0mselectedIntentIndex\u001b[0m\u001b[0;34m[\u001b[0m\u001b[0mintent_action\u001b[0m\u001b[0;34m]\u001b[0m\u001b[0;34m[\u001b[0m\u001b[0;36m0\u001b[0m\u001b[0;34m]\u001b[0m\u001b[0;34m]\u001b[0m\u001b[0;34m\u001b[0m\u001b[0;34m\u001b[0m\u001b[0m\n\u001b[1;32m    557\u001b[0m         \u001b[0mself\u001b[0m\u001b[0;34m.\u001b[0m\u001b[0mset_intent_as_vis\u001b[0m\u001b[0;34m(\u001b[0m\u001b[0mvis\u001b[0m\u001b[0;34m)\u001b[0m\u001b[0;34m\u001b[0m\u001b[0;34m\u001b[0m\u001b[0m\n",
            "\u001b[0;31mAttributeError\u001b[0m: 'NoneType' object has no attribute 'selectedIntentIndex'"
          ]
        }
      ]
    },
    {
      "cell_type": "markdown",
      "source": [
        "***Pros of Using Lux:***\n",
        "\n",
        "**1. Explore Your Data Easily:**\n",
        "Lux helps you play around with your data using a cool widget. You can make charts and see patterns without needing to be a data expert.\n",
        "\n",
        "**2. Get Smart Suggestions for Charts:**\n",
        "Lux is like a helpful friend that suggests which charts might be interesting based on your data. It saves time and helps you find cool stuff in your data.\n",
        "\n",
        "**3. Works Well with Pandas:**\n",
        "Lux plays nicely with Pandas, which is a popular tool for working with data in Python. So, if you know Pandas, you won't get lost with Lux.\n",
        "\n",
        "**4. See Data in a Better Way:**\n",
        "Lux makes your data look better when you're working in a Jupyter notebook. It shows your data in a way that's easier to understand.\n",
        "\n",
        "**5. Finds Dates Automatically:**\n",
        "Lux can tell when something is a date in your data. It automatically detect any date variable inside your data and give suggestion accordingly.\n",
        "\n",
        "**6. Free and Always Getting Better:**\n",
        "Lux is free for everyone to use, and smart people are always making it better. So, you can always get the newest and coolest features."
      ],
      "metadata": {
        "id": "baS6uesqpJG9"
      }
    },
    {
      "cell_type": "markdown",
      "source": [
        "***Cons of Using Lux:***\n",
        "\n",
        "**Takes a Bit to Learn:**\n",
        "Lux might seem a bit tricky at first. You'll need to spend some time learning how it works.\n",
        "\n",
        "**Only for Jupyter Fans:**\n",
        "Lux is like a Jupyter notebook's best friend. If you like other tools better, Lux might not be as good for you.\n",
        "\n",
        "**Can't Change Everything:**\n",
        "Lux doesn't let you customize everything a lot. If you're picky about how things look, it might not be perfect for you.\n",
        "\n",
        "**Not for Super Advanced Stuff:**\n",
        "Lux is more for fun visual stuff than really serious data math. If you're a data genius, you might need extra tools.\n",
        "\n",
        "**Might Be Slow for Huge Data:**\n",
        "If you have a ton of data, Lux might take a while to show you all the cool stuff. It could slow things down.\n",
        "\n",
        "**Updates Can Change Things:**\n",
        "Lux is always getting better, but sometimes that means things might change. You'll need to keep up with the updates to stay in the loop."
      ],
      "metadata": {
        "id": "WhE29V-uqis2"
      }
    },
    {
      "cell_type": "markdown",
      "source": [
        "***Conclusion***\n",
        "\n",
        "In conclusion, Lux stands out as a potent tool for exploring data interactively, particularly if you're someone who often uses Jupyter notebooks along with Pandas for data work. Nonetheless, whether Lux is the right fit depends on your particular needs, likes, and the kind of data you're dealing with. It's wise to think about how well you know Lux, how easy or hard it is for you to learn new things, and exactly what you need from a tool when deciding if Lux should become a part of how you analyze data."
      ],
      "metadata": {
        "id": "lah7JE9kqjzF"
      }
    }
  ]
}
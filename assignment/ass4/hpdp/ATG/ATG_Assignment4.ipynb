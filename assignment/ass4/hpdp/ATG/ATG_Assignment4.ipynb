{
  "nbformat": 4,
  "nbformat_minor": 0,
  "metadata": {
    "colab": {
      "provenance": [],
      "include_colab_link": true
    },
    "kernelspec": {
      "name": "python3",
      "display_name": "Python 3"
    },
    "language_info": {
      "name": "python"
    }
  },
  "cells": [
    {
      "cell_type": "markdown",
      "metadata": {
        "id": "view-in-github",
        "colab_type": "text"
      },
      "source": [
        "<a href=\"https://colab.research.google.com/github/drshahizan/Python_EDA/blob/main/assignment/ass4/hpdp/ATG/ATG_Assignment4.ipynb\" target=\"_parent\"><img src=\"https://colab.research.google.com/assets/colab-badge.svg\" alt=\"Open In Colab\"/></a>"
      ]
    },
    {
      "cell_type": "markdown",
      "source": [
        "# Assignment 4\n",
        "\n",
        "## Group Name: ATONG (ATG)\n",
        "\n",
        "### Group Members:\n",
        "| Name                                      | Matrix Number   |\n",
        "| :---------------------------------------- | :-------------: |\n",
        "| ANG YI QIN                                |A21EC0163        |\n",
        "| ALIYA ZARENA BINTI ZAINULANUAR            |A21EC0013        |\n",
        "| SAM CHIA YUN                              |A21EC0127        |\n",
        "| MUHAMMAD IQMAL BIN SIS                    |A21EC0080        |\n"
      ],
      "metadata": {
        "id": "YjZF8Dg7E9QB"
      }
    },
    {
      "cell_type": "markdown",
      "source": [
        "## Step 1: Dataset Selection\n",
        "#### Overview\n",
        "Kaggle Website Link: [*Kaggle*](https://www.kaggle.com/)\n",
        "<br><br>\n",
        "The first step in this data analysis or machine learning project is to select a suitable dataset. The dataset serves as the foundation for the analysis, and choosing an appropriate one is crucial for the success of the project.\n",
        "<br><br>\n",
        "#### Dataset Information\n",
        "**Name**: **Airline Delay and Cancellation Data, 2018** <br>\n",
        "**URL**: [*Dataset Link*](https://www.kaggle.com/datasets/yuanyuwendymu/airline-delay-and-cancellation-data-2009-2018?select=2018.csv) <br>\n",
        "**Description**: The \"Airline Delay and Cancellation Data (2009-2018)\" on Kaggle offers a comprehensive overview of airline performance during the specified decade. It includes features such as flight information, departure and arrival delays, cancellation details, and reasons for disruptions across multiple carriers. Analysts and data scientists can utilize this dataset to explore trends, predict flight delays, and assess the punctuality of different airlines."
      ],
      "metadata": {
        "id": "hYOvxnqErRuW"
      }
    },
    {
      "cell_type": "markdown",
      "source": [
        "## Step 2 : Loading the Dataset"
      ],
      "metadata": {
        "id": "wp4uZHGgFkKl"
      }
    },
    {
      "cell_type": "markdown",
      "source": [
        "- This command (`!pip install opendatasets`) will install the opendatasets package, which allows to easily download datasets from online sources, including Kaggle, using simple commands in Python."
      ],
      "metadata": {
        "id": "xmkWIxMX1HKA"
      }
    },
    {
      "cell_type": "code",
      "source": [
        "!pip install opendatasets"
      ],
      "metadata": {
        "colab": {
          "base_uri": "https://localhost:8080/"
        },
        "id": "CdQIQ0gji91u",
        "outputId": "e0a514e4-d9fd-4e30-c5cf-d99aba793732"
      },
      "execution_count": null,
      "outputs": [
        {
          "output_type": "stream",
          "name": "stdout",
          "text": [
            "Collecting opendatasets\n",
            "  Downloading opendatasets-0.1.22-py3-none-any.whl (15 kB)\n",
            "Requirement already satisfied: tqdm in /usr/local/lib/python3.10/dist-packages (from opendatasets) (4.66.1)\n",
            "Requirement already satisfied: kaggle in /usr/local/lib/python3.10/dist-packages (from opendatasets) (1.5.16)\n",
            "Requirement already satisfied: click in /usr/local/lib/python3.10/dist-packages (from opendatasets) (8.1.7)\n",
            "Requirement already satisfied: six>=1.10 in /usr/local/lib/python3.10/dist-packages (from kaggle->opendatasets) (1.16.0)\n",
            "Requirement already satisfied: certifi in /usr/local/lib/python3.10/dist-packages (from kaggle->opendatasets) (2023.7.22)\n",
            "Requirement already satisfied: python-dateutil in /usr/local/lib/python3.10/dist-packages (from kaggle->opendatasets) (2.8.2)\n",
            "Requirement already satisfied: requests in /usr/local/lib/python3.10/dist-packages (from kaggle->opendatasets) (2.31.0)\n",
            "Requirement already satisfied: python-slugify in /usr/local/lib/python3.10/dist-packages (from kaggle->opendatasets) (8.0.1)\n",
            "Requirement already satisfied: urllib3 in /usr/local/lib/python3.10/dist-packages (from kaggle->opendatasets) (2.0.7)\n",
            "Requirement already satisfied: bleach in /usr/local/lib/python3.10/dist-packages (from kaggle->opendatasets) (6.1.0)\n",
            "Requirement already satisfied: webencodings in /usr/local/lib/python3.10/dist-packages (from bleach->kaggle->opendatasets) (0.5.1)\n",
            "Requirement already satisfied: text-unidecode>=1.3 in /usr/local/lib/python3.10/dist-packages (from python-slugify->kaggle->opendatasets) (1.3)\n",
            "Requirement already satisfied: charset-normalizer<4,>=2 in /usr/local/lib/python3.10/dist-packages (from requests->kaggle->opendatasets) (3.3.2)\n",
            "Requirement already satisfied: idna<4,>=2.5 in /usr/local/lib/python3.10/dist-packages (from requests->kaggle->opendatasets) (3.4)\n",
            "Installing collected packages: opendatasets\n",
            "Successfully installed opendatasets-0.1.22\n"
          ]
        }
      ]
    },
    {
      "cell_type": "markdown",
      "source": [
        "- The code employs the `opendatasets` library to efficiently download the \"**Airline Delay and Cancellation Data (2018)**\" dataset from Kaggle."
      ],
      "metadata": {
        "id": "wO76C6G11yYU"
      }
    },
    {
      "cell_type": "code",
      "source": [
        "import opendatasets as od\n",
        "od.download(\n",
        "    \"https://www.kaggle.com/datasets/yuanyuwendymu/airline-delay-and-cancellation-data-2009-2018?select=2018.csv\")"
      ],
      "metadata": {
        "colab": {
          "base_uri": "https://localhost:8080/"
        },
        "id": "l2us5YnUjZUq",
        "outputId": "787003d2-3868-4bc1-c8d9-704ba5dbf7b5"
      },
      "execution_count": 6,
      "outputs": [
        {
          "output_type": "stream",
          "name": "stdout",
          "text": [
            "Please provide your Kaggle credentials to download this dataset. Learn more: http://bit.ly/kaggle-creds\n",
            "Your Kaggle username: angyiqin\n",
            "Your Kaggle Key: ··········\n",
            "Downloading airline-delay-and-cancellation-data-2009-2018.zip to ./airline-delay-and-cancellation-data-2009-2018\n"
          ]
        },
        {
          "output_type": "stream",
          "name": "stderr",
          "text": [
            "100%|██████████| 1.95G/1.95G [00:20<00:00, 102MB/s] \n"
          ]
        },
        {
          "output_type": "stream",
          "name": "stdout",
          "text": [
            "\n"
          ]
        }
      ]
    },
    {
      "cell_type": "markdown",
      "source": [
        "- Import essential libraries for data analysis and visualization."
      ],
      "metadata": {
        "id": "5NLTBGN216z0"
      }
    },
    {
      "cell_type": "code",
      "source": [
        "import numpy as np\n",
        "import pandas as pd\n",
        "import collections\n",
        "import string, sys, os, re\n",
        "import warnings\n",
        "import matplotlib.pyplot as plt\n",
        "import seaborn as sns\n",
        "import plotly.express as px\n",
        "import plotly.io as pio\n",
        "from IPython.display import Image\n",
        "from functools import reduce\n",
        "from wordcloud import WordCloud, STOPWORDS, ImageColorGenerator"
      ],
      "metadata": {
        "id": "QYmW8GPnkQYu"
      },
      "execution_count": 7,
      "outputs": []
    },
    {
      "cell_type": "markdown",
      "source": [
        "- The `pd.read_csv()` function loads the data into a DataFrame called 'df.'\n",
        "- The `head()` method is then used to display the first few rows of the DataFrame, providing a quick overview of the dataset's structure and content."
      ],
      "metadata": {
        "id": "Pb6tOaE12QHx"
      }
    },
    {
      "cell_type": "code",
      "source": [
        "# reading the csv file\n",
        "file =('airline-delay-and-cancellation-data-2009-2018/2018.csv')\n",
        "df = pd.read_csv(file)\n",
        "\n",
        "# displaying the contents of the XLSX file\n",
        "df.head()"
      ],
      "metadata": {
        "colab": {
          "base_uri": "https://localhost:8080/",
          "height": 359
        },
        "id": "tDXKi7DNj_XT",
        "outputId": "e36dca09-267e-4b83-ac00-51b96d8694a4"
      },
      "execution_count": 8,
      "outputs": [
        {
          "output_type": "execute_result",
          "data": {
            "text/plain": [
              "      FL_DATE OP_CARRIER  OP_CARRIER_FL_NUM ORIGIN DEST  CRS_DEP_TIME  \\\n",
              "0  2018-01-01         UA               2429    EWR  DEN          1517   \n",
              "1  2018-01-01         UA               2427    LAS  SFO          1115   \n",
              "2  2018-01-01         UA               2426    SNA  DEN          1335   \n",
              "3  2018-01-01         UA               2425    RSW  ORD          1546   \n",
              "4  2018-01-01         UA               2424    ORD  ALB           630   \n",
              "\n",
              "   DEP_TIME  DEP_DELAY  TAXI_OUT  WHEELS_OFF  ...  CRS_ELAPSED_TIME  \\\n",
              "0    1512.0       -5.0      15.0      1527.0  ...             268.0   \n",
              "1    1107.0       -8.0      11.0      1118.0  ...              99.0   \n",
              "2    1330.0       -5.0      15.0      1345.0  ...             134.0   \n",
              "3    1552.0        6.0      19.0      1611.0  ...             190.0   \n",
              "4     650.0       20.0      13.0       703.0  ...             112.0   \n",
              "\n",
              "   ACTUAL_ELAPSED_TIME  AIR_TIME  DISTANCE  CARRIER_DELAY  WEATHER_DELAY  \\\n",
              "0                250.0     225.0    1605.0            NaN            NaN   \n",
              "1                 83.0      65.0     414.0            NaN            NaN   \n",
              "2                126.0     106.0     846.0            NaN            NaN   \n",
              "3                182.0     157.0    1120.0            NaN            NaN   \n",
              "4                106.0      83.0     723.0            NaN            NaN   \n",
              "\n",
              "  NAS_DELAY  SECURITY_DELAY  LATE_AIRCRAFT_DELAY  Unnamed: 27  \n",
              "0       NaN             NaN                  NaN          NaN  \n",
              "1       NaN             NaN                  NaN          NaN  \n",
              "2       NaN             NaN                  NaN          NaN  \n",
              "3       NaN             NaN                  NaN          NaN  \n",
              "4       NaN             NaN                  NaN          NaN  \n",
              "\n",
              "[5 rows x 28 columns]"
            ],
            "text/html": [
              "\n",
              "  <div id=\"df-198565f8-f850-4c16-9ca8-ba26f7dfc4be\" class=\"colab-df-container\">\n",
              "    <div>\n",
              "<style scoped>\n",
              "    .dataframe tbody tr th:only-of-type {\n",
              "        vertical-align: middle;\n",
              "    }\n",
              "\n",
              "    .dataframe tbody tr th {\n",
              "        vertical-align: top;\n",
              "    }\n",
              "\n",
              "    .dataframe thead th {\n",
              "        text-align: right;\n",
              "    }\n",
              "</style>\n",
              "<table border=\"1\" class=\"dataframe\">\n",
              "  <thead>\n",
              "    <tr style=\"text-align: right;\">\n",
              "      <th></th>\n",
              "      <th>FL_DATE</th>\n",
              "      <th>OP_CARRIER</th>\n",
              "      <th>OP_CARRIER_FL_NUM</th>\n",
              "      <th>ORIGIN</th>\n",
              "      <th>DEST</th>\n",
              "      <th>CRS_DEP_TIME</th>\n",
              "      <th>DEP_TIME</th>\n",
              "      <th>DEP_DELAY</th>\n",
              "      <th>TAXI_OUT</th>\n",
              "      <th>WHEELS_OFF</th>\n",
              "      <th>...</th>\n",
              "      <th>CRS_ELAPSED_TIME</th>\n",
              "      <th>ACTUAL_ELAPSED_TIME</th>\n",
              "      <th>AIR_TIME</th>\n",
              "      <th>DISTANCE</th>\n",
              "      <th>CARRIER_DELAY</th>\n",
              "      <th>WEATHER_DELAY</th>\n",
              "      <th>NAS_DELAY</th>\n",
              "      <th>SECURITY_DELAY</th>\n",
              "      <th>LATE_AIRCRAFT_DELAY</th>\n",
              "      <th>Unnamed: 27</th>\n",
              "    </tr>\n",
              "  </thead>\n",
              "  <tbody>\n",
              "    <tr>\n",
              "      <th>0</th>\n",
              "      <td>2018-01-01</td>\n",
              "      <td>UA</td>\n",
              "      <td>2429</td>\n",
              "      <td>EWR</td>\n",
              "      <td>DEN</td>\n",
              "      <td>1517</td>\n",
              "      <td>1512.0</td>\n",
              "      <td>-5.0</td>\n",
              "      <td>15.0</td>\n",
              "      <td>1527.0</td>\n",
              "      <td>...</td>\n",
              "      <td>268.0</td>\n",
              "      <td>250.0</td>\n",
              "      <td>225.0</td>\n",
              "      <td>1605.0</td>\n",
              "      <td>NaN</td>\n",
              "      <td>NaN</td>\n",
              "      <td>NaN</td>\n",
              "      <td>NaN</td>\n",
              "      <td>NaN</td>\n",
              "      <td>NaN</td>\n",
              "    </tr>\n",
              "    <tr>\n",
              "      <th>1</th>\n",
              "      <td>2018-01-01</td>\n",
              "      <td>UA</td>\n",
              "      <td>2427</td>\n",
              "      <td>LAS</td>\n",
              "      <td>SFO</td>\n",
              "      <td>1115</td>\n",
              "      <td>1107.0</td>\n",
              "      <td>-8.0</td>\n",
              "      <td>11.0</td>\n",
              "      <td>1118.0</td>\n",
              "      <td>...</td>\n",
              "      <td>99.0</td>\n",
              "      <td>83.0</td>\n",
              "      <td>65.0</td>\n",
              "      <td>414.0</td>\n",
              "      <td>NaN</td>\n",
              "      <td>NaN</td>\n",
              "      <td>NaN</td>\n",
              "      <td>NaN</td>\n",
              "      <td>NaN</td>\n",
              "      <td>NaN</td>\n",
              "    </tr>\n",
              "    <tr>\n",
              "      <th>2</th>\n",
              "      <td>2018-01-01</td>\n",
              "      <td>UA</td>\n",
              "      <td>2426</td>\n",
              "      <td>SNA</td>\n",
              "      <td>DEN</td>\n",
              "      <td>1335</td>\n",
              "      <td>1330.0</td>\n",
              "      <td>-5.0</td>\n",
              "      <td>15.0</td>\n",
              "      <td>1345.0</td>\n",
              "      <td>...</td>\n",
              "      <td>134.0</td>\n",
              "      <td>126.0</td>\n",
              "      <td>106.0</td>\n",
              "      <td>846.0</td>\n",
              "      <td>NaN</td>\n",
              "      <td>NaN</td>\n",
              "      <td>NaN</td>\n",
              "      <td>NaN</td>\n",
              "      <td>NaN</td>\n",
              "      <td>NaN</td>\n",
              "    </tr>\n",
              "    <tr>\n",
              "      <th>3</th>\n",
              "      <td>2018-01-01</td>\n",
              "      <td>UA</td>\n",
              "      <td>2425</td>\n",
              "      <td>RSW</td>\n",
              "      <td>ORD</td>\n",
              "      <td>1546</td>\n",
              "      <td>1552.0</td>\n",
              "      <td>6.0</td>\n",
              "      <td>19.0</td>\n",
              "      <td>1611.0</td>\n",
              "      <td>...</td>\n",
              "      <td>190.0</td>\n",
              "      <td>182.0</td>\n",
              "      <td>157.0</td>\n",
              "      <td>1120.0</td>\n",
              "      <td>NaN</td>\n",
              "      <td>NaN</td>\n",
              "      <td>NaN</td>\n",
              "      <td>NaN</td>\n",
              "      <td>NaN</td>\n",
              "      <td>NaN</td>\n",
              "    </tr>\n",
              "    <tr>\n",
              "      <th>4</th>\n",
              "      <td>2018-01-01</td>\n",
              "      <td>UA</td>\n",
              "      <td>2424</td>\n",
              "      <td>ORD</td>\n",
              "      <td>ALB</td>\n",
              "      <td>630</td>\n",
              "      <td>650.0</td>\n",
              "      <td>20.0</td>\n",
              "      <td>13.0</td>\n",
              "      <td>703.0</td>\n",
              "      <td>...</td>\n",
              "      <td>112.0</td>\n",
              "      <td>106.0</td>\n",
              "      <td>83.0</td>\n",
              "      <td>723.0</td>\n",
              "      <td>NaN</td>\n",
              "      <td>NaN</td>\n",
              "      <td>NaN</td>\n",
              "      <td>NaN</td>\n",
              "      <td>NaN</td>\n",
              "      <td>NaN</td>\n",
              "    </tr>\n",
              "  </tbody>\n",
              "</table>\n",
              "<p>5 rows × 28 columns</p>\n",
              "</div>\n",
              "    <div class=\"colab-df-buttons\">\n",
              "\n",
              "  <div class=\"colab-df-container\">\n",
              "    <button class=\"colab-df-convert\" onclick=\"convertToInteractive('df-198565f8-f850-4c16-9ca8-ba26f7dfc4be')\"\n",
              "            title=\"Convert this dataframe to an interactive table.\"\n",
              "            style=\"display:none;\">\n",
              "\n",
              "  <svg xmlns=\"http://www.w3.org/2000/svg\" height=\"24px\" viewBox=\"0 -960 960 960\">\n",
              "    <path d=\"M120-120v-720h720v720H120Zm60-500h600v-160H180v160Zm220 220h160v-160H400v160Zm0 220h160v-160H400v160ZM180-400h160v-160H180v160Zm440 0h160v-160H620v160ZM180-180h160v-160H180v160Zm440 0h160v-160H620v160Z\"/>\n",
              "  </svg>\n",
              "    </button>\n",
              "\n",
              "  <style>\n",
              "    .colab-df-container {\n",
              "      display:flex;\n",
              "      gap: 12px;\n",
              "    }\n",
              "\n",
              "    .colab-df-convert {\n",
              "      background-color: #E8F0FE;\n",
              "      border: none;\n",
              "      border-radius: 50%;\n",
              "      cursor: pointer;\n",
              "      display: none;\n",
              "      fill: #1967D2;\n",
              "      height: 32px;\n",
              "      padding: 0 0 0 0;\n",
              "      width: 32px;\n",
              "    }\n",
              "\n",
              "    .colab-df-convert:hover {\n",
              "      background-color: #E2EBFA;\n",
              "      box-shadow: 0px 1px 2px rgba(60, 64, 67, 0.3), 0px 1px 3px 1px rgba(60, 64, 67, 0.15);\n",
              "      fill: #174EA6;\n",
              "    }\n",
              "\n",
              "    .colab-df-buttons div {\n",
              "      margin-bottom: 4px;\n",
              "    }\n",
              "\n",
              "    [theme=dark] .colab-df-convert {\n",
              "      background-color: #3B4455;\n",
              "      fill: #D2E3FC;\n",
              "    }\n",
              "\n",
              "    [theme=dark] .colab-df-convert:hover {\n",
              "      background-color: #434B5C;\n",
              "      box-shadow: 0px 1px 3px 1px rgba(0, 0, 0, 0.15);\n",
              "      filter: drop-shadow(0px 1px 2px rgba(0, 0, 0, 0.3));\n",
              "      fill: #FFFFFF;\n",
              "    }\n",
              "  </style>\n",
              "\n",
              "    <script>\n",
              "      const buttonEl =\n",
              "        document.querySelector('#df-198565f8-f850-4c16-9ca8-ba26f7dfc4be button.colab-df-convert');\n",
              "      buttonEl.style.display =\n",
              "        google.colab.kernel.accessAllowed ? 'block' : 'none';\n",
              "\n",
              "      async function convertToInteractive(key) {\n",
              "        const element = document.querySelector('#df-198565f8-f850-4c16-9ca8-ba26f7dfc4be');\n",
              "        const dataTable =\n",
              "          await google.colab.kernel.invokeFunction('convertToInteractive',\n",
              "                                                    [key], {});\n",
              "        if (!dataTable) return;\n",
              "\n",
              "        const docLinkHtml = 'Like what you see? Visit the ' +\n",
              "          '<a target=\"_blank\" href=https://colab.research.google.com/notebooks/data_table.ipynb>data table notebook</a>'\n",
              "          + ' to learn more about interactive tables.';\n",
              "        element.innerHTML = '';\n",
              "        dataTable['output_type'] = 'display_data';\n",
              "        await google.colab.output.renderOutput(dataTable, element);\n",
              "        const docLink = document.createElement('div');\n",
              "        docLink.innerHTML = docLinkHtml;\n",
              "        element.appendChild(docLink);\n",
              "      }\n",
              "    </script>\n",
              "  </div>\n",
              "\n",
              "\n",
              "<div id=\"df-493c1e93-4a2b-4fb0-99e6-182ac44c3230\">\n",
              "  <button class=\"colab-df-quickchart\" onclick=\"quickchart('df-493c1e93-4a2b-4fb0-99e6-182ac44c3230')\"\n",
              "            title=\"Suggest charts\"\n",
              "            style=\"display:none;\">\n",
              "\n",
              "<svg xmlns=\"http://www.w3.org/2000/svg\" height=\"24px\"viewBox=\"0 0 24 24\"\n",
              "     width=\"24px\">\n",
              "    <g>\n",
              "        <path d=\"M19 3H5c-1.1 0-2 .9-2 2v14c0 1.1.9 2 2 2h14c1.1 0 2-.9 2-2V5c0-1.1-.9-2-2-2zM9 17H7v-7h2v7zm4 0h-2V7h2v10zm4 0h-2v-4h2v4z\"/>\n",
              "    </g>\n",
              "</svg>\n",
              "  </button>\n",
              "\n",
              "<style>\n",
              "  .colab-df-quickchart {\n",
              "      --bg-color: #E8F0FE;\n",
              "      --fill-color: #1967D2;\n",
              "      --hover-bg-color: #E2EBFA;\n",
              "      --hover-fill-color: #174EA6;\n",
              "      --disabled-fill-color: #AAA;\n",
              "      --disabled-bg-color: #DDD;\n",
              "  }\n",
              "\n",
              "  [theme=dark] .colab-df-quickchart {\n",
              "      --bg-color: #3B4455;\n",
              "      --fill-color: #D2E3FC;\n",
              "      --hover-bg-color: #434B5C;\n",
              "      --hover-fill-color: #FFFFFF;\n",
              "      --disabled-bg-color: #3B4455;\n",
              "      --disabled-fill-color: #666;\n",
              "  }\n",
              "\n",
              "  .colab-df-quickchart {\n",
              "    background-color: var(--bg-color);\n",
              "    border: none;\n",
              "    border-radius: 50%;\n",
              "    cursor: pointer;\n",
              "    display: none;\n",
              "    fill: var(--fill-color);\n",
              "    height: 32px;\n",
              "    padding: 0;\n",
              "    width: 32px;\n",
              "  }\n",
              "\n",
              "  .colab-df-quickchart:hover {\n",
              "    background-color: var(--hover-bg-color);\n",
              "    box-shadow: 0 1px 2px rgba(60, 64, 67, 0.3), 0 1px 3px 1px rgba(60, 64, 67, 0.15);\n",
              "    fill: var(--button-hover-fill-color);\n",
              "  }\n",
              "\n",
              "  .colab-df-quickchart-complete:disabled,\n",
              "  .colab-df-quickchart-complete:disabled:hover {\n",
              "    background-color: var(--disabled-bg-color);\n",
              "    fill: var(--disabled-fill-color);\n",
              "    box-shadow: none;\n",
              "  }\n",
              "\n",
              "  .colab-df-spinner {\n",
              "    border: 2px solid var(--fill-color);\n",
              "    border-color: transparent;\n",
              "    border-bottom-color: var(--fill-color);\n",
              "    animation:\n",
              "      spin 1s steps(1) infinite;\n",
              "  }\n",
              "\n",
              "  @keyframes spin {\n",
              "    0% {\n",
              "      border-color: transparent;\n",
              "      border-bottom-color: var(--fill-color);\n",
              "      border-left-color: var(--fill-color);\n",
              "    }\n",
              "    20% {\n",
              "      border-color: transparent;\n",
              "      border-left-color: var(--fill-color);\n",
              "      border-top-color: var(--fill-color);\n",
              "    }\n",
              "    30% {\n",
              "      border-color: transparent;\n",
              "      border-left-color: var(--fill-color);\n",
              "      border-top-color: var(--fill-color);\n",
              "      border-right-color: var(--fill-color);\n",
              "    }\n",
              "    40% {\n",
              "      border-color: transparent;\n",
              "      border-right-color: var(--fill-color);\n",
              "      border-top-color: var(--fill-color);\n",
              "    }\n",
              "    60% {\n",
              "      border-color: transparent;\n",
              "      border-right-color: var(--fill-color);\n",
              "    }\n",
              "    80% {\n",
              "      border-color: transparent;\n",
              "      border-right-color: var(--fill-color);\n",
              "      border-bottom-color: var(--fill-color);\n",
              "    }\n",
              "    90% {\n",
              "      border-color: transparent;\n",
              "      border-bottom-color: var(--fill-color);\n",
              "    }\n",
              "  }\n",
              "</style>\n",
              "\n",
              "  <script>\n",
              "    async function quickchart(key) {\n",
              "      const quickchartButtonEl =\n",
              "        document.querySelector('#' + key + ' button');\n",
              "      quickchartButtonEl.disabled = true;  // To prevent multiple clicks.\n",
              "      quickchartButtonEl.classList.add('colab-df-spinner');\n",
              "      try {\n",
              "        const charts = await google.colab.kernel.invokeFunction(\n",
              "            'suggestCharts', [key], {});\n",
              "      } catch (error) {\n",
              "        console.error('Error during call to suggestCharts:', error);\n",
              "      }\n",
              "      quickchartButtonEl.classList.remove('colab-df-spinner');\n",
              "      quickchartButtonEl.classList.add('colab-df-quickchart-complete');\n",
              "    }\n",
              "    (() => {\n",
              "      let quickchartButtonEl =\n",
              "        document.querySelector('#df-493c1e93-4a2b-4fb0-99e6-182ac44c3230 button');\n",
              "      quickchartButtonEl.style.display =\n",
              "        google.colab.kernel.accessAllowed ? 'block' : 'none';\n",
              "    })();\n",
              "  </script>\n",
              "</div>\n",
              "    </div>\n",
              "  </div>\n"
            ]
          },
          "metadata": {},
          "execution_count": 8
        }
      ]
    },
    {
      "cell_type": "markdown",
      "source": [
        "To check the total number of rows and columns, use `df.shape`."
      ],
      "metadata": {
        "id": "2hog-dTMupOj"
      }
    },
    {
      "cell_type": "code",
      "source": [
        "df.shape"
      ],
      "metadata": {
        "colab": {
          "base_uri": "https://localhost:8080/"
        },
        "id": "8mNdy4vAqJ1Y",
        "outputId": "f692dfda-c668-4a34-f87d-f2e3d20d9f1e"
      },
      "execution_count": 9,
      "outputs": [
        {
          "output_type": "execute_result",
          "data": {
            "text/plain": [
              "(7213446, 28)"
            ]
          },
          "metadata": {},
          "execution_count": 9
        }
      ]
    },
    {
      "cell_type": "markdown",
      "source": [
        "## Step 3: Exploratory Data Analysis (EDA)\n",
        "In this step, we perform basic exploratory data analysis to understand the dataset's characteristics. Check for missing values, examine data types, and get an overview of the dataset's structure and summary statistics."
      ],
      "metadata": {
        "id": "osy-eSYtFo40"
      }
    },
    {
      "cell_type": "code",
      "source": [
        "# Check for missing values\n",
        "print(df.isnull().sum())"
      ],
      "metadata": {
        "colab": {
          "base_uri": "https://localhost:8080/"
        },
        "id": "Iit94pSWoCEZ",
        "outputId": "84e2b0e7-31eb-40e8-d998-6c0a19062a9f"
      },
      "execution_count": 10,
      "outputs": [
        {
          "output_type": "stream",
          "name": "stdout",
          "text": [
            "FL_DATE                      0\n",
            "OP_CARRIER                   0\n",
            "OP_CARRIER_FL_NUM            0\n",
            "ORIGIN                       0\n",
            "DEST                         0\n",
            "CRS_DEP_TIME                 0\n",
            "DEP_TIME                112317\n",
            "DEP_DELAY               117234\n",
            "TAXI_OUT                115830\n",
            "WHEELS_OFF              115829\n",
            "WHEELS_ON               119246\n",
            "TAXI_IN                 119246\n",
            "CRS_ARR_TIME                 0\n",
            "ARR_TIME                119245\n",
            "ARR_DELAY               137040\n",
            "CANCELLED                    0\n",
            "CANCELLATION_CODE      7096862\n",
            "DIVERTED                     0\n",
            "CRS_ELAPSED_TIME            10\n",
            "ACTUAL_ELAPSED_TIME     134442\n",
            "AIR_TIME                134442\n",
            "DISTANCE                     0\n",
            "CARRIER_DELAY          5860736\n",
            "WEATHER_DELAY          5860736\n",
            "NAS_DELAY              5860736\n",
            "SECURITY_DELAY         5860736\n",
            "LATE_AIRCRAFT_DELAY    5860736\n",
            "Unnamed: 27            7213446\n",
            "dtype: int64\n"
          ]
        }
      ]
    },
    {
      "cell_type": "markdown",
      "source": [
        "- Because there are a significant number of null values, we have opted to **drop the columns**: 'CANCELLATION_CODE', 'CARRIER_DELAY', 'WEATHER_DELAY', 'NAS_DELAY', 'SECURITY_DELAY', 'LATE_AIRCRAFT_DELAY', and 'Unnamed: 27.'"
      ],
      "metadata": {
        "id": "LtXdoq5ZyKHZ"
      }
    },
    {
      "cell_type": "code",
      "source": [
        "# List of columns to drop\n",
        "columns_to_drop = ['DIVERTED','CANCELLATION_CODE', 'CARRIER_DELAY', 'WEATHER_DELAY', 'NAS_DELAY', 'SECURITY_DELAY', 'LATE_AIRCRAFT_DELAY', 'Unnamed: 27']\n",
        "\n",
        "# Drop the specified columns\n",
        "df.drop(columns=columns_to_drop, inplace=True)"
      ],
      "metadata": {
        "id": "dCZ8l77ywFqG"
      },
      "execution_count": 11,
      "outputs": []
    },
    {
      "cell_type": "code",
      "source": [
        "df.shape"
      ],
      "metadata": {
        "colab": {
          "base_uri": "https://localhost:8080/"
        },
        "id": "ZmngeUl-wMfh",
        "outputId": "5f27ed15-8bf0-46a4-d673-91136402fcb4"
      },
      "execution_count": 12,
      "outputs": [
        {
          "output_type": "execute_result",
          "data": {
            "text/plain": [
              "(7213446, 20)"
            ]
          },
          "metadata": {},
          "execution_count": 12
        }
      ]
    },
    {
      "cell_type": "code",
      "source": [
        "df.head()"
      ],
      "metadata": {
        "colab": {
          "base_uri": "https://localhost:8080/",
          "height": 313
        },
        "id": "UBuKn54w6Tcl",
        "outputId": "73bd029c-5f71-4c95-dfd0-484fd78f815f"
      },
      "execution_count": 13,
      "outputs": [
        {
          "output_type": "execute_result",
          "data": {
            "text/plain": [
              "      FL_DATE OP_CARRIER  OP_CARRIER_FL_NUM ORIGIN DEST  CRS_DEP_TIME  \\\n",
              "0  2018-01-01         UA               2429    EWR  DEN          1517   \n",
              "1  2018-01-01         UA               2427    LAS  SFO          1115   \n",
              "2  2018-01-01         UA               2426    SNA  DEN          1335   \n",
              "3  2018-01-01         UA               2425    RSW  ORD          1546   \n",
              "4  2018-01-01         UA               2424    ORD  ALB           630   \n",
              "\n",
              "   DEP_TIME  DEP_DELAY  TAXI_OUT  WHEELS_OFF  WHEELS_ON  TAXI_IN  \\\n",
              "0    1512.0       -5.0      15.0      1527.0     1712.0     10.0   \n",
              "1    1107.0       -8.0      11.0      1118.0     1223.0      7.0   \n",
              "2    1330.0       -5.0      15.0      1345.0     1631.0      5.0   \n",
              "3    1552.0        6.0      19.0      1611.0     1748.0      6.0   \n",
              "4     650.0       20.0      13.0       703.0      926.0     10.0   \n",
              "\n",
              "   CRS_ARR_TIME  ARR_TIME  ARR_DELAY  CANCELLED  CRS_ELAPSED_TIME  \\\n",
              "0          1745    1722.0      -23.0        0.0             268.0   \n",
              "1          1254    1230.0      -24.0        0.0              99.0   \n",
              "2          1649    1636.0      -13.0        0.0             134.0   \n",
              "3          1756    1754.0       -2.0        0.0             190.0   \n",
              "4           922     936.0       14.0        0.0             112.0   \n",
              "\n",
              "   ACTUAL_ELAPSED_TIME  AIR_TIME  DISTANCE  \n",
              "0                250.0     225.0    1605.0  \n",
              "1                 83.0      65.0     414.0  \n",
              "2                126.0     106.0     846.0  \n",
              "3                182.0     157.0    1120.0  \n",
              "4                106.0      83.0     723.0  "
            ],
            "text/html": [
              "\n",
              "  <div id=\"df-f2934511-c8dd-4038-af0d-2f8cef150e98\" class=\"colab-df-container\">\n",
              "    <div>\n",
              "<style scoped>\n",
              "    .dataframe tbody tr th:only-of-type {\n",
              "        vertical-align: middle;\n",
              "    }\n",
              "\n",
              "    .dataframe tbody tr th {\n",
              "        vertical-align: top;\n",
              "    }\n",
              "\n",
              "    .dataframe thead th {\n",
              "        text-align: right;\n",
              "    }\n",
              "</style>\n",
              "<table border=\"1\" class=\"dataframe\">\n",
              "  <thead>\n",
              "    <tr style=\"text-align: right;\">\n",
              "      <th></th>\n",
              "      <th>FL_DATE</th>\n",
              "      <th>OP_CARRIER</th>\n",
              "      <th>OP_CARRIER_FL_NUM</th>\n",
              "      <th>ORIGIN</th>\n",
              "      <th>DEST</th>\n",
              "      <th>CRS_DEP_TIME</th>\n",
              "      <th>DEP_TIME</th>\n",
              "      <th>DEP_DELAY</th>\n",
              "      <th>TAXI_OUT</th>\n",
              "      <th>WHEELS_OFF</th>\n",
              "      <th>WHEELS_ON</th>\n",
              "      <th>TAXI_IN</th>\n",
              "      <th>CRS_ARR_TIME</th>\n",
              "      <th>ARR_TIME</th>\n",
              "      <th>ARR_DELAY</th>\n",
              "      <th>CANCELLED</th>\n",
              "      <th>CRS_ELAPSED_TIME</th>\n",
              "      <th>ACTUAL_ELAPSED_TIME</th>\n",
              "      <th>AIR_TIME</th>\n",
              "      <th>DISTANCE</th>\n",
              "    </tr>\n",
              "  </thead>\n",
              "  <tbody>\n",
              "    <tr>\n",
              "      <th>0</th>\n",
              "      <td>2018-01-01</td>\n",
              "      <td>UA</td>\n",
              "      <td>2429</td>\n",
              "      <td>EWR</td>\n",
              "      <td>DEN</td>\n",
              "      <td>1517</td>\n",
              "      <td>1512.0</td>\n",
              "      <td>-5.0</td>\n",
              "      <td>15.0</td>\n",
              "      <td>1527.0</td>\n",
              "      <td>1712.0</td>\n",
              "      <td>10.0</td>\n",
              "      <td>1745</td>\n",
              "      <td>1722.0</td>\n",
              "      <td>-23.0</td>\n",
              "      <td>0.0</td>\n",
              "      <td>268.0</td>\n",
              "      <td>250.0</td>\n",
              "      <td>225.0</td>\n",
              "      <td>1605.0</td>\n",
              "    </tr>\n",
              "    <tr>\n",
              "      <th>1</th>\n",
              "      <td>2018-01-01</td>\n",
              "      <td>UA</td>\n",
              "      <td>2427</td>\n",
              "      <td>LAS</td>\n",
              "      <td>SFO</td>\n",
              "      <td>1115</td>\n",
              "      <td>1107.0</td>\n",
              "      <td>-8.0</td>\n",
              "      <td>11.0</td>\n",
              "      <td>1118.0</td>\n",
              "      <td>1223.0</td>\n",
              "      <td>7.0</td>\n",
              "      <td>1254</td>\n",
              "      <td>1230.0</td>\n",
              "      <td>-24.0</td>\n",
              "      <td>0.0</td>\n",
              "      <td>99.0</td>\n",
              "      <td>83.0</td>\n",
              "      <td>65.0</td>\n",
              "      <td>414.0</td>\n",
              "    </tr>\n",
              "    <tr>\n",
              "      <th>2</th>\n",
              "      <td>2018-01-01</td>\n",
              "      <td>UA</td>\n",
              "      <td>2426</td>\n",
              "      <td>SNA</td>\n",
              "      <td>DEN</td>\n",
              "      <td>1335</td>\n",
              "      <td>1330.0</td>\n",
              "      <td>-5.0</td>\n",
              "      <td>15.0</td>\n",
              "      <td>1345.0</td>\n",
              "      <td>1631.0</td>\n",
              "      <td>5.0</td>\n",
              "      <td>1649</td>\n",
              "      <td>1636.0</td>\n",
              "      <td>-13.0</td>\n",
              "      <td>0.0</td>\n",
              "      <td>134.0</td>\n",
              "      <td>126.0</td>\n",
              "      <td>106.0</td>\n",
              "      <td>846.0</td>\n",
              "    </tr>\n",
              "    <tr>\n",
              "      <th>3</th>\n",
              "      <td>2018-01-01</td>\n",
              "      <td>UA</td>\n",
              "      <td>2425</td>\n",
              "      <td>RSW</td>\n",
              "      <td>ORD</td>\n",
              "      <td>1546</td>\n",
              "      <td>1552.0</td>\n",
              "      <td>6.0</td>\n",
              "      <td>19.0</td>\n",
              "      <td>1611.0</td>\n",
              "      <td>1748.0</td>\n",
              "      <td>6.0</td>\n",
              "      <td>1756</td>\n",
              "      <td>1754.0</td>\n",
              "      <td>-2.0</td>\n",
              "      <td>0.0</td>\n",
              "      <td>190.0</td>\n",
              "      <td>182.0</td>\n",
              "      <td>157.0</td>\n",
              "      <td>1120.0</td>\n",
              "    </tr>\n",
              "    <tr>\n",
              "      <th>4</th>\n",
              "      <td>2018-01-01</td>\n",
              "      <td>UA</td>\n",
              "      <td>2424</td>\n",
              "      <td>ORD</td>\n",
              "      <td>ALB</td>\n",
              "      <td>630</td>\n",
              "      <td>650.0</td>\n",
              "      <td>20.0</td>\n",
              "      <td>13.0</td>\n",
              "      <td>703.0</td>\n",
              "      <td>926.0</td>\n",
              "      <td>10.0</td>\n",
              "      <td>922</td>\n",
              "      <td>936.0</td>\n",
              "      <td>14.0</td>\n",
              "      <td>0.0</td>\n",
              "      <td>112.0</td>\n",
              "      <td>106.0</td>\n",
              "      <td>83.0</td>\n",
              "      <td>723.0</td>\n",
              "    </tr>\n",
              "  </tbody>\n",
              "</table>\n",
              "</div>\n",
              "    <div class=\"colab-df-buttons\">\n",
              "\n",
              "  <div class=\"colab-df-container\">\n",
              "    <button class=\"colab-df-convert\" onclick=\"convertToInteractive('df-f2934511-c8dd-4038-af0d-2f8cef150e98')\"\n",
              "            title=\"Convert this dataframe to an interactive table.\"\n",
              "            style=\"display:none;\">\n",
              "\n",
              "  <svg xmlns=\"http://www.w3.org/2000/svg\" height=\"24px\" viewBox=\"0 -960 960 960\">\n",
              "    <path d=\"M120-120v-720h720v720H120Zm60-500h600v-160H180v160Zm220 220h160v-160H400v160Zm0 220h160v-160H400v160ZM180-400h160v-160H180v160Zm440 0h160v-160H620v160ZM180-180h160v-160H180v160Zm440 0h160v-160H620v160Z\"/>\n",
              "  </svg>\n",
              "    </button>\n",
              "\n",
              "  <style>\n",
              "    .colab-df-container {\n",
              "      display:flex;\n",
              "      gap: 12px;\n",
              "    }\n",
              "\n",
              "    .colab-df-convert {\n",
              "      background-color: #E8F0FE;\n",
              "      border: none;\n",
              "      border-radius: 50%;\n",
              "      cursor: pointer;\n",
              "      display: none;\n",
              "      fill: #1967D2;\n",
              "      height: 32px;\n",
              "      padding: 0 0 0 0;\n",
              "      width: 32px;\n",
              "    }\n",
              "\n",
              "    .colab-df-convert:hover {\n",
              "      background-color: #E2EBFA;\n",
              "      box-shadow: 0px 1px 2px rgba(60, 64, 67, 0.3), 0px 1px 3px 1px rgba(60, 64, 67, 0.15);\n",
              "      fill: #174EA6;\n",
              "    }\n",
              "\n",
              "    .colab-df-buttons div {\n",
              "      margin-bottom: 4px;\n",
              "    }\n",
              "\n",
              "    [theme=dark] .colab-df-convert {\n",
              "      background-color: #3B4455;\n",
              "      fill: #D2E3FC;\n",
              "    }\n",
              "\n",
              "    [theme=dark] .colab-df-convert:hover {\n",
              "      background-color: #434B5C;\n",
              "      box-shadow: 0px 1px 3px 1px rgba(0, 0, 0, 0.15);\n",
              "      filter: drop-shadow(0px 1px 2px rgba(0, 0, 0, 0.3));\n",
              "      fill: #FFFFFF;\n",
              "    }\n",
              "  </style>\n",
              "\n",
              "    <script>\n",
              "      const buttonEl =\n",
              "        document.querySelector('#df-f2934511-c8dd-4038-af0d-2f8cef150e98 button.colab-df-convert');\n",
              "      buttonEl.style.display =\n",
              "        google.colab.kernel.accessAllowed ? 'block' : 'none';\n",
              "\n",
              "      async function convertToInteractive(key) {\n",
              "        const element = document.querySelector('#df-f2934511-c8dd-4038-af0d-2f8cef150e98');\n",
              "        const dataTable =\n",
              "          await google.colab.kernel.invokeFunction('convertToInteractive',\n",
              "                                                    [key], {});\n",
              "        if (!dataTable) return;\n",
              "\n",
              "        const docLinkHtml = 'Like what you see? Visit the ' +\n",
              "          '<a target=\"_blank\" href=https://colab.research.google.com/notebooks/data_table.ipynb>data table notebook</a>'\n",
              "          + ' to learn more about interactive tables.';\n",
              "        element.innerHTML = '';\n",
              "        dataTable['output_type'] = 'display_data';\n",
              "        await google.colab.output.renderOutput(dataTable, element);\n",
              "        const docLink = document.createElement('div');\n",
              "        docLink.innerHTML = docLinkHtml;\n",
              "        element.appendChild(docLink);\n",
              "      }\n",
              "    </script>\n",
              "  </div>\n",
              "\n",
              "\n",
              "<div id=\"df-52ec32f8-7dcc-47d4-9c0b-d636c1111623\">\n",
              "  <button class=\"colab-df-quickchart\" onclick=\"quickchart('df-52ec32f8-7dcc-47d4-9c0b-d636c1111623')\"\n",
              "            title=\"Suggest charts\"\n",
              "            style=\"display:none;\">\n",
              "\n",
              "<svg xmlns=\"http://www.w3.org/2000/svg\" height=\"24px\"viewBox=\"0 0 24 24\"\n",
              "     width=\"24px\">\n",
              "    <g>\n",
              "        <path d=\"M19 3H5c-1.1 0-2 .9-2 2v14c0 1.1.9 2 2 2h14c1.1 0 2-.9 2-2V5c0-1.1-.9-2-2-2zM9 17H7v-7h2v7zm4 0h-2V7h2v10zm4 0h-2v-4h2v4z\"/>\n",
              "    </g>\n",
              "</svg>\n",
              "  </button>\n",
              "\n",
              "<style>\n",
              "  .colab-df-quickchart {\n",
              "      --bg-color: #E8F0FE;\n",
              "      --fill-color: #1967D2;\n",
              "      --hover-bg-color: #E2EBFA;\n",
              "      --hover-fill-color: #174EA6;\n",
              "      --disabled-fill-color: #AAA;\n",
              "      --disabled-bg-color: #DDD;\n",
              "  }\n",
              "\n",
              "  [theme=dark] .colab-df-quickchart {\n",
              "      --bg-color: #3B4455;\n",
              "      --fill-color: #D2E3FC;\n",
              "      --hover-bg-color: #434B5C;\n",
              "      --hover-fill-color: #FFFFFF;\n",
              "      --disabled-bg-color: #3B4455;\n",
              "      --disabled-fill-color: #666;\n",
              "  }\n",
              "\n",
              "  .colab-df-quickchart {\n",
              "    background-color: var(--bg-color);\n",
              "    border: none;\n",
              "    border-radius: 50%;\n",
              "    cursor: pointer;\n",
              "    display: none;\n",
              "    fill: var(--fill-color);\n",
              "    height: 32px;\n",
              "    padding: 0;\n",
              "    width: 32px;\n",
              "  }\n",
              "\n",
              "  .colab-df-quickchart:hover {\n",
              "    background-color: var(--hover-bg-color);\n",
              "    box-shadow: 0 1px 2px rgba(60, 64, 67, 0.3), 0 1px 3px 1px rgba(60, 64, 67, 0.15);\n",
              "    fill: var(--button-hover-fill-color);\n",
              "  }\n",
              "\n",
              "  .colab-df-quickchart-complete:disabled,\n",
              "  .colab-df-quickchart-complete:disabled:hover {\n",
              "    background-color: var(--disabled-bg-color);\n",
              "    fill: var(--disabled-fill-color);\n",
              "    box-shadow: none;\n",
              "  }\n",
              "\n",
              "  .colab-df-spinner {\n",
              "    border: 2px solid var(--fill-color);\n",
              "    border-color: transparent;\n",
              "    border-bottom-color: var(--fill-color);\n",
              "    animation:\n",
              "      spin 1s steps(1) infinite;\n",
              "  }\n",
              "\n",
              "  @keyframes spin {\n",
              "    0% {\n",
              "      border-color: transparent;\n",
              "      border-bottom-color: var(--fill-color);\n",
              "      border-left-color: var(--fill-color);\n",
              "    }\n",
              "    20% {\n",
              "      border-color: transparent;\n",
              "      border-left-color: var(--fill-color);\n",
              "      border-top-color: var(--fill-color);\n",
              "    }\n",
              "    30% {\n",
              "      border-color: transparent;\n",
              "      border-left-color: var(--fill-color);\n",
              "      border-top-color: var(--fill-color);\n",
              "      border-right-color: var(--fill-color);\n",
              "    }\n",
              "    40% {\n",
              "      border-color: transparent;\n",
              "      border-right-color: var(--fill-color);\n",
              "      border-top-color: var(--fill-color);\n",
              "    }\n",
              "    60% {\n",
              "      border-color: transparent;\n",
              "      border-right-color: var(--fill-color);\n",
              "    }\n",
              "    80% {\n",
              "      border-color: transparent;\n",
              "      border-right-color: var(--fill-color);\n",
              "      border-bottom-color: var(--fill-color);\n",
              "    }\n",
              "    90% {\n",
              "      border-color: transparent;\n",
              "      border-bottom-color: var(--fill-color);\n",
              "    }\n",
              "  }\n",
              "</style>\n",
              "\n",
              "  <script>\n",
              "    async function quickchart(key) {\n",
              "      const quickchartButtonEl =\n",
              "        document.querySelector('#' + key + ' button');\n",
              "      quickchartButtonEl.disabled = true;  // To prevent multiple clicks.\n",
              "      quickchartButtonEl.classList.add('colab-df-spinner');\n",
              "      try {\n",
              "        const charts = await google.colab.kernel.invokeFunction(\n",
              "            'suggestCharts', [key], {});\n",
              "      } catch (error) {\n",
              "        console.error('Error during call to suggestCharts:', error);\n",
              "      }\n",
              "      quickchartButtonEl.classList.remove('colab-df-spinner');\n",
              "      quickchartButtonEl.classList.add('colab-df-quickchart-complete');\n",
              "    }\n",
              "    (() => {\n",
              "      let quickchartButtonEl =\n",
              "        document.querySelector('#df-52ec32f8-7dcc-47d4-9c0b-d636c1111623 button');\n",
              "      quickchartButtonEl.style.display =\n",
              "        google.colab.kernel.accessAllowed ? 'block' : 'none';\n",
              "    })();\n",
              "  </script>\n",
              "</div>\n",
              "    </div>\n",
              "  </div>\n"
            ]
          },
          "metadata": {},
          "execution_count": 13
        }
      ]
    },
    {
      "cell_type": "markdown",
      "source": [
        "> Total number of column is reduced to 20."
      ],
      "metadata": {
        "id": "BglfYNl3ymUk"
      }
    },
    {
      "cell_type": "markdown",
      "source": [
        "- To check for missing values in a DataFrame in Pandas, we can use the `isnull()` method, which returns a DataFrame of the same shape as the input but with True where the data is missing and False where it's not. Then, you can use `sum()` to count the missing values in each column."
      ],
      "metadata": {
        "id": "X4B14ED8zAB1"
      }
    },
    {
      "cell_type": "code",
      "source": [
        "# Check for missing values\n",
        "print(df.isnull().sum())"
      ],
      "metadata": {
        "colab": {
          "base_uri": "https://localhost:8080/"
        },
        "id": "z5Y7hUUHxeBa",
        "outputId": "b74b3291-98bd-4dc5-f335-b909bd827167"
      },
      "execution_count": 14,
      "outputs": [
        {
          "output_type": "stream",
          "name": "stdout",
          "text": [
            "FL_DATE                     0\n",
            "OP_CARRIER                  0\n",
            "OP_CARRIER_FL_NUM           0\n",
            "ORIGIN                      0\n",
            "DEST                        0\n",
            "CRS_DEP_TIME                0\n",
            "DEP_TIME               112317\n",
            "DEP_DELAY              117234\n",
            "TAXI_OUT               115830\n",
            "WHEELS_OFF             115829\n",
            "WHEELS_ON              119246\n",
            "TAXI_IN                119246\n",
            "CRS_ARR_TIME                0\n",
            "ARR_TIME               119245\n",
            "ARR_DELAY              137040\n",
            "CANCELLED                   0\n",
            "CRS_ELAPSED_TIME           10\n",
            "ACTUAL_ELAPSED_TIME    134442\n",
            "AIR_TIME               134442\n",
            "DISTANCE                    0\n",
            "dtype: int64\n"
          ]
        }
      ]
    },
    {
      "cell_type": "markdown",
      "source": [
        "- To drop rows with null values from the DataFrame, we can use the `dropna()` method."
      ],
      "metadata": {
        "id": "VHYqy4hbzHGK"
      }
    },
    {
      "cell_type": "code",
      "source": [
        "df.dropna(inplace=True)"
      ],
      "metadata": {
        "id": "29L9e0W5xrwv"
      },
      "execution_count": 15,
      "outputs": []
    },
    {
      "cell_type": "code",
      "source": [
        "# Check for missing values\n",
        "print(df.isnull().sum())"
      ],
      "metadata": {
        "colab": {
          "base_uri": "https://localhost:8080/"
        },
        "id": "jdP_FmFuxxj2",
        "outputId": "4f0b75f5-b5dd-44ef-9683-da510db86ae9"
      },
      "execution_count": 16,
      "outputs": [
        {
          "output_type": "stream",
          "name": "stdout",
          "text": [
            "FL_DATE                0\n",
            "OP_CARRIER             0\n",
            "OP_CARRIER_FL_NUM      0\n",
            "ORIGIN                 0\n",
            "DEST                   0\n",
            "CRS_DEP_TIME           0\n",
            "DEP_TIME               0\n",
            "DEP_DELAY              0\n",
            "TAXI_OUT               0\n",
            "WHEELS_OFF             0\n",
            "WHEELS_ON              0\n",
            "TAXI_IN                0\n",
            "CRS_ARR_TIME           0\n",
            "ARR_TIME               0\n",
            "ARR_DELAY              0\n",
            "CANCELLED              0\n",
            "CRS_ELAPSED_TIME       0\n",
            "ACTUAL_ELAPSED_TIME    0\n",
            "AIR_TIME               0\n",
            "DISTANCE               0\n",
            "dtype: int64\n"
          ]
        }
      ]
    },
    {
      "cell_type": "markdown",
      "source": [
        "> The data has been effectively cleaned."
      ],
      "metadata": {
        "id": "JzdPAUp-zWuo"
      }
    },
    {
      "cell_type": "code",
      "source": [
        "df.shape"
      ],
      "metadata": {
        "colab": {
          "base_uri": "https://localhost:8080/"
        },
        "id": "fhKf1Y66xtxO",
        "outputId": "232e90e2-4e73-4941-e12a-bf2f8d9e8549"
      },
      "execution_count": 17,
      "outputs": [
        {
          "output_type": "execute_result",
          "data": {
            "text/plain": [
              "(7071817, 20)"
            ]
          },
          "metadata": {},
          "execution_count": 17
        }
      ]
    },
    {
      "cell_type": "code",
      "source": [
        "# Get data types and basic statistics\n",
        "print(df.info())"
      ],
      "metadata": {
        "colab": {
          "base_uri": "https://localhost:8080/"
        },
        "id": "Qz4y60W_j6O_",
        "outputId": "34ec9cc5-0d66-486f-8d98-feee2a3fb59e"
      },
      "execution_count": 18,
      "outputs": [
        {
          "output_type": "stream",
          "name": "stdout",
          "text": [
            "<class 'pandas.core.frame.DataFrame'>\n",
            "Int64Index: 7071817 entries, 0 to 7213445\n",
            "Data columns (total 20 columns):\n",
            " #   Column               Dtype  \n",
            "---  ------               -----  \n",
            " 0   FL_DATE              object \n",
            " 1   OP_CARRIER           object \n",
            " 2   OP_CARRIER_FL_NUM    int64  \n",
            " 3   ORIGIN               object \n",
            " 4   DEST                 object \n",
            " 5   CRS_DEP_TIME         int64  \n",
            " 6   DEP_TIME             float64\n",
            " 7   DEP_DELAY            float64\n",
            " 8   TAXI_OUT             float64\n",
            " 9   WHEELS_OFF           float64\n",
            " 10  WHEELS_ON            float64\n",
            " 11  TAXI_IN              float64\n",
            " 12  CRS_ARR_TIME         int64  \n",
            " 13  ARR_TIME             float64\n",
            " 14  ARR_DELAY            float64\n",
            " 15  CANCELLED            float64\n",
            " 16  CRS_ELAPSED_TIME     float64\n",
            " 17  ACTUAL_ELAPSED_TIME  float64\n",
            " 18  AIR_TIME             float64\n",
            " 19  DISTANCE             float64\n",
            "dtypes: float64(13), int64(3), object(4)\n",
            "memory usage: 1.1+ GB\n",
            "None\n"
          ]
        }
      ]
    },
    {
      "cell_type": "code",
      "source": [
        "df.head()"
      ],
      "metadata": {
        "colab": {
          "base_uri": "https://localhost:8080/",
          "height": 313
        },
        "id": "58WhEA_a5X0t",
        "outputId": "068ae5da-9bdc-4900-bbf0-f7d05bf60988"
      },
      "execution_count": 19,
      "outputs": [
        {
          "output_type": "execute_result",
          "data": {
            "text/plain": [
              "      FL_DATE OP_CARRIER  OP_CARRIER_FL_NUM ORIGIN DEST  CRS_DEP_TIME  \\\n",
              "0  2018-01-01         UA               2429    EWR  DEN          1517   \n",
              "1  2018-01-01         UA               2427    LAS  SFO          1115   \n",
              "2  2018-01-01         UA               2426    SNA  DEN          1335   \n",
              "3  2018-01-01         UA               2425    RSW  ORD          1546   \n",
              "4  2018-01-01         UA               2424    ORD  ALB           630   \n",
              "\n",
              "   DEP_TIME  DEP_DELAY  TAXI_OUT  WHEELS_OFF  WHEELS_ON  TAXI_IN  \\\n",
              "0    1512.0       -5.0      15.0      1527.0     1712.0     10.0   \n",
              "1    1107.0       -8.0      11.0      1118.0     1223.0      7.0   \n",
              "2    1330.0       -5.0      15.0      1345.0     1631.0      5.0   \n",
              "3    1552.0        6.0      19.0      1611.0     1748.0      6.0   \n",
              "4     650.0       20.0      13.0       703.0      926.0     10.0   \n",
              "\n",
              "   CRS_ARR_TIME  ARR_TIME  ARR_DELAY  CANCELLED  CRS_ELAPSED_TIME  \\\n",
              "0          1745    1722.0      -23.0        0.0             268.0   \n",
              "1          1254    1230.0      -24.0        0.0              99.0   \n",
              "2          1649    1636.0      -13.0        0.0             134.0   \n",
              "3          1756    1754.0       -2.0        0.0             190.0   \n",
              "4           922     936.0       14.0        0.0             112.0   \n",
              "\n",
              "   ACTUAL_ELAPSED_TIME  AIR_TIME  DISTANCE  \n",
              "0                250.0     225.0    1605.0  \n",
              "1                 83.0      65.0     414.0  \n",
              "2                126.0     106.0     846.0  \n",
              "3                182.0     157.0    1120.0  \n",
              "4                106.0      83.0     723.0  "
            ],
            "text/html": [
              "\n",
              "  <div id=\"df-92d37016-66c6-4bf4-971d-7f88fb6e2766\" class=\"colab-df-container\">\n",
              "    <div>\n",
              "<style scoped>\n",
              "    .dataframe tbody tr th:only-of-type {\n",
              "        vertical-align: middle;\n",
              "    }\n",
              "\n",
              "    .dataframe tbody tr th {\n",
              "        vertical-align: top;\n",
              "    }\n",
              "\n",
              "    .dataframe thead th {\n",
              "        text-align: right;\n",
              "    }\n",
              "</style>\n",
              "<table border=\"1\" class=\"dataframe\">\n",
              "  <thead>\n",
              "    <tr style=\"text-align: right;\">\n",
              "      <th></th>\n",
              "      <th>FL_DATE</th>\n",
              "      <th>OP_CARRIER</th>\n",
              "      <th>OP_CARRIER_FL_NUM</th>\n",
              "      <th>ORIGIN</th>\n",
              "      <th>DEST</th>\n",
              "      <th>CRS_DEP_TIME</th>\n",
              "      <th>DEP_TIME</th>\n",
              "      <th>DEP_DELAY</th>\n",
              "      <th>TAXI_OUT</th>\n",
              "      <th>WHEELS_OFF</th>\n",
              "      <th>WHEELS_ON</th>\n",
              "      <th>TAXI_IN</th>\n",
              "      <th>CRS_ARR_TIME</th>\n",
              "      <th>ARR_TIME</th>\n",
              "      <th>ARR_DELAY</th>\n",
              "      <th>CANCELLED</th>\n",
              "      <th>CRS_ELAPSED_TIME</th>\n",
              "      <th>ACTUAL_ELAPSED_TIME</th>\n",
              "      <th>AIR_TIME</th>\n",
              "      <th>DISTANCE</th>\n",
              "    </tr>\n",
              "  </thead>\n",
              "  <tbody>\n",
              "    <tr>\n",
              "      <th>0</th>\n",
              "      <td>2018-01-01</td>\n",
              "      <td>UA</td>\n",
              "      <td>2429</td>\n",
              "      <td>EWR</td>\n",
              "      <td>DEN</td>\n",
              "      <td>1517</td>\n",
              "      <td>1512.0</td>\n",
              "      <td>-5.0</td>\n",
              "      <td>15.0</td>\n",
              "      <td>1527.0</td>\n",
              "      <td>1712.0</td>\n",
              "      <td>10.0</td>\n",
              "      <td>1745</td>\n",
              "      <td>1722.0</td>\n",
              "      <td>-23.0</td>\n",
              "      <td>0.0</td>\n",
              "      <td>268.0</td>\n",
              "      <td>250.0</td>\n",
              "      <td>225.0</td>\n",
              "      <td>1605.0</td>\n",
              "    </tr>\n",
              "    <tr>\n",
              "      <th>1</th>\n",
              "      <td>2018-01-01</td>\n",
              "      <td>UA</td>\n",
              "      <td>2427</td>\n",
              "      <td>LAS</td>\n",
              "      <td>SFO</td>\n",
              "      <td>1115</td>\n",
              "      <td>1107.0</td>\n",
              "      <td>-8.0</td>\n",
              "      <td>11.0</td>\n",
              "      <td>1118.0</td>\n",
              "      <td>1223.0</td>\n",
              "      <td>7.0</td>\n",
              "      <td>1254</td>\n",
              "      <td>1230.0</td>\n",
              "      <td>-24.0</td>\n",
              "      <td>0.0</td>\n",
              "      <td>99.0</td>\n",
              "      <td>83.0</td>\n",
              "      <td>65.0</td>\n",
              "      <td>414.0</td>\n",
              "    </tr>\n",
              "    <tr>\n",
              "      <th>2</th>\n",
              "      <td>2018-01-01</td>\n",
              "      <td>UA</td>\n",
              "      <td>2426</td>\n",
              "      <td>SNA</td>\n",
              "      <td>DEN</td>\n",
              "      <td>1335</td>\n",
              "      <td>1330.0</td>\n",
              "      <td>-5.0</td>\n",
              "      <td>15.0</td>\n",
              "      <td>1345.0</td>\n",
              "      <td>1631.0</td>\n",
              "      <td>5.0</td>\n",
              "      <td>1649</td>\n",
              "      <td>1636.0</td>\n",
              "      <td>-13.0</td>\n",
              "      <td>0.0</td>\n",
              "      <td>134.0</td>\n",
              "      <td>126.0</td>\n",
              "      <td>106.0</td>\n",
              "      <td>846.0</td>\n",
              "    </tr>\n",
              "    <tr>\n",
              "      <th>3</th>\n",
              "      <td>2018-01-01</td>\n",
              "      <td>UA</td>\n",
              "      <td>2425</td>\n",
              "      <td>RSW</td>\n",
              "      <td>ORD</td>\n",
              "      <td>1546</td>\n",
              "      <td>1552.0</td>\n",
              "      <td>6.0</td>\n",
              "      <td>19.0</td>\n",
              "      <td>1611.0</td>\n",
              "      <td>1748.0</td>\n",
              "      <td>6.0</td>\n",
              "      <td>1756</td>\n",
              "      <td>1754.0</td>\n",
              "      <td>-2.0</td>\n",
              "      <td>0.0</td>\n",
              "      <td>190.0</td>\n",
              "      <td>182.0</td>\n",
              "      <td>157.0</td>\n",
              "      <td>1120.0</td>\n",
              "    </tr>\n",
              "    <tr>\n",
              "      <th>4</th>\n",
              "      <td>2018-01-01</td>\n",
              "      <td>UA</td>\n",
              "      <td>2424</td>\n",
              "      <td>ORD</td>\n",
              "      <td>ALB</td>\n",
              "      <td>630</td>\n",
              "      <td>650.0</td>\n",
              "      <td>20.0</td>\n",
              "      <td>13.0</td>\n",
              "      <td>703.0</td>\n",
              "      <td>926.0</td>\n",
              "      <td>10.0</td>\n",
              "      <td>922</td>\n",
              "      <td>936.0</td>\n",
              "      <td>14.0</td>\n",
              "      <td>0.0</td>\n",
              "      <td>112.0</td>\n",
              "      <td>106.0</td>\n",
              "      <td>83.0</td>\n",
              "      <td>723.0</td>\n",
              "    </tr>\n",
              "  </tbody>\n",
              "</table>\n",
              "</div>\n",
              "    <div class=\"colab-df-buttons\">\n",
              "\n",
              "  <div class=\"colab-df-container\">\n",
              "    <button class=\"colab-df-convert\" onclick=\"convertToInteractive('df-92d37016-66c6-4bf4-971d-7f88fb6e2766')\"\n",
              "            title=\"Convert this dataframe to an interactive table.\"\n",
              "            style=\"display:none;\">\n",
              "\n",
              "  <svg xmlns=\"http://www.w3.org/2000/svg\" height=\"24px\" viewBox=\"0 -960 960 960\">\n",
              "    <path d=\"M120-120v-720h720v720H120Zm60-500h600v-160H180v160Zm220 220h160v-160H400v160Zm0 220h160v-160H400v160ZM180-400h160v-160H180v160Zm440 0h160v-160H620v160ZM180-180h160v-160H180v160Zm440 0h160v-160H620v160Z\"/>\n",
              "  </svg>\n",
              "    </button>\n",
              "\n",
              "  <style>\n",
              "    .colab-df-container {\n",
              "      display:flex;\n",
              "      gap: 12px;\n",
              "    }\n",
              "\n",
              "    .colab-df-convert {\n",
              "      background-color: #E8F0FE;\n",
              "      border: none;\n",
              "      border-radius: 50%;\n",
              "      cursor: pointer;\n",
              "      display: none;\n",
              "      fill: #1967D2;\n",
              "      height: 32px;\n",
              "      padding: 0 0 0 0;\n",
              "      width: 32px;\n",
              "    }\n",
              "\n",
              "    .colab-df-convert:hover {\n",
              "      background-color: #E2EBFA;\n",
              "      box-shadow: 0px 1px 2px rgba(60, 64, 67, 0.3), 0px 1px 3px 1px rgba(60, 64, 67, 0.15);\n",
              "      fill: #174EA6;\n",
              "    }\n",
              "\n",
              "    .colab-df-buttons div {\n",
              "      margin-bottom: 4px;\n",
              "    }\n",
              "\n",
              "    [theme=dark] .colab-df-convert {\n",
              "      background-color: #3B4455;\n",
              "      fill: #D2E3FC;\n",
              "    }\n",
              "\n",
              "    [theme=dark] .colab-df-convert:hover {\n",
              "      background-color: #434B5C;\n",
              "      box-shadow: 0px 1px 3px 1px rgba(0, 0, 0, 0.15);\n",
              "      filter: drop-shadow(0px 1px 2px rgba(0, 0, 0, 0.3));\n",
              "      fill: #FFFFFF;\n",
              "    }\n",
              "  </style>\n",
              "\n",
              "    <script>\n",
              "      const buttonEl =\n",
              "        document.querySelector('#df-92d37016-66c6-4bf4-971d-7f88fb6e2766 button.colab-df-convert');\n",
              "      buttonEl.style.display =\n",
              "        google.colab.kernel.accessAllowed ? 'block' : 'none';\n",
              "\n",
              "      async function convertToInteractive(key) {\n",
              "        const element = document.querySelector('#df-92d37016-66c6-4bf4-971d-7f88fb6e2766');\n",
              "        const dataTable =\n",
              "          await google.colab.kernel.invokeFunction('convertToInteractive',\n",
              "                                                    [key], {});\n",
              "        if (!dataTable) return;\n",
              "\n",
              "        const docLinkHtml = 'Like what you see? Visit the ' +\n",
              "          '<a target=\"_blank\" href=https://colab.research.google.com/notebooks/data_table.ipynb>data table notebook</a>'\n",
              "          + ' to learn more about interactive tables.';\n",
              "        element.innerHTML = '';\n",
              "        dataTable['output_type'] = 'display_data';\n",
              "        await google.colab.output.renderOutput(dataTable, element);\n",
              "        const docLink = document.createElement('div');\n",
              "        docLink.innerHTML = docLinkHtml;\n",
              "        element.appendChild(docLink);\n",
              "      }\n",
              "    </script>\n",
              "  </div>\n",
              "\n",
              "\n",
              "<div id=\"df-2f3785fb-e9c9-4f9c-b2c4-7b2de25084db\">\n",
              "  <button class=\"colab-df-quickchart\" onclick=\"quickchart('df-2f3785fb-e9c9-4f9c-b2c4-7b2de25084db')\"\n",
              "            title=\"Suggest charts\"\n",
              "            style=\"display:none;\">\n",
              "\n",
              "<svg xmlns=\"http://www.w3.org/2000/svg\" height=\"24px\"viewBox=\"0 0 24 24\"\n",
              "     width=\"24px\">\n",
              "    <g>\n",
              "        <path d=\"M19 3H5c-1.1 0-2 .9-2 2v14c0 1.1.9 2 2 2h14c1.1 0 2-.9 2-2V5c0-1.1-.9-2-2-2zM9 17H7v-7h2v7zm4 0h-2V7h2v10zm4 0h-2v-4h2v4z\"/>\n",
              "    </g>\n",
              "</svg>\n",
              "  </button>\n",
              "\n",
              "<style>\n",
              "  .colab-df-quickchart {\n",
              "      --bg-color: #E8F0FE;\n",
              "      --fill-color: #1967D2;\n",
              "      --hover-bg-color: #E2EBFA;\n",
              "      --hover-fill-color: #174EA6;\n",
              "      --disabled-fill-color: #AAA;\n",
              "      --disabled-bg-color: #DDD;\n",
              "  }\n",
              "\n",
              "  [theme=dark] .colab-df-quickchart {\n",
              "      --bg-color: #3B4455;\n",
              "      --fill-color: #D2E3FC;\n",
              "      --hover-bg-color: #434B5C;\n",
              "      --hover-fill-color: #FFFFFF;\n",
              "      --disabled-bg-color: #3B4455;\n",
              "      --disabled-fill-color: #666;\n",
              "  }\n",
              "\n",
              "  .colab-df-quickchart {\n",
              "    background-color: var(--bg-color);\n",
              "    border: none;\n",
              "    border-radius: 50%;\n",
              "    cursor: pointer;\n",
              "    display: none;\n",
              "    fill: var(--fill-color);\n",
              "    height: 32px;\n",
              "    padding: 0;\n",
              "    width: 32px;\n",
              "  }\n",
              "\n",
              "  .colab-df-quickchart:hover {\n",
              "    background-color: var(--hover-bg-color);\n",
              "    box-shadow: 0 1px 2px rgba(60, 64, 67, 0.3), 0 1px 3px 1px rgba(60, 64, 67, 0.15);\n",
              "    fill: var(--button-hover-fill-color);\n",
              "  }\n",
              "\n",
              "  .colab-df-quickchart-complete:disabled,\n",
              "  .colab-df-quickchart-complete:disabled:hover {\n",
              "    background-color: var(--disabled-bg-color);\n",
              "    fill: var(--disabled-fill-color);\n",
              "    box-shadow: none;\n",
              "  }\n",
              "\n",
              "  .colab-df-spinner {\n",
              "    border: 2px solid var(--fill-color);\n",
              "    border-color: transparent;\n",
              "    border-bottom-color: var(--fill-color);\n",
              "    animation:\n",
              "      spin 1s steps(1) infinite;\n",
              "  }\n",
              "\n",
              "  @keyframes spin {\n",
              "    0% {\n",
              "      border-color: transparent;\n",
              "      border-bottom-color: var(--fill-color);\n",
              "      border-left-color: var(--fill-color);\n",
              "    }\n",
              "    20% {\n",
              "      border-color: transparent;\n",
              "      border-left-color: var(--fill-color);\n",
              "      border-top-color: var(--fill-color);\n",
              "    }\n",
              "    30% {\n",
              "      border-color: transparent;\n",
              "      border-left-color: var(--fill-color);\n",
              "      border-top-color: var(--fill-color);\n",
              "      border-right-color: var(--fill-color);\n",
              "    }\n",
              "    40% {\n",
              "      border-color: transparent;\n",
              "      border-right-color: var(--fill-color);\n",
              "      border-top-color: var(--fill-color);\n",
              "    }\n",
              "    60% {\n",
              "      border-color: transparent;\n",
              "      border-right-color: var(--fill-color);\n",
              "    }\n",
              "    80% {\n",
              "      border-color: transparent;\n",
              "      border-right-color: var(--fill-color);\n",
              "      border-bottom-color: var(--fill-color);\n",
              "    }\n",
              "    90% {\n",
              "      border-color: transparent;\n",
              "      border-bottom-color: var(--fill-color);\n",
              "    }\n",
              "  }\n",
              "</style>\n",
              "\n",
              "  <script>\n",
              "    async function quickchart(key) {\n",
              "      const quickchartButtonEl =\n",
              "        document.querySelector('#' + key + ' button');\n",
              "      quickchartButtonEl.disabled = true;  // To prevent multiple clicks.\n",
              "      quickchartButtonEl.classList.add('colab-df-spinner');\n",
              "      try {\n",
              "        const charts = await google.colab.kernel.invokeFunction(\n",
              "            'suggestCharts', [key], {});\n",
              "      } catch (error) {\n",
              "        console.error('Error during call to suggestCharts:', error);\n",
              "      }\n",
              "      quickchartButtonEl.classList.remove('colab-df-spinner');\n",
              "      quickchartButtonEl.classList.add('colab-df-quickchart-complete');\n",
              "    }\n",
              "    (() => {\n",
              "      let quickchartButtonEl =\n",
              "        document.querySelector('#df-2f3785fb-e9c9-4f9c-b2c4-7b2de25084db button');\n",
              "      quickchartButtonEl.style.display =\n",
              "        google.colab.kernel.accessAllowed ? 'block' : 'none';\n",
              "    })();\n",
              "  </script>\n",
              "</div>\n",
              "    </div>\n",
              "  </div>\n"
            ]
          },
          "metadata": {},
          "execution_count": 19
        }
      ]
    },
    {
      "cell_type": "markdown",
      "source": [
        "- We can use `describe()` to obtain key statistical information about the numerical columns in the dataset. This includes measures such as the mean, standard deviation, minimum, 25th percentile (Q1), median (50th percentile or Q2), 75th percentile (Q3), and maximum values."
      ],
      "metadata": {
        "id": "C3bShkNgz5lK"
      }
    },
    {
      "cell_type": "code",
      "source": [
        "print(df.describe())"
      ],
      "metadata": {
        "colab": {
          "base_uri": "https://localhost:8080/"
        },
        "id": "3IGoQbEdzxty",
        "outputId": "a6fc8914-43a1-48f4-d539-3b3e3a1b2bfc"
      },
      "execution_count": 20,
      "outputs": [
        {
          "output_type": "stream",
          "name": "stdout",
          "text": [
            "       OP_CARRIER_FL_NUM  CRS_DEP_TIME      DEP_TIME     DEP_DELAY  \\\n",
            "count       7.071817e+06  7.071817e+06  7.071817e+06  7.071817e+06   \n",
            "mean        2.596264e+03  1.328552e+03  1.333715e+03  9.902050e+00   \n",
            "std         1.858259e+03  4.908422e+02  5.045693e+02  4.464612e+01   \n",
            "min         1.000000e+00  1.000000e+00  1.000000e+00 -1.220000e+02   \n",
            "25%         1.018000e+03  9.140000e+02  9.160000e+02 -5.000000e+00   \n",
            "50%         2.119000e+03  1.320000e+03  1.326000e+03 -2.000000e+00   \n",
            "75%         4.060000e+03  1.735000e+03  1.744000e+03  7.000000e+00   \n",
            "max         7.909000e+03  2.359000e+03  2.400000e+03  2.710000e+03   \n",
            "\n",
            "           TAXI_OUT    WHEELS_OFF     WHEELS_ON       TAXI_IN  CRS_ARR_TIME  \\\n",
            "count  7.071817e+06  7.071817e+06  7.071817e+06  7.071817e+06  7.071817e+06   \n",
            "mean   1.739675e+01  1.357723e+03  1.462093e+03  7.595056e+00  1.485222e+03   \n",
            "std    9.904040e+00  5.060399e+02  5.332033e+02  6.041841e+00  5.181999e+02   \n",
            "min    1.000000e+00  1.000000e+00  1.000000e+00  1.000000e+00  1.000000e+00   \n",
            "25%    1.100000e+01  9.310000e+02  1.044000e+03  4.000000e+00  1.100000e+03   \n",
            "50%    1.500000e+01  1.340000e+03  1.502000e+03  6.000000e+00  1.515000e+03   \n",
            "75%    2.000000e+01  1.759000e+03  1.911000e+03  9.000000e+00  1.918000e+03   \n",
            "max    1.960000e+02  2.400000e+03  2.400000e+03  2.590000e+02  2.400000e+03   \n",
            "\n",
            "           ARR_TIME     ARR_DELAY  CANCELLED  CRS_ELAPSED_TIME  \\\n",
            "count  7.071817e+06  7.071817e+06  7071817.0      7.071817e+06   \n",
            "mean   1.466748e+03  5.055708e+00        0.0      1.413772e+02   \n",
            "std    5.374200e+02  4.693941e+01        0.0      7.350376e+01   \n",
            "min    1.000000e+00 -1.200000e+02        0.0     -9.900000e+01   \n",
            "25%    1.048000e+03 -1.400000e+01        0.0      8.800000e+01   \n",
            "50%    1.506000e+03 -6.000000e+00        0.0      1.220000e+02   \n",
            "75%    1.916000e+03  8.000000e+00        0.0      1.710000e+02   \n",
            "max    2.400000e+03  2.692000e+03        0.0      7.040000e+02   \n",
            "\n",
            "       ACTUAL_ELAPSED_TIME      AIR_TIME      DISTANCE  \n",
            "count         7.071817e+06  7.071817e+06  7.071817e+06  \n",
            "mean          1.365311e+02  1.115393e+02  8.026195e+02  \n",
            "std           7.315899e+01  7.113138e+01  5.994219e+02  \n",
            "min           1.400000e+01  7.000000e+00  3.100000e+01  \n",
            "25%           8.300000e+01  6.000000e+01  3.630000e+02  \n",
            "50%           1.180000e+02  9.200000e+01  6.340000e+02  \n",
            "75%           1.670000e+02  1.410000e+02  1.035000e+03  \n",
            "max           7.570000e+02  6.960000e+02  4.983000e+03  \n"
          ]
        }
      ]
    },
    {
      "cell_type": "markdown",
      "source": [
        "## Step 4: Feature Selection"
      ],
      "metadata": {
        "id": "boVOEI4vFv_B"
      }
    },
    {
      "cell_type": "markdown",
      "source": [
        "#### Correlation Analysis\n",
        "In this step, we calculate the correlation between each feature and the target variable 'ARR_DELAY'. Features with an absolute correlation coefficient greater than 0.1 are considered relevant and selected for further analysis. This is done to focus on features that have a meaningful relationship with the target variable."
      ],
      "metadata": {
        "id": "kclWldWIwEFP"
      }
    },
    {
      "cell_type": "code",
      "source": [
        "# Assuming 'ARR_DELAY' is the target variable\n",
        "target_correlation_2018 = df.corr()['ARR_DELAY']\n",
        "selected_features_2018 = target_correlation_2018[abs(target_correlation_2018) > 0.1].index\n",
        "\n",
        "# Display selected features\n",
        "print(\"Selected Features based on Correlation (2018):\")\n",
        "print(selected_features_2018)\n",
        "\n",
        "# Create a new DataFrame with selected features\n",
        "df_selected_2018 = df[selected_features_2018]\n"
      ],
      "metadata": {
        "colab": {
          "base_uri": "https://localhost:8080/"
        },
        "id": "NTm-9ot-uzJm",
        "outputId": "5b1e084f-877b-4250-8772-f374b41602f9"
      },
      "execution_count": 21,
      "outputs": [
        {
          "output_type": "stream",
          "name": "stderr",
          "text": [
            "<ipython-input-21-156b2e08872d>:2: FutureWarning: The default value of numeric_only in DataFrame.corr is deprecated. In a future version, it will default to False. Select only valid columns or specify the value of numeric_only to silence this warning.\n",
            "  target_correlation_2018 = df.corr()['ARR_DELAY']\n"
          ]
        },
        {
          "output_type": "stream",
          "name": "stdout",
          "text": [
            "Selected Features based on Correlation (2018):\n",
            "Index(['DEP_TIME', 'DEP_DELAY', 'TAXI_OUT', 'WHEELS_OFF', 'TAXI_IN',\n",
            "       'ARR_DELAY'],\n",
            "      dtype='object')\n"
          ]
        }
      ]
    },
    {
      "cell_type": "markdown",
      "source": [
        "#### Domain Knowledge\n",
        "Features are included based on domain knowledge for the year 2018. These features are selected because they are considered relevant in the context of airline delays and cancellations. Domain knowledge is crucial in identifying features that are likely to have a significant impact on the target variable."
      ],
      "metadata": {
        "id": "mh6znXH2wU0f"
      }
    },
    {
      "cell_type": "code",
      "source": [
        "# Include features based on domain knowledge for the year 2018\n",
        "domain_features_2018 = [\n",
        "    'OP_CARRIER', 'ORIGIN', 'DEST', 'CRS_DEP_TIME', 'DEP_DELAY', 'TAXI_OUT', 'WHEELS_OFF',\n",
        "    'WHEELS_ON', 'TAXI_IN', 'CRS_ARR_TIME', 'CANCELLED', 'CRS_ELAPSED_TIME', 'ACTUAL_ELAPSED_TIME', 'AIR_TIME', 'DISTANCE'\n",
        "]\n",
        "df_selected_2018 = df[domain_features_2018]\n"
      ],
      "metadata": {
        "id": "U8Q3PnaKwL6x"
      },
      "execution_count": 22,
      "outputs": []
    },
    {
      "cell_type": "markdown",
      "source": [
        "##STEP 5 : Feature Preprocessing"
      ],
      "metadata": {
        "id": "O49JsLJdF25E"
      }
    },
    {
      "cell_type": "markdown",
      "source": [
        "#### Handling Missing Values\n",
        "Missing values in the selected features for the year 2018 are checked, and in this case, rows with missing values are dropped. This decision can be adjusted based on the nature of missing data and the chosen imputation strategy."
      ],
      "metadata": {
        "id": "K7fBFapfwxcS"
      }
    },
    {
      "cell_type": "code",
      "source": [
        "# Check for missing values in the selected features for the year 2018\n",
        "missing_values_2018 = df_selected_2018.isnull().sum()\n",
        "\n",
        "# Drop rows with missing values (you might use imputation techniques based on your analysis)\n",
        "df_selected_2018 = df_selected_2018.dropna()\n"
      ],
      "metadata": {
        "id": "UfVGrBNaw5eE"
      },
      "execution_count": 23,
      "outputs": []
    },
    {
      "cell_type": "markdown",
      "source": [
        "#### Handling Outliers\n",
        "Outliers in the 'DEP_DELAY' and 'ARR_DELAY' columns of the selected features for the year 2018 are addressed by removing rows with extreme values. This is done to prevent outliers from disproportionately influencing the analysis or machine learning models."
      ],
      "metadata": {
        "id": "3PczxU1vxBPg"
      }
    },
    {
      "cell_type": "code",
      "source": [
        "# Handling outliers in the selected features for the year 2018\n",
        "# For example, removing rows with extreme values in 'DEP_DELAY' and 'ARR_DELAY'\n",
        "df = df[(df['DEP_DELAY'] < 200) & (df['ARR_DELAY'] < 200)]\n"
      ],
      "metadata": {
        "id": "dcfrdlzLxF8N"
      },
      "execution_count": 24,
      "outputs": []
    },
    {
      "cell_type": "markdown",
      "source": [
        "#### Normalization\n",
        "Numeric features in the selected features for the year 2018, such as 'DEP_DELAY' and 'ARR_DELAY', are standardized using StandardScaler. Standardization ensures that these features have a mean of 0 and a standard deviation of 1, which is important for certain machine learning algorithms."
      ],
      "metadata": {
        "id": "3i_1G8ES0Naw"
      }
    },
    {
      "cell_type": "code",
      "source": [
        "from sklearn.preprocessing import StandardScaler\n",
        "\n",
        "# Standardize data for the selected numeric features for the year 2018\n",
        "numeric_features_2018 = ['DEP_DELAY', 'TAXI_OUT', 'WHEELS_OFF', 'WHEELS_ON', 'TAXI_IN', 'ARR_DELAY', 'CRS_ELAPSED_TIME', 'ACTUAL_ELAPSED_TIME', 'AIR_TIME', 'DISTANCE']\n",
        "\n",
        "scaler_2018 = StandardScaler()\n",
        "df[numeric_features_2018] = scaler_2018.fit_transform(df[numeric_features_2018])\n"
      ],
      "metadata": {
        "id": "Axr7Jl1myeiV"
      },
      "execution_count": 25,
      "outputs": []
    },
    {
      "cell_type": "markdown",
      "source": [
        "##STEP 6 : Feature Transformation\n",
        "\n",
        "Data transformation in flight analysis is essential for standardizing data formats, handling missing values, and aligning variables with analysis requirements. It enhances the quality and usability of the data by addressing issues such as normalization, noise reduction, and dimensionality reduction."
      ],
      "metadata": {
        "id": "Kn_9yzh3GBHi"
      }
    },
    {
      "cell_type": "markdown",
      "source": [
        "###Speed Features\n",
        "\n",
        "This information can be valuable to have clear understanding for the efficiency of flight routes, identifying outliers, or exploring patterns related to different airlines, airports, or time periods.\n",
        "\n",
        "####1. Calculate the average speed of the flight by dividing distance by air time.\n"
      ],
      "metadata": {
        "id": "n_aePf5Kb-Js"
      }
    },
    {
      "cell_type": "code",
      "source": [
        "df['SPEED'] = df['DISTANCE'] / df['AIR_TIME']"
      ],
      "metadata": {
        "id": "uIemydIcb8US"
      },
      "execution_count": 26,
      "outputs": []
    },
    {
      "cell_type": "markdown",
      "source": [
        "####2. Logarithmic Transformation"
      ],
      "metadata": {
        "id": "NXqF7jLmhKhV"
      }
    },
    {
      "cell_type": "code",
      "source": [
        "from scipy.stats import skew\n",
        "\n",
        "speed_skewness = skew(df['SPEED'])\n",
        "print(f'Skewness of SPEED: {speed_skewness}')"
      ],
      "metadata": {
        "colab": {
          "base_uri": "https://localhost:8080/"
        },
        "id": "O0AF9OVig-cs",
        "outputId": "1f9380fa-b524-4060-9171-0de6792cd86c"
      },
      "execution_count": 27,
      "outputs": [
        {
          "output_type": "stream",
          "name": "stdout",
          "text": [
            "Skewness of SPEED: -0.7064329707643099\n"
          ]
        }
      ]
    },
    {
      "cell_type": "code",
      "source": [
        "df['LOG_SPEED'] = np.log1p(df['SPEED'])"
      ],
      "metadata": {
        "colab": {
          "base_uri": "https://localhost:8080/"
        },
        "id": "QfcXx6Tmgyw3",
        "outputId": "eda8fdf4-a766-4b97-e0a0-bd00eb4cb671"
      },
      "execution_count": 28,
      "outputs": [
        {
          "output_type": "stream",
          "name": "stderr",
          "text": [
            "/usr/local/lib/python3.10/dist-packages/pandas/core/arraylike.py:402: RuntimeWarning: invalid value encountered in log1p\n",
            "  result = getattr(ufunc, method)(*inputs, **kwargs)\n"
          ]
        }
      ]
    },
    {
      "cell_type": "markdown",
      "source": [
        "####3. Interaction between Distance and Speed"
      ],
      "metadata": {
        "id": "wGtjkZIdhlLj"
      }
    },
    {
      "cell_type": "code",
      "source": [
        "df['DISTANCE_SPEED_INTERACTION'] = df['DISTANCE'] * df['SPEED']"
      ],
      "metadata": {
        "id": "QSwY1VB-hkc_"
      },
      "execution_count": 29,
      "outputs": []
    },
    {
      "cell_type": "code",
      "source": [
        "# Display statistics for the original features and the interaction feature\n",
        "print(df[['DISTANCE', 'SPEED', 'DISTANCE_SPEED_INTERACTION']].describe())"
      ],
      "metadata": {
        "colab": {
          "base_uri": "https://localhost:8080/"
        },
        "id": "9oHvq677imK0",
        "outputId": "9bd730f5-2f80-460b-bd86-2917d115834d"
      },
      "execution_count": 30,
      "outputs": [
        {
          "output_type": "stream",
          "name": "stdout",
          "text": [
            "           DISTANCE         SPEED  DISTANCE_SPEED_INTERACTION\n",
            "count  7.007161e+06  7.007161e+06                7.007161e+06\n",
            "mean   8.995607e-17  9.918046e-01                1.648001e-02\n",
            "std    1.000000e+00  2.432640e+00                1.278570e+00\n",
            "min   -1.287195e+00 -1.549034e+02               -1.447755e+02\n",
            "25%   -7.333714e-01  8.643586e-01               -7.703646e-01\n",
            "50%   -2.813043e-01  9.769140e-01               -2.950450e-01\n",
            "75%    3.876215e-01  1.128123e+00                4.640652e-01\n",
            "max    6.973455e+00  1.455266e+02                1.590804e+02\n"
          ]
        }
      ]
    },
    {
      "cell_type": "markdown",
      "source": [
        "###AirTime Features\n",
        "\n",
        "\n",
        "\n",
        "####1. Logarithmic Transformation\n",
        "\n"
      ],
      "metadata": {
        "id": "sqSHI7CdZvms"
      }
    },
    {
      "cell_type": "code",
      "source": [
        "# Check for case-sensitive column names\n",
        "print('AIR_TIME' in df.columns)"
      ],
      "metadata": {
        "colab": {
          "base_uri": "https://localhost:8080/"
        },
        "id": "CtBgjcjqbbGs",
        "outputId": "73297ff7-6931-4e53-cbb6-2784b616e460"
      },
      "execution_count": 31,
      "outputs": [
        {
          "output_type": "stream",
          "name": "stdout",
          "text": [
            "True\n"
          ]
        }
      ]
    },
    {
      "cell_type": "code",
      "source": [
        "log_air_time_values = np.log1p(df['AIR_TIME'])"
      ],
      "metadata": {
        "colab": {
          "base_uri": "https://localhost:8080/"
        },
        "id": "8sHhUGQfZ345",
        "outputId": "aab7f4af-584e-409c-def9-c5dcb44dce1f"
      },
      "execution_count": 32,
      "outputs": [
        {
          "output_type": "stream",
          "name": "stderr",
          "text": [
            "/usr/local/lib/python3.10/dist-packages/pandas/core/arraylike.py:402: RuntimeWarning: invalid value encountered in log1p\n",
            "  result = getattr(ufunc, method)(*inputs, **kwargs)\n"
          ]
        }
      ]
    },
    {
      "cell_type": "code",
      "source": [
        "# Create a new column 'LOG_AIR_TIME' in the DataFrame\n",
        "df['LOG_AIR_TIME'] = log_air_time_values"
      ],
      "metadata": {
        "id": "fUZ1vnfVj03L"
      },
      "execution_count": 33,
      "outputs": []
    },
    {
      "cell_type": "code",
      "source": [
        "#Display the result after transformation\n",
        "print(df[['AIR_TIME', 'LOG_AIR_TIME']].head())"
      ],
      "metadata": {
        "colab": {
          "base_uri": "https://localhost:8080/"
        },
        "id": "RiLofYUKj-lH",
        "outputId": "dc6b1f66-e495-4a9e-fd50-71cc6ecb9ef3"
      },
      "execution_count": 34,
      "outputs": [
        {
          "output_type": "stream",
          "name": "stdout",
          "text": [
            "   AIR_TIME  LOG_AIR_TIME\n",
            "0  1.595090      0.953621\n",
            "1 -0.654057     -1.061482\n",
            "2 -0.077713     -0.080899\n",
            "3  0.639202      0.494210\n",
            "4 -0.401028     -0.512541\n"
          ]
        }
      ]
    },
    {
      "cell_type": "markdown",
      "source": [
        "####2. Standardization or Min-Max Scaling\n",
        "\n"
      ],
      "metadata": {
        "id": "fxWBYbRVkhJ9"
      }
    },
    {
      "cell_type": "code",
      "source": [
        "from sklearn.preprocessing import StandardScaler, MinMaxScaler\n",
        "\n",
        "# Standardization\n",
        "scaler = StandardScaler()\n",
        "df['AIR_TIME_STANDARDIZED'] = scaler.fit_transform(df[['AIR_TIME']])\n",
        "\n",
        "# Min-Max Scaling\n",
        "minmax_scaler = MinMaxScaler()\n",
        "df['AIR_TIME_MINMAX_SCALED'] = minmax_scaler.fit_transform(df[['AIR_TIME']])\n"
      ],
      "metadata": {
        "id": "9VgjcyD-kfIX"
      },
      "execution_count": 35,
      "outputs": []
    },
    {
      "cell_type": "markdown",
      "source": [
        "####3. Interaction between Air Time and other features"
      ],
      "metadata": {
        "id": "zW0zJedSkQG9"
      }
    },
    {
      "cell_type": "code",
      "source": [
        "df['LOG_AIR_TIME_SPEED_INTERACTION'] = df['LOG_AIR_TIME'] * df['SPEED']"
      ],
      "metadata": {
        "id": "nQ9dor4EkYe6"
      },
      "execution_count": 36,
      "outputs": []
    },
    {
      "cell_type": "code",
      "source": [
        "# Set the maximum number of displayed columns to a high number\n",
        "pd.set_option('display.max_columns', None)\n",
        "\n",
        "# Display relevant columns including the new interaction feature\n",
        "print(df[['LOG_AIR_TIME', 'SPEED', 'LOG_AIR_TIME_SPEED_INTERACTION']].head())\n",
        "\n",
        "# Reset the maximum number of displayed columns to the default value if needed\n",
        "pd.set_option('display.max_columns', 20)"
      ],
      "metadata": {
        "colab": {
          "base_uri": "https://localhost:8080/"
        },
        "id": "WH18qG03lYCw",
        "outputId": "e853c7fa-b2b0-4856-9718-059762ca5199"
      },
      "execution_count": 37,
      "outputs": [
        {
          "output_type": "stream",
          "name": "stdout",
          "text": [
            "   LOG_AIR_TIME     SPEED  LOG_AIR_TIME_SPEED_INTERACTION\n",
            "0      0.953621  0.839115                        0.800198\n",
            "1     -1.061482  0.991192                       -1.052132\n",
            "2     -0.080899 -0.930886                        0.075308\n",
            "3      0.494210  0.828241                        0.409325\n",
            "4     -0.512541  0.331247                       -0.169778\n"
          ]
        }
      ]
    },
    {
      "cell_type": "markdown",
      "source": [
        "##STEP 7 : Feature Creation\n",
        "\n",
        "Feature creation in flight analysis involves generating new variables or transforming existing ones to provide additional insights. This process enhances the dataset by deriving meaningful metrics, such as speed from position coordinates or fuel efficiency, to aid in comprehensive analysis."
      ],
      "metadata": {
        "id": "_Jb3buI1GD6R"
      }
    },
    {
      "cell_type": "markdown",
      "source": [
        "###Creating Time of Day Categories\n",
        "We can analyze more the departure and arrival time by extracting the data from from the scheduled one which it will turns into hour or minutes. It can be useful for capturing time-related patterns more granularly."
      ],
      "metadata": {
        "id": "Muvq8qlD8zrY"
      }
    },
    {
      "cell_type": "markdown",
      "source": [
        "#### 1. Convert to Datetime Format\n",
        "Make sure both of your time is already in DATETIME datatype before proceeding to extraction for better manipulation."
      ],
      "metadata": {
        "id": "eZYlrXlKWdCq"
      }
    },
    {
      "cell_type": "code",
      "source": [
        "# Check the data types of 'CRS_DEP_TIME'' and 'CRS_ARR_DATETIME'\n",
        "dep_datetime_data_type = df['CRS_DEP_TIME'].dtype\n",
        "arr_datetime_data_type = df['CRS_ARR_TIME'].dtype\n",
        "\n",
        "# Print the results\n",
        "print(f'Data type of CRS_DEP_TIME: {dep_datetime_data_type}')\n",
        "print(f'Data type of CRS_ARR_TIME: {arr_datetime_data_type}')"
      ],
      "metadata": {
        "colab": {
          "base_uri": "https://localhost:8080/"
        },
        "id": "qNQfxIH2P4g-",
        "outputId": "df85c610-7e17-4eed-8b35-bcb66bf04965"
      },
      "execution_count": 38,
      "outputs": [
        {
          "output_type": "stream",
          "name": "stdout",
          "text": [
            "Data type of CRS_DEP_TIME: int64\n",
            "Data type of CRS_ARR_TIME: int64\n"
          ]
        }
      ]
    },
    {
      "cell_type": "code",
      "source": [
        "# Display the data for 'CRS_ARR_TIME' and 'CRS_DEP_TIME' columns\n",
        "time_columns = df[['CRS_ARR_TIME', 'CRS_DEP_TIME']]\n",
        "print(time_columns.head())"
      ],
      "metadata": {
        "colab": {
          "base_uri": "https://localhost:8080/"
        },
        "id": "YiA7BZevTAsI",
        "outputId": "b05a10ad-a680-4c34-b8c4-6db5cd8a67ef"
      },
      "execution_count": 39,
      "outputs": [
        {
          "output_type": "stream",
          "name": "stdout",
          "text": [
            "   CRS_ARR_TIME  CRS_DEP_TIME\n",
            "0          1745          1517\n",
            "1          1254          1115\n",
            "2          1649          1335\n",
            "3          1756          1546\n",
            "4           922           630\n"
          ]
        }
      ]
    },
    {
      "cell_type": "code",
      "source": [
        " # Select the first 1000 rows for testing\n",
        "\n",
        "small_df = df.head(1000)\n",
        "df['CRS_ARR_TIME'] = df['CRS_ARR_TIME'].astype('uint16')\n",
        "df['CRS_DEP_TIME'] = df['CRS_DEP_TIME'].astype('uint16')"
      ],
      "metadata": {
        "id": "yxWORCLJWBXV"
      },
      "execution_count": 40,
      "outputs": []
    },
    {
      "cell_type": "code",
      "source": [
        " # Include only necessary columns\n",
        " df = df[['FL_DATE', 'CRS_DEP_TIME', 'CRS_ARR_TIME']]"
      ],
      "metadata": {
        "id": "vaTYhMD4W4C6"
      },
      "execution_count": 41,
      "outputs": []
    },
    {
      "cell_type": "code",
      "source": [
        "# Drop rows with missing or inconsistent time data\n",
        "df = df.dropna(subset=['FL_DATE', 'CRS_DEP_TIME', 'CRS_ARR_TIME'])\n",
        "\n",
        "# Convert to datetime with zfill and format\n",
        "df['CRS_DEP_DATETIME'] = pd.to_datetime(df['FL_DATE'].astype(str) + df['CRS_DEP_TIME'].astype(str).str.zfill(4), format='%Y-%m-%d%H%M', errors='coerce')\n",
        "df['CRS_ARR_DATETIME'] = pd.to_datetime(df['FL_DATE'].astype(str) + df['CRS_ARR_TIME'].astype(str).str.zfill(4), format='%Y-%m-%d%H%M', errors='coerce')\n"
      ],
      "metadata": {
        "id": "ZpL8Rwu3XHqP"
      },
      "execution_count": 42,
      "outputs": []
    },
    {
      "cell_type": "markdown",
      "source": [
        "#### 2. Extract Time By Hour and Minutes\n",
        "\n",
        "This step involves converting the 'CRS_DEP_TIME' and 'CRS_ARR_TIME' columns to datetime format. Then, temporal features such as the departure hour ('DepHour') and arrival hour ('ArrHour') are extracted. The original time columns are dropped, leaving only the newly extracted features."
      ],
      "metadata": {
        "id": "YIfH6SuXWSKa"
      }
    },
    {
      "cell_type": "code",
      "source": [
        "#Create new columns for both departure and arrival's hour and minutes\n",
        "\n",
        "df['DEP_HOUR'] = df['CRS_DEP_DATETIME'].dt.hour\n",
        "df['DEP_MINUTE'] = df['CRS_DEP_DATETIME'].dt.minute\n",
        "\n",
        "df['ARR_HOUR'] = df['CRS_ARR_DATETIME'].dt.hour\n",
        "df['ARR_MINUTE'] = df['CRS_ARR_DATETIME'].dt.minute"
      ],
      "metadata": {
        "id": "1Z-s-0p3HSkz"
      },
      "execution_count": 43,
      "outputs": []
    },
    {
      "cell_type": "code",
      "source": [
        "# Display if the departure time is during the day or night\n",
        "df['DEP_TIME_OF_DAY'] = pd.cut(df['DEP_HOUR'], bins=[0, 6, 12, 18, 24], labels=['Night', 'Morning', 'Afternoon', 'Evening'])\n",
        "\n",
        "# Display if the arrival time is during the day or night\n",
        "df['ARR_TIME_OF_DAY'] = pd.cut(df['ARR_HOUR'], bins=[0, 6, 12, 18, 24], labels=['Night', 'Morning', 'Afternoon', 'Evening'])\n"
      ],
      "metadata": {
        "id": "CcPL4jtnY4Xa"
      },
      "execution_count": 44,
      "outputs": []
    },
    {
      "cell_type": "code",
      "source": [
        "# Display the result\n",
        "selected_columns = ['ARR_TIME_OF_DAY', 'CRS_DEP_TIME', 'DEP_TIME_OF_DAY', 'CRS_ARR_TIME']\n",
        "print(df[selected_columns])"
      ],
      "metadata": {
        "colab": {
          "base_uri": "https://localhost:8080/"
        },
        "id": "bXINzeDEZJoD",
        "outputId": "933ae30a-ee74-4467-e3c8-9702aaa9a25f"
      },
      "execution_count": 45,
      "outputs": [
        {
          "output_type": "stream",
          "name": "stdout",
          "text": [
            "        ARR_TIME_OF_DAY  CRS_DEP_TIME DEP_TIME_OF_DAY  CRS_ARR_TIME\n",
            "0             Afternoon          1517       Afternoon          1745\n",
            "1               Morning          1115         Morning          1254\n",
            "2             Afternoon          1335       Afternoon          1649\n",
            "3             Afternoon          1546       Afternoon          1756\n",
            "4               Morning           630           Night           922\n",
            "...                 ...           ...             ...           ...\n",
            "7213441       Afternoon          1534       Afternoon          1714\n",
            "7213442         Evening          1751       Afternoon          1952\n",
            "7213443         Evening          2015         Evening          2107\n",
            "7213444       Afternoon          1300       Afternoon          1350\n",
            "7213445       Afternoon          1435       Afternoon          1546\n",
            "\n",
            "[7007161 rows x 4 columns]\n"
          ]
        }
      ]
    },
    {
      "cell_type": "markdown",
      "source": [
        "###Flight Duration Features\n",
        "\n",
        "This feature represents the scheduled duration of the flight as per the computerized reservation system by creating new column *CRS_FLIGHT_DURATION_HOURS*"
      ],
      "metadata": {
        "id": "HOLAIP0Bp8se"
      }
    },
    {
      "cell_type": "code",
      "source": [
        "print(df.columns)"
      ],
      "metadata": {
        "colab": {
          "base_uri": "https://localhost:8080/"
        },
        "id": "trCAhvq3s5al",
        "outputId": "ddf93af1-e26e-4b9b-a7df-9a346d170c38"
      },
      "execution_count": 46,
      "outputs": [
        {
          "output_type": "stream",
          "name": "stdout",
          "text": [
            "Index(['FL_DATE', 'CRS_DEP_TIME', 'CRS_ARR_TIME', 'CRS_DEP_DATETIME',\n",
            "       'CRS_ARR_DATETIME', 'DEP_HOUR', 'DEP_MINUTE', 'ARR_HOUR', 'ARR_MINUTE',\n",
            "       'DEP_TIME_OF_DAY', 'ARR_TIME_OF_DAY'],\n",
            "      dtype='object')\n"
          ]
        }
      ]
    },
    {
      "cell_type": "code",
      "source": [
        "df['CRS_FLIGHT_DURATION_HOURS'] = (df['CRS_ARR_DATETIME'] - df['CRS_DEP_DATETIME']).dt.total_seconds() / 3600"
      ],
      "metadata": {
        "id": "0hgyKitark77"
      },
      "execution_count": 47,
      "outputs": []
    },
    {
      "cell_type": "code",
      "source": [
        "#This will print the first 1000 values from the 'CRS_FLIGHT_DURATION_HOURS' column in your DataFrame.\n",
        "print(df['CRS_FLIGHT_DURATION_HOURS'].head(1000))"
      ],
      "metadata": {
        "colab": {
          "base_uri": "https://localhost:8080/"
        },
        "id": "BOHw38RZtTYM",
        "outputId": "fcae635d-57eb-459c-ca1d-1cc837ad631e"
      },
      "execution_count": 48,
      "outputs": [
        {
          "output_type": "stream",
          "name": "stdout",
          "text": [
            "0       2.466667\n",
            "1       1.650000\n",
            "2       3.233333\n",
            "3       2.166667\n",
            "4       2.866667\n",
            "          ...   \n",
            "1008    2.316667\n",
            "1009    5.616667\n",
            "1010    1.133333\n",
            "1011    3.200000\n",
            "1012    2.233333\n",
            "Name: CRS_FLIGHT_DURATION_HOURS, Length: 1000, dtype: float64\n"
          ]
        }
      ]
    },
    {
      "cell_type": "markdown",
      "source": [
        "##STEP 8 : Visualization\n",
        "\n",
        "\n",
        "Feature visualization in flight analysis is crucial for representing complex data patterns and relationships graphically, aiding in the interpretation of information. It involves creating visual representations, such as charts or graphs, to effectively communicate patterns, trends, and anomalies within the dataset."
      ],
      "metadata": {
        "id": "cSuZhaddGJ4p"
      }
    },
    {
      "cell_type": "markdown",
      "source": [
        "### Line Plot of Flight Duration Over Time\n",
        "\n",
        "It shows how the flight duration varies over time(hours) for the selected subset of data. Each point on the line corresponds to a specific scheduled departure datetime, and the vertical position indicates the corresponding flight duration. Patterns, trends, or anomalies in the data can be visually inspected.\n"
      ],
      "metadata": {
        "id": "Lpuw1gJYiIPW"
      }
    },
    {
      "cell_type": "code",
      "source": [
        "print(df.columns)\n",
        "\n",
        "print(df.info())"
      ],
      "metadata": {
        "colab": {
          "base_uri": "https://localhost:8080/"
        },
        "id": "p86INifNtf9I",
        "outputId": "d92dac5e-b074-4f25-a62c-5a7c62bbf279"
      },
      "execution_count": 49,
      "outputs": [
        {
          "output_type": "stream",
          "name": "stdout",
          "text": [
            "Index(['FL_DATE', 'CRS_DEP_TIME', 'CRS_ARR_TIME', 'CRS_DEP_DATETIME',\n",
            "       'CRS_ARR_DATETIME', 'DEP_HOUR', 'DEP_MINUTE', 'ARR_HOUR', 'ARR_MINUTE',\n",
            "       'DEP_TIME_OF_DAY', 'ARR_TIME_OF_DAY', 'CRS_FLIGHT_DURATION_HOURS'],\n",
            "      dtype='object')\n",
            "<class 'pandas.core.frame.DataFrame'>\n",
            "Int64Index: 7007161 entries, 0 to 7213445\n",
            "Data columns (total 12 columns):\n",
            " #   Column                     Dtype         \n",
            "---  ------                     -----         \n",
            " 0   FL_DATE                    object        \n",
            " 1   CRS_DEP_TIME               uint16        \n",
            " 2   CRS_ARR_TIME               uint16        \n",
            " 3   CRS_DEP_DATETIME           datetime64[ns]\n",
            " 4   CRS_ARR_DATETIME           datetime64[ns]\n",
            " 5   DEP_HOUR                   int64         \n",
            " 6   DEP_MINUTE                 int64         \n",
            " 7   ARR_HOUR                   float64       \n",
            " 8   ARR_MINUTE                 float64       \n",
            " 9   DEP_TIME_OF_DAY            category      \n",
            " 10  ARR_TIME_OF_DAY            category      \n",
            " 11  CRS_FLIGHT_DURATION_HOURS  float64       \n",
            "dtypes: category(2), datetime64[ns](2), float64(3), int64(2), object(1), uint16(2)\n",
            "memory usage: 521.2+ MB\n",
            "None\n"
          ]
        }
      ]
    },
    {
      "cell_type": "code",
      "source": [
        "import matplotlib\n",
        "import matplotlib.pyplot as plt\n",
        "\n",
        "#Increase agg.path.chunksize\n",
        "plt.rcParams['agg.path.chunksize'] = 20000\n",
        "\n",
        "#Increase path.simplify_threshold\n",
        "plt.rcParams['path.simplify_threshold'] = 0.2\n"
      ],
      "metadata": {
        "id": "WWpo2Nkfwf8B"
      },
      "execution_count": 50,
      "outputs": []
    },
    {
      "cell_type": "code",
      "source": [
        "# Select the first 1000 rows of the DataFrame as a subset\n",
        "subset_df = df.head(1000)[['CRS_DEP_DATETIME', 'CRS_FLIGHT_DURATION_HOURS']].sort_values(\"CRS_DEP_DATETIME\")"
      ],
      "metadata": {
        "id": "lHucFIrlocU6"
      },
      "execution_count": 51,
      "outputs": []
    },
    {
      "cell_type": "code",
      "source": [
        "# Line plot of flight duration over time for the subset\n",
        "plt.figure(figsize=(12, 6))\n",
        "plt.plot(subset_df['CRS_DEP_DATETIME'], subset_df['CRS_FLIGHT_DURATION_HOURS'], label='Flight Duration (Hours)', color='blue')\n",
        "plt.xlabel('Scheduled Departure Datetime')\n",
        "plt.ylabel('Flight Duration (Hours)')\n",
        "plt.title('Flight Duration Over Time (Subset of Data)')\n",
        "plt.legend()"
      ],
      "metadata": {
        "id": "LRz4iry5iHfs",
        "colab": {
          "base_uri": "https://localhost:8080/",
          "height": 582
        },
        "outputId": "6702cd5f-9675-4d28-99be-a7e292062825"
      },
      "execution_count": 52,
      "outputs": [
        {
          "output_type": "execute_result",
          "data": {
            "text/plain": [
              "<matplotlib.legend.Legend at 0x78e78e3f6b30>"
            ]
          },
          "metadata": {},
          "execution_count": 52
        },
        {
          "output_type": "display_data",
          "data": {
            "text/plain": [
              "<Figure size 1200x600 with 1 Axes>"
            ],
            "image/png": "[encoded data removed]"
          },
          "metadata": {}
        }
      ]
    },
    {
      "cell_type": "markdown",
      "source": [
        "###Box Plot of Flight Duration by Time of Day\n",
        "\n",
        "This visualization helps in understanding how flight durations vary during different times of the day and whether there are notable differences or patterns in the distribution.\n",
        "\n",
        "\n",
        "\n",
        "\n",
        "\n",
        "\n"
      ],
      "metadata": {
        "id": "Afis8os2v4x-"
      }
    },
    {
      "cell_type": "code",
      "source": [
        "import seaborn as sns\n",
        "\n",
        "# Box plot of flight duration by time of day\n",
        "plt.figure(figsize=(12, 6))\n",
        "sns.boxplot(x='DEP_TIME_OF_DAY', y='CRS_FLIGHT_DURATION_HOURS', data=df, palette='viridis')\n",
        "plt.xlabel('Departure Time of Day')\n",
        "plt.ylabel('Flight Duration (Hours)')\n",
        "plt.title('Flight Duration by Time of Day')\n"
      ],
      "metadata": {
        "id": "yaCtP2pyv-Yb",
        "colab": {
          "base_uri": "https://localhost:8080/",
          "height": 582
        },
        "outputId": "f6479015-66b5-4775-f7d6-59e0ba5c7aa7"
      },
      "execution_count": 53,
      "outputs": [
        {
          "output_type": "execute_result",
          "data": {
            "text/plain": [
              "Text(0.5, 1.0, 'Flight Duration by Time of Day')"
            ]
          },
          "metadata": {},
          "execution_count": 53
        },
        {
          "output_type": "display_data",
          "data": {
            "text/plain": [
              "<Figure size 1200x600 with 1 Axes>"
            ],
            "image/png": "[encoded data removed]"
          },
          "metadata": {}
        }
      ]
    },
    {
      "cell_type": "markdown",
      "source": [
        "###Histogram of Monthly Flight Durations\n",
        "\n",
        "It visualizes the distribution of flight durations, showing how frequently different durations occur in the dataset.\n"
      ],
      "metadata": {
        "id": "yEVhJWQSwDwf"
      }
    },
    {
      "cell_type": "code",
      "source": [
        "# Set the size of the figure\n",
        "plt.figure(figsize=(12, 6))\n",
        "\n",
        "# Use Seaborn's histplot function to create a histogram\n",
        "sns.histplot(df['CRS_FLIGHT_DURATION_HOURS'], bins=20, kde=True, color='green')\n",
        "\n",
        "# Add labels to the x and y axes\n",
        "plt.xlabel('Flight Duration (Hours)')\n",
        "plt.ylabel('Frequency')\n",
        "\n",
        "# Add a title to the plot\n",
        "plt.title('Distribution of Flight Durations')\n"
      ],
      "metadata": {
        "id": "6xxOIKwawCu6",
        "colab": {
          "base_uri": "https://localhost:8080/",
          "height": 582
        },
        "outputId": "4764cc5c-819e-4014-e881-d7c41caa9e18"
      },
      "execution_count": 54,
      "outputs": [
        {
          "output_type": "execute_result",
          "data": {
            "text/plain": [
              "Text(0.5, 1.0, 'Distribution of Flight Durations')"
            ]
          },
          "metadata": {},
          "execution_count": 54
        },
        {
          "output_type": "display_data",
          "data": {
            "text/plain": [
              "<Figure size 1200x600 with 1 Axes>"
            ],
            "image/png": "[encoded data removed]"
          },
          "metadata": {}
        }
      ]
    },
    {
      "cell_type": "code",
      "source": [
        "\n",
        "# Set the size of the figure\n",
        "plt.figure(figsize=(12, 6))\n",
        "\n",
        "# Use Seaborn's histplot function to create a histogram\n",
        "sns.histplot(data = df, x = 'CRS_FLIGHT_DURATION_HOURS', bins=20, kde=True, color='green')\n",
        "\n",
        "# Add labels to the x and y axes\n",
        "plt.xlabel('Flight Duration (Hours)')\n",
        "plt.ylabel('Frequency')\n",
        "\n",
        "# Add a title to the plot\n",
        "plt.title('Distribution of Flight Durations')\n"
      ],
      "metadata": {
        "colab": {
          "base_uri": "https://localhost:8080/",
          "height": 582
        },
        "id": "pR_r3RqBc-EH",
        "outputId": "f11231ae-5e2a-49b1-ae31-f74b0da3b019"
      },
      "execution_count": 55,
      "outputs": [
        {
          "output_type": "execute_result",
          "data": {
            "text/plain": [
              "Text(0.5, 1.0, 'Distribution of Flight Durations')"
            ]
          },
          "metadata": {},
          "execution_count": 55
        },
        {
          "output_type": "display_data",
          "data": {
            "text/plain": [
              "<Figure size 1200x600 with 1 Axes>"
            ],
            "image/png": "[encoded data removed]"
          },
          "metadata": {}
        }
      ]
    },
    {
      "cell_type": "markdown",
      "source": [
        "### Correlation Heatmap\n"
      ],
      "metadata": {
        "id": "pz1AG75EyiJk"
      }
    },
    {
      "cell_type": "code",
      "source": [
        "# Set the size of the figure\n",
        "plt.figure(figsize=(10, 8))\n",
        "\n",
        "# Use Seaborn's heatmap function to create a correlation heatmap\n",
        "sns.heatmap(df.select_dtypes(include='number').corr(), annot=True, cmap='coolwarm', fmt='.2f')\n",
        "\n",
        "# Add a title to the plot\n",
        "plt.title('Correlation Heatmap')\n"
      ],
      "metadata": {
        "id": "M0Fv8obVymsi",
        "colab": {
          "base_uri": "https://localhost:8080/",
          "height": 923
        },
        "outputId": "1a5b0f68-5e1b-465f-a19f-18e81f6494f5"
      },
      "execution_count": 56,
      "outputs": [
        {
          "output_type": "execute_result",
          "data": {
            "text/plain": [
              "Text(0.5, 1.0, 'Correlation Heatmap')"
            ]
          },
          "metadata": {},
          "execution_count": 56
        },
        {
          "output_type": "display_data",
          "data": {
            "text/plain": [
              "<Figure size 1000x800 with 2 Axes>"
            ],
            "image/png": "[encoded data removed]"
          },
          "metadata": {}
        }
      ]
    },
    {
      "cell_type": "markdown",
      "source": [
        "##STEP 9 : Conclusion"
      ],
      "metadata": {
        "id": "_EreR0M8GSPy"
      }
    },
    {
      "cell_type": "markdown",
      "source": [
        "\n",
        "\n",
        "- The Python script successfully loads the \"Airline Delay and Cancellation Data (2018)\" dataset into a Pandas DataFrame.\n",
        "- This sets the stage for further analysis, enabling the exploration of patterns, trends, and insights related to airline delays and cancellations in the specified year.\n",
        "- The chosen libraries, such as Pandas for data manipulation and visualization tools like Matplotlib, Seaborn, and Plotly, suggest a comprehensive approach to understanding and presenting the dataset's information.\n",
        "<br>\n",
        "\n",
        "- In this feature engineering process, we systematically addressed key steps to enhance the quality of the dataset and prepare it for further analysis or machine learning modeling. The chosen dataset, focusing on airline delay and cancellation data for the year 2018, underwent a series of transformations to extract meaningful information and improve its suitability for predictive modeling.\n",
        "<br>\n",
        "\n",
        "- Flight Duration\n",
        "\n",
        "    Based on the analysis been made, the flight durations range are from approximately 1.13 hours to 5.62 hours.\n",
        "    \n",
        "    - Scheduling and Planning:\n",
        "\n",
        "    > Airlines use flight duration information for scheduling and planning purposes. It influences decisions on route planning, crew scheduling, and optimizing resources.\n",
        "\n",
        "    - Passenger Experience:\n",
        "\n",
        "    > Passengers rely on accurate flight duration information when planning their journeys. Knowing the expected duration helps passengers schedule connecting flights, plan layovers, and organize ground transportation at their destination.\n",
        "\n",
        "\n",
        "- Flight Management\n",
        "\n",
        "    Most flights adhere to the scheduled time of day for departures and arrivals. However, anomalies exist, such as flights scheduled in the morning but departing at night, suggesting potential delays or rescheduling. Identifying such variations is crucial for understanding operational efficiency and punctuality in the airline industry.\n",
        "\n",
        "    - Operational Planning:\n",
        "\n",
        "    > The data can be used for future operational planning. For example, if certain times of day consistently experience delays, the airline can adjust scheduling or allocate additional resources during those periods.\n",
        "\n",
        "    - Departure and Arrival Delays:\n",
        "\n",
        "    > Differences between *CRS_DEP_TIME* and *DEP_TIME*, as well as *CRS_ARR_TIME* and *ARR_TIME*, represent potential delays. Analyzing these delays can help identify areas for improvement in terms of operational efficiency and punctuality.\n"
      ],
      "metadata": {
        "id": "HASzqkomtyN7"
      }
    }
  ]
}
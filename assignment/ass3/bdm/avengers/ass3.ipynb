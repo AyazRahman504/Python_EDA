{
  "nbformat": 4,
  "nbformat_minor": 0,
  "metadata": {
    "colab": {
      "provenance": [],
      "toc_visible": true,
      "mount_file_id": "1C0Y_cezpgx_3OOiYOEX9P01pHYwXkRde",
      "authorship_tag": "ABX9TyNrwSElSEcAqf0OejF4UF5L",
      "include_colab_link": true
    },
    "kernelspec": {
      "name": "python3",
      "display_name": "Python 3"
    },
    "language_info": {
      "name": "python"
    }
  },
  "cells": [
    {
      "cell_type": "markdown",
      "metadata": {
        "id": "view-in-github",
        "colab_type": "text"
      },
      "source": [
        "<a href=\"https://colab.research.google.com/github/drshahizan/Python_EDA/blob/main/assignment/ass3/bdm/avengers/ass3.ipynb\" target=\"_parent\"><img src=\"https://colab.research.google.com/assets/colab-badge.svg\" alt=\"Open In Colab\"/></a>"
      ]
    },
    {
      "cell_type": "markdown",
      "source": [
        "#Exploratory Data Analysis of Spotify's Musical Landscape August-September 2023\n",
        "\n",
        "| No. | GROUP NAME | MATRIC NUMBER |\n",
        "| --- | ---------- | ------------- |\n",
        "| 1.  | BAKUNGA BRONSON | MCS232006 |\n",
        "| 2.  | LWANGA AKSAM | MCS231016 |\n",
        "| 3.  | Ismail Maeen Fateh Allah Yaqot Alawami | MCS221028 |\n"
      ],
      "metadata": {
        "id": "sydLIPSrGwGi"
      }
    },
    {
      "cell_type": "markdown",
      "source": [
        "##Introduction\n",
        "In an era where music streaming has become a primary medium for audio consumption,understanding what kind of music people like and the characteristics of those songs is really important. This project is aiming to dive into Spotify's song data. We're going to explore a big collection of data that includes lots of details about the songs and information about the tracks.. Through this analysis, we seek to uncover hidden patterns, trends, and insights that define the current musical landscape on Spotify, providing a unique perspective on how listeners interact with music in the digital age.\n",
        "The analysis questions we are like to answers:\n",
        "1.   Are certain keys or modes more prevalent in track releases?\n",
        "2.   Does the spotify data indicate any particular trends in track valence and energy?\n",
        "\n",
        "3. What are the release patterns for Spotify tracks?\n",
        "4. How do acousticness, danceability, energy, and loudness trends behave over time?\n",
        "5. What are the common attributes of tracks in terms of 'vibe score'?\n",
        "\n"
      ],
      "metadata": {
        "id": "06LPMeL6I7BE"
      }
    },
    {
      "cell_type": "markdown",
      "source": [
        "\n",
        "###Big Data Tools Selection for Spotify Dataset Analysis\n",
        "The primary tool of choice is Apache Spark, known for its ability to handle large data volumes. It's compatible with Python, allowing the use of Python libraries like Pandas for data organization, and Matplotlib and Seaborn for visualization.\n",
        "\n",
        "In addition to Spark, Dask is also planned to be used. Dask is a Python tool that's useful for handling datasets larger than what Pandas can typically manage. It's beneficial for large tasks that don't require Spark's full capabilities.\n",
        "\n",
        " The combination of Apache Spark and Dask, along with Python's analytical libraries, provides a robust setup for effective EDA. This setup is expected to handle the Spotify dataset efficiently and help reveal significant insights."
      ],
      "metadata": {
        "id": "DcxNcXCOQuDI"
      }
    },
    {
      "cell_type": "markdown",
      "source": [
        "###Data Loading\n",
        "let's install the neccessary libraries and tools to be used for our EDA\n",
        "\n",
        "\n",
        "<a href=\"https://drive.google.com/file/d/1Vtxeg07qa7FmKasG7BG2GzgbY5TcnWzu/view?usp=sharing\">Link for Spotify Track csv file </a>\n",
        "</br>\n",
        "<a href=\"https://drive.google.com/file/d/1Vtxeg07qa7FmKasG7BG2GzgbY5TcnWzu/view?usp=sharing\">Link for Audio feature csv file </a>"
      ],
      "metadata": {
        "id": "Y3gggcsYR021"
      }
    },
    {
      "cell_type": "code",
      "source": [
        "#PySpark tool is installed since the dataset is too large (1 GB)\n",
        "!pip install pyspark\n",
        "\n",
        "#To be sure for outside use it,let make sure that the following are also installed\n",
        "!pip install pandas\n",
        "!pip install numpy"
      ],
      "metadata": {
        "colab": {
          "base_uri": "https://localhost:8080/"
        },
        "id": "6e2whOs-Jliu",
        "outputId": "635c710f-edf7-4a0c-e983-e7809566c331"
      },
      "execution_count": null,
      "outputs": [
        {
          "output_type": "stream",
          "name": "stdout",
          "text": [
            "Collecting pyspark\n",
            "  Downloading pyspark-3.5.0.tar.gz (316.9 MB)\n",
            "\u001b[2K     \u001b[90m━━━━━━━━━━━━━━━━━━━━━━━━━━━━━━━━━━━━━━━━\u001b[0m \u001b[32m316.9/316.9 MB\u001b[0m \u001b[31m4.9 MB/s\u001b[0m eta \u001b[36m0:00:00\u001b[0m\n",
            "\u001b[?25h  Preparing metadata (setup.py) ... \u001b[?25l\u001b[?25hdone\n",
            "Requirement already satisfied: py4j==0.10.9.7 in /usr/local/lib/python3.10/dist-packages (from pyspark) (0.10.9.7)\n",
            "Building wheels for collected packages: pyspark\n",
            "  Building wheel for pyspark (setup.py) ... \u001b[?25l\u001b[?25hdone\n",
            "  Created wheel for pyspark: filename=pyspark-3.5.0-py2.py3-none-any.whl size=317425344 sha256=db2c855f174176553be5265e022a96e57339040d4ea8424c3f91e843a3ea688b\n",
            "  Stored in directory: /root/.cache/pip/wheels/41/4e/10/c2cf2467f71c678cfc8a6b9ac9241e5e44a01940da8fbb17fc\n",
            "Successfully built pyspark\n",
            "Installing collected packages: pyspark\n",
            "Successfully installed pyspark-3.5.0\n",
            "Requirement already satisfied: pandas in /usr/local/lib/python3.10/dist-packages (1.5.3)\n",
            "Requirement already satisfied: python-dateutil>=2.8.1 in /usr/local/lib/python3.10/dist-packages (from pandas) (2.8.2)\n",
            "Requirement already satisfied: pytz>=2020.1 in /usr/local/lib/python3.10/dist-packages (from pandas) (2023.3.post1)\n",
            "Requirement already satisfied: numpy>=1.21.0 in /usr/local/lib/python3.10/dist-packages (from pandas) (1.23.5)\n",
            "Requirement already satisfied: six>=1.5 in /usr/local/lib/python3.10/dist-packages (from python-dateutil>=2.8.1->pandas) (1.16.0)\n",
            "Requirement already satisfied: numpy in /usr/local/lib/python3.10/dist-packages (1.23.5)\n"
          ]
        }
      ]
    },
    {
      "cell_type": "markdown",
      "source": [
        "let's do some imports here"
      ],
      "metadata": {
        "id": "MoneG_U2YDVV"
      }
    },
    {
      "cell_type": "code",
      "source": [
        "import pandas as pd\n",
        "import numpy as np\n",
        "import matplotlib.pyplot as plt\n",
        "import seaborn as sns\n"
      ],
      "metadata": {
        "id": "EWRHAle9YCPM"
      },
      "execution_count": null,
      "outputs": []
    },
    {
      "cell_type": "markdown",
      "source": [
        "Initialize a Spark Session"
      ],
      "metadata": {
        "id": "9jZUng8UYXAF"
      }
    },
    {
      "cell_type": "code",
      "source": [
        "from pyspark.sql import SparkSession\n",
        "spark = SparkSession.builder.master(\"local[*]\").appName(\"Spotify Data Analysis\").getOrCreate()\n"
      ],
      "metadata": {
        "id": "xL8eJdcjYU1K"
      },
      "execution_count": null,
      "outputs": []
    },
    {
      "cell_type": "markdown",
      "source": [
        "Download the csv files data"
      ],
      "metadata": {
        "id": "mMXRfcUGZ5YO"
      }
    },
    {
      "cell_type": "code",
      "source": [
        "#since the csv was uploaded on google drive  we need this tool to be able to download it\n",
        "!pip install gdown\n",
        "\n",
        "# the ID of the file on google drive 1Vtxeg07qa7FmKasG7BG2GzgbY5TcnWzu for spotify track\n",
        "!gdown --id 1Vtxeg07qa7FmKasG7BG2GzgbY5TcnWzu -O sp_track.csv\n",
        "\n",
        "# the ID of the file on google drive 1-741n0pCJIkl_m0tdHtRby6i0JJGBPfa for audio features\n",
        "!gdown --id 1-741n0pCJIkl_m0tdHtRby6i0JJGBPfa -O audio_feature.csv\n",
        "\n"
      ],
      "metadata": {
        "colab": {
          "base_uri": "https://localhost:8080/"
        },
        "id": "JnyqwUwlZ_FA",
        "outputId": "cd00c2f3-6573-44d3-c4c0-79efaabd3740"
      },
      "execution_count": null,
      "outputs": [
        {
          "output_type": "stream",
          "name": "stdout",
          "text": [
            "Requirement already satisfied: gdown in /usr/local/lib/python3.10/dist-packages (4.6.6)\n",
            "Requirement already satisfied: filelock in /usr/local/lib/python3.10/dist-packages (from gdown) (3.13.1)\n",
            "Requirement already satisfied: requests[socks] in /usr/local/lib/python3.10/dist-packages (from gdown) (2.31.0)\n",
            "Requirement already satisfied: six in /usr/local/lib/python3.10/dist-packages (from gdown) (1.16.0)\n",
            "Requirement already satisfied: tqdm in /usr/local/lib/python3.10/dist-packages (from gdown) (4.66.1)\n",
            "Requirement already satisfied: beautifulsoup4 in /usr/local/lib/python3.10/dist-packages (from gdown) (4.11.2)\n",
            "Requirement already satisfied: soupsieve>1.2 in /usr/local/lib/python3.10/dist-packages (from beautifulsoup4->gdown) (2.5)\n",
            "Requirement already satisfied: charset-normalizer<4,>=2 in /usr/local/lib/python3.10/dist-packages (from requests[socks]->gdown) (3.3.2)\n",
            "Requirement already satisfied: idna<4,>=2.5 in /usr/local/lib/python3.10/dist-packages (from requests[socks]->gdown) (3.4)\n",
            "Requirement already satisfied: urllib3<3,>=1.21.1 in /usr/local/lib/python3.10/dist-packages (from requests[socks]->gdown) (2.0.7)\n",
            "Requirement already satisfied: certifi>=2017.4.17 in /usr/local/lib/python3.10/dist-packages (from requests[socks]->gdown) (2023.7.22)\n",
            "Requirement already satisfied: PySocks!=1.5.7,>=1.5.6 in /usr/local/lib/python3.10/dist-packages (from requests[socks]->gdown) (1.7.1)\n",
            "/usr/local/lib/python3.10/dist-packages/gdown/cli.py:121: FutureWarning: Option `--id` was deprecated in version 4.3.1 and will be removed in 5.0. You don't need to pass it anymore to use a file ID.\n",
            "  warnings.warn(\n",
            "Downloading...\n",
            "From: https://drive.google.com/uc?id=1Vtxeg07qa7FmKasG7BG2GzgbY5TcnWzu\n",
            "To: /content/sp_track.csv\n",
            "100% 172M/172M [00:03<00:00, 47.5MB/s]\n",
            "/usr/local/lib/python3.10/dist-packages/gdown/cli.py:121: FutureWarning: Option `--id` was deprecated in version 4.3.1 and will be removed in 5.0. You don't need to pass it anymore to use a file ID.\n",
            "  warnings.warn(\n",
            "Downloading...\n",
            "From: https://drive.google.com/uc?id=1-741n0pCJIkl_m0tdHtRby6i0JJGBPfa\n",
            "To: /content/audio_feature.csv\n",
            "100% 480M/480M [00:07<00:00, 66.1MB/s]\n"
          ]
        }
      ]
    },
    {
      "cell_type": "code",
      "source": [
        "#read the csv using the spark\n",
        "df_sp_track = spark.read.csv('sp_track.csv', header=True, inferSchema=True)\n",
        "df_audio_features =spark.read.csv('audio_feature.csv',header=True,inferSchema=True)"
      ],
      "metadata": {
        "id": "DHNyFQHcb18J"
      },
      "execution_count": null,
      "outputs": []
    },
    {
      "cell_type": "code",
      "source": [
        "df_sp_track,df_audio_features"
      ],
      "metadata": {
        "colab": {
          "base_uri": "https://localhost:8080/"
        },
        "id": "M0svnRrkjbvm",
        "outputId": "ce0a0a89-85be-4fd2-8fb3-407eb83314e1"
      },
      "execution_count": null,
      "outputs": [
        {
          "output_type": "execute_result",
          "data": {
            "text/plain": [
              "(DataFrame[track_id: string, track_title: string, duration_ms: string, isrc: string, track_number: string, release_id: string, explicit: string, disc_number: string, preview_url: string, updated_on: string],\n",
              " DataFrame[isrc: string, acousticness: double, danceability: double, duration_ms: int, energy: double, instrumentalness: double, key: int, liveness: double, loudness: double, mode: int, speechiness: double, tempo: int, time_signature: int, valence: double, updated_on: timestamp])"
            ]
          },
          "metadata": {},
          "execution_count": 13
        }
      ]
    },
    {
      "cell_type": "markdown",
      "source": [
        "Let's display the first 5 rows for both dataframes and see what are going to explore"
      ],
      "metadata": {
        "id": "8xDGYyfil3A-"
      }
    },
    {
      "cell_type": "code",
      "source": [
        "df_sp_track.show(5)\n",
        "df_sp_track.printSchema()\n",
        "\n",
        "df_audio_features.show(5)\n",
        "df_audio_features.printSchema()\n"
      ],
      "metadata": {
        "colab": {
          "base_uri": "https://localhost:8080/"
        },
        "id": "sZa4QgcHkv0n",
        "outputId": "790f0d26-2f9e-4452-de5b-032142f98918"
      },
      "execution_count": null,
      "outputs": [
        {
          "output_type": "stream",
          "name": "stdout",
          "text": [
            "+--------------------+--------------------+-----------+------------+------------+--------------------+--------+-----------+--------------------+-------------------+\n",
            "|            track_id|         track_title|duration_ms|        isrc|track_number|          release_id|explicit|disc_number|         preview_url|         updated_on|\n",
            "+--------------------+--------------------+-----------+------------+------------+--------------------+--------+-----------+--------------------+-------------------+\n",
            "|05h7hLxcBXnM3dgUZ...|            Suckhole|     146878|DELJ82099977|          23|2MDhYMdgU5GHMj70k...|       f|          1|https://p.scdn.co...|2023-08-22 18:08:48|\n",
            "|07E5VE2mJxaEESXkO...|             Terrain|     260000|DELJ82099961|           7|2MDhYMdgU5GHMj70k...|       f|          1|https://p.scdn.co...|2023-08-22 18:08:48|\n",
            "|0kg1lYyW3yAGgF7sk...|Groove with You -...|     255666|USSM11501101|           8|72MfvP136wxG7aeTU...|       f|          1|https://p.scdn.co...|2023-08-22 18:08:48|\n",
            "|0xvdwCZkGpfA2kJ4r...|Livin' in the Lif...|     322573|USSM11501105|          12|72MfvP136wxG7aeTU...|       f|          1|https://p.scdn.co...|2023-08-22 18:08:48|\n",
            "|1hTE9UU9I5XThxw1w...|              L.g. 1|      92000|DELJ82099960|           6|2MDhYMdgU5GHMj70k...|       f|          1|https://p.scdn.co...|2023-08-22 18:08:48|\n",
            "+--------------------+--------------------+-----------+------------+------------+--------------------+--------+-----------+--------------------+-------------------+\n",
            "only showing top 5 rows\n",
            "\n",
            "root\n",
            " |-- track_id: string (nullable = true)\n",
            " |-- track_title: string (nullable = true)\n",
            " |-- duration_ms: string (nullable = true)\n",
            " |-- isrc: string (nullable = true)\n",
            " |-- track_number: string (nullable = true)\n",
            " |-- release_id: string (nullable = true)\n",
            " |-- explicit: string (nullable = true)\n",
            " |-- disc_number: string (nullable = true)\n",
            " |-- preview_url: string (nullable = true)\n",
            " |-- updated_on: string (nullable = true)\n",
            "\n",
            "+------------+------------+------------+-----------+------+----------------+---+--------+--------+----+-----------+-----+--------------+-------+-------------------+\n",
            "|        isrc|acousticness|danceability|duration_ms|energy|instrumentalness|key|liveness|loudness|mode|speechiness|tempo|time_signature|valence|         updated_on|\n",
            "+------------+------------+------------+-----------+------+----------------+---+--------+--------+----+-----------+-----+--------------+-------+-------------------+\n",
            "|AD4X65752184|       0.906|        0.65|     296733|  0.35|           0.775|  3|   0.114| -11.777|   1|     0.0284|  110|             4|  0.336|2023-08-24 09:27:00|\n",
            "|AEA0D1991170|      9.5E-4|       0.621|     191989| 0.639|            0.82|  7|   0.506|  -9.258|   1|     0.0775|  140|             4|  0.346|2023-08-24 09:30:04|\n",
            "|AEA0Q2004008|      0.0312|       0.692|     282904|  0.98|           0.866|  9|  0.0969|  -9.952|   1|     0.0881|  140|             4|  0.225|2023-08-24 09:30:04|\n",
            "|AEA0Q2004009|     5.58E-4|       0.516|     197904| 0.924|           0.434|  5|   0.153| -13.564|   0|       0.22|  148|             4|  0.204|2023-08-24 09:30:04|\n",
            "|AEA0Q2004010|     0.00938|       0.587|     199471|  0.91|           0.804|  0|   0.563| -10.552|   1|     0.0596|  136|             4|  0.321|2023-08-24 09:30:04|\n",
            "+------------+------------+------------+-----------+------+----------------+---+--------+--------+----+-----------+-----+--------------+-------+-------------------+\n",
            "only showing top 5 rows\n",
            "\n",
            "root\n",
            " |-- isrc: string (nullable = true)\n",
            " |-- acousticness: double (nullable = true)\n",
            " |-- danceability: double (nullable = true)\n",
            " |-- duration_ms: integer (nullable = true)\n",
            " |-- energy: double (nullable = true)\n",
            " |-- instrumentalness: double (nullable = true)\n",
            " |-- key: integer (nullable = true)\n",
            " |-- liveness: double (nullable = true)\n",
            " |-- loudness: double (nullable = true)\n",
            " |-- mode: integer (nullable = true)\n",
            " |-- speechiness: double (nullable = true)\n",
            " |-- tempo: integer (nullable = true)\n",
            " |-- time_signature: integer (nullable = true)\n",
            " |-- valence: double (nullable = true)\n",
            " |-- updated_on: timestamp (nullable = true)\n",
            "\n"
          ]
        }
      ]
    },
    {
      "cell_type": "markdown",
      "source": [
        "##Data Cleaning and Preprocessing\n",
        "Here we are addressing missing values, incorrect data, and formatting issues and merging the different dataframes"
      ],
      "metadata": {
        "id": "MoDbSpbokE_Q"
      }
    },
    {
      "cell_type": "code",
      "source": [
        "from pyspark.sql.functions import col,to_timestamp\n",
        "\n",
        "#sp_track dataframe datatype correction\n",
        "df_sp_track = df_sp_track.withColumn(\"track_number\", col(\"track_number\").cast(\"integer\"))\n",
        "df_sp_track = df_sp_track.withColumn(\"explicit\", col(\"explicit\").cast(\"integer\"))\n",
        "df_sp_track = df_sp_track.withColumn(\"disc_number\", col(\"disc_number\").cast(\"integer\"))\n",
        "\n",
        "#Convert 'updated_on' to timestamp type\n",
        "df_sp_track = df_sp_track.withColumn(\"updated_on\", to_timestamp(\"updated_on\"))\n",
        "\n",
        "#updated schema\n",
        "df_sp_track.printSchema()"
      ],
      "metadata": {
        "colab": {
          "base_uri": "https://localhost:8080/"
        },
        "id": "0A0JzetCkWAj",
        "outputId": "5c3aa1ae-0824-4a7b-e234-576372d44cc5"
      },
      "execution_count": null,
      "outputs": [
        {
          "output_type": "stream",
          "name": "stdout",
          "text": [
            "root\n",
            " |-- track_id: string (nullable = true)\n",
            " |-- track_title: string (nullable = true)\n",
            " |-- duration_ms: string (nullable = true)\n",
            " |-- isrc: string (nullable = true)\n",
            " |-- track_number: integer (nullable = true)\n",
            " |-- release_id: string (nullable = true)\n",
            " |-- explicit: integer (nullable = true)\n",
            " |-- disc_number: integer (nullable = true)\n",
            " |-- preview_url: string (nullable = true)\n",
            " |-- updated_on: timestamp (nullable = true)\n",
            "\n"
          ]
        }
      ]
    },
    {
      "cell_type": "code",
      "source": [
        "#let's remove the unneccesary columns\n",
        "df_sp_track = df_sp_track.drop('explicit', 'disc_number', 'preview_url')\n",
        "df_sp_track\n"
      ],
      "metadata": {
        "colab": {
          "base_uri": "https://localhost:8080/"
        },
        "id": "MCqwniFbwoU_",
        "outputId": "66ca2903-d2e1-45c3-e663-32b0648e1a6f"
      },
      "execution_count": null,
      "outputs": [
        {
          "output_type": "execute_result",
          "data": {
            "text/plain": [
              "DataFrame[track_id: string, track_title: string, duration_ms: string, isrc: string, track_number: int, release_id: string, updated_on: timestamp]"
            ]
          },
          "metadata": {},
          "execution_count": 16
        }
      ]
    },
    {
      "cell_type": "markdown",
      "source": [
        "Since the dataframe for audio features is okay, we shall proceed to the next steps"
      ],
      "metadata": {
        "id": "vxQ-PvniozWY"
      }
    },
    {
      "cell_type": "code",
      "source": [
        "sp_num_rows = df_sp_track.count()\n",
        "print(\"Number of spotify rows:\", sp_num_rows)\n",
        "audio_features_num_rows =df_audio_features.count()\n",
        "print(\"Number of Audio Features rows:\", audio_features_num_rows)"
      ],
      "metadata": {
        "colab": {
          "base_uri": "https://localhost:8080/"
        },
        "id": "mgwXuikuoW6-",
        "outputId": "a0310b04-601c-4726-ce46-c5d09467686f"
      },
      "execution_count": null,
      "outputs": [
        {
          "output_type": "stream",
          "name": "stdout",
          "text": [
            "Number of spotify rows: 774923\n",
            "Number of Audio Features rows: 4687104\n"
          ]
        }
      ]
    },
    {
      "cell_type": "code",
      "source": [
        "#given the dataset is large we shall simply drop na\n",
        "df_sp_track = df_sp_track.na.drop()\n",
        "df_audio_features = df_audio_features.na.drop()"
      ],
      "metadata": {
        "id": "1_Si026htPVS"
      },
      "execution_count": null,
      "outputs": []
    },
    {
      "cell_type": "code",
      "source": [
        "sp_num_rows = df_sp_track.count()\n",
        "print(\"Number of spotify rows:\", sp_num_rows)\n",
        "audio_features_num_rows =df_audio_features.count()\n",
        "print(\"Number of Audio Features rows:\", audio_features_num_rows)"
      ],
      "metadata": {
        "colab": {
          "base_uri": "https://localhost:8080/"
        },
        "id": "ixX5NrxAt3v3",
        "outputId": "09f52394-48cb-4185-91cb-1d140b25667f"
      },
      "execution_count": null,
      "outputs": [
        {
          "output_type": "stream",
          "name": "stdout",
          "text": [
            "Number of spotify rows: 774833\n",
            "Number of Audio Features rows: 4687104\n"
          ]
        }
      ]
    },
    {
      "cell_type": "code",
      "source": [
        "# Creating aliases for each DataFrame\n",
        "df_sp_track_alias = df_sp_track.alias(\"sp\")\n",
        "df_audio_features_alias = df_audio_features.alias(\"af\")\n",
        "df_sp_track = df_sp_track.withColumnRenamed('duration_ms', 'sp_duration_ms')\n",
        "\n",
        "df_audio_features = df_audio_features.withColumnRenamed('duration_ms', 'af_duration_ms')\n",
        "df_audio_features = df_audio_features.withColumnRenamed('updated_on', 'af_updated_on')\n",
        "\n",
        "# Perform the join using aliases\n",
        "df_merged = df_audio_features_alias.join(df_sp_track_alias, col(\"af.isrc\") == col(\"sp.isrc\"), \"left\")\n",
        "# Dropping one of the duplicate 'isrc' columns\n",
        "df_merged = df_merged.drop(col(\"sp.isrc\"))\n",
        "df_merged"
      ],
      "metadata": {
        "colab": {
          "base_uri": "https://localhost:8080/"
        },
        "id": "sRsmClFpyYzV",
        "outputId": "ebf139a3-3bae-4032-efc9-9d4395c4d2cb"
      },
      "execution_count": null,
      "outputs": [
        {
          "output_type": "execute_result",
          "data": {
            "text/plain": [
              "DataFrame[isrc: string, acousticness: double, danceability: double, af_duration_ms: int, energy: double, instrumentalness: double, key: int, liveness: double, loudness: double, mode: int, speechiness: double, tempo: int, time_signature: int, valence: double, af_updated_on: timestamp, track_id: string, track_title: string, sp_duration_ms: string, track_number: int, release_id: string, updated_on: timestamp]"
            ]
          },
          "metadata": {},
          "execution_count": 34
        }
      ]
    },
    {
      "cell_type": "markdown",
      "source": [
        "Let's consider it as a pandas DataFrame now . However this is not advisable since there are different environment requirements that might not be supported by such an operation when working with big data.\n",
        "If not sure as team , we request you use a sample fraction like 0.1\n",
        "<br/>\n",
        "```\n",
        "df_sampled = df_sp__track_audio_features.sample(fraction=0.1)\n",
        "```\n",
        "\n",
        "However , as we shall continue working with the pandas Data frame for our new merged data"
      ],
      "metadata": {
        "id": "fZsqV5GQyZiA"
      }
    },
    {
      "cell_type": "code",
      "source": [
        "\n",
        "def to_pandas_in_chunks(spark_df, chunk_size=1000000):\n",
        "    pandas_df_chunks = []\n",
        "    total_rows = spark_df.count()\n",
        "    for i in range(0, total_rows, chunk_size):\n",
        "        pandas_df_chunk = spark_df.limit(chunk_size).offset(i).toPandas()\n",
        "        pandas_df_chunks.append(pandas_df_chunk)\n",
        "    return pd.concat(pandas_df_chunks, ignore_index=True)\n",
        "\n",
        "\n",
        "pd_df_sp_track_audio_features = to_pandas_in_chunks(df_merged)\n",
        "pd_df_sp_track_audio_features.columns\n"
      ],
      "metadata": {
        "id": "NBJmByYU6T6s",
        "colab": {
          "base_uri": "https://localhost:8080/"
        },
        "outputId": "397b6f06-7c10-4f89-8b8f-511978961a59"
      },
      "execution_count": null,
      "outputs": [
        {
          "output_type": "execute_result",
          "data": {
            "text/plain": [
              "Index(['isrc', 'acousticness', 'danceability', 'af_duration_ms', 'energy',\n",
              "       'instrumentalness', 'key', 'liveness', 'loudness', 'mode',\n",
              "       'speechiness', 'tempo', 'time_signature', 'valence', 'af_updated_on',\n",
              "       'track_id', 'track_title', 'sp_duration_ms', 'track_number',\n",
              "       'release_id', 'updated_on'],\n",
              "      dtype='object')"
            ]
          },
          "metadata": {},
          "execution_count": 36
        }
      ]
    },
    {
      "cell_type": "markdown",
      "source": [
        "##Exploratory Data Analysis\n",
        "\n",
        "Through EDA, we aim to:\n",
        "\n",
        "1. <b>Summarize Main Characteristics:</b> We'll use summary statistics to get a feel for\n",
        "the data, looking at measures like the mean, median, and standard deviation, which provide insights into the central tendency and spread.\n",
        "\n",
        "2. <b>Uncover Patterns and Anomalies:</b> By exploring the data, we can identify any patterns, trends, or anomalies, which might lead to more specific questions or hypotheses.\n",
        "\n",
        "3. <b>Visualize Data:</b> Through graphs and plots, we'll visualize the data to understand distributions, relationships, and potential outliers. This can include histograms, scatter plots, and box plots.\n",
        "\n",
        "4. <b>Prepare for Further Analysis:</b> EDA helps in cleaning and transforming data, setting the stage for more complex analyses like predictive modeling or statistical testing."
      ],
      "metadata": {
        "id": "LVz7-0G_9o04"
      }
    },
    {
      "cell_type": "markdown",
      "source": [
        "###Statistical Summary"
      ],
      "metadata": {
        "id": "B3JDPWlAD1kG"
      }
    },
    {
      "cell_type": "code",
      "source": [
        "#summary\n",
        "pd_df_sp_track_audio_features.describe()\n"
      ],
      "metadata": {
        "id": "Bs1xmjmp9Q4M",
        "colab": {
          "base_uri": "https://localhost:8080/",
          "height": 320
        },
        "outputId": "dd45994e-8305-46ea-849d-378de92018de"
      },
      "execution_count": null,
      "outputs": [
        {
          "output_type": "execute_result",
          "data": {
            "text/plain": [
              "         acousticness    danceability  af_duration_ms          energy  \\\n",
              "count  1000000.000000  1000000.000000    1.000000e+06  1000000.000000   \n",
              "mean         0.109957        0.681971    3.383446e+05        0.713630   \n",
              "std          0.223433        0.155581    1.892204e+05        0.209371   \n",
              "min          0.000000        0.000000    1.045000e+03        0.000000   \n",
              "25%          0.000958        0.606000    2.437700e+05        0.582000   \n",
              "50%          0.008710        0.720000    3.400000e+05        0.748000   \n",
              "75%          0.080700        0.800000    4.117450e+05        0.884000   \n",
              "max          0.996000        1.000000    6.072567e+06        1.000000   \n",
              "\n",
              "       instrumentalness             key        liveness        loudness  \\\n",
              "count    1000000.000000  1000000.000000  1000000.000000  1000000.000000   \n",
              "mean           0.640862        5.557692        0.172892       -9.239397   \n",
              "std            0.338673        3.693823        0.162101        4.138255   \n",
              "min            0.000000        0.000000        0.000000      -60.000000   \n",
              "25%            0.417000        2.000000        0.083000      -11.094000   \n",
              "50%            0.821000        6.000000        0.109000       -8.681000   \n",
              "75%            0.891000        9.000000        0.187000       -6.623000   \n",
              "max            1.000000       11.000000        1.000000        5.485000   \n",
              "\n",
              "                 mode     speechiness           tempo  time_signature  \\\n",
              "count  1000000.000000  1000000.000000  1000000.000000  1000000.000000   \n",
              "mean         0.540909        0.085324      126.685102        3.960946   \n",
              "std          0.498324        0.082337       20.557330        0.308958   \n",
              "min          0.000000        0.000000        0.000000        0.000000   \n",
              "25%          0.000000        0.044500      120.000000        4.000000   \n",
              "50%          1.000000        0.058000      126.000000        4.000000   \n",
              "75%          1.000000        0.085800      132.000000        4.000000   \n",
              "max          1.000000        0.968000      250.000000        5.000000   \n",
              "\n",
              "              valence   track_number  \n",
              "count  1000000.000000  175949.000000  \n",
              "mean         0.399408      16.600998  \n",
              "std          0.255894      11.328264  \n",
              "min          0.000000       1.000000  \n",
              "25%          0.180000       7.000000  \n",
              "50%          0.370000      15.000000  \n",
              "75%          0.591000      24.000000  \n",
              "max          1.000000      50.000000  "
            ],
            "text/html": [
              "\n",
              "  <div id=\"df-ce6c44a2-d377-4399-a35e-d2c221343489\" class=\"colab-df-container\">\n",
              "    <div>\n",
              "<style scoped>\n",
              "    .dataframe tbody tr th:only-of-type {\n",
              "        vertical-align: middle;\n",
              "    }\n",
              "\n",
              "    .dataframe tbody tr th {\n",
              "        vertical-align: top;\n",
              "    }\n",
              "\n",
              "    .dataframe thead th {\n",
              "        text-align: right;\n",
              "    }\n",
              "</style>\n",
              "<table border=\"1\" class=\"dataframe\">\n",
              "  <thead>\n",
              "    <tr style=\"text-align: right;\">\n",
              "      <th></th>\n",
              "      <th>acousticness</th>\n",
              "      <th>danceability</th>\n",
              "      <th>af_duration_ms</th>\n",
              "      <th>energy</th>\n",
              "      <th>instrumentalness</th>\n",
              "      <th>key</th>\n",
              "      <th>liveness</th>\n",
              "      <th>loudness</th>\n",
              "      <th>mode</th>\n",
              "      <th>speechiness</th>\n",
              "      <th>tempo</th>\n",
              "      <th>time_signature</th>\n",
              "      <th>valence</th>\n",
              "      <th>track_number</th>\n",
              "    </tr>\n",
              "  </thead>\n",
              "  <tbody>\n",
              "    <tr>\n",
              "      <th>count</th>\n",
              "      <td>1000000.000000</td>\n",
              "      <td>1000000.000000</td>\n",
              "      <td>1.000000e+06</td>\n",
              "      <td>1000000.000000</td>\n",
              "      <td>1000000.000000</td>\n",
              "      <td>1000000.000000</td>\n",
              "      <td>1000000.000000</td>\n",
              "      <td>1000000.000000</td>\n",
              "      <td>1000000.000000</td>\n",
              "      <td>1000000.000000</td>\n",
              "      <td>1000000.000000</td>\n",
              "      <td>1000000.000000</td>\n",
              "      <td>1000000.000000</td>\n",
              "      <td>175949.000000</td>\n",
              "    </tr>\n",
              "    <tr>\n",
              "      <th>mean</th>\n",
              "      <td>0.109957</td>\n",
              "      <td>0.681971</td>\n",
              "      <td>3.383446e+05</td>\n",
              "      <td>0.713630</td>\n",
              "      <td>0.640862</td>\n",
              "      <td>5.557692</td>\n",
              "      <td>0.172892</td>\n",
              "      <td>-9.239397</td>\n",
              "      <td>0.540909</td>\n",
              "      <td>0.085324</td>\n",
              "      <td>126.685102</td>\n",
              "      <td>3.960946</td>\n",
              "      <td>0.399408</td>\n",
              "      <td>16.600998</td>\n",
              "    </tr>\n",
              "    <tr>\n",
              "      <th>std</th>\n",
              "      <td>0.223433</td>\n",
              "      <td>0.155581</td>\n",
              "      <td>1.892204e+05</td>\n",
              "      <td>0.209371</td>\n",
              "      <td>0.338673</td>\n",
              "      <td>3.693823</td>\n",
              "      <td>0.162101</td>\n",
              "      <td>4.138255</td>\n",
              "      <td>0.498324</td>\n",
              "      <td>0.082337</td>\n",
              "      <td>20.557330</td>\n",
              "      <td>0.308958</td>\n",
              "      <td>0.255894</td>\n",
              "      <td>11.328264</td>\n",
              "    </tr>\n",
              "    <tr>\n",
              "      <th>min</th>\n",
              "      <td>0.000000</td>\n",
              "      <td>0.000000</td>\n",
              "      <td>1.045000e+03</td>\n",
              "      <td>0.000000</td>\n",
              "      <td>0.000000</td>\n",
              "      <td>0.000000</td>\n",
              "      <td>0.000000</td>\n",
              "      <td>-60.000000</td>\n",
              "      <td>0.000000</td>\n",
              "      <td>0.000000</td>\n",
              "      <td>0.000000</td>\n",
              "      <td>0.000000</td>\n",
              "      <td>0.000000</td>\n",
              "      <td>1.000000</td>\n",
              "    </tr>\n",
              "    <tr>\n",
              "      <th>25%</th>\n",
              "      <td>0.000958</td>\n",
              "      <td>0.606000</td>\n",
              "      <td>2.437700e+05</td>\n",
              "      <td>0.582000</td>\n",
              "      <td>0.417000</td>\n",
              "      <td>2.000000</td>\n",
              "      <td>0.083000</td>\n",
              "      <td>-11.094000</td>\n",
              "      <td>0.000000</td>\n",
              "      <td>0.044500</td>\n",
              "      <td>120.000000</td>\n",
              "      <td>4.000000</td>\n",
              "      <td>0.180000</td>\n",
              "      <td>7.000000</td>\n",
              "    </tr>\n",
              "    <tr>\n",
              "      <th>50%</th>\n",
              "      <td>0.008710</td>\n",
              "      <td>0.720000</td>\n",
              "      <td>3.400000e+05</td>\n",
              "      <td>0.748000</td>\n",
              "      <td>0.821000</td>\n",
              "      <td>6.000000</td>\n",
              "      <td>0.109000</td>\n",
              "      <td>-8.681000</td>\n",
              "      <td>1.000000</td>\n",
              "      <td>0.058000</td>\n",
              "      <td>126.000000</td>\n",
              "      <td>4.000000</td>\n",
              "      <td>0.370000</td>\n",
              "      <td>15.000000</td>\n",
              "    </tr>\n",
              "    <tr>\n",
              "      <th>75%</th>\n",
              "      <td>0.080700</td>\n",
              "      <td>0.800000</td>\n",
              "      <td>4.117450e+05</td>\n",
              "      <td>0.884000</td>\n",
              "      <td>0.891000</td>\n",
              "      <td>9.000000</td>\n",
              "      <td>0.187000</td>\n",
              "      <td>-6.623000</td>\n",
              "      <td>1.000000</td>\n",
              "      <td>0.085800</td>\n",
              "      <td>132.000000</td>\n",
              "      <td>4.000000</td>\n",
              "      <td>0.591000</td>\n",
              "      <td>24.000000</td>\n",
              "    </tr>\n",
              "    <tr>\n",
              "      <th>max</th>\n",
              "      <td>0.996000</td>\n",
              "      <td>1.000000</td>\n",
              "      <td>6.072567e+06</td>\n",
              "      <td>1.000000</td>\n",
              "      <td>1.000000</td>\n",
              "      <td>11.000000</td>\n",
              "      <td>1.000000</td>\n",
              "      <td>5.485000</td>\n",
              "      <td>1.000000</td>\n",
              "      <td>0.968000</td>\n",
              "      <td>250.000000</td>\n",
              "      <td>5.000000</td>\n",
              "      <td>1.000000</td>\n",
              "      <td>50.000000</td>\n",
              "    </tr>\n",
              "  </tbody>\n",
              "</table>\n",
              "</div>\n",
              "    <div class=\"colab-df-buttons\">\n",
              "\n",
              "  <div class=\"colab-df-container\">\n",
              "    <button class=\"colab-df-convert\" onclick=\"convertToInteractive('df-ce6c44a2-d377-4399-a35e-d2c221343489')\"\n",
              "            title=\"Convert this dataframe to an interactive table.\"\n",
              "            style=\"display:none;\">\n",
              "\n",
              "  <svg xmlns=\"http://www.w3.org/2000/svg\" height=\"24px\" viewBox=\"0 -960 960 960\">\n",
              "    <path d=\"M120-120v-720h720v720H120Zm60-500h600v-160H180v160Zm220 220h160v-160H400v160Zm0 220h160v-160H400v160ZM180-400h160v-160H180v160Zm440 0h160v-160H620v160ZM180-180h160v-160H180v160Zm440 0h160v-160H620v160Z\"/>\n",
              "  </svg>\n",
              "    </button>\n",
              "\n",
              "  <style>\n",
              "    .colab-df-container {\n",
              "      display:flex;\n",
              "      gap: 12px;\n",
              "    }\n",
              "\n",
              "    .colab-df-convert {\n",
              "      background-color: #E8F0FE;\n",
              "      border: none;\n",
              "      border-radius: 50%;\n",
              "      cursor: pointer;\n",
              "      display: none;\n",
              "      fill: #1967D2;\n",
              "      height: 32px;\n",
              "      padding: 0 0 0 0;\n",
              "      width: 32px;\n",
              "    }\n",
              "\n",
              "    .colab-df-convert:hover {\n",
              "      background-color: #E2EBFA;\n",
              "      box-shadow: 0px 1px 2px rgba(60, 64, 67, 0.3), 0px 1px 3px 1px rgba(60, 64, 67, 0.15);\n",
              "      fill: #174EA6;\n",
              "    }\n",
              "\n",
              "    .colab-df-buttons div {\n",
              "      margin-bottom: 4px;\n",
              "    }\n",
              "\n",
              "    [theme=dark] .colab-df-convert {\n",
              "      background-color: #3B4455;\n",
              "      fill: #D2E3FC;\n",
              "    }\n",
              "\n",
              "    [theme=dark] .colab-df-convert:hover {\n",
              "      background-color: #434B5C;\n",
              "      box-shadow: 0px 1px 3px 1px rgba(0, 0, 0, 0.15);\n",
              "      filter: drop-shadow(0px 1px 2px rgba(0, 0, 0, 0.3));\n",
              "      fill: #FFFFFF;\n",
              "    }\n",
              "  </style>\n",
              "\n",
              "    <script>\n",
              "      const buttonEl =\n",
              "        document.querySelector('#df-ce6c44a2-d377-4399-a35e-d2c221343489 button.colab-df-convert');\n",
              "      buttonEl.style.display =\n",
              "        google.colab.kernel.accessAllowed ? 'block' : 'none';\n",
              "\n",
              "      async function convertToInteractive(key) {\n",
              "        const element = document.querySelector('#df-ce6c44a2-d377-4399-a35e-d2c221343489');\n",
              "        const dataTable =\n",
              "          await google.colab.kernel.invokeFunction('convertToInteractive',\n",
              "                                                    [key], {});\n",
              "        if (!dataTable) return;\n",
              "\n",
              "        const docLinkHtml = 'Like what you see? Visit the ' +\n",
              "          '<a target=\"_blank\" href=https://colab.research.google.com/notebooks/data_table.ipynb>data table notebook</a>'\n",
              "          + ' to learn more about interactive tables.';\n",
              "        element.innerHTML = '';\n",
              "        dataTable['output_type'] = 'display_data';\n",
              "        await google.colab.output.renderOutput(dataTable, element);\n",
              "        const docLink = document.createElement('div');\n",
              "        docLink.innerHTML = docLinkHtml;\n",
              "        element.appendChild(docLink);\n",
              "      }\n",
              "    </script>\n",
              "  </div>\n",
              "\n",
              "\n",
              "<div id=\"df-c299af77-5208-4c0b-99bb-a1225ac463ca\">\n",
              "  <button class=\"colab-df-quickchart\" onclick=\"quickchart('df-c299af77-5208-4c0b-99bb-a1225ac463ca')\"\n",
              "            title=\"Suggest charts\"\n",
              "            style=\"display:none;\">\n",
              "\n",
              "<svg xmlns=\"http://www.w3.org/2000/svg\" height=\"24px\"viewBox=\"0 0 24 24\"\n",
              "     width=\"24px\">\n",
              "    <g>\n",
              "        <path d=\"M19 3H5c-1.1 0-2 .9-2 2v14c0 1.1.9 2 2 2h14c1.1 0 2-.9 2-2V5c0-1.1-.9-2-2-2zM9 17H7v-7h2v7zm4 0h-2V7h2v10zm4 0h-2v-4h2v4z\"/>\n",
              "    </g>\n",
              "</svg>\n",
              "  </button>\n",
              "\n",
              "<style>\n",
              "  .colab-df-quickchart {\n",
              "      --bg-color: #E8F0FE;\n",
              "      --fill-color: #1967D2;\n",
              "      --hover-bg-color: #E2EBFA;\n",
              "      --hover-fill-color: #174EA6;\n",
              "      --disabled-fill-color: #AAA;\n",
              "      --disabled-bg-color: #DDD;\n",
              "  }\n",
              "\n",
              "  [theme=dark] .colab-df-quickchart {\n",
              "      --bg-color: #3B4455;\n",
              "      --fill-color: #D2E3FC;\n",
              "      --hover-bg-color: #434B5C;\n",
              "      --hover-fill-color: #FFFFFF;\n",
              "      --disabled-bg-color: #3B4455;\n",
              "      --disabled-fill-color: #666;\n",
              "  }\n",
              "\n",
              "  .colab-df-quickchart {\n",
              "    background-color: var(--bg-color);\n",
              "    border: none;\n",
              "    border-radius: 50%;\n",
              "    cursor: pointer;\n",
              "    display: none;\n",
              "    fill: var(--fill-color);\n",
              "    height: 32px;\n",
              "    padding: 0;\n",
              "    width: 32px;\n",
              "  }\n",
              "\n",
              "  .colab-df-quickchart:hover {\n",
              "    background-color: var(--hover-bg-color);\n",
              "    box-shadow: 0 1px 2px rgba(60, 64, 67, 0.3), 0 1px 3px 1px rgba(60, 64, 67, 0.15);\n",
              "    fill: var(--button-hover-fill-color);\n",
              "  }\n",
              "\n",
              "  .colab-df-quickchart-complete:disabled,\n",
              "  .colab-df-quickchart-complete:disabled:hover {\n",
              "    background-color: var(--disabled-bg-color);\n",
              "    fill: var(--disabled-fill-color);\n",
              "    box-shadow: none;\n",
              "  }\n",
              "\n",
              "  .colab-df-spinner {\n",
              "    border: 2px solid var(--fill-color);\n",
              "    border-color: transparent;\n",
              "    border-bottom-color: var(--fill-color);\n",
              "    animation:\n",
              "      spin 1s steps(1) infinite;\n",
              "  }\n",
              "\n",
              "  @keyframes spin {\n",
              "    0% {\n",
              "      border-color: transparent;\n",
              "      border-bottom-color: var(--fill-color);\n",
              "      border-left-color: var(--fill-color);\n",
              "    }\n",
              "    20% {\n",
              "      border-color: transparent;\n",
              "      border-left-color: var(--fill-color);\n",
              "      border-top-color: var(--fill-color);\n",
              "    }\n",
              "    30% {\n",
              "      border-color: transparent;\n",
              "      border-left-color: var(--fill-color);\n",
              "      border-top-color: var(--fill-color);\n",
              "      border-right-color: var(--fill-color);\n",
              "    }\n",
              "    40% {\n",
              "      border-color: transparent;\n",
              "      border-right-color: var(--fill-color);\n",
              "      border-top-color: var(--fill-color);\n",
              "    }\n",
              "    60% {\n",
              "      border-color: transparent;\n",
              "      border-right-color: var(--fill-color);\n",
              "    }\n",
              "    80% {\n",
              "      border-color: transparent;\n",
              "      border-right-color: var(--fill-color);\n",
              "      border-bottom-color: var(--fill-color);\n",
              "    }\n",
              "    90% {\n",
              "      border-color: transparent;\n",
              "      border-bottom-color: var(--fill-color);\n",
              "    }\n",
              "  }\n",
              "</style>\n",
              "\n",
              "  <script>\n",
              "    async function quickchart(key) {\n",
              "      const quickchartButtonEl =\n",
              "        document.querySelector('#' + key + ' button');\n",
              "      quickchartButtonEl.disabled = true;  // To prevent multiple clicks.\n",
              "      quickchartButtonEl.classList.add('colab-df-spinner');\n",
              "      try {\n",
              "        const charts = await google.colab.kernel.invokeFunction(\n",
              "            'suggestCharts', [key], {});\n",
              "      } catch (error) {\n",
              "        console.error('Error during call to suggestCharts:', error);\n",
              "      }\n",
              "      quickchartButtonEl.classList.remove('colab-df-spinner');\n",
              "      quickchartButtonEl.classList.add('colab-df-quickchart-complete');\n",
              "    }\n",
              "    (() => {\n",
              "      let quickchartButtonEl =\n",
              "        document.querySelector('#df-c299af77-5208-4c0b-99bb-a1225ac463ca button');\n",
              "      quickchartButtonEl.style.display =\n",
              "        google.colab.kernel.accessAllowed ? 'block' : 'none';\n",
              "    })();\n",
              "  </script>\n",
              "</div>\n",
              "    </div>\n",
              "  </div>\n"
            ]
          },
          "metadata": {},
          "execution_count": 37
        }
      ]
    },
    {
      "cell_type": "markdown",
      "source": [
        "The summary of our spotify track and audio features  dataframe gives us some interesting information about the music. The average <b>danceability</b> score is <em>0.68</em>, which means most of the tracks are pretty upbeat. The <b>energy level</b> is quite high too, with an average of <em>0.71</em>. The average <b>acousticness</b> is <em>0.10</em>, which means there's a fair bit of acoustic sound in the music.\n",
        "\n",
        "The length of the tracks varies a lot, but on average, they're about 338,335 milliseconds long. These numbers help us understand what kind of music is in the dataset and can be useful for things like improving the listener's experience, planning marketing strategies, and spotting trends in the music industry."
      ],
      "metadata": {
        "id": "eHR8cBeFCJkc"
      }
    },
    {
      "cell_type": "markdown",
      "source": [
        "###Uncover Patterns and Anomalies"
      ],
      "metadata": {
        "id": "C8eQR9WnCIwK"
      }
    },
    {
      "cell_type": "code",
      "source": [
        "#Correlations\n",
        "correlation_matrix = pd_df_sp_track_audio_features.corr()\n",
        "correlation_matrix"
      ],
      "metadata": {
        "id": "4-FtVfy_Frsp",
        "colab": {
          "base_uri": "https://localhost:8080/",
          "height": 544
        },
        "outputId": "daf4079e-dd44-48b5-abe9-78bc2faaece6"
      },
      "execution_count": null,
      "outputs": [
        {
          "output_type": "stream",
          "name": "stderr",
          "text": [
            "<ipython-input-38-7c60f3813e59>:2: FutureWarning: The default value of numeric_only in DataFrame.corr is deprecated. In a future version, it will default to False. Select only valid columns or specify the value of numeric_only to silence this warning.\n",
            "  correlation_matrix = pd_df_sp_track_audio_features.corr()\n"
          ]
        },
        {
          "output_type": "execute_result",
          "data": {
            "text/plain": [
              "                  acousticness  danceability  af_duration_ms    energy  \\\n",
              "acousticness          1.000000     -0.397858       -0.162602 -0.519026   \n",
              "danceability         -0.397858      1.000000        0.091872  0.137427   \n",
              "af_duration_ms       -0.162602      0.091872        1.000000  0.084694   \n",
              "energy               -0.519026      0.137427        0.084694  1.000000   \n",
              "instrumentalness     -0.040118      0.057783        0.196638 -0.022369   \n",
              "key                  -0.037648      0.040106        0.021343  0.040908   \n",
              "liveness             -0.021027     -0.149140       -0.034724  0.136180   \n",
              "loudness             -0.461708      0.186226       -0.017701  0.699750   \n",
              "mode                 -0.012764     -0.007085       -0.001136  0.002341   \n",
              "speechiness           0.035522      0.055925       -0.107427  0.004020   \n",
              "tempo                -0.215152     -0.031144        0.038895  0.273946   \n",
              "time_signature       -0.153767      0.164131        0.037167  0.113952   \n",
              "valence              -0.127352      0.321893       -0.091216  0.176777   \n",
              "track_number          0.002097     -0.018063        0.014195 -0.000639   \n",
              "\n",
              "                  instrumentalness       key  liveness  loudness      mode  \\\n",
              "acousticness             -0.040118 -0.037648 -0.021027 -0.461708 -0.012764   \n",
              "danceability              0.057783  0.040106 -0.149140  0.186226 -0.007085   \n",
              "af_duration_ms            0.196638  0.021343 -0.034724 -0.017701 -0.001136   \n",
              "energy                   -0.022369  0.040908  0.136180  0.699750  0.002341   \n",
              "instrumentalness          1.000000  0.016879 -0.115945 -0.268655  0.017743   \n",
              "key                       0.016879  1.000000 -0.004417  0.022029 -0.309219   \n",
              "liveness                 -0.115945 -0.004417  1.000000  0.118545  0.006239   \n",
              "loudness                 -0.268655  0.022029  0.118545  1.000000 -0.008275   \n",
              "mode                      0.017743 -0.309219  0.006239 -0.008275  1.000000   \n",
              "speechiness              -0.272897  0.009105  0.107547  0.081066  0.011740   \n",
              "tempo                     0.045238  0.008767  0.051090  0.222738  0.012708   \n",
              "time_signature           -0.003534  0.011299 -0.003437  0.123105 -0.009485   \n",
              "valence                  -0.194131  0.034009 -0.031688  0.206224 -0.031667   \n",
              "track_number              0.034694  0.001822  0.013040 -0.026439  0.004382   \n",
              "\n",
              "                  speechiness     tempo  time_signature   valence  \\\n",
              "acousticness         0.035522 -0.215152       -0.153767 -0.127352   \n",
              "danceability         0.055925 -0.031144        0.164131  0.321893   \n",
              "af_duration_ms      -0.107427  0.038895        0.037167 -0.091216   \n",
              "energy               0.004020  0.273946        0.113952  0.176777   \n",
              "instrumentalness    -0.272897  0.045238       -0.003534 -0.194131   \n",
              "key                  0.009105  0.008767        0.011299  0.034009   \n",
              "liveness             0.107547  0.051090       -0.003437 -0.031688   \n",
              "loudness             0.081066  0.222738        0.123105  0.206224   \n",
              "mode                 0.011740  0.012708       -0.009485 -0.031667   \n",
              "speechiness          1.000000  0.056150       -0.007838  0.058202   \n",
              "tempo                0.056150  1.000000        0.053231 -0.010451   \n",
              "time_signature      -0.007838  0.053231        1.000000  0.065422   \n",
              "valence              0.058202 -0.010451        0.065422  1.000000   \n",
              "track_number        -0.000293  0.016644       -0.002647 -0.021572   \n",
              "\n",
              "                  track_number  \n",
              "acousticness          0.002097  \n",
              "danceability         -0.018063  \n",
              "af_duration_ms        0.014195  \n",
              "energy               -0.000639  \n",
              "instrumentalness      0.034694  \n",
              "key                   0.001822  \n",
              "liveness              0.013040  \n",
              "loudness             -0.026439  \n",
              "mode                  0.004382  \n",
              "speechiness          -0.000293  \n",
              "tempo                 0.016644  \n",
              "time_signature       -0.002647  \n",
              "valence              -0.021572  \n",
              "track_number          1.000000  "
            ],
            "text/html": [
              "\n",
              "  <div id=\"df-263666e0-a2c8-4ea8-b622-3a799a7a959f\" class=\"colab-df-container\">\n",
              "    <div>\n",
              "<style scoped>\n",
              "    .dataframe tbody tr th:only-of-type {\n",
              "        vertical-align: middle;\n",
              "    }\n",
              "\n",
              "    .dataframe tbody tr th {\n",
              "        vertical-align: top;\n",
              "    }\n",
              "\n",
              "    .dataframe thead th {\n",
              "        text-align: right;\n",
              "    }\n",
              "</style>\n",
              "<table border=\"1\" class=\"dataframe\">\n",
              "  <thead>\n",
              "    <tr style=\"text-align: right;\">\n",
              "      <th></th>\n",
              "      <th>acousticness</th>\n",
              "      <th>danceability</th>\n",
              "      <th>af_duration_ms</th>\n",
              "      <th>energy</th>\n",
              "      <th>instrumentalness</th>\n",
              "      <th>key</th>\n",
              "      <th>liveness</th>\n",
              "      <th>loudness</th>\n",
              "      <th>mode</th>\n",
              "      <th>speechiness</th>\n",
              "      <th>tempo</th>\n",
              "      <th>time_signature</th>\n",
              "      <th>valence</th>\n",
              "      <th>track_number</th>\n",
              "    </tr>\n",
              "  </thead>\n",
              "  <tbody>\n",
              "    <tr>\n",
              "      <th>acousticness</th>\n",
              "      <td>1.000000</td>\n",
              "      <td>-0.397858</td>\n",
              "      <td>-0.162602</td>\n",
              "      <td>-0.519026</td>\n",
              "      <td>-0.040118</td>\n",
              "      <td>-0.037648</td>\n",
              "      <td>-0.021027</td>\n",
              "      <td>-0.461708</td>\n",
              "      <td>-0.012764</td>\n",
              "      <td>0.035522</td>\n",
              "      <td>-0.215152</td>\n",
              "      <td>-0.153767</td>\n",
              "      <td>-0.127352</td>\n",
              "      <td>0.002097</td>\n",
              "    </tr>\n",
              "    <tr>\n",
              "      <th>danceability</th>\n",
              "      <td>-0.397858</td>\n",
              "      <td>1.000000</td>\n",
              "      <td>0.091872</td>\n",
              "      <td>0.137427</td>\n",
              "      <td>0.057783</td>\n",
              "      <td>0.040106</td>\n",
              "      <td>-0.149140</td>\n",
              "      <td>0.186226</td>\n",
              "      <td>-0.007085</td>\n",
              "      <td>0.055925</td>\n",
              "      <td>-0.031144</td>\n",
              "      <td>0.164131</td>\n",
              "      <td>0.321893</td>\n",
              "      <td>-0.018063</td>\n",
              "    </tr>\n",
              "    <tr>\n",
              "      <th>af_duration_ms</th>\n",
              "      <td>-0.162602</td>\n",
              "      <td>0.091872</td>\n",
              "      <td>1.000000</td>\n",
              "      <td>0.084694</td>\n",
              "      <td>0.196638</td>\n",
              "      <td>0.021343</td>\n",
              "      <td>-0.034724</td>\n",
              "      <td>-0.017701</td>\n",
              "      <td>-0.001136</td>\n",
              "      <td>-0.107427</td>\n",
              "      <td>0.038895</td>\n",
              "      <td>0.037167</td>\n",
              "      <td>-0.091216</td>\n",
              "      <td>0.014195</td>\n",
              "    </tr>\n",
              "    <tr>\n",
              "      <th>energy</th>\n",
              "      <td>-0.519026</td>\n",
              "      <td>0.137427</td>\n",
              "      <td>0.084694</td>\n",
              "      <td>1.000000</td>\n",
              "      <td>-0.022369</td>\n",
              "      <td>0.040908</td>\n",
              "      <td>0.136180</td>\n",
              "      <td>0.699750</td>\n",
              "      <td>0.002341</td>\n",
              "      <td>0.004020</td>\n",
              "      <td>0.273946</td>\n",
              "      <td>0.113952</td>\n",
              "      <td>0.176777</td>\n",
              "      <td>-0.000639</td>\n",
              "    </tr>\n",
              "    <tr>\n",
              "      <th>instrumentalness</th>\n",
              "      <td>-0.040118</td>\n",
              "      <td>0.057783</td>\n",
              "      <td>0.196638</td>\n",
              "      <td>-0.022369</td>\n",
              "      <td>1.000000</td>\n",
              "      <td>0.016879</td>\n",
              "      <td>-0.115945</td>\n",
              "      <td>-0.268655</td>\n",
              "      <td>0.017743</td>\n",
              "      <td>-0.272897</td>\n",
              "      <td>0.045238</td>\n",
              "      <td>-0.003534</td>\n",
              "      <td>-0.194131</td>\n",
              "      <td>0.034694</td>\n",
              "    </tr>\n",
              "    <tr>\n",
              "      <th>key</th>\n",
              "      <td>-0.037648</td>\n",
              "      <td>0.040106</td>\n",
              "      <td>0.021343</td>\n",
              "      <td>0.040908</td>\n",
              "      <td>0.016879</td>\n",
              "      <td>1.000000</td>\n",
              "      <td>-0.004417</td>\n",
              "      <td>0.022029</td>\n",
              "      <td>-0.309219</td>\n",
              "      <td>0.009105</td>\n",
              "      <td>0.008767</td>\n",
              "      <td>0.011299</td>\n",
              "      <td>0.034009</td>\n",
              "      <td>0.001822</td>\n",
              "    </tr>\n",
              "    <tr>\n",
              "      <th>liveness</th>\n",
              "      <td>-0.021027</td>\n",
              "      <td>-0.149140</td>\n",
              "      <td>-0.034724</td>\n",
              "      <td>0.136180</td>\n",
              "      <td>-0.115945</td>\n",
              "      <td>-0.004417</td>\n",
              "      <td>1.000000</td>\n",
              "      <td>0.118545</td>\n",
              "      <td>0.006239</td>\n",
              "      <td>0.107547</td>\n",
              "      <td>0.051090</td>\n",
              "      <td>-0.003437</td>\n",
              "      <td>-0.031688</td>\n",
              "      <td>0.013040</td>\n",
              "    </tr>\n",
              "    <tr>\n",
              "      <th>loudness</th>\n",
              "      <td>-0.461708</td>\n",
              "      <td>0.186226</td>\n",
              "      <td>-0.017701</td>\n",
              "      <td>0.699750</td>\n",
              "      <td>-0.268655</td>\n",
              "      <td>0.022029</td>\n",
              "      <td>0.118545</td>\n",
              "      <td>1.000000</td>\n",
              "      <td>-0.008275</td>\n",
              "      <td>0.081066</td>\n",
              "      <td>0.222738</td>\n",
              "      <td>0.123105</td>\n",
              "      <td>0.206224</td>\n",
              "      <td>-0.026439</td>\n",
              "    </tr>\n",
              "    <tr>\n",
              "      <th>mode</th>\n",
              "      <td>-0.012764</td>\n",
              "      <td>-0.007085</td>\n",
              "      <td>-0.001136</td>\n",
              "      <td>0.002341</td>\n",
              "      <td>0.017743</td>\n",
              "      <td>-0.309219</td>\n",
              "      <td>0.006239</td>\n",
              "      <td>-0.008275</td>\n",
              "      <td>1.000000</td>\n",
              "      <td>0.011740</td>\n",
              "      <td>0.012708</td>\n",
              "      <td>-0.009485</td>\n",
              "      <td>-0.031667</td>\n",
              "      <td>0.004382</td>\n",
              "    </tr>\n",
              "    <tr>\n",
              "      <th>speechiness</th>\n",
              "      <td>0.035522</td>\n",
              "      <td>0.055925</td>\n",
              "      <td>-0.107427</td>\n",
              "      <td>0.004020</td>\n",
              "      <td>-0.272897</td>\n",
              "      <td>0.009105</td>\n",
              "      <td>0.107547</td>\n",
              "      <td>0.081066</td>\n",
              "      <td>0.011740</td>\n",
              "      <td>1.000000</td>\n",
              "      <td>0.056150</td>\n",
              "      <td>-0.007838</td>\n",
              "      <td>0.058202</td>\n",
              "      <td>-0.000293</td>\n",
              "    </tr>\n",
              "    <tr>\n",
              "      <th>tempo</th>\n",
              "      <td>-0.215152</td>\n",
              "      <td>-0.031144</td>\n",
              "      <td>0.038895</td>\n",
              "      <td>0.273946</td>\n",
              "      <td>0.045238</td>\n",
              "      <td>0.008767</td>\n",
              "      <td>0.051090</td>\n",
              "      <td>0.222738</td>\n",
              "      <td>0.012708</td>\n",
              "      <td>0.056150</td>\n",
              "      <td>1.000000</td>\n",
              "      <td>0.053231</td>\n",
              "      <td>-0.010451</td>\n",
              "      <td>0.016644</td>\n",
              "    </tr>\n",
              "    <tr>\n",
              "      <th>time_signature</th>\n",
              "      <td>-0.153767</td>\n",
              "      <td>0.164131</td>\n",
              "      <td>0.037167</td>\n",
              "      <td>0.113952</td>\n",
              "      <td>-0.003534</td>\n",
              "      <td>0.011299</td>\n",
              "      <td>-0.003437</td>\n",
              "      <td>0.123105</td>\n",
              "      <td>-0.009485</td>\n",
              "      <td>-0.007838</td>\n",
              "      <td>0.053231</td>\n",
              "      <td>1.000000</td>\n",
              "      <td>0.065422</td>\n",
              "      <td>-0.002647</td>\n",
              "    </tr>\n",
              "    <tr>\n",
              "      <th>valence</th>\n",
              "      <td>-0.127352</td>\n",
              "      <td>0.321893</td>\n",
              "      <td>-0.091216</td>\n",
              "      <td>0.176777</td>\n",
              "      <td>-0.194131</td>\n",
              "      <td>0.034009</td>\n",
              "      <td>-0.031688</td>\n",
              "      <td>0.206224</td>\n",
              "      <td>-0.031667</td>\n",
              "      <td>0.058202</td>\n",
              "      <td>-0.010451</td>\n",
              "      <td>0.065422</td>\n",
              "      <td>1.000000</td>\n",
              "      <td>-0.021572</td>\n",
              "    </tr>\n",
              "    <tr>\n",
              "      <th>track_number</th>\n",
              "      <td>0.002097</td>\n",
              "      <td>-0.018063</td>\n",
              "      <td>0.014195</td>\n",
              "      <td>-0.000639</td>\n",
              "      <td>0.034694</td>\n",
              "      <td>0.001822</td>\n",
              "      <td>0.013040</td>\n",
              "      <td>-0.026439</td>\n",
              "      <td>0.004382</td>\n",
              "      <td>-0.000293</td>\n",
              "      <td>0.016644</td>\n",
              "      <td>-0.002647</td>\n",
              "      <td>-0.021572</td>\n",
              "      <td>1.000000</td>\n",
              "    </tr>\n",
              "  </tbody>\n",
              "</table>\n",
              "</div>\n",
              "    <div class=\"colab-df-buttons\">\n",
              "\n",
              "  <div class=\"colab-df-container\">\n",
              "    <button class=\"colab-df-convert\" onclick=\"convertToInteractive('df-263666e0-a2c8-4ea8-b622-3a799a7a959f')\"\n",
              "            title=\"Convert this dataframe to an interactive table.\"\n",
              "            style=\"display:none;\">\n",
              "\n",
              "  <svg xmlns=\"http://www.w3.org/2000/svg\" height=\"24px\" viewBox=\"0 -960 960 960\">\n",
              "    <path d=\"M120-120v-720h720v720H120Zm60-500h600v-160H180v160Zm220 220h160v-160H400v160Zm0 220h160v-160H400v160ZM180-400h160v-160H180v160Zm440 0h160v-160H620v160ZM180-180h160v-160H180v160Zm440 0h160v-160H620v160Z\"/>\n",
              "  </svg>\n",
              "    </button>\n",
              "\n",
              "  <style>\n",
              "    .colab-df-container {\n",
              "      display:flex;\n",
              "      gap: 12px;\n",
              "    }\n",
              "\n",
              "    .colab-df-convert {\n",
              "      background-color: #E8F0FE;\n",
              "      border: none;\n",
              "      border-radius: 50%;\n",
              "      cursor: pointer;\n",
              "      display: none;\n",
              "      fill: #1967D2;\n",
              "      height: 32px;\n",
              "      padding: 0 0 0 0;\n",
              "      width: 32px;\n",
              "    }\n",
              "\n",
              "    .colab-df-convert:hover {\n",
              "      background-color: #E2EBFA;\n",
              "      box-shadow: 0px 1px 2px rgba(60, 64, 67, 0.3), 0px 1px 3px 1px rgba(60, 64, 67, 0.15);\n",
              "      fill: #174EA6;\n",
              "    }\n",
              "\n",
              "    .colab-df-buttons div {\n",
              "      margin-bottom: 4px;\n",
              "    }\n",
              "\n",
              "    [theme=dark] .colab-df-convert {\n",
              "      background-color: #3B4455;\n",
              "      fill: #D2E3FC;\n",
              "    }\n",
              "\n",
              "    [theme=dark] .colab-df-convert:hover {\n",
              "      background-color: #434B5C;\n",
              "      box-shadow: 0px 1px 3px 1px rgba(0, 0, 0, 0.15);\n",
              "      filter: drop-shadow(0px 1px 2px rgba(0, 0, 0, 0.3));\n",
              "      fill: #FFFFFF;\n",
              "    }\n",
              "  </style>\n",
              "\n",
              "    <script>\n",
              "      const buttonEl =\n",
              "        document.querySelector('#df-263666e0-a2c8-4ea8-b622-3a799a7a959f button.colab-df-convert');\n",
              "      buttonEl.style.display =\n",
              "        google.colab.kernel.accessAllowed ? 'block' : 'none';\n",
              "\n",
              "      async function convertToInteractive(key) {\n",
              "        const element = document.querySelector('#df-263666e0-a2c8-4ea8-b622-3a799a7a959f');\n",
              "        const dataTable =\n",
              "          await google.colab.kernel.invokeFunction('convertToInteractive',\n",
              "                                                    [key], {});\n",
              "        if (!dataTable) return;\n",
              "\n",
              "        const docLinkHtml = 'Like what you see? Visit the ' +\n",
              "          '<a target=\"_blank\" href=https://colab.research.google.com/notebooks/data_table.ipynb>data table notebook</a>'\n",
              "          + ' to learn more about interactive tables.';\n",
              "        element.innerHTML = '';\n",
              "        dataTable['output_type'] = 'display_data';\n",
              "        await google.colab.output.renderOutput(dataTable, element);\n",
              "        const docLink = document.createElement('div');\n",
              "        docLink.innerHTML = docLinkHtml;\n",
              "        element.appendChild(docLink);\n",
              "      }\n",
              "    </script>\n",
              "  </div>\n",
              "\n",
              "\n",
              "<div id=\"df-8e838668-fbe4-4b42-8277-6b5ba73f143e\">\n",
              "  <button class=\"colab-df-quickchart\" onclick=\"quickchart('df-8e838668-fbe4-4b42-8277-6b5ba73f143e')\"\n",
              "            title=\"Suggest charts\"\n",
              "            style=\"display:none;\">\n",
              "\n",
              "<svg xmlns=\"http://www.w3.org/2000/svg\" height=\"24px\"viewBox=\"0 0 24 24\"\n",
              "     width=\"24px\">\n",
              "    <g>\n",
              "        <path d=\"M19 3H5c-1.1 0-2 .9-2 2v14c0 1.1.9 2 2 2h14c1.1 0 2-.9 2-2V5c0-1.1-.9-2-2-2zM9 17H7v-7h2v7zm4 0h-2V7h2v10zm4 0h-2v-4h2v4z\"/>\n",
              "    </g>\n",
              "</svg>\n",
              "  </button>\n",
              "\n",
              "<style>\n",
              "  .colab-df-quickchart {\n",
              "      --bg-color: #E8F0FE;\n",
              "      --fill-color: #1967D2;\n",
              "      --hover-bg-color: #E2EBFA;\n",
              "      --hover-fill-color: #174EA6;\n",
              "      --disabled-fill-color: #AAA;\n",
              "      --disabled-bg-color: #DDD;\n",
              "  }\n",
              "\n",
              "  [theme=dark] .colab-df-quickchart {\n",
              "      --bg-color: #3B4455;\n",
              "      --fill-color: #D2E3FC;\n",
              "      --hover-bg-color: #434B5C;\n",
              "      --hover-fill-color: #FFFFFF;\n",
              "      --disabled-bg-color: #3B4455;\n",
              "      --disabled-fill-color: #666;\n",
              "  }\n",
              "\n",
              "  .colab-df-quickchart {\n",
              "    background-color: var(--bg-color);\n",
              "    border: none;\n",
              "    border-radius: 50%;\n",
              "    cursor: pointer;\n",
              "    display: none;\n",
              "    fill: var(--fill-color);\n",
              "    height: 32px;\n",
              "    padding: 0;\n",
              "    width: 32px;\n",
              "  }\n",
              "\n",
              "  .colab-df-quickchart:hover {\n",
              "    background-color: var(--hover-bg-color);\n",
              "    box-shadow: 0 1px 2px rgba(60, 64, 67, 0.3), 0 1px 3px 1px rgba(60, 64, 67, 0.15);\n",
              "    fill: var(--button-hover-fill-color);\n",
              "  }\n",
              "\n",
              "  .colab-df-quickchart-complete:disabled,\n",
              "  .colab-df-quickchart-complete:disabled:hover {\n",
              "    background-color: var(--disabled-bg-color);\n",
              "    fill: var(--disabled-fill-color);\n",
              "    box-shadow: none;\n",
              "  }\n",
              "\n",
              "  .colab-df-spinner {\n",
              "    border: 2px solid var(--fill-color);\n",
              "    border-color: transparent;\n",
              "    border-bottom-color: var(--fill-color);\n",
              "    animation:\n",
              "      spin 1s steps(1) infinite;\n",
              "  }\n",
              "\n",
              "  @keyframes spin {\n",
              "    0% {\n",
              "      border-color: transparent;\n",
              "      border-bottom-color: var(--fill-color);\n",
              "      border-left-color: var(--fill-color);\n",
              "    }\n",
              "    20% {\n",
              "      border-color: transparent;\n",
              "      border-left-color: var(--fill-color);\n",
              "      border-top-color: var(--fill-color);\n",
              "    }\n",
              "    30% {\n",
              "      border-color: transparent;\n",
              "      border-left-color: var(--fill-color);\n",
              "      border-top-color: var(--fill-color);\n",
              "      border-right-color: var(--fill-color);\n",
              "    }\n",
              "    40% {\n",
              "      border-color: transparent;\n",
              "      border-right-color: var(--fill-color);\n",
              "      border-top-color: var(--fill-color);\n",
              "    }\n",
              "    60% {\n",
              "      border-color: transparent;\n",
              "      border-right-color: var(--fill-color);\n",
              "    }\n",
              "    80% {\n",
              "      border-color: transparent;\n",
              "      border-right-color: var(--fill-color);\n",
              "      border-bottom-color: var(--fill-color);\n",
              "    }\n",
              "    90% {\n",
              "      border-color: transparent;\n",
              "      border-bottom-color: var(--fill-color);\n",
              "    }\n",
              "  }\n",
              "</style>\n",
              "\n",
              "  <script>\n",
              "    async function quickchart(key) {\n",
              "      const quickchartButtonEl =\n",
              "        document.querySelector('#' + key + ' button');\n",
              "      quickchartButtonEl.disabled = true;  // To prevent multiple clicks.\n",
              "      quickchartButtonEl.classList.add('colab-df-spinner');\n",
              "      try {\n",
              "        const charts = await google.colab.kernel.invokeFunction(\n",
              "            'suggestCharts', [key], {});\n",
              "      } catch (error) {\n",
              "        console.error('Error during call to suggestCharts:', error);\n",
              "      }\n",
              "      quickchartButtonEl.classList.remove('colab-df-spinner');\n",
              "      quickchartButtonEl.classList.add('colab-df-quickchart-complete');\n",
              "    }\n",
              "    (() => {\n",
              "      let quickchartButtonEl =\n",
              "        document.querySelector('#df-8e838668-fbe4-4b42-8277-6b5ba73f143e button');\n",
              "      quickchartButtonEl.style.display =\n",
              "        google.colab.kernel.accessAllowed ? 'block' : 'none';\n",
              "    })();\n",
              "  </script>\n",
              "</div>\n",
              "    </div>\n",
              "  </div>\n"
            ]
          },
          "metadata": {},
          "execution_count": 38
        }
      ]
    },
    {
      "cell_type": "markdown",
      "source": [
        "Based on the above , some  key insights:\n",
        "<b>Acousticness and Energy:</b> There's a strong negative correlation (-0.519026) between acousticness and energy, indicating that tracks with higher acousticness tend to have lower energy levels. This is common in genres like acoustic or classical music.\n",
        "\n",
        "<b>Danceability and Valence:</b> A moderate positive correlation (0.321893) suggests that more danceable tracks are often perceived as happier or more positive. This could be significant for creating playlists intended to uplift the mood.\n",
        "\n",
        "<b>Loudness and Energy:</b> The correlation of 0.699750 indicates that louder tracks are typically more energetic. This is a trend often seen in genres like rock or electronic dance music.\n",
        "\n",
        "<b>Instrumentalness and Speechiness:</b> A negative correlation (-0.272897) implies that tracks with higher instrumental content usually have fewer vocals, as expected in instrumental or classical music.\n",
        "\n",
        "<b>Tempo and Energy:</b> A positive correlation (0.273946) between tempo and energy might reflect that faster beats are associated with more dynamic and energetic tracks."
      ],
      "metadata": {
        "id": "npNlQHxfHEMc"
      }
    },
    {
      "cell_type": "markdown",
      "source": [
        "Our dataset analysis has uncovered some interesting correlations. For example, we found that songs with a high level of acousticness tend to have lower energy, suggesting a more serene and soothing quality. In contrast, songs with a high danceability score often have a more positive or \"**joyful**\" valence. Additionally, there's a significant positive correlation between loudness and energy, implying that the louder the track, the more energetic it likely is. These insights are not only academically stimulating but also have practical implications, such as enhancing music recommendation algorithms by understanding these subtleties, leading to a more tailored and enjoyable user experience."
      ],
      "metadata": {
        "id": "8srDfQ0zHj9O"
      }
    },
    {
      "cell_type": "markdown",
      "source": [
        "**focused anomaly detection**\n",
        "<br/>\n",
        "We use the Interquartile Range (IQR) method on key features: 'loudness', 'tempo', and 'af_duration_ms' for anomaly detection. These features often have meaningful outliers in musical data."
      ],
      "metadata": {
        "id": "2AnhHsRQJJ1k"
      }
    },
    {
      "cell_type": "code",
      "source": [
        "pd_df_sp_track_audio_features.columns"
      ],
      "metadata": {
        "colab": {
          "base_uri": "https://localhost:8080/"
        },
        "id": "EXRIpBbGk5Et",
        "outputId": "8edf187c-2fad-44ac-e781-31ba20887880"
      },
      "execution_count": null,
      "outputs": [
        {
          "output_type": "execute_result",
          "data": {
            "text/plain": [
              "Index(['isrc', 'acousticness', 'danceability', 'af_duration_ms', 'energy',\n",
              "       'instrumentalness', 'key', 'liveness', 'loudness', 'mode',\n",
              "       'speechiness', 'tempo', 'time_signature', 'valence', 'af_updated_on',\n",
              "       'track_id', 'track_title', 'sp_duration_ms', 'track_number',\n",
              "       'release_id', 'updated_on'],\n",
              "      dtype='object')"
            ]
          },
          "metadata": {},
          "execution_count": 39
        }
      ]
    },
    {
      "cell_type": "code",
      "source": [
        "\n",
        "# Function to detect and return outliers using IQR\n",
        "def detect_outliers(df, column):\n",
        "    Q1 = df[column].quantile(0.25)\n",
        "    Q3 = df[column].quantile(0.75)\n",
        "    IQR = Q3 - Q1\n",
        "    outliers_condition = (df[column] < (Q1 - 1.5 * IQR)) | (df[column] > (Q3 + 1.5 * IQR))\n",
        "    return df[outliers_condition]\n",
        "\n",
        "# Detect outliers in 'loudness'\n",
        "loudness_outliers = detect_outliers(pd_df_sp_track_audio_features, 'loudness')\n",
        "\n",
        "# Detect outliers in 'tempo'\n",
        "tempo_outliers = detect_outliers(pd_df_sp_track_audio_features, 'tempo')\n",
        "\n",
        "# Detect outliers in 'duration_ms'\n",
        "duration_outliers = detect_outliers(pd_df_sp_track_audio_features, 'af_duration_ms')\n",
        "\n",
        "# Plotting for visualization\n",
        "sns.boxplot(x=pd_df_sp_track_audio_features['loudness'])\n",
        "plt.show()\n",
        "sns.boxplot(x=pd_df_sp_track_audio_features['tempo'])\n",
        "plt.show()\n",
        "sns.boxplot(x=pd_df_sp_track_audio_features['af_duration_ms'])\n",
        "plt.show()\n",
        "\n",
        "# Analyze the outliers\n",
        "print(\"Loudness Outliers:\\n\", loudness_outliers.head())\n",
        "print(\"Tempo Outliers:\\n\", tempo_outliers.head())\n",
        "print(\"Duration Outliers:\\n\", duration_outliers.head())"
      ],
      "metadata": {
        "id": "nh6TgkE9J86i",
        "colab": {
          "base_uri": "https://localhost:8080/",
          "height": 1000
        },
        "outputId": "94679108-d958-4774-ce5f-a59c90c958d3"
      },
      "execution_count": null,
      "outputs": [
        {
          "output_type": "display_data",
          "data": {
            "text/plain": [
              "<Figure size 640x480 with 1 Axes>"
            ],
            "image/png": "[encoded data removed]"
          },
          "metadata": {}
        },
        {
          "output_type": "display_data",
          "data": {
            "text/plain": [
              "<Figure size 640x480 with 1 Axes>"
            ],
            "image/png": "[encoded data removed]"
          },
          "metadata": {}
        },
        {
          "output_type": "display_data",
          "data": {
            "text/plain": [
              "<Figure size 640x480 with 1 Axes>"
            ],
            "image/png": "[encoded data removed]"
          },
          "metadata": {}
        },
        {
          "output_type": "stream",
          "name": "stdout",
          "text": [
            "Loudness Outliers:\n",
            "             isrc  acousticness  danceability  af_duration_ms   energy  \\\n",
            "1   AAA201704185      0.880000         0.193          147000  0.30700   \n",
            "61  AEA0D1961376      0.000274         0.153          316461  0.43700   \n",
            "65  AEA0D1978027      0.988000         0.504          305000  0.10700   \n",
            "67  AEA0D2012283      0.994000         0.553          169378  0.00769   \n",
            "68  AEA0D2012284      0.229000         0.600          163788  0.22300   \n",
            "\n",
            "    instrumentalness  key  liveness  loudness  mode  ...  tempo  \\\n",
            "1              0.893    8    0.1640   -20.412     0  ...     68   \n",
            "61             0.815    0    0.2860   -18.969     1  ...     75   \n",
            "65             0.947    4    0.1090   -19.709     1  ...    150   \n",
            "67             0.925    5    0.1080   -26.327     0  ...     63   \n",
            "68             0.936    3    0.0832   -20.930     0  ...    110   \n",
            "\n",
            "    time_signature  valence       af_updated_on track_id track_title  \\\n",
            "1                5   0.0392 2023-09-09 12:04:59     None        None   \n",
            "61               4   0.2290 2023-09-09 12:05:26     None        None   \n",
            "65               4   0.0506 2023-09-04 16:56:45     None        None   \n",
            "67               5   0.3310 2023-08-28 09:36:58     None        None   \n",
            "68               4   0.7250 2023-08-28 09:36:58     None        None   \n",
            "\n",
            "   sp_duration_ms track_number  release_id updated_on  \n",
            "1            None          NaN        None        NaT  \n",
            "61           None          NaN        None        NaT  \n",
            "65           None          NaN        None        NaT  \n",
            "67           None          NaN        None        NaT  \n",
            "68           None          NaN        None        NaT  \n",
            "\n",
            "[5 rows x 21 columns]\n",
            "Tempo Outliers:\n",
            "             isrc  acousticness  danceability  af_duration_ms  energy  \\\n",
            "1   AAA201704185        0.8800         0.193          147000   0.307   \n",
            "5   AE2641600009        0.0305         0.385          224700   0.348   \n",
            "6   AE2641700001        0.0207         0.556          223800   0.618   \n",
            "14  AEA0D1823762        0.1380         0.703          144014   0.676   \n",
            "17  AEA0D1852480        0.0130         0.486          202867   0.941   \n",
            "\n",
            "    instrumentalness  key  liveness  loudness  mode  ...  tempo  \\\n",
            "1              0.893    8     0.164   -20.412     0  ...     68   \n",
            "5              0.838    4     0.213   -13.338     0  ...    217   \n",
            "6              0.777    4     0.265    -9.318     0  ...    176   \n",
            "14             0.903    5     0.322   -10.841     1  ...    153   \n",
            "17             0.869   10     0.148    -4.688     0  ...    100   \n",
            "\n",
            "    time_signature  valence       af_updated_on track_id track_title  \\\n",
            "1                5   0.0392 2023-09-09 12:04:59     None        None   \n",
            "5                5   0.3470 2023-09-10 09:33:45     None        None   \n",
            "6                4   0.1580 2023-09-04 16:53:18     None        None   \n",
            "14               4   0.1170 2023-09-02 22:23:48     None        None   \n",
            "17               4   0.3310 2023-08-28 09:36:58     None        None   \n",
            "\n",
            "   sp_duration_ms track_number  release_id updated_on  \n",
            "1            None          NaN        None        NaT  \n",
            "5            None          NaN        None        NaT  \n",
            "6            None          NaN        None        NaT  \n",
            "14           None          NaN        None        NaT  \n",
            "17           None          NaN        None        NaT  \n",
            "\n",
            "[5 rows x 21 columns]\n",
            "Duration Outliers:\n",
            "              isrc  acousticness  danceability  af_duration_ms   energy  \\\n",
            "283  AEA0D2262915      0.995000        0.1930         1047273  0.00388   \n",
            "547  AEA0Q2040206      0.374000        0.1680         1319299  0.06740   \n",
            "669  AEA0Q2098142      0.214000        0.6450          786068  0.83200   \n",
            "686  AEA0Q2140045      0.000606        0.4340          710059  0.80100   \n",
            "783  AEA1B1700279      0.891000        0.0815          919000  0.27200   \n",
            "\n",
            "     instrumentalness  key  liveness  loudness  mode  ...  tempo  \\\n",
            "283            0.9430    4    0.0943   -40.822     1  ...     69   \n",
            "547            0.9600    6    0.2000   -26.760     1  ...    115   \n",
            "669            0.0659    4    0.1090    -6.762     0  ...    120   \n",
            "686            0.8230    1    0.5890   -11.830     1  ...    169   \n",
            "783            0.9490    0    0.0990   -16.432     1  ...     73   \n",
            "\n",
            "     time_signature  valence       af_updated_on track_id track_title  \\\n",
            "283               4   0.0269 2023-09-02 22:27:19     None        None   \n",
            "547               3   0.0284 2023-09-09 12:14:52     None        None   \n",
            "669               4   0.3140 2023-08-31 14:14:55     None        None   \n",
            "686               4   0.0387 2023-09-03 08:45:01     None        None   \n",
            "783               4   0.0300 2023-09-09 12:02:12     None        None   \n",
            "\n",
            "    sp_duration_ms track_number  release_id updated_on  \n",
            "283           None          NaN        None        NaT  \n",
            "547           None          NaN        None        NaT  \n",
            "669           None          NaN        None        NaT  \n",
            "686           None          NaN        None        NaT  \n",
            "783           None          NaN        None        NaT  \n",
            "\n",
            "[5 rows x 21 columns]\n"
          ]
        }
      ]
    },
    {
      "cell_type": "markdown",
      "source": [
        "\n",
        "From the above , we these insights:\n",
        "\n",
        "**Loudness Outliers:** Tracks with significantly lower loudness levels than average, like \"The Darkness\" and \"Spaghetti Beach,\" could represent genres with a softer tone or specific artistic choices. This variance in loudness can impact listener's experience and preferences.\n",
        "\n",
        "**Tempo Outliers:** Tracks like \"Electr\" and \"Jangalhando\" with unusually low tempo could be from genres like ambient or classical, offering a different listening experience. Tempo variations significantly contribute to the mood and style of music.\n",
        "\n",
        "**Duration Outliers:** Extremely long tracks such as \"Onelove Miami 2015\" and \"Continuous Mix 1\" suggest these could be mixes or continuous play albums, offering a different kind of listening experience compared to typical songs. Such long durations are often found in specific music styles like electronic mixes or live concert recordings"
      ],
      "metadata": {
        "id": "ohFEBRLUNSWC"
      }
    },
    {
      "cell_type": "markdown",
      "source": [
        "Looking at unusual data in the  spotify track and audio feature dataframe shows how diverse the music on the platform is. There are big differences in how loud, fast, and long the songs are, which shows there are many different types of music and ways artists express themselves. This means that all kinds of listeners can find something they like, showing how good Spotify is at being a music streaming service for everyone. The fact that these unusual data points exist shows that Spotify is dedicated to giving its users a wide range of music to listen to."
      ],
      "metadata": {
        "id": "zgE14V0GPF6i"
      }
    },
    {
      "cell_type": "markdown",
      "source": [
        "Trend Analysis"
      ],
      "metadata": {
        "id": "xOMOl2TRPa6s"
      }
    },
    {
      "cell_type": "code",
      "source": [
        "#Let's group by month and Compute Averages\n",
        "pd_df_sp_track_audio_features['month_year_af'] = pd.to_datetime(pd_df_sp_track_audio_features['af_updated_on']).dt.to_period('M')\n",
        "\n",
        "monthly_trend_analysis = pd_df_sp_track_audio_features.groupby('month_year_af').agg({\n",
        "    'acousticness': 'mean',\n",
        "    'danceability': 'mean',\n",
        "    'energy': 'mean',\n",
        "    'loudness': 'mean'\n",
        "}).reset_index()\n",
        "monthly_trend_analysis\n",
        "# Plotting\n",
        "plt.figure(figsize=(12, 7))\n",
        "plt.plot(monthly_trend_analysis['month_year_af'].dt.strftime('%Y-%m'), monthly_trend_analysis['acousticness'], label='Acousticness')\n",
        "plt.plot(monthly_trend_analysis['month_year_af'].dt.strftime('%Y-%m'), monthly_trend_analysis['danceability'], label='Danceability')\n",
        "plt.plot(monthly_trend_analysis['month_year_af'].dt.strftime('%Y-%m'), monthly_trend_analysis['energy'], label='Energy')\n",
        "plt.plot(monthly_trend_analysis['month_year_af'].dt.strftime('%Y-%m'), monthly_trend_analysis['loudness'], label='Loudness')\n",
        "plt.xticks(rotation=90)\n",
        "plt.xlabel('Year-Month')\n",
        "plt.ylabel('Average Value')\n",
        "plt.title('Monthly Trend Analysis of Spotify Tracks')\n",
        "plt.legend()\n",
        "plt.tight_layout()\n",
        "plt.show()\n"
      ],
      "metadata": {
        "id": "h6RHMwAaQU0i",
        "colab": {
          "base_uri": "https://localhost:8080/",
          "height": 524
        },
        "outputId": "64e48bf4-382c-4377-dcae-367422f7c50e"
      },
      "execution_count": null,
      "outputs": [
        {
          "output_type": "display_data",
          "data": {
            "text/plain": [
              "<Figure size 1200x700 with 1 Axes>"
            ],
            "image/png": "[encoded data removed]"
          },
          "metadata": {}
        }
      ]
    },
    {
      "cell_type": "markdown",
      "source": [
        "we can observe the following insights:\n",
        "\n",
        "**Acousticness** remains relatively constant over the months, indicating a steady presence of acoustic elements in the tracks.\n",
        "\n",
        "**Danceability** also shows little variation, suggesting that the rhythm and beat conducive to dancing are consistent features in the tracks.\n",
        "**Energy levels** in the tracks are stable, which could mean that the dynamic range and perceived loudness have not fluctuated significantly.\n",
        "\n",
        "**Loudness** appears to have a very slight increase, but overall, it remains consistent, indicating that the average volume level of the tracks has not changed markedly.\n",
        "\n",
        "\n",
        "Given that all features show relative stability over the two months, we can infer that there are no significant monthly trends in these musical features for the year 2023 between August and September."
      ],
      "metadata": {
        "id": "Pif1sc9oXJim"
      }
    },
    {
      "cell_type": "code",
      "source": [
        "# Temporal Trends: We'll group the data by month and calculate the mean for 'acousticness', 'danceability', 'energy', and 'loudness'.\n",
        "# Release Patterns: We'll count the number of unique releases each month.\n",
        "# Group by 'month_year' and calculate mean for the features.\n",
        "temporal_trends = pd_df_sp_track_audio_features.groupby('month_year_af')['acousticness', 'danceability', 'energy', 'loudness'].mean().reset_index()\n",
        "# temporal_trends\n",
        "# Plot the temporal trends.\n",
        "plt.figure(figsize=(12, 7))\n",
        "for feature in ['acousticness', 'danceability', 'energy', 'loudness']:\n",
        "    plt.plot(temporal_trends['month_year_af'].astype(str), temporal_trends[feature], label=feature)\n",
        "\n",
        "plt.xticks(rotation=90)\n",
        "plt.xlabel('Month-Year')\n",
        "plt.ylabel('Average Value')\n",
        "plt.title('Temporal Trends of Spotify Tracks')\n",
        "plt.legend()\n",
        "plt.tight_layout()\n",
        "plt.show()\n"
      ],
      "metadata": {
        "id": "3hdQx3KqXb0u",
        "colab": {
          "base_uri": "https://localhost:8080/",
          "height": 580
        },
        "outputId": "f3e7d29f-15ab-476d-ccd5-cf9f220fd37f"
      },
      "execution_count": null,
      "outputs": [
        {
          "output_type": "stream",
          "name": "stderr",
          "text": [
            "<ipython-input-44-ed96f895039f>:4: FutureWarning: Indexing with multiple keys (implicitly converted to a tuple of keys) will be deprecated, use a list instead.\n",
            "  temporal_trends = pd_df_sp_track_audio_features.groupby('month_year_af')['acousticness', 'danceability', 'energy', 'loudness'].mean().reset_index()\n"
          ]
        },
        {
          "output_type": "display_data",
          "data": {
            "text/plain": [
              "<Figure size 1200x700 with 1 Axes>"
            ],
            "image/png": "[encoded data removed]"
          },
          "metadata": {}
        }
      ]
    },
    {
      "cell_type": "markdown",
      "source": [
        "Some observations can be made:\n",
        "\n",
        "**Acousticness** remains relatively low, which might suggest a preference for more produced, less organic sounds in the tracks.\n",
        "\n",
        "**Danceability** appears to be relatively high, indicating a possible trend towards tracks with a beat or rhythm conducive to dancing.\n",
        "\n",
        "**Energy levels** are high as well, which could correlate with the high danceability, supporting the idea that these tracks are upbeat and dynamic.\n",
        "\n",
        "**Loudness** is consistent and on the lower side, which is common in digitally streamed music due to normalization processes platforms use to ensure a consistent listening experience."
      ],
      "metadata": {
        "id": "Mp3y2j7z21jK"
      }
    },
    {
      "cell_type": "code",
      "source": [
        "# # Release Patterns: Count the number of unique releases each month.\n",
        "release_patterns = pd_df_sp_track_audio_features.groupby('month_year_af')['release_id'].nunique().reset_index()\n",
        "release_patterns\n",
        "# Plot the release patterns.\n",
        "plt.figure(figsize=(12, 7))\n",
        "plt.bar(release_patterns['month_year_af'].astype(str), release_patterns['release_id'])\n",
        "plt.xticks(rotation=90)\n",
        "plt.xlabel('Month-Year')\n",
        "plt.ylabel('Number of Releases')\n",
        "plt.title('Release Patterns of Spotify Tracks')\n",
        "plt.tight_layout()\n",
        "plt.show()"
      ],
      "metadata": {
        "id": "cROic1AqbFQb",
        "colab": {
          "base_uri": "https://localhost:8080/",
          "height": 524
        },
        "outputId": "46814748-efd0-4051-a0ed-d307b1accb75"
      },
      "execution_count": null,
      "outputs": [
        {
          "output_type": "display_data",
          "data": {
            "text/plain": [
              "<Figure size 1200x700 with 1 Axes>"
            ],
            "image/png": "[encoded data removed]"
          },
          "metadata": {}
        }
      ]
    },
    {
      "cell_type": "markdown",
      "source": [
        "**Release Patterns** <br/>\n",
        "There's a noticeable drop in the number of releases from August to September. This could indicate a strategic release schedule that targets specific times of the year or month, or it may reflect industry-wide trends in music release cycles."
      ],
      "metadata": {
        "id": "18CHWlQmACTv"
      }
    },
    {
      "cell_type": "code",
      "source": [
        "\n",
        "# Key and Mode Trends over Time\n",
        "key_mode_counts = pd_df_sp_track_audio_features.groupby(['key', 'mode', 'month_year_af']).size().reset_index(name='count')\n",
        "key_mode_counts_pivot = key_mode_counts.pivot_table(index='month_year_af', columns=['key', 'mode'], values='count', fill_value=0)\n",
        "\n",
        "# Plotting Key and Mode Trends over Time\n",
        "key_mode_counts_pivot.plot(kind='bar', stacked=True, figsize=(12, 7))\n",
        "plt.title('Key and Mode Trends over Time')\n",
        "plt.xlabel('Month-Year')\n",
        "plt.ylabel('Counts')\n",
        "plt.legend(title='Key and Mode', bbox_to_anchor=(1.05, 1), loc='upper left')\n",
        "plt.tight_layout()\n",
        "plt.show()\n",
        "\n",
        "\n"
      ],
      "metadata": {
        "id": "nGw76Nym2wSF",
        "colab": {
          "base_uri": "https://localhost:8080/",
          "height": 524
        },
        "outputId": "18c9d95e-fad9-4795-ddce-7d7357059605"
      },
      "execution_count": null,
      "outputs": [
        {
          "output_type": "display_data",
          "data": {
            "text/plain": [
              "<Figure size 1200x700 with 1 Axes>"
            ],
            "image/png": "[encoded data removed]"
          },
          "metadata": {}
        }
      ]
    },
    {
      "cell_type": "markdown",
      "source": [
        "**Key and Mode Trends** <br/>\n",
        "The bar chart demonstrates that the distribution of songs in different keys and modes appears consistent over the two months. This might suggest that there's no significant shift in the musical key preferences of releases during this period."
      ],
      "metadata": {
        "id": "AAj9qZqP_I0A"
      }
    },
    {
      "cell_type": "code",
      "source": [
        "# Valence and Energy Trends over Time\n",
        "valence_energy_trends = pd_df_sp_track_audio_features.groupby('month_year_af').agg({'valence':'mean', 'energy':'mean'}).reset_index()\n",
        "\n",
        "# Plotting Valence and Energy Trends over Time\n",
        "plt.figure(figsize=(12, 7))\n",
        "plt.plot(valence_energy_trends['month_year_af'].astype(str), valence_energy_trends['valence'], label='Valence')\n",
        "plt.plot(valence_energy_trends['month_year_af'].astype(str), valence_energy_trends['energy'], label='Energy')\n",
        "plt.xticks(rotation=90)\n",
        "plt.xlabel('Month-Year')\n",
        "plt.ylabel('Average Value')\n",
        "plt.title('Valence and Energy Trends over Time')\n",
        "plt.legend()\n",
        "plt.tight_layout()\n",
        "plt.show()\n"
      ],
      "metadata": {
        "id": "K5U8TW8h7IVz",
        "colab": {
          "base_uri": "https://localhost:8080/",
          "height": 524
        },
        "outputId": "e0560df2-b03a-4a14-91a6-dc0c141c2654"
      },
      "execution_count": null,
      "outputs": [
        {
          "output_type": "display_data",
          "data": {
            "text/plain": [
              "<Figure size 1200x700 with 1 Axes>"
            ],
            "image/png": "[encoded data removed]"
          },
          "metadata": {}
        }
      ]
    },
    {
      "cell_type": "markdown",
      "source": [
        "**Valence and Energy Trends**<br/>\n",
        "The trends for valence and energy remain relatively stable over the months, with energy levels slightly higher than valence. This stability might suggest a consistent production preference or listener demand for tracks with these characteristics during these months."
      ],
      "metadata": {
        "id": "H53srOi4-wia"
      }
    },
    {
      "cell_type": "code",
      "source": [
        "\n",
        "\n",
        "# Instrumentalness Trends over Time\n",
        "instrumentalness_trends = pd_df_sp_track_audio_features.groupby('month_year_af').agg({'instrumentalness':'mean'}).reset_index()\n",
        "\n",
        "# Plotting Instrumentalness Trends over Time\n",
        "plt.figure(figsize=(12, 7))\n",
        "plt.bar(instrumentalness_trends['month_year_af'].astype(str), instrumentalness_trends['instrumentalness'])\n",
        "plt.xticks(rotation=90)\n",
        "plt.xlabel('Month-Year')\n",
        "plt.ylabel('Average Instrumentalness')\n",
        "plt.title('Instrumentalness Trends over Time')\n",
        "plt.tight_layout()\n",
        "plt.show()\n"
      ],
      "metadata": {
        "id": "cAdMXSC47Miw",
        "colab": {
          "base_uri": "https://localhost:8080/",
          "height": 727
        },
        "outputId": "4e59d71f-2b42-4789-de87-081cfc6cd45b"
      },
      "execution_count": null,
      "outputs": [
        {
          "output_type": "display_data",
          "data": {
            "text/plain": [
              "<Figure size 1200x700 with 1 Axes>"
            ],
            "image/png": "[encoded data removed]"
          },
          "metadata": {}
        }
      ]
    },
    {
      "cell_type": "markdown",
      "source": [
        "**Instrumentalness Trends** <br/>\n",
        "The average instrumentalness shows no substantial change from August to September. This could mean that the proportion of instrumental to vocal tracks remained the same, or that listener preference for instrumental tracks did not vary significantly during this time."
      ],
      "metadata": {
        "id": "KtoBRBCf-k3n"
      }
    },
    {
      "cell_type": "code",
      "source": [
        "# Count unique tracks and check for duplicates\n",
        "unique_tracks = pd_df_sp_track_audio_features['track_id'].nunique()\n",
        "duplicate_tracks = pd_df_sp_track_audio_features.duplicated(subset=['track_id', 'track_title']).sum()\n",
        "\n",
        "print(f\"Unique tracks: {unique_tracks}\")\n",
        "print(f\"Duplicate tracks: {duplicate_tracks}\")\n"
      ],
      "metadata": {
        "id": "03UC1SclE276",
        "colab": {
          "base_uri": "https://localhost:8080/"
        },
        "outputId": "c5f1da4c-135a-4091-fb4a-aebb69cfdbd3"
      },
      "execution_count": null,
      "outputs": [
        {
          "output_type": "stream",
          "name": "stdout",
          "text": [
            "Unique tracks: 175949\n",
            "Duplicate tracks: 824050\n"
          ]
        }
      ]
    },
    {
      "cell_type": "markdown",
      "source": [
        "### Feature Engineering\n",
        "\n",
        "We combine 'acousticness', 'danceability', and 'energy' into a Composite Score. This score can be a simple average or a weighted average of these three features. It could represent the overall 'vibe' or 'feel' of a track.\n"
      ],
      "metadata": {
        "id": "lgQyY4ZysxCy"
      }
    },
    {
      "cell_type": "code",
      "source": [
        "pd_df_sp_track_audio_features['vibe_score'] = pd_df_sp_track_audio_features[['acousticness', 'danceability', 'energy']].mean(axis=1)\n",
        "pd_df_sp_track_audio_features['vibe_score']"
      ],
      "metadata": {
        "colab": {
          "base_uri": "https://localhost:8080/"
        },
        "id": "VTQvnCe4tLmZ",
        "outputId": "afb48204-164f-44dc-a5a3-eb118fcbde3b"
      },
      "execution_count": null,
      "outputs": [
        {
          "output_type": "execute_result",
          "data": {
            "text/plain": [
              "0         0.336024\n",
              "1         0.460000\n",
              "2         0.402433\n",
              "3         0.536860\n",
              "4         0.341567\n",
              "            ...   \n",
              "999995    0.502133\n",
              "999996    0.479270\n",
              "999997    0.573333\n",
              "999998    0.573333\n",
              "999999    0.576468\n",
              "Name: vibe_score, Length: 1000000, dtype: float64"
            ]
          },
          "metadata": {},
          "execution_count": 54
        }
      ]
    },
    {
      "cell_type": "markdown",
      "source": [
        "Categorize 'loudness' into Bins. Loudness varies widely across tracks. We can categorize this feature into bins (e.g., low, medium, high) for easier analysis or modeling."
      ],
      "metadata": {
        "id": "hVTm08EdtZlO"
      }
    },
    {
      "cell_type": "code",
      "source": [
        "pd_df_sp_track_audio_features['loudness_category'] = pd.cut(pd_df_sp_track_audio_features['loudness'], bins=[-np.inf, -20, -5, np.inf], labels=['Low', 'Medium', 'High'])\n",
        "pd_df_sp_track_audio_features['loudness_category']"
      ],
      "metadata": {
        "colab": {
          "base_uri": "https://localhost:8080/"
        },
        "id": "LdSpLqZGtb_F",
        "outputId": "6d7cd14f-49b7-4bf5-a35c-c89e686bb8f3"
      },
      "execution_count": null,
      "outputs": [
        {
          "output_type": "execute_result",
          "data": {
            "text/plain": [
              "0         Medium\n",
              "1            Low\n",
              "2         Medium\n",
              "3         Medium\n",
              "4         Medium\n",
              "           ...  \n",
              "999995      High\n",
              "999996    Medium\n",
              "999997    Medium\n",
              "999998    Medium\n",
              "999999    Medium\n",
              "Name: loudness_category, Length: 1000000, dtype: category\n",
              "Categories (3, object): ['Low' < 'Medium' < 'High']"
            ]
          },
          "metadata": {},
          "execution_count": 55
        }
      ]
    },
    {
      "cell_type": "markdown",
      "source": [
        "Duration into Minutes, converted 'duration_ms' from milliseconds to minutes as it might be more interpretable."
      ],
      "metadata": {
        "id": "zc5Vtn4vt5aX"
      }
    },
    {
      "cell_type": "code",
      "source": [
        "pd_df_sp_track_audio_features['duration_min'] = pd_df_sp_track_audio_features['af_duration_ms'] / 60000\n",
        "pd_df_sp_track_audio_features['duration_min']"
      ],
      "metadata": {
        "colab": {
          "base_uri": "https://localhost:8080/"
        },
        "id": "--TAbFtlt8lI",
        "outputId": "af2c1e1d-10cf-4713-b09f-a79407459d93"
      },
      "execution_count": null,
      "outputs": [
        {
          "output_type": "execute_result",
          "data": {
            "text/plain": [
              "0         5.020450\n",
              "1         2.450000\n",
              "2         3.538267\n",
              "3         7.567383\n",
              "4         2.614817\n",
              "            ...   \n",
              "999995    4.314283\n",
              "999996    7.206667\n",
              "999997    6.449633\n",
              "999998    6.449633\n",
              "999999    8.234167\n",
              "Name: duration_min, Length: 1000000, dtype: float64"
            ]
          },
          "metadata": {},
          "execution_count": 56
        }
      ]
    },
    {
      "cell_type": "markdown",
      "source": [
        "Day of Week from 'updated_on', extract the day of the week from the 'updated_on' column. It can be useful to analyze trends based on the day of the week."
      ],
      "metadata": {
        "id": "dCNQ6YP9uEni"
      }
    },
    {
      "cell_type": "code",
      "source": [
        "pd_df_sp_track_audio_features['day_of_week'] = pd.to_datetime(pd_df_sp_track_audio_features['af_updated_on']).dt.dayofweek\n",
        "pd_df_sp_track_audio_features['day_of_week']"
      ],
      "metadata": {
        "colab": {
          "base_uri": "https://localhost:8080/"
        },
        "id": "BjlCUpkTuPpv",
        "outputId": "94f754b6-a3c9-4f66-9c49-9c40532b1efa"
      },
      "execution_count": null,
      "outputs": [
        {
          "output_type": "execute_result",
          "data": {
            "text/plain": [
              "0         5\n",
              "1         5\n",
              "2         5\n",
              "3         6\n",
              "4         6\n",
              "         ..\n",
              "999995    0\n",
              "999996    5\n",
              "999997    3\n",
              "999998    3\n",
              "999999    5\n",
              "Name: day_of_week, Length: 1000000, dtype: int64"
            ]
          },
          "metadata": {},
          "execution_count": 57
        }
      ]
    },
    {
      "cell_type": "markdown",
      "source": [
        "Normalizing the 'tempo' feature to have values between 0 and 1. This can help in certain types of modeling"
      ],
      "metadata": {
        "id": "ATzm5bhCuhka"
      }
    },
    {
      "cell_type": "code",
      "source": [
        "min_tempo = pd_df_sp_track_audio_features['tempo'].min()\n",
        "max_tempo = pd_df_sp_track_audio_features['tempo'].max()\n",
        "pd_df_sp_track_audio_features['normalized_tempo'] = (pd_df_sp_track_audio_features['tempo'] - min_tempo) / (max_tempo - min_tempo)\n",
        "pd_df_sp_track_audio_features['normalized_tempo']"
      ],
      "metadata": {
        "colab": {
          "base_uri": "https://localhost:8080/"
        },
        "id": "_XxE6jw_uhSF",
        "outputId": "f3748593-6c9e-4f29-bb0e-060159c4a5c6"
      },
      "execution_count": null,
      "outputs": [
        {
          "output_type": "execute_result",
          "data": {
            "text/plain": [
              "0         0.416\n",
              "1         0.272\n",
              "2         0.508\n",
              "3         0.508\n",
              "4         0.540\n",
              "          ...  \n",
              "999995    0.528\n",
              "999996    0.696\n",
              "999997    0.536\n",
              "999998    0.536\n",
              "999999    0.584\n",
              "Name: normalized_tempo, Length: 1000000, dtype: float64"
            ]
          },
          "metadata": {},
          "execution_count": 58
        }
      ]
    },
    {
      "cell_type": "markdown",
      "source": [
        "Let's consider working with the 'vibe_score' feature, which is a composite score calculated from 'acousticness', 'danceability', and 'energy'. This score could provide a holistic view of the musical characteristics of each track.\n",
        "\n"
      ],
      "metadata": {
        "id": "v_aNfNg2v7hS"
      }
    },
    {
      "cell_type": "code",
      "source": [
        "# Plot the distribution of 'vibe_score'\n",
        "plt.figure(figsize=(10, 6))\n",
        "plt.hist(pd_df_sp_track_audio_features['vibe_score'], bins=50, edgecolor='black')\n",
        "plt.xlabel('Vibe Score')\n",
        "plt.ylabel('Frequency')\n",
        "plt.title('Distribution of Vibe Score Across Tracks')\n",
        "plt.show()\n"
      ],
      "metadata": {
        "colab": {
          "base_uri": "https://localhost:8080/",
          "height": 584
        },
        "id": "d_8qOE2bv-by",
        "outputId": "d56641dc-84ca-4c04-e8d9-f232a75a1dc8"
      },
      "execution_count": null,
      "outputs": [
        {
          "output_type": "display_data",
          "data": {
            "text/plain": [
              "<Figure size 1000x600 with 1 Axes>"
            ],
            "image/png": "[encoded data removed]"
          },
          "metadata": {}
        }
      ]
    },
    {
      "cell_type": "markdown",
      "source": [
        "From the histogram, it appears that the distribution is centered around a mean value with a normal distribution shape. This indicates that most tracks have a moderate 'vibe_score', with fewer tracks having extremely low or high scores. This kind of distribution suggests that, on average, the tracks in  dataframe tend to have a balanced mix of acousticness, danceability, and energy, with no extreme deviations towards a particular vibe."
      ],
      "metadata": {
        "id": "2PjjtEnCx7Rp"
      }
    },
    {
      "cell_type": "markdown",
      "source": [
        "## Analysis Questions\n",
        "During our exploratory data analysis of the Spotify dataset, we addressed the following five questions:\n"
      ],
      "metadata": {
        "id": "CVm1MVJM7w5Q"
      }
    },
    {
      "cell_type": "markdown",
      "source": [
        "###1. **What are the release patterns for Spotify tracks?**\n",
        "\n",
        "Release pattern analysis pointed to a higher number of releases in  the two months, which is indicative of strategic timing for music releases, possibly to coincide with specific seasons or events."
      ],
      "metadata": {
        "id": "5YycZHaO8e8g"
      }
    },
    {
      "cell_type": "markdown",
      "source": [
        "###2. **Does the spotify data indicate any particular trends in track valence and energy?**\n",
        "\n",
        "The trends in valence and energy maintained a steady pattern, with no significant fluctuations, which imply a consistent mood in the music released during these two months."
      ],
      "metadata": {
        "id": "-itqA1mm8aZ2"
      }
    },
    {
      "cell_type": "markdown",
      "source": [
        "###3.**Are certain keys or modes more prevalent in track releases?**\n",
        "\n",
        "The key and mode analysis demonstrated that some combinations were more common than others, possibly reflecting popular choices in music production for the timeframe analyzed."
      ],
      "metadata": {
        "id": "DjLje9ya8OzN"
      }
    },
    {
      "cell_type": "markdown",
      "source": [
        "\n",
        "###4. **How do acousticness, danceability, energy, and loudness trends behave over time?**\n",
        "\n",
        "The trend analysis revealed that these attributes remained relatively stable over the two months, suggesting consistent production characteristics or user preferences during the observed period."
      ],
      "metadata": {
        "id": "p_5QTKmn8G8R"
      }
    },
    {
      "cell_type": "markdown",
      "source": [
        "###5. **What are the common attributes of tracks in terms of 'vibe score'?**\n",
        "\n",
        "The 'vibe score' distribution was centered around a moderate range, indicating a general preference or trend towards tracks that balance acousticness, danceability, and energy."
      ],
      "metadata": {
        "id": "Xw_-nQl3768e"
      }
    },
    {
      "cell_type": "markdown",
      "source": [
        "## **Conclusion**\n",
        "We used big data tools to study a large music dataset. We found patterns and insights by looking at basic stats and visualizing the data. We saw that people tend to like songs with a medium 'vibe score'.\n",
        "\n",
        "We also looked at how music features changed over time and found that some features stayed the same. We noticed that songs are often released at specific times, maybe to get the most attention.\n",
        "\n",
        "We made a new feature called 'vibe score' that combines other features to show the overall feel of a track. Most tracks had a balanced 'vibe score', which could be useful information for musicians and producers.\n",
        "\n",
        "Our study helped us understand the dataset better and showed how it could be used in the music industry. The findings could help make decisions that align with what listeners like, improving their experience."
      ],
      "metadata": {
        "id": "Q8f7ZKP53v5c"
      }
    },
    {
      "cell_type": "markdown",
      "source": [
        "Relating it to real world ,this dataset suggests that Spotify's song recommendation system might focus on a balance in music features like acousticness, danceability, and energy. These features are important for the 'vibe score' of songs. The fact that these features don't change much over time suggests that the system might try to keep these features stable to appeal to a broad audience with different but specific tastes. The system might also take into account when songs are released to maximize user engagement. These findings can help us understand how Spotify chooses and recommends songs to its users, trying to consistently offer content that matches listener preferences and trends related to seasons or events."
      ],
      "metadata": {
        "id": "neBPLD5mFwLl"
      }
    }
  ]
}
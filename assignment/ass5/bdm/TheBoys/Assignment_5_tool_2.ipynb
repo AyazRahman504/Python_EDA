{
  "cells": [
    {
      "cell_type": "markdown",
      "metadata": {
        "id": "view-in-github",
        "colab_type": "text"
      },
      "source": [
        "<a href=\"https://colab.research.google.com/github/drshahizan/Python_EDA/blob/main/assignment/ass5/bdm/TheBoys/Assignment_5_tool_2.ipynb\" target=\"_parent\"><img src=\"https://colab.research.google.com/assets/colab-badge.svg\" alt=\"Open In Colab\"/></a>"
      ]
    },
    {
      "cell_type": "markdown",
      "metadata": {
        "id": "pwZnKjS82FGj"
      },
      "source": [
        "# TheBoys - Assignment 5b\n",
        "1. Pang Chern Hong | MCS231006\n",
        "2. Nian Cong    | MCS231007\n",
        "3. Wu Jiaming    | MCS221033\n",
        "4. Liu Kaiyuan   | MCS231020"
      ]
    },
    {
      "cell_type": "markdown",
      "source": [
        "# Feature Engineering with Automated Tools H20.ai"
      ],
      "metadata": {
        "id": "pvPox0eXHOH4"
      }
    },
    {
      "cell_type": "markdown",
      "source": [
        "## About\n",
        "Use Brooklyn Home Sales data to make a house price prediction through H2O AutoML"
      ],
      "metadata": {
        "id": "59eM4DjZINeC"
      }
    },
    {
      "cell_type": "markdown",
      "source": [
        "## import dataset"
      ],
      "metadata": {
        "id": "nheI2wA5XZdx"
      }
    },
    {
      "cell_type": "code",
      "source": [
        "from google.colab import drive\n",
        "drive.mount('/content/drive/')"
      ],
      "metadata": {
        "colab": {
          "base_uri": "https://localhost:8080/"
        },
        "id": "vXklgZ3pXWNc",
        "outputId": "402961f9-f7b6-44f9-a428-182f6fada0ba"
      },
      "execution_count": null,
      "outputs": [
        {
          "output_type": "stream",
          "name": "stdout",
          "text": [
            "Drive already mounted at /content/drive/; to attempt to forcibly remount, call drive.mount(\"/content/drive/\", force_remount=True).\n"
          ]
        }
      ]
    },
    {
      "cell_type": "code",
      "source": [
        "!mkdir ~/.kaggle\n",
        "!cp kaggle.json ~/.kaggle/\n",
        "!chmod 600 ~/.kaggle/kaggle.json\n",
        "!kaggle datasets download -d tianhwu/brooklynhomes2003to2017\n",
        "!unzip brooklynhomes2003to2017.zip"
      ],
      "metadata": {
        "colab": {
          "base_uri": "https://localhost:8080/"
        },
        "id": "_iJOlUNzXf1H",
        "outputId": "ef84c023-6175-4f29-859d-f347dd375c2a"
      },
      "execution_count": null,
      "outputs": [
        {
          "output_type": "stream",
          "name": "stdout",
          "text": [
            "mkdir: cannot create directory ‘/root/.kaggle’: File exists\n",
            "cp: cannot stat 'kaggle.json': No such file or directory\n",
            "Downloading brooklynhomes2003to2017.zip to /content\n",
            " 99% 76.0M/76.7M [00:03<00:00, 29.2MB/s]\n",
            "100% 76.7M/76.7M [00:03<00:00, 20.3MB/s]\n",
            "Archive:  brooklynhomes2003to2017.zip\n",
            "  inflating: brooklyn_sales.rds      \n",
            "  inflating: brooklyn_sales_map.csv  \n"
          ]
        }
      ]
    },
    {
      "cell_type": "markdown",
      "source": [
        "## install H2O"
      ],
      "metadata": {
        "id": "G4yBQ1JoXnPg"
      }
    },
    {
      "cell_type": "code",
      "source": [
        "!pip install h2o\n"
      ],
      "metadata": {
        "colab": {
          "base_uri": "https://localhost:8080/"
        },
        "id": "GkcNqQl2XqrN",
        "outputId": "b1bfb6a7-385a-4665-9ade-19e9941237c2"
      },
      "execution_count": null,
      "outputs": [
        {
          "output_type": "stream",
          "name": "stdout",
          "text": [
            "Requirement already satisfied: h2o in /usr/local/lib/python3.10/dist-packages (3.44.0.2)\n",
            "Requirement already satisfied: requests in /usr/local/lib/python3.10/dist-packages (from h2o) (2.31.0)\n",
            "Requirement already satisfied: tabulate in /usr/local/lib/python3.10/dist-packages (from h2o) (0.9.0)\n",
            "Requirement already satisfied: charset-normalizer<4,>=2 in /usr/local/lib/python3.10/dist-packages (from requests->h2o) (3.3.2)\n",
            "Requirement already satisfied: idna<4,>=2.5 in /usr/local/lib/python3.10/dist-packages (from requests->h2o) (3.4)\n",
            "Requirement already satisfied: urllib3<3,>=1.21.1 in /usr/local/lib/python3.10/dist-packages (from requests->h2o) (2.0.7)\n",
            "Requirement already satisfied: certifi>=2017.4.17 in /usr/local/lib/python3.10/dist-packages (from requests->h2o) (2023.7.22)\n"
          ]
        }
      ]
    },
    {
      "cell_type": "markdown",
      "source": [
        "## import H2O"
      ],
      "metadata": {
        "id": "bw4hgcgoFcX1"
      }
    },
    {
      "cell_type": "code",
      "source": [
        "import h2o\n",
        "from h2o.automl import H2OAutoML"
      ],
      "metadata": {
        "id": "HQ1N_ildXwPy"
      },
      "execution_count": null,
      "outputs": []
    },
    {
      "cell_type": "markdown",
      "source": [
        "##  Initializing H20 Cluster"
      ],
      "metadata": {
        "id": "b609TaywXzg6"
      }
    },
    {
      "cell_type": "code",
      "source": [
        "h2o.init()"
      ],
      "metadata": {
        "colab": {
          "base_uri": "https://localhost:8080/",
          "height": 535
        },
        "id": "JkzhYvxwX28y",
        "outputId": "6f0dede0-e978-4e37-9ed1-b9ef283b95ef"
      },
      "execution_count": null,
      "outputs": [
        {
          "output_type": "stream",
          "name": "stdout",
          "text": [
            "Checking whether there is an H2O instance running at http://localhost:54321..... not found.\n",
            "Attempting to start a local H2O server...\n",
            "  Java Version: openjdk version \"11.0.20.1\" 2023-08-24; OpenJDK Runtime Environment (build 11.0.20.1+1-post-Ubuntu-0ubuntu122.04); OpenJDK 64-Bit Server VM (build 11.0.20.1+1-post-Ubuntu-0ubuntu122.04, mixed mode, sharing)\n",
            "  Starting server from /usr/local/lib/python3.10/dist-packages/h2o/backend/bin/h2o.jar\n",
            "  Ice root: /tmp/tmpux9a16zn\n",
            "  JVM stdout: /tmp/tmpux9a16zn/h2o_unknownUser_started_from_python.out\n",
            "  JVM stderr: /tmp/tmpux9a16zn/h2o_unknownUser_started_from_python.err\n",
            "  Server is running at http://127.0.0.1:54321\n",
            "Connecting to H2O server at http://127.0.0.1:54321 ... successful.\n"
          ]
        },
        {
          "output_type": "display_data",
          "data": {
            "text/plain": [
              "--------------------------  -----------------------------------------------------------------------------------------\n",
              "H2O_cluster_uptime:         05 secs\n",
              "H2O_cluster_timezone:       Etc/UTC\n",
              "H2O_data_parsing_timezone:  UTC\n",
              "H2O_cluster_version:        3.44.0.2\n",
              "H2O_cluster_version_age:    16 days\n",
              "H2O_cluster_name:           H2O_from_python_unknownUser_wolyqd\n",
              "H2O_cluster_total_nodes:    1\n",
              "H2O_cluster_free_memory:    3.170 Gb\n",
              "H2O_cluster_total_cores:    2\n",
              "H2O_cluster_allowed_cores:  2\n",
              "H2O_cluster_status:         locked, healthy\n",
              "H2O_connection_url:         http://127.0.0.1:54321\n",
              "H2O_connection_proxy:       {\"http\": null, \"https\": null, \"colab_language_server\": \"/usr/colab/bin/language_service\"}\n",
              "H2O_internal_security:      False\n",
              "Python_version:             3.10.12 final\n",
              "--------------------------  -----------------------------------------------------------------------------------------"
            ],
            "text/html": [
              "\n",
              "<style>\n",
              "\n",
              "#h2o-table-1.h2o-container {\n",
              "  overflow-x: auto;\n",
              "}\n",
              "#h2o-table-1 .h2o-table {\n",
              "  /* width: 100%; */\n",
              "  margin-top: 1em;\n",
              "  margin-bottom: 1em;\n",
              "}\n",
              "#h2o-table-1 .h2o-table caption {\n",
              "  white-space: nowrap;\n",
              "  caption-side: top;\n",
              "  text-align: left;\n",
              "  /* margin-left: 1em; */\n",
              "  margin: 0;\n",
              "  font-size: larger;\n",
              "}\n",
              "#h2o-table-1 .h2o-table thead {\n",
              "  white-space: nowrap; \n",
              "  position: sticky;\n",
              "  top: 0;\n",
              "  box-shadow: 0 -1px inset;\n",
              "}\n",
              "#h2o-table-1 .h2o-table tbody {\n",
              "  overflow: auto;\n",
              "}\n",
              "#h2o-table-1 .h2o-table th,\n",
              "#h2o-table-1 .h2o-table td {\n",
              "  text-align: right;\n",
              "  /* border: 1px solid; */\n",
              "}\n",
              "#h2o-table-1 .h2o-table tr:nth-child(even) {\n",
              "  /* background: #F5F5F5 */\n",
              "}\n",
              "\n",
              "</style>      \n",
              "<div id=\"h2o-table-1\" class=\"h2o-container\">\n",
              "  <table class=\"h2o-table\">\n",
              "    <caption></caption>\n",
              "    <thead></thead>\n",
              "    <tbody><tr><td>H2O_cluster_uptime:</td>\n",
              "<td>05 secs</td></tr>\n",
              "<tr><td>H2O_cluster_timezone:</td>\n",
              "<td>Etc/UTC</td></tr>\n",
              "<tr><td>H2O_data_parsing_timezone:</td>\n",
              "<td>UTC</td></tr>\n",
              "<tr><td>H2O_cluster_version:</td>\n",
              "<td>3.44.0.2</td></tr>\n",
              "<tr><td>H2O_cluster_version_age:</td>\n",
              "<td>16 days</td></tr>\n",
              "<tr><td>H2O_cluster_name:</td>\n",
              "<td>H2O_from_python_unknownUser_wolyqd</td></tr>\n",
              "<tr><td>H2O_cluster_total_nodes:</td>\n",
              "<td>1</td></tr>\n",
              "<tr><td>H2O_cluster_free_memory:</td>\n",
              "<td>3.170 Gb</td></tr>\n",
              "<tr><td>H2O_cluster_total_cores:</td>\n",
              "<td>2</td></tr>\n",
              "<tr><td>H2O_cluster_allowed_cores:</td>\n",
              "<td>2</td></tr>\n",
              "<tr><td>H2O_cluster_status:</td>\n",
              "<td>locked, healthy</td></tr>\n",
              "<tr><td>H2O_connection_url:</td>\n",
              "<td>http://127.0.0.1:54321</td></tr>\n",
              "<tr><td>H2O_connection_proxy:</td>\n",
              "<td>{\"http\": null, \"https\": null, \"colab_language_server\": \"/usr/colab/bin/language_service\"}</td></tr>\n",
              "<tr><td>H2O_internal_security:</td>\n",
              "<td>False</td></tr>\n",
              "<tr><td>Python_version:</td>\n",
              "<td>3.10.12 final</td></tr></tbody>\n",
              "  </table>\n",
              "</div>\n"
            ]
          },
          "metadata": {}
        }
      ]
    },
    {
      "cell_type": "markdown",
      "source": [
        "## Data Loading and Preprocessing"
      ],
      "metadata": {
        "id": "eIIWCdxJFtLb"
      }
    },
    {
      "cell_type": "code",
      "source": [
        "# Import data into H2O frames\n",
        "train_h2o = h2o.import_file('brooklyn_sales_map.csv')\n",
        "test_h2o = h2o.import_file('brooklyn_sales_map.csv')"
      ],
      "metadata": {
        "colab": {
          "base_uri": "https://localhost:8080/"
        },
        "id": "8rgko5_kX9mh",
        "outputId": "cc5beede-dcd6-420a-bab1-c50587a3f92a"
      },
      "execution_count": null,
      "outputs": [
        {
          "output_type": "stream",
          "name": "stdout",
          "text": [
            "Parse progress: |████████████████████████████████████████████████████████████████| (done) 100%\n",
            "Parse progress: |████████████████████████████████████████████████████████████████| (done) 100%\n"
          ]
        }
      ]
    },
    {
      "cell_type": "markdown",
      "source": [
        "## Define features and target\n",
        "set input data and input label"
      ],
      "metadata": {
        "id": "ZBjst9KJYNSO"
      }
    },
    {
      "cell_type": "code",
      "source": [
        "x = train_h2o.columns[:-1]  # Features, excluding the last column\n",
        "y = \"sale_price\""
      ],
      "metadata": {
        "id": "iompng9OYQei"
      },
      "execution_count": null,
      "outputs": []
    },
    {
      "cell_type": "markdown",
      "source": [
        "## Build model: Initialize and train AutoML"
      ],
      "metadata": {
        "id": "mnsctLRUYWtZ"
      }
    },
    {
      "cell_type": "code",
      "source": [
        "\n",
        "aml_y = H2OAutoML(max_runtime_secs=60*20, seed=1)\n",
        "aml_y.train(x=x, y=y, training_frame=train_h2o)"
      ],
      "metadata": {
        "colab": {
          "base_uri": "https://localhost:8080/",
          "height": 1000
        },
        "id": "-sOU4wlOYT7n",
        "outputId": "b140142c-48c3-434c-cadb-2e2e21a75e7b"
      },
      "execution_count": null,
      "outputs": [
        {
          "output_type": "stream",
          "name": "stdout",
          "text": [
            "AutoML progress: |\n",
            "07:29:04.837: _train param, Dropping bad and constant columns: [easement, ZoneDist4, borough]\n",
            "\n",
            "███████████████████\n",
            "07:34:55.208: _train param, Dropping bad and constant columns: [BoroCode, ZoneDist4, borough, PFIRM15_FL, FIRM07_FLA, easement]\n",
            "\n",
            "███████\n",
            "07:37:13.890: _train param, Dropping bad and constant columns: [easement, ZoneDist4, borough]\n",
            "\n",
            "█████████████████\n",
            "07:42:33.818: _train param, Dropping unused columns: [easement, ZoneDist4, borough]\n",
            "\n",
            "█\n",
            "07:42:54.767: _train param, Dropping bad and constant columns: [easement, ZoneDist4, borough]\n",
            "\n",
            "███\n",
            "07:43:55.681: _train param, Dropping bad and constant columns: [easement, ZoneDist4, borough]\n",
            "\n",
            "███\n",
            "07:44:55.426: _train param, Dropping bad and constant columns: [easement, ZoneDist4, borough]\n",
            "\n",
            "███\n",
            "07:45:51.909: _train param, Dropping bad and constant columns: [easement, ZoneDist4, borough]\n",
            "\n",
            "███\n",
            "07:46:48.360: _train param, Dropping bad and constant columns: [easement, ZoneDist4, borough]\n",
            "\n",
            "██\n",
            "07:47:44.435: _train param, Dropping unused columns: [easement, ZoneDist4, borough]\n",
            "\n",
            "█\n",
            "07:47:52.634: _train param, Dropping unused columns: [easement, ZoneDist4, borough]\n",
            "\n",
            "█\n",
            "07:48:10.803: _train param, Dropping bad and constant columns: [easement, ZoneDist4, borough]\n",
            "\n",
            "█\n",
            "07:48:25.912: _train param, Dropping bad and constant columns: [easement, ZoneDist4, borough]\n",
            "\n",
            "█\n",
            "07:48:52.20: _train param, Dropping bad and constant columns: [easement, ZoneDist4, borough]\n",
            "\n",
            "█| (done) 100%\n",
            "\n",
            "07:48:59.284: _train param, Dropping bad and constant columns: [BoroCode, ZoneDist4, borough, PFIRM15_FL, FIRM07_FLA, easement]\n",
            "\n"
          ]
        },
        {
          "output_type": "execute_result",
          "data": {
            "text/plain": [
              "Model Details\n",
              "=============\n",
              "H2OStackedEnsembleEstimator : Stacked Ensemble\n",
              "Model Key: StackedEnsemble_BestOfFamily_2_AutoML_1_20231125_72853\n",
              "\n",
              "\n",
              "Model Summary for Stacked Ensemble: \n",
              "key                                   value\n",
              "------------------------------------  --------\n",
              "Stacking strategy                     blending\n",
              "Number of base models (used / total)  3/4\n",
              "# GBM base models (used / total)      1/1\n",
              "# XGBoost base models (used / total)  1/1\n",
              "# DRF base models (used / total)      1/1\n",
              "# GLM base models (used / total)      0/1\n",
              "Metalearner algorithm                 GLM\n",
              "Metalearner fold assignment scheme    AUTO\n",
              "Metalearner nfolds                    0\n",
              "Metalearner fold_column\n",
              "Custom metalearner hyperparameters    None\n",
              "\n",
              "ModelMetricsRegressionGLM: stackedensemble\n",
              "** Reported on train data. **\n",
              "\n",
              "MSE: 471304637278.8899\n",
              "RMSE: 686516.3051806489\n",
              "MAE: 124640.24910925022\n",
              "RMSLE: NaN\n",
              "Mean Residual Deviance: 471304637278.8899\n",
              "R^2: 0.8836214032648265\n",
              "Null degrees of freedom: 9990\n",
              "Residual degrees of freedom: 9987\n",
              "Null deviance: 4.04696424041621e+16\n",
              "Residual deviance: 4708804631053389.0\n",
              "AIC: 296909.02593753766\n",
              "\n",
              "ModelMetricsRegressionGLM: stackedensemble\n",
              "** Reported on validation data. **\n",
              "\n",
              "MSE: 3140296566822.8477\n",
              "RMSE: 1772088.1938613686\n",
              "MAE: 134567.94536900704\n",
              "RMSLE: NaN\n",
              "Mean Residual Deviance: 3140296566822.8477\n",
              "R^2: 0.6950560357202571\n",
              "Null degrees of freedom: 39136\n",
              "Residual degrees of freedom: 39133\n",
              "Null deviance: 4.0303421380236595e+17\n",
              "Residual deviance: 1.229017867357458e+17\n",
              "AIC: 1237256.412120743\n",
              "\n",
              "[tips]\n",
              "Use `model.explain()` to inspect the model.\n",
              "--\n",
              "Use `h2o.display.toggle_user_tips()` to switch on/off this section."
            ],
            "text/html": [
              "<pre style='margin: 1em 0 1em 0;'>Model Details\n",
              "=============\n",
              "H2OStackedEnsembleEstimator : Stacked Ensemble\n",
              "Model Key: StackedEnsemble_BestOfFamily_2_AutoML_1_20231125_72853\n",
              "</pre>\n",
              "<div style='margin: 1em 0 1em 0;'>\n",
              "<style>\n",
              "\n",
              "#h2o-table-2.h2o-container {\n",
              "  overflow-x: auto;\n",
              "}\n",
              "#h2o-table-2 .h2o-table {\n",
              "  /* width: 100%; */\n",
              "  margin-top: 1em;\n",
              "  margin-bottom: 1em;\n",
              "}\n",
              "#h2o-table-2 .h2o-table caption {\n",
              "  white-space: nowrap;\n",
              "  caption-side: top;\n",
              "  text-align: left;\n",
              "  /* margin-left: 1em; */\n",
              "  margin: 0;\n",
              "  font-size: larger;\n",
              "}\n",
              "#h2o-table-2 .h2o-table thead {\n",
              "  white-space: nowrap; \n",
              "  position: sticky;\n",
              "  top: 0;\n",
              "  box-shadow: 0 -1px inset;\n",
              "}\n",
              "#h2o-table-2 .h2o-table tbody {\n",
              "  overflow: auto;\n",
              "}\n",
              "#h2o-table-2 .h2o-table th,\n",
              "#h2o-table-2 .h2o-table td {\n",
              "  text-align: right;\n",
              "  /* border: 1px solid; */\n",
              "}\n",
              "#h2o-table-2 .h2o-table tr:nth-child(even) {\n",
              "  /* background: #F5F5F5 */\n",
              "}\n",
              "\n",
              "</style>      \n",
              "<div id=\"h2o-table-2\" class=\"h2o-container\">\n",
              "  <table class=\"h2o-table\">\n",
              "    <caption>Model Summary for Stacked Ensemble: </caption>\n",
              "    <thead><tr><th>key</th>\n",
              "<th>value</th></tr></thead>\n",
              "    <tbody><tr><td>Stacking strategy</td>\n",
              "<td>blending</td></tr>\n",
              "<tr><td>Number of base models (used / total)</td>\n",
              "<td>3/4</td></tr>\n",
              "<tr><td># GBM base models (used / total)</td>\n",
              "<td>1/1</td></tr>\n",
              "<tr><td># XGBoost base models (used / total)</td>\n",
              "<td>1/1</td></tr>\n",
              "<tr><td># DRF base models (used / total)</td>\n",
              "<td>1/1</td></tr>\n",
              "<tr><td># GLM base models (used / total)</td>\n",
              "<td>0/1</td></tr>\n",
              "<tr><td>Metalearner algorithm</td>\n",
              "<td>GLM</td></tr>\n",
              "<tr><td>Metalearner fold assignment scheme</td>\n",
              "<td>AUTO</td></tr>\n",
              "<tr><td>Metalearner nfolds</td>\n",
              "<td>0</td></tr>\n",
              "<tr><td>Metalearner fold_column</td>\n",
              "<td>None</td></tr>\n",
              "<tr><td>Custom metalearner hyperparameters</td>\n",
              "<td>None</td></tr></tbody>\n",
              "  </table>\n",
              "</div>\n",
              "</div>\n",
              "<div style='margin: 1em 0 1em 0;'><pre style='margin: 1em 0 1em 0;'>ModelMetricsRegressionGLM: stackedensemble\n",
              "** Reported on train data. **\n",
              "\n",
              "MSE: 471304637278.8899\n",
              "RMSE: 686516.3051806489\n",
              "MAE: 124640.24910925022\n",
              "RMSLE: NaN\n",
              "Mean Residual Deviance: 471304637278.8899\n",
              "R^2: 0.8836214032648265\n",
              "Null degrees of freedom: 9990\n",
              "Residual degrees of freedom: 9987\n",
              "Null deviance: 4.04696424041621e+16\n",
              "Residual deviance: 4708804631053389.0\n",
              "AIC: 296909.02593753766</pre></div>\n",
              "<div style='margin: 1em 0 1em 0;'><pre style='margin: 1em 0 1em 0;'>ModelMetricsRegressionGLM: stackedensemble\n",
              "** Reported on validation data. **\n",
              "\n",
              "MSE: 3140296566822.8477\n",
              "RMSE: 1772088.1938613686\n",
              "MAE: 134567.94536900704\n",
              "RMSLE: NaN\n",
              "Mean Residual Deviance: 3140296566822.8477\n",
              "R^2: 0.6950560357202571\n",
              "Null degrees of freedom: 39136\n",
              "Residual degrees of freedom: 39133\n",
              "Null deviance: 4.0303421380236595e+17\n",
              "Residual deviance: 1.229017867357458e+17\n",
              "AIC: 1237256.412120743</pre></div><pre style=\"font-size: smaller; margin: 1em 0 0 0;\">\n",
              "\n",
              "[tips]\n",
              "Use `model.explain()` to inspect the model.\n",
              "--\n",
              "Use `h2o.display.toggle_user_tips()` to switch on/off this section.</pre>"
            ]
          },
          "metadata": {},
          "execution_count": 8
        }
      ]
    },
    {
      "cell_type": "markdown",
      "source": [
        "## Results Leaderboard\n",
        "## Top 10 models"
      ],
      "metadata": {
        "id": "f4kCwj5Kjvor"
      }
    },
    {
      "cell_type": "code",
      "source": [
        "lb = aml_y.leaderboard\n",
        "lb.head(10)\n"
      ],
      "metadata": {
        "colab": {
          "base_uri": "https://localhost:8080/",
          "height": 389
        },
        "id": "Is42s4u4jbu6",
        "outputId": "d6a58a8e-99b2-477a-c27c-d2308adb0b9d"
      },
      "execution_count": null,
      "outputs": [
        {
          "output_type": "execute_result",
          "data": {
            "text/plain": [
              "model_id                                                       rmse          mse     mae      rmsle    mean_residual_deviance\n",
              "------------------------------------------------------  -----------  -----------  ------  ---------  ------------------------\n",
              "StackedEnsemble_BestOfFamily_2_AutoML_1_20231125_72853  1.77209e+06  3.1403e+12   134568  nan                     3.1403e+12\n",
              "XGBoost_1_AutoML_1_20231125_72853                       1.77265e+06  3.14229e+12  138362  nan                     3.14229e+12\n",
              "GBM_2_AutoML_1_20231125_72853                           1.81297e+06  3.28687e+12  164002  nan                     3.28687e+12\n",
              "StackedEnsemble_AllModels_1_AutoML_1_20231125_72853     1.83102e+06  3.35265e+12  128904  nan                     3.35265e+12\n",
              "StackedEnsemble_BestOfFamily_1_AutoML_1_20231125_72853  1.87397e+06  3.51177e+12  133413  nan                     3.51177e+12\n",
              "GBM_4_AutoML_1_20231125_72853                           1.87932e+06  3.53185e+12  179574  nan                     3.53185e+12\n",
              "XGBoost_2_AutoML_1_20231125_72853                       1.91565e+06  3.6697e+12   152040  nan                     3.6697e+12\n",
              "GBM_3_AutoML_1_20231125_72853                           1.96682e+06  3.86837e+12  177887  nan                     3.86837e+12\n",
              "DRF_1_AutoML_1_20231125_72853                           2.27747e+06  5.18686e+12  150729    5.49773               5.18686e+12\n",
              "GBM_1_AutoML_1_20231125_72853                           2.3545e+06   5.54369e+12  143642  nan                     5.54369e+12\n",
              "[10 rows x 6 columns]\n"
            ],
            "text/html": [
              "<table class='dataframe'>\n",
              "<thead>\n",
              "<tr><th>model_id                                              </th><th style=\"text-align: right;\">       rmse</th><th style=\"text-align: right;\">        mse</th><th style=\"text-align: right;\">   mae</th><th style=\"text-align: right;\">    rmsle</th><th style=\"text-align: right;\">  mean_residual_deviance</th></tr>\n",
              "</thead>\n",
              "<tbody>\n",
              "<tr><td>StackedEnsemble_BestOfFamily_2_AutoML_1_20231125_72853</td><td style=\"text-align: right;\">1.77209e+06</td><td style=\"text-align: right;\">3.1403e+12 </td><td style=\"text-align: right;\">134568</td><td style=\"text-align: right;\">nan      </td><td style=\"text-align: right;\">             3.1403e+12 </td></tr>\n",
              "<tr><td>XGBoost_1_AutoML_1_20231125_72853                     </td><td style=\"text-align: right;\">1.77265e+06</td><td style=\"text-align: right;\">3.14229e+12</td><td style=\"text-align: right;\">138362</td><td style=\"text-align: right;\">nan      </td><td style=\"text-align: right;\">             3.14229e+12</td></tr>\n",
              "<tr><td>GBM_2_AutoML_1_20231125_72853                         </td><td style=\"text-align: right;\">1.81297e+06</td><td style=\"text-align: right;\">3.28687e+12</td><td style=\"text-align: right;\">164002</td><td style=\"text-align: right;\">nan      </td><td style=\"text-align: right;\">             3.28687e+12</td></tr>\n",
              "<tr><td>StackedEnsemble_AllModels_1_AutoML_1_20231125_72853   </td><td style=\"text-align: right;\">1.83102e+06</td><td style=\"text-align: right;\">3.35265e+12</td><td style=\"text-align: right;\">128904</td><td style=\"text-align: right;\">nan      </td><td style=\"text-align: right;\">             3.35265e+12</td></tr>\n",
              "<tr><td>StackedEnsemble_BestOfFamily_1_AutoML_1_20231125_72853</td><td style=\"text-align: right;\">1.87397e+06</td><td style=\"text-align: right;\">3.51177e+12</td><td style=\"text-align: right;\">133413</td><td style=\"text-align: right;\">nan      </td><td style=\"text-align: right;\">             3.51177e+12</td></tr>\n",
              "<tr><td>GBM_4_AutoML_1_20231125_72853                         </td><td style=\"text-align: right;\">1.87932e+06</td><td style=\"text-align: right;\">3.53185e+12</td><td style=\"text-align: right;\">179574</td><td style=\"text-align: right;\">nan      </td><td style=\"text-align: right;\">             3.53185e+12</td></tr>\n",
              "<tr><td>XGBoost_2_AutoML_1_20231125_72853                     </td><td style=\"text-align: right;\">1.91565e+06</td><td style=\"text-align: right;\">3.6697e+12 </td><td style=\"text-align: right;\">152040</td><td style=\"text-align: right;\">nan      </td><td style=\"text-align: right;\">             3.6697e+12 </td></tr>\n",
              "<tr><td>GBM_3_AutoML_1_20231125_72853                         </td><td style=\"text-align: right;\">1.96682e+06</td><td style=\"text-align: right;\">3.86837e+12</td><td style=\"text-align: right;\">177887</td><td style=\"text-align: right;\">nan      </td><td style=\"text-align: right;\">             3.86837e+12</td></tr>\n",
              "<tr><td>DRF_1_AutoML_1_20231125_72853                         </td><td style=\"text-align: right;\">2.27747e+06</td><td style=\"text-align: right;\">5.18686e+12</td><td style=\"text-align: right;\">150729</td><td style=\"text-align: right;\">  5.49773</td><td style=\"text-align: right;\">             5.18686e+12</td></tr>\n",
              "<tr><td>GBM_1_AutoML_1_20231125_72853                         </td><td style=\"text-align: right;\">2.3545e+06 </td><td style=\"text-align: right;\">5.54369e+12</td><td style=\"text-align: right;\">143642</td><td style=\"text-align: right;\">nan      </td><td style=\"text-align: right;\">             5.54369e+12</td></tr>\n",
              "</tbody>\n",
              "</table><pre style='font-size: smaller; margin-bottom: 1em;'>[10 rows x 6 columns]</pre>"
            ]
          },
          "metadata": {},
          "execution_count": 12
        }
      ]
    },
    {
      "cell_type": "markdown",
      "source": [
        "## predict test data using model"
      ],
      "metadata": {
        "id": "pyf_DfdiGg0B"
      }
    },
    {
      "cell_type": "code",
      "source": [
        "# Make predictions on the test set\n",
        "preds_y = aml_y.predict(test_h2o)\n",
        "\n",
        "# Print the predictions\n",
        "print(preds_y)\n"
      ],
      "metadata": {
        "colab": {
          "base_uri": "https://localhost:8080/"
        },
        "id": "bUbZJqtQh-uk",
        "outputId": "fe1b18cf-825a-4dc2-f070-ec52c62f7b42"
      },
      "execution_count": null,
      "outputs": [
        {
          "output_type": "stream",
          "name": "stdout",
          "text": [
            "stackedensemble prediction progress: |███████████████████████████████████████████| (done) 100%\n",
            "    predict\n",
            "1.71038e+08\n",
            "2.17508e+08\n",
            "2.1815e+08\n",
            "2.1295e+08\n",
            "1.96784e+08\n",
            "1.85093e+08\n",
            "1.91991e+08\n",
            "1.76784e+08\n",
            "1.74499e+08\n",
            "1.71653e+08\n",
            "[390883 rows x 1 column]\n",
            "\n"
          ]
        }
      ]
    },
    {
      "cell_type": "markdown",
      "source": [
        "## submit predicted result"
      ],
      "metadata": {
        "id": "GRDPVsNKnFck"
      }
    },
    {
      "cell_type": "code",
      "source": [
        "import pandas as pd  # Importing pandas\n",
        "\n",
        "# Assuming preds_y is an H2OFrame\n",
        "preds_df = preds_y.as_data_frame()\n",
        "\n",
        "# Reading the sample_submission.csv file\n",
        "submission = pd.read_csv(\"brooklyn_sales_map.csv\")\n",
        "\n",
        "# Assigning the predicted values to the SalePrice column\n",
        "submission['SalePrice'] = preds_df['predict']\n",
        "\n",
        "# Save the DataFrame to a CSV file\n",
        "submission.to_csv('submission.csv', index=False)\n",
        "\n",
        "\n"
      ],
      "metadata": {
        "colab": {
          "base_uri": "https://localhost:8080/"
        },
        "id": "qCa628Hjkym5",
        "outputId": "b8ad5635-b482-4a0f-abe0-f85f97278397"
      },
      "execution_count": null,
      "outputs": [
        {
          "output_type": "stream",
          "name": "stderr",
          "text": [
            "<ipython-input-21-2c31baffeb74>:7: DtypeWarning: Columns (40,41,43,45,46,47,86) have mixed types. Specify dtype option on import or set low_memory=False.\n",
            "  submission = pd.read_csv(\"brooklyn_sales_map.csv\")\n"
          ]
        }
      ]
    },
    {
      "cell_type": "markdown",
      "source": [
        "## Conclusion\n",
        "\n",
        "H2O is designed to handle large datasets and complex models, making it well-suited for housing price prediction tasks that involve extensive data.\n",
        " H2O leverages parallelized processing, allowing it to distribute computations across multiple nodes. This results in faster model training times, particularly beneficial when dealing with substantial amounts of housing data."
      ],
      "metadata": {
        "id": "oQaUQJweLfm0"
      }
    }
  ],
  "metadata": {
    "colab": {
      "provenance": [],
      "include_colab_link": true
    },
    "kernelspec": {
      "display_name": "Python 3",
      "name": "python3"
    },
    "language_info": {
      "name": "python"
    }
  },
  "nbformat": 4,
  "nbformat_minor": 0
}
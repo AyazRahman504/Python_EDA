{
  "metadata": {
    "kernelspec": {
      "language": "python",
      "display_name": "Python 3",
      "name": "python3"
    },
    "language_info": {
      "pygments_lexer": "ipython3",
      "nbconvert_exporter": "python",
      "version": "3.6.4",
      "file_extension": ".py",
      "codemirror_mode": {
        "name": "ipython",
        "version": 3
      },
      "name": "python",
      "mimetype": "text/x-python"
    },
    "kaggle": {
      "accelerator": "none",
      "dataSources": [
        {
          "sourceId": 3228623,
          "sourceType": "datasetVersion",
          "datasetId": 1957837
        }
      ],
      "dockerImageVersionId": 30558,
      "isInternetEnabled": false,
      "language": "python",
      "sourceType": "notebook",
      "isGpuEnabled": false
    },
    "colab": {
      "provenance": [],
      "include_colab_link": true
    }
  },
  "nbformat_minor": 0,
  "nbformat": 4,
  "cells": [
    {
      "cell_type": "markdown",
      "metadata": {
        "id": "view-in-github",
        "colab_type": "text"
      },
      "source": [
        "<a href=\"https://colab.research.google.com/github/drshahizan/Python_EDA/blob/main/assignment/ass5/bdm/KicapSambal/H20_Feature_Engineering_Flight_Price_Prediction.ipynb\" target=\"_parent\"><img src=\"https://colab.research.google.com/assets/colab-badge.svg\" alt=\"Open In Colab\"/></a>"
      ]
    },
    {
      "cell_type": "markdown",
      "source": [
        "# **Automated Feature Engineering Tools Assignment Using H2O**\n",
        "\n",
        "**TEAM MEMBERS:**\n",
        "\n",
        "ZUHAYR ARIF BIN ZAKARIA (MCS231002)\n",
        "\n",
        "MOHD NOR BIN MOHIDIN (MCS231008)\n",
        "\n",
        "NABILA HUSNA BINTI ROSLI (MCS231009)\n",
        "\n",
        "NUR AZIMAH BINTI MOHD SALLEH (MCS231011)\n",
        "\n",
        "\n",
        "## **Flight Price Prediction**\n",
        "\n",
        "In this assignment, we will explore the automated feature engineering tools in data science which can save time and improve the quality of features used for machine learning models.\n",
        "\n"
      ],
      "metadata": {
        "id": "MPKVQTvyWYHN"
      }
    },
    {
      "cell_type": "markdown",
      "source": [
        "## **Dataset Selection**\n",
        "\n",
        "The Dataset is about flight booking options from the website 'Easemytrip' for flight travel between India's top 6 metro cities. 'Easemytrip' is an internet platform for booking flight tickets, and hence a platform that potential passengers use to buy tickets.\n",
        "\n",
        "The various features of the cleaned dataset are explained below:\n",
        "\n",
        "1) Airline: The name of the airline company is stored in the airline column. It is a categorical feature having 6 different airlines.\n",
        "\n",
        "2) Flight: Flight stores information regarding the plane's flight code. It is a categorical feature.\n",
        "\n",
        "3) Source City: City from which the flight takes off. It is a categorical feature having 6 unique cities.\n",
        "\n",
        "4) Departure Time: This is a derived categorical feature obtained created by grouping time periods into bins. It stores information about the departure time and have 6 unique time labels.\n",
        "\n",
        "5) Stops: A categorical feature with 3 distinct values that stores the number of stops between the source and destination cities.\n",
        "\n",
        "6) Arrival Time: This is a derived categorical feature created by grouping time intervals into bins. It has six distinct time labels and keeps information about the arrival time.\n",
        "\n",
        "7) Destination City: City where the flight will land. It is a categorical feature having 6 unique cities.\n",
        "\n",
        "8) Class: A categorical feature that contains information on seat class; it has two distinct values: Business and Economy.\n",
        "\n",
        "9) Duration: A continuous feature that displays the overall amount of time it takes to travel between cities in hours.\n",
        "\n",
        "10) Days Left: This is a derived characteristic that is calculated by subtracting the trip date by the booking date.\n",
        "\n",
        "11) Price: Target variable stores information of the ticket price."
      ],
      "metadata": {
        "id": "uYDX57gzWYHU"
      }
    },
    {
      "cell_type": "markdown",
      "source": [
        "## **Loading the Dataset**"
      ],
      "metadata": {
        "id": "BByab37NWYHX"
      }
    },
    {
      "cell_type": "markdown",
      "source": [
        "### Import the required libraries"
      ],
      "metadata": {
        "id": "rqjO6U2TWYHY"
      }
    },
    {
      "cell_type": "code",
      "source": [
        "import numpy as np\n",
        "import pandas as pd\n",
        "import matplotlib.pyplot as plt\n",
        "import seaborn as sns\n",
        "import regex as re\n",
        "import datetime\n",
        "import calendar\n",
        "\n",
        "import warnings\n",
        "warnings.filterwarnings(\"ignore\")\n"
      ],
      "metadata": {
        "id": "kPAcTZFwWYHZ"
      },
      "execution_count": 44,
      "outputs": []
    },
    {
      "cell_type": "markdown",
      "source": [
        "### Import the dataset"
      ],
      "metadata": {
        "id": "HQFeNNsOWYHc"
      }
    },
    {
      "cell_type": "code",
      "source": [
        "from google.colab import drive\n",
        "drive.mount('/content/drive')"
      ],
      "metadata": {
        "colab": {
          "base_uri": "https://localhost:8080/"
        },
        "id": "qAJWqpOadv8I",
        "outputId": "1d727b99-09bf-44f0-f038-21c736bf27ab"
      },
      "execution_count": 45,
      "outputs": [
        {
          "output_type": "stream",
          "name": "stdout",
          "text": [
            "Drive already mounted at /content/drive; to attempt to forcibly remount, call drive.mount(\"/content/drive\", force_remount=True).\n"
          ]
        }
      ]
    },
    {
      "cell_type": "code",
      "source": [
        "flight_data = pd.read_csv('/content/drive/MyDrive/Dataset_FlightPrice.csv')"
      ],
      "metadata": {
        "id": "gSW9iajsWYHc"
      },
      "execution_count": 46,
      "outputs": []
    },
    {
      "cell_type": "code",
      "source": [
        "# View sample data\n",
        "flight_data"
      ],
      "metadata": {
        "colab": {
          "base_uri": "https://localhost:8080/",
          "height": 423
        },
        "id": "g-ftTA8fWYHd",
        "outputId": "8578551e-35dd-4f95-a58a-dc90a84c3168"
      },
      "execution_count": 47,
      "outputs": [
        {
          "output_type": "execute_result",
          "data": {
            "text/plain": [
              "        Unnamed: 0   airline   flight source_city departure_time stops  \\\n",
              "0                0  SpiceJet  SG-8709       Delhi        Evening  zero   \n",
              "1                1  SpiceJet  SG-8157       Delhi  Early_Morning  zero   \n",
              "2                2   AirAsia   I5-764       Delhi  Early_Morning  zero   \n",
              "3                3   Vistara   UK-995       Delhi        Morning  zero   \n",
              "4                4   Vistara   UK-963       Delhi        Morning  zero   \n",
              "...            ...       ...      ...         ...            ...   ...   \n",
              "300148      300148   Vistara   UK-822     Chennai        Morning   one   \n",
              "300149      300149   Vistara   UK-826     Chennai      Afternoon   one   \n",
              "300150      300150   Vistara   UK-832     Chennai  Early_Morning   one   \n",
              "300151      300151   Vistara   UK-828     Chennai  Early_Morning   one   \n",
              "300152      300152   Vistara   UK-822     Chennai        Morning   one   \n",
              "\n",
              "         arrival_time destination_city     class  duration  days_left  price  \n",
              "0               Night           Mumbai   Economy      2.17          1   5953  \n",
              "1             Morning           Mumbai   Economy      2.33          1   5953  \n",
              "2       Early_Morning           Mumbai   Economy      2.17          1   5956  \n",
              "3           Afternoon           Mumbai   Economy      2.25          1   5955  \n",
              "4             Morning           Mumbai   Economy      2.33          1   5955  \n",
              "...               ...              ...       ...       ...        ...    ...  \n",
              "300148        Evening        Hyderabad  Business     10.08         49  69265  \n",
              "300149          Night        Hyderabad  Business     10.42         49  77105  \n",
              "300150          Night        Hyderabad  Business     13.83         49  79099  \n",
              "300151        Evening        Hyderabad  Business     10.00         49  81585  \n",
              "300152        Evening        Hyderabad  Business     10.08         49  81585  \n",
              "\n",
              "[300153 rows x 12 columns]"
            ],
            "text/html": [
              "\n",
              "  <div id=\"df-b4233e15-e511-4b7f-a896-685c6a3ae7a0\" class=\"colab-df-container\">\n",
              "    <div>\n",
              "<style scoped>\n",
              "    .dataframe tbody tr th:only-of-type {\n",
              "        vertical-align: middle;\n",
              "    }\n",
              "\n",
              "    .dataframe tbody tr th {\n",
              "        vertical-align: top;\n",
              "    }\n",
              "\n",
              "    .dataframe thead th {\n",
              "        text-align: right;\n",
              "    }\n",
              "</style>\n",
              "<table border=\"1\" class=\"dataframe\">\n",
              "  <thead>\n",
              "    <tr style=\"text-align: right;\">\n",
              "      <th></th>\n",
              "      <th>Unnamed: 0</th>\n",
              "      <th>airline</th>\n",
              "      <th>flight</th>\n",
              "      <th>source_city</th>\n",
              "      <th>departure_time</th>\n",
              "      <th>stops</th>\n",
              "      <th>arrival_time</th>\n",
              "      <th>destination_city</th>\n",
              "      <th>class</th>\n",
              "      <th>duration</th>\n",
              "      <th>days_left</th>\n",
              "      <th>price</th>\n",
              "    </tr>\n",
              "  </thead>\n",
              "  <tbody>\n",
              "    <tr>\n",
              "      <th>0</th>\n",
              "      <td>0</td>\n",
              "      <td>SpiceJet</td>\n",
              "      <td>SG-8709</td>\n",
              "      <td>Delhi</td>\n",
              "      <td>Evening</td>\n",
              "      <td>zero</td>\n",
              "      <td>Night</td>\n",
              "      <td>Mumbai</td>\n",
              "      <td>Economy</td>\n",
              "      <td>2.17</td>\n",
              "      <td>1</td>\n",
              "      <td>5953</td>\n",
              "    </tr>\n",
              "    <tr>\n",
              "      <th>1</th>\n",
              "      <td>1</td>\n",
              "      <td>SpiceJet</td>\n",
              "      <td>SG-8157</td>\n",
              "      <td>Delhi</td>\n",
              "      <td>Early_Morning</td>\n",
              "      <td>zero</td>\n",
              "      <td>Morning</td>\n",
              "      <td>Mumbai</td>\n",
              "      <td>Economy</td>\n",
              "      <td>2.33</td>\n",
              "      <td>1</td>\n",
              "      <td>5953</td>\n",
              "    </tr>\n",
              "    <tr>\n",
              "      <th>2</th>\n",
              "      <td>2</td>\n",
              "      <td>AirAsia</td>\n",
              "      <td>I5-764</td>\n",
              "      <td>Delhi</td>\n",
              "      <td>Early_Morning</td>\n",
              "      <td>zero</td>\n",
              "      <td>Early_Morning</td>\n",
              "      <td>Mumbai</td>\n",
              "      <td>Economy</td>\n",
              "      <td>2.17</td>\n",
              "      <td>1</td>\n",
              "      <td>5956</td>\n",
              "    </tr>\n",
              "    <tr>\n",
              "      <th>3</th>\n",
              "      <td>3</td>\n",
              "      <td>Vistara</td>\n",
              "      <td>UK-995</td>\n",
              "      <td>Delhi</td>\n",
              "      <td>Morning</td>\n",
              "      <td>zero</td>\n",
              "      <td>Afternoon</td>\n",
              "      <td>Mumbai</td>\n",
              "      <td>Economy</td>\n",
              "      <td>2.25</td>\n",
              "      <td>1</td>\n",
              "      <td>5955</td>\n",
              "    </tr>\n",
              "    <tr>\n",
              "      <th>4</th>\n",
              "      <td>4</td>\n",
              "      <td>Vistara</td>\n",
              "      <td>UK-963</td>\n",
              "      <td>Delhi</td>\n",
              "      <td>Morning</td>\n",
              "      <td>zero</td>\n",
              "      <td>Morning</td>\n",
              "      <td>Mumbai</td>\n",
              "      <td>Economy</td>\n",
              "      <td>2.33</td>\n",
              "      <td>1</td>\n",
              "      <td>5955</td>\n",
              "    </tr>\n",
              "    <tr>\n",
              "      <th>...</th>\n",
              "      <td>...</td>\n",
              "      <td>...</td>\n",
              "      <td>...</td>\n",
              "      <td>...</td>\n",
              "      <td>...</td>\n",
              "      <td>...</td>\n",
              "      <td>...</td>\n",
              "      <td>...</td>\n",
              "      <td>...</td>\n",
              "      <td>...</td>\n",
              "      <td>...</td>\n",
              "      <td>...</td>\n",
              "    </tr>\n",
              "    <tr>\n",
              "      <th>300148</th>\n",
              "      <td>300148</td>\n",
              "      <td>Vistara</td>\n",
              "      <td>UK-822</td>\n",
              "      <td>Chennai</td>\n",
              "      <td>Morning</td>\n",
              "      <td>one</td>\n",
              "      <td>Evening</td>\n",
              "      <td>Hyderabad</td>\n",
              "      <td>Business</td>\n",
              "      <td>10.08</td>\n",
              "      <td>49</td>\n",
              "      <td>69265</td>\n",
              "    </tr>\n",
              "    <tr>\n",
              "      <th>300149</th>\n",
              "      <td>300149</td>\n",
              "      <td>Vistara</td>\n",
              "      <td>UK-826</td>\n",
              "      <td>Chennai</td>\n",
              "      <td>Afternoon</td>\n",
              "      <td>one</td>\n",
              "      <td>Night</td>\n",
              "      <td>Hyderabad</td>\n",
              "      <td>Business</td>\n",
              "      <td>10.42</td>\n",
              "      <td>49</td>\n",
              "      <td>77105</td>\n",
              "    </tr>\n",
              "    <tr>\n",
              "      <th>300150</th>\n",
              "      <td>300150</td>\n",
              "      <td>Vistara</td>\n",
              "      <td>UK-832</td>\n",
              "      <td>Chennai</td>\n",
              "      <td>Early_Morning</td>\n",
              "      <td>one</td>\n",
              "      <td>Night</td>\n",
              "      <td>Hyderabad</td>\n",
              "      <td>Business</td>\n",
              "      <td>13.83</td>\n",
              "      <td>49</td>\n",
              "      <td>79099</td>\n",
              "    </tr>\n",
              "    <tr>\n",
              "      <th>300151</th>\n",
              "      <td>300151</td>\n",
              "      <td>Vistara</td>\n",
              "      <td>UK-828</td>\n",
              "      <td>Chennai</td>\n",
              "      <td>Early_Morning</td>\n",
              "      <td>one</td>\n",
              "      <td>Evening</td>\n",
              "      <td>Hyderabad</td>\n",
              "      <td>Business</td>\n",
              "      <td>10.00</td>\n",
              "      <td>49</td>\n",
              "      <td>81585</td>\n",
              "    </tr>\n",
              "    <tr>\n",
              "      <th>300152</th>\n",
              "      <td>300152</td>\n",
              "      <td>Vistara</td>\n",
              "      <td>UK-822</td>\n",
              "      <td>Chennai</td>\n",
              "      <td>Morning</td>\n",
              "      <td>one</td>\n",
              "      <td>Evening</td>\n",
              "      <td>Hyderabad</td>\n",
              "      <td>Business</td>\n",
              "      <td>10.08</td>\n",
              "      <td>49</td>\n",
              "      <td>81585</td>\n",
              "    </tr>\n",
              "  </tbody>\n",
              "</table>\n",
              "<p>300153 rows × 12 columns</p>\n",
              "</div>\n",
              "    <div class=\"colab-df-buttons\">\n",
              "\n",
              "  <div class=\"colab-df-container\">\n",
              "    <button class=\"colab-df-convert\" onclick=\"convertToInteractive('df-b4233e15-e511-4b7f-a896-685c6a3ae7a0')\"\n",
              "            title=\"Convert this dataframe to an interactive table.\"\n",
              "            style=\"display:none;\">\n",
              "\n",
              "  <svg xmlns=\"http://www.w3.org/2000/svg\" height=\"24px\" viewBox=\"0 -960 960 960\">\n",
              "    <path d=\"M120-120v-720h720v720H120Zm60-500h600v-160H180v160Zm220 220h160v-160H400v160Zm0 220h160v-160H400v160ZM180-400h160v-160H180v160Zm440 0h160v-160H620v160ZM180-180h160v-160H180v160Zm440 0h160v-160H620v160Z\"/>\n",
              "  </svg>\n",
              "    </button>\n",
              "\n",
              "  <style>\n",
              "    .colab-df-container {\n",
              "      display:flex;\n",
              "      gap: 12px;\n",
              "    }\n",
              "\n",
              "    .colab-df-convert {\n",
              "      background-color: #E8F0FE;\n",
              "      border: none;\n",
              "      border-radius: 50%;\n",
              "      cursor: pointer;\n",
              "      display: none;\n",
              "      fill: #1967D2;\n",
              "      height: 32px;\n",
              "      padding: 0 0 0 0;\n",
              "      width: 32px;\n",
              "    }\n",
              "\n",
              "    .colab-df-convert:hover {\n",
              "      background-color: #E2EBFA;\n",
              "      box-shadow: 0px 1px 2px rgba(60, 64, 67, 0.3), 0px 1px 3px 1px rgba(60, 64, 67, 0.15);\n",
              "      fill: #174EA6;\n",
              "    }\n",
              "\n",
              "    .colab-df-buttons div {\n",
              "      margin-bottom: 4px;\n",
              "    }\n",
              "\n",
              "    [theme=dark] .colab-df-convert {\n",
              "      background-color: #3B4455;\n",
              "      fill: #D2E3FC;\n",
              "    }\n",
              "\n",
              "    [theme=dark] .colab-df-convert:hover {\n",
              "      background-color: #434B5C;\n",
              "      box-shadow: 0px 1px 3px 1px rgba(0, 0, 0, 0.15);\n",
              "      filter: drop-shadow(0px 1px 2px rgba(0, 0, 0, 0.3));\n",
              "      fill: #FFFFFF;\n",
              "    }\n",
              "  </style>\n",
              "\n",
              "    <script>\n",
              "      const buttonEl =\n",
              "        document.querySelector('#df-b4233e15-e511-4b7f-a896-685c6a3ae7a0 button.colab-df-convert');\n",
              "      buttonEl.style.display =\n",
              "        google.colab.kernel.accessAllowed ? 'block' : 'none';\n",
              "\n",
              "      async function convertToInteractive(key) {\n",
              "        const element = document.querySelector('#df-b4233e15-e511-4b7f-a896-685c6a3ae7a0');\n",
              "        const dataTable =\n",
              "          await google.colab.kernel.invokeFunction('convertToInteractive',\n",
              "                                                    [key], {});\n",
              "        if (!dataTable) return;\n",
              "\n",
              "        const docLinkHtml = 'Like what you see? Visit the ' +\n",
              "          '<a target=\"_blank\" href=https://colab.research.google.com/notebooks/data_table.ipynb>data table notebook</a>'\n",
              "          + ' to learn more about interactive tables.';\n",
              "        element.innerHTML = '';\n",
              "        dataTable['output_type'] = 'display_data';\n",
              "        await google.colab.output.renderOutput(dataTable, element);\n",
              "        const docLink = document.createElement('div');\n",
              "        docLink.innerHTML = docLinkHtml;\n",
              "        element.appendChild(docLink);\n",
              "      }\n",
              "    </script>\n",
              "  </div>\n",
              "\n",
              "\n",
              "<div id=\"df-f91a7dbd-8070-4c89-b344-6bd321cd3893\">\n",
              "  <button class=\"colab-df-quickchart\" onclick=\"quickchart('df-f91a7dbd-8070-4c89-b344-6bd321cd3893')\"\n",
              "            title=\"Suggest charts\"\n",
              "            style=\"display:none;\">\n",
              "\n",
              "<svg xmlns=\"http://www.w3.org/2000/svg\" height=\"24px\"viewBox=\"0 0 24 24\"\n",
              "     width=\"24px\">\n",
              "    <g>\n",
              "        <path d=\"M19 3H5c-1.1 0-2 .9-2 2v14c0 1.1.9 2 2 2h14c1.1 0 2-.9 2-2V5c0-1.1-.9-2-2-2zM9 17H7v-7h2v7zm4 0h-2V7h2v10zm4 0h-2v-4h2v4z\"/>\n",
              "    </g>\n",
              "</svg>\n",
              "  </button>\n",
              "\n",
              "<style>\n",
              "  .colab-df-quickchart {\n",
              "      --bg-color: #E8F0FE;\n",
              "      --fill-color: #1967D2;\n",
              "      --hover-bg-color: #E2EBFA;\n",
              "      --hover-fill-color: #174EA6;\n",
              "      --disabled-fill-color: #AAA;\n",
              "      --disabled-bg-color: #DDD;\n",
              "  }\n",
              "\n",
              "  [theme=dark] .colab-df-quickchart {\n",
              "      --bg-color: #3B4455;\n",
              "      --fill-color: #D2E3FC;\n",
              "      --hover-bg-color: #434B5C;\n",
              "      --hover-fill-color: #FFFFFF;\n",
              "      --disabled-bg-color: #3B4455;\n",
              "      --disabled-fill-color: #666;\n",
              "  }\n",
              "\n",
              "  .colab-df-quickchart {\n",
              "    background-color: var(--bg-color);\n",
              "    border: none;\n",
              "    border-radius: 50%;\n",
              "    cursor: pointer;\n",
              "    display: none;\n",
              "    fill: var(--fill-color);\n",
              "    height: 32px;\n",
              "    padding: 0;\n",
              "    width: 32px;\n",
              "  }\n",
              "\n",
              "  .colab-df-quickchart:hover {\n",
              "    background-color: var(--hover-bg-color);\n",
              "    box-shadow: 0 1px 2px rgba(60, 64, 67, 0.3), 0 1px 3px 1px rgba(60, 64, 67, 0.15);\n",
              "    fill: var(--button-hover-fill-color);\n",
              "  }\n",
              "\n",
              "  .colab-df-quickchart-complete:disabled,\n",
              "  .colab-df-quickchart-complete:disabled:hover {\n",
              "    background-color: var(--disabled-bg-color);\n",
              "    fill: var(--disabled-fill-color);\n",
              "    box-shadow: none;\n",
              "  }\n",
              "\n",
              "  .colab-df-spinner {\n",
              "    border: 2px solid var(--fill-color);\n",
              "    border-color: transparent;\n",
              "    border-bottom-color: var(--fill-color);\n",
              "    animation:\n",
              "      spin 1s steps(1) infinite;\n",
              "  }\n",
              "\n",
              "  @keyframes spin {\n",
              "    0% {\n",
              "      border-color: transparent;\n",
              "      border-bottom-color: var(--fill-color);\n",
              "      border-left-color: var(--fill-color);\n",
              "    }\n",
              "    20% {\n",
              "      border-color: transparent;\n",
              "      border-left-color: var(--fill-color);\n",
              "      border-top-color: var(--fill-color);\n",
              "    }\n",
              "    30% {\n",
              "      border-color: transparent;\n",
              "      border-left-color: var(--fill-color);\n",
              "      border-top-color: var(--fill-color);\n",
              "      border-right-color: var(--fill-color);\n",
              "    }\n",
              "    40% {\n",
              "      border-color: transparent;\n",
              "      border-right-color: var(--fill-color);\n",
              "      border-top-color: var(--fill-color);\n",
              "    }\n",
              "    60% {\n",
              "      border-color: transparent;\n",
              "      border-right-color: var(--fill-color);\n",
              "    }\n",
              "    80% {\n",
              "      border-color: transparent;\n",
              "      border-right-color: var(--fill-color);\n",
              "      border-bottom-color: var(--fill-color);\n",
              "    }\n",
              "    90% {\n",
              "      border-color: transparent;\n",
              "      border-bottom-color: var(--fill-color);\n",
              "    }\n",
              "  }\n",
              "</style>\n",
              "\n",
              "  <script>\n",
              "    async function quickchart(key) {\n",
              "      const quickchartButtonEl =\n",
              "        document.querySelector('#' + key + ' button');\n",
              "      quickchartButtonEl.disabled = true;  // To prevent multiple clicks.\n",
              "      quickchartButtonEl.classList.add('colab-df-spinner');\n",
              "      try {\n",
              "        const charts = await google.colab.kernel.invokeFunction(\n",
              "            'suggestCharts', [key], {});\n",
              "      } catch (error) {\n",
              "        console.error('Error during call to suggestCharts:', error);\n",
              "      }\n",
              "      quickchartButtonEl.classList.remove('colab-df-spinner');\n",
              "      quickchartButtonEl.classList.add('colab-df-quickchart-complete');\n",
              "    }\n",
              "    (() => {\n",
              "      let quickchartButtonEl =\n",
              "        document.querySelector('#df-f91a7dbd-8070-4c89-b344-6bd321cd3893 button');\n",
              "      quickchartButtonEl.style.display =\n",
              "        google.colab.kernel.accessAllowed ? 'block' : 'none';\n",
              "    })();\n",
              "  </script>\n",
              "</div>\n",
              "    </div>\n",
              "  </div>\n"
            ]
          },
          "metadata": {},
          "execution_count": 47
        }
      ]
    },
    {
      "cell_type": "markdown",
      "source": [
        "## **Exploratory Data Analysis (EDA)**"
      ],
      "metadata": {
        "id": "-J9btkMPWYHe"
      }
    },
    {
      "cell_type": "code",
      "source": [
        "# Summary of the DataFrame\n",
        "flight_data.info()"
      ],
      "metadata": {
        "colab": {
          "base_uri": "https://localhost:8080/"
        },
        "id": "x-oTO27fWYHe",
        "outputId": "c80cdfb0-4f3a-4ff2-8697-9d5ec8ba029c"
      },
      "execution_count": 48,
      "outputs": [
        {
          "output_type": "stream",
          "name": "stdout",
          "text": [
            "<class 'pandas.core.frame.DataFrame'>\n",
            "RangeIndex: 300153 entries, 0 to 300152\n",
            "Data columns (total 12 columns):\n",
            " #   Column            Non-Null Count   Dtype  \n",
            "---  ------            --------------   -----  \n",
            " 0   Unnamed: 0        300153 non-null  int64  \n",
            " 1   airline           300153 non-null  object \n",
            " 2   flight            300153 non-null  object \n",
            " 3   source_city       300153 non-null  object \n",
            " 4   departure_time    300153 non-null  object \n",
            " 5   stops             300153 non-null  object \n",
            " 6   arrival_time      300153 non-null  object \n",
            " 7   destination_city  300153 non-null  object \n",
            " 8   class             300153 non-null  object \n",
            " 9   duration          300153 non-null  float64\n",
            " 10  days_left         300153 non-null  int64  \n",
            " 11  price             300153 non-null  int64  \n",
            "dtypes: float64(1), int64(3), object(8)\n",
            "memory usage: 27.5+ MB\n"
          ]
        }
      ]
    },
    {
      "cell_type": "code",
      "source": [
        "# A statistical summary of the numerical columns.\n",
        "flight_data.describe()"
      ],
      "metadata": {
        "colab": {
          "base_uri": "https://localhost:8080/",
          "height": 300
        },
        "id": "ignnG4xxWYHf",
        "outputId": "d2bf7d2c-df1d-433d-aeaa-53b613d14933"
      },
      "execution_count": 49,
      "outputs": [
        {
          "output_type": "execute_result",
          "data": {
            "text/plain": [
              "          Unnamed: 0       duration      days_left          price\n",
              "count  300153.000000  300153.000000  300153.000000  300153.000000\n",
              "mean   150076.000000      12.221021      26.004751   20889.660523\n",
              "std     86646.852011       7.191997      13.561004   22697.767366\n",
              "min         0.000000       0.830000       1.000000    1105.000000\n",
              "25%     75038.000000       6.830000      15.000000    4783.000000\n",
              "50%    150076.000000      11.250000      26.000000    7425.000000\n",
              "75%    225114.000000      16.170000      38.000000   42521.000000\n",
              "max    300152.000000      49.830000      49.000000  123071.000000"
            ],
            "text/html": [
              "\n",
              "  <div id=\"df-a98cc055-7085-4053-bf7f-6374d7ff78ae\" class=\"colab-df-container\">\n",
              "    <div>\n",
              "<style scoped>\n",
              "    .dataframe tbody tr th:only-of-type {\n",
              "        vertical-align: middle;\n",
              "    }\n",
              "\n",
              "    .dataframe tbody tr th {\n",
              "        vertical-align: top;\n",
              "    }\n",
              "\n",
              "    .dataframe thead th {\n",
              "        text-align: right;\n",
              "    }\n",
              "</style>\n",
              "<table border=\"1\" class=\"dataframe\">\n",
              "  <thead>\n",
              "    <tr style=\"text-align: right;\">\n",
              "      <th></th>\n",
              "      <th>Unnamed: 0</th>\n",
              "      <th>duration</th>\n",
              "      <th>days_left</th>\n",
              "      <th>price</th>\n",
              "    </tr>\n",
              "  </thead>\n",
              "  <tbody>\n",
              "    <tr>\n",
              "      <th>count</th>\n",
              "      <td>300153.000000</td>\n",
              "      <td>300153.000000</td>\n",
              "      <td>300153.000000</td>\n",
              "      <td>300153.000000</td>\n",
              "    </tr>\n",
              "    <tr>\n",
              "      <th>mean</th>\n",
              "      <td>150076.000000</td>\n",
              "      <td>12.221021</td>\n",
              "      <td>26.004751</td>\n",
              "      <td>20889.660523</td>\n",
              "    </tr>\n",
              "    <tr>\n",
              "      <th>std</th>\n",
              "      <td>86646.852011</td>\n",
              "      <td>7.191997</td>\n",
              "      <td>13.561004</td>\n",
              "      <td>22697.767366</td>\n",
              "    </tr>\n",
              "    <tr>\n",
              "      <th>min</th>\n",
              "      <td>0.000000</td>\n",
              "      <td>0.830000</td>\n",
              "      <td>1.000000</td>\n",
              "      <td>1105.000000</td>\n",
              "    </tr>\n",
              "    <tr>\n",
              "      <th>25%</th>\n",
              "      <td>75038.000000</td>\n",
              "      <td>6.830000</td>\n",
              "      <td>15.000000</td>\n",
              "      <td>4783.000000</td>\n",
              "    </tr>\n",
              "    <tr>\n",
              "      <th>50%</th>\n",
              "      <td>150076.000000</td>\n",
              "      <td>11.250000</td>\n",
              "      <td>26.000000</td>\n",
              "      <td>7425.000000</td>\n",
              "    </tr>\n",
              "    <tr>\n",
              "      <th>75%</th>\n",
              "      <td>225114.000000</td>\n",
              "      <td>16.170000</td>\n",
              "      <td>38.000000</td>\n",
              "      <td>42521.000000</td>\n",
              "    </tr>\n",
              "    <tr>\n",
              "      <th>max</th>\n",
              "      <td>300152.000000</td>\n",
              "      <td>49.830000</td>\n",
              "      <td>49.000000</td>\n",
              "      <td>123071.000000</td>\n",
              "    </tr>\n",
              "  </tbody>\n",
              "</table>\n",
              "</div>\n",
              "    <div class=\"colab-df-buttons\">\n",
              "\n",
              "  <div class=\"colab-df-container\">\n",
              "    <button class=\"colab-df-convert\" onclick=\"convertToInteractive('df-a98cc055-7085-4053-bf7f-6374d7ff78ae')\"\n",
              "            title=\"Convert this dataframe to an interactive table.\"\n",
              "            style=\"display:none;\">\n",
              "\n",
              "  <svg xmlns=\"http://www.w3.org/2000/svg\" height=\"24px\" viewBox=\"0 -960 960 960\">\n",
              "    <path d=\"M120-120v-720h720v720H120Zm60-500h600v-160H180v160Zm220 220h160v-160H400v160Zm0 220h160v-160H400v160ZM180-400h160v-160H180v160Zm440 0h160v-160H620v160ZM180-180h160v-160H180v160Zm440 0h160v-160H620v160Z\"/>\n",
              "  </svg>\n",
              "    </button>\n",
              "\n",
              "  <style>\n",
              "    .colab-df-container {\n",
              "      display:flex;\n",
              "      gap: 12px;\n",
              "    }\n",
              "\n",
              "    .colab-df-convert {\n",
              "      background-color: #E8F0FE;\n",
              "      border: none;\n",
              "      border-radius: 50%;\n",
              "      cursor: pointer;\n",
              "      display: none;\n",
              "      fill: #1967D2;\n",
              "      height: 32px;\n",
              "      padding: 0 0 0 0;\n",
              "      width: 32px;\n",
              "    }\n",
              "\n",
              "    .colab-df-convert:hover {\n",
              "      background-color: #E2EBFA;\n",
              "      box-shadow: 0px 1px 2px rgba(60, 64, 67, 0.3), 0px 1px 3px 1px rgba(60, 64, 67, 0.15);\n",
              "      fill: #174EA6;\n",
              "    }\n",
              "\n",
              "    .colab-df-buttons div {\n",
              "      margin-bottom: 4px;\n",
              "    }\n",
              "\n",
              "    [theme=dark] .colab-df-convert {\n",
              "      background-color: #3B4455;\n",
              "      fill: #D2E3FC;\n",
              "    }\n",
              "\n",
              "    [theme=dark] .colab-df-convert:hover {\n",
              "      background-color: #434B5C;\n",
              "      box-shadow: 0px 1px 3px 1px rgba(0, 0, 0, 0.15);\n",
              "      filter: drop-shadow(0px 1px 2px rgba(0, 0, 0, 0.3));\n",
              "      fill: #FFFFFF;\n",
              "    }\n",
              "  </style>\n",
              "\n",
              "    <script>\n",
              "      const buttonEl =\n",
              "        document.querySelector('#df-a98cc055-7085-4053-bf7f-6374d7ff78ae button.colab-df-convert');\n",
              "      buttonEl.style.display =\n",
              "        google.colab.kernel.accessAllowed ? 'block' : 'none';\n",
              "\n",
              "      async function convertToInteractive(key) {\n",
              "        const element = document.querySelector('#df-a98cc055-7085-4053-bf7f-6374d7ff78ae');\n",
              "        const dataTable =\n",
              "          await google.colab.kernel.invokeFunction('convertToInteractive',\n",
              "                                                    [key], {});\n",
              "        if (!dataTable) return;\n",
              "\n",
              "        const docLinkHtml = 'Like what you see? Visit the ' +\n",
              "          '<a target=\"_blank\" href=https://colab.research.google.com/notebooks/data_table.ipynb>data table notebook</a>'\n",
              "          + ' to learn more about interactive tables.';\n",
              "        element.innerHTML = '';\n",
              "        dataTable['output_type'] = 'display_data';\n",
              "        await google.colab.output.renderOutput(dataTable, element);\n",
              "        const docLink = document.createElement('div');\n",
              "        docLink.innerHTML = docLinkHtml;\n",
              "        element.appendChild(docLink);\n",
              "      }\n",
              "    </script>\n",
              "  </div>\n",
              "\n",
              "\n",
              "<div id=\"df-7000c74e-4160-4113-a602-eb487d064e53\">\n",
              "  <button class=\"colab-df-quickchart\" onclick=\"quickchart('df-7000c74e-4160-4113-a602-eb487d064e53')\"\n",
              "            title=\"Suggest charts\"\n",
              "            style=\"display:none;\">\n",
              "\n",
              "<svg xmlns=\"http://www.w3.org/2000/svg\" height=\"24px\"viewBox=\"0 0 24 24\"\n",
              "     width=\"24px\">\n",
              "    <g>\n",
              "        <path d=\"M19 3H5c-1.1 0-2 .9-2 2v14c0 1.1.9 2 2 2h14c1.1 0 2-.9 2-2V5c0-1.1-.9-2-2-2zM9 17H7v-7h2v7zm4 0h-2V7h2v10zm4 0h-2v-4h2v4z\"/>\n",
              "    </g>\n",
              "</svg>\n",
              "  </button>\n",
              "\n",
              "<style>\n",
              "  .colab-df-quickchart {\n",
              "      --bg-color: #E8F0FE;\n",
              "      --fill-color: #1967D2;\n",
              "      --hover-bg-color: #E2EBFA;\n",
              "      --hover-fill-color: #174EA6;\n",
              "      --disabled-fill-color: #AAA;\n",
              "      --disabled-bg-color: #DDD;\n",
              "  }\n",
              "\n",
              "  [theme=dark] .colab-df-quickchart {\n",
              "      --bg-color: #3B4455;\n",
              "      --fill-color: #D2E3FC;\n",
              "      --hover-bg-color: #434B5C;\n",
              "      --hover-fill-color: #FFFFFF;\n",
              "      --disabled-bg-color: #3B4455;\n",
              "      --disabled-fill-color: #666;\n",
              "  }\n",
              "\n",
              "  .colab-df-quickchart {\n",
              "    background-color: var(--bg-color);\n",
              "    border: none;\n",
              "    border-radius: 50%;\n",
              "    cursor: pointer;\n",
              "    display: none;\n",
              "    fill: var(--fill-color);\n",
              "    height: 32px;\n",
              "    padding: 0;\n",
              "    width: 32px;\n",
              "  }\n",
              "\n",
              "  .colab-df-quickchart:hover {\n",
              "    background-color: var(--hover-bg-color);\n",
              "    box-shadow: 0 1px 2px rgba(60, 64, 67, 0.3), 0 1px 3px 1px rgba(60, 64, 67, 0.15);\n",
              "    fill: var(--button-hover-fill-color);\n",
              "  }\n",
              "\n",
              "  .colab-df-quickchart-complete:disabled,\n",
              "  .colab-df-quickchart-complete:disabled:hover {\n",
              "    background-color: var(--disabled-bg-color);\n",
              "    fill: var(--disabled-fill-color);\n",
              "    box-shadow: none;\n",
              "  }\n",
              "\n",
              "  .colab-df-spinner {\n",
              "    border: 2px solid var(--fill-color);\n",
              "    border-color: transparent;\n",
              "    border-bottom-color: var(--fill-color);\n",
              "    animation:\n",
              "      spin 1s steps(1) infinite;\n",
              "  }\n",
              "\n",
              "  @keyframes spin {\n",
              "    0% {\n",
              "      border-color: transparent;\n",
              "      border-bottom-color: var(--fill-color);\n",
              "      border-left-color: var(--fill-color);\n",
              "    }\n",
              "    20% {\n",
              "      border-color: transparent;\n",
              "      border-left-color: var(--fill-color);\n",
              "      border-top-color: var(--fill-color);\n",
              "    }\n",
              "    30% {\n",
              "      border-color: transparent;\n",
              "      border-left-color: var(--fill-color);\n",
              "      border-top-color: var(--fill-color);\n",
              "      border-right-color: var(--fill-color);\n",
              "    }\n",
              "    40% {\n",
              "      border-color: transparent;\n",
              "      border-right-color: var(--fill-color);\n",
              "      border-top-color: var(--fill-color);\n",
              "    }\n",
              "    60% {\n",
              "      border-color: transparent;\n",
              "      border-right-color: var(--fill-color);\n",
              "    }\n",
              "    80% {\n",
              "      border-color: transparent;\n",
              "      border-right-color: var(--fill-color);\n",
              "      border-bottom-color: var(--fill-color);\n",
              "    }\n",
              "    90% {\n",
              "      border-color: transparent;\n",
              "      border-bottom-color: var(--fill-color);\n",
              "    }\n",
              "  }\n",
              "</style>\n",
              "\n",
              "  <script>\n",
              "    async function quickchart(key) {\n",
              "      const quickchartButtonEl =\n",
              "        document.querySelector('#' + key + ' button');\n",
              "      quickchartButtonEl.disabled = true;  // To prevent multiple clicks.\n",
              "      quickchartButtonEl.classList.add('colab-df-spinner');\n",
              "      try {\n",
              "        const charts = await google.colab.kernel.invokeFunction(\n",
              "            'suggestCharts', [key], {});\n",
              "      } catch (error) {\n",
              "        console.error('Error during call to suggestCharts:', error);\n",
              "      }\n",
              "      quickchartButtonEl.classList.remove('colab-df-spinner');\n",
              "      quickchartButtonEl.classList.add('colab-df-quickchart-complete');\n",
              "    }\n",
              "    (() => {\n",
              "      let quickchartButtonEl =\n",
              "        document.querySelector('#df-7000c74e-4160-4113-a602-eb487d064e53 button');\n",
              "      quickchartButtonEl.style.display =\n",
              "        google.colab.kernel.accessAllowed ? 'block' : 'none';\n",
              "    })();\n",
              "  </script>\n",
              "</div>\n",
              "    </div>\n",
              "  </div>\n"
            ]
          },
          "metadata": {},
          "execution_count": 49
        }
      ]
    },
    {
      "cell_type": "code",
      "source": [
        "# Check if the dataset have null values.\n",
        "flight_data.isnull().sum()"
      ],
      "metadata": {
        "colab": {
          "base_uri": "https://localhost:8080/"
        },
        "id": "3gAT7IuImR7T",
        "outputId": "f1e9f370-13b5-4ebf-ceb9-c789ed32ade8"
      },
      "execution_count": 50,
      "outputs": [
        {
          "output_type": "execute_result",
          "data": {
            "text/plain": [
              "Unnamed: 0          0\n",
              "airline             0\n",
              "flight              0\n",
              "source_city         0\n",
              "departure_time      0\n",
              "stops               0\n",
              "arrival_time        0\n",
              "destination_city    0\n",
              "class               0\n",
              "duration            0\n",
              "days_left           0\n",
              "price               0\n",
              "dtype: int64"
            ]
          },
          "metadata": {},
          "execution_count": 50
        }
      ]
    },
    {
      "cell_type": "code",
      "source": [
        "# Check if the dataset have duplicates.\n",
        "flight_data.duplicated().sum()"
      ],
      "metadata": {
        "colab": {
          "base_uri": "https://localhost:8080/"
        },
        "id": "VA-Ul7S6WYHg",
        "outputId": "2cfc9615-a24d-4a82-99d9-2e164e8877ad"
      },
      "execution_count": 51,
      "outputs": [
        {
          "output_type": "execute_result",
          "data": {
            "text/plain": [
              "0"
            ]
          },
          "metadata": {},
          "execution_count": 51
        }
      ]
    },
    {
      "cell_type": "code",
      "source": [
        "# Check the columns name\n",
        "flight_data.columns"
      ],
      "metadata": {
        "colab": {
          "base_uri": "https://localhost:8080/"
        },
        "id": "UwWtyR_gqyip",
        "outputId": "e2231dc7-e726-4d9b-cc5b-70f9e72fc570"
      },
      "execution_count": 52,
      "outputs": [
        {
          "output_type": "execute_result",
          "data": {
            "text/plain": [
              "Index(['Unnamed: 0', 'airline', 'flight', 'source_city', 'departure_time',\n",
              "       'stops', 'arrival_time', 'destination_city', 'class', 'duration',\n",
              "       'days_left', 'price'],\n",
              "      dtype='object')"
            ]
          },
          "metadata": {},
          "execution_count": 52
        }
      ]
    },
    {
      "cell_type": "code",
      "source": [
        "# Drop unnecessary column.\n",
        "flight_data.drop(\"Unnamed: 0\", axis=1, inplace=True)"
      ],
      "metadata": {
        "id": "yOjGtVvzrYtJ"
      },
      "execution_count": 53,
      "outputs": []
    },
    {
      "cell_type": "code",
      "source": [
        "#To make encoding which means to convert from categorical value to numerical\n",
        "flight_data = flight_data.replace(to_replace=\"zero\", value=0).replace(to_replace=\"one\", value=1).replace(to_replace = \"two_or_more\", value = 2)\n"
      ],
      "metadata": {
        "id": "-FGaeFGxssDb"
      },
      "execution_count": 17,
      "outputs": []
    },
    {
      "cell_type": "code",
      "source": [
        "# Rearranging index\n",
        "flight_data.index = np.arange(1, len(flight_data) + 1)"
      ],
      "metadata": {
        "id": "1xUd9y7fvdfD"
      },
      "execution_count": 54,
      "outputs": []
    },
    {
      "cell_type": "code",
      "source": [
        "flight_data.shape"
      ],
      "metadata": {
        "colab": {
          "base_uri": "https://localhost:8080/"
        },
        "id": "GjGodYP4d9-5",
        "outputId": "f8f7d860-d630-4329-b8f3-afd42762d4fe"
      },
      "execution_count": 55,
      "outputs": [
        {
          "output_type": "execute_result",
          "data": {
            "text/plain": [
              "(300153, 11)"
            ]
          },
          "metadata": {},
          "execution_count": 55
        }
      ]
    },
    {
      "cell_type": "code",
      "source": [
        "flight_data.head()"
      ],
      "metadata": {
        "colab": {
          "base_uri": "https://localhost:8080/",
          "height": 206
        },
        "id": "-hWFbXsAt36r",
        "outputId": "d1423db9-0abb-49cb-9523-dcec1cb11c55"
      },
      "execution_count": 56,
      "outputs": [
        {
          "output_type": "execute_result",
          "data": {
            "text/plain": [
              "    airline   flight source_city departure_time stops   arrival_time  \\\n",
              "1  SpiceJet  SG-8709       Delhi        Evening  zero          Night   \n",
              "2  SpiceJet  SG-8157       Delhi  Early_Morning  zero        Morning   \n",
              "3   AirAsia   I5-764       Delhi  Early_Morning  zero  Early_Morning   \n",
              "4   Vistara   UK-995       Delhi        Morning  zero      Afternoon   \n",
              "5   Vistara   UK-963       Delhi        Morning  zero        Morning   \n",
              "\n",
              "  destination_city    class  duration  days_left  price  \n",
              "1           Mumbai  Economy      2.17          1   5953  \n",
              "2           Mumbai  Economy      2.33          1   5953  \n",
              "3           Mumbai  Economy      2.17          1   5956  \n",
              "4           Mumbai  Economy      2.25          1   5955  \n",
              "5           Mumbai  Economy      2.33          1   5955  "
            ],
            "text/html": [
              "\n",
              "  <div id=\"df-6b58d4ae-5b3f-41c0-94ba-69e5b8d0319e\" class=\"colab-df-container\">\n",
              "    <div>\n",
              "<style scoped>\n",
              "    .dataframe tbody tr th:only-of-type {\n",
              "        vertical-align: middle;\n",
              "    }\n",
              "\n",
              "    .dataframe tbody tr th {\n",
              "        vertical-align: top;\n",
              "    }\n",
              "\n",
              "    .dataframe thead th {\n",
              "        text-align: right;\n",
              "    }\n",
              "</style>\n",
              "<table border=\"1\" class=\"dataframe\">\n",
              "  <thead>\n",
              "    <tr style=\"text-align: right;\">\n",
              "      <th></th>\n",
              "      <th>airline</th>\n",
              "      <th>flight</th>\n",
              "      <th>source_city</th>\n",
              "      <th>departure_time</th>\n",
              "      <th>stops</th>\n",
              "      <th>arrival_time</th>\n",
              "      <th>destination_city</th>\n",
              "      <th>class</th>\n",
              "      <th>duration</th>\n",
              "      <th>days_left</th>\n",
              "      <th>price</th>\n",
              "    </tr>\n",
              "  </thead>\n",
              "  <tbody>\n",
              "    <tr>\n",
              "      <th>1</th>\n",
              "      <td>SpiceJet</td>\n",
              "      <td>SG-8709</td>\n",
              "      <td>Delhi</td>\n",
              "      <td>Evening</td>\n",
              "      <td>zero</td>\n",
              "      <td>Night</td>\n",
              "      <td>Mumbai</td>\n",
              "      <td>Economy</td>\n",
              "      <td>2.17</td>\n",
              "      <td>1</td>\n",
              "      <td>5953</td>\n",
              "    </tr>\n",
              "    <tr>\n",
              "      <th>2</th>\n",
              "      <td>SpiceJet</td>\n",
              "      <td>SG-8157</td>\n",
              "      <td>Delhi</td>\n",
              "      <td>Early_Morning</td>\n",
              "      <td>zero</td>\n",
              "      <td>Morning</td>\n",
              "      <td>Mumbai</td>\n",
              "      <td>Economy</td>\n",
              "      <td>2.33</td>\n",
              "      <td>1</td>\n",
              "      <td>5953</td>\n",
              "    </tr>\n",
              "    <tr>\n",
              "      <th>3</th>\n",
              "      <td>AirAsia</td>\n",
              "      <td>I5-764</td>\n",
              "      <td>Delhi</td>\n",
              "      <td>Early_Morning</td>\n",
              "      <td>zero</td>\n",
              "      <td>Early_Morning</td>\n",
              "      <td>Mumbai</td>\n",
              "      <td>Economy</td>\n",
              "      <td>2.17</td>\n",
              "      <td>1</td>\n",
              "      <td>5956</td>\n",
              "    </tr>\n",
              "    <tr>\n",
              "      <th>4</th>\n",
              "      <td>Vistara</td>\n",
              "      <td>UK-995</td>\n",
              "      <td>Delhi</td>\n",
              "      <td>Morning</td>\n",
              "      <td>zero</td>\n",
              "      <td>Afternoon</td>\n",
              "      <td>Mumbai</td>\n",
              "      <td>Economy</td>\n",
              "      <td>2.25</td>\n",
              "      <td>1</td>\n",
              "      <td>5955</td>\n",
              "    </tr>\n",
              "    <tr>\n",
              "      <th>5</th>\n",
              "      <td>Vistara</td>\n",
              "      <td>UK-963</td>\n",
              "      <td>Delhi</td>\n",
              "      <td>Morning</td>\n",
              "      <td>zero</td>\n",
              "      <td>Morning</td>\n",
              "      <td>Mumbai</td>\n",
              "      <td>Economy</td>\n",
              "      <td>2.33</td>\n",
              "      <td>1</td>\n",
              "      <td>5955</td>\n",
              "    </tr>\n",
              "  </tbody>\n",
              "</table>\n",
              "</div>\n",
              "    <div class=\"colab-df-buttons\">\n",
              "\n",
              "  <div class=\"colab-df-container\">\n",
              "    <button class=\"colab-df-convert\" onclick=\"convertToInteractive('df-6b58d4ae-5b3f-41c0-94ba-69e5b8d0319e')\"\n",
              "            title=\"Convert this dataframe to an interactive table.\"\n",
              "            style=\"display:none;\">\n",
              "\n",
              "  <svg xmlns=\"http://www.w3.org/2000/svg\" height=\"24px\" viewBox=\"0 -960 960 960\">\n",
              "    <path d=\"M120-120v-720h720v720H120Zm60-500h600v-160H180v160Zm220 220h160v-160H400v160Zm0 220h160v-160H400v160ZM180-400h160v-160H180v160Zm440 0h160v-160H620v160ZM180-180h160v-160H180v160Zm440 0h160v-160H620v160Z\"/>\n",
              "  </svg>\n",
              "    </button>\n",
              "\n",
              "  <style>\n",
              "    .colab-df-container {\n",
              "      display:flex;\n",
              "      gap: 12px;\n",
              "    }\n",
              "\n",
              "    .colab-df-convert {\n",
              "      background-color: #E8F0FE;\n",
              "      border: none;\n",
              "      border-radius: 50%;\n",
              "      cursor: pointer;\n",
              "      display: none;\n",
              "      fill: #1967D2;\n",
              "      height: 32px;\n",
              "      padding: 0 0 0 0;\n",
              "      width: 32px;\n",
              "    }\n",
              "\n",
              "    .colab-df-convert:hover {\n",
              "      background-color: #E2EBFA;\n",
              "      box-shadow: 0px 1px 2px rgba(60, 64, 67, 0.3), 0px 1px 3px 1px rgba(60, 64, 67, 0.15);\n",
              "      fill: #174EA6;\n",
              "    }\n",
              "\n",
              "    .colab-df-buttons div {\n",
              "      margin-bottom: 4px;\n",
              "    }\n",
              "\n",
              "    [theme=dark] .colab-df-convert {\n",
              "      background-color: #3B4455;\n",
              "      fill: #D2E3FC;\n",
              "    }\n",
              "\n",
              "    [theme=dark] .colab-df-convert:hover {\n",
              "      background-color: #434B5C;\n",
              "      box-shadow: 0px 1px 3px 1px rgba(0, 0, 0, 0.15);\n",
              "      filter: drop-shadow(0px 1px 2px rgba(0, 0, 0, 0.3));\n",
              "      fill: #FFFFFF;\n",
              "    }\n",
              "  </style>\n",
              "\n",
              "    <script>\n",
              "      const buttonEl =\n",
              "        document.querySelector('#df-6b58d4ae-5b3f-41c0-94ba-69e5b8d0319e button.colab-df-convert');\n",
              "      buttonEl.style.display =\n",
              "        google.colab.kernel.accessAllowed ? 'block' : 'none';\n",
              "\n",
              "      async function convertToInteractive(key) {\n",
              "        const element = document.querySelector('#df-6b58d4ae-5b3f-41c0-94ba-69e5b8d0319e');\n",
              "        const dataTable =\n",
              "          await google.colab.kernel.invokeFunction('convertToInteractive',\n",
              "                                                    [key], {});\n",
              "        if (!dataTable) return;\n",
              "\n",
              "        const docLinkHtml = 'Like what you see? Visit the ' +\n",
              "          '<a target=\"_blank\" href=https://colab.research.google.com/notebooks/data_table.ipynb>data table notebook</a>'\n",
              "          + ' to learn more about interactive tables.';\n",
              "        element.innerHTML = '';\n",
              "        dataTable['output_type'] = 'display_data';\n",
              "        await google.colab.output.renderOutput(dataTable, element);\n",
              "        const docLink = document.createElement('div');\n",
              "        docLink.innerHTML = docLinkHtml;\n",
              "        element.appendChild(docLink);\n",
              "      }\n",
              "    </script>\n",
              "  </div>\n",
              "\n",
              "\n",
              "<div id=\"df-a18a0b2d-1741-4e17-83bc-6a9f5731f13d\">\n",
              "  <button class=\"colab-df-quickchart\" onclick=\"quickchart('df-a18a0b2d-1741-4e17-83bc-6a9f5731f13d')\"\n",
              "            title=\"Suggest charts\"\n",
              "            style=\"display:none;\">\n",
              "\n",
              "<svg xmlns=\"http://www.w3.org/2000/svg\" height=\"24px\"viewBox=\"0 0 24 24\"\n",
              "     width=\"24px\">\n",
              "    <g>\n",
              "        <path d=\"M19 3H5c-1.1 0-2 .9-2 2v14c0 1.1.9 2 2 2h14c1.1 0 2-.9 2-2V5c0-1.1-.9-2-2-2zM9 17H7v-7h2v7zm4 0h-2V7h2v10zm4 0h-2v-4h2v4z\"/>\n",
              "    </g>\n",
              "</svg>\n",
              "  </button>\n",
              "\n",
              "<style>\n",
              "  .colab-df-quickchart {\n",
              "      --bg-color: #E8F0FE;\n",
              "      --fill-color: #1967D2;\n",
              "      --hover-bg-color: #E2EBFA;\n",
              "      --hover-fill-color: #174EA6;\n",
              "      --disabled-fill-color: #AAA;\n",
              "      --disabled-bg-color: #DDD;\n",
              "  }\n",
              "\n",
              "  [theme=dark] .colab-df-quickchart {\n",
              "      --bg-color: #3B4455;\n",
              "      --fill-color: #D2E3FC;\n",
              "      --hover-bg-color: #434B5C;\n",
              "      --hover-fill-color: #FFFFFF;\n",
              "      --disabled-bg-color: #3B4455;\n",
              "      --disabled-fill-color: #666;\n",
              "  }\n",
              "\n",
              "  .colab-df-quickchart {\n",
              "    background-color: var(--bg-color);\n",
              "    border: none;\n",
              "    border-radius: 50%;\n",
              "    cursor: pointer;\n",
              "    display: none;\n",
              "    fill: var(--fill-color);\n",
              "    height: 32px;\n",
              "    padding: 0;\n",
              "    width: 32px;\n",
              "  }\n",
              "\n",
              "  .colab-df-quickchart:hover {\n",
              "    background-color: var(--hover-bg-color);\n",
              "    box-shadow: 0 1px 2px rgba(60, 64, 67, 0.3), 0 1px 3px 1px rgba(60, 64, 67, 0.15);\n",
              "    fill: var(--button-hover-fill-color);\n",
              "  }\n",
              "\n",
              "  .colab-df-quickchart-complete:disabled,\n",
              "  .colab-df-quickchart-complete:disabled:hover {\n",
              "    background-color: var(--disabled-bg-color);\n",
              "    fill: var(--disabled-fill-color);\n",
              "    box-shadow: none;\n",
              "  }\n",
              "\n",
              "  .colab-df-spinner {\n",
              "    border: 2px solid var(--fill-color);\n",
              "    border-color: transparent;\n",
              "    border-bottom-color: var(--fill-color);\n",
              "    animation:\n",
              "      spin 1s steps(1) infinite;\n",
              "  }\n",
              "\n",
              "  @keyframes spin {\n",
              "    0% {\n",
              "      border-color: transparent;\n",
              "      border-bottom-color: var(--fill-color);\n",
              "      border-left-color: var(--fill-color);\n",
              "    }\n",
              "    20% {\n",
              "      border-color: transparent;\n",
              "      border-left-color: var(--fill-color);\n",
              "      border-top-color: var(--fill-color);\n",
              "    }\n",
              "    30% {\n",
              "      border-color: transparent;\n",
              "      border-left-color: var(--fill-color);\n",
              "      border-top-color: var(--fill-color);\n",
              "      border-right-color: var(--fill-color);\n",
              "    }\n",
              "    40% {\n",
              "      border-color: transparent;\n",
              "      border-right-color: var(--fill-color);\n",
              "      border-top-color: var(--fill-color);\n",
              "    }\n",
              "    60% {\n",
              "      border-color: transparent;\n",
              "      border-right-color: var(--fill-color);\n",
              "    }\n",
              "    80% {\n",
              "      border-color: transparent;\n",
              "      border-right-color: var(--fill-color);\n",
              "      border-bottom-color: var(--fill-color);\n",
              "    }\n",
              "    90% {\n",
              "      border-color: transparent;\n",
              "      border-bottom-color: var(--fill-color);\n",
              "    }\n",
              "  }\n",
              "</style>\n",
              "\n",
              "  <script>\n",
              "    async function quickchart(key) {\n",
              "      const quickchartButtonEl =\n",
              "        document.querySelector('#' + key + ' button');\n",
              "      quickchartButtonEl.disabled = true;  // To prevent multiple clicks.\n",
              "      quickchartButtonEl.classList.add('colab-df-spinner');\n",
              "      try {\n",
              "        const charts = await google.colab.kernel.invokeFunction(\n",
              "            'suggestCharts', [key], {});\n",
              "      } catch (error) {\n",
              "        console.error('Error during call to suggestCharts:', error);\n",
              "      }\n",
              "      quickchartButtonEl.classList.remove('colab-df-spinner');\n",
              "      quickchartButtonEl.classList.add('colab-df-quickchart-complete');\n",
              "    }\n",
              "    (() => {\n",
              "      let quickchartButtonEl =\n",
              "        document.querySelector('#df-a18a0b2d-1741-4e17-83bc-6a9f5731f13d button');\n",
              "      quickchartButtonEl.style.display =\n",
              "        google.colab.kernel.accessAllowed ? 'block' : 'none';\n",
              "    })();\n",
              "  </script>\n",
              "</div>\n",
              "    </div>\n",
              "  </div>\n"
            ]
          },
          "metadata": {},
          "execution_count": 56
        }
      ]
    },
    {
      "cell_type": "code",
      "source": [
        "# Visualize the distribution of the target variable (Price)\n",
        "plt.figure(figsize=(12, 6))\n",
        "sns.histplot(flight_data['price'], bins=30, kde=True)\n",
        "plt.title('Distribution of Ticket Prices')\n",
        "plt.xlabel('Price')\n",
        "plt.ylabel('Frequency')\n",
        "plt.show()"
      ],
      "metadata": {
        "colab": {
          "base_uri": "https://localhost:8080/",
          "height": 573
        },
        "id": "Z0oj-j3YwYk1",
        "outputId": "9b5dd849-b5bc-4ac1-d00f-72df9330fd68"
      },
      "execution_count": 57,
      "outputs": [
        {
          "output_type": "display_data",
          "data": {
            "text/plain": [
              "<Figure size 1200x600 with 1 Axes>"
            ],
            "image/png": "[encoded data removed]"
          },
          "metadata": {}
        }
      ]
    },
    {
      "cell_type": "code",
      "source": [
        "# Correlation matrix\n",
        "correlation_matrix = flight_data.corr()\n",
        "sns.heatmap(correlation_matrix, annot=True, cmap='coolwarm')\n",
        "plt.title('Correlation Matrix')\n",
        "plt.show()\n"
      ],
      "metadata": {
        "colab": {
          "base_uri": "https://localhost:8080/",
          "height": 458
        },
        "id": "cfosUTF2zxWn",
        "outputId": "fbda85ee-ba84-45bc-d669-f54a987b7489"
      },
      "execution_count": 58,
      "outputs": [
        {
          "output_type": "display_data",
          "data": {
            "text/plain": [
              "<Figure size 640x480 with 2 Axes>"
            ],
            "image/png": "[encoded data removed]"
          },
          "metadata": {}
        }
      ]
    },
    {
      "cell_type": "markdown",
      "source": [
        "##**Feature Engineering with Automated Tools**"
      ],
      "metadata": {
        "id": "U6UrVHqJwIw-"
      }
    },
    {
      "cell_type": "markdown",
      "source": [
        "###Installation of H2o"
      ],
      "metadata": {
        "id": "TxhX4Mzs36EW"
      }
    },
    {
      "cell_type": "code",
      "source": [
        "!apt-get install default-jre\n",
        "!java -version"
      ],
      "metadata": {
        "colab": {
          "base_uri": "https://localhost:8080/"
        },
        "id": "74PM0SLPmOYL",
        "outputId": "cfe50c1d-2d8c-46ab-8f94-d4be35d341a0"
      },
      "execution_count": 59,
      "outputs": [
        {
          "output_type": "stream",
          "name": "stdout",
          "text": [
            "Reading package lists... Done\n",
            "Building dependency tree... Done\n",
            "Reading state information... Done\n",
            "The following additional packages will be installed:\n",
            "  default-jre-headless fonts-dejavu-core fonts-dejavu-extra libatk-wrapper-java\n",
            "  libatk-wrapper-java-jni libfontenc1 libxkbfile1 libxtst6 libxxf86dga1 openjdk-11-jre x11-utils\n",
            "Suggested packages:\n",
            "  mesa-utils\n",
            "The following NEW packages will be installed:\n",
            "  default-jre default-jre-headless fonts-dejavu-core fonts-dejavu-extra libatk-wrapper-java\n",
            "  libatk-wrapper-java-jni libfontenc1 libxkbfile1 libxtst6 libxxf86dga1 openjdk-11-jre x11-utils\n",
            "0 upgraded, 12 newly installed, 0 to remove and 10 not upgraded.\n",
            "Need to get 3,720 kB of archives.\n",
            "After this operation, 12.7 MB of additional disk space will be used.\n",
            "Get:1 http://archive.ubuntu.com/ubuntu jammy/main amd64 default-jre-headless amd64 2:1.11-72build2 [3,042 B]\n",
            "Get:2 http://archive.ubuntu.com/ubuntu jammy/main amd64 libxtst6 amd64 2:1.2.3-1build4 [13.4 kB]\n",
            "Get:3 http://archive.ubuntu.com/ubuntu jammy-updates/main amd64 openjdk-11-jre amd64 11.0.20.1+1-0ubuntu1~22.04 [213 kB]\n",
            "Get:4 http://archive.ubuntu.com/ubuntu jammy/main amd64 default-jre amd64 2:1.11-72build2 [896 B]\n",
            "Get:5 http://archive.ubuntu.com/ubuntu jammy/main amd64 fonts-dejavu-core all 2.37-2build1 [1,041 kB]\n",
            "Get:6 http://archive.ubuntu.com/ubuntu jammy/main amd64 fonts-dejavu-extra all 2.37-2build1 [2,041 kB]\n",
            "Get:7 http://archive.ubuntu.com/ubuntu jammy/main amd64 libfontenc1 amd64 1:1.1.4-1build3 [14.7 kB]\n",
            "Get:8 http://archive.ubuntu.com/ubuntu jammy/main amd64 libxkbfile1 amd64 1:1.1.0-1build3 [71.8 kB]\n",
            "Get:9 http://archive.ubuntu.com/ubuntu jammy/main amd64 libxxf86dga1 amd64 2:1.1.5-0ubuntu3 [12.6 kB]\n",
            "Get:10 http://archive.ubuntu.com/ubuntu jammy/main amd64 x11-utils amd64 7.7+5build2 [206 kB]\n",
            "Get:11 http://archive.ubuntu.com/ubuntu jammy/main amd64 libatk-wrapper-java all 0.38.0-5build1 [53.1 kB]\n",
            "Get:12 http://archive.ubuntu.com/ubuntu jammy/main amd64 libatk-wrapper-java-jni amd64 0.38.0-5build1 [49.0 kB]\n",
            "Fetched 3,720 kB in 1s (3,784 kB/s)\n",
            "Selecting previously unselected package default-jre-headless.\n",
            "(Reading database ... 120880 files and directories currently installed.)\n",
            "Preparing to unpack .../00-default-jre-headless_2%3a1.11-72build2_amd64.deb ...\n",
            "Unpacking default-jre-headless (2:1.11-72build2) ...\n",
            "Selecting previously unselected package libxtst6:amd64.\n",
            "Preparing to unpack .../01-libxtst6_2%3a1.2.3-1build4_amd64.deb ...\n",
            "Unpacking libxtst6:amd64 (2:1.2.3-1build4) ...\n",
            "Selecting previously unselected package openjdk-11-jre:amd64.\n",
            "Preparing to unpack .../02-openjdk-11-jre_11.0.20.1+1-0ubuntu1~22.04_amd64.deb ...\n",
            "Unpacking openjdk-11-jre:amd64 (11.0.20.1+1-0ubuntu1~22.04) ...\n",
            "Selecting previously unselected package default-jre.\n",
            "Preparing to unpack .../03-default-jre_2%3a1.11-72build2_amd64.deb ...\n",
            "Unpacking default-jre (2:1.11-72build2) ...\n",
            "Selecting previously unselected package fonts-dejavu-core.\n",
            "Preparing to unpack .../04-fonts-dejavu-core_2.37-2build1_all.deb ...\n",
            "Unpacking fonts-dejavu-core (2.37-2build1) ...\n",
            "Selecting previously unselected package fonts-dejavu-extra.\n",
            "Preparing to unpack .../05-fonts-dejavu-extra_2.37-2build1_all.deb ...\n",
            "Unpacking fonts-dejavu-extra (2.37-2build1) ...\n",
            "Selecting previously unselected package libfontenc1:amd64.\n",
            "Preparing to unpack .../06-libfontenc1_1%3a1.1.4-1build3_amd64.deb ...\n",
            "Unpacking libfontenc1:amd64 (1:1.1.4-1build3) ...\n",
            "Selecting previously unselected package libxkbfile1:amd64.\n",
            "Preparing to unpack .../07-libxkbfile1_1%3a1.1.0-1build3_amd64.deb ...\n",
            "Unpacking libxkbfile1:amd64 (1:1.1.0-1build3) ...\n",
            "Selecting previously unselected package libxxf86dga1:amd64.\n",
            "Preparing to unpack .../08-libxxf86dga1_2%3a1.1.5-0ubuntu3_amd64.deb ...\n",
            "Unpacking libxxf86dga1:amd64 (2:1.1.5-0ubuntu3) ...\n",
            "Selecting previously unselected package x11-utils.\n",
            "Preparing to unpack .../09-x11-utils_7.7+5build2_amd64.deb ...\n",
            "Unpacking x11-utils (7.7+5build2) ...\n",
            "Selecting previously unselected package libatk-wrapper-java.\n",
            "Preparing to unpack .../10-libatk-wrapper-java_0.38.0-5build1_all.deb ...\n",
            "Unpacking libatk-wrapper-java (0.38.0-5build1) ...\n",
            "Selecting previously unselected package libatk-wrapper-java-jni:amd64.\n",
            "Preparing to unpack .../11-libatk-wrapper-java-jni_0.38.0-5build1_amd64.deb ...\n",
            "Unpacking libatk-wrapper-java-jni:amd64 (0.38.0-5build1) ...\n",
            "Setting up default-jre-headless (2:1.11-72build2) ...\n",
            "Setting up libxtst6:amd64 (2:1.2.3-1build4) ...\n",
            "Setting up libxxf86dga1:amd64 (2:1.1.5-0ubuntu3) ...\n",
            "Setting up openjdk-11-jre:amd64 (11.0.20.1+1-0ubuntu1~22.04) ...\n",
            "Setting up default-jre (2:1.11-72build2) ...\n",
            "Setting up libfontenc1:amd64 (1:1.1.4-1build3) ...\n",
            "Setting up fonts-dejavu-core (2.37-2build1) ...\n",
            "Setting up fonts-dejavu-extra (2.37-2build1) ...\n",
            "Setting up libxkbfile1:amd64 (1:1.1.0-1build3) ...\n",
            "Setting up x11-utils (7.7+5build2) ...\n",
            "Setting up libatk-wrapper-java (0.38.0-5build1) ...\n",
            "Setting up libatk-wrapper-java-jni:amd64 (0.38.0-5build1) ...\n",
            "Processing triggers for hicolor-icon-theme (0.17-2) ...\n",
            "Processing triggers for libc-bin (2.35-0ubuntu3.4) ...\n",
            "/sbin/ldconfig.real: /usr/local/lib/libtbbbind.so.3 is not a symbolic link\n",
            "\n",
            "/sbin/ldconfig.real: /usr/local/lib/libtbbbind_2_0.so.3 is not a symbolic link\n",
            "\n",
            "/sbin/ldconfig.real: /usr/local/lib/libtbb.so.12 is not a symbolic link\n",
            "\n",
            "/sbin/ldconfig.real: /usr/local/lib/libtbbmalloc.so.2 is not a symbolic link\n",
            "\n",
            "/sbin/ldconfig.real: /usr/local/lib/libtbbmalloc_proxy.so.2 is not a symbolic link\n",
            "\n",
            "/sbin/ldconfig.real: /usr/local/lib/libtbbbind_2_5.so.3 is not a symbolic link\n",
            "\n",
            "Processing triggers for man-db (2.10.2-1) ...\n",
            "Processing triggers for fontconfig (2.13.1-4.2ubuntu5) ...\n",
            "openjdk version \"11.0.20.1\" 2023-08-24\n",
            "OpenJDK Runtime Environment (build 11.0.20.1+1-post-Ubuntu-0ubuntu122.04)\n",
            "OpenJDK 64-Bit Server VM (build 11.0.20.1+1-post-Ubuntu-0ubuntu122.04, mixed mode, sharing)\n"
          ]
        }
      ]
    },
    {
      "cell_type": "code",
      "source": [
        "!pip install h2o"
      ],
      "metadata": {
        "colab": {
          "base_uri": "https://localhost:8080/"
        },
        "id": "6xMZjbQLma27",
        "outputId": "12bd77d7-7834-4c17-f844-af14838c528f"
      },
      "execution_count": 60,
      "outputs": [
        {
          "output_type": "stream",
          "name": "stdout",
          "text": [
            "Collecting h2o\n",
            "  Downloading h2o-3.44.0.2.tar.gz (265.3 MB)\n",
            "\u001b[2K     \u001b[90m━━━━━━━━━━━━━━━━━━━━━━━━━━━━━━━━━━━━━━━━\u001b[0m \u001b[32m265.3/265.3 MB\u001b[0m \u001b[31m2.6 MB/s\u001b[0m eta \u001b[36m0:00:00\u001b[0m\n",
            "\u001b[?25h  Preparing metadata (setup.py) ... \u001b[?25l\u001b[?25hdone\n",
            "Requirement already satisfied: requests in /usr/local/lib/python3.10/dist-packages (from h2o) (2.31.0)\n",
            "Requirement already satisfied: tabulate in /usr/local/lib/python3.10/dist-packages (from h2o) (0.9.0)\n",
            "Requirement already satisfied: charset-normalizer<4,>=2 in /usr/local/lib/python3.10/dist-packages (from requests->h2o) (3.3.2)\n",
            "Requirement already satisfied: idna<4,>=2.5 in /usr/local/lib/python3.10/dist-packages (from requests->h2o) (3.4)\n",
            "Requirement already satisfied: urllib3<3,>=1.21.1 in /usr/local/lib/python3.10/dist-packages (from requests->h2o) (2.0.7)\n",
            "Requirement already satisfied: certifi>=2017.4.17 in /usr/local/lib/python3.10/dist-packages (from requests->h2o) (2023.7.22)\n",
            "Building wheels for collected packages: h2o\n",
            "  Building wheel for h2o (setup.py) ... \u001b[?25l\u001b[?25hdone\n",
            "  Created wheel for h2o: filename=h2o-3.44.0.2-py2.py3-none-any.whl size=265363806 sha256=62cc7a614a2162f9f8021b16aefdf4c55fbf7b9940f3d41af3cb3578e84e5ae3\n",
            "  Stored in directory: /root/.cache/pip/wheels/e9/ea/ab/889709967692e30c57c46137edd2cae6b2768bb65ec7cb8aa5\n",
            "Successfully built h2o\n",
            "Installing collected packages: h2o\n",
            "Successfully installed h2o-3.44.0.2\n"
          ]
        }
      ]
    },
    {
      "cell_type": "code",
      "source": [
        "# install and import H2o ! pip install h2o\n",
        "import h2o\n",
        "# We will be using default parameter Here with H2O init method\n",
        "h2o.init()"
      ],
      "metadata": {
        "colab": {
          "base_uri": "https://localhost:8080/",
          "height": 539
        },
        "id": "771uyJhgpMJQ",
        "outputId": "4ccf28ee-5f61-4eef-c1df-6763126e4abf"
      },
      "execution_count": 61,
      "outputs": [
        {
          "output_type": "stream",
          "name": "stdout",
          "text": [
            "Checking whether there is an H2O instance running at http://localhost:54321..... not found.\n",
            "Attempting to start a local H2O server...\n",
            "  Java Version: openjdk version \"11.0.20.1\" 2023-08-24; OpenJDK Runtime Environment (build 11.0.20.1+1-post-Ubuntu-0ubuntu122.04); OpenJDK 64-Bit Server VM (build 11.0.20.1+1-post-Ubuntu-0ubuntu122.04, mixed mode, sharing)\n",
            "  Starting server from /usr/local/lib/python3.10/dist-packages/h2o/backend/bin/h2o.jar\n",
            "  Ice root: /tmp/tmp0la4ia1s\n",
            "  JVM stdout: /tmp/tmp0la4ia1s/h2o_unknownUser_started_from_python.out\n",
            "  JVM stderr: /tmp/tmp0la4ia1s/h2o_unknownUser_started_from_python.err\n",
            "  Server is running at http://127.0.0.1:54321\n",
            "Connecting to H2O server at http://127.0.0.1:54321 ... successful.\n"
          ]
        },
        {
          "output_type": "display_data",
          "data": {
            "text/plain": [
              "--------------------------  -----------------------------------------------------------------------------------------\n",
              "H2O_cluster_uptime:         09 secs\n",
              "H2O_cluster_timezone:       Etc/UTC\n",
              "H2O_data_parsing_timezone:  UTC\n",
              "H2O_cluster_version:        3.44.0.2\n",
              "H2O_cluster_version_age:    17 days\n",
              "H2O_cluster_name:           H2O_from_python_unknownUser_pqp5cg\n",
              "H2O_cluster_total_nodes:    1\n",
              "H2O_cluster_free_memory:    3.170 Gb\n",
              "H2O_cluster_total_cores:    2\n",
              "H2O_cluster_allowed_cores:  2\n",
              "H2O_cluster_status:         locked, healthy\n",
              "H2O_connection_url:         http://127.0.0.1:54321\n",
              "H2O_connection_proxy:       {\"http\": null, \"https\": null, \"colab_language_server\": \"/usr/colab/bin/language_service\"}\n",
              "H2O_internal_security:      False\n",
              "Python_version:             3.10.12 final\n",
              "--------------------------  -----------------------------------------------------------------------------------------"
            ],
            "text/html": [
              "\n",
              "<style>\n",
              "\n",
              "#h2o-table-1.h2o-container {\n",
              "  overflow-x: auto;\n",
              "}\n",
              "#h2o-table-1 .h2o-table {\n",
              "  /* width: 100%; */\n",
              "  margin-top: 1em;\n",
              "  margin-bottom: 1em;\n",
              "}\n",
              "#h2o-table-1 .h2o-table caption {\n",
              "  white-space: nowrap;\n",
              "  caption-side: top;\n",
              "  text-align: left;\n",
              "  /* margin-left: 1em; */\n",
              "  margin: 0;\n",
              "  font-size: larger;\n",
              "}\n",
              "#h2o-table-1 .h2o-table thead {\n",
              "  white-space: nowrap; \n",
              "  position: sticky;\n",
              "  top: 0;\n",
              "  box-shadow: 0 -1px inset;\n",
              "}\n",
              "#h2o-table-1 .h2o-table tbody {\n",
              "  overflow: auto;\n",
              "}\n",
              "#h2o-table-1 .h2o-table th,\n",
              "#h2o-table-1 .h2o-table td {\n",
              "  text-align: right;\n",
              "  /* border: 1px solid; */\n",
              "}\n",
              "#h2o-table-1 .h2o-table tr:nth-child(even) {\n",
              "  /* background: #F5F5F5 */\n",
              "}\n",
              "\n",
              "</style>      \n",
              "<div id=\"h2o-table-1\" class=\"h2o-container\">\n",
              "  <table class=\"h2o-table\">\n",
              "    <caption></caption>\n",
              "    <thead></thead>\n",
              "    <tbody><tr><td>H2O_cluster_uptime:</td>\n",
              "<td>09 secs</td></tr>\n",
              "<tr><td>H2O_cluster_timezone:</td>\n",
              "<td>Etc/UTC</td></tr>\n",
              "<tr><td>H2O_data_parsing_timezone:</td>\n",
              "<td>UTC</td></tr>\n",
              "<tr><td>H2O_cluster_version:</td>\n",
              "<td>3.44.0.2</td></tr>\n",
              "<tr><td>H2O_cluster_version_age:</td>\n",
              "<td>17 days</td></tr>\n",
              "<tr><td>H2O_cluster_name:</td>\n",
              "<td>H2O_from_python_unknownUser_pqp5cg</td></tr>\n",
              "<tr><td>H2O_cluster_total_nodes:</td>\n",
              "<td>1</td></tr>\n",
              "<tr><td>H2O_cluster_free_memory:</td>\n",
              "<td>3.170 Gb</td></tr>\n",
              "<tr><td>H2O_cluster_total_cores:</td>\n",
              "<td>2</td></tr>\n",
              "<tr><td>H2O_cluster_allowed_cores:</td>\n",
              "<td>2</td></tr>\n",
              "<tr><td>H2O_cluster_status:</td>\n",
              "<td>locked, healthy</td></tr>\n",
              "<tr><td>H2O_connection_url:</td>\n",
              "<td>http://127.0.0.1:54321</td></tr>\n",
              "<tr><td>H2O_connection_proxy:</td>\n",
              "<td>{\"http\": null, \"https\": null, \"colab_language_server\": \"/usr/colab/bin/language_service\"}</td></tr>\n",
              "<tr><td>H2O_internal_security:</td>\n",
              "<td>False</td></tr>\n",
              "<tr><td>Python_version:</td>\n",
              "<td>3.10.12 final</td></tr></tbody>\n",
              "  </table>\n",
              "</div>\n"
            ]
          },
          "metadata": {}
        }
      ]
    },
    {
      "cell_type": "markdown",
      "source": [
        "###Split the Dataframe into training and testing sets"
      ],
      "metadata": {
        "id": "Q7nStyLA4gXl"
      }
    },
    {
      "cell_type": "code",
      "source": [
        "# Convert categorical features to numerical using one-hot encoding\n",
        "flight_data_encoded = pd.get_dummies(flight_data)"
      ],
      "metadata": {
        "id": "HAc6L_rGIWmj"
      },
      "execution_count": 64,
      "outputs": []
    },
    {
      "cell_type": "code",
      "source": [
        "# Shuffle the DataFrame\n",
        "flight_data = flight_data.sample(frac=1, random_state=42)\n",
        "\n",
        "# Define the proportion of data to be used for training (e.g., 80% train, 20% test)\n",
        "train_fraction = 0.8\n",
        "\n",
        "# Calculate the number of samples for training and testing\n",
        "train_size = int(len(flight_data) * train_fraction)\n",
        "\n",
        "# Split the DataFrame into training and testing sets\n",
        "train_flight_data = flight_data[:train_size].reset_index(drop=True)\n",
        "test_flight_data = flight_data[train_size:].reset_index(drop=True)"
      ],
      "metadata": {
        "id": "axdu5EtYtXY7"
      },
      "execution_count": 65,
      "outputs": []
    },
    {
      "cell_type": "markdown",
      "source": [
        "###Convert the train data frame into the H2O Dataframe."
      ],
      "metadata": {
        "id": "JF61kLj85T91"
      }
    },
    {
      "cell_type": "code",
      "source": [
        "# convert pandas DataFrame into H2O Frame\n",
        "train = h2o.H2OFrame(train_flight_data)\n",
        "# Describe the train h20Frame\n",
        "train.describe()\n"
      ],
      "metadata": {
        "colab": {
          "base_uri": "https://localhost:8080/",
          "height": 689
        },
        "id": "4YvmYYJ3pLD9",
        "outputId": "356d4be0-fcb6-4753-ab75-32dbce61cf8d"
      },
      "execution_count": 66,
      "outputs": [
        {
          "output_type": "stream",
          "name": "stdout",
          "text": [
            "Parse progress: |████████████████████████████████████████████████████████████████| (done) 100%\n"
          ]
        },
        {
          "output_type": "display_data",
          "data": {
            "text/plain": [
              "Rows:240122\n",
              "Cols:11\n"
            ],
            "text/html": [
              "<pre style='margin: 1em 0 1em 0;'>Rows:240122\n",
              "Cols:11\n",
              "</pre>"
            ]
          },
          "metadata": {}
        },
        {
          "output_type": "display_data",
          "data": {
            "text/plain": [
              "         airline    flight    source_city    departure_time    stops    arrival_time    destination_city    class     duration            days_left           price\n",
              "-------  ---------  --------  -------------  ----------------  -------  --------------  ------------------  --------  ------------------  ------------------  ------------------\n",
              "type     enum       enum      enum           enum              enum     enum            enum                enum      real                int                 int\n",
              "mins                                                                                                                  0.83                1.0                 1105.0\n",
              "mean                                                                                                                  12.223503718942922  26.01017399488597   20895.030909287787\n",
              "maxs                                                                                                                  49.83               49.0                123071.0\n",
              "sigma                                                                                                                 7.193131565975055   13.562093399322684  22706.770535302472\n",
              "zeros                                                                                                                 0                   0                   0\n",
              "missing  0          0         0              0                 0        0               0                   0         0                   0                   0\n",
              "0        Air_India  AI-506    Delhi          Morning           one      Early_Morning   Kolkata             Economy   19.75               40.0                7366.0\n",
              "1        Vistara    UK-706    Kolkata        Morning           one      Night           Mumbai              Business  9.83                42.0                64831.0\n",
              "2        Vistara    UK-772    Kolkata        Morning           one      Night           Bangalore           Economy   10.5                41.0                6195.0\n",
              "3        Vistara    UK-824    Chennai        Night             one      Morning         Delhi               Business  14.5                14.0                60160.0\n",
              "4        Air_India  AI-501    Bangalore      Afternoon         one      Night           Mumbai              Economy   8.25                20.0                6578.0\n",
              "5        AirAsia    I5-510    Kolkata        Early_Morning     one      Afternoon       Bangalore           Economy   10.83               5.0                 4555.0\n",
              "6        Vistara    UK-826    Chennai        Afternoon         zero     Afternoon       Mumbai              Business  2.0                 7.0                 23838.0\n",
              "7        Indigo     6E-271    Kolkata        Early_Morning     one      Afternoon       Bangalore           Economy   7.75                46.0                3860.0\n",
              "8        Air_India  AI-619    Mumbai         Night             one      Night           Chennai             Business  26.33               44.0                32230.0\n",
              "9        Vistara    UK-953    Delhi          Night             one      Evening         Kolkata             Business  20.17               2.0                 76841.0\n",
              "[240122 rows x 11 columns]\n"
            ],
            "text/html": [
              "<table class='dataframe'>\n",
              "<thead>\n",
              "<tr><th>       </th><th>airline  </th><th>flight  </th><th>source_city  </th><th>departure_time  </th><th>stops  </th><th>arrival_time  </th><th>destination_city  </th><th>class   </th><th>duration          </th><th>days_left         </th><th>price             </th></tr>\n",
              "</thead>\n",
              "<tbody>\n",
              "<tr><td>type   </td><td>enum     </td><td>enum    </td><td>enum         </td><td>enum            </td><td>enum   </td><td>enum          </td><td>enum              </td><td>enum    </td><td>real              </td><td>int               </td><td>int               </td></tr>\n",
              "<tr><td>mins   </td><td>         </td><td>        </td><td>             </td><td>                </td><td>       </td><td>              </td><td>                  </td><td>        </td><td>0.83              </td><td>1.0               </td><td>1105.0            </td></tr>\n",
              "<tr><td>mean   </td><td>         </td><td>        </td><td>             </td><td>                </td><td>       </td><td>              </td><td>                  </td><td>        </td><td>12.223503718942922</td><td>26.01017399488597 </td><td>20895.030909287787</td></tr>\n",
              "<tr><td>maxs   </td><td>         </td><td>        </td><td>             </td><td>                </td><td>       </td><td>              </td><td>                  </td><td>        </td><td>49.83             </td><td>49.0              </td><td>123071.0          </td></tr>\n",
              "<tr><td>sigma  </td><td>         </td><td>        </td><td>             </td><td>                </td><td>       </td><td>              </td><td>                  </td><td>        </td><td>7.193131565975055 </td><td>13.562093399322684</td><td>22706.770535302472</td></tr>\n",
              "<tr><td>zeros  </td><td>         </td><td>        </td><td>             </td><td>                </td><td>       </td><td>              </td><td>                  </td><td>        </td><td>0                 </td><td>0                 </td><td>0                 </td></tr>\n",
              "<tr><td>missing</td><td>0        </td><td>0       </td><td>0            </td><td>0               </td><td>0      </td><td>0             </td><td>0                 </td><td>0       </td><td>0                 </td><td>0                 </td><td>0                 </td></tr>\n",
              "<tr><td>0      </td><td>Air_India</td><td>AI-506  </td><td>Delhi        </td><td>Morning         </td><td>one    </td><td>Early_Morning </td><td>Kolkata           </td><td>Economy </td><td>19.75             </td><td>40.0              </td><td>7366.0            </td></tr>\n",
              "<tr><td>1      </td><td>Vistara  </td><td>UK-706  </td><td>Kolkata      </td><td>Morning         </td><td>one    </td><td>Night         </td><td>Mumbai            </td><td>Business</td><td>9.83              </td><td>42.0              </td><td>64831.0           </td></tr>\n",
              "<tr><td>2      </td><td>Vistara  </td><td>UK-772  </td><td>Kolkata      </td><td>Morning         </td><td>one    </td><td>Night         </td><td>Bangalore         </td><td>Economy </td><td>10.5              </td><td>41.0              </td><td>6195.0            </td></tr>\n",
              "<tr><td>3      </td><td>Vistara  </td><td>UK-824  </td><td>Chennai      </td><td>Night           </td><td>one    </td><td>Morning       </td><td>Delhi             </td><td>Business</td><td>14.5              </td><td>14.0              </td><td>60160.0           </td></tr>\n",
              "<tr><td>4      </td><td>Air_India</td><td>AI-501  </td><td>Bangalore    </td><td>Afternoon       </td><td>one    </td><td>Night         </td><td>Mumbai            </td><td>Economy </td><td>8.25              </td><td>20.0              </td><td>6578.0            </td></tr>\n",
              "<tr><td>5      </td><td>AirAsia  </td><td>I5-510  </td><td>Kolkata      </td><td>Early_Morning   </td><td>one    </td><td>Afternoon     </td><td>Bangalore         </td><td>Economy </td><td>10.83             </td><td>5.0               </td><td>4555.0            </td></tr>\n",
              "<tr><td>6      </td><td>Vistara  </td><td>UK-826  </td><td>Chennai      </td><td>Afternoon       </td><td>zero   </td><td>Afternoon     </td><td>Mumbai            </td><td>Business</td><td>2.0               </td><td>7.0               </td><td>23838.0           </td></tr>\n",
              "<tr><td>7      </td><td>Indigo   </td><td>6E-271  </td><td>Kolkata      </td><td>Early_Morning   </td><td>one    </td><td>Afternoon     </td><td>Bangalore         </td><td>Economy </td><td>7.75              </td><td>46.0              </td><td>3860.0            </td></tr>\n",
              "<tr><td>8      </td><td>Air_India</td><td>AI-619  </td><td>Mumbai       </td><td>Night           </td><td>one    </td><td>Night         </td><td>Chennai           </td><td>Business</td><td>26.33             </td><td>44.0              </td><td>32230.0           </td></tr>\n",
              "<tr><td>9      </td><td>Vistara  </td><td>UK-953  </td><td>Delhi        </td><td>Night           </td><td>one    </td><td>Evening       </td><td>Kolkata           </td><td>Business</td><td>20.17             </td><td>2.0               </td><td>76841.0           </td></tr>\n",
              "</tbody>\n",
              "</table><pre style='font-size: smaller; margin-bottom: 1em;'>[240122 rows x 11 columns]</pre>"
            ]
          },
          "metadata": {}
        }
      ]
    },
    {
      "cell_type": "markdown",
      "source": [
        "###Convert the test dataset into the H2O Dataframe."
      ],
      "metadata": {
        "id": "vLj74pvW5h_w"
      }
    },
    {
      "cell_type": "code",
      "source": [
        "# convert the test dataset into the H2O Dataframe.\n",
        "test = h2o.H2OFrame(test_flight_data)\n",
        "# selecting feature and label columns\n",
        "\n",
        "x = test.columns\n",
        "y = 'price'\n",
        "# remove label classvariable from feature variable\n",
        "x.remove(y)\n"
      ],
      "metadata": {
        "colab": {
          "base_uri": "https://localhost:8080/"
        },
        "id": "WTgHft-Iqb53",
        "outputId": "7d46fccf-866e-4aff-e508-85d5fd51930d"
      },
      "execution_count": 67,
      "outputs": [
        {
          "output_type": "stream",
          "name": "stdout",
          "text": [
            "Parse progress: |████████████████████████████████████████████████████████████████| (done) 100%\n"
          ]
        }
      ]
    },
    {
      "cell_type": "markdown",
      "source": [
        "### Run AutoML and start training."
      ],
      "metadata": {
        "id": "MN3CYOOL62OP"
      }
    },
    {
      "cell_type": "code",
      "source": [
        "# import autoML from H2O\n",
        "from h2o.automl import H2OAutoML\n",
        "# callh20automl function\n",
        "aml = H2OAutoML(max_runtime_secs = 600,\n",
        "\t\t\t\t# exclude_algos =['DeepLearning'],\n",
        "\t\t\t\tseed = 1,\n",
        "\t\t\t\t# stopping_metric ='logloss',\n",
        "\t\t\t\t# sort_metric ='logloss',\n",
        "\t\t\t\tbalance_classes = False,\n",
        "\t\t\t\tproject_name ='Project1'\n",
        ")\n",
        "# train model and record time % time\n",
        "aml.train(x = x, y = y, training_frame = train)\n"
      ],
      "metadata": {
        "colab": {
          "base_uri": "https://localhost:8080/",
          "height": 1000
        },
        "id": "o3cD5hLtuOeh",
        "outputId": "a61c880a-fbd7-46a2-8b9e-ed283c776319"
      },
      "execution_count": 68,
      "outputs": [
        {
          "output_type": "stream",
          "name": "stdout",
          "text": [
            "AutoML progress: |███████████████████████████████████████████████████████████████| (done) 100%\n"
          ]
        },
        {
          "output_type": "execute_result",
          "data": {
            "text/plain": [
              "Model Details\n",
              "=============\n",
              "H2OStackedEnsembleEstimator : Stacked Ensemble\n",
              "Model Key: StackedEnsemble_BestOfFamily_2_AutoML_1_20231125_154215\n",
              "\n",
              "\n",
              "Model Summary for Stacked Ensemble: \n",
              "key                                   value\n",
              "------------------------------------  ----------------\n",
              "Stacking strategy                     cross_validation\n",
              "Number of base models (used / total)  3/4\n",
              "# GBM base models (used / total)      1/1\n",
              "# XGBoost base models (used / total)  1/1\n",
              "# DRF base models (used / total)      1/1\n",
              "# GLM base models (used / total)      0/1\n",
              "Metalearner algorithm                 GLM\n",
              "Metalearner fold assignment scheme    Random\n",
              "Metalearner nfolds                    5\n",
              "Metalearner fold_column\n",
              "Custom metalearner hyperparameters    None\n",
              "\n",
              "ModelMetricsRegressionGLM: stackedensemble\n",
              "** Reported on train data. **\n",
              "\n",
              "MSE: 4291340.756419488\n",
              "RMSE: 2071.555154085811\n",
              "MAE: 926.1104888487426\n",
              "RMSLE: 0.09961022526158254\n",
              "Mean Residual Deviance: 4291340.756419488\n",
              "R^2: 0.9915256065855795\n",
              "Null degrees of freedom: 10008\n",
              "Residual degrees of freedom: 10005\n",
              "Null deviance: 5069599323779.131\n",
              "Residual deviance: 42952029631.002655\n",
              "AIC: 181272.85827275141\n",
              "\n",
              "ModelMetricsRegressionGLM: stackedensemble\n",
              "** Reported on cross-validation data. **\n",
              "\n",
              "MSE: 6185578.793726684\n",
              "RMSE: 2487.0823857939818\n",
              "MAE: 1140.185525381413\n",
              "RMSLE: 0.1309636651037658\n",
              "Mean Residual Deviance: 6185578.793726684\n",
              "R^2: 0.9880030345064675\n",
              "Null degrees of freedom: 240121\n",
              "Residual degrees of freedom: 240118\n",
              "Null deviance: 123806253743004.06\n",
              "Residual deviance: 1485293551107.2388\n",
              "AIC: 4436409.993658032\n",
              "\n",
              "Cross-Validation Metrics Summary: \n",
              "                        mean         sd           cv_1_valid    cv_2_valid    cv_3_valid    cv_4_valid    cv_5_valid\n",
              "----------------------  -----------  -----------  ------------  ------------  ------------  ------------  ------------\n",
              "mae                     1140.2       7.53841      1136.22       1136.22       1132.09       1148.95       1147.51\n",
              "mean_residual_deviance  6.1857e+06   134859       6.1742e+06    6.00361e+06   6.13047e+06   6.25788e+06   6.36233e+06\n",
              "mse                     6.1857e+06   134859       6.1742e+06    6.00361e+06   6.13047e+06   6.25788e+06   6.36233e+06\n",
              "null_deviance           2.47612e+13  7.53224e+10  2.48431e+13   2.47511e+13   2.47218e+13   2.4662e+13    2.48283e+13\n",
              "r2                      0.988003     0.000245066  0.988064      0.988355      0.988043      0.987838      0.987714\n",
              "residual_deviance       2.97059e+11  6.17528e+09  2.96516e+11   2.88215e+11   2.95587e+11   2.99946e+11   3.05029e+11\n",
              "rmse                    2486.99      27.1194      2484.79       2450.23       2475.98       2501.57       2522.37\n",
              "rmsle                   0.130962     0.00102399   0.129819      0.131853      0.130082      0.130943      0.132111\n",
              "\n",
              "[tips]\n",
              "Use `model.explain()` to inspect the model.\n",
              "--\n",
              "Use `h2o.display.toggle_user_tips()` to switch on/off this section."
            ],
            "text/html": [
              "<pre style='margin: 1em 0 1em 0;'>Model Details\n",
              "=============\n",
              "H2OStackedEnsembleEstimator : Stacked Ensemble\n",
              "Model Key: StackedEnsemble_BestOfFamily_2_AutoML_1_20231125_154215\n",
              "</pre>\n",
              "<div style='margin: 1em 0 1em 0;'>\n",
              "<style>\n",
              "\n",
              "#h2o-table-2.h2o-container {\n",
              "  overflow-x: auto;\n",
              "}\n",
              "#h2o-table-2 .h2o-table {\n",
              "  /* width: 100%; */\n",
              "  margin-top: 1em;\n",
              "  margin-bottom: 1em;\n",
              "}\n",
              "#h2o-table-2 .h2o-table caption {\n",
              "  white-space: nowrap;\n",
              "  caption-side: top;\n",
              "  text-align: left;\n",
              "  /* margin-left: 1em; */\n",
              "  margin: 0;\n",
              "  font-size: larger;\n",
              "}\n",
              "#h2o-table-2 .h2o-table thead {\n",
              "  white-space: nowrap; \n",
              "  position: sticky;\n",
              "  top: 0;\n",
              "  box-shadow: 0 -1px inset;\n",
              "}\n",
              "#h2o-table-2 .h2o-table tbody {\n",
              "  overflow: auto;\n",
              "}\n",
              "#h2o-table-2 .h2o-table th,\n",
              "#h2o-table-2 .h2o-table td {\n",
              "  text-align: right;\n",
              "  /* border: 1px solid; */\n",
              "}\n",
              "#h2o-table-2 .h2o-table tr:nth-child(even) {\n",
              "  /* background: #F5F5F5 */\n",
              "}\n",
              "\n",
              "</style>      \n",
              "<div id=\"h2o-table-2\" class=\"h2o-container\">\n",
              "  <table class=\"h2o-table\">\n",
              "    <caption>Model Summary for Stacked Ensemble: </caption>\n",
              "    <thead><tr><th>key</th>\n",
              "<th>value</th></tr></thead>\n",
              "    <tbody><tr><td>Stacking strategy</td>\n",
              "<td>cross_validation</td></tr>\n",
              "<tr><td>Number of base models (used / total)</td>\n",
              "<td>3/4</td></tr>\n",
              "<tr><td># GBM base models (used / total)</td>\n",
              "<td>1/1</td></tr>\n",
              "<tr><td># XGBoost base models (used / total)</td>\n",
              "<td>1/1</td></tr>\n",
              "<tr><td># DRF base models (used / total)</td>\n",
              "<td>1/1</td></tr>\n",
              "<tr><td># GLM base models (used / total)</td>\n",
              "<td>0/1</td></tr>\n",
              "<tr><td>Metalearner algorithm</td>\n",
              "<td>GLM</td></tr>\n",
              "<tr><td>Metalearner fold assignment scheme</td>\n",
              "<td>Random</td></tr>\n",
              "<tr><td>Metalearner nfolds</td>\n",
              "<td>5</td></tr>\n",
              "<tr><td>Metalearner fold_column</td>\n",
              "<td>None</td></tr>\n",
              "<tr><td>Custom metalearner hyperparameters</td>\n",
              "<td>None</td></tr></tbody>\n",
              "  </table>\n",
              "</div>\n",
              "</div>\n",
              "<div style='margin: 1em 0 1em 0;'><pre style='margin: 1em 0 1em 0;'>ModelMetricsRegressionGLM: stackedensemble\n",
              "** Reported on train data. **\n",
              "\n",
              "MSE: 4291340.756419488\n",
              "RMSE: 2071.555154085811\n",
              "MAE: 926.1104888487426\n",
              "RMSLE: 0.09961022526158254\n",
              "Mean Residual Deviance: 4291340.756419488\n",
              "R^2: 0.9915256065855795\n",
              "Null degrees of freedom: 10008\n",
              "Residual degrees of freedom: 10005\n",
              "Null deviance: 5069599323779.131\n",
              "Residual deviance: 42952029631.002655\n",
              "AIC: 181272.85827275141</pre></div>\n",
              "<div style='margin: 1em 0 1em 0;'><pre style='margin: 1em 0 1em 0;'>ModelMetricsRegressionGLM: stackedensemble\n",
              "** Reported on cross-validation data. **\n",
              "\n",
              "MSE: 6185578.793726684\n",
              "RMSE: 2487.0823857939818\n",
              "MAE: 1140.185525381413\n",
              "RMSLE: 0.1309636651037658\n",
              "Mean Residual Deviance: 6185578.793726684\n",
              "R^2: 0.9880030345064675\n",
              "Null degrees of freedom: 240121\n",
              "Residual degrees of freedom: 240118\n",
              "Null deviance: 123806253743004.06\n",
              "Residual deviance: 1485293551107.2388\n",
              "AIC: 4436409.993658032</pre></div>\n",
              "<div style='margin: 1em 0 1em 0;'>\n",
              "<style>\n",
              "\n",
              "#h2o-table-3.h2o-container {\n",
              "  overflow-x: auto;\n",
              "}\n",
              "#h2o-table-3 .h2o-table {\n",
              "  /* width: 100%; */\n",
              "  margin-top: 1em;\n",
              "  margin-bottom: 1em;\n",
              "}\n",
              "#h2o-table-3 .h2o-table caption {\n",
              "  white-space: nowrap;\n",
              "  caption-side: top;\n",
              "  text-align: left;\n",
              "  /* margin-left: 1em; */\n",
              "  margin: 0;\n",
              "  font-size: larger;\n",
              "}\n",
              "#h2o-table-3 .h2o-table thead {\n",
              "  white-space: nowrap; \n",
              "  position: sticky;\n",
              "  top: 0;\n",
              "  box-shadow: 0 -1px inset;\n",
              "}\n",
              "#h2o-table-3 .h2o-table tbody {\n",
              "  overflow: auto;\n",
              "}\n",
              "#h2o-table-3 .h2o-table th,\n",
              "#h2o-table-3 .h2o-table td {\n",
              "  text-align: right;\n",
              "  /* border: 1px solid; */\n",
              "}\n",
              "#h2o-table-3 .h2o-table tr:nth-child(even) {\n",
              "  /* background: #F5F5F5 */\n",
              "}\n",
              "\n",
              "</style>      \n",
              "<div id=\"h2o-table-3\" class=\"h2o-container\">\n",
              "  <table class=\"h2o-table\">\n",
              "    <caption>Cross-Validation Metrics Summary: </caption>\n",
              "    <thead><tr><th></th>\n",
              "<th>mean</th>\n",
              "<th>sd</th>\n",
              "<th>cv_1_valid</th>\n",
              "<th>cv_2_valid</th>\n",
              "<th>cv_3_valid</th>\n",
              "<th>cv_4_valid</th>\n",
              "<th>cv_5_valid</th></tr></thead>\n",
              "    <tbody><tr><td>mae</td>\n",
              "<td>1140.1976</td>\n",
              "<td>7.5384107</td>\n",
              "<td>1136.2233</td>\n",
              "<td>1136.2196</td>\n",
              "<td>1132.0913</td>\n",
              "<td>1148.9481</td>\n",
              "<td>1147.5056</td></tr>\n",
              "<tr><td>mean_residual_deviance</td>\n",
              "<td>6185697.5</td>\n",
              "<td>134859.36</td>\n",
              "<td>6174198.5</td>\n",
              "<td>6003609.5</td>\n",
              "<td>6130470.5</td>\n",
              "<td>6257876.0</td>\n",
              "<td>6362333.5</td></tr>\n",
              "<tr><td>mse</td>\n",
              "<td>6185697.5</td>\n",
              "<td>134859.36</td>\n",
              "<td>6174198.5</td>\n",
              "<td>6003609.5</td>\n",
              "<td>6130470.5</td>\n",
              "<td>6257876.0</td>\n",
              "<td>6362333.5</td></tr>\n",
              "<tr><td>null_deviance</td>\n",
              "<td>24761249800000.0000000</td>\n",
              "<td>75322368000.0000000</td>\n",
              "<td>24843070200000.0000000</td>\n",
              "<td>24751124800000.0000000</td>\n",
              "<td>24721802400000.0000000</td>\n",
              "<td>24662000000000.0000000</td>\n",
              "<td>24828258000000.0000000</td></tr>\n",
              "<tr><td>r2</td>\n",
              "<td>0.9880030</td>\n",
              "<td>0.0002451</td>\n",
              "<td>0.9880644</td>\n",
              "<td>0.9883553</td>\n",
              "<td>0.9880433</td>\n",
              "<td>0.9878377</td>\n",
              "<td>0.9877142</td></tr>\n",
              "<tr><td>residual_deviance</td>\n",
              "<td>297058697000.0000000</td>\n",
              "<td>6175281200.0000000</td>\n",
              "<td>296515895000.0000000</td>\n",
              "<td>288215302000.0000000</td>\n",
              "<td>295586759000.0000000</td>\n",
              "<td>299946246000.0000000</td>\n",
              "<td>305029349000.0000000</td></tr>\n",
              "<tr><td>rmse</td>\n",
              "<td>2486.988</td>\n",
              "<td>27.119415</td>\n",
              "<td>2484.7935</td>\n",
              "<td>2450.2266</td>\n",
              "<td>2475.9788</td>\n",
              "<td>2501.5747</td>\n",
              "<td>2522.3667</td></tr>\n",
              "<tr><td>rmsle</td>\n",
              "<td>0.1309616</td>\n",
              "<td>0.0010240</td>\n",
              "<td>0.1298191</td>\n",
              "<td>0.1318531</td>\n",
              "<td>0.1300821</td>\n",
              "<td>0.1309432</td>\n",
              "<td>0.1321106</td></tr></tbody>\n",
              "  </table>\n",
              "</div>\n",
              "</div><pre style=\"font-size: smaller; margin: 1em 0 0 0;\">\n",
              "\n",
              "[tips]\n",
              "Use `model.explain()` to inspect the model.\n",
              "--\n",
              "Use `h2o.display.toggle_user_tips()` to switch on/off this section.</pre>"
            ]
          },
          "metadata": {},
          "execution_count": 68
        }
      ]
    },
    {
      "cell_type": "markdown",
      "source": [
        "### Best performing model using the leaderboard\n",
        "\n",
        "In this step, we will look for the best performing model using the leaderboard and it will most probably be one of the two stacked ensemble models."
      ],
      "metadata": {
        "id": "XFlUEBcI7Bwm"
      }
    },
    {
      "cell_type": "code",
      "source": [
        "# View the H2O aml leaderboard\n",
        "lb = aml.leaderboard\n",
        "# Print all rows instead of 10 rows\n",
        "lb.head(rows = lb.nrows)\n"
      ],
      "metadata": {
        "colab": {
          "base_uri": "https://localhost:8080/",
          "height": 514
        },
        "id": "D-guzqFEzFB_",
        "outputId": "814f9dc2-8bdf-4d1c-d7f7-b3867f525c0e"
      },
      "execution_count": 69,
      "outputs": [
        {
          "output_type": "execute_result",
          "data": {
            "text/plain": [
              "model_id                                                     rmse          mse       mae       rmsle    mean_residual_deviance\n",
              "-------------------------------------------------------  --------  -----------  --------  ----------  ------------------------\n",
              "StackedEnsemble_BestOfFamily_2_AutoML_1_20231125_154215   2487.08  6.18558e+06   1140.19    0.130964               6.18558e+06\n",
              "StackedEnsemble_AllModels_1_AutoML_1_20231125_154215      2487.1   6.18566e+06   1140.17    0.130961               6.18566e+06\n",
              "StackedEnsemble_BestOfFamily_1_AutoML_1_20231125_154215   2525.36  6.37744e+06   1185.39    0.133245               6.37744e+06\n",
              "GBM_1_AutoML_1_20231125_154215                            2538.24  6.44267e+06   1187.85    0.13527                6.44267e+06\n",
              "DRF_1_AutoML_1_20231125_154215                            2755.28  7.59156e+06   1168.18    0.150508               7.59156e+06\n",
              "XGBoost_1_AutoML_1_20231125_154215                        2796.53  7.82057e+06   1478.85  nan                      7.82057e+06\n",
              "XGBoost_2_AutoML_1_20231125_154215                        4119.33  1.69689e+07   2321.74    0.210109               1.69689e+07\n",
              "XRT_1_AutoML_1_20231125_154215                            6958.48  4.84205e+07   3304.64    0.335777               4.84205e+07\n",
              "GBM_2_AutoML_1_20231125_154215                            7700.5   5.92977e+07   5889.43    0.600662               5.92977e+07\n",
              "GBM_3_AutoML_1_20231125_154215                            9621.28  9.2569e+07    7486.31    0.690443               9.2569e+07\n",
              "XGBoost_3_AutoML_1_20231125_154215                        9988.4   9.97682e+07   5889.05    0.381899               9.97682e+07\n",
              "GBM_4_AutoML_1_20231125_154215                           10700.6   1.14503e+08   8570.23    0.754355               1.14503e+08\n",
              "GBM_5_AutoML_1_20231125_154215                           22108.4   4.88781e+08  19279.2     1.24271                4.88781e+08\n",
              "GLM_1_AutoML_1_20231125_154215                           22706.7   5.15595e+08  19769.2     1.27236                5.15595e+08\n",
              "[14 rows x 6 columns]\n"
            ],
            "text/html": [
              "<table class='dataframe'>\n",
              "<thead>\n",
              "<tr><th>model_id                                               </th><th style=\"text-align: right;\">    rmse</th><th style=\"text-align: right;\">        mse</th><th style=\"text-align: right;\">     mae</th><th style=\"text-align: right;\">     rmsle</th><th style=\"text-align: right;\">  mean_residual_deviance</th></tr>\n",
              "</thead>\n",
              "<tbody>\n",
              "<tr><td>StackedEnsemble_BestOfFamily_2_AutoML_1_20231125_154215</td><td style=\"text-align: right;\"> 2487.08</td><td style=\"text-align: right;\">6.18558e+06</td><td style=\"text-align: right;\"> 1140.19</td><td style=\"text-align: right;\">  0.130964</td><td style=\"text-align: right;\">             6.18558e+06</td></tr>\n",
              "<tr><td>StackedEnsemble_AllModels_1_AutoML_1_20231125_154215   </td><td style=\"text-align: right;\"> 2487.1 </td><td style=\"text-align: right;\">6.18566e+06</td><td style=\"text-align: right;\"> 1140.17</td><td style=\"text-align: right;\">  0.130961</td><td style=\"text-align: right;\">             6.18566e+06</td></tr>\n",
              "<tr><td>StackedEnsemble_BestOfFamily_1_AutoML_1_20231125_154215</td><td style=\"text-align: right;\"> 2525.36</td><td style=\"text-align: right;\">6.37744e+06</td><td style=\"text-align: right;\"> 1185.39</td><td style=\"text-align: right;\">  0.133245</td><td style=\"text-align: right;\">             6.37744e+06</td></tr>\n",
              "<tr><td>GBM_1_AutoML_1_20231125_154215                         </td><td style=\"text-align: right;\"> 2538.24</td><td style=\"text-align: right;\">6.44267e+06</td><td style=\"text-align: right;\"> 1187.85</td><td style=\"text-align: right;\">  0.13527 </td><td style=\"text-align: right;\">             6.44267e+06</td></tr>\n",
              "<tr><td>DRF_1_AutoML_1_20231125_154215                         </td><td style=\"text-align: right;\"> 2755.28</td><td style=\"text-align: right;\">7.59156e+06</td><td style=\"text-align: right;\"> 1168.18</td><td style=\"text-align: right;\">  0.150508</td><td style=\"text-align: right;\">             7.59156e+06</td></tr>\n",
              "<tr><td>XGBoost_1_AutoML_1_20231125_154215                     </td><td style=\"text-align: right;\"> 2796.53</td><td style=\"text-align: right;\">7.82057e+06</td><td style=\"text-align: right;\"> 1478.85</td><td style=\"text-align: right;\">nan       </td><td style=\"text-align: right;\">             7.82057e+06</td></tr>\n",
              "<tr><td>XGBoost_2_AutoML_1_20231125_154215                     </td><td style=\"text-align: right;\"> 4119.33</td><td style=\"text-align: right;\">1.69689e+07</td><td style=\"text-align: right;\"> 2321.74</td><td style=\"text-align: right;\">  0.210109</td><td style=\"text-align: right;\">             1.69689e+07</td></tr>\n",
              "<tr><td>XRT_1_AutoML_1_20231125_154215                         </td><td style=\"text-align: right;\"> 6958.48</td><td style=\"text-align: right;\">4.84205e+07</td><td style=\"text-align: right;\"> 3304.64</td><td style=\"text-align: right;\">  0.335777</td><td style=\"text-align: right;\">             4.84205e+07</td></tr>\n",
              "<tr><td>GBM_2_AutoML_1_20231125_154215                         </td><td style=\"text-align: right;\"> 7700.5 </td><td style=\"text-align: right;\">5.92977e+07</td><td style=\"text-align: right;\"> 5889.43</td><td style=\"text-align: right;\">  0.600662</td><td style=\"text-align: right;\">             5.92977e+07</td></tr>\n",
              "<tr><td>GBM_3_AutoML_1_20231125_154215                         </td><td style=\"text-align: right;\"> 9621.28</td><td style=\"text-align: right;\">9.2569e+07 </td><td style=\"text-align: right;\"> 7486.31</td><td style=\"text-align: right;\">  0.690443</td><td style=\"text-align: right;\">             9.2569e+07 </td></tr>\n",
              "<tr><td>XGBoost_3_AutoML_1_20231125_154215                     </td><td style=\"text-align: right;\"> 9988.4 </td><td style=\"text-align: right;\">9.97682e+07</td><td style=\"text-align: right;\"> 5889.05</td><td style=\"text-align: right;\">  0.381899</td><td style=\"text-align: right;\">             9.97682e+07</td></tr>\n",
              "<tr><td>GBM_4_AutoML_1_20231125_154215                         </td><td style=\"text-align: right;\">10700.6 </td><td style=\"text-align: right;\">1.14503e+08</td><td style=\"text-align: right;\"> 8570.23</td><td style=\"text-align: right;\">  0.754355</td><td style=\"text-align: right;\">             1.14503e+08</td></tr>\n",
              "<tr><td>GBM_5_AutoML_1_20231125_154215                         </td><td style=\"text-align: right;\">22108.4 </td><td style=\"text-align: right;\">4.88781e+08</td><td style=\"text-align: right;\">19279.2 </td><td style=\"text-align: right;\">  1.24271 </td><td style=\"text-align: right;\">             4.88781e+08</td></tr>\n",
              "<tr><td>GLM_1_AutoML_1_20231125_154215                         </td><td style=\"text-align: right;\">22706.7 </td><td style=\"text-align: right;\">5.15595e+08</td><td style=\"text-align: right;\">19769.2 </td><td style=\"text-align: right;\">  1.27236 </td><td style=\"text-align: right;\">             5.15595e+08</td></tr>\n",
              "</tbody>\n",
              "</table><pre style='font-size: smaller; margin-bottom: 1em;'>[14 rows x 6 columns]</pre>"
            ]
          },
          "metadata": {},
          "execution_count": 69
        }
      ]
    },
    {
      "cell_type": "markdown",
      "source": [
        "## **Feature Selection**"
      ],
      "metadata": {
        "id": "-o-p71gwS-RK"
      }
    },
    {
      "cell_type": "markdown",
      "source": [
        "### Select the best performing base learning model.\n",
        "\n",
        "In this step, we explore the base learners of the stacked ensemble model and select the best performing base learning model."
      ],
      "metadata": {
        "id": "HeFC39er77W0"
      }
    },
    {
      "cell_type": "code",
      "source": [
        "# Get the top model of leaderboard\n",
        "se = aml.leader\n",
        "\n",
        "# Get the metalearner model of top model\n",
        "metalearner = h2o.get_model(se.metalearner()['name'])\n",
        "\n",
        "# list baselearner models :\n",
        "metalearner.varimp()\n"
      ],
      "metadata": {
        "colab": {
          "base_uri": "https://localhost:8080/"
        },
        "id": "dLUqVxBrzhF-",
        "outputId": "11bdcbdf-29ae-4133-9de9-562fb4f86509"
      },
      "execution_count": 70,
      "outputs": [
        {
          "output_type": "stream",
          "name": "stderr",
          "text": [
            "/usr/local/lib/python3.10/dist-packages/h2o/estimators/stackedensemble.py:945: H2ODeprecationWarning: The usage of stacked_ensemble.metalearner()['name'] will be deprecated. Metalearner now returns the metalearner object. If you need to get the 'name' please use stacked_ensemble.metalearner().model_id\n",
            "  warnings.warn(\n"
          ]
        },
        {
          "output_type": "execute_result",
          "data": {
            "text/plain": [
              "[('GBM_1_AutoML_1_20231125_154215', 14647.275390625, 1.0, 0.6491415593008188),\n",
              " ('DRF_1_AutoML_1_20231125_154215',\n",
              "  6555.26904296875,\n",
              "  0.4475418716551513,\n",
              "  0.2905180284186319),\n",
              " ('XGBoost_1_AutoML_1_20231125_154215',\n",
              "  1361.5252685546875,\n",
              "  0.09295416603050509,\n",
              "  0.06034041228054928),\n",
              " ('GLM_1_AutoML_1_20231125_154215', 0.0, 0.0, 0.0)]"
            ]
          },
          "metadata": {},
          "execution_count": 70
        }
      ]
    },
    {
      "cell_type": "markdown",
      "source": [
        "### Calculate error and plot the feature importance plot"
      ],
      "metadata": {
        "id": "A5AX70wU8e1C"
      }
    },
    {
      "cell_type": "code",
      "source": [
        "# model performance on test dataset\n",
        "model = h2o.get_model('GBM_1_AutoML_1_20231125_154215')\n",
        "model.model_performance(test)\n"
      ],
      "metadata": {
        "colab": {
          "base_uri": "https://localhost:8080/",
          "height": 184
        },
        "id": "JQAiAxvYzyn9",
        "outputId": "b93a902e-c9c5-4de0-9997-2f7a360ca3c2"
      },
      "execution_count": 71,
      "outputs": [
        {
          "output_type": "execute_result",
          "data": {
            "text/plain": [
              "ModelMetricsRegression: gbm\n",
              "** Reported on test data. **\n",
              "\n",
              "MSE: 5781432.283991217\n",
              "RMSE: 2404.4609133839576\n",
              "MAE: 1107.3715304292762\n",
              "RMSLE: 0.12678821621642863\n",
              "Mean Residual Deviance: 5781432.283991217"
            ],
            "text/html": [
              "<pre style='margin: 1em 0 1em 0;'>ModelMetricsRegression: gbm\n",
              "** Reported on test data. **\n",
              "\n",
              "MSE: 5781432.283991217\n",
              "RMSE: 2404.4609133839576\n",
              "MAE: 1107.3715304292762\n",
              "RMSLE: 0.12678821621642863\n",
              "Mean Residual Deviance: 5781432.283991217</pre>"
            ]
          },
          "metadata": {},
          "execution_count": 71
        }
      ]
    },
    {
      "cell_type": "markdown",
      "source": [
        "## **Visualization**"
      ],
      "metadata": {
        "id": "4nVIolK579uL"
      }
    },
    {
      "cell_type": "code",
      "source": [
        "# plot the graph for variable importance by model\n",
        "model.varimp_plot(num_of_features = 9)\n"
      ],
      "metadata": {
        "colab": {
          "base_uri": "https://localhost:8080/",
          "height": 902
        },
        "id": "dAzzoKxI0m27",
        "outputId": "5fbb8439-df3b-4ad1-e04e-d99ffd801186"
      },
      "execution_count": 72,
      "outputs": [
        {
          "output_type": "display_data",
          "data": {
            "text/plain": [
              "<Figure size 1400x1000 with 1 Axes>"
            ],
            "image/png": "[encoded data removed]"
          },
          "metadata": {}
        },
        {
          "output_type": "execute_result",
          "data": {
            "text/plain": [
              "<h2o.plot._plot_result._MObject at 0x788d3f55d450>"
            ]
          },
          "metadata": {},
          "execution_count": 72
        },
        {
          "output_type": "display_data",
          "data": {
            "text/plain": [
              "<Figure size 640x480 with 0 Axes>"
            ]
          },
          "metadata": {}
        }
      ]
    },
    {
      "cell_type": "markdown",
      "source": [
        "\n",
        "\n",
        "Now, we can save this model using the model.save method, this model can be deployed on various platforms."
      ],
      "metadata": {
        "id": "rirmzHst9DIN"
      }
    },
    {
      "cell_type": "code",
      "source": [
        "# Save the baseline model\n",
        "model_path = h2o.save_model(model = model, path ='/content/drive/MyDrive/', force = True)\n"
      ],
      "metadata": {
        "id": "YjjNEYr202SL"
      },
      "execution_count": 73,
      "outputs": []
    },
    {
      "cell_type": "code",
      "source": [
        "# Plot the graph for variable importance by coding\n",
        "\n",
        "# Get variable importance\n",
        "varimp = model.varimp()\n",
        "\n",
        "# Sort variable importance values in descending order\n",
        "varimp = sorted(varimp, key=lambda x: x[1], reverse=True)\n",
        "\n",
        "# Calculate total importance for percentage calculation\n",
        "total_importance = sum(item[1] for item in varimp)\n",
        "\n",
        "# Convert importance values to percentages\n",
        "percentage_importance = [(item[0], (item[1] / total_importance) * 100) for item in varimp]\n",
        "\n",
        "# Display variable importance as percentages\n",
        "print(\"\\nVariable Importance (Percentage):\")\n",
        "for variable, percentage in percentage_importance:\n",
        "    print(f\"{variable}: {percentage:.2f}%\")\n",
        "\n",
        "# Plot variable importance\n",
        "import matplotlib.pyplot as plt\n",
        "\n",
        "h2o.cluster().shutdown()  # Shutdown H2O cluster before plotting\n",
        "\n",
        "# Extract variable names and importance values\n",
        "variables = [item[0] for item in varimp]\n",
        "importance_values = [item[1] for item in percentage_importance]\n",
        "\n",
        "# Plot variable importance\n",
        "plt.figure(figsize=(10, 6))\n",
        "plt.barh(variables[::-1], importance_values[::-1], color='skyblue')  # Reverse the order\n",
        "plt.xlabel('Relative Importance (%)')\n",
        "plt.title('Variable Importance')\n",
        "plt.show()\n",
        "\n",
        "\n",
        "\n"
      ],
      "metadata": {
        "colab": {
          "base_uri": "https://localhost:8080/",
          "height": 794
        },
        "id": "Hg5wTWkZanCE",
        "outputId": "d258773f-c260-432b-fbb9-8ddc30988dbb"
      },
      "execution_count": 86,
      "outputs": [
        {
          "output_type": "stream",
          "name": "stdout",
          "text": [
            "\n",
            "Variable Importance (Percentage):\n",
            "class: 85.28%\n",
            "flight: 5.03%\n",
            "airline: 3.83%\n",
            "duration: 3.20%\n",
            "days_left: 1.06%\n",
            "stops: 0.57%\n",
            "destination_city: 0.56%\n",
            "source_city: 0.20%\n",
            "arrival_time: 0.20%\n",
            "departure_time: 0.08%\n"
          ]
        },
        {
          "output_type": "display_data",
          "data": {
            "text/plain": [
              "<Figure size 1000x600 with 1 Axes>"
            ],
            "image/png": "[encoded data removed]"
          },
          "metadata": {}
        }
      ]
    },
    {
      "cell_type": "markdown",
      "source": [
        "Base on this model, we can see that the variables with higher importance values contribute more to the model's predictive performance. In this case, for flight price prediction, 'class' variables which are Business and Economy have a stronger influence on determining the flight prices.\n",
        "\n",
        "The bar plot above identify which variables have the most significant impact on the model. If certain variables have much higher importance values than others, they are more critical for making accurate predictions."
      ],
      "metadata": {
        "id": "uuphw25bjW-_"
      }
    },
    {
      "cell_type": "markdown",
      "source": [
        "## Conclusion\n",
        "\n",
        "In conclusion, this assignment give us the opportunity to try the whole step of the future engineering process in order to determine the importance of variables in contributing to the model's prediction.\n",
        "\n",
        "By using H2O AutoML, it automates the steps like basic data processing, model training and tuning, and ensemble and stacking of various models to provide the models with the best performance. By these automated features, we can focus on other steps like data collection, feature engineering and deployment of model.\n",
        "\n",
        "However, it's essential to note that understanding the data and the problem domain remains crucial. The domain knowledge should still play a role in guiding the overall data preprocessing and feature selection strategy."
      ],
      "metadata": {
        "id": "JhUC1wZGWYII"
      }
    }
  ]
}
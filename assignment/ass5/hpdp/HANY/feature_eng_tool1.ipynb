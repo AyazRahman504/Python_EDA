{
  "cells": [
    {
      "cell_type": "markdown",
      "metadata": {
        "id": "view-in-github",
        "colab_type": "text"
      },
      "source": [
        "<a href=\"https://colab.research.google.com/github/drshahizan/Python_EDA/blob/main/assignment/ass5/hpdp/HANY/feature_eng_tool1.ipynb\" target=\"_parent\"><img src=\"https://colab.research.google.com/assets/colab-badge.svg\" alt=\"Open In Colab\"/></a>"
      ]
    },
    {
      "cell_type": "markdown",
      "metadata": {
        "id": "cLHy1bwfx9RS"
      },
      "source": [
        "# Assignment 5: Automated Feature Engineering Tools Assignment\n",
        "| Name                                     | Matrix Number | Task |\n",
        "| :---------------------------------------- | :-------------: | :-------------: |\n",
        "| ALYA BALQISS BINTI AZAHAR   |  A21EC0158     | Tool 1 (Autofeat) |\n",
        "| MUHAMMAD HARITH HAKIM BIN OTHMAN              | A21EC0205     | Tool 1 (Autofeat) |\n",
        "| LIEW YVONNE            |A21EC0045      | Tool 2 (Featuretools) |\n",
        "|NADIA SYAFIQAH BINTI ZULKIPLI  | A21EC0098      | Tool 2 (Featuretools) |\n",
        "\n",
        "---\n",
        "\n",
        "\n",
        "\n"
      ]
    },
    {
      "cell_type": "markdown",
      "metadata": {
        "id": "Pj-4h2TCrSWQ"
      },
      "source": [
        "# 1. Introduction\n",
        "In this task, the primary focus is on exploring the employing Exploratory Data Analysis (EDA) and automated feature engineering tool **Autofeat** for hourly climate data originating from Brazil.\n",
        "\n",
        "Feature engineering plays a crucial role in enhancing the performance of machine learning models by either creating new features or refining existing ones. The dataset contains various meteorological indicators like temperature, humidity, wind speed, and precipitation, documented at regular intervals. The main goal is to derive meaningful features that effectively capture the complex dynamics inherent in Brazil's weather patterns using the tools mentioned.\n",
        "\n",
        "This exploration involves integrating Autofeat, a feature engineering tool, to automate the selection and generation of impactful features, thereby optimizing machine learning models. Alongside Autofeat, integrating EDA provides a comprehensive overview of the data's structure, distributions, and interrelationships among variables. This deeper understanding of the dataset precedes the feature engineering process.\n",
        "\n",
        "---\n",
        "\n"
      ]
    },
    {
      "cell_type": "markdown",
      "metadata": {
        "id": "s58sfhcgW9RZ"
      },
      "source": [
        "# 2. Loading Dataset"
      ]
    },
    {
      "cell_type": "markdown",
      "metadata": {
        "id": "NT5Dk_5Qrf85"
      },
      "source": [
        "## Import Libraries"
      ]
    },
    {
      "cell_type": "code",
      "execution_count": null,
      "metadata": {
        "colab": {
          "base_uri": "https://localhost:8080/",
          "height": 90
        },
        "id": "hngL9IIY1DKd",
        "outputId": "72d5fdab-7f60-4847-a608-e12ab1b85284"
      },
      "outputs": [
        {
          "output_type": "display_data",
          "data": {
            "text/plain": [
              "<IPython.core.display.HTML object>"
            ],
            "text/html": [
              "\n",
              "     <input type=\"file\" id=\"files-5bbf1ef4-3082-43f6-9d51-474214baf5e0\" name=\"files[]\" multiple disabled\n",
              "        style=\"border:none\" />\n",
              "     <output id=\"result-5bbf1ef4-3082-43f6-9d51-474214baf5e0\">\n",
              "      Upload widget is only available when the cell has been executed in the\n",
              "      current browser session. Please rerun this cell to enable.\n",
              "      </output>\n",
              "      <script>// Copyright 2017 Google LLC\n",
              "//\n",
              "// Licensed under the Apache License, Version 2.0 (the \"License\");\n",
              "// you may not use this file except in compliance with the License.\n",
              "// You may obtain a copy of the License at\n",
              "//\n",
              "//      http://www.apache.org/licenses/LICENSE-2.0\n",
              "//\n",
              "// Unless required by applicable law or agreed to in writing, software\n",
              "// distributed under the License is distributed on an \"AS IS\" BASIS,\n",
              "// WITHOUT WARRANTIES OR CONDITIONS OF ANY KIND, either express or implied.\n",
              "// See the License for the specific language governing permissions and\n",
              "// limitations under the License.\n",
              "\n",
              "/**\n",
              " * @fileoverview Helpers for google.colab Python module.\n",
              " */\n",
              "(function(scope) {\n",
              "function span(text, styleAttributes = {}) {\n",
              "  const element = document.createElement('span');\n",
              "  element.textContent = text;\n",
              "  for (const key of Object.keys(styleAttributes)) {\n",
              "    element.style[key] = styleAttributes[key];\n",
              "  }\n",
              "  return element;\n",
              "}\n",
              "\n",
              "// Max number of bytes which will be uploaded at a time.\n",
              "const MAX_PAYLOAD_SIZE = 100 * 1024;\n",
              "\n",
              "function _uploadFiles(inputId, outputId) {\n",
              "  const steps = uploadFilesStep(inputId, outputId);\n",
              "  const outputElement = document.getElementById(outputId);\n",
              "  // Cache steps on the outputElement to make it available for the next call\n",
              "  // to uploadFilesContinue from Python.\n",
              "  outputElement.steps = steps;\n",
              "\n",
              "  return _uploadFilesContinue(outputId);\n",
              "}\n",
              "\n",
              "// This is roughly an async generator (not supported in the browser yet),\n",
              "// where there are multiple asynchronous steps and the Python side is going\n",
              "// to poll for completion of each step.\n",
              "// This uses a Promise to block the python side on completion of each step,\n",
              "// then passes the result of the previous step as the input to the next step.\n",
              "function _uploadFilesContinue(outputId) {\n",
              "  const outputElement = document.getElementById(outputId);\n",
              "  const steps = outputElement.steps;\n",
              "\n",
              "  const next = steps.next(outputElement.lastPromiseValue);\n",
              "  return Promise.resolve(next.value.promise).then((value) => {\n",
              "    // Cache the last promise value to make it available to the next\n",
              "    // step of the generator.\n",
              "    outputElement.lastPromiseValue = value;\n",
              "    return next.value.response;\n",
              "  });\n",
              "}\n",
              "\n",
              "/**\n",
              " * Generator function which is called between each async step of the upload\n",
              " * process.\n",
              " * @param {string} inputId Element ID of the input file picker element.\n",
              " * @param {string} outputId Element ID of the output display.\n",
              " * @return {!Iterable<!Object>} Iterable of next steps.\n",
              " */\n",
              "function* uploadFilesStep(inputId, outputId) {\n",
              "  const inputElement = document.getElementById(inputId);\n",
              "  inputElement.disabled = false;\n",
              "\n",
              "  const outputElement = document.getElementById(outputId);\n",
              "  outputElement.innerHTML = '';\n",
              "\n",
              "  const pickedPromise = new Promise((resolve) => {\n",
              "    inputElement.addEventListener('change', (e) => {\n",
              "      resolve(e.target.files);\n",
              "    });\n",
              "  });\n",
              "\n",
              "  const cancel = document.createElement('button');\n",
              "  inputElement.parentElement.appendChild(cancel);\n",
              "  cancel.textContent = 'Cancel upload';\n",
              "  const cancelPromise = new Promise((resolve) => {\n",
              "    cancel.onclick = () => {\n",
              "      resolve(null);\n",
              "    };\n",
              "  });\n",
              "\n",
              "  // Wait for the user to pick the files.\n",
              "  const files = yield {\n",
              "    promise: Promise.race([pickedPromise, cancelPromise]),\n",
              "    response: {\n",
              "      action: 'starting',\n",
              "    }\n",
              "  };\n",
              "\n",
              "  cancel.remove();\n",
              "\n",
              "  // Disable the input element since further picks are not allowed.\n",
              "  inputElement.disabled = true;\n",
              "\n",
              "  if (!files) {\n",
              "    return {\n",
              "      response: {\n",
              "        action: 'complete',\n",
              "      }\n",
              "    };\n",
              "  }\n",
              "\n",
              "  for (const file of files) {\n",
              "    const li = document.createElement('li');\n",
              "    li.append(span(file.name, {fontWeight: 'bold'}));\n",
              "    li.append(span(\n",
              "        `(${file.type || 'n/a'}) - ${file.size} bytes, ` +\n",
              "        `last modified: ${\n",
              "            file.lastModifiedDate ? file.lastModifiedDate.toLocaleDateString() :\n",
              "                                    'n/a'} - `));\n",
              "    const percent = span('0% done');\n",
              "    li.appendChild(percent);\n",
              "\n",
              "    outputElement.appendChild(li);\n",
              "\n",
              "    const fileDataPromise = new Promise((resolve) => {\n",
              "      const reader = new FileReader();\n",
              "      reader.onload = (e) => {\n",
              "        resolve(e.target.result);\n",
              "      };\n",
              "      reader.readAsArrayBuffer(file);\n",
              "    });\n",
              "    // Wait for the data to be ready.\n",
              "    let fileData = yield {\n",
              "      promise: fileDataPromise,\n",
              "      response: {\n",
              "        action: 'continue',\n",
              "      }\n",
              "    };\n",
              "\n",
              "    // Use a chunked sending to avoid message size limits. See b/62115660.\n",
              "    let position = 0;\n",
              "    do {\n",
              "      const length = Math.min(fileData.byteLength - position, MAX_PAYLOAD_SIZE);\n",
              "      const chunk = new Uint8Array(fileData, position, length);\n",
              "      position += length;\n",
              "\n",
              "      const base64 = btoa(String.fromCharCode.apply(null, chunk));\n",
              "      yield {\n",
              "        response: {\n",
              "          action: 'append',\n",
              "          file: file.name,\n",
              "          data: base64,\n",
              "        },\n",
              "      };\n",
              "\n",
              "      let percentDone = fileData.byteLength === 0 ?\n",
              "          100 :\n",
              "          Math.round((position / fileData.byteLength) * 100);\n",
              "      percent.textContent = `${percentDone}% done`;\n",
              "\n",
              "    } while (position < fileData.byteLength);\n",
              "  }\n",
              "\n",
              "  // All done.\n",
              "  yield {\n",
              "    response: {\n",
              "      action: 'complete',\n",
              "    }\n",
              "  };\n",
              "}\n",
              "\n",
              "scope.google = scope.google || {};\n",
              "scope.google.colab = scope.google.colab || {};\n",
              "scope.google.colab._files = {\n",
              "  _uploadFiles,\n",
              "  _uploadFilesContinue,\n",
              "};\n",
              "})(self);\n",
              "</script> "
            ]
          },
          "metadata": {}
        },
        {
          "output_type": "stream",
          "name": "stdout",
          "text": [
            "Saving kaggle.json to kaggle (2).json\n"
          ]
        },
        {
          "output_type": "execute_result",
          "data": {
            "text/plain": [
              "{'kaggle (2).json': b'{\"username\":\"alyabalqiss\",\"key\":\"499ea417c14b12ac079d5239325e8609\"}'}"
            ]
          },
          "metadata": {},
          "execution_count": 1
        }
      ],
      "source": [
        "from  google.colab import files\n",
        "files.upload()"
      ]
    },
    {
      "cell_type": "markdown",
      "metadata": {
        "id": "-_owHhV0rnZ6"
      },
      "source": [
        "- **'google.colab import files'** - imports the necessary function to upload files in Colab.\n",
        "\n",
        "- **'files.upload()'** - initiates a file upload dialog box, enabling users to choose and upload files directly into the Colab notebook.\n",
        "\n",
        "After running the cell with the code above, it will prompt the user to upload files. Navigate to the intended file(s) for upload, select them, and click \"Open\".\n",
        "\n",
        "The uploaded files will be stored in the uploaded dictionary, where the keys are the file names and the values are the file contents. Further process or  actions can be performed with these files as needed within the Colab notebook."
      ]
    },
    {
      "cell_type": "markdown",
      "metadata": {
        "id": "2WVAoAoXrsIo"
      },
      "source": [
        "## Uploading Dataset using Kaggle API\n",
        " The process involves setting up Kaggle credentials on Google Colab to enable interaction with the Kaggle API for dataset downloads.  This process enables users to access datasets without the need to download them manually, particularly beneficial for handling large datasets."
      ]
    },
    {
      "cell_type": "code",
      "execution_count": null,
      "metadata": {
        "colab": {
          "base_uri": "https://localhost:8080/"
        },
        "id": "3-sNFMqE1FdO",
        "outputId": "8e0c98b5-f84e-4d6b-d32b-37e81284ec3e"
      },
      "outputs": [
        {
          "output_type": "stream",
          "name": "stdout",
          "text": [
            "Requirement already satisfied: kaggle in /usr/local/lib/python3.10/dist-packages (1.5.16)\n",
            "Requirement already satisfied: six>=1.10 in /usr/local/lib/python3.10/dist-packages (from kaggle) (1.16.0)\n",
            "Requirement already satisfied: certifi in /usr/local/lib/python3.10/dist-packages (from kaggle) (2023.7.22)\n",
            "Requirement already satisfied: python-dateutil in /usr/local/lib/python3.10/dist-packages (from kaggle) (2.8.2)\n",
            "Requirement already satisfied: requests in /usr/local/lib/python3.10/dist-packages (from kaggle) (2.31.0)\n",
            "Requirement already satisfied: tqdm in /usr/local/lib/python3.10/dist-packages (from kaggle) (4.66.1)\n",
            "Requirement already satisfied: python-slugify in /usr/local/lib/python3.10/dist-packages (from kaggle) (8.0.1)\n",
            "Requirement already satisfied: urllib3 in /usr/local/lib/python3.10/dist-packages (from kaggle) (2.0.7)\n",
            "Requirement already satisfied: bleach in /usr/local/lib/python3.10/dist-packages (from kaggle) (6.1.0)\n",
            "Requirement already satisfied: webencodings in /usr/local/lib/python3.10/dist-packages (from bleach->kaggle) (0.5.1)\n",
            "Requirement already satisfied: text-unidecode>=1.3 in /usr/local/lib/python3.10/dist-packages (from python-slugify->kaggle) (1.3)\n",
            "Requirement already satisfied: charset-normalizer<4,>=2 in /usr/local/lib/python3.10/dist-packages (from requests->kaggle) (3.3.2)\n",
            "Requirement already satisfied: idna<4,>=2.5 in /usr/local/lib/python3.10/dist-packages (from requests->kaggle) (3.4)\n"
          ]
        }
      ],
      "source": [
        "!pip install kaggle # 1. Install the Kaggle Package\n",
        "!mkdir -p ~/.kaggle # 2. Create a Kaggle Directory\n",
        "!cp kaggle.json ~/.kaggle/ #3. Upload the Kaggle API Token\n",
        "!chmod 600 ~/.kaggle/kaggle.json #4. Set File Permission"
      ]
    },
    {
      "cell_type": "markdown",
      "metadata": {
        "id": "CB4kt-uXsieW"
      },
      "source": [
        "**Download the dataset**"
      ]
    },
    {
      "cell_type": "code",
      "execution_count": null,
      "metadata": {
        "colab": {
          "base_uri": "https://localhost:8080/"
        },
        "id": "GHa865Ty1XJv",
        "outputId": "af9144bd-5b2a-4bfe-c38f-de762eeb80e2"
      },
      "outputs": [
        {
          "output_type": "stream",
          "name": "stdout",
          "text": [
            "hourly-weather-surface-brazil-southeast-region.zip: Skipping, found more recently modified local copy (use --force to force download)\n"
          ]
        }
      ],
      "source": [
        "!kaggle datasets download PROPPG-PPG/hourly-weather-surface-brazil-southeast-region"
      ]
    },
    {
      "cell_type": "markdown",
      "metadata": {
        "id": "GUS4ygGCsrqm"
      },
      "source": [
        "**Unzip the downloaded dataset**"
      ]
    },
    {
      "cell_type": "code",
      "execution_count": null,
      "metadata": {
        "colab": {
          "base_uri": "https://localhost:8080/"
        },
        "id": "2aBRVf531cuM",
        "outputId": "906050f5-d932-4cfe-fd71-83a7448b1b78"
      },
      "outputs": [
        {
          "output_type": "stream",
          "name": "stdout",
          "text": [
            "Archive:  hourly-weather-surface-brazil-southeast-region.zip\n",
            "replace central_west.csv? [y]es, [n]o, [A]ll, [N]one, [r]ename: "
          ]
        }
      ],
      "source": [
        "!unzip hourly-weather-surface-brazil-southeast-region.zip"
      ]
    },
    {
      "cell_type": "markdown",
      "metadata": {
        "id": "JmYfHr1otZ8w"
      },
      "source": [
        "## Import Pandas Libraries and Dataset"
      ]
    },
    {
      "cell_type": "code",
      "execution_count": null,
      "metadata": {
        "id": "dnu-GCmT1lVf"
      },
      "outputs": [],
      "source": [
        "import pandas as pd\n",
        "df = pd.read_csv('central_west.csv')"
      ]
    },
    {
      "cell_type": "markdown",
      "metadata": {
        "id": "Ptroy1B8tdAQ"
      },
      "source": [
        "This code reads the CSV file named **central_west.csv** (assuming it is one of the files within the unzipped dataset) into a Pandas DataFrame named df."
      ]
    },
    {
      "cell_type": "markdown",
      "metadata": {
        "id": "CuDOPNXau4xt"
      },
      "source": [
        "### Data Summary\n",
        "Display the first few rows of a DataFrame using **df.head()**. This is helpful for quickly examining the structure and content of the dataset. By default, it shows the first 5 rows of the DataFrame."
      ]
    },
    {
      "cell_type": "code",
      "execution_count": null,
      "metadata": {
        "colab": {
          "base_uri": "https://localhost:8080/",
          "height": 516
        },
        "id": "Y-j1mXWC5BxK",
        "outputId": "a38a74e8-3ec4-4a8c-c0ab-b919b73e2c88"
      },
      "outputs": [
        {
          "data": {
            "text/html": [
              "\n",
              "  <div id=\"df-196908af-c880-43ba-91ea-82d33b0ce910\" class=\"colab-df-container\">\n",
              "    <div>\n",
              "<style scoped>\n",
              "    .dataframe tbody tr th:only-of-type {\n",
              "        vertical-align: middle;\n",
              "    }\n",
              "\n",
              "    .dataframe tbody tr th {\n",
              "        vertical-align: top;\n",
              "    }\n",
              "\n",
              "    .dataframe thead th {\n",
              "        text-align: right;\n",
              "    }\n",
              "</style>\n",
              "<table border=\"1\" class=\"dataframe\">\n",
              "  <thead>\n",
              "    <tr style=\"text-align: right;\">\n",
              "      <th></th>\n",
              "      <th>index</th>\n",
              "      <th>Data</th>\n",
              "      <th>Hora</th>\n",
              "      <th>PRECIPITAÇÃO TOTAL, HORÁRIO (mm)</th>\n",
              "      <th>PRESSAO ATMOSFERICA AO NIVEL DA ESTACAO, HORARIA (mB)</th>\n",
              "      <th>PRESSÃO ATMOSFERICA MAX.NA HORA ANT. (AUT) (mB)</th>\n",
              "      <th>PRESSÃO ATMOSFERICA MIN. NA HORA ANT. (AUT) (mB)</th>\n",
              "      <th>RADIACAO GLOBAL (Kj/m²)</th>\n",
              "      <th>TEMPERATURA DO AR - BULBO SECO, HORARIA (°C)</th>\n",
              "      <th>TEMPERATURA DO PONTO DE ORVALHO (°C)</th>\n",
              "      <th>...</th>\n",
              "      <th>VENTO, DIREÇÃO HORARIA (gr) (° (gr))</th>\n",
              "      <th>VENTO, RAJADA MAXIMA (m/s)</th>\n",
              "      <th>VENTO, VELOCIDADE HORARIA (m/s)</th>\n",
              "      <th>region</th>\n",
              "      <th>state</th>\n",
              "      <th>station</th>\n",
              "      <th>station_code</th>\n",
              "      <th>latitude</th>\n",
              "      <th>longitude</th>\n",
              "      <th>height</th>\n",
              "    </tr>\n",
              "  </thead>\n",
              "  <tbody>\n",
              "    <tr>\n",
              "      <th>0</th>\n",
              "      <td>138998</td>\n",
              "      <td>2017-12-20</td>\n",
              "      <td>14:00</td>\n",
              "      <td>0.0</td>\n",
              "      <td>899.6</td>\n",
              "      <td>900.0</td>\n",
              "      <td>899.6</td>\n",
              "      <td>3391</td>\n",
              "      <td>26.5</td>\n",
              "      <td>17.7</td>\n",
              "      <td>...</td>\n",
              "      <td>39</td>\n",
              "      <td>9.6</td>\n",
              "      <td>3.9</td>\n",
              "      <td>CO</td>\n",
              "      <td>DF</td>\n",
              "      <td>PARANOA (COOPA-DF)</td>\n",
              "      <td>A047</td>\n",
              "      <td>-16.011111</td>\n",
              "      <td>-47.5575</td>\n",
              "      <td>1043.0</td>\n",
              "    </tr>\n",
              "    <tr>\n",
              "      <th>1</th>\n",
              "      <td>138999</td>\n",
              "      <td>2017-12-20</td>\n",
              "      <td>15:00</td>\n",
              "      <td>0.0</td>\n",
              "      <td>899.2</td>\n",
              "      <td>899.6</td>\n",
              "      <td>899.2</td>\n",
              "      <td>3306</td>\n",
              "      <td>26.6</td>\n",
              "      <td>16.7</td>\n",
              "      <td>...</td>\n",
              "      <td>55</td>\n",
              "      <td>8.3</td>\n",
              "      <td>3.4</td>\n",
              "      <td>CO</td>\n",
              "      <td>DF</td>\n",
              "      <td>PARANOA (COOPA-DF)</td>\n",
              "      <td>A047</td>\n",
              "      <td>-16.011111</td>\n",
              "      <td>-47.5575</td>\n",
              "      <td>1043.0</td>\n",
              "    </tr>\n",
              "    <tr>\n",
              "      <th>2</th>\n",
              "      <td>139000</td>\n",
              "      <td>2017-12-20</td>\n",
              "      <td>16:00</td>\n",
              "      <td>0.0</td>\n",
              "      <td>898.6</td>\n",
              "      <td>899.2</td>\n",
              "      <td>898.6</td>\n",
              "      <td>3167</td>\n",
              "      <td>27.3</td>\n",
              "      <td>15.8</td>\n",
              "      <td>...</td>\n",
              "      <td>62</td>\n",
              "      <td>8.3</td>\n",
              "      <td>3.6</td>\n",
              "      <td>CO</td>\n",
              "      <td>DF</td>\n",
              "      <td>PARANOA (COOPA-DF)</td>\n",
              "      <td>A047</td>\n",
              "      <td>-16.011111</td>\n",
              "      <td>-47.5575</td>\n",
              "      <td>1043.0</td>\n",
              "    </tr>\n",
              "    <tr>\n",
              "      <th>3</th>\n",
              "      <td>139001</td>\n",
              "      <td>2017-12-20</td>\n",
              "      <td>17:00</td>\n",
              "      <td>0.0</td>\n",
              "      <td>897.7</td>\n",
              "      <td>898.6</td>\n",
              "      <td>897.7</td>\n",
              "      <td>3279</td>\n",
              "      <td>27.5</td>\n",
              "      <td>12.9</td>\n",
              "      <td>...</td>\n",
              "      <td>43</td>\n",
              "      <td>6.7</td>\n",
              "      <td>3.1</td>\n",
              "      <td>CO</td>\n",
              "      <td>DF</td>\n",
              "      <td>PARANOA (COOPA-DF)</td>\n",
              "      <td>A047</td>\n",
              "      <td>-16.011111</td>\n",
              "      <td>-47.5575</td>\n",
              "      <td>1043.0</td>\n",
              "    </tr>\n",
              "    <tr>\n",
              "      <th>4</th>\n",
              "      <td>139002</td>\n",
              "      <td>2017-12-20</td>\n",
              "      <td>18:00</td>\n",
              "      <td>0.0</td>\n",
              "      <td>897.0</td>\n",
              "      <td>897.7</td>\n",
              "      <td>897.0</td>\n",
              "      <td>2753</td>\n",
              "      <td>27.5</td>\n",
              "      <td>13.7</td>\n",
              "      <td>...</td>\n",
              "      <td>98</td>\n",
              "      <td>6.4</td>\n",
              "      <td>3.5</td>\n",
              "      <td>CO</td>\n",
              "      <td>DF</td>\n",
              "      <td>PARANOA (COOPA-DF)</td>\n",
              "      <td>A047</td>\n",
              "      <td>-16.011111</td>\n",
              "      <td>-47.5575</td>\n",
              "      <td>1043.0</td>\n",
              "    </tr>\n",
              "  </tbody>\n",
              "</table>\n",
              "<p>5 rows × 27 columns</p>\n",
              "</div>\n",
              "    <div class=\"colab-df-buttons\">\n",
              "\n",
              "  <div class=\"colab-df-container\">\n",
              "    <button class=\"colab-df-convert\" onclick=\"convertToInteractive('df-196908af-c880-43ba-91ea-82d33b0ce910')\"\n",
              "            title=\"Convert this dataframe to an interactive table.\"\n",
              "            style=\"display:none;\">\n",
              "\n",
              "  <svg xmlns=\"http://www.w3.org/2000/svg\" height=\"24px\" viewBox=\"0 -960 960 960\">\n",
              "    <path d=\"M120-120v-720h720v720H120Zm60-500h600v-160H180v160Zm220 220h160v-160H400v160Zm0 220h160v-160H400v160ZM180-400h160v-160H180v160Zm440 0h160v-160H620v160ZM180-180h160v-160H180v160Zm440 0h160v-160H620v160Z\"/>\n",
              "  </svg>\n",
              "    </button>\n",
              "\n",
              "  <style>\n",
              "    .colab-df-container {\n",
              "      display:flex;\n",
              "      gap: 12px;\n",
              "    }\n",
              "\n",
              "    .colab-df-convert {\n",
              "      background-color: #E8F0FE;\n",
              "      border: none;\n",
              "      border-radius: 50%;\n",
              "      cursor: pointer;\n",
              "      display: none;\n",
              "      fill: #1967D2;\n",
              "      height: 32px;\n",
              "      padding: 0 0 0 0;\n",
              "      width: 32px;\n",
              "    }\n",
              "\n",
              "    .colab-df-convert:hover {\n",
              "      background-color: #E2EBFA;\n",
              "      box-shadow: 0px 1px 2px rgba(60, 64, 67, 0.3), 0px 1px 3px 1px rgba(60, 64, 67, 0.15);\n",
              "      fill: #174EA6;\n",
              "    }\n",
              "\n",
              "    .colab-df-buttons div {\n",
              "      margin-bottom: 4px;\n",
              "    }\n",
              "\n",
              "    [theme=dark] .colab-df-convert {\n",
              "      background-color: #3B4455;\n",
              "      fill: #D2E3FC;\n",
              "    }\n",
              "\n",
              "    [theme=dark] .colab-df-convert:hover {\n",
              "      background-color: #434B5C;\n",
              "      box-shadow: 0px 1px 3px 1px rgba(0, 0, 0, 0.15);\n",
              "      filter: drop-shadow(0px 1px 2px rgba(0, 0, 0, 0.3));\n",
              "      fill: #FFFFFF;\n",
              "    }\n",
              "  </style>\n",
              "\n",
              "    <script>\n",
              "      const buttonEl =\n",
              "        document.querySelector('#df-196908af-c880-43ba-91ea-82d33b0ce910 button.colab-df-convert');\n",
              "      buttonEl.style.display =\n",
              "        google.colab.kernel.accessAllowed ? 'block' : 'none';\n",
              "\n",
              "      async function convertToInteractive(key) {\n",
              "        const element = document.querySelector('#df-196908af-c880-43ba-91ea-82d33b0ce910');\n",
              "        const dataTable =\n",
              "          await google.colab.kernel.invokeFunction('convertToInteractive',\n",
              "                                                    [key], {});\n",
              "        if (!dataTable) return;\n",
              "\n",
              "        const docLinkHtml = 'Like what you see? Visit the ' +\n",
              "          '<a target=\"_blank\" href=https://colab.research.google.com/notebooks/data_table.ipynb>data table notebook</a>'\n",
              "          + ' to learn more about interactive tables.';\n",
              "        element.innerHTML = '';\n",
              "        dataTable['output_type'] = 'display_data';\n",
              "        await google.colab.output.renderOutput(dataTable, element);\n",
              "        const docLink = document.createElement('div');\n",
              "        docLink.innerHTML = docLinkHtml;\n",
              "        element.appendChild(docLink);\n",
              "      }\n",
              "    </script>\n",
              "  </div>\n",
              "\n",
              "\n",
              "<div id=\"df-144a6920-17da-4dd1-8227-6d1a17645794\">\n",
              "  <button class=\"colab-df-quickchart\" onclick=\"quickchart('df-144a6920-17da-4dd1-8227-6d1a17645794')\"\n",
              "            title=\"Suggest charts\"\n",
              "            style=\"display:none;\">\n",
              "\n",
              "<svg xmlns=\"http://www.w3.org/2000/svg\" height=\"24px\"viewBox=\"0 0 24 24\"\n",
              "     width=\"24px\">\n",
              "    <g>\n",
              "        <path d=\"M19 3H5c-1.1 0-2 .9-2 2v14c0 1.1.9 2 2 2h14c1.1 0 2-.9 2-2V5c0-1.1-.9-2-2-2zM9 17H7v-7h2v7zm4 0h-2V7h2v10zm4 0h-2v-4h2v4z\"/>\n",
              "    </g>\n",
              "</svg>\n",
              "  </button>\n",
              "\n",
              "<style>\n",
              "  .colab-df-quickchart {\n",
              "      --bg-color: #E8F0FE;\n",
              "      --fill-color: #1967D2;\n",
              "      --hover-bg-color: #E2EBFA;\n",
              "      --hover-fill-color: #174EA6;\n",
              "      --disabled-fill-color: #AAA;\n",
              "      --disabled-bg-color: #DDD;\n",
              "  }\n",
              "\n",
              "  [theme=dark] .colab-df-quickchart {\n",
              "      --bg-color: #3B4455;\n",
              "      --fill-color: #D2E3FC;\n",
              "      --hover-bg-color: #434B5C;\n",
              "      --hover-fill-color: #FFFFFF;\n",
              "      --disabled-bg-color: #3B4455;\n",
              "      --disabled-fill-color: #666;\n",
              "  }\n",
              "\n",
              "  .colab-df-quickchart {\n",
              "    background-color: var(--bg-color);\n",
              "    border: none;\n",
              "    border-radius: 50%;\n",
              "    cursor: pointer;\n",
              "    display: none;\n",
              "    fill: var(--fill-color);\n",
              "    height: 32px;\n",
              "    padding: 0;\n",
              "    width: 32px;\n",
              "  }\n",
              "\n",
              "  .colab-df-quickchart:hover {\n",
              "    background-color: var(--hover-bg-color);\n",
              "    box-shadow: 0 1px 2px rgba(60, 64, 67, 0.3), 0 1px 3px 1px rgba(60, 64, 67, 0.15);\n",
              "    fill: var(--button-hover-fill-color);\n",
              "  }\n",
              "\n",
              "  .colab-df-quickchart-complete:disabled,\n",
              "  .colab-df-quickchart-complete:disabled:hover {\n",
              "    background-color: var(--disabled-bg-color);\n",
              "    fill: var(--disabled-fill-color);\n",
              "    box-shadow: none;\n",
              "  }\n",
              "\n",
              "  .colab-df-spinner {\n",
              "    border: 2px solid var(--fill-color);\n",
              "    border-color: transparent;\n",
              "    border-bottom-color: var(--fill-color);\n",
              "    animation:\n",
              "      spin 1s steps(1) infinite;\n",
              "  }\n",
              "\n",
              "  @keyframes spin {\n",
              "    0% {\n",
              "      border-color: transparent;\n",
              "      border-bottom-color: var(--fill-color);\n",
              "      border-left-color: var(--fill-color);\n",
              "    }\n",
              "    20% {\n",
              "      border-color: transparent;\n",
              "      border-left-color: var(--fill-color);\n",
              "      border-top-color: var(--fill-color);\n",
              "    }\n",
              "    30% {\n",
              "      border-color: transparent;\n",
              "      border-left-color: var(--fill-color);\n",
              "      border-top-color: var(--fill-color);\n",
              "      border-right-color: var(--fill-color);\n",
              "    }\n",
              "    40% {\n",
              "      border-color: transparent;\n",
              "      border-right-color: var(--fill-color);\n",
              "      border-top-color: var(--fill-color);\n",
              "    }\n",
              "    60% {\n",
              "      border-color: transparent;\n",
              "      border-right-color: var(--fill-color);\n",
              "    }\n",
              "    80% {\n",
              "      border-color: transparent;\n",
              "      border-right-color: var(--fill-color);\n",
              "      border-bottom-color: var(--fill-color);\n",
              "    }\n",
              "    90% {\n",
              "      border-color: transparent;\n",
              "      border-bottom-color: var(--fill-color);\n",
              "    }\n",
              "  }\n",
              "</style>\n",
              "\n",
              "  <script>\n",
              "    async function quickchart(key) {\n",
              "      const quickchartButtonEl =\n",
              "        document.querySelector('#' + key + ' button');\n",
              "      quickchartButtonEl.disabled = true;  // To prevent multiple clicks.\n",
              "      quickchartButtonEl.classList.add('colab-df-spinner');\n",
              "      try {\n",
              "        const charts = await google.colab.kernel.invokeFunction(\n",
              "            'suggestCharts', [key], {});\n",
              "      } catch (error) {\n",
              "        console.error('Error during call to suggestCharts:', error);\n",
              "      }\n",
              "      quickchartButtonEl.classList.remove('colab-df-spinner');\n",
              "      quickchartButtonEl.classList.add('colab-df-quickchart-complete');\n",
              "    }\n",
              "    (() => {\n",
              "      let quickchartButtonEl =\n",
              "        document.querySelector('#df-144a6920-17da-4dd1-8227-6d1a17645794 button');\n",
              "      quickchartButtonEl.style.display =\n",
              "        google.colab.kernel.accessAllowed ? 'block' : 'none';\n",
              "    })();\n",
              "  </script>\n",
              "</div>\n",
              "    </div>\n",
              "  </div>\n"
            ],
            "text/plain": [
              "    index        Data   Hora  PRECIPITAÇÃO TOTAL, HORÁRIO (mm)  \\\n",
              "0  138998  2017-12-20  14:00                               0.0   \n",
              "1  138999  2017-12-20  15:00                               0.0   \n",
              "2  139000  2017-12-20  16:00                               0.0   \n",
              "3  139001  2017-12-20  17:00                               0.0   \n",
              "4  139002  2017-12-20  18:00                               0.0   \n",
              "\n",
              "   PRESSAO ATMOSFERICA AO NIVEL DA ESTACAO, HORARIA (mB)  \\\n",
              "0                                              899.6       \n",
              "1                                              899.2       \n",
              "2                                              898.6       \n",
              "3                                              897.7       \n",
              "4                                              897.0       \n",
              "\n",
              "   PRESSÃO ATMOSFERICA MAX.NA HORA ANT. (AUT) (mB)  \\\n",
              "0                                            900.0   \n",
              "1                                            899.6   \n",
              "2                                            899.2   \n",
              "3                                            898.6   \n",
              "4                                            897.7   \n",
              "\n",
              "   PRESSÃO ATMOSFERICA MIN. NA HORA ANT. (AUT) (mB)  RADIACAO GLOBAL (Kj/m²)  \\\n",
              "0                                             899.6                     3391   \n",
              "1                                             899.2                     3306   \n",
              "2                                             898.6                     3167   \n",
              "3                                             897.7                     3279   \n",
              "4                                             897.0                     2753   \n",
              "\n",
              "   TEMPERATURA DO AR - BULBO SECO, HORARIA (°C)  \\\n",
              "0                                          26.5   \n",
              "1                                          26.6   \n",
              "2                                          27.3   \n",
              "3                                          27.5   \n",
              "4                                          27.5   \n",
              "\n",
              "   TEMPERATURA DO PONTO DE ORVALHO (°C)  ...  \\\n",
              "0                                  17.7  ...   \n",
              "1                                  16.7  ...   \n",
              "2                                  15.8  ...   \n",
              "3                                  12.9  ...   \n",
              "4                                  13.7  ...   \n",
              "\n",
              "   VENTO, DIREÇÃO HORARIA (gr) (° (gr))  VENTO, RAJADA MAXIMA (m/s)  \\\n",
              "0                                    39                         9.6   \n",
              "1                                    55                         8.3   \n",
              "2                                    62                         8.3   \n",
              "3                                    43                         6.7   \n",
              "4                                    98                         6.4   \n",
              "\n",
              "   VENTO, VELOCIDADE HORARIA (m/s)  region  state             station  \\\n",
              "0                              3.9      CO     DF  PARANOA (COOPA-DF)   \n",
              "1                              3.4      CO     DF  PARANOA (COOPA-DF)   \n",
              "2                              3.6      CO     DF  PARANOA (COOPA-DF)   \n",
              "3                              3.1      CO     DF  PARANOA (COOPA-DF)   \n",
              "4                              3.5      CO     DF  PARANOA (COOPA-DF)   \n",
              "\n",
              "   station_code   latitude  longitude  height  \n",
              "0          A047 -16.011111   -47.5575  1043.0  \n",
              "1          A047 -16.011111   -47.5575  1043.0  \n",
              "2          A047 -16.011111   -47.5575  1043.0  \n",
              "3          A047 -16.011111   -47.5575  1043.0  \n",
              "4          A047 -16.011111   -47.5575  1043.0  \n",
              "\n",
              "[5 rows x 27 columns]"
            ]
          },
          "execution_count": 6,
          "metadata": {},
          "output_type": "execute_result"
        }
      ],
      "source": [
        "df.head()"
      ]
    },
    {
      "cell_type": "code",
      "execution_count": null,
      "metadata": {
        "colab": {
          "base_uri": "https://localhost:8080/"
        },
        "id": "Bb07CtqF5jew",
        "outputId": "b214c2b7-217d-4c80-c0c0-3e4a60698744"
      },
      "outputs": [
        {
          "name": "stdout",
          "output_type": "stream",
          "text": [
            "<class 'pandas.core.frame.DataFrame'>\n",
            "RangeIndex: 11427120 entries, 0 to 11427119\n",
            "Data columns (total 27 columns):\n",
            " #   Column                                                 Dtype  \n",
            "---  ------                                                 -----  \n",
            " 0   index                                                  int64  \n",
            " 1   Data                                                   object \n",
            " 2   Hora                                                   object \n",
            " 3   PRECIPITAÇÃO TOTAL, HORÁRIO (mm)                       float64\n",
            " 4   PRESSAO ATMOSFERICA AO NIVEL DA ESTACAO, HORARIA (mB)  float64\n",
            " 5   PRESSÃO ATMOSFERICA MAX.NA HORA ANT. (AUT) (mB)        float64\n",
            " 6   PRESSÃO ATMOSFERICA MIN. NA HORA ANT. (AUT) (mB)       float64\n",
            " 7   RADIACAO GLOBAL (Kj/m²)                                int64  \n",
            " 8   TEMPERATURA DO AR - BULBO SECO, HORARIA (°C)           float64\n",
            " 9   TEMPERATURA DO PONTO DE ORVALHO (°C)                   float64\n",
            " 10  TEMPERATURA MÁXIMA NA HORA ANT. (AUT) (°C)             float64\n",
            " 11  TEMPERATURA MÍNIMA NA HORA ANT. (AUT) (°C)             float64\n",
            " 12  TEMPERATURA ORVALHO MAX. NA HORA ANT. (AUT) (°C)       float64\n",
            " 13  TEMPERATURA ORVALHO MIN. NA HORA ANT. (AUT) (°C)       float64\n",
            " 14  UMIDADE REL. MAX. NA HORA ANT. (AUT) (%)               int64  \n",
            " 15  UMIDADE REL. MIN. NA HORA ANT. (AUT) (%)               int64  \n",
            " 16  UMIDADE RELATIVA DO AR, HORARIA (%)                    int64  \n",
            " 17  VENTO, DIREÇÃO HORARIA (gr) (° (gr))                   int64  \n",
            " 18  VENTO, RAJADA MAXIMA (m/s)                             float64\n",
            " 19  VENTO, VELOCIDADE HORARIA (m/s)                        float64\n",
            " 20  region                                                 object \n",
            " 21  state                                                  object \n",
            " 22  station                                                object \n",
            " 23  station_code                                           object \n",
            " 24  latitude                                               float64\n",
            " 25  longitude                                              float64\n",
            " 26  height                                                 float64\n",
            "dtypes: float64(15), int64(6), object(6)\n",
            "memory usage: 2.3+ GB\n"
          ]
        }
      ],
      "source": [
        "df.info()"
      ]
    },
    {
      "cell_type": "markdown",
      "metadata": {
        "id": "vQBXy8KMvATT"
      },
      "source": [
        "The **df.info()** function provides a concise summary of the DataFrame's information. It includes details such as the column names, data types, non-null counts, and memory usage. This function helps in understanding the dataset's structure, identifying missing values, and assessing the types of data stored in each column."
      ]
    },
    {
      "cell_type": "markdown",
      "metadata": {
        "id": "MoXxZSdkvLlx"
      },
      "source": [
        "### Number of Rows and Columns\n",
        "Display the total number of rows and columns to get insights on the data's structure."
      ]
    },
    {
      "cell_type": "code",
      "execution_count": null,
      "metadata": {
        "colab": {
          "base_uri": "https://localhost:8080/"
        },
        "id": "-A8cQfJ6iwuq",
        "outputId": "f68ce212-0558-4e17-f147-ca183d6c4516"
      },
      "outputs": [
        {
          "name": "stdout",
          "output_type": "stream",
          "text": [
            "Number of rows: 11427120\n",
            "Number of columns: 27\n"
          ]
        }
      ],
      "source": [
        "#Find the number of rows and columns\n",
        "num_rows, num_columns = df.shape\n",
        "print(f\"Number of rows: {num_rows}\")\n",
        "print(f\"Number of columns: {num_columns}\")"
      ]
    },
    {
      "cell_type": "markdown",
      "metadata": {
        "id": "fhm1N63IlwWW"
      },
      "source": [
        "\n",
        "\n",
        "---\n",
        "\n",
        "\n",
        "# Data Preprocessing\n",
        "\n"
      ]
    },
    {
      "cell_type": "markdown",
      "metadata": {
        "id": "_VhVGRt6vXXn"
      },
      "source": [
        "## Renaming the Columns\n",
        "Before proceeding with additional data preprocessing steps, it is seen that the dataset chosen **(Climate Weather Surface of Brazil - Hourly)** has several columns in the Portugese language.\n",
        "\n",
        "It is necessary to translate the dataset from Portuguese to English based on the information available on Kaggle. This translation provides a more comprehensive understanding of the dataset's contents."
      ]
    },
    {
      "cell_type": "code",
      "execution_count": null,
      "metadata": {
        "id": "RH24MX_W5lL6"
      },
      "outputs": [],
      "source": [
        "# Mapping the Portugese column names to their English equivalents\n",
        "translation_dict = {\n",
        "    'Data': 'Date',\n",
        "    'Hora': 'Time',\n",
        "    'PRECIPITAÇÃO TOTAL, HORÁRIO (mm)': 'Amount of Precipitation (mm)',\n",
        "    'PRESSAO ATMOSFERICA AO NIVEL DA ESTACAO, HORARIA (mB)': 'Atmospheric Pressure at Station Level (mB)',\n",
        "    'PRESSÃO ATMOSFERICA MAX.NA HORA ANT. (AUT) (mB)': 'MAX Air pressure for the last hour (mB)',\n",
        "    'PRESSÃO ATMOSFERICA MIN. NA HORA ANT. (AUT) (mB)': 'MIN Air pressure for the last hour (mB)',\n",
        "    'RADIACAO GLOBAL (Kj/m²)': 'Solar Radiation (KJ/m2)',\n",
        "    'TEMPERATURA DO AR - BULBO SECO, HORARIA (°C)': 'Air Temperature (instant) (°C)',\n",
        "    'TEMPERATURA DO PONTO DE ORVALHO (°C)': 'Dew Point Temperature (instant) (°C)',\n",
        "    'TEMPERATURA MÁXIMA NA HORA ANT. (AUT) (°C)': 'MAX Temperature for the last hour (°C)',\n",
        "    'TEMPERATURA MÍNIMA NA HORA ANT. (AUT) (°C)': 'MIN Temperature for the last hour (°C)',\n",
        "    'TEMPERATURA ORVALHO MAX. NA HORA ANT. (AUT) (°C)': 'MAX Dew Point Temperature for the last hour (°C)',\n",
        "    'TEMPERATURA ORVALHO MIN. NA HORA ANT. (AUT) (°C)': 'MIN Dew Point Temperature for the last hour (°C)',\n",
        "    'UMIDADE REL. MAX. NA HORA ANT. (AUT) (%)': 'MAX Relative Humid Temperature for the last hour (%)',\n",
        "    'UMIDADE REL. MIN. NA HORA ANT. (AUT) (%)': 'MIN Relative Humid Temperature for the last hour (%)',\n",
        "    'UMIDADE RELATIVA DO AR, HORARIA (%)': 'Relative Humid (instant) (%)',\n",
        "    'VENTO, DIREÇÃO HORARIA (gr) (° (gr))': 'Wind Direction (gr) (° (gr))',\n",
        "    'VENTO, RAJADA MAXIMA (m/s)': 'Wind Gust (m/s)',\n",
        "    'VENTO, VELOCIDADE HORARIA (m/s)': 'Wind Speed (m/s)'\n",
        "}\n",
        "\n",
        "# Renaming columns in the DataFrame\n",
        "df.rename(columns=translation_dict, inplace=True)"
      ]
    },
    {
      "cell_type": "markdown",
      "metadata": {
        "id": "i6EVUeD2wUAK"
      },
      "source": [
        "To see the changes, display the dataset using df.columns()."
      ]
    },
    {
      "cell_type": "code",
      "execution_count": null,
      "metadata": {
        "colab": {
          "base_uri": "https://localhost:8080/"
        },
        "id": "l0E4f4gB5mvz",
        "outputId": "625d505c-b4ae-4c62-dcad-df20b271fa0f"
      },
      "outputs": [
        {
          "output_type": "execute_result",
          "data": {
            "text/plain": [
              "Index(['index', 'Date', 'Time', 'Amount of Precipitation (mm)',\n",
              "       'Atmospheric Pressure at Station Level (mB)',\n",
              "       'MAX Air pressure for the last hour (mB)',\n",
              "       'MIN Air pressure for the last hour (mB)', 'Solar Radiation (KJ/m2)',\n",
              "       'Air Temperature (instant) (°C)',\n",
              "       'Dew Point Temperature (instant) (°C)',\n",
              "       'MAX Temperature for the last hour (°C)',\n",
              "       'MIN Temperature for the last hour (°C)',\n",
              "       'MAX Dew Point Temperature for the last hour (°C)',\n",
              "       'MIN Dew Point Temperature for the last hour (°C)',\n",
              "       'MAX Relative Humid Temperature for the last hour (%)',\n",
              "       'MIN Relative Humid Temperature for the last hour (%)',\n",
              "       'Relative Humid (instant) (%)', 'Wind Direction (gr) (° (gr))',\n",
              "       'Wind Gust (m/s)', 'Wind Speed (m/s)', 'region', 'state', 'station',\n",
              "       'station_code', 'latitude', 'longitude', 'height'],\n",
              "      dtype='object')"
            ]
          },
          "metadata": {},
          "execution_count": 3
        }
      ],
      "source": [
        "df.columns"
      ]
    },
    {
      "cell_type": "markdown",
      "metadata": {
        "id": "B4gaHrh0waSo"
      },
      "source": [
        "## Replacing Negative Values\n",
        "Given that the dataset contains negative values of 9999 (-9999) within specific columns related to weather parameters, it's imperative to replace these negative values with zeros. This decision stems from the understanding that certain weather-related measurements, such as temperature, humidity, or atmospheric pressure, should not logically have such negative values within the context of this dataset."
      ]
    },
    {
      "cell_type": "code",
      "execution_count": null,
      "metadata": {
        "id": "XWsGZxRglopM"
      },
      "outputs": [],
      "source": [
        "# Replace all occurrences of -9999 with 0 in the entire DataFrame\n",
        "df.replace(-9999, 0, inplace=True)"
      ]
    },
    {
      "cell_type": "markdown",
      "metadata": {
        "id": "p1cSO4M4wdV7"
      },
      "source": [
        "- This code snippet replaces all instances of -9999 with 0 throughout the DataFrame, effectively transforming negative placeholder values to zeros.\n",
        "\n",
        "- The negative values in these columns might signify missing data, erroneous entries, or placeholders that were inaccurately represented as negative values."
      ]
    },
    {
      "cell_type": "markdown",
      "metadata": {
        "id": "K83QyMGUwkbH"
      },
      "source": [
        "## Handling Missing Values"
      ]
    },
    {
      "cell_type": "code",
      "execution_count": null,
      "metadata": {
        "id": "MXoXO4yqi_UO"
      },
      "outputs": [],
      "source": [
        "#Handle missing values\n",
        "df = df.dropna()"
      ]
    },
    {
      "cell_type": "markdown",
      "metadata": {
        "id": "xrof4x1OwmzI"
      },
      "source": [
        "This step ensures that any rows containing NaN (missing) values across any column are removed from the DataFrame. It helps in cleaning the data by eliminating rows with incomplete information."
      ]
    },
    {
      "cell_type": "markdown",
      "metadata": {
        "id": "xmzvejgfw2Hu"
      },
      "source": [
        "## Convert Data Types"
      ]
    },
    {
      "cell_type": "code",
      "execution_count": null,
      "metadata": {
        "colab": {
          "base_uri": "https://localhost:8080/"
        },
        "id": "_FhaSxasa_Qp",
        "outputId": "6d259a36-2926-4d11-d7a8-3f78ada641fd"
      },
      "outputs": [
        {
          "name": "stdout",
          "output_type": "stream",
          "text": [
            "Updated Data Types:\n",
            "index                                                            int64\n",
            "Date                                                    datetime64[ns]\n",
            "Time                                                            object\n",
            "Amount of Precipitation (mm)                                   float64\n",
            "Atmospheric Pressure at Station Level (mB)                     float64\n",
            "MAX Air pressure for the last hour (mB)                        float64\n",
            "MIN Air pressure for the last hour (mB)                        float64\n",
            "Solar Radiation (KJ/m2)                                          int64\n",
            "Air Temperature (instant) (°C)                                 float64\n",
            "Dew Point Temperature (instant) (°C)                           float64\n",
            "MAX Temperature for the last hour (°C)                         float64\n",
            "MIN Temperature for the last hour (°C)                         float64\n",
            "MAX Dew Point Temperature for the last hour (°C)               float64\n",
            "MIN Dew Point Temperature for the last hour (°C)               float64\n",
            "MAX Relative Humid Temperature for the last hour (%)             int64\n",
            "MIN Relative Humid Temperature for the last hour (%)             int64\n",
            "Relative Humid (instant) (%)                                     int64\n",
            "Wind Direction (gr) (° (gr))                                     int64\n",
            "Wind Gust (m/s)                                                float64\n",
            "Wind Speed (m/s)                                               float64\n",
            "region                                                          object\n",
            "state                                                           object\n",
            "station                                                         object\n",
            "station_code                                                    object\n",
            "latitude                                                       float64\n",
            "longitude                                                      float64\n",
            "height                                                         float64\n",
            "Hour                                                            object\n",
            "dtype: object\n"
          ]
        }
      ],
      "source": [
        "# Convert 'Date' column to datetime format\n",
        "df['Date'] = pd.to_datetime(df['Date'], format='%Y-%m-%d')\n",
        "\n",
        "# Convert 'Hour' column to datetime format\n",
        "df['Hour'] = pd.to_datetime(df['Time'], format='%H:%M').dt.time\n",
        "\n",
        "# Display the updated data types of 'Date' and 'Hour' columns\n",
        "print(\"Updated Data Types:\")\n",
        "print(df.dtypes)"
      ]
    },
    {
      "cell_type": "markdown",
      "metadata": {
        "id": "QirdCGl0xDzT"
      },
      "source": [
        "- Converting 'Date' and 'Time' columns to datetime format ensures uniformity in data representation. It prevents inconsistencies that might arise from different formats or interpretations of dates and times.\n",
        "\n",
        "- Datetime objects also allow for easy extraction of components like day, month, year, hour, minute, etc. This makes it simpler to perform time-based operations, filtering, grouping, and aggregating data based on temporal criteria."
      ]
    },
    {
      "cell_type": "markdown",
      "metadata": {
        "id": "4IwVmSgZkxfB"
      },
      "source": [
        "---\n",
        "\n",
        "# Performing Exploratory Data Analysis (EDA)"
      ]
    },
    {
      "cell_type": "markdown",
      "metadata": {
        "id": "qvrek7aSx_HB"
      },
      "source": [
        "**1. Sum of all numeric columns**"
      ]
    },
    {
      "cell_type": "code",
      "execution_count": null,
      "metadata": {
        "colab": {
          "base_uri": "https://localhost:8080/"
        },
        "id": "jIWYLdQ3l5Si",
        "outputId": "b443ee11-243c-490b-859c-e205b99e1886"
      },
      "outputs": [
        {
          "data": {
            "text/plain": [
              "index                                                   2.011775e+12\n",
              "Amount of Precipitation (mm)                            1.488907e+06\n",
              "Atmospheric Pressure at Station Level (mB)              9.434898e+09\n",
              "MAX Air pressure for the last hour (mB)                 9.433359e+09\n",
              "MIN Air pressure for the last hour (mB)                 9.426565e+09\n",
              "Solar Radiation (KJ/m2)                                 8.294114e+09\n",
              "Air Temperature (instant) (°C)                          2.404545e+08\n",
              "Dew Point Temperature (instant) (°C)                    1.672062e+08\n",
              "MAX Temperature for the last hour (°C)                  2.474457e+08\n",
              "MIN Temperature for the last hour (°C)                  2.333363e+08\n",
              "MAX Dew Point Temperature for the last hour (°C)        1.727853e+08\n",
              "MIN Dew Point Temperature for the last hour (°C)        1.616953e+08\n",
              "MAX Relative Humid Temperature for the last hour (%)    7.031402e+08\n",
              "MIN Relative Humid Temperature for the last hour (%)    6.426778e+08\n",
              "Relative Humid (instant) (%)                            6.736613e+08\n",
              "Wind Direction (gr) (° (gr))                            1.655602e+09\n",
              "Wind Gust (m/s)                                         4.229061e+07\n",
              "Wind Speed (m/s)                                        1.667522e+07\n",
              "latitude                                               -1.925785e+08\n",
              "longitude                                              -6.126021e+08\n",
              "height                                                  5.765384e+09\n",
              "dtype: float64"
            ]
          },
          "execution_count": 14,
          "metadata": {},
          "output_type": "execute_result"
        }
      ],
      "source": [
        "#Sum all numeric columns\n",
        "sum = df.sum(numeric_only=True)\n",
        "sum"
      ]
    },
    {
      "cell_type": "markdown",
      "metadata": {
        "id": "42IFas3QyEPT"
      },
      "source": [
        "**2. Mean of all numeric columns**"
      ]
    },
    {
      "cell_type": "code",
      "execution_count": null,
      "metadata": {
        "colab": {
          "base_uri": "https://localhost:8080/"
        },
        "id": "ZI9bkIBqmGmd",
        "outputId": "d82e1516-3a00-4ce8-a6a5-39540bce2b66"
      },
      "outputs": [
        {
          "data": {
            "text/plain": [
              "index                                                   176052.691065\n",
              "Amount of Precipitation (mm)                                 0.130296\n",
              "Atmospheric Pressure at Station Level (mB)                 825.658446\n",
              "MAX Air pressure for the last hour (mB)                    825.523753\n",
              "MIN Air pressure for the last hour (mB)                    824.929211\n",
              "Solar Radiation (KJ/m2)                                    725.827197\n",
              "Air Temperature (instant) (°C)                              21.042438\n",
              "Dew Point Temperature (instant) (°C)                        14.632399\n",
              "MAX Temperature for the last hour (°C)                      21.654247\n",
              "MIN Temperature for the last hour (°C)                      20.419520\n",
              "MAX Dew Point Temperature for the last hour (°C)            15.120634\n",
              "MIN Dew Point Temperature for the last hour (°C)            14.150132\n",
              "MAX Relative Humid Temperature for the last hour (%)        61.532584\n",
              "MIN Relative Humid Temperature for the last hour (%)        56.241449\n",
              "Relative Humid (instant) (%)                                58.952854\n",
              "Wind Direction (gr) (° (gr))                               144.883535\n",
              "Wind Gust (m/s)                                              3.700899\n",
              "Wind Speed (m/s)                                             1.459268\n",
              "latitude                                                   -16.852757\n",
              "longitude                                                  -53.609488\n",
              "height                                                     504.535194\n",
              "dtype: float64"
            ]
          },
          "execution_count": 15,
          "metadata": {},
          "output_type": "execute_result"
        }
      ],
      "source": [
        "#Mean of all numeric columns\n",
        "mean = df.mean(numeric_only=True)\n",
        "mean"
      ]
    },
    {
      "cell_type": "markdown",
      "metadata": {
        "id": "LO9hzuK5yHow"
      },
      "source": [
        "**3. Minimum values of all numeric columns**"
      ]
    },
    {
      "cell_type": "code",
      "execution_count": null,
      "metadata": {
        "colab": {
          "base_uri": "https://localhost:8080/"
        },
        "id": "YoBGEGhQmOxt",
        "outputId": "2bc06db0-04b3-4cd9-ecc0-d7d92e148cd6"
      },
      "outputs": [
        {
          "data": {
            "text/plain": [
              "index                                                    0.000000\n",
              "Amount of Precipitation (mm)                             0.000000\n",
              "Atmospheric Pressure at Station Level (mB)               0.000000\n",
              "MAX Air pressure for the last hour (mB)                  0.000000\n",
              "MIN Air pressure for the last hour (mB)                  0.000000\n",
              "Solar Radiation (KJ/m2)                                  0.000000\n",
              "Air Temperature (instant) (°C)                          -9.800000\n",
              "Dew Point Temperature (instant) (°C)                   -10.000000\n",
              "MAX Temperature for the last hour (°C)                  -9.700000\n",
              "MIN Temperature for the last hour (°C)                  -9.700000\n",
              "MAX Dew Point Temperature for the last hour (°C)       -10.000000\n",
              "MIN Dew Point Temperature for the last hour (°C)       -10.000000\n",
              "MAX Relative Humid Temperature for the last hour (%)     0.000000\n",
              "MIN Relative Humid Temperature for the last hour (%)     0.000000\n",
              "Relative Humid (instant) (%)                             0.000000\n",
              "Wind Direction (gr) (° (gr))                             0.000000\n",
              "Wind Gust (m/s)                                          0.000000\n",
              "Wind Speed (m/s)                                         0.000000\n",
              "latitude                                               -23.966944\n",
              "longitude                                              -59.873056\n",
              "height                                                   5.000000\n",
              "dtype: float64"
            ]
          },
          "execution_count": 16,
          "metadata": {},
          "output_type": "execute_result"
        }
      ],
      "source": [
        "#Minimum values of all numeric columns\n",
        "min_values = df.min(numeric_only=True)\n",
        "min_values"
      ]
    },
    {
      "cell_type": "markdown",
      "metadata": {
        "id": "4spE4wzOyLXF"
      },
      "source": [
        "**4. Maximum values of all numeric columns**"
      ]
    },
    {
      "cell_type": "code",
      "execution_count": null,
      "metadata": {
        "colab": {
          "base_uri": "https://localhost:8080/"
        },
        "id": "4_U24mQ6mbW_",
        "outputId": "923e1935-187f-456b-c276-c3527c2c7efb"
      },
      "outputs": [
        {
          "data": {
            "text/plain": [
              "index                                                   419935.000000\n",
              "Amount of Precipitation (mm)                                96.000000\n",
              "Atmospheric Pressure at Station Level (mB)                1028.800000\n",
              "MAX Air pressure for the last hour (mB)                   1030.600000\n",
              "MIN Air pressure for the last hour (mB)                   1028.100000\n",
              "Solar Radiation (KJ/m2)                                  48898.000000\n",
              "Air Temperature (instant) (°C)                              45.000000\n",
              "Dew Point Temperature (instant) (°C)                        44.800000\n",
              "MAX Temperature for the last hour (°C)                      45.000000\n",
              "MIN Temperature for the last hour (°C)                      45.000000\n",
              "MAX Dew Point Temperature for the last hour (°C)            44.900000\n",
              "MIN Dew Point Temperature for the last hour (°C)            44.700000\n",
              "MAX Relative Humid Temperature for the last hour (%)       100.000000\n",
              "MIN Relative Humid Temperature for the last hour (%)       100.000000\n",
              "Relative Humid (instant) (%)                               100.000000\n",
              "Wind Direction (gr) (° (gr))                               360.000000\n",
              "Wind Gust (m/s)                                             49.400000\n",
              "Wind Speed (m/s)                                            20.000000\n",
              "latitude                                                    -9.563333\n",
              "longitude                                                  -46.366389\n",
              "height                                                    1264.700000\n",
              "dtype: float64"
            ]
          },
          "execution_count": 17,
          "metadata": {},
          "output_type": "execute_result"
        }
      ],
      "source": [
        "#Maximum values of all numeric columns\n",
        "max_values = df.max(numeric_only=True)\n",
        "max_values"
      ]
    },
    {
      "cell_type": "markdown",
      "metadata": {
        "id": "Beb3PJODyO9N"
      },
      "source": [
        "**5. Median of all numeric columns**"
      ]
    },
    {
      "cell_type": "code",
      "execution_count": null,
      "metadata": {
        "colab": {
          "base_uri": "https://localhost:8080/"
        },
        "id": "MkVvlkiDmilt",
        "outputId": "d822fd3b-1eec-428b-cc28-742ce81980f3"
      },
      "outputs": [
        {
          "data": {
            "text/plain": [
              "index                                                   166159.000000\n",
              "Amount of Precipitation (mm)                                 0.000000\n",
              "Atmospheric Pressure at Station Level (mB)                 955.300000\n",
              "MAX Air pressure for the last hour (mB)                    955.500000\n",
              "MIN Air pressure for the last hour (mB)                    954.900000\n",
              "Solar Radiation (KJ/m2)                                      0.000000\n",
              "Air Temperature (instant) (°C)                              22.900000\n",
              "Dew Point Temperature (instant) (°C)                        17.300000\n",
              "MAX Temperature for the last hour (°C)                      23.500000\n",
              "MIN Temperature for the last hour (°C)                      22.400000\n",
              "MAX Dew Point Temperature for the last hour (°C)            17.900000\n",
              "MIN Dew Point Temperature for the last hour (°C)            16.800000\n",
              "MAX Relative Humid Temperature for the last hour (%)        71.000000\n",
              "MIN Relative Humid Temperature for the last hour (%)        62.000000\n",
              "Relative Humid (instant) (%)                                67.000000\n",
              "Wind Direction (gr) (° (gr))                               125.000000\n",
              "Wind Gust (m/s)                                              3.400000\n",
              "Wind Speed (m/s)                                             1.200000\n",
              "latitude                                                   -16.642778\n",
              "longitude                                                  -54.501690\n",
              "height                                                     432.000000\n",
              "dtype: float64"
            ]
          },
          "execution_count": 18,
          "metadata": {},
          "output_type": "execute_result"
        }
      ],
      "source": [
        "#Median of all numeric columns\n",
        "median_values = df.median(numeric_only=True)\n",
        "median_values"
      ]
    },
    {
      "cell_type": "markdown",
      "metadata": {
        "id": "Ixf0S9BBySmW"
      },
      "source": [
        "**6. First quantile (25th percentile) of all numeric columns**"
      ]
    },
    {
      "cell_type": "code",
      "execution_count": null,
      "metadata": {
        "colab": {
          "base_uri": "https://localhost:8080/"
        },
        "id": "bvpWU0b5mu8z",
        "outputId": "8e1ce48c-17a2-4473-d268-59eb5fc84ae8"
      },
      "outputs": [
        {
          "data": {
            "text/plain": [
              "index                                                   79103.000000\n",
              "Amount of Precipitation (mm)                                0.000000\n",
              "Atmospheric Pressure at Station Level (mB)                923.300000\n",
              "MAX Air pressure for the last hour (mB)                   923.400000\n",
              "MIN Air pressure for the last hour (mB)                   922.800000\n",
              "Solar Radiation (KJ/m2)                                     0.000000\n",
              "Air Temperature (instant) (°C)                             19.200000\n",
              "Dew Point Temperature (instant) (°C)                       10.600000\n",
              "MAX Temperature for the last hour (°C)                     19.700000\n",
              "MIN Temperature for the last hour (°C)                     18.600000\n",
              "MAX Dew Point Temperature for the last hour (°C)           11.300000\n",
              "MIN Dew Point Temperature for the last hour (°C)           10.000000\n",
              "MAX Relative Humid Temperature for the last hour (%)       44.000000\n",
              "MIN Relative Humid Temperature for the last hour (%)       36.000000\n",
              "Relative Humid (instant) (%)                               40.000000\n",
              "Wind Direction (gr) (° (gr))                               40.000000\n",
              "Wind Gust (m/s)                                             1.300000\n",
              "Wind Speed (m/s)                                            0.000000\n",
              "latitude                                                  -19.695278\n",
              "longitude                                                 -56.100000\n",
              "height                                                    313.000000\n",
              "Name: 0.25, dtype: float64"
            ]
          },
          "execution_count": 19,
          "metadata": {},
          "output_type": "execute_result"
        }
      ],
      "source": [
        "#First quantile of all numeric values\n",
        "q1 = df.quantile(0.25, numeric_only=True)\n",
        "q1"
      ]
    },
    {
      "cell_type": "markdown",
      "metadata": {
        "id": "FGK_56nEybaQ"
      },
      "source": [
        "**7. Third quantile (75th percentile) of all numeric columns**"
      ]
    },
    {
      "cell_type": "code",
      "execution_count": null,
      "metadata": {
        "colab": {
          "base_uri": "https://localhost:8080/"
        },
        "id": "ax2Zjhyqm3dC",
        "outputId": "3c38f417-34f2-4ba7-cbcb-7f64cd840f0a"
      },
      "outputs": [
        {
          "data": {
            "text/plain": [
              "index                                                   265705.000000\n",
              "Amount of Precipitation (mm)                                 0.000000\n",
              "Atmospheric Pressure at Station Level (mB)                 974.100000\n",
              "MAX Air pressure for the last hour (mB)                    974.400000\n",
              "MIN Air pressure for the last hour (mB)                    973.800000\n",
              "Solar Radiation (KJ/m2)                                   1124.000000\n",
              "Air Temperature (instant) (°C)                              26.900000\n",
              "Dew Point Temperature (instant) (°C)                        20.500000\n",
              "MAX Temperature for the last hour (°C)                      27.800000\n",
              "MIN Temperature for the last hour (°C)                      26.000000\n",
              "MAX Dew Point Temperature for the last hour (°C)            21.000000\n",
              "MIN Dew Point Temperature for the last hour (°C)            20.000000\n",
              "MAX Relative Humid Temperature for the last hour (%)        88.000000\n",
              "MIN Relative Humid Temperature for the last hour (%)        83.000000\n",
              "Relative Humid (instant) (%)                                86.000000\n",
              "Wind Direction (gr) (° (gr))                               238.000000\n",
              "Wind Gust (m/s)                                              5.700000\n",
              "Wind Speed (m/s)                                             2.400000\n",
              "latitude                                                   -14.133056\n",
              "longitude                                                  -51.148889\n",
              "height                                                     675.000000\n",
              "Name: 0.75, dtype: float64"
            ]
          },
          "execution_count": 20,
          "metadata": {},
          "output_type": "execute_result"
        }
      ],
      "source": [
        "#Third quantile of all numeric values\n",
        "q3 = df.quantile(0.75, numeric_only=True)\n",
        "q3"
      ]
    },
    {
      "cell_type": "markdown",
      "metadata": {
        "id": "-XGP8gauxPEX"
      },
      "source": [
        "## Visualisations"
      ]
    },
    {
      "cell_type": "markdown",
      "metadata": {
        "id": "nyfp7NspyySJ"
      },
      "source": [
        "Import Matplotlib Library"
      ]
    },
    {
      "cell_type": "code",
      "execution_count": null,
      "metadata": {
        "id": "E9uSDDA1y4Fm"
      },
      "outputs": [],
      "source": [
        "import matplotlib.pyplot as plt"
      ]
    },
    {
      "cell_type": "markdown",
      "metadata": {
        "id": "wnVKtWaNzAWd"
      },
      "source": [
        "This library is used for creating visualisations in Python"
      ]
    },
    {
      "cell_type": "markdown",
      "metadata": {
        "id": "kou8hDs6y7S_"
      },
      "source": [
        "**1. Precipitation Variation Over Time**"
      ]
    },
    {
      "cell_type": "code",
      "execution_count": null,
      "metadata": {
        "colab": {
          "base_uri": "https://localhost:8080/",
          "height": 564
        },
        "id": "gnvu2HS8qo54",
        "outputId": "764ab594-16bc-41cc-ff19-7b0615d3d0d1"
      },
      "outputs": [
        {
          "data": {
            "image/png": "[encoded data removed]",
            "text/plain": [
              "<Figure size 1200x600 with 1 Axes>"
            ]
          },
          "metadata": {},
          "output_type": "display_data"
        }
      ],
      "source": [
        "plt.figure(figsize=(12, 6))\n",
        "plt.plot(df['Date'], df['Amount of Precipitation (mm)'], color='blue')\n",
        "plt.title('Precipitation Variation Over Time')\n",
        "plt.xlabel('Date')\n",
        "plt.ylabel('Precipitation (mm)')\n",
        "plt.grid(True)\n",
        "plt.show()"
      ]
    },
    {
      "cell_type": "markdown",
      "metadata": {
        "id": "5iszuxt8zDSu"
      },
      "source": [
        "This generates a line plot illustrating the variation in precipitation over time using the 'Date' column on the x-axis and the 'Amount of Precipitation (mm)' column on the y-axis."
      ]
    },
    {
      "cell_type": "markdown",
      "metadata": {
        "id": "zuoqiRYRzGTn"
      },
      "source": [
        "**2. Seasonal Variation in Temperature**"
      ]
    },
    {
      "cell_type": "code",
      "execution_count": null,
      "metadata": {
        "colab": {
          "base_uri": "https://localhost:8080/",
          "height": 564
        },
        "id": "0xYWu4BJsYsK",
        "outputId": "8a36d814-f435-4579-b1f5-bab3b37b2354"
      },
      "outputs": [
        {
          "data": {
            "image/png": "[encoded data removed]",
            "text/plain": [
              "<Figure size 1200x600 with 1 Axes>"
            ]
          },
          "metadata": {},
          "output_type": "display_data"
        }
      ],
      "source": [
        "df['Month'] = df['Date'].dt.month\n",
        "\n",
        "plt.figure(figsize=(12, 6))\n",
        "plt.plot(df.groupby('Month')['Air Temperature (instant) (°C)'].mean(), marker='o', linestyle='-', color='orange')\n",
        "plt.title('Seasonal Variation in Temperature')\n",
        "plt.xlabel('Month')\n",
        "plt.ylabel('Average Temperature (°C)')\n",
        "plt.xticks(range(1, 13), ['Jan', 'Feb', 'Mar', 'Apr', 'May', 'Jun', 'Jul', 'Aug', 'Sep', 'Oct', 'Nov', 'Dec'])\n",
        "plt.grid(True)\n",
        "plt.show()\n"
      ]
    },
    {
      "cell_type": "markdown",
      "metadata": {
        "id": "MMc9-EqczSOS"
      },
      "source": [
        "This calculates the average temperature per month and plots it to visualize the seasonal variation in temperature."
      ]
    },
    {
      "cell_type": "markdown",
      "metadata": {
        "id": "vwMwG9dRzU1T"
      },
      "source": [
        "**3. Relationship Between Temperature and Solar Radiation (Scatterplot)**"
      ]
    },
    {
      "cell_type": "code",
      "execution_count": null,
      "metadata": {
        "colab": {
          "base_uri": "https://localhost:8080/",
          "height": 564
        },
        "id": "Rv9J6serNeMk",
        "outputId": "8350fe2c-c5ba-4374-c5c7-1d5da5112724"
      },
      "outputs": [
        {
          "data": {
            "image/png": "[encoded data removed]",
            "text/plain": [
              "<Figure size 800x600 with 1 Axes>"
            ]
          },
          "metadata": {},
          "output_type": "display_data"
        }
      ],
      "source": [
        "# Scatter plot to visualize relationship between temperature and solar radiation\n",
        "plt.figure(figsize=(8, 6))\n",
        "plt.scatter(df['Air Temperature (instant) (°C)'], df['Solar Radiation (KJ/m2)'], alpha=0.5)\n",
        "plt.title('Temperature vs. Solar Radiation')\n",
        "plt.xlabel('Temperature (°C)')\n",
        "plt.ylabel('Solar Radiation (KJ/m2)')\n",
        "plt.grid(True)\n",
        "plt.show()"
      ]
    },
    {
      "cell_type": "markdown",
      "metadata": {
        "id": "V_vBqm5Gzb4k"
      },
      "source": [
        "This generates a scatter plot to explore the relationship between temperature and solar radiation."
      ]
    },
    {
      "cell_type": "markdown",
      "metadata": {
        "id": "zC-LLU-vzc4E"
      },
      "source": [
        "**4. Humidity Variation Across Stations Using Plotly Express**\n",
        "\n",
        "Import Plotly Express Library"
      ]
    },
    {
      "cell_type": "code",
      "execution_count": null,
      "metadata": {
        "id": "_-_tz2Uy0Bdi"
      },
      "outputs": [],
      "source": [
        "import plotly.express as px"
      ]
    },
    {
      "cell_type": "markdown",
      "metadata": {
        "id": "P__HsGw10Dg0"
      },
      "source": [
        "This library provides a high-level interface for creating interactive visualizations in Python."
      ]
    },
    {
      "cell_type": "code",
      "execution_count": null,
      "metadata": {
        "colab": {
          "base_uri": "https://localhost:8080/",
          "height": 564
        },
        "id": "fS9ARhduO5_a",
        "outputId": "09f15642-693a-41a4-b8f1-d7c54200d370"
      },
      "outputs": [
        {
          "data": {
            "image/png": "[encoded data removed]",
            "text/plain": [
              "<Figure size 1000x600 with 2 Axes>"
            ]
          },
          "metadata": {},
          "output_type": "display_data"
        }
      ],
      "source": [
        "#Exploring the relative humidity variations across states\n",
        "plt.figure(figsize=(10, 6))\n",
        "plt.scatter(df['longitude'], df['latitude'], c=df['Relative Humid (instant) (%)'], cmap='coolwarm', alpha=0.7)\n",
        "plt.colorbar(label='Humidity (%)')\n",
        "plt.title('Humidity Variation Across Stations')\n",
        "plt.xlabel('Longitude')\n",
        "plt.ylabel('Latitude')\n",
        "plt.grid(True)\n",
        "plt.show()\n"
      ]
    },
    {
      "cell_type": "markdown",
      "metadata": {
        "id": "eSXq6kKI0IKa"
      },
      "source": [
        "This creates a scatter plot to visualize humidity variations across different stations based on latitude and longitude."
      ]
    },
    {
      "cell_type": "markdown",
      "metadata": {
        "id": "1_e9gQ270Lpq"
      },
      "source": [
        "**5. Atmospheric Pressure Across States**"
      ]
    },
    {
      "cell_type": "code",
      "execution_count": null,
      "metadata": {
        "colab": {
          "base_uri": "https://localhost:8080/",
          "height": 624
        },
        "id": "1Edis4MpSt1t",
        "outputId": "aa629ca3-825b-45da-ab1e-ee7472e38b11"
      },
      "outputs": [
        {
          "name": "stderr",
          "output_type": "stream",
          "text": [
            "<ipython-input-27-8503701bab68>:2: FutureWarning: The default value of numeric_only in DataFrameGroupBy.mean is deprecated. In a future version, numeric_only will default to False. Either specify numeric_only or select only columns which should be valid for the function.\n",
            "  avg_pressure_by_state = df.groupby('state').mean().reset_index()\n"
          ]
        },
        {
          "data": {
            "image/png": "[encoded data removed]",
            "text/plain": [
              "<Figure size 1200x600 with 1 Axes>"
            ]
          },
          "metadata": {},
          "output_type": "display_data"
        }
      ],
      "source": [
        "# Group by states and calculate the mean values for atmospheric pressure\n",
        "avg_pressure_by_state = df.groupby('state').mean().reset_index()\n",
        "\n",
        "# Plotting atmospheric pressure variations across states\n",
        "plt.figure(figsize=(12, 6))\n",
        "plt.bar(avg_pressure_by_state['state'], avg_pressure_by_state['Atmospheric Pressure at Station Level (mB)'], color='skyblue')\n",
        "plt.title('Average Atmospheric Pressure Across States')\n",
        "plt.xlabel('State')\n",
        "plt.ylabel('Average Atmospheric Pressure (mB)')\n",
        "plt.xticks(rotation=90)\n",
        "plt.grid(axis='y')\n",
        "plt.tight_layout()\n",
        "plt.show()"
      ]
    },
    {
      "cell_type": "markdown",
      "metadata": {
        "id": "ccWlqFCX0YQX"
      },
      "source": [
        "This calculates the mean atmospheric pressure for each state and presents it in a bar chart to visualize the average atmospheric pressure differences across states."
      ]
    },
    {
      "cell_type": "markdown",
      "metadata": {
        "id": "9xGpAvZKlhGm"
      },
      "source": [
        "---\n",
        "\n",
        "# Automated Feature Engineering Tool (Autofeat)"
      ]
    },
    {
      "cell_type": "markdown",
      "source": [
        "\n",
        "\n",
        "*   This task will utilize **'Autofeat'** as an Automated Feature Engineering Tool.AutoFeat is a python library that provides automated feature engineering and feature selection along with models such as AutoFeatRegressor and AutoFeatClassifier."
      ],
      "metadata": {
        "id": "UjRaApRMgUWC"
      }
    },
    {
      "cell_type": "markdown",
      "source": [
        "## 1. **Import libraries**\n",
        "\n",
        "\n",
        "The !pip install autofeat command is used to install the autofeat Python library using the pip package manager.\n",
        "\n",
        "So, when we !pip install autofeat, we are instructing the notebook to use the pip installer to download and install the autofeat library, making it available for use in our Python environment. This is a common way to install Python libraries when working in notebook environments like Jupyter or Google Colab."
      ],
      "metadata": {
        "id": "J7p6cyaQgtz1"
      }
    },
    {
      "cell_type": "code",
      "source": [
        "!pip install autofeat"
      ],
      "metadata": {
        "colab": {
          "base_uri": "https://localhost:8080/"
        },
        "id": "26t2d1qkYGPx",
        "outputId": "39510a66-8fec-46c2-e25e-023d4662cf83"
      },
      "execution_count": null,
      "outputs": [
        {
          "output_type": "stream",
          "name": "stdout",
          "text": [
            "Requirement already satisfied: autofeat in /usr/local/lib/python3.10/dist-packages (2.1.2)\n",
            "Requirement already satisfied: joblib<2.0.0,>=1.2.0 in /usr/local/lib/python3.10/dist-packages (from autofeat) (1.3.2)\n",
            "Requirement already satisfied: numba>=0.53.1 in /usr/local/lib/python3.10/dist-packages (from autofeat) (0.58.1)\n",
            "Requirement already satisfied: numpy<2.0.0,>=1.20.3 in /usr/local/lib/python3.10/dist-packages (from autofeat) (1.23.5)\n",
            "Requirement already satisfied: pandas<3.0.0,>=1.3.5 in /usr/local/lib/python3.10/dist-packages (from autofeat) (1.5.3)\n",
            "Requirement already satisfied: pint<1.0,>=0.17 in /usr/local/lib/python3.10/dist-packages (from autofeat) (0.22)\n",
            "Requirement already satisfied: scikit-learn<2.0.0,>=1.2.0 in /usr/local/lib/python3.10/dist-packages (from autofeat) (1.2.2)\n",
            "Requirement already satisfied: scipy<2.0.0,>=1.7.3 in /usr/local/lib/python3.10/dist-packages (from autofeat) (1.11.3)\n",
            "Requirement already satisfied: sympy<2.0.0,>=1.7.1 in /usr/local/lib/python3.10/dist-packages (from autofeat) (1.12)\n",
            "Requirement already satisfied: llvmlite<0.42,>=0.41.0dev0 in /usr/local/lib/python3.10/dist-packages (from numba>=0.53.1->autofeat) (0.41.1)\n",
            "Requirement already satisfied: python-dateutil>=2.8.1 in /usr/local/lib/python3.10/dist-packages (from pandas<3.0.0,>=1.3.5->autofeat) (2.8.2)\n",
            "Requirement already satisfied: pytz>=2020.1 in /usr/local/lib/python3.10/dist-packages (from pandas<3.0.0,>=1.3.5->autofeat) (2023.3.post1)\n",
            "Requirement already satisfied: typing-extensions in /usr/local/lib/python3.10/dist-packages (from pint<1.0,>=0.17->autofeat) (4.5.0)\n",
            "Requirement already satisfied: threadpoolctl>=2.0.0 in /usr/local/lib/python3.10/dist-packages (from scikit-learn<2.0.0,>=1.2.0->autofeat) (3.2.0)\n",
            "Requirement already satisfied: mpmath>=0.19 in /usr/local/lib/python3.10/dist-packages (from sympy<2.0.0,>=1.7.1->autofeat) (1.3.0)\n",
            "Requirement already satisfied: six>=1.5 in /usr/local/lib/python3.10/dist-packages (from python-dateutil>=2.8.1->pandas<3.0.0,>=1.3.5->autofeat) (1.16.0)\n"
          ]
        }
      ]
    },
    {
      "cell_type": "code",
      "source": [
        "import pandas as pd\n",
        "import numpy as np\n",
        "\n",
        "from sklearn.preprocessing import LabelEncoder\n",
        "from autofeat import AutoFeatRegressor\n",
        "from sklearn.linear_model import LinearRegression\n",
        "from sklearn.ensemble import GradientBoostingClassifier\n",
        "from sklearn.model_selection import train_test_split\n",
        "from sklearn.metrics import explained_variance_score\n",
        "\n",
        "# model tuning\n",
        "from hyperopt import STATUS_OK, Trials, fmin, hp, tpe, space_eval\n",
        "\n",
        "\n",
        "import warnings\n",
        "warnings.filterwarnings(\"ignore\")\n",
        "\n",
        "pd.set_option('display.max_columns', 100)"
      ],
      "metadata": {
        "id": "alLclh1GYauh"
      },
      "execution_count": null,
      "outputs": []
    },
    {
      "cell_type": "markdown",
      "source": [
        "This code snippet includes several import statements and configurations that are commonly used in machine learning and data analysis tasks. Let's break down each part:\n",
        "\n",
        "Importing Libraries:\n",
        "\n",
        "* import pandas as pd: Imports the pandas library and aliases it as pd. Pandas is a powerful data manipulation and analysis library.\n",
        "import numpy as np: Imports the NumPy library and aliases it as np. NumPy is used for numerical operations in Python.\n",
        "Importing Specific Functions or Classes:\n",
        "\n",
        "* from sklearn.preprocessing import LabelEncoder: Imports the LabelEncoder class from scikit-learn, which is used for encoding categorical variables.\n",
        "from autofeat import AutoFeatRegressor: Imports the AutoFeatRegressor class from the autofeat library. AutoFeatRegressor is used for automatic feature engineering in regression tasks.\n",
        "from sklearn.linear_model import LinearRegression: Imports the LinearRegression class from scikit-learn, which is used for linear regression.\n",
        "from sklearn.ensemble import GradientBoostingClassifier: Imports the GradientBoostingClassifier class from scikit-learn, which is used for gradient boosting classification.\n",
        "from sklearn.model_selection import train_test_split: Imports the train_test_split function from scikit-learn, which is used for splitting datasets into training and testing sets.\n",
        "from sklearn.metrics import explained_variance_score: Imports the explained_variance_score function from scikit-learn, which is a metric for regression tasks.\n",
        "Model Tuning with Hyperopt:\n",
        "\n",
        "* from hyperopt import STATUS_OK, Trials, fmin, hp, tpe, space_eval: Imports various functions and classes from the hyperopt library. hyperopt is used for hyperparameter optimization. This part of the code sets up the necessary components for tuning machine learning models using Bayesian optimization.\n",
        "Ignoring Warnings:\n",
        "\n",
        "* import warnings and warnings.filterwarnings(\"ignore\"): Imports the warnings module and configures it to ignore warning messages. This is often used to suppress unnecessary warnings that may be generated during the execution of the code.\n",
        "Pandas Display Configuration:\n",
        "\n",
        "* pd.set_option('display.max_columns', 100): Sets the maximum number of displayed columns in pandas to 100. This is a display configuration to ensure that a large number of columns in a DataFrame can be viewed without truncation."
      ],
      "metadata": {
        "id": "8qpp6Tg1idop"
      }
    },
    {
      "cell_type": "markdown",
      "source": [
        "## 2. **Check Columns Available**\n",
        "Check the columns available in the dataset for future references using **df.columns.**"
      ],
      "metadata": {
        "id": "BiapVW6UgxHt"
      }
    },
    {
      "cell_type": "code",
      "source": [
        "df.columns"
      ],
      "metadata": {
        "colab": {
          "base_uri": "https://localhost:8080/"
        },
        "id": "qVhTYucGaAcu",
        "outputId": "182b74e8-e4c1-4094-8a4a-284f37071865"
      },
      "execution_count": null,
      "outputs": [
        {
          "output_type": "execute_result",
          "data": {
            "text/plain": [
              "Index(['index', 'Date', 'Time', 'Amount of Precipitation (mm)',\n",
              "       'Atmospheric Pressure at Station Level (mB)',\n",
              "       'MAX Air pressure for the last hour (mB)',\n",
              "       'MIN Air pressure for the last hour (mB)', 'Solar Radiation (KJ/m2)',\n",
              "       'Air Temperature (instant) (°C)',\n",
              "       'Dew Point Temperature (instant) (°C)',\n",
              "       'MAX Temperature for the last hour (°C)',\n",
              "       'MIN Temperature for the last hour (°C)',\n",
              "       'MAX Dew Point Temperature for the last hour (°C)',\n",
              "       'MIN Dew Point Temperature for the last hour (°C)',\n",
              "       'MAX Relative Humid Temperature for the last hour (%)',\n",
              "       'MIN Relative Humid Temperature for the last hour (%)',\n",
              "       'Relative Humid (instant) (%)', 'Wind Direction (gr) (° (gr))',\n",
              "       'Wind Gust (m/s)', 'Wind Speed (m/s)', 'region', 'state', 'station',\n",
              "       'station_code', 'latitude', 'longitude', 'height'],\n",
              "      dtype='object')"
            ]
          },
          "metadata": {},
          "execution_count": 8
        }
      ]
    },
    {
      "cell_type": "markdown",
      "source": [
        "## 3. **Perform Train and Test Set**\n"
      ],
      "metadata": {
        "id": "RC0nzRjYjs3j"
      }
    },
    {
      "cell_type": "code",
      "source": [
        "X = df[['Amount of Precipitation (mm)']]\n",
        "y = df[['MAX Temperature for the last hour (°C)']]"
      ],
      "metadata": {
        "id": "uTirmY38jISQ"
      },
      "execution_count": null,
      "outputs": []
    },
    {
      "cell_type": "markdown",
      "source": [
        "DataFrame Columns Selection:\n",
        "\n",
        "* df[['Amount of Precipitation (mm)']]: Selects the column named 'Amount of Precipitation (mm)' from the DataFrame df. The double square brackets ([['...']]) are used to select a single column as a DataFrame, rather than a Series.\n",
        "\n",
        "* df[['MAX Temperature for the last hour (°C)']]: Similar to the first line, this selects the column named 'MAX Temperature for the last hour (°C)'.\n"
      ],
      "metadata": {
        "id": "O8g84ZcWkVmC"
      }
    },
    {
      "cell_type": "code",
      "source": [
        "X_train, X_test, y_train, y_test = train_test_split(X, y, test_size=0.33, random_state=42)"
      ],
      "metadata": {
        "id": "jYbhfiaqaV30"
      },
      "execution_count": null,
      "outputs": []
    },
    {
      "cell_type": "markdown",
      "source": [
        "Variable Assignment:\n",
        "\n",
        "* X = ...: Assigns the selected column 'Amount of Precipitation (mm)' to the variable X. The variable X is commonly used to represent the features or input variables in a machine learning model.\n",
        "\n",
        "* y = ...: Assigns the selected column 'MAX Temperature for the last hour (°C)' to the variable y. The variable y is commonly used to represent the target variable or the variable we are trying to predict in a machine learning model."
      ],
      "metadata": {
        "id": "0jV0cGvKkSMj"
      }
    },
    {
      "cell_type": "markdown",
      "source": [
        "Let's do the Feature Engineering!"
      ],
      "metadata": {
        "id": "v0482-gCky8Z"
      }
    },
    {
      "cell_type": "code",
      "source": [
        "model = AutoFeatRegressor()\n",
        "model"
      ],
      "metadata": {
        "colab": {
          "base_uri": "https://localhost:8080/",
          "height": 74
        },
        "id": "wSe--R_Fad0h",
        "outputId": "cb9da231-e6a0-49a7-fa6e-f30ed82e671c"
      },
      "execution_count": null,
      "outputs": [
        {
          "output_type": "execute_result",
          "data": {
            "text/plain": [
              "AutoFeatRegressor()"
            ],
            "text/html": [
              "<style>#sk-container-id-1 {color: black;background-color: white;}#sk-container-id-1 pre{padding: 0;}#sk-container-id-1 div.sk-toggleable {background-color: white;}#sk-container-id-1 label.sk-toggleable__label {cursor: pointer;display: block;width: 100%;margin-bottom: 0;padding: 0.3em;box-sizing: border-box;text-align: center;}#sk-container-id-1 label.sk-toggleable__label-arrow:before {content: \"▸\";float: left;margin-right: 0.25em;color: #696969;}#sk-container-id-1 label.sk-toggleable__label-arrow:hover:before {color: black;}#sk-container-id-1 div.sk-estimator:hover label.sk-toggleable__label-arrow:before {color: black;}#sk-container-id-1 div.sk-toggleable__content {max-height: 0;max-width: 0;overflow: hidden;text-align: left;background-color: #f0f8ff;}#sk-container-id-1 div.sk-toggleable__content pre {margin: 0.2em;color: black;border-radius: 0.25em;background-color: #f0f8ff;}#sk-container-id-1 input.sk-toggleable__control:checked~div.sk-toggleable__content {max-height: 200px;max-width: 100%;overflow: auto;}#sk-container-id-1 input.sk-toggleable__control:checked~label.sk-toggleable__label-arrow:before {content: \"▾\";}#sk-container-id-1 div.sk-estimator input.sk-toggleable__control:checked~label.sk-toggleable__label {background-color: #d4ebff;}#sk-container-id-1 div.sk-label input.sk-toggleable__control:checked~label.sk-toggleable__label {background-color: #d4ebff;}#sk-container-id-1 input.sk-hidden--visually {border: 0;clip: rect(1px 1px 1px 1px);clip: rect(1px, 1px, 1px, 1px);height: 1px;margin: -1px;overflow: hidden;padding: 0;position: absolute;width: 1px;}#sk-container-id-1 div.sk-estimator {font-family: monospace;background-color: #f0f8ff;border: 1px dotted black;border-radius: 0.25em;box-sizing: border-box;margin-bottom: 0.5em;}#sk-container-id-1 div.sk-estimator:hover {background-color: #d4ebff;}#sk-container-id-1 div.sk-parallel-item::after {content: \"\";width: 100%;border-bottom: 1px solid gray;flex-grow: 1;}#sk-container-id-1 div.sk-label:hover label.sk-toggleable__label {background-color: #d4ebff;}#sk-container-id-1 div.sk-serial::before {content: \"\";position: absolute;border-left: 1px solid gray;box-sizing: border-box;top: 0;bottom: 0;left: 50%;z-index: 0;}#sk-container-id-1 div.sk-serial {display: flex;flex-direction: column;align-items: center;background-color: white;padding-right: 0.2em;padding-left: 0.2em;position: relative;}#sk-container-id-1 div.sk-item {position: relative;z-index: 1;}#sk-container-id-1 div.sk-parallel {display: flex;align-items: stretch;justify-content: center;background-color: white;position: relative;}#sk-container-id-1 div.sk-item::before, #sk-container-id-1 div.sk-parallel-item::before {content: \"\";position: absolute;border-left: 1px solid gray;box-sizing: border-box;top: 0;bottom: 0;left: 50%;z-index: -1;}#sk-container-id-1 div.sk-parallel-item {display: flex;flex-direction: column;z-index: 1;position: relative;background-color: white;}#sk-container-id-1 div.sk-parallel-item:first-child::after {align-self: flex-end;width: 50%;}#sk-container-id-1 div.sk-parallel-item:last-child::after {align-self: flex-start;width: 50%;}#sk-container-id-1 div.sk-parallel-item:only-child::after {width: 0;}#sk-container-id-1 div.sk-dashed-wrapped {border: 1px dashed gray;margin: 0 0.4em 0.5em 0.4em;box-sizing: border-box;padding-bottom: 0.4em;background-color: white;}#sk-container-id-1 div.sk-label label {font-family: monospace;font-weight: bold;display: inline-block;line-height: 1.2em;}#sk-container-id-1 div.sk-label-container {text-align: center;}#sk-container-id-1 div.sk-container {/* jupyter's `normalize.less` sets `[hidden] { display: none; }` but bootstrap.min.css set `[hidden] { display: none !important; }` so we also need the `!important` here to be able to override the default hidden behavior on the sphinx rendered scikit-learn.org. See: https://github.com/scikit-learn/scikit-learn/issues/21755 */display: inline-block !important;position: relative;}#sk-container-id-1 div.sk-text-repr-fallback {display: none;}</style><div id=\"sk-container-id-1\" class=\"sk-top-container\"><div class=\"sk-text-repr-fallback\"><pre>AutoFeatRegressor()</pre><b>In a Jupyter environment, please rerun this cell to show the HTML representation or trust the notebook. <br />On GitHub, the HTML representation is unable to render, please try loading this page with nbviewer.org.</b></div><div class=\"sk-container\" hidden><div class=\"sk-item\"><div class=\"sk-estimator sk-toggleable\"><input class=\"sk-toggleable__control sk-hidden--visually\" id=\"sk-estimator-id-1\" type=\"checkbox\" checked><label for=\"sk-estimator-id-1\" class=\"sk-toggleable__label sk-toggleable__label-arrow\">AutoFeatRegressor</label><div class=\"sk-toggleable__content\"><pre>AutoFeatRegressor()</pre></div></div></div></div></div>"
            ]
          },
          "metadata": {},
          "execution_count": 11
        }
      ]
    },
    {
      "cell_type": "markdown",
      "source": [
        "* The code us provided initializes an instance of the AutoFeatRegressor class and assigns it to the variable model. This code is used to create an automatic feature engineering model for regression tasks."
      ],
      "metadata": {
        "id": "l0KakYH0lCSu"
      }
    },
    {
      "cell_type": "code",
      "source": [
        "X_train_feature_creation = model.fit_transform(X_train.to_numpy(), y_train.to_numpy().flatten())"
      ],
      "metadata": {
        "id": "KpsHA8YVa93u"
      },
      "execution_count": null,
      "outputs": []
    },
    {
      "cell_type": "markdown",
      "source": [
        "* The code is using the fit_transform method of the AutoFeatRegressor model to perform automatic feature engineering on the training data (X_train) and the corresponding target variable (y_train)."
      ],
      "metadata": {
        "id": "ZinQSda5lVB_"
      }
    },
    {
      "cell_type": "code",
      "source": [
        "X_test_feature_creation = model.transform(X_test.to_numpy())"
      ],
      "metadata": {
        "id": "MyV1luNndVOi"
      },
      "execution_count": null,
      "outputs": []
    },
    {
      "cell_type": "markdown",
      "source": [
        "\n",
        "* This code line utilizes the AutoFeatRegressor model to transform the testing features (X_test) based on the feature engineering patterns learned during the model's training phase on the training data. The result, stored in the variable X_test_feature_creation, represents the testing feature matrix with consistent and aligned feature transformations, enabling accurate evaluation of the model's performance on new, unseen data.\n",
        "\n",
        "\n",
        "\n",
        "\n",
        "\n"
      ],
      "metadata": {
        "id": "XUx-1eB4lbCg"
      }
    },
    {
      "cell_type": "markdown",
      "source": [
        "## 4. **Results with Data Visualization**"
      ],
      "metadata": {
        "id": "8sSH5Eshlx4I"
      }
    },
    {
      "cell_type": "code",
      "source": [
        "X_test_feature_creation.head()"
      ],
      "metadata": {
        "colab": {
          "base_uri": "https://localhost:8080/",
          "height": 516
        },
        "id": "y1x3LgQodXoA",
        "outputId": "471a3482-c4d5-4a4f-a226-1df7885ab36c"
      },
      "execution_count": null,
      "outputs": [
        {
          "output_type": "execute_result",
          "data": {
            "text/plain": [
              "    x000\n",
              "0  997.9\n",
              "1  964.4\n",
              "2    0.0\n",
              "3  981.1\n",
              "4  956.2"
            ],
            "text/html": [
              "\n",
              "  <div id=\"df-816dab51-6c29-48d2-aa12-826c1ff3d0a5\" class=\"colab-df-container\">\n",
              "    <div>\n",
              "<style scoped>\n",
              "    .dataframe tbody tr th:only-of-type {\n",
              "        vertical-align: middle;\n",
              "    }\n",
              "\n",
              "    .dataframe tbody tr th {\n",
              "        vertical-align: top;\n",
              "    }\n",
              "\n",
              "    .dataframe thead th {\n",
              "        text-align: right;\n",
              "    }\n",
              "</style>\n",
              "<table border=\"1\" class=\"dataframe\">\n",
              "  <thead>\n",
              "    <tr style=\"text-align: right;\">\n",
              "      <th></th>\n",
              "      <th>x000</th>\n",
              "    </tr>\n",
              "  </thead>\n",
              "  <tbody>\n",
              "    <tr>\n",
              "      <th>0</th>\n",
              "      <td>997.9</td>\n",
              "    </tr>\n",
              "    <tr>\n",
              "      <th>1</th>\n",
              "      <td>964.4</td>\n",
              "    </tr>\n",
              "    <tr>\n",
              "      <th>2</th>\n",
              "      <td>0.0</td>\n",
              "    </tr>\n",
              "    <tr>\n",
              "      <th>3</th>\n",
              "      <td>981.1</td>\n",
              "    </tr>\n",
              "    <tr>\n",
              "      <th>4</th>\n",
              "      <td>956.2</td>\n",
              "    </tr>\n",
              "  </tbody>\n",
              "</table>\n",
              "</div>\n",
              "    <div class=\"colab-df-buttons\">\n",
              "\n",
              "  <div class=\"colab-df-container\">\n",
              "    <button class=\"colab-df-convert\" onclick=\"convertToInteractive('df-816dab51-6c29-48d2-aa12-826c1ff3d0a5')\"\n",
              "            title=\"Convert this dataframe to an interactive table.\"\n",
              "            style=\"display:none;\">\n",
              "\n",
              "  <svg xmlns=\"http://www.w3.org/2000/svg\" height=\"24px\" viewBox=\"0 -960 960 960\">\n",
              "    <path d=\"M120-120v-720h720v720H120Zm60-500h600v-160H180v160Zm220 220h160v-160H400v160Zm0 220h160v-160H400v160ZM180-400h160v-160H180v160Zm440 0h160v-160H620v160ZM180-180h160v-160H180v160Zm440 0h160v-160H620v160Z\"/>\n",
              "  </svg>\n",
              "    </button>\n",
              "\n",
              "  <style>\n",
              "    .colab-df-container {\n",
              "      display:flex;\n",
              "      gap: 12px;\n",
              "    }\n",
              "\n",
              "    .colab-df-convert {\n",
              "      background-color: #E8F0FE;\n",
              "      border: none;\n",
              "      border-radius: 50%;\n",
              "      cursor: pointer;\n",
              "      display: none;\n",
              "      fill: #1967D2;\n",
              "      height: 32px;\n",
              "      padding: 0 0 0 0;\n",
              "      width: 32px;\n",
              "    }\n",
              "\n",
              "    .colab-df-convert:hover {\n",
              "      background-color: #E2EBFA;\n",
              "      box-shadow: 0px 1px 2px rgba(60, 64, 67, 0.3), 0px 1px 3px 1px rgba(60, 64, 67, 0.15);\n",
              "      fill: #174EA6;\n",
              "    }\n",
              "\n",
              "    .colab-df-buttons div {\n",
              "      margin-bottom: 4px;\n",
              "    }\n",
              "\n",
              "    [theme=dark] .colab-df-convert {\n",
              "      background-color: #3B4455;\n",
              "      fill: #D2E3FC;\n",
              "    }\n",
              "\n",
              "    [theme=dark] .colab-df-convert:hover {\n",
              "      background-color: #434B5C;\n",
              "      box-shadow: 0px 1px 3px 1px rgba(0, 0, 0, 0.15);\n",
              "      filter: drop-shadow(0px 1px 2px rgba(0, 0, 0, 0.3));\n",
              "      fill: #FFFFFF;\n",
              "    }\n",
              "  </style>\n",
              "\n",
              "    <script>\n",
              "      const buttonEl =\n",
              "        document.querySelector('#df-816dab51-6c29-48d2-aa12-826c1ff3d0a5 button.colab-df-convert');\n",
              "      buttonEl.style.display =\n",
              "        google.colab.kernel.accessAllowed ? 'block' : 'none';\n",
              "\n",
              "      async function convertToInteractive(key) {\n",
              "        const element = document.querySelector('#df-816dab51-6c29-48d2-aa12-826c1ff3d0a5');\n",
              "        const dataTable =\n",
              "          await google.colab.kernel.invokeFunction('convertToInteractive',\n",
              "                                                    [key], {});\n",
              "        if (!dataTable) return;\n",
              "\n",
              "        const docLinkHtml = 'Like what you see? Visit the ' +\n",
              "          '<a target=\"_blank\" href=https://colab.research.google.com/notebooks/data_table.ipynb>data table notebook</a>'\n",
              "          + ' to learn more about interactive tables.';\n",
              "        element.innerHTML = '';\n",
              "        dataTable['output_type'] = 'display_data';\n",
              "        await google.colab.output.renderOutput(dataTable, element);\n",
              "        const docLink = document.createElement('div');\n",
              "        docLink.innerHTML = docLinkHtml;\n",
              "        element.appendChild(docLink);\n",
              "      }\n",
              "    </script>\n",
              "  </div>\n",
              "\n",
              "\n",
              "<div id=\"df-3c7288e8-7219-440d-89c6-090232d81249\">\n",
              "  <button class=\"colab-df-quickchart\" onclick=\"quickchart('df-3c7288e8-7219-440d-89c6-090232d81249')\"\n",
              "            title=\"Suggest charts\"\n",
              "            style=\"display:none;\">\n",
              "\n",
              "<svg xmlns=\"http://www.w3.org/2000/svg\" height=\"24px\"viewBox=\"0 0 24 24\"\n",
              "     width=\"24px\">\n",
              "    <g>\n",
              "        <path d=\"M19 3H5c-1.1 0-2 .9-2 2v14c0 1.1.9 2 2 2h14c1.1 0 2-.9 2-2V5c0-1.1-.9-2-2-2zM9 17H7v-7h2v7zm4 0h-2V7h2v10zm4 0h-2v-4h2v4z\"/>\n",
              "    </g>\n",
              "</svg>\n",
              "  </button>\n",
              "\n",
              "<style>\n",
              "  .colab-df-quickchart {\n",
              "      --bg-color: #E8F0FE;\n",
              "      --fill-color: #1967D2;\n",
              "      --hover-bg-color: #E2EBFA;\n",
              "      --hover-fill-color: #174EA6;\n",
              "      --disabled-fill-color: #AAA;\n",
              "      --disabled-bg-color: #DDD;\n",
              "  }\n",
              "\n",
              "  [theme=dark] .colab-df-quickchart {\n",
              "      --bg-color: #3B4455;\n",
              "      --fill-color: #D2E3FC;\n",
              "      --hover-bg-color: #434B5C;\n",
              "      --hover-fill-color: #FFFFFF;\n",
              "      --disabled-bg-color: #3B4455;\n",
              "      --disabled-fill-color: #666;\n",
              "  }\n",
              "\n",
              "  .colab-df-quickchart {\n",
              "    background-color: var(--bg-color);\n",
              "    border: none;\n",
              "    border-radius: 50%;\n",
              "    cursor: pointer;\n",
              "    display: none;\n",
              "    fill: var(--fill-color);\n",
              "    height: 32px;\n",
              "    padding: 0;\n",
              "    width: 32px;\n",
              "  }\n",
              "\n",
              "  .colab-df-quickchart:hover {\n",
              "    background-color: var(--hover-bg-color);\n",
              "    box-shadow: 0 1px 2px rgba(60, 64, 67, 0.3), 0 1px 3px 1px rgba(60, 64, 67, 0.15);\n",
              "    fill: var(--button-hover-fill-color);\n",
              "  }\n",
              "\n",
              "  .colab-df-quickchart-complete:disabled,\n",
              "  .colab-df-quickchart-complete:disabled:hover {\n",
              "    background-color: var(--disabled-bg-color);\n",
              "    fill: var(--disabled-fill-color);\n",
              "    box-shadow: none;\n",
              "  }\n",
              "\n",
              "  .colab-df-spinner {\n",
              "    border: 2px solid var(--fill-color);\n",
              "    border-color: transparent;\n",
              "    border-bottom-color: var(--fill-color);\n",
              "    animation:\n",
              "      spin 1s steps(1) infinite;\n",
              "  }\n",
              "\n",
              "  @keyframes spin {\n",
              "    0% {\n",
              "      border-color: transparent;\n",
              "      border-bottom-color: var(--fill-color);\n",
              "      border-left-color: var(--fill-color);\n",
              "    }\n",
              "    20% {\n",
              "      border-color: transparent;\n",
              "      border-left-color: var(--fill-color);\n",
              "      border-top-color: var(--fill-color);\n",
              "    }\n",
              "    30% {\n",
              "      border-color: transparent;\n",
              "      border-left-color: var(--fill-color);\n",
              "      border-top-color: var(--fill-color);\n",
              "      border-right-color: var(--fill-color);\n",
              "    }\n",
              "    40% {\n",
              "      border-color: transparent;\n",
              "      border-right-color: var(--fill-color);\n",
              "      border-top-color: var(--fill-color);\n",
              "    }\n",
              "    60% {\n",
              "      border-color: transparent;\n",
              "      border-right-color: var(--fill-color);\n",
              "    }\n",
              "    80% {\n",
              "      border-color: transparent;\n",
              "      border-right-color: var(--fill-color);\n",
              "      border-bottom-color: var(--fill-color);\n",
              "    }\n",
              "    90% {\n",
              "      border-color: transparent;\n",
              "      border-bottom-color: var(--fill-color);\n",
              "    }\n",
              "  }\n",
              "</style>\n",
              "\n",
              "  <script>\n",
              "    async function quickchart(key) {\n",
              "      const quickchartButtonEl =\n",
              "        document.querySelector('#' + key + ' button');\n",
              "      quickchartButtonEl.disabled = true;  // To prevent multiple clicks.\n",
              "      quickchartButtonEl.classList.add('colab-df-spinner');\n",
              "      try {\n",
              "        const charts = await google.colab.kernel.invokeFunction(\n",
              "            'suggestCharts', [key], {});\n",
              "      } catch (error) {\n",
              "        console.error('Error during call to suggestCharts:', error);\n",
              "      }\n",
              "      quickchartButtonEl.classList.remove('colab-df-spinner');\n",
              "      quickchartButtonEl.classList.add('colab-df-quickchart-complete');\n",
              "    }\n",
              "    (() => {\n",
              "      let quickchartButtonEl =\n",
              "        document.querySelector('#df-3c7288e8-7219-440d-89c6-090232d81249 button');\n",
              "      quickchartButtonEl.style.display =\n",
              "        google.colab.kernel.accessAllowed ? 'block' : 'none';\n",
              "    })();\n",
              "  </script>\n",
              "</div>\n",
              "    </div>\n",
              "  </div>\n"
            ]
          },
          "metadata": {},
          "execution_count": 14
        },
        {
          "output_type": "display_data",
          "data": {
            "text/plain": [
              "<google.colab._quickchart_helpers.SectionTitle at 0x7d6429ef5810>"
            ],
            "text/html": [
              "<h4 class=\"colab-quickchart-section-title\">Distributions</h4>\n",
              "<style>\n",
              "  .colab-quickchart-section-title {\n",
              "      clear: both;\n",
              "  }\n",
              "</style>"
            ]
          },
          "metadata": {}
        },
        {
          "output_type": "display_data",
          "data": {
            "text/plain": [
              "from matplotlib import pyplot as plt\n",
              "_df_0['x000'].plot(kind='hist', bins=20, title='x000')\n",
              "plt.gca().spines[['top', 'right',]].set_visible(False)"
            ],
            "text/html": [
              "      <div class=\"colab-quickchart-chart-with-code\" id=\"chart-88e46412-3904-4485-ac8f-7e6f92074164\">\n",
              "        <img style=\"width: 180px;\" src=\"data:image/png;base64,iVBORw0KGgoAAAANSUhEUgAAAioAAAGrCAYAAADuNLxTAAAAOXRFWHRTb2Z0d2FyZQBNYXRwbG90\n",
              "bGliIHZlcnNpb24zLjcuMSwgaHR0cHM6Ly9tYXRwbG90bGliLm9yZy/bCgiHAAAACXBIWXMAAA9h\n",
              "AAAPYQGoP6dpAAAinUlEQVR4nO3de3BU9f3/8deStGugJCFcBAxJBJJQC+SCSVPwWieK2Ak0yAy0\n",
              "joCEBJChTpxRU4sVpITO2IzUNgaEQdSWiiFQJoh+0YLGegGE4K0giSwJGIiiJNiGSJLP7w/GHfeX\n",
              "BFnYk/0Eno+ZM8PuOX7yzs52+5zdkz0uY4wRAACAhXoEewAAAIDOECoAAMBahAoAALAWoQIAAKxF\n",
              "qAAAAGsRKgAAwFqECgAAsBahAgAArEWoAAAAaxEqAADAWoQKgKBqbm7Wvffeq379+ql37976xS9+\n",
              "odraWp9jduzYodTUVPXs2VNXX321nnrqKb/XANA9ESoAgio/P18VFRV67733dPToUUVFRSkrK0tt\n",
              "bW2SpMOHD+uOO+7QrFmzdPLkST3zzDN66KGHtHHjxvNeA0A3ZgDAQceOHTODBw82TzzxhPe+ZcuW\n",
              "mZiYGHPkyBETFhZmNm3a5N33+eefm9DQUPPGG28YY4x59NFHTXJyss+a9913n/n5z39ujDGmqanp\n",
              "e9cA0H3xjgoAR1155ZV68cUX9dvf/lZvvfWWtm/frsWLF6u0tFRffPGFmpqalJ6e7j2+X79+uvrq\n",
              "q7V3715JUmVlpc9+SUpLS/PuP3DgwPeuAaD7Cg32AAAufWPHjtWyZcs0ZcoUtbS0qKioSGlpaaqo\n",
              "qJAkRUZG+hzfp08fNTY2SpIaGxuVkJBwzv3ftwaA7ot3VAB0iZkzZ6qpqUlut1uzZs2SJIWHh0uS\n",
              "Tp486XPsV1995d0XHh7+vfu/bw0A3RehAqBL3HPPPUpNTVVERIQeeughSVJiYqLCwsK0a9cu73Ff\n",
              "fPGFPB6PUlJSJEnJyck++yVp9+7d3v3nswaAbizYJ8kAuPQVFRWZIUOGmM8//9wcOHDAhIeHmw0b\n",
              "NhhjjJk3b55JSkoyhw8fNo2Njebuu+82SUlJprW11RhjjMfjMWFhYaa4uNg0NzebN954w0RERHj/\n",
              "+/NZA0D3RagAcFRFRYXp1auXeffdd733lZaWmvDwcHPgwAFz+vRpM2/ePBMVFWV69eplJkyYYGpq\n",
              "anzW2L59u0lOTjZXXHGFiY2NNX/961999p/PGgC6J5cxxgT7XR0AAICOcI4KAACwFqECAACsRagA\n",
              "AABrESoAAMBahAoAALAWoQIAAKxFqAAAAGtdEqGyfPnyYI8AAAAccEmEyuHDh4M9AgAAcMAlESoA\n",
              "AODSRKgAAABrESoAAMBahAoAALAWoQIAAKxFqAAAAGsRKgAAwFqECgAAsBahAgAArEWoAAAAaxEq\n",
              "AADAWoQKAACwVpeEypo1a+RyubRp06YO95eXl2vEiBGKj49Xdna2Ghsbu2IsAABgOcdDxePx6Omn\n",
              "n1ZGRkaH+7/++mvNmjVLmzZt0sGDBzV48GA99thjTo8FAAC6AUdDpa2tTTk5OXryySfldrs7PGbr\n",
              "1q1KSUnRiBEjJEnz5s3TunXrOl2zublZjY2NPltra6sj8wMAgOAKdXLxoqIijRs3TmPGjOn0mJqa\n",
              "GsXGxnpvx8XFqa6uTi0tLQoNbT9eYWGhFi1a5HNfZ+/WAABwuYh7aIsj63qW3eHIuufLsXdUPvzw\n",
              "Q23YsEG/+93vArpuQUGBGhoafLb09PSA/gwAAGAHx95RqaiokMfjUXx8vCTp2LFjys3NVV1dnebO\n",
              "nes9LiYmRtu2bfPe9ng8GjRoUIfvpkiS2+1u9zFSSEiIA78BAAAINsfeUZk7d67q6urk8Xjk8XiU\n",
              "kZGhlStX+kSKJI0fP1579uzR/v37JUnFxcWaOnWqU2MBAIBuxNFzVDrzyCOPaPDgwZozZ4569+6t\n",
              "VatWadKkSWppadHIkSO1du3aYIwFAAAs02WhsmPHDu+/Fy9e7LMvKytLWVlZXTUKAADoJvhmWgAA\n",
              "YC1CBQAAWItQAQAA1iJUAACAtQgVAABgLUIFAABYi1ABAADWIlQAAIC1CBUAAGAtQgUAAFiLUAEA\n",
              "ANYiVAAAgLUIFQAAYC1CBQAAWItQAQAA1iJUAACAtQgVAABgLUIFAABYi1ABAADWIlQAAIC1CBUA\n",
              "AGAtQgUAAFiLUAEAANYiVAAAgLUIFQAAYC1CBQAAWItQAQAA1iJUAACAtQgVAABgLUIFAABYi1AB\n",
              "AADWIlQAAIC1CBUAAGAtQgUAAFiLUAEAANZyNFRuvfVWjR49WsnJybr++uu1d+/edsfs2LFDYWFh\n",
              "Sk5O9m5NTU1OjgUAALqJUCcXX79+vSIjIyVJGzdu1IwZM7Rv3752xyUmJqqystLJUQAAQDfkaKh8\n",
              "GymS1NDQIJfLddFrNjc3q7m52ee+1tbWi14XAADYx/FzVO6++24NGTJECxcu1HPPPdfhMdXV1UpN\n",
              "TVVaWpqKi4vPuV5hYaEiIiJ8tp07dzoxOgAACDLHQ+XZZ59VbW2tlixZogcffLDd/tTUVB05ckR7\n",
              "9uzRxo0bVVJSovXr13e6XkFBgRoaGny29PR0J38FAAAQJF32Vz/Tp0/X9u3bdeLECZ/7w8PDFRER\n",
              "IUmKjo7WtGnTVFFR0ek6brdb4eHhPltISIijswMAgOBwLFROnjypzz77zHt706ZN6tu3r6KionyO\n",
              "q6urU1tbmyTp1KlTKi8vV0pKilNjAQCAbsSxk2kbGho0ZcoUNTU1qUePHurfv7/Ky8vlcrmUk5Oj\n",
              "rKwsZWVlacOGDXrqqacUGhqqlpYWTZkyRTNnznRqLAAA0I24jDEm2ENcrPz8fBUVFQV7DAAAgibu\n",
              "oS2OrOtZdocj654vvpkWAABYi1ABAADWIlQAAIC1CBUAAGAtQgUAAFiLUAEAANYiVAAAgLUIFQAA\n",
              "YC1CBQAAWItQAQAA1iJUAACAtQgVAABgLUIFAABYi1ABAADWIlQAAIC1CBUAAGAtQgUAAFiLUAEA\n",
              "ANYiVAAAgLUIFQAAYC1CBQAAWItQAQAA1iJUAACAtQgVAABgLUIFAABYi1ABAADWIlQAAIC1CBUA\n",
              "AGAtQgUAAFiLUAEAANYiVAAAgLUIFQAAYC1CBQAAWItQAQAA1iJUAACAtRwNlVtvvVWjR49WcnKy\n",
              "rr/+eu3du7fD41avXq34+HgNGzZMs2fP1pkzZ5wcCwAAdBOOhsr69ev1/vvvq7KyUvn5+ZoxY0a7\n",
              "Yw4dOqSFCxeqoqJCVVVVOn78uFauXOnkWAAAoJtwNFQiIyO9/25oaJDL5Wp3TGlpqbKysjRw4EC5\n",
              "XC7NmTNH69at63TN5uZmNTY2+mytra1OjA8AAIIs1OkfcPfdd2v79u2SpJdeeqnd/pqaGsXGxnpv\n",
              "x8XFqaamptP1CgsLtWjRIp/7MjIyAjQtAACwieMn0z777LOqra3VkiVL9OCDD170egUFBWpoaPDZ\n",
              "0tPTAzApAACwTZf91c/06dO1fft2nThxwuf+mJgYHT582Hvb4/EoJiam03XcbrfCw8N9tpCQEMfm\n",
              "BgAAweNYqJw8eVKfffaZ9/amTZvUt29fRUVF+Rw3efJkbd68WceOHZMxRiUlJZo6dapTYwEAgG7E\n",
              "sXNUGhoaNGXKFDU1NalHjx7q37+/ysvL5XK5lJOTo6ysLGVlZWno0KFatGiRxo0bJ0m66aablJeX\n",
              "59RYAACgG3EZY0ywh7hY+fn5KioqCvYYAAAETdxDWxxZ17PsDkfWPV98My0AALAWoQIAAKxFqAAA\n",
              "AGsRKgAAwFqECgAAsBahAgAArEWoAAAAaxEqAADAWoQKAACwFqECAACsRagAAABrESoAAMBahAoA\n",
              "ALAWoQIAAKxFqAAAAGsRKgAAwFqECgAAsBahAgAArEWoAAAAaxEqAADAWoQKAACwFqECAACsRagA\n",
              "AABrESoAAMBahAoAALAWoQIAAKxFqAAAAGsRKgAAwFqECgAAsBahAgAArEWoAAAAaxEqAADAWoQK\n",
              "AACwFqECAACsRagAAABrORYqp0+f1qRJk5SQkKCkpCRlZmaqqqqq3XEej0chISFKTk72btXV1U6N\n",
              "BQAAupFQJxfPzc3V7bffLpfLpb/85S/KycnRjh072h3Xu3dvVVZWOjkKAADohhx7R+WKK67QhAkT\n",
              "5HK5JEkZGRnyeDwXvW5zc7MaGxt9ttbW1oteFwAA2KfLzlFZvny5Jk6c2OG+//73v0pLS1NqaqoW\n",
              "L158zvAoLCxURESEz7Zz506nxgYAAEHUJaGydOlSVVVVqbCwsN2+QYMG6ejRo9q1a5deffVVVVRU\n",
              "6E9/+lOnaxUUFKihocFnS09Pd3J8AAAQJI6HyuOPP66ysjJt3bpVPXv2bLff7XZrwIABkqSoqCjd\n",
              "c889qqio6HQ9t9ut8PBwny0kJMSx+QEAQPA4GipFRUVat26dtm3bpsjIyA6Pqa+v15kzZySdPf+k\n",
              "rKxMKSkpTo4FAAC6CcdC5ciRI7r//vt18uRJ3XzzzUpOTtZPf/pTSdIjjzyikpISSdKbb76plJQU\n",
              "JSUlKTU1VQMHDtTDDz/s1FgAAKAbcezPk6Ojo2WM6XDf4sWLvf/Ozs5Wdna2U2MAAIBujG+mBQAA\n",
              "1iJUAACAtQgVAABgLUIFAABYy+9QeeWVV5yYAwAAoB2/Q2Xx4sVKTEzU8uXL1djY6MRMAAAAki4g\n",
              "VP7973/rH//4hz788EMlJCRo3rx5+vjjj52YDQAAXOYu6ByVlJQUPf3003r55ZdVXl6u0aNHKzMz\n",
              "Ux988EGg5wMAAJexCwqVV199VRMnTlR2drbuvfdeHTt2THl5efrlL38Z6PkAAMBlzO9vpv3xj3+s\n",
              "fv36acGCBcrOzvZeEPDOO+/U6tWrAz4gAAC4fPkdKs8//7zGjBnT4b6tW7de9EAAAADf8vujn/fe\n",
              "e09ffvml9/aJEyf09NNPB3QoAAAA6QJCpbi4WFFRUd7bffv2VXFxcUCHAgAAkC4gVDq6InJra2tA\n",
              "hgEAAPguv0Nl0KBBWr9+vff2Cy+8oEGDBgV0KAAAAOkCTqZ94oknNHHiRD3wwAOSpJ49e+qf//xn\n",
              "wAcDAADwO1RGjBihjz/+WAcOHJAkJSYmev9EGQAAIJD8DhVJcrlcioyMVEtLi44ePSpJiomJCehg\n",
              "AAAAfofKM888owULFugHP/iBevQ4e4qLy+VSfX19wIcDAACXN79D5bHHHtOuXbuUmJjoxDwAAABe\n",
              "fv/VT79+/YgUAADQJfwOlUmTJumJJ55QfX29GhsbvRsAAECg+f3Rz8MPPyxJys/Pl8vlkjFGLpeL\n",
              "L30DAAAB53eotLW1OTEHAABAO35/9COdvTDhc889J0k6efKk6urqAjoUAACAdIEXJbznnnv06KOP\n",
              "Sjp79eRf/epXgZ4LAADA/1BZuXKl3nnnHYWHh0uShg0bps8//zzggwEAAPgdKm63W2FhYT73hYZe\n",
              "0BfcAgAAnJPfodK/f3998skncrlcks5+Uy1fnw8AAJxwQVdPnjZtmvbv368hQ4YoPDxc5eXlTswG\n",
              "AAAuc36HyvDhw/Xuu+/qwIEDMsZw9WQAAOAYv0OlpqZGktSrVy9J4urJAADAMX6HypgxY7zfSHv6\n",
              "9Gn973//U9++fbl6MgAACDi/Q+X//1PksrIy7du3L2ADAQAAfOuCvpn2u7Kzs7Vly5ZAzAIAAODD\n",
              "71D57hWTv/rqK7388ssdXj359OnTmjRpkhISEpSUlKTMzExVVVV1uGZ5eblGjBih+Ph4ZWdnczVm\n",
              "AAAg6QJCJTIyUn369FFkZKQGDBig/Px8/fnPf+7w2NzcXB04cED79u3TxIkTlZOT0+6Yr7/+WrNm\n",
              "zdKmTZt08OBBDR48WI899pj/vwkAALjk+B0qbW1tam1tVVtbm86cOaOPP/5Y48ePb3fcFVdcoQkT\n",
              "Jni/GC4jI0Mej6fdcVu3blVKSopGjBghSZo3b57WrVvX6c9vbm72eVensbFRra2t/v4aAACgG7jo\n",
              "c1TO1/LlyzVx4sR299fU1Cg2NtZ7Oy4uTnV1dWppaelwncLCQkVERPhsO3fudGxuAAAQPH6HSo8e\n",
              "PRQSEtJu+/b+jixdulRVVVUqLCy86IELCgrU0NDgs6Wnp1/0ugAAwD5+/3ny4sWL1dTUpLlz50qS\n",
              "SkpKFBYWpvvuu6/D4x9//HGVlZXp1VdfVc+ePdvtj4mJ0bZt27y3PR6PBg0a1OmFDt1ut9xut899\n",
              "fDMuAACXJr/fUdm4caP+8Ic/KDo6WtHR0VqyZInKysrUq1cv77fVfquoqEjr1q3Ttm3bFBkZ2eF6\n",
              "48eP1549e7R//35JUnFxsaZOner/bwIAAC45fr+jcurUKdXX12vAgAGSpPr6ep06dardcUeOHNH9\n",
              "99+voUOH6uabb5Z09t2Qd999V4888ogGDx6sOXPmqHfv3lq1apUmTZqklpYWjRw5UmvXrr3IXwsA\n",
              "AFwK/A6V+++/X0lJSZowYYIk6eWXX9ajjz7a7rjo6GgZYzpcY/HixT63s7KylJWV5e8oAADgEud3\n",
              "qOTl5WncuHHavn27JCk/P18/+clPAj4YAACA36EiSX379tWoUaN00003qaWlRd98841++MMfBno2\n",
              "AABwmfP7ZNrS0lJlZGRo5syZkqSPPvpIkyZNCvRcAAAA/odKYWGh9uzZ4/0rnqSkJB0+fDjQcwEA\n",
              "APgfKiEhIerbt6/PfXzsAwAAnOB3qPTu3VvHjx/3XsPntddeU1RUVMAHAwAA8Ptk2j/+8Y+6/fbb\n",
              "9emnn+q6667ToUOHtGXLFidmAwAAlzm/QuXbKydv375db731lowxGjt2bKffOgsAAHAx/AqVHj16\n",
              "KDc3V/v27dPtt9/u1EwAAACSLuAclfj4eFVVVTkxCwAAgA+/z1H58ssvlZycrLFjx+pHP/qR9/6y\n",
              "srKADgYAAHDeoZKbm6uVK1dq+vTpysrKUp8+fZycCwAA4PxDZffu3ZKk6dOnKzU1VXv27HFsKAAA\n",
              "AOkCzlGR1OlVkQEAAALpvN9RaWpq0gcffCBjjE6fPu3997dGjx7tyIAAAODy5VeoZGVleW9/998u\n",
              "l0uffvppYCcDAACXvfMOFY/H4+AYAAAA7V3QOSoAAABdgVABAADWIlQAAIC1CBUAAGAtQgUAAFiL\n",
              "UAEAANYiVAAAgLUIFQAAYC1CBQAAWItQAQAA1iJUAACAtQgVAABgLUIFAABYi1ABAADWIlQAAIC1\n",
              "CBUAAGAtQgUAAFiLUAEAANZyNFQWLFiguLg4uVwuVVZWdnjMjh07FBYWpuTkZO/W1NTk5FgAAKCb\n",
              "CHVy8TvvvFMPPPCArrvuunMel5iY2GnIAACAy5ejoXLDDTcEfM3m5mY1Nzf73Nfa2hrwnwMAAILP\n",
              "inNUqqurlZqaqrS0NBUXF5/z2MLCQkVERPhsO3fu7KJJAQBAVwp6qKSmpurIkSPas2ePNm7cqJKS\n",
              "Eq1fv77T4wsKCtTQ0OCzpaend+HEAACgqwQ9VMLDwxURESFJio6O1rRp01RRUdHp8W63W+Hh4T5b\n",
              "SEhIV40LAAC6UNBDpa6uTm1tbZKkU6dOqby8XCkpKUGeCgAA2MDRUMnLy1N0dLSOHDmi2267TcOH\n",
              "D5ck5eTkaPPmzZKkDRs2aNSoUUpKSlJGRoYyMzM1c+ZMJ8cCAADdhMsYY4I9xMXKz89XUVFRsMcA\n",
              "ACBo4h7a4si6nmV3OLLu+Qr6Rz8AAACdIVQAAIC1CBUAAGAtQgUAAFiLUAEAANYiVAAAgLUIFQAA\n",
              "YC1CBQAAWItQAQAA1iJUAACAtQgVAABgLUIFAABYi1ABAADWIlQAAIC1CBUAAGAtQgUAAFiLUAEA\n",
              "ANYiVAAAgLUIFQAAYC1CBQAAWItQAQAA1iJUAACAtQgVAABgLUIFAABYi1ABAADWIlQAAIC1CBUA\n",
              "AGAtQgUAAFiLUAEAANYiVAAAgLUIFQAAYC1CBQAAWItQAQAA1iJUAACAtQgVAABgLUdDZcGCBYqL\n",
              "i5PL5VJlZWWnx61evVrx8fEaNmyYZs+erTNnzjg5FgAA6CYcDZU777xTb775pmJjYzs95tChQ1q4\n",
              "cKEqKipUVVWl48ePa+XKlU6OBQAAuglHQ+WGG25QdHT0OY8pLS1VVlaWBg4cKJfLpTlz5mjdunWd\n",
              "Ht/c3KzGxkafrbW1NdCjAwAAC4QGe4Camhqfd1zi4uJUU1PT6fGFhYVatGiRz30ZGRmOzBb30BZH\n",
              "1pUkz7I7HFsbAIBLRbc7mbagoEANDQ0+W3p6erDHAgAADgj6OyoxMTGqrq723vZ4PIqJien0eLfb\n",
              "Lbfb7XNfSEiIY/MBAIDgCfo7KpMnT9bmzZt17NgxGWNUUlKiqVOnBnssAABgAUdDJS8vT9HR0Tpy\n",
              "5Ihuu+02DR8+XJKUk5OjzZs3S5KGDh2qRYsWady4cRo+fLj69++vvLw8J8cCAADdhKMf/axYsaLD\n",
              "+1etWuVze/bs2Zo9e7aTowAAgG4o6B/9AAAAdIZQAQAA1iJUAACAtQgVAABgLUIFAABYi1ABAADW\n",
              "IlQAAIC1CBUAAGAtQgUAAFiLUAEAANYiVAAAgLUIFQAAYC1CBQAAWItQAQAA1iJUAACAtQgVAABg\n",
              "LUIFAABYi1ABAADWIlQAAIC1CBUAAGAtQgUAAFiLUAEAANYiVAAAgLUIFQAAYC1CBQAAWItQAQAA\n",
              "1iJUAACAtQgVAABgLUIFAABYi1ABAADWIlQAAIC1CBUAAGAtQgUAAFiLUAEAANYiVAAAgLUcDZWD\n",
              "Bw9q7NixSkhIUFpamj766KN2x+zYsUNhYWFKTk72bk1NTU6OBQAAuolQJxfPy8tTbm6uZsyYodLS\n",
              "Us2YMUO7du1qd1xiYqIqKyudHAUAAHRDjr2jUl9fr927d+uuu+6SJE2ePFm1tbWqqqq6qHWbm5vV\n",
              "2Njos7W2tgZiZAAAYBnHQqW2tlaDBg1SaOjZN21cLpdiYmJUU1PT7tjq6mqlpqYqLS1NxcXF51y3\n",
              "sLBQERERPtvOnTsd+R0AAEBwBf1k2tTUVB05ckR79uzRxo0bVVJSovXr13d6fEFBgRoaGny29PT0\n",
              "LpwYAAB0FcdCZciQIaqrq1NLS4skyRijmpoaxcTE+BwXHh6uiIgISVJ0dLSmTZumioqKTtd1u90K\n",
              "Dw/32UJCQpz6NQAAQBA5FioDBgxQamqqnn/+eUnShg0bFB0dreHDh/scV1dXp7a2NknSqVOnVF5e\n",
              "rpSUFKfGAgAA3YijH/2sWLFCK1asUEJCgpYtW6Y1a9ZIknJycrR582ZJZwNm1KhRSkpKUkZGhjIz\n",
              "MzVz5kwnxwIAAN2Eo3+enJiYqLfffrvd/atWrfL+e/78+Zo/f76TYwAAgG4q6CfTAgAAdIZQAQAA\n",
              "1iJUAACAtQgVAABgLUIFAABYi1ABAADWIlQAAIC1CBUAAGAtQgUAAFiLUAEAANYiVAAAgLUIFQAA\n",
              "YC1CBQAAWItQAQAA1iJUAACAtQgVAABgLUIFAABYi1ABAADWIlQAAIC1CBUAAGAtQgUAAFiLUAEA\n",
              "ANYiVAAAgLUIFQAAYC1CBQAAWItQAQAA1iJUAACAtQgVAABgLUIFAABYi1ABAADWIlQAAIC1CBUA\n",
              "AGAtQgUAAFiLUAEAANYiVAAAgLUcDZWDBw9q7NixSkhIUFpamj766KMOj1u9erXi4+M1bNgwzZ49\n",
              "W2fOnHFyLAAA0E04Gip5eXnKzc3VJ598ogcffFAzZsxod8yhQ4e0cOFCVVRUqKqqSsePH9fKlSud\n",
              "HAsAAHQTjoVKfX29du/erbvuukuSNHnyZNXW1qqqqsrnuNLSUmVlZWngwIFyuVyaM2eO1q1b1+m6\n",
              "zc3Namxs9NlaW1ud+jUAAEAQhTq1cG1trQYNGqTQ0LM/wuVyKSYmRjU1NRo+fLj3uJqaGsXGxnpv\n",
              "x8XFqaamptN1CwsLtWjRIp/7RowYofz8/IDO39raqkE7dyo9PV0hISEBXVuS8vNfC/ia3VVra6t2\n",
              "OvhY4ywe567DY901eJx9ZTu07m9+83+OPc6xsbH6zW9+c85jHAsVpxQUFLSLErfbLbfbHdCf09jY\n",
              "qIiICL3yyisKDw8P6NrwxWPdNXicuw6Pddfgce4awX6cHQuVIUOGqK6uTi0tLQoNDZUxRjU1NYqJ\n",
              "ifE5LiYmRtXV1d7bHo+n3THf5USUAAAAOzl2jsqAAQOUmpqq559/XpK0YcMGRUdH+3zsI509d2Xz\n",
              "5s06duyYjDEqKSnR1KlTnRoLAAB0I47+1c+KFSu0YsUKJSQkaNmyZVqzZo0kKScnR5s3b5YkDR06\n",
              "VIsWLdK4ceM0fPhw9e/fX3l5eU6OBQAAuglHz1FJTEzU22+/3e7+VatW+dyePXu2Zs+e7eQofnO7\n",
              "3fr973/Px0xdgMe6a/A4dx0e667B49w1gv04u4wxJig/GQAA4HvwFfoAAMBahAoAALAWoQIAAKxF\n",
              "qAAAAGsRKp043ys/49xOnz6tSZMmKSEhQUlJScrMzPRe76m+vl7jx49XfHy8Ro4cqTfeeMP7351r\n",
              "H85tzZo1crlc2rRpkyQeZyc0Nzdr/vz5io+P16hRo7zXNDvX6wavKf576aWXlJqaquTkZI0cOVJr\n",
              "166VxHP6Yi1YsEBxcXFyuVyqrKz03n+hz1/Hn9sGHbr55pvNmjVrjDHGvPjii+baa68N7kDdVFNT\n",
              "k9myZYtpa2szxhjz5JNPmhtvvNEYY8zMmTPN73//e2OMMTt37jRXXXWV+eabb753Hzp36NAh87Of\n",
              "/cxkZGSYjRs3GmN4nJ1w3333mfnz53uf13V1dcaYc79u8Jrin7a2NtOnTx+zb98+Y8zZ57bb7TaN\n",
              "jY08py/S66+/bmpra01sbKzZu3ev9/4Lff46/dwmVDpw/Phx07t3b3PmzBljzNn/wVx55ZXm4MGD\n",
              "QZ6s+9u1a5eJjY01xhjTq1cv7wu8McakpaWZbdu2fe8+dKy1tdXccsstZvfu3ebGG2/0hgqPc2B9\n",
              "/fXXpnfv3qahocHn/nO9bvCa4r+2tjYTFRVlXn/9dWOMMfv27TODBw82zc3NPKcD5LuhcqHP3654\n",
              "bvPRTwfOdeVnXJzly5dr4sSJOnHihM6cOaOBAwd693175exz7UPnioqKNG7cOI0ZM8Z7H49z4FVX\n",
              "VysqKkpLly7Vtddeq+uvv16vvfbaOV83eE3xn8vl0gsvvKDs7GzFxsbquuuu09q1a3Xq1Cme0w64\n",
              "0OdvVzy3u93Vk9F9LV26VFVVVXrttdfU1NQU7HEuKR9++KE2bNjA5/FdoKWlRYcPH9Y111yjZcuW\n",
              "ae/evcrMzNSWLVuCPdolpaWlRUuWLFFZWZluuOEG7dq1S1lZWT7nVODywDsqHfjulZ8ldXrlZ5y/\n",
              "xx9/XGVlZdq6dat69uypvn37KjQ0VMeOHfMe8+2Vs8+1Dx2rqKiQx+NRfHy84uLi9M477yg3N1fr\n",
              "16/ncQ6wmJgY9ejRQ7/+9a8lSSkpKbr66qt1+PDhTl83eE3xX2VlpT777DPdcMMNkqS0tDRFR0fr\n",
              "/fff5zntgHM9Ry90X6AQKh043ys/4/wUFRVp3bp12rZtmyIjI733T5kyRSUlJZKkXbt26ejRo7rx\n",
              "xhu/dx/amzt3rurq6uTxeOTxeJSRkaGVK1dq7ty5PM4B1q9fP91yyy165ZVXJEmHDh3SoUOHNG7c\n",
              "uE5fN3hN8d+3/wf4n//8R5JUVVWl6upqJSYm8px2wLmeoxe6L2ACdrbLJWb//v0mIyPDxMfHmzFj\n",
              "xpj3338/2CN1S7W1tUaSGTp0qElKSjJJSUkmPT3dGGPMsWPHTGZmphk+fLi55pprzL/+9S/vf3eu\n",
              "ffh+3z2Zlsc58Kqrq81NN91kRo4caUaPHm1KS0uNMed+3eA1xX9///vfvY/xyJEjzd/+9jdjDM/p\n",
              "i5Wbm2uuuuoqExISYgYMGGCGDRtmjLnw56/Tz20uSggAAKzFRz8AAMBahAoAALAWoQIAAKxFqAAA\n",
              "AGsRKgAAwFqECgAAsBahAgAArEWoAAAAaxEqAADAWoQKAACw1v8DH5OPQ2banqAAAAAASUVORK5C\n",
              "YII=\n",
              "\">\n",
              "      </div>\n",
              "      <script type=\"text/javascript\">\n",
              "        (() => {\n",
              "          const chartElement = document.getElementById(\"chart-88e46412-3904-4485-ac8f-7e6f92074164\");\n",
              "          async function getCodeForChartHandler(event) {\n",
              "            const chartCodeResponse =  await google.colab.kernel.invokeFunction(\n",
              "                'getCodeForChart', [\"chart-88e46412-3904-4485-ac8f-7e6f92074164\"], {});\n",
              "            const responseJson = chartCodeResponse.data['application/json'];\n",
              "            await google.colab.notebook.addCell(responseJson.code, 'code');\n",
              "          }\n",
              "          chartElement.onclick = getCodeForChartHandler;\n",
              "        })();\n",
              "      </script>\n",
              "      <style>\n",
              "        .colab-quickchart-chart-with-code  {\n",
              "            display: block;\n",
              "            float: left;\n",
              "            border: 1px solid transparent;\n",
              "        }\n",
              "\n",
              "        .colab-quickchart-chart-with-code:hover {\n",
              "            cursor: pointer;\n",
              "            border: 1px solid #aaa;\n",
              "        }\n",
              "      </style>"
            ]
          },
          "metadata": {}
        },
        {
          "output_type": "display_data",
          "data": {
            "text/plain": [
              "<google.colab._quickchart_helpers.SectionTitle at 0x7d6429ef57b0>"
            ],
            "text/html": [
              "<h4 class=\"colab-quickchart-section-title\">Values</h4>\n",
              "<style>\n",
              "  .colab-quickchart-section-title {\n",
              "      clear: both;\n",
              "  }\n",
              "</style>"
            ]
          },
          "metadata": {}
        },
        {
          "output_type": "display_data",
          "data": {
            "text/plain": [
              "from matplotlib import pyplot as plt\n",
              "_df_1['x000'].plot(kind='line', figsize=(8, 4), title='x000')\n",
              "plt.gca().spines[['top', 'right']].set_visible(False)"
            ],
            "text/html": [
              "      <div class=\"colab-quickchart-chart-with-code\" id=\"chart-43213aa9-3111-4038-b08f-adbeac8874a9\">\n",
              "        <img style=\"width: 180px;\" src=\"data:image/png;base64,iVBORw0KGgoAAAANSUhEUgAAAqUAAAFuCAYAAAC4H2HYAAAAOXRFWHRTb2Z0d2FyZQBNYXRwbG90\n",
              "bGliIHZlcnNpb24zLjcuMSwgaHR0cHM6Ly9tYXRwbG90bGliLm9yZy/bCgiHAAAACXBIWXMAAA9h\n",
              "AAAPYQGoP6dpAABDZUlEQVR4nO3deXTU9b3/8dcsyWQhCYQQCCQhZMMFZdEggiyy6bWLrVZtrQsu\n",
              "Ba072lu959qee889ev1VUdS6Vqkt99qqoLYuV/ZNRUDFBTUbhISwhASykGWSmfn+/pgYiWwBJvOZ\n",
              "5fk4Zw5hvt9855XvGSYv3vOd79dmWZYlAAAAwCC76QAAAAAApRQAAADGUUoBAABgHKUUAAAAxlFK\n",
              "AQAAYBylFAAAAMZRSgEAAGAcpRQAAADGUUoBAABgHKUUAAAAxlFKASCI3G63brnlFqWlpSkpKUk/\n",
              "/OEPVVVV1W2dVatWacyYMUpISNCwYcP09NNPH/c2ACDcUEoBIIjmzp2rtWvX6uOPP1Z1dbVSU1P1\n",
              "4x//WD6fT5K0fft2/eAHP9ANN9yg+vp6/fnPf9a9996r119/vcfbAIBwZLMsyzIdAgAixZ49ezRm\n",
              "zBj967/+q+644w5J0kMPPaSnnnpKH3zwgQoKCvTyyy/r4osvliTV1tYqIyNDK1as0MSJE/Uf//Ef\n",
              "euONN/Tpp592bfOuu+7S559/ruXLl6utrU2pqalH3QYAhCMmpQAQQAMHDtSrr76qf/u3f9MHH3yg\n",
              "lStX6j//8z/12muvqba2Vq2trRo7dmzX+mlpaRo2bFhXCd28eXO35ZJUVFTUtby4uPiY2wCAcOQ0\n",
              "HQAAIs348eP13//937rsssvk8Xg0b948FRUVae3atZKkvn37dlu/X79+amxslCQ1NjaqsLDwqMuP\n",
              "tQ0ACEdMSgGgF1x33XVqbW2Vy+XSDTfcIElKTk6WJNXX13dbd//+/V3LkpOTj7n8WNsAgHBEKQWA\n",
              "XnD99ddrzJgxSklJ0b333itJGj58uOLj47Vx48au9Wpra1VRUaHRo0dLkkaNGtVtuSRt2rSpa3lP\n",
              "tgEA4YhSCgAB9uijj2r9+vX629/+pkWLFun555/X4sWLFRcXp+uuu06/+93vVFlZqaamJt199906\n",
              "7bTTNGHCBEnSrFmz9M033+jpp59We3u71q5dqxdffFG33HKLJPVoGwAQjiilABBA69at0/3336/X\n",
              "XntNaWlpKiws1IsvvqjrrrtOJSUlmjdvniZMmKDRo0crIyNDtbW1+uc//ym73f9yPHToUL3zzjt6\n",
              "7rnnlJKSoquvvloPPPCALrnkkq7HONY2ACAccUooAAAAGMd/qwEAAGAcpRQAAADGUUoBAABgHKUU\n",
              "AAAAxlFKAQAAYBylFAAAAMZRSgEAAGBc2JfS+fPnm44AAACAkxT2pXT79u2mIwAAAOAkhX0pBQAA\n",
              "QPijlAIAAMA4SikAAACMo5QCAADAOEopAAAAjKOUAgAAwDhKKQAAAIyjlAIAAMC44yqlt99+u3Jy\n",
              "cmSz2bR58+au+0tLSzV+/HgVFhaqqKhIW7ZsOellAAAAiB7HVUp/9rOfad26dRo6dGi3++fMmaPZ\n",
              "s2erpKREv/3tbzVr1qyTXgYAAIDoYbMsyzreb8rJydEbb7yhUaNGqaamRvn5+dq3b5+cTqcsy1JG\n",
              "RobWrVun5OTkE1qWn5/f4yxz587VvHnzjvdHAAAAQAhxnuwGqqqqlJGRIafTvymbzabs7GxVVlYq\n",
              "JSXlhJYdqZS63W653e5u93m93pP9EXqk7oBbsxZsVEp8jFLiY5Tc+ecRbwkxSnI5ZbfbgpIPAAAg\n",
              "nJ10KQ2mBx98UP/xH//R7b5x48YF5bH3t3Toi+qG4/oem01Kjju0sB6u0PZN6L6cQgsAAKLJSZfS\n",
              "rKws7dq1Sx6Pp+tt+MrKSmVnZys5OfmElh3Jfffdp7lz53a77/777z/ZH6FHBqXE6cVZZ6uhtUMN\n",
              "LR1qaPX4v+66tXf7e1uHT5alrr8fL7tNSjpGoT24yFJoAQBAODvpUpqenq4xY8Zo4cKFmjVrlhYt\n",
              "WqTMzMyut+BPdNnhuFwuuVyubvc5HI6T/RF6pI/LqamnDOzx+m6PVw2tHWrsVly/K7T1nSX2kOWd\n",
              "hdbXS4X2cEWWQgsAAEw7rg86zZkzR2+//bZ2796t/v37KykpSWVlZSouLtasWbNUV1en5ORkLViw\n",
              "QGeccYYknfCynorEDzp9v9DWtxxaXI9WaE/GkQptylHKLIUWAMzp8Ppkt9nk4PUXYe6EPn0fSiKx\n",
              "lJ6Mtg7vYcvq0Qrtt6XX7Qlsoe2b0IMPhFFoAeCEfVBeq1kLNqrd41NcjF19XE4lupxKiHWqj8uh\n",
              "RJdTibFOJXb72r8soevrg5a7nOoT61SCy6EYB9fXQXCF1QedcGxxMQ7FxTiUnhx33N/b00LbcJjJ\n",
              "rdsTmEMOvv+BLwotAByeZVl64J2v1d45UGjr8Kmto121B9oDsv1Yp7/kJsQ6Diq7332dGHtQkf3+\n",
              "su+V4ESXQy5ncA63Q/iilKJLbxXabyexR1oeiEL7/QLbk0KbkhCjPrEUWgDh6b0te/RldaMSYx16\n",
              "+/aJcthtam73qNnt0QG3Vy1ujw64/X9vbvf6//x2Wft3y1ravd+t5/aq3esvue0en/Z52rWvOTB5\n",
              "Yxy2zgmuv6Qe/PXhprhdRdjVWXYPmvj2cTnlctpls/H6HUkopQiIQBbawx1De6xCW9/i/77jdTyF\n",
              "tu/Byyi0AAzy+Sw9urREknTdhGHKSUsM2LbbPb6u0vr9wuovuN997V/H//fDFeDmdk/XZx06vNYJ\n",
              "Dx8Ox2G3HXFy++3XfToPZUjsLLYJnaX3uwnud8viYxyUXMMopTDuZAvtsQ4t+H6hre/8sz0IhbZv\n",
              "fIwmFg7QkL7xx719ADiSt7/YpeI9TUqKc+pXE3MDuu1Yp12xzlj1TYgNyPY8Xp+a272d5fV7U9z2\n",
              "7/5+uClu94Lr7ZrsSpLXZ6mpzaOmNk9Actps+m4ae9BhB90K7MFlt9sEt/sUNyHW/30MLo4PpRRh\n",
              "7dtCO7AXC239YSa0x1Nos1LjtWzuZI6nAhAQXp+lx5b5p6Q3nperlIQYw4mOzumwKyXerpT4wOT0\n",
              "+iy1tPd8invA3X1ye8i67R5ZlmRZ0oHO75Pcx8zREwmxjh596CzxCFPcgz+QlhjrkDPCP3xGKUXU\n",
              "6q1CW3/QdHZVcY2q9rXq7xurdM25OYH/IQBEnTc3V6t8b7P6JsTo+vNyTMcJOofdpqS4GCXFxajn\n",
              "Zw8/Mp/PUpvn24J7+AL77bJjTXG/XebrPK9RS7tXLe1e1R4IQFBJLqf9sB8665rOHnaKe/BhDd8d\n",
              "rpDocobcGRYopcAJ6Gmh/euHFbr/zS16YkWZLjsrS/GxTEsBnLgOr0/zl5dKkmZPylVSXGhPScOB\n",
              "3e7/AFZCrFNKOvntWZYlt8fXfYr77TG6R5ritn+37uGO0/V0tly3xye3p111zSd/hoWfF2Xpvy89\n",
              "86S3E0iUUqAXXVGUrWfXbNWO/a36y4cVmjM5z3QkAGFs8Sc7tL2uRf0TY3Ut776EJJvN1jW4SOvj\n",
              "OvY39IDb4/3eYQffn+IeeXLb8r2vD7g9avf4lOgKvQoYeomACBLrtOuOaQX6zWuf6+nV5frFOdlK\n",
              "ZrIB4AS0e3x6fHmZJOnmKXkhWSrQO1xO/3leUxMD8+GzDq9PXl/oXTsptA4mACLQT0cPUe6ARNW3\n",
              "dOiFtdtMxwEQpv6+qUrV9a1KT3LpqnFDTcdBGItx2BUXE3qHk1FKgV7mdNh194zhkqQX1m3TvgAc\n",
              "CwQgurR1ePXHFf4p6S3n54dkoQBOFqUUCIJ/GTFIp2Uk64Dbo2dWl5uOAyDM/O9Hldrd2KbBKXH6\n",
              "+dgs03GAXkEpBYLAbrfpngsKJUkvfVChPY1thhMBCBet7V49tcr/n9lbpxZwzmNELEopECTnD0/X\n",
              "WUP7ye3x6cnOt+EA4Fj+8mGFag+4lZUar8vOzjQdB+g1lFIgSGw2m+6Z6T+29OUNlara12I4EYBQ\n",
              "d/AhP7dPLQi5k50DgcSzGwiic/P667z8NHl8lh5bVmo6DoAQ9+f3t2l/S4dy0xL109FDTMcBehWl\n",
              "FAiyey7wT0tf/3SHymqaDKcBEKoaWjv03JqtkqQ7phdE/HXPAZ7hQJCNyuqrGacNlM+SHl3KtBTA\n",
              "4b2wdqsa2zwqSO+jH5452HQcoNdRSgED7p5ZKJtNevuLXfqyusF0HAAhZn9zu158v0KSdNeMQjns\n",
              "NrOBgCCglAIGnDIoWT/qnHw8sqTYcBoAoebZNVt1wO3RqRnJuvD0QabjAEFBKQUM+Xb6sbJ4rzZV\n",
              "7DMdB0CI2Nvk1ksfVEiS7p5RKDtTUkQJSilgyLC0RF12lv+cg394r1iWZRlOBCAUPLO6XK0dXo3M\n",
              "6qtpp6abjgMEDaUUMOi2aQWKddj10bZ9WldWazoOAMP2NLZp4frtkqS5MwplszElRfSglAIGDekb\n",
              "r1+Oy5YkPcy0FIh6f1xZJrfHp7OH9tOkgjTTcYCgopQChv16Sr7iYxz6bEeDlny1x3QcAIZU17fq\n",
              "bxuqJElzZzIlRfShlAKGDUhy6boJOZKkeUtK5PUxLQWi0ZMrStXu9enc3P4an8eUFNGHUgqEgDmT\n",
              "8pQU51Txnia99flO03EABFllXYte3bRDkv88xkA0opQCISAlIUZzJuVKkh5dWqIOr89wIgDBNH95\n",
              "qTw+S5MKB+jsnFTTcQAjKKVAiLhuwjD1T4xVRV2LXvt4h+k4AIKkfO8Bvf6p/9/83BlMSRG9KKVA\n",
              "iEh0OfXr8/MlSY8vL1Vbh9dwIgDBMH9ZqXyWNP3UdI3K6ms6DmAMpRQIIb88J1sZKXHa1dCm//2o\n",
              "0nQcAL2seHeT/tl5HPldTEkR5SilQAiJi3HotqkFkvznK2x2ewwnAtCbHltWIsuS/mXEIJ0+OMV0\n",
              "HMAoSikQYi47O1ND+yeorrldf+68/jWAyLNlZ4Pe/XK3bDampIBEKQVCTozDrrum+39BPbu6XA0t\n",
              "HYYTAegNjy4tkST96MzBKhyYZDgNYB6lFAhBPxo5WIUD+6ixzaPn1pabjgMgwDZX1WvZ1zWy26Q7\n",
              "pheYjgOEBEopEIIcdpvmzhguSVrwfoVqD7gNJwIQSPM6p6Q/HZ2pvAF9DKcBQgOlFAhRF5w+UGdm\n",
              "pqil3aunVjItBSLFpop9WlOyV067TXdMY0oKfItSCoQom82me2b6p6UL12/XzvpWw4kABMIjS/xT\n",
              "0svOzlR2/wTDaYDQQSkFQtjEgjSNHZaqdq9PT6woNR0HwEn6oLxWH26tU6zDrlunMiUFDkYpBUKY\n",
              "zWbTby7wT0tf2bRDFbXNhhMBOFGWZWle55T052OzNKRvvOFEQGihlAIhrignVVOGD5DXZ+mxZSWm\n",
              "4wA4QWtKa7Vp+365nHbd0nlJYQDfoZQCYeDbY0vf/Gyninc3GU4D4Hj5p6TFkqSrxg3VwOQ4w4mA\n",
              "0EMpBcLAiCEpuuiMQbIs6ZHOX2wAwsfyr2v02Y4Gxcc4dPOUPNNxgJBEKQXCxNwZhbLbpCVf7dFn\n",
              "VfWm4wDoIZ/P6jov6bXjc5TWx2U4ERCaKKVAmMhPT9JPRg+RJD3MtBQIG/+3Zbe+2tWoPi6n5kzK\n",
              "NR0HCFmUUiCM3DmtUE67TWtLa7V+a53pOACOweuzuq5xf/2EHPVLjDWcCAhdlFIgjGT3T9DPx2ZJ\n",
              "kh5+r1iWZRlOBOBo3vp8p0prDig5zqkbJjIlBY4moKX0nXfe0ZgxYzRq1CiNGDFCL730kiSppqZG\n",
              "F154oQoKCjRixAitWbOm63uOtgzAoW6bWiCX065N2/drVfFe03EAHIHH69Njy/wXvfjVxFylxMcY\n",
              "TgSEtoCVUsuydNVVV+nPf/6zNm/erLfeektz5sxRU1OT7r33Xo0bN06lpaVasGCBrrzySnV0dEjS\n",
              "UZcBONTA5Dhdc+5QSf5jS30+pqVAKHr902ptq21Wv4QYXXfeMNNxgJAX0EmpzWZTfX29JKmxsVH9\n",
              "+/eXy+XSK6+8optuukmSVFRUpMGDB2v16tWSdNRlAA7v5in5Sox1aMvORv3flt2m4wD4ng6vT493\n",
              "Xhr4psl56uNyGk4EhL6A/Sux2Wz6+9//rksuuUSJiYnav3+/Fi9erKamJnV0dGjQoEFd6+bk5Kiy\n",
              "slJ1dXVHXHY4brdbbre7231erzdQPwIQNlITY3XDxFw9vrxUjywp1gWnD5LDbjMdC0CnVzftUNW+\n",
              "VqX1cemac3NMxwHCQsAmpR6PR//1X/+lxYsXa/v27Vq+fLmuvvpqeTyeQD2EHnzwQaWkpHS7bdiw\n",
              "IWDbB8LJjROHKSU+RuV7m/X6p9Wm4wDo5PZ49WTnlPTXU/IUH+swnAgIDwErpZs3b9bOnTs1adIk\n",
              "Sf634jMzM/X555/L6XRq9+7v3mKsqKhQdna2+vfvf8Rlh3PfffepoaGh223s2LGB+hGAsJIcF9N1\n",
              "ZZjHlpWo3eMznAiAJP1tQ5V2NrRpUHKcrjzn8L/PABwqYKU0KytLu3bt0tdffy1JKisrU3l5uYYP\n",
              "H67LLrtMzzzzjCRp48aNqq6u1uTJkyXpqMu+z+VyKTk5udvN4eB/oIhe156bowFJLu3Y36q/b6oy\n",
              "HQeIem0dXv1xZZkk6Zap+YqL4XcU0FMBO6Z04MCBeu6553T55ZfLbrfL5/PpySefVHZ2th566CFd\n",
              "ffXVKigoUGxsrBYuXKiYGP+pMY62DMDRxcc6dOv5+fr9P7boieWl+tmYTN4qBAxauH67aprcGtI3\n",
              "XlecnWU6DhBWbFaYn3177ty5mjdvnukYgDFuj1dTH16t6vpW/dtFp2j2pDzTkYCo1Oz2aNL/W6m6\n",
              "5nY9dOkZuqKIt+6B48EVnYAw53I6dMf0AknS06vK1dTGeX4BE176sEJ1ze0a2j9Bl4zJNB0HCDuU\n",
              "UiACXDJ6iHIHJGp/S4deWLfNdBwg6jS1dei5NVslSXdMK1CMg1+vwPHiXw0QAZwOu+6aXihJ+tPa\n",
              "bdrf3G44ERBdXlxXofqWDuUNSNTFo4aYjgOEJUopECF+cEaGTs1I1gG3R8+sKTcdB4gaDS0d+tM6\n",
              "/5T0zumFXMgCOEGUUiBC2O023TPTPy196YMK1TS2GU4ERIfn125VU5tHpwxK0g/OyDAdBwhblFIg\n",
              "gkw9JV2js/uqrcOnJzvPlQig9+xrbteC9/3Hcd85vVB2pqTACaOUAhHEZrPpNxcMlyS9vKFSVfta\n",
              "DCcCItuzq8vV3O7ViCHJuuD0gabjAGGNUgpEmPF5aZqQ318dXkuPLy81HQeIWDVNbXrpwwpJ0twZ\n",
              "hbLZmJICJ4NSCkSge2b6p6WLPtmhspoDhtMAkenpVeVq6/BpVFZfnT883XQcIOxRSoEINDq7n6af\n",
              "OlA+S3p0WYnpOEDE2dXQqv/5qFKSdPdMpqRAIFBKgQjl/0Upvf35Lm3Z2WA6DhBR/riyTO0en8bm\n",
              "pOq8/DTTcYCIQCkFItSpGcn64ZmDJUmPLGFaCgTKjv0t+vvGKknSXKakQMBQSoEIdtf0AjnsNq34\n",
              "pkYfb99vOg4QEZ5YXqYOr6UJ+f01Lre/6ThAxKCUAhEsd0Af/WxMpiTpD+99I8uyDCcCwltFbbNe\n",
              "+2SHJGnujOGG0wCRhVIKRLjbpxco1mHX+q379H5Znek4QFh7fHmpvD5LU4YP0FlD+5mOA0QUSikQ\n",
              "4Yb0jdeV52RLkv6wpJhpKXCCymoO6I3N1ZL85yUFEFiUUiAK/Pr8PMXHOPRZVb2WfV1jOg4Qlh5b\n",
              "ViKfJc04baDOzOxrOg4QcSilQBRIT4rTrAk5kqRHlhTL52NaChyPr3c16q3Pd0liSgr0FkopECXm\n",
              "TMpVksupb3Y36Z+f7zQdBwgrjy71n1btB2dk6NSMZMNpgMhEKQWiRN+EWM2elCtJemxZqTxen+FE\n",
              "QHj4YkeDlny1R3abdNeMAtNxgIhFKQWiyHXnDVNqYqy21TZrUedpbQAc3bylxZKki0cNUX56kuE0\n",
              "QOSilAJRpI/LqV9PyZMkzV9WKrfHazgRENo+3r5fK4v3ymG36Y5pTEmB3kQpBaLMVeOGalBynHY2\n",
              "tOl/P6o0HQcIad8eS3rpmCHKSUs0nAaIbJRSIMrExTh027R8SdIfV5appd1jOBEQmj7aWqd1ZbWK\n",
              "cdh021SmpEBvo5QCUejys7OUnZqg2gPtWvB+hek4QMixLEuPdE5JLz87S1mpCYYTAZGPUgpEoRiH\n",
              "XXdO909+nl1drobWDsOJgNDyflmdNmzbp1inXbdOzTcdB4gKlFIgSl08aogK0vuosc2jP63dajoO\n",
              "EDL8U1L/J+6vHJutjJR4w4mA6EApBaKUw27T3TP9V6Z5Yd021R5wG04EhIZVxXv1aWW94mLs+vX5\n",
              "eabjAFGDUgpEsQtOH6QzhqSopd2rp1eVm44DGGdZluZ1Hkt6zbk5Sk+KM5wIiB6UUiCK2Ww23XPB\n",
              "cEnSX9dv166GVsOJALOWfLVHX1Q3KCHWoTmdV0ADEByUUiDKTSpI09icVLV7fHpiRZnpOIAxPp/V\n",
              "dV7S6ybkqH8fl+FEQHShlAJR7uBp6Ssbq7S9rtlwIsCMd77cpW92NynJ5dSvJjIlBYKNUgpAY4el\n",
              "anLhAHl8lh5bVmo6DhB03oOe+zdMHKa+CbGGEwHRh1IKQJJ0z0z/tPSNzdUq2dNkOA0QXP/4rFpl\n",
              "NQeUEh+j688bZjoOEJUopQAkSWdkpujC0wfJsqRHlhSbjgMEjcfr0/zOKensSblKjosxnAiITpRS\n",
              "AF3unlkom016b8sefb6j3nQcICgWf1KtiroW9U+M1azxOabjAFGLUgqgS8HAJP101BBJ0sNLSgyn\n",
              "AXpfu8en+cv9U9KbJucp0eU0nAiIXpRSAN3cOb1QTrtNa0r26qOtdabjAL3qlU1Vqq5v1YAkl64a\n",
              "N9R0HCCqUUoBdJPdP0GXF2VJkh5eUizLsgwnAnpHW4dXT3aem/eWKXmKj3UYTgREN0opgEPcPrVA\n",
              "sU67Nlbs1+qSvabjAL3i5Q2V2t3YpoyUOP18bLbpOEDUo5QCOMSglDhd0/lWJtNSRKLWdq/+uLJc\n",
              "knTr1HzFxTAlBUyjlAI4rJun5Ckx1qEvqxv1f1/uNh0HCKi/rq9Q7QG3MvvF67KzskzHASBKKYAj\n",
              "6N/HpRs6TyL+yNISeX1MSxEZDrg9emb1VknS7dP8h6oAMI9/iQCO6MZJuUqJj1FZzQG9ubnadBwg\n",
              "IF76oEL7mts1LC1Rl4weYjoOgE6UUgBHlBwXozmTcyVJjy4rUbvHZzgRcHIa2zr03Br/lPSOaQVy\n",
              "Ovg1CIQK/jUCOKpZ43OU1selqn2temVTlek4wEl5Ye02NbR2qCC9j340crDpOAAOQikFcFQJsU7d\n",
              "en6eJOmJFaVq6/AaTgScmP3N7Xph3TZJ/otEOOw2w4kAHCygpdTtduvWW29VQUGBzjjjDF111VWS\n",
              "pNLSUo0fP16FhYUqKirSli1bur7naMsAhIZfnJOtIX3jtafRrb9+uN10HOCEPLd2qw64PTo1I1n/\n",
              "MmKQ6TgAviegpfTee++VzWZTSUmJvvjiCz388MOSpDlz5mj27NkqKSnRb3/7W82aNavre462DEBo\n",
              "cDkdun1aviTp6dXlOuD2GE4EHJ/aA279+f0KSdLcGYWyMyUFQo7NCtBZsZubm5WRkaEdO3YoOTm5\n",
              "6/6amhrl5+dr3759cjqdsixLGRkZWrdunZKTk4+4LD8/v0ePO3fuXM2bNy8QPwKAo/B4fZrx6Bpt\n",
              "q23W3BmFun1agelIQI/911tf6U/rtmlkZoreuGWCbDZKKRBqAjYpLS8vV2pqqh544AGdffbZmjhx\n",
              "opYvX66qqiplZGTI6XRKkmw2m7Kzs1VZWXnUZYfjdrvV2NjY7eb1cnwbEAxOh113zSiUJD2/Zqvq\n",
              "W9oNJwJ6Zk9jm/663n/YyV0zCimkQIgKWCn1eDzavn27TjvtNG3atEmPP/64rrjiCnk8gXub78EH\n",
              "H1RKSkq324YNGwK2fQBH98MzMnTKoCQ1HXTycSDUPbWyTG6PT2cN7afJhQNMxwFwBAErpdnZ2bLb\n",
              "7frlL38pSRo9erSGDRum7du3a9euXV3l1LIsVVZWKjs7W1lZWUdcdjj33XefGhoaut3Gjh0bqB8B\n",
              "wDHY7TbdM3O4JOnPH2xTTVOb4UTA0VXXt+rlDf5Tmd3NlBQIaQErpWlpaZo2bZree+89SdK2bdu0\n",
              "bds2TZgwQWPGjNHChQslSYsWLVJmZqby8/OVnp5+xGWH43K5lJyc3O3mcDgC9SMA6IFpp6ZrVFZf\n",
              "tXX49NTKctNxgKN6ckWZ2r0+jctN1fj8NNNxABxFwD7oJElbt27VDTfcoNraWtntdv3ud7/TpZde\n",
              "quLiYs2aNUt1dXVKTk7WggULdMYZZ0jSUZf1BB90AoLv/bJa/fJPHynGYdPKe6Yos1+C6UjAISrr\n",
              "WjT1kVXy+Cy9etO5KspJNR0JwFE4A7mx3NxcrVy58pD7hw8frg8//PCw33O0ZQBC04T8NI3P668P\n",
              "yuv0+PJS/b+fjTQdCTjE4ytK5fFZmliQRiEFwgBXdAJwQu65wH9s6aJPqlW+94DhNEB3W/ce0OJP\n",
              "dkiS7u48DhpAaKOUAjghY7L7adop6fL6LD26tMR0HKCb+ctL5bOkaaf4j4EGEPoopQBO2LcTqLc+\n",
              "36WvdjYaTgP4lexp0j8+2ylJXefWBRD6KKUATthpg5P1wzMzJEnzlhYbTgP4PbasRJYlXXj6II0Y\n",
              "kmI6DoAeopQCOCl3zSiU3SYt+7pGn1TuNx0HUW7Lzga988Vu2WxMSYFwQykFcFLyBvTRpWMyJUkP\n",
              "v8e0FGY9urRUkvTDMwdr+KAkw2kAHA9KKYCTdsf0AsU4bPqgvE7vl9WajoMo9VlVvZZ9vUd2m3Tn\n",
              "9ALTcQAcJ0opgJOW2S9BV471Xx74D+8VK4DX5AB6bF7nWSB+MnqI8gb0MZwGwPGilAIIiFum5isu\n",
              "xq7NVfVa/nWN6TiIMh9v36fVJXvlsNt0xzSmpEA4opQCCIj0pDjNGj9MkvTwkmL5fExLETyPLPFP\n",
              "SS87K1ND+ycaTgPgRFBKAQTMTZNzleRy6pvdTXr7i12m4yBKfFhepw/K6xTjsOnWqfmm4wA4QZRS\n",
              "AAHTNyFWN07MlSQ9urREHq/PcCJEOsuyus6R+/OibGX2SzCcCMCJopQCCKgbJg5TamKsttY2a/En\n",
              "1abjIMKtLa3Vxor9inXadcv5TEmBcEYpBRBQfVxO3Tw5T5L/+uNuj9dwIkQqy7L0SOcn7q86Z6gG\n",
              "pcQZTgTgZFBKAQTc1ecO1cBkl6rrW/XyR5Wm4yBCrfimRp9V1Ss+xqGbp+SZjgPgJFFKAQRcXIxD\n",
              "t031n5bnyZXlamn3GE6ESOM/ltQ/Jb1m/FANSHIZTgTgZFFKAfSKy8/OUlZqvGoPuPXSB9tNx0GE\n",
              "eW/Lbm3Z2ajEWIfmTGJKCkQCSimAXhHrtOvOaYWSpGdWl6uhtcNwIkQKn8/qusb99ef5P1gHIPxR\n",
              "SgH0mp+MHqL89D5qaO3QC2u3mo6DCPHWF7tUvKdJyXHOrlOQAQh/lFIAvcZht+nuGf5p6Qvrtqnu\n",
              "gNtwIoQ7j9enxzqPJf3VxFylxMcYTgQgUCilAHrVhSMGacSQZDW3e/XM6nLTcRDm3ti8U1trm9Uv\n",
              "IUbXnTfMdBwAAUQpBdCrbDab7p45XJL00ofbtbuhzXAihKsOr0+PL/cfSzpncp76uJyGEwEIJEop\n",
              "gF43pXCAinL6qd3j0xMrSk3HQZh67eMdqtzXorQ+sbrm3KGm4wAIMEopgF5ns9l0T+e09O8bq1RZ\n",
              "12I4EcKN2+PVE51T0pun5CshlikpEGkopQCC4pzc/ppYkCaPz9Jjy0pMx0GY+fvGKu1saNPAZJd+\n",
              "eU626TgAegGlFEDQ/OYC/7T09c3VKt3TZDgNwkVbh1dPriiTJN16fr7iYhyGEwHoDZRSAEFzZmZf\n",
              "XXD6QFmWui4RCRzLwvXbVdPk1pC+8bq8KMt0HAC9hFIKIKjunjlcNpv07pe79cWOBtNxEOJa2j1d\n",
              "pxK7bWq+XE6mpECkopQCCKrCgUm6eORgSdLDS4oNp0Goe+mD7ao90K7s1ARdelam6TgAehGlFEDQ\n",
              "3Tm9UE67TatL9mrDtn2m4yBENbV16Nk1/inpHdMKFOPgVxYQyfgXDiDoctISddnZ/mMDH36vWJZl\n",
              "GU6EULTg/QrVt3Qod0CifjJ6iOk4AHoZpRSAEbdPy1es064NFfu0prTWdByEmIaWDj2/dqsk/2Td\n",
              "YbcZTgSgt1FKARiRkRKvq8f5r8rzyBKmpejuT+u2qqnNo+EDk/TDMzJMxwEQBJRSAMbcPCVPCbEO\n",
              "fb6jQe9t2WM6DkLEvuZ2vbhumyTprhkFsjMlBaICpRSAMWl9XLp+wjBJ/mmp18e0FNKza8rV3O7V\n",
              "6YOTdcHpg0zHARAklFIARv1qUq6S45wqrTmgf3xWbToODNvb5NZfPtguSZo7o1A2G1NSIFpQSgEY\n",
              "lRIfozmT8yRJjy4tVYfXZzgRTHp6VblaO7waldVXU09JNx0HQBBRSgEYd92EHKX1iVXlvha9sqnK\n",
              "dBwYsruhTQs/YkoKRCtKKQDjEmKduuX8fEnSE8vL1NbhNZwIJvxxZZnaPT4V5fTTxII003EABBml\n",
              "FEBIuPKcbA1OidPuxjYtXL/ddBwE2Y79LfrbxkpJ0twZw5mSAlGIUgogJLicDt0+rUCS9NSqch1w\n",
              "ewwnQjA9uaJMHV5L4/P669y8/qbjADCAUgogZFx6VqZy+idoX3O7FnSepxKRb3tds179eIck6e6Z\n",
              "hYbTADCFUgogZMQ47Lprhr+UPLd2qxpaOgwnQjDMX14qr8/S5MIBOmtoquk4AAyhlAIIKT86c7BO\n",
              "GZSkpjaPnl1TbjoOellZzQG98an//LRzZzAlBaIZpRRASLHbbV3lZMH7FappajOcCL1p/vJS+Sxp\n",
              "+qkDNTKrr+k4AAyilAIIOTNO8xeU1g6vnlrJtDRSFe9u0luf75TElBQApRRACLLZbPrNzOGSpP/9\n",
              "qFLV9a2GE6E3PLq0RJYl/eCMDJ02ONl0HACGBbyULliwQDabTW+88YYkqaamRhdeeKEKCgo0YsQI\n",
              "rVmzpmvdoy0DEN0m5PfXuNxUtXt9enxZqek4CLAvqxv0f1t2y2aT7pxeYDoOgBAQ0FJaUVGh559/\n",
              "XuPGjeu6795779W4ceNUWlqqBQsW6Morr1RHR8cxlwGIbjabTb+5wD8tfe2THdpW22w4EQJp3tIS\n",
              "SdLFIwerYGCS4TQAQkHASqnP59ONN96oJ554Qi6Xq+v+V155RTfddJMkqaioSIMHD9bq1auPuQwA\n",
              "zhqaqqmnpMvrs/RoZ4lB+Pukcr9WfFMjh92mO6ZzLCkAv4CV0nnz5mnChAk666yzuu6rq6tTR0eH\n",
              "Bg0a1HVfTk6OKisrj7rsSNxutxobG7vdvF6ukQ1Esm9Ppv6Pz3bq612NhtMgEL79D8Ylo4doWFqi\n",
              "4TQAQkVASumXX36pRYsW6d///d8DsbkjevDBB5WSktLttmHDhl59TABmnT44RT84M0OS9MgSpqXh\n",
              "bsO2fVpbWiun3dZ1WVkAkAJUSteuXauKigoVFBQoJydH69ev1+zZs/XKK6/I6XRq9+7dXetWVFQo\n",
              "Oztb/fv3P+KyI7nvvvvU0NDQ7TZ27NhA/AgAQthd0wtlt0nLvt6jTyv3m46DE2RZlh5ZUixJurwo\n",
              "S1mpCYYTAQglASmlN998s3bt2qWKigpVVFRo3Lhxeu6553TzzTfrsssu0zPPPCNJ2rhxo6qrqzV5\n",
              "8mRJOuqyw3G5XEpOTu52czgcgfgRAISw/PQ+umRMpiTp4c5Sg/DzQXmdPtq2T7EOu249P990HAAh\n",
              "xtnbD/DQQw/p6quvVkFBgWJjY7Vw4ULFxMQccxkAHOyOaQV6c3O13i+r0wfltRqfl2Y6Eo7DwVPS\n",
              "K8/J1uC+8YYTAQg1vVJKV61a1fX1wIEDtWTJksOud7RlAHCwrNQE/WJstv7y4XY9/F6xFt3cXzab\n",
              "zXQs9NCqkr36pLJeLqddv56SZzoOgBDEFZ0AhI1bz89XXIxdn1TWa2Vxjek46CHL+u6UXtecO1Tp\n",
              "yXGGEwEIRZRSAGEjPTlO156bI0n6w3sl8vkss4HQI0u/2qPPdzQoIdahmyYzJQVweJRSAGHlpsl5\n",
              "6uNy6utdjXrny12m4+AYfD6r6+pNs8bnqH8f1zG+A0C0opQCCCv9EmN148RhkvyXqvR4fYYT4Wje\n",
              "/XK3vtndpCSXU7Mn5ZqOAyCEUUoBhJ0bzhumfgkx2rq3WYs/rTYdB0fg9Vl6dJl/Snr9ecPUNyHW\n",
              "cCIAoYxSCiDsJMXF6ObOT3DPX1Yqt4fLDYeif362U2U1B5QSH6MbOqfbAHAklFIAYemac3OUnuRS\n",
              "dX2r/r6xynQcfI/H69P85aWSpNmTcpUcxzmoARwdpRRAWIqLcei2qf6rAj2xokyt7UxLQ8niT6u1\n",
              "rbZZqYmxmjU+x3QcAGGAUgogbF1RlK3MfvHa2+TWSx9WmI6DTu0enx7vnJLeNDlXia5ev3gggAhA\n",
              "KQUQtmKddt05vVCS9MzqcjW2dRhOBEl69eMq7djfqgFJLl09Lsd0HABhglIKIKz9dPQQ5Q1IVH1L\n",
              "h/60dpvpOFGvrcOrJ1eUSZJ+PSVP8bEOw4kAhAtKKYCw5rDbNHfGcEnSC2u3al9zu+FE0e1vGyq1\n",
              "q6FNGSlx+sXYbNNxAIQRSimAsPcvIwbp9MHJam736pnV5abjRK3Wdq/+uMq//285P19xMUxJAfQc\n",
              "pRRA2LPbbbpnpn9a+tIHFdrT2GY4UXRauH679ja5ldkvXpefnWU6DoAwQykFEBGmDB+gs4b2k9vj\n",
              "0xMrSk3HiTrNbo+e7pxS3z61QLFOfr0AOD68agCICDabTb+5wD8t/duGKlXtazGcKLr8+YMK7Wtu\n",
              "V07/BF0yZojpOADCEKUUQMQYl9tfEwvS5PFZemwZ09JgaWzr0HNrtkqS7pheIKeDXy0Ajh+vHAAi\n",
              "yt2dx5a+/ukOldU0GU4THV5ct00NrR3KT++jH49kSgrgxFBKAUSUUVl9NfO0gfJZ0rylJabjRLz6\n",
              "lna90Hl+2LumF8phtxlOBCBcUUoBRJy7Zw6XzSa988VufVndYDpORHt+7VY1uT06ZVCS/mXEINNx\n",
              "AIQxSimAiDN8UJJ+PHKwJOnhJcWG00SuugNuLXi/QpI0d0ah7ExJAZwESimAiPTtW8mrivdqU8U+\n",
              "03Ei0jOry9XS7tWZmSmacdpA03EAhDlKKYCIlJOWqMvPzpQk/eG9YlmWZThRZKlpbNNfPtwuSbpr\n",
              "RqFsNqakAE4OpRRAxLptaoFiHXZ9tG2f1pXVmo4TUZ5aVS63x6cx2X01pXCA6TgAIgClFEDEGtw3\n",
              "Xr8cly2JaWkg7axv1f9+VCnp2w+VMSUFcPIopQAi2q+n5Csh1qHPdzRoyVd7TMeJCE+uLFO716dz\n",
              "hqVqfF5/03EARAhKKYCINiDJpesm5EiS5i0pkdfHtPRkVO1r0SsbqyQxJQUQWJRSABFv9sQ8JcU5\n",
              "VbynSf/8bKfpOGHt8eWl8vgsTSxI09hhqabjAIgglFIAES8lIUY3Tc6TJD26rEQdXp/hROFpW22z\n",
              "Fn9aLcl/XlIACCRKKYCoMGt8jtL6xGp7XYte+3iH6Thhaf4y/+EPU09J1+jsfqbjAIgwlFIAUSHR\n",
              "5dTNU/Il+d+CbuvwGk4UXkr3NOnNzkMfmJIC6A2UUgBR45fnZCsjJU67Gtr0P52nNELPPLasVJYl\n",
              "XXD6QI0YkmI6DoAIRCkFEDXiYhy6fVqBJOmplWVqdnsMJwoPX+1s1Ntf7JLN5r96EwD0BkopgKjy\n",
              "s7MyNbR/guqa27Xg/W2m44SFR5eVSJJ+cEaGThmUbDgNgEhFKQUQVWIcdt013T/te3bNVjW0dBhO\n",
              "FNo+31GvpV/tkd0m3TmdKSmA3kMpBRB1fjRysIYPTFJTm0fPrS03HSekzVvqn5L+ZNQQ5af3MZwG\n",
              "QCSjlAKIOg67TXNn+qd+C96v0N4mt+FEoenj7fu1qnivHHZb17G4ANBbKKUAotLM0wZqZGaKWtq9\n",
              "empVmek4IWne0mJJ0s/GZConLdFwGgCRjlIKICrZbDbdc8FwSdL/rK/UzvpWw4lCy/qtdXq/rE4x\n",
              "Dptum5ZvOg6AKEApBRC1zstP0znDUtXu9emJFaWm44QMy7I0b4n/WNIrirKU2S/BcCIA0YBSCiBq\n",
              "2Ww2/aZzWvrKph3aVttsOFFoWFdWqw0V+xTrtOvW8zmWFEBwUEoBRLWzc1J1/vAB8vosPdZ5Ps5o\n",
              "ZlmWHumckv7ynGwNSokznAhAtKCUAoh6d8/0T0v/8dlOfbO70XAas1YW12hzVb3iYuy6eUqe6TgA\n",
              "ogilFEDUGzEkRRedMUiWpa4pYTSyLKvrvKTXnpuj9CSmpACCh1IKAJLmziiU3SYt/WqPNlfVm45j\n",
              "xHtb9ujL6kYlxjo0ZzJTUgDBRSkFAEn56Un66ehMSdIjS4oNpwk+n8/So51T0uvPG6bUxFjDiQBE\n",
              "G0opAHS6c3qBYhw2rS2t1YfldabjBNXbX+xS8Z4mJcU5deN5uabjAIhCASulbW1t+slPfqLCwkKN\n",
              "HDlSM2bMUFmZ/yopNTU1uvDCC1VQUKARI0ZozZo1Xd93tGUAEExZqQm6oihLkvTwkmJZlmU4UXAc\n",
              "fOaBX03MVUpCjOFEAKJRQCels2fPVnFxsT777DNdfPHFuvHGGyVJ9957r8aNG6fS0lItWLBAV155\n",
              "pTo6Oo65DACC7bapBXI57V3XfY8Gb26uVvneZvVNiNF1E3JMxwEQpQJWSuPi4nTRRRfJZrNJksaN\n",
              "G6eKigpJ0iuvvKKbbrpJklRUVKTBgwdr9erVx1wGAME2MDlO147PkeSflvp8kT0t7fD69Ngy/9Ws\n",
              "5kzKU1IcU1IAZvTaMaXz58/XxRdfrLq6OnV0dGjQoEFdy3JyclRZWXnUZYfjdrvV2NjY7eb1envr\n",
              "RwAQpW6anKc+Lqe27GzUu1/uNh2nVy36eIcq97UorU+srh0/1HQcAFGsV0rpAw88oLKyMj344IMB\n",
              "3e6DDz6olJSUbrcNGzYE9DEAIDUxVjecN0ySNG9psbwROi11e7x6YoX/2P+bJucpIdZpOBGAaBbw\n",
              "Uvrwww9r8eLFevfdd5WQkKD+/fvL6XRq9+7vpg0VFRXKzs4+6rLDue+++9TQ0NDtNnbs2ED/CACg\n",
              "GycOU9+EGJXvbdbrn1abjtMrXtlYper6Vg1MdumqcUxJAZgV0FI6b948vfzyy1q6dKn69u3bdf9l\n",
              "l12mZ555RpK0ceNGVVdXa/Lkycdc9n0ul0vJycndbg6HI5A/AgBIkpLiYnRT5wnkH1tWonaPz3Ci\n",
              "wGrr8OrJlf4p6S3n5ysuhtdSAGYF7L2aHTt26O6771Zubq7OP/98Sf4S+dFHH+mhhx7S1VdfrYKC\n",
              "AsXGxmrhwoWKifEfTH+0ZQBg0rXn5uiFddu0Y3+r/r6xUlefm2M6UsD8z0eV2tPo1uCUuK7TYAGA\n",
              "SQErpZmZmUc8p9/AgQO1ZMmS414GACbFxzp029R8/e7NLXpiRZl+dlaW4mPDf6LY0u7R06v8U9Lb\n",
              "phXI5Qz/nwlA+OOKTgBwFD8vytaQvvGqaXLrLx9WmI4TEH/5cLtqD7QrOzVBPzsr03QcAJBEKQWA\n",
              "o4p12nXH9AJJ0tOry9XUFt4X9zjg9ujZ1eWSpNunFSjGwa8BAKGBVyMAOIZLRg9R7oBE1bd06IV1\n",
              "20zHOSkL1m3T/pYO5aYl6iejBpuOAwBdKKUAcAxOh11zZxRKkv60dpv2N7cbTnRiGlo79PzarZKk\n",
              "O6YXyMmUFEAI4RUJAHrgohEZOjUjWQfcHj3T+fZ3uHlh7VY1tnlUOLCPfnQmU1IAoYVSCgA9YLfb\n",
              "9JsL/NPSlz6sUE1jm+FEx2d/c7tefL9CknTX9ELZ7TazgQDgeyilANBD5w9P15jsvmrr8HWdeD5c\n",
              "PLtmqw64PTotI1kXnD7IdBwAOASlFAB6yGaz6Z4LhkuSXt5Qqap9LYYT9czeJrde+qBCkjR3BlNS\n",
              "AKGJUgoAx2F8XprOy09Th9fS/OWlpuP0yDOry9Xa4dXIrL6admq66TgAcFiUUgA4Tt9OSxd/skNl\n",
              "NQcMpzm6PY1tWrh+uyT/lNRmY0oKIDRRSgHgOI3K6qvppw6Uz5IeXVpiOs5R/XFlmdwen84e2k+T\n",
              "CtJMxwGAI6KUAsAJuHtmoWw26e0vdunL6gbTcQ6rur5Vf9tQJUmaO5MpKYDQRikFgBNwakZy17k+\n",
              "54XotPTJFaVq9/p0bm5/jc9jSgogtFFKAeAE3TWjUA67TSu+qdHH2/eZjtNNZV2LXt20Q5J/qgsA\n",
              "oY5SCgAnaFhaon42JlOS9If3imVZluFE35m/vFQen6VJhQN0dk6q6TgAcEyUUgA4CbdPL1Csw671\n",
              "W/fp/bI603EkSeV7D+j1T/1T0rkzmJICCA+UUgA4CUP6xuvKc7IlSX9YEhrT0vnLSuWzpOmnpmtU\n",
              "Vl/TcQCgRyilAHCSbjk/X/ExDn1WVa+lX+0xmqV4d5P++flOSf5jXgEgXFBKAeAkDUhy6boJOZL8\n",
              "n8T3+cxNSx9bViLLki46Y5BOH5xiLAcAHC9KKQAEwJxJeUqKc+qbgyaVwbZlZ4Pe/XK3bDbpzulM\n",
              "SQGEF0opAARASkKMZk/MleS/ylOH1xf0DN9eXerHIwercGBS0B8fAE4GpRQAAuS684apf2KsKupa\n",
              "tOjjHUF97E8r92vZ1zWy26Q7phUE9bEBIBAopQAQIH1cTt08JU+S9PjyUrV1eIP22N9eVeqSMZnK\n",
              "HdAnaI8LAIFCKQWAALpq3FANSo7TzoY2/e9HlUF5zI0V+7S2tFZOu40pKYCwRSkFgACKi3Ho9s5i\n",
              "+NSqMrW0e3r9MR9ZUixJuuzsLGWlJvT64wFAb6CUAkCAXXZ2pob2T1DtgXYteL+iVx/rg7Jard+6\n",
              "T7EOu26bmt+rjwUAvYlSCgABFuOw687p/mnps6vL1dDa0SuPY1mWHuk8lvQXY7M0uG98rzwOAAQD\n",
              "pRQAesGPRw5RQXofNbZ59Pyarb3yGKtL9urj7fvlctp1y/lMSQGEN0opAPQCh92mu2cOlyS9+P42\n",
              "1R5wB3T7lmV1feL+6nFDlZ4cF9DtA0CwUUoBoJdccPpAnZmZopZ2r55eVR7QbS/7ukaf72hQQqxD\n",
              "N3WehgoAwhmlFAB6ic323bT0r+u3a1dDa0C26/N9NyW9dnyO0vq4ArJdADCJUgoAvWhSQZrGDktV\n",
              "u8enx5eXBWSb/7dlt77e1ag+LmfXpU0BINxRSgGgF9lsNv3mAv+09NVNVaqobT6p7Xl9Vtc17q8/\n",
              "b5j6JcaedEYACAWUUgDoZUU5qZpcOEAen6XHlpWc1Lbe+nynSmsOKDnOqRvOGxaghABgHqUUAILg\n",
              "ns5jS9/8bKeKdzed0DY8Xp8eW1YqSZo9KVcp8TEBywcAplFKASAIzshM0b+MGCTLkuYtLT6hbbz+\n",
              "abW21TarX0KMZk1gSgogslBKASBI5s4olM0mvbdljz6rqj+u7+3w+vT4Cv+U9KbJeerjcvZCQgAw\n",
              "h1IKAEFSMDBJPx09RJL08JLjm5a+ummHqva1Kq2PS9ecm9ML6QDALEopAATRndMK5bTbtLa0Vh9t\n",
              "revR97g9Xj3ZOSX99ZQ8xcc6ejMiABhBKQWAIMrun6ArirIk+aellmUd83v+tqFKOxvaNCg5Tlee\n",
              "k93bEQHACEopAATZbVML5HLatbFiv1aV7D3qum0dXv1xpf+k+7dMzVdcDFNSAJGJUgoAQTYoJU7X\n",
              "nDtUkvTIMaalC9dvV02TW0P6xuuKs7OCFREAgo5SCgAG3DwlX4mxDn1Z3aj/+3L3Yddpdnv09Kpy\n",
              "SdLt0/IV6+QlG0Dk4hUOAAxITYztuiLTI0tL5PUdOi196cMK1TW3a2j/BF0yJjPYEQEgqCilAGDI\n",
              "jZ1XZSqrOaA3Pq3utqyprUPPrdkqSbpjWoFiHLxcA4hsvMoBgCHJcTG6aXKeJOmx5SVq9/i6lr24\n",
              "rkL1LR3KG5Coi0cNMRURAIKGUgoABl07fqjS+rhUta9Vf99UJUlqaOnQn9b5p6R3zSiUw24zGREA\n",
              "giIkSmlpaanGjx+vwsJCFRUVacuWLaYjAUBQJMQ6ddvUfEnSkytK1dbh1fNrt6qpzaNTBiXpohEZ\n",
              "hhMCQHCERCmdM2eOZs+erZKSEv32t7/VrFmzTEcCgKD5+dgsDekbrz2Nbs1fXqoF72+T5J+S2pmS\n",
              "AogSxktpTU2NNm3apKuuukqSdOmll6qqqkplZWWGkwFAcLicDt0xrUCS9PSqcjW3e3XGkBTNPG2g\n",
              "4WQAEDzGS2lVVZUyMjLkdDolSTabTdnZ2aqsrDxkXbfbrcbGxm43r9cb7MgAEHCXjBmi3LTErr/P\n",
              "nVEom40pKYDoYbyUHo8HH3xQKSkp3W4bNmwwHQsATprTYddvLhguSRqbk6opwwcYTgQAwWWzjnZ9\n",
              "uyCoqalRfn6+9u3bJ6fTKcuylJGRoXXr1ik/P7/bum63W263u9t9999/v+bPnx/MyADQa77Y0aDs\n",
              "/glKiY8xHQUAgsr4pDQ9PV1jxozRwoULJUmLFi1SZmbmIYVUklwul5KTk7vdHA5HsCMDQK85IzOF\n",
              "QgogKjlNB5CkZ599VrNmzdIDDzyg5ORkLViwwHQkAAAABFFIlNLhw4frww8/NB0DAAAAhhh/+x4A\n",
              "AACglAIAAMA4SikAAACMo5QCAADAOEopAAAAjKOUAgAAwDhKKQAAAIyjlAIAAMA4SikAAACMs1mW\n",
              "ZZkOcTIuueQS5eTkBOWxvF6vNmzYoLFjx8rhcATlMcMB++XI2DeHx345MvbN4bFfjox9c3jslyMz\n",
              "sW+GDh2qO+6446jrhH0pDabGxkalpKSooaFBycnJpuOEDPbLkbFvDo/9cmTsm8NjvxwZ++bw2C9H\n",
              "Fqr7hrfvAQAAYBylFAAAAMZRSgEAAGAcpfQ4uFwu/f73v5fL5TIdJaSwX46MfXN47JcjY98cHvvl\n",
              "yNg3h8d+ObJQ3Td80AkAAADGMSkFAACAcZRSAAAAGEcpBQAAgHGU0sMoLS3V+PHjVVhYqKKiIm3Z\n",
              "suWw673wwgsqKChQXl6efvWrX6mjoyPISYOrJ/tl1apVio+P16hRo7pura2tBtIGz+23366cnBzZ\n",
              "bDZt3rz5iOtF2/NF6tm+icbnTFtbm37yk5+osLBQI0eO1IwZM1RWVnbYdd966y2dcsopKigo0CWX\n",
              "XKLGxsYgpw2enu6XiooKORyObs+Z8vJyA4mDa+bMmTrzzDM1atQoTZw4UZ9++ulh14u215qe7Jdo\n",
              "fJ351oIFC2Sz2fTGG28cdnlIvcZYOMT5559vLViwwLIsy3r11Vets88++5B1tm7damVkZFi7du2y\n",
              "fD6f9aMf/ch68skng5w0uHqyX1auXGmNHDkyuMEMW716tVVVVWUNHTrU+vTTTw+7TjQ+XyyrZ/sm\n",
              "Gp8zra2t1ttvv235fD7LsizriSeesCZPnnzIek1NTVZ6err19ddfW5ZlWbfccot1zz33BDNqUPV0\n",
              "v2zbts1KSUkJbrgQsH///q6vFy9ebJ155pmHrBONrzU92S/R+DpjWf5/K+eee641btw46/XXXz9k\n",
              "eai9xjAp/Z6amhpt2rRJV111lSTp0ksvVVVV1SH/W3/ttdf04x//WIMGDZLNZtNNN92kl19+2UTk\n",
              "oOjpfolGkyZNUmZm5lHXibbny7d6sm+iUVxcnC666CLZbDZJ0rhx41RRUXHIeu+++65Gjx6tU045\n",
              "RZL061//OqKfNz3dL9Gqb9++XV83NDR07aeDReNrTU/2SzTy+Xy68cYb9cQTTxzx1E+h9hpDKf2e\n",
              "qqoqZWRkyOl0SpJsNpuys7NVWVnZbb3KykoNHTq06+85OTmHrBNJerpfJKm8vFxjxoxRUVGRnnrq\n",
              "qWBHDUnR9nw5XtH+nJk/f74uvvjiQ+4/3PNm165d8ng8wYxnzJH2iyQ1NzerqKhIY8aM0X/+53/K\n",
              "6/UGOZ0Z11xzjbKysnT//ffrr3/96yHLo/W15lj7RYq+15l58+ZpwoQJOuuss464Tqi9xjiNPCoi\n",
              "1pgxY7Rjxw6lpKRox44duuiii5SWlqbLL7/cdDSEqGh/zjzwwAMqKyvT8uXLTUcJKUfbLxkZGaqu\n",
              "rlZ6err27dunK664Qo888oj+9V//1UDS4PrLX/4iSXrppZf029/+Vu+8847hRKHhWPsl2l5nvvzy\n",
              "Sy1atEhr1qwxHeW4MCn9nqysrG7/S7AsS5WVlcrOzu62XnZ2trZv397194qKikPWiSQ93S/JyclK\n",
              "SUmRJGVmZuoXv/iF1q5dG/S8oSbani/HI5qfMw8//LAWL16sd999VwkJCYcsP9zz5uB3LCLVsfaL\n",
              "y+VSenq6JCk1NVXXX3991DxnvnXttddq5cqVqqur63Z/tL/WHGm/RNvrzNq1a1VRUaGCggLl5ORo\n",
              "/fr1mj17tp5++ulu64Xaawyl9HvS09M1ZswYLVy4UJK0aNEiZWZmKj8/v9t6l156qf7xj39o9+7d\n",
              "sixLzzzzjH7+85+biBwUPd0vu3btks/nkyQ1NTXprbfe0ujRo4OeN9RE2/PleETrc2bevHl6+eWX\n",
              "tXTp0m7HxB3swgsv1CeffKJvvvlGkvTUU09F/POmJ/ulpqam6xPlbrdbixcvjvjnTH19vXbu3Nn1\n",
              "9zfeeEP9+/dXampqt/Wi7bWmp/sl2l5nbr75Zu3atUsVFRWqqKjQuHHj9Nxzz+nmm2/utl7IvcYY\n",
              "+4hVCPvmm2+scePGWQUFBdZZZ51lff7555ZlWdYNN9xgvfnmm13rPffcc1Zubq6Vm5trXX/99VZ7\n",
              "e7upyEHRk/3yxBNPWKeddpp15plnWqeddpr1+9//vuuTtJFq9uzZ1pAhQyyHw2Glp6dbeXl5lmXx\n",
              "fLGsnu2baHzOVFVVWZKs3Nxca+TIkdbIkSOtsWPHWpZlWffff7/19NNPd6375ptvWsOHD7fy8vKs\n",
              "iy++2KqvrzcVu9f1dL8sWrTIOv3007ueM7feeqvV1tZmMnqvq6iosIqKiqwRI0ZYZ555pjVt2rSu\n",
              "M1pE82tNT/dLNL7OHGzy5Mldn74P5dcYm2VZlrlKDAAAAPD2PQAAAEIApRQAAADGUUoBAABgHKUU\n",
              "AAAAxlFKAQAAYBylFAAAAMZRSgEAAGAcpRQAAADGUUoBAABgHKUUAAAAxlFKAQAAYNz/B9U6Jt8q\n",
              "U3qoAAAAAElFTkSuQmCC\n",
              "\">\n",
              "      </div>\n",
              "      <script type=\"text/javascript\">\n",
              "        (() => {\n",
              "          const chartElement = document.getElementById(\"chart-43213aa9-3111-4038-b08f-adbeac8874a9\");\n",
              "          async function getCodeForChartHandler(event) {\n",
              "            const chartCodeResponse =  await google.colab.kernel.invokeFunction(\n",
              "                'getCodeForChart', [\"chart-43213aa9-3111-4038-b08f-adbeac8874a9\"], {});\n",
              "            const responseJson = chartCodeResponse.data['application/json'];\n",
              "            await google.colab.notebook.addCell(responseJson.code, 'code');\n",
              "          }\n",
              "          chartElement.onclick = getCodeForChartHandler;\n",
              "        })();\n",
              "      </script>\n",
              "      <style>\n",
              "        .colab-quickchart-chart-with-code  {\n",
              "            display: block;\n",
              "            float: left;\n",
              "            border: 1px solid transparent;\n",
              "        }\n",
              "\n",
              "        .colab-quickchart-chart-with-code:hover {\n",
              "            cursor: pointer;\n",
              "            border: 1px solid #aaa;\n",
              "        }\n",
              "      </style>"
            ]
          },
          "metadata": {}
        }
      ]
    },
    {
      "cell_type": "markdown",
      "source": [
        "### A) Values of the Dataset"
      ],
      "metadata": {
        "id": "eV9XxstcKn7R"
      }
    },
    {
      "source": [
        "from matplotlib import pyplot as plt\n",
        "_df_1['x000'].plot(kind='line', figsize=(8, 4), title='x000')\n",
        "plt.gca().spines[['top', 'right']].set_visible(False)"
      ],
      "cell_type": "code",
      "metadata": {
        "colab": {
          "base_uri": "https://localhost:8080/",
          "height": 391
        },
        "id": "ETZ3LTwYf5MP",
        "outputId": "21943c09-f7eb-449b-fb9f-0e73617b5b39"
      },
      "execution_count": null,
      "outputs": [
        {
          "output_type": "display_data",
          "data": {
            "text/plain": [
              "<Figure size 800x400 with 1 Axes>"
            ],
            "image/png": "[encoded data removed]"
          },
          "metadata": {}
        }
      ]
    },
    {
      "cell_type": "markdown",
      "source": [
        "### B) Distribution of the Dataset"
      ],
      "metadata": {
        "id": "LCwJBS5aKnVa"
      }
    },
    {
      "source": [
        "from matplotlib import pyplot as plt\n",
        "_df_0['x000'].plot(kind='hist', bins=20, title='x000')\n",
        "plt.gca().spines[['top', 'right',]].set_visible(False)"
      ],
      "cell_type": "code",
      "metadata": {
        "colab": {
          "base_uri": "https://localhost:8080/",
          "height": 452
        },
        "id": "h45IamvXf2mo",
        "outputId": "6f94208c-b5af-4b59-b399-c9b3db72092d"
      },
      "execution_count": null,
      "outputs": [
        {
          "output_type": "display_data",
          "data": {
            "text/plain": [
              "<Figure size 640x480 with 1 Axes>"
            ],
            "image/png": "[encoded data removed]"
          },
          "metadata": {}
        }
      ]
    },
    {
      "cell_type": "markdown",
      "source": [
        "---\n",
        "\n",
        "# Conclusion\n",
        "\n"
      ],
      "metadata": {
        "id": "am31C53cmUJK"
      }
    },
    {
      "cell_type": "markdown",
      "source": [
        " In our thorough examination of the Brazilian weather dataset, our exploratory data analysis (EDA) uncovered several compelling insights that provide a nuanced understanding of the climate dynamics in the central-west region. One striking observation was the consistent rise in precipitation levels over the years, culminating in a peak during 2020, where recorded precipitation surpassed 80 mm. This trend signals potential shifts in rainfall patterns that could have significant implications for the local environment.\n",
        "\n",
        "Another intriguing finding was the temperature trend, notably temperatures exceeding 22 degrees Celsius in the month of October. This rise in temperature appeared to be closely linked to increased solar radiation, suggesting a complex interplay between solar influences and atmospheric conditions. Understanding these relationships is crucial for predicting and adapting to potential climate changes.\n",
        "\n",
        "Furthermore, our analysis identified the state of DF as having the highest atmospheric pressure among its counterparts. This observation implies a pivotal role for atmospheric pressure in governing the weather and climate in the central-west region of Brazil. The intricate balance of atmospheric elements underscores the complexity of the environmental factors at play.\n",
        "\n",
        "To enhance the robustness of our analysis, we strategically employed AUTOFEAT, an advanced automated feature engineering tool. This tool not only facilitated the creation of a model but also enabled the training and testing of future data. By leveraging such automated tools, we aim to develop predictive models that can anticipate weather patterns, providing valuable insights for future climate scenarios in the region. This comprehensive approach, combining traditional analysis with advanced tools, strengthens our capacity to glean profound insights into the intricate dynamics of the Brazilian weather dataset."
      ],
      "metadata": {
        "id": "LyQEnzkULKSt"
      }
    }
  ],
  "metadata": {
    "colab": {
      "provenance": [],
      "toc_visible": true,
      "include_colab_link": true
    },
    "kernelspec": {
      "display_name": "Python 3",
      "name": "python3"
    },
    "language_info": {
      "name": "python"
    }
  },
  "nbformat": 4,
  "nbformat_minor": 0
}
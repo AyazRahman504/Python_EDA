{
  "nbformat": 4,
  "nbformat_minor": 0,
  "metadata": {
    "colab": {
      "provenance": [],
      "include_colab_link": true
    },
    "kernelspec": {
      "name": "python3",
      "display_name": "Python 3"
    },
    "language_info": {
      "name": "python"
    }
  },
  "cells": [
    {
      "cell_type": "markdown",
      "metadata": {
        "id": "view-in-github",
        "colab_type": "text"
      },
      "source": [
        "<a href=\"https://colab.research.google.com/github/drshahizan/Python_EDA/blob/main/assignment/ass5/hpdp/ATG/Assignment_5_Automated_Feature_Engineering_Tools.ipynb\" target=\"_parent\"><img src=\"https://colab.research.google.com/assets/colab-badge.svg\" alt=\"Open In Colab\"/></a>"
      ]
    },
    {
      "cell_type": "markdown",
      "source": [
        "# Assignment 5 - Automated Feature Engineering Tools\n",
        "## Tools selected:\n",
        "* **Featuretools**\n",
        "* **AutoFeat**\n",
        "\n",
        "<br>\n",
        "\n",
        "## Group Name: ATONG (ATG)\n",
        "\n",
        "### Group Members:\n",
        "| Name                                      | Matrix Number   |\n",
        "| :---------------------------------------- | :-------------: |\n",
        "| SAM CHIA YUN                              |A21EC0127        |\n",
        "| ALIYA ZARENA BINTI ZAINULANUAR            |A21EC0013        |\n",
        "| MUHAMMAD IQMAL BIN SIS                    |A21EC0080        |\n",
        "| ANG YI QIN                                |A21EC0163        |\n",
        "\n",
        "<br>\n",
        "\n",
        "Date of submission: 26 Nov 2023"
      ],
      "metadata": {
        "id": "AMWnZEjMsoo_"
      }
    },
    {
      "cell_type": "markdown",
      "source": [
        "## Step 1 - Dataset Selection\n",
        "### Overview\n",
        "Kaggle Website Link: [*Kaggle*](https://www.kaggle.com/)\n",
        "<br><br>\n",
        "The first step in this data analysis or machine learning project is to select a suitable dataset. The dataset serves as the foundation for the analysis, and choosing an appropriate one is crucial for the success of the project.\n",
        "<br><br>\n",
        "### Dataset Information\n",
        "**Name**: **Airline Delay and Cancellation Data, 2018** <br>\n",
        "**URL**: [*Dataset Link*](https://www.kaggle.com/datasets/yuanyuwendymu/airline-delay-and-cancellation-data-2009-2018?select=2018.csv) <br>\n",
        "**Description**: The \"Airline Delay and Cancellation Data (2009-2018)\" on Kaggle offers a comprehensive overview of airline performance during the specified decade. It includes features such as flight information, departure and arrival delays, cancellation details, and reasons for disruptions across multiple carriers. Analysts and data scientists can utilize this dataset to explore trends, predict flight delays, and assess the punctuality of different airlines."
      ],
      "metadata": {
        "id": "DaYa9ylzs1z-"
      }
    },
    {
      "cell_type": "markdown",
      "source": [
        "##Step 2 - Loading the Dataset\n",
        "\n",
        "\n",
        "The code !pip install opendatasets installs the opendatasets Python package, which facilitates the easy downloading and handling of datasets from the internet for machine learning and data analysis projects."
      ],
      "metadata": {
        "id": "MctnOpWPtBV-"
      }
    },
    {
      "cell_type": "code",
      "source": [
        "!pip install opendatasets"
      ],
      "metadata": {
        "colab": {
          "base_uri": "https://localhost:8080/"
        },
        "id": "iuDIVP_NJqce",
        "outputId": "eb1278db-0044-4c66-bdd5-a9a819c13f5b"
      },
      "execution_count": null,
      "outputs": [
        {
          "output_type": "stream",
          "name": "stdout",
          "text": [
            "Requirement already satisfied: opendatasets in /usr/local/lib/python3.10/dist-packages (0.1.22)\n",
            "Requirement already satisfied: tqdm in /usr/local/lib/python3.10/dist-packages (from opendatasets) (4.66.1)\n",
            "Requirement already satisfied: kaggle in /usr/local/lib/python3.10/dist-packages (from opendatasets) (1.5.16)\n",
            "Requirement already satisfied: click in /usr/local/lib/python3.10/dist-packages (from opendatasets) (8.1.7)\n",
            "Requirement already satisfied: six>=1.10 in /usr/local/lib/python3.10/dist-packages (from kaggle->opendatasets) (1.16.0)\n",
            "Requirement already satisfied: certifi in /usr/local/lib/python3.10/dist-packages (from kaggle->opendatasets) (2023.7.22)\n",
            "Requirement already satisfied: python-dateutil in /usr/local/lib/python3.10/dist-packages (from kaggle->opendatasets) (2.8.2)\n",
            "Requirement already satisfied: requests in /usr/local/lib/python3.10/dist-packages (from kaggle->opendatasets) (2.31.0)\n",
            "Requirement already satisfied: python-slugify in /usr/local/lib/python3.10/dist-packages (from kaggle->opendatasets) (8.0.1)\n",
            "Requirement already satisfied: urllib3 in /usr/local/lib/python3.10/dist-packages (from kaggle->opendatasets) (2.0.7)\n",
            "Requirement already satisfied: bleach in /usr/local/lib/python3.10/dist-packages (from kaggle->opendatasets) (6.1.0)\n",
            "Requirement already satisfied: webencodings in /usr/local/lib/python3.10/dist-packages (from bleach->kaggle->opendatasets) (0.5.1)\n",
            "Requirement already satisfied: text-unidecode>=1.3 in /usr/local/lib/python3.10/dist-packages (from python-slugify->kaggle->opendatasets) (1.3)\n",
            "Requirement already satisfied: charset-normalizer<4,>=2 in /usr/local/lib/python3.10/dist-packages (from requests->kaggle->opendatasets) (3.3.2)\n",
            "Requirement already satisfied: idna<4,>=2.5 in /usr/local/lib/python3.10/dist-packages (from requests->kaggle->opendatasets) (3.4)\n"
          ]
        }
      ]
    },
    {
      "cell_type": "markdown",
      "source": [
        "The code below will use the opendatasets library, downloads the \"Airline Delay and Cancellation Data (2009-2018)\" dataset from Kaggle, making it available for analysis and machine learning projects in a Python environment."
      ],
      "metadata": {
        "id": "aCdx9iouKUqV"
      }
    },
    {
      "cell_type": "code",
      "source": [
        "import opendatasets as od\n",
        "od.download(\n",
        "    \"https://www.kaggle.com/datasets/yuanyuwendymu/airline-delay-and-cancellation-data-2009-2018?select=2018.csv\")"
      ],
      "metadata": {
        "colab": {
          "base_uri": "https://localhost:8080/"
        },
        "id": "kraoV0GZKVK1",
        "outputId": "af351366-30bc-4573-a860-9e9c1949bbc7"
      },
      "execution_count": null,
      "outputs": [
        {
          "output_type": "stream",
          "name": "stdout",
          "text": [
            "Skipping, found downloaded files in \"./airline-delay-and-cancellation-data-2009-2018\" (use force=True to force download)\n"
          ]
        }
      ]
    },
    {
      "cell_type": "markdown",
      "source": [
        "Importing essential libraries for data analysis and visualization."
      ],
      "metadata": {
        "id": "9LuOGbmiK0dU"
      }
    },
    {
      "cell_type": "code",
      "source": [
        "import pandas as pd\n",
        "import numpy as np\n",
        "import matplotlib.pyplot as plt\n",
        "import seaborn as sns\n",
        "import missingno as msno\n"
      ],
      "metadata": {
        "id": "dd-OJCwwK1OM"
      },
      "execution_count": null,
      "outputs": []
    },
    {
      "cell_type": "markdown",
      "source": [
        "The pd.read_csv() function loads the data into a DataFrame called 'df.'\n",
        "\n",
        "The head() method is then used to display the first few rows of the DataFrame, providing a quick overview of the dataset's structure and content."
      ],
      "metadata": {
        "id": "rtS5H6tuLzP7"
      }
    },
    {
      "cell_type": "code",
      "source": [
        "# reading the csv file\n",
        "file =('airline-delay-and-cancellation-data-2009-2018/2018.csv')\n",
        "df = pd.read_csv(file)\n",
        "\n",
        "# displaying the contents of the XLSX file\n",
        "df.head()"
      ],
      "metadata": {
        "colab": {
          "base_uri": "https://localhost:8080/",
          "height": 359
        },
        "id": "Lb54lOEOL70D",
        "outputId": "1666e246-48bf-4480-adca-2fed3715b9f9"
      },
      "execution_count": null,
      "outputs": [
        {
          "output_type": "execute_result",
          "data": {
            "text/plain": [
              "      FL_DATE OP_CARRIER  OP_CARRIER_FL_NUM ORIGIN DEST  CRS_DEP_TIME  \\\n",
              "0  2018-01-01         UA               2429    EWR  DEN          1517   \n",
              "1  2018-01-01         UA               2427    LAS  SFO          1115   \n",
              "2  2018-01-01         UA               2426    SNA  DEN          1335   \n",
              "3  2018-01-01         UA               2425    RSW  ORD          1546   \n",
              "4  2018-01-01         UA               2424    ORD  ALB           630   \n",
              "\n",
              "   DEP_TIME  DEP_DELAY  TAXI_OUT  WHEELS_OFF  ...  CRS_ELAPSED_TIME  \\\n",
              "0    1512.0       -5.0      15.0      1527.0  ...             268.0   \n",
              "1    1107.0       -8.0      11.0      1118.0  ...              99.0   \n",
              "2    1330.0       -5.0      15.0      1345.0  ...             134.0   \n",
              "3    1552.0        6.0      19.0      1611.0  ...             190.0   \n",
              "4     650.0       20.0      13.0       703.0  ...             112.0   \n",
              "\n",
              "   ACTUAL_ELAPSED_TIME  AIR_TIME  DISTANCE  CARRIER_DELAY  WEATHER_DELAY  \\\n",
              "0                250.0     225.0    1605.0            NaN            NaN   \n",
              "1                 83.0      65.0     414.0            NaN            NaN   \n",
              "2                126.0     106.0     846.0            NaN            NaN   \n",
              "3                182.0     157.0    1120.0            NaN            NaN   \n",
              "4                106.0      83.0     723.0            NaN            NaN   \n",
              "\n",
              "  NAS_DELAY  SECURITY_DELAY  LATE_AIRCRAFT_DELAY  Unnamed: 27  \n",
              "0       NaN             NaN                  NaN          NaN  \n",
              "1       NaN             NaN                  NaN          NaN  \n",
              "2       NaN             NaN                  NaN          NaN  \n",
              "3       NaN             NaN                  NaN          NaN  \n",
              "4       NaN             NaN                  NaN          NaN  \n",
              "\n",
              "[5 rows x 28 columns]"
            ],
            "text/html": [
              "\n",
              "  <div id=\"df-aae8f7d7-143f-4f83-8590-f14dcc2ccb4c\" class=\"colab-df-container\">\n",
              "    <div>\n",
              "<style scoped>\n",
              "    .dataframe tbody tr th:only-of-type {\n",
              "        vertical-align: middle;\n",
              "    }\n",
              "\n",
              "    .dataframe tbody tr th {\n",
              "        vertical-align: top;\n",
              "    }\n",
              "\n",
              "    .dataframe thead th {\n",
              "        text-align: right;\n",
              "    }\n",
              "</style>\n",
              "<table border=\"1\" class=\"dataframe\">\n",
              "  <thead>\n",
              "    <tr style=\"text-align: right;\">\n",
              "      <th></th>\n",
              "      <th>FL_DATE</th>\n",
              "      <th>OP_CARRIER</th>\n",
              "      <th>OP_CARRIER_FL_NUM</th>\n",
              "      <th>ORIGIN</th>\n",
              "      <th>DEST</th>\n",
              "      <th>CRS_DEP_TIME</th>\n",
              "      <th>DEP_TIME</th>\n",
              "      <th>DEP_DELAY</th>\n",
              "      <th>TAXI_OUT</th>\n",
              "      <th>WHEELS_OFF</th>\n",
              "      <th>...</th>\n",
              "      <th>CRS_ELAPSED_TIME</th>\n",
              "      <th>ACTUAL_ELAPSED_TIME</th>\n",
              "      <th>AIR_TIME</th>\n",
              "      <th>DISTANCE</th>\n",
              "      <th>CARRIER_DELAY</th>\n",
              "      <th>WEATHER_DELAY</th>\n",
              "      <th>NAS_DELAY</th>\n",
              "      <th>SECURITY_DELAY</th>\n",
              "      <th>LATE_AIRCRAFT_DELAY</th>\n",
              "      <th>Unnamed: 27</th>\n",
              "    </tr>\n",
              "  </thead>\n",
              "  <tbody>\n",
              "    <tr>\n",
              "      <th>0</th>\n",
              "      <td>2018-01-01</td>\n",
              "      <td>UA</td>\n",
              "      <td>2429</td>\n",
              "      <td>EWR</td>\n",
              "      <td>DEN</td>\n",
              "      <td>1517</td>\n",
              "      <td>1512.0</td>\n",
              "      <td>-5.0</td>\n",
              "      <td>15.0</td>\n",
              "      <td>1527.0</td>\n",
              "      <td>...</td>\n",
              "      <td>268.0</td>\n",
              "      <td>250.0</td>\n",
              "      <td>225.0</td>\n",
              "      <td>1605.0</td>\n",
              "      <td>NaN</td>\n",
              "      <td>NaN</td>\n",
              "      <td>NaN</td>\n",
              "      <td>NaN</td>\n",
              "      <td>NaN</td>\n",
              "      <td>NaN</td>\n",
              "    </tr>\n",
              "    <tr>\n",
              "      <th>1</th>\n",
              "      <td>2018-01-01</td>\n",
              "      <td>UA</td>\n",
              "      <td>2427</td>\n",
              "      <td>LAS</td>\n",
              "      <td>SFO</td>\n",
              "      <td>1115</td>\n",
              "      <td>1107.0</td>\n",
              "      <td>-8.0</td>\n",
              "      <td>11.0</td>\n",
              "      <td>1118.0</td>\n",
              "      <td>...</td>\n",
              "      <td>99.0</td>\n",
              "      <td>83.0</td>\n",
              "      <td>65.0</td>\n",
              "      <td>414.0</td>\n",
              "      <td>NaN</td>\n",
              "      <td>NaN</td>\n",
              "      <td>NaN</td>\n",
              "      <td>NaN</td>\n",
              "      <td>NaN</td>\n",
              "      <td>NaN</td>\n",
              "    </tr>\n",
              "    <tr>\n",
              "      <th>2</th>\n",
              "      <td>2018-01-01</td>\n",
              "      <td>UA</td>\n",
              "      <td>2426</td>\n",
              "      <td>SNA</td>\n",
              "      <td>DEN</td>\n",
              "      <td>1335</td>\n",
              "      <td>1330.0</td>\n",
              "      <td>-5.0</td>\n",
              "      <td>15.0</td>\n",
              "      <td>1345.0</td>\n",
              "      <td>...</td>\n",
              "      <td>134.0</td>\n",
              "      <td>126.0</td>\n",
              "      <td>106.0</td>\n",
              "      <td>846.0</td>\n",
              "      <td>NaN</td>\n",
              "      <td>NaN</td>\n",
              "      <td>NaN</td>\n",
              "      <td>NaN</td>\n",
              "      <td>NaN</td>\n",
              "      <td>NaN</td>\n",
              "    </tr>\n",
              "    <tr>\n",
              "      <th>3</th>\n",
              "      <td>2018-01-01</td>\n",
              "      <td>UA</td>\n",
              "      <td>2425</td>\n",
              "      <td>RSW</td>\n",
              "      <td>ORD</td>\n",
              "      <td>1546</td>\n",
              "      <td>1552.0</td>\n",
              "      <td>6.0</td>\n",
              "      <td>19.0</td>\n",
              "      <td>1611.0</td>\n",
              "      <td>...</td>\n",
              "      <td>190.0</td>\n",
              "      <td>182.0</td>\n",
              "      <td>157.0</td>\n",
              "      <td>1120.0</td>\n",
              "      <td>NaN</td>\n",
              "      <td>NaN</td>\n",
              "      <td>NaN</td>\n",
              "      <td>NaN</td>\n",
              "      <td>NaN</td>\n",
              "      <td>NaN</td>\n",
              "    </tr>\n",
              "    <tr>\n",
              "      <th>4</th>\n",
              "      <td>2018-01-01</td>\n",
              "      <td>UA</td>\n",
              "      <td>2424</td>\n",
              "      <td>ORD</td>\n",
              "      <td>ALB</td>\n",
              "      <td>630</td>\n",
              "      <td>650.0</td>\n",
              "      <td>20.0</td>\n",
              "      <td>13.0</td>\n",
              "      <td>703.0</td>\n",
              "      <td>...</td>\n",
              "      <td>112.0</td>\n",
              "      <td>106.0</td>\n",
              "      <td>83.0</td>\n",
              "      <td>723.0</td>\n",
              "      <td>NaN</td>\n",
              "      <td>NaN</td>\n",
              "      <td>NaN</td>\n",
              "      <td>NaN</td>\n",
              "      <td>NaN</td>\n",
              "      <td>NaN</td>\n",
              "    </tr>\n",
              "  </tbody>\n",
              "</table>\n",
              "<p>5 rows × 28 columns</p>\n",
              "</div>\n",
              "    <div class=\"colab-df-buttons\">\n",
              "\n",
              "  <div class=\"colab-df-container\">\n",
              "    <button class=\"colab-df-convert\" onclick=\"convertToInteractive('df-aae8f7d7-143f-4f83-8590-f14dcc2ccb4c')\"\n",
              "            title=\"Convert this dataframe to an interactive table.\"\n",
              "            style=\"display:none;\">\n",
              "\n",
              "  <svg xmlns=\"http://www.w3.org/2000/svg\" height=\"24px\" viewBox=\"0 -960 960 960\">\n",
              "    <path d=\"M120-120v-720h720v720H120Zm60-500h600v-160H180v160Zm220 220h160v-160H400v160Zm0 220h160v-160H400v160ZM180-400h160v-160H180v160Zm440 0h160v-160H620v160ZM180-180h160v-160H180v160Zm440 0h160v-160H620v160Z\"/>\n",
              "  </svg>\n",
              "    </button>\n",
              "\n",
              "  <style>\n",
              "    .colab-df-container {\n",
              "      display:flex;\n",
              "      gap: 12px;\n",
              "    }\n",
              "\n",
              "    .colab-df-convert {\n",
              "      background-color: #E8F0FE;\n",
              "      border: none;\n",
              "      border-radius: 50%;\n",
              "      cursor: pointer;\n",
              "      display: none;\n",
              "      fill: #1967D2;\n",
              "      height: 32px;\n",
              "      padding: 0 0 0 0;\n",
              "      width: 32px;\n",
              "    }\n",
              "\n",
              "    .colab-df-convert:hover {\n",
              "      background-color: #E2EBFA;\n",
              "      box-shadow: 0px 1px 2px rgba(60, 64, 67, 0.3), 0px 1px 3px 1px rgba(60, 64, 67, 0.15);\n",
              "      fill: #174EA6;\n",
              "    }\n",
              "\n",
              "    .colab-df-buttons div {\n",
              "      margin-bottom: 4px;\n",
              "    }\n",
              "\n",
              "    [theme=dark] .colab-df-convert {\n",
              "      background-color: #3B4455;\n",
              "      fill: #D2E3FC;\n",
              "    }\n",
              "\n",
              "    [theme=dark] .colab-df-convert:hover {\n",
              "      background-color: #434B5C;\n",
              "      box-shadow: 0px 1px 3px 1px rgba(0, 0, 0, 0.15);\n",
              "      filter: drop-shadow(0px 1px 2px rgba(0, 0, 0, 0.3));\n",
              "      fill: #FFFFFF;\n",
              "    }\n",
              "  </style>\n",
              "\n",
              "    <script>\n",
              "      const buttonEl =\n",
              "        document.querySelector('#df-aae8f7d7-143f-4f83-8590-f14dcc2ccb4c button.colab-df-convert');\n",
              "      buttonEl.style.display =\n",
              "        google.colab.kernel.accessAllowed ? 'block' : 'none';\n",
              "\n",
              "      async function convertToInteractive(key) {\n",
              "        const element = document.querySelector('#df-aae8f7d7-143f-4f83-8590-f14dcc2ccb4c');\n",
              "        const dataTable =\n",
              "          await google.colab.kernel.invokeFunction('convertToInteractive',\n",
              "                                                    [key], {});\n",
              "        if (!dataTable) return;\n",
              "\n",
              "        const docLinkHtml = 'Like what you see? Visit the ' +\n",
              "          '<a target=\"_blank\" href=https://colab.research.google.com/notebooks/data_table.ipynb>data table notebook</a>'\n",
              "          + ' to learn more about interactive tables.';\n",
              "        element.innerHTML = '';\n",
              "        dataTable['output_type'] = 'display_data';\n",
              "        await google.colab.output.renderOutput(dataTable, element);\n",
              "        const docLink = document.createElement('div');\n",
              "        docLink.innerHTML = docLinkHtml;\n",
              "        element.appendChild(docLink);\n",
              "      }\n",
              "    </script>\n",
              "  </div>\n",
              "\n",
              "\n",
              "<div id=\"df-f2c1dea5-8497-49ff-af8b-d234980a78f7\">\n",
              "  <button class=\"colab-df-quickchart\" onclick=\"quickchart('df-f2c1dea5-8497-49ff-af8b-d234980a78f7')\"\n",
              "            title=\"Suggest charts\"\n",
              "            style=\"display:none;\">\n",
              "\n",
              "<svg xmlns=\"http://www.w3.org/2000/svg\" height=\"24px\"viewBox=\"0 0 24 24\"\n",
              "     width=\"24px\">\n",
              "    <g>\n",
              "        <path d=\"M19 3H5c-1.1 0-2 .9-2 2v14c0 1.1.9 2 2 2h14c1.1 0 2-.9 2-2V5c0-1.1-.9-2-2-2zM9 17H7v-7h2v7zm4 0h-2V7h2v10zm4 0h-2v-4h2v4z\"/>\n",
              "    </g>\n",
              "</svg>\n",
              "  </button>\n",
              "\n",
              "<style>\n",
              "  .colab-df-quickchart {\n",
              "      --bg-color: #E8F0FE;\n",
              "      --fill-color: #1967D2;\n",
              "      --hover-bg-color: #E2EBFA;\n",
              "      --hover-fill-color: #174EA6;\n",
              "      --disabled-fill-color: #AAA;\n",
              "      --disabled-bg-color: #DDD;\n",
              "  }\n",
              "\n",
              "  [theme=dark] .colab-df-quickchart {\n",
              "      --bg-color: #3B4455;\n",
              "      --fill-color: #D2E3FC;\n",
              "      --hover-bg-color: #434B5C;\n",
              "      --hover-fill-color: #FFFFFF;\n",
              "      --disabled-bg-color: #3B4455;\n",
              "      --disabled-fill-color: #666;\n",
              "  }\n",
              "\n",
              "  .colab-df-quickchart {\n",
              "    background-color: var(--bg-color);\n",
              "    border: none;\n",
              "    border-radius: 50%;\n",
              "    cursor: pointer;\n",
              "    display: none;\n",
              "    fill: var(--fill-color);\n",
              "    height: 32px;\n",
              "    padding: 0;\n",
              "    width: 32px;\n",
              "  }\n",
              "\n",
              "  .colab-df-quickchart:hover {\n",
              "    background-color: var(--hover-bg-color);\n",
              "    box-shadow: 0 1px 2px rgba(60, 64, 67, 0.3), 0 1px 3px 1px rgba(60, 64, 67, 0.15);\n",
              "    fill: var(--button-hover-fill-color);\n",
              "  }\n",
              "\n",
              "  .colab-df-quickchart-complete:disabled,\n",
              "  .colab-df-quickchart-complete:disabled:hover {\n",
              "    background-color: var(--disabled-bg-color);\n",
              "    fill: var(--disabled-fill-color);\n",
              "    box-shadow: none;\n",
              "  }\n",
              "\n",
              "  .colab-df-spinner {\n",
              "    border: 2px solid var(--fill-color);\n",
              "    border-color: transparent;\n",
              "    border-bottom-color: var(--fill-color);\n",
              "    animation:\n",
              "      spin 1s steps(1) infinite;\n",
              "  }\n",
              "\n",
              "  @keyframes spin {\n",
              "    0% {\n",
              "      border-color: transparent;\n",
              "      border-bottom-color: var(--fill-color);\n",
              "      border-left-color: var(--fill-color);\n",
              "    }\n",
              "    20% {\n",
              "      border-color: transparent;\n",
              "      border-left-color: var(--fill-color);\n",
              "      border-top-color: var(--fill-color);\n",
              "    }\n",
              "    30% {\n",
              "      border-color: transparent;\n",
              "      border-left-color: var(--fill-color);\n",
              "      border-top-color: var(--fill-color);\n",
              "      border-right-color: var(--fill-color);\n",
              "    }\n",
              "    40% {\n",
              "      border-color: transparent;\n",
              "      border-right-color: var(--fill-color);\n",
              "      border-top-color: var(--fill-color);\n",
              "    }\n",
              "    60% {\n",
              "      border-color: transparent;\n",
              "      border-right-color: var(--fill-color);\n",
              "    }\n",
              "    80% {\n",
              "      border-color: transparent;\n",
              "      border-right-color: var(--fill-color);\n",
              "      border-bottom-color: var(--fill-color);\n",
              "    }\n",
              "    90% {\n",
              "      border-color: transparent;\n",
              "      border-bottom-color: var(--fill-color);\n",
              "    }\n",
              "  }\n",
              "</style>\n",
              "\n",
              "  <script>\n",
              "    async function quickchart(key) {\n",
              "      const quickchartButtonEl =\n",
              "        document.querySelector('#' + key + ' button');\n",
              "      quickchartButtonEl.disabled = true;  // To prevent multiple clicks.\n",
              "      quickchartButtonEl.classList.add('colab-df-spinner');\n",
              "      try {\n",
              "        const charts = await google.colab.kernel.invokeFunction(\n",
              "            'suggestCharts', [key], {});\n",
              "      } catch (error) {\n",
              "        console.error('Error during call to suggestCharts:', error);\n",
              "      }\n",
              "      quickchartButtonEl.classList.remove('colab-df-spinner');\n",
              "      quickchartButtonEl.classList.add('colab-df-quickchart-complete');\n",
              "    }\n",
              "    (() => {\n",
              "      let quickchartButtonEl =\n",
              "        document.querySelector('#df-f2c1dea5-8497-49ff-af8b-d234980a78f7 button');\n",
              "      quickchartButtonEl.style.display =\n",
              "        google.colab.kernel.accessAllowed ? 'block' : 'none';\n",
              "    })();\n",
              "  </script>\n",
              "</div>\n",
              "    </div>\n",
              "  </div>\n"
            ]
          },
          "metadata": {},
          "execution_count": 4
        }
      ]
    },
    {
      "cell_type": "markdown",
      "source": [
        "In order to check the total number of rows and columns, we can use df.shape"
      ],
      "metadata": {
        "id": "7IkHeIPyMEm0"
      }
    },
    {
      "cell_type": "code",
      "source": [
        "df.shape"
      ],
      "metadata": {
        "colab": {
          "base_uri": "https://localhost:8080/"
        },
        "id": "dFziYLsMMKYs",
        "outputId": "39403c95-8cb3-44af-f41c-a8ec3b4e4683"
      },
      "execution_count": null,
      "outputs": [
        {
          "output_type": "execute_result",
          "data": {
            "text/plain": [
              "(7213446, 28)"
            ]
          },
          "metadata": {},
          "execution_count": 5
        }
      ]
    },
    {
      "cell_type": "markdown",
      "source": [
        "##Step 3 - Exploratory Data Analysis (EDA)"
      ],
      "metadata": {
        "id": "g6j-tQfMMMST"
      }
    },
    {
      "cell_type": "markdown",
      "source": [
        "Exploring the first few rows of the data."
      ],
      "metadata": {
        "id": "OjpqLZn9jvMD"
      }
    },
    {
      "cell_type": "code",
      "source": [
        "df.head()"
      ],
      "metadata": {
        "colab": {
          "base_uri": "https://localhost:8080/",
          "height": 359
        },
        "id": "c3QsW878jvhi",
        "outputId": "a1dc0c5f-1971-49b7-d724-4231e7065739"
      },
      "execution_count": null,
      "outputs": [
        {
          "output_type": "execute_result",
          "data": {
            "text/plain": [
              "      FL_DATE OP_CARRIER  OP_CARRIER_FL_NUM ORIGIN DEST  CRS_DEP_TIME  \\\n",
              "0  2018-01-01         UA               2429    EWR  DEN          1517   \n",
              "1  2018-01-01         UA               2427    LAS  SFO          1115   \n",
              "2  2018-01-01         UA               2426    SNA  DEN          1335   \n",
              "3  2018-01-01         UA               2425    RSW  ORD          1546   \n",
              "4  2018-01-01         UA               2424    ORD  ALB           630   \n",
              "\n",
              "   DEP_TIME  DEP_DELAY  TAXI_OUT  WHEELS_OFF  ...  CRS_ELAPSED_TIME  \\\n",
              "0    1512.0       -5.0      15.0      1527.0  ...             268.0   \n",
              "1    1107.0       -8.0      11.0      1118.0  ...              99.0   \n",
              "2    1330.0       -5.0      15.0      1345.0  ...             134.0   \n",
              "3    1552.0        6.0      19.0      1611.0  ...             190.0   \n",
              "4     650.0       20.0      13.0       703.0  ...             112.0   \n",
              "\n",
              "   ACTUAL_ELAPSED_TIME  AIR_TIME  DISTANCE  CARRIER_DELAY  WEATHER_DELAY  \\\n",
              "0                250.0     225.0    1605.0            NaN            NaN   \n",
              "1                 83.0      65.0     414.0            NaN            NaN   \n",
              "2                126.0     106.0     846.0            NaN            NaN   \n",
              "3                182.0     157.0    1120.0            NaN            NaN   \n",
              "4                106.0      83.0     723.0            NaN            NaN   \n",
              "\n",
              "  NAS_DELAY  SECURITY_DELAY  LATE_AIRCRAFT_DELAY  Unnamed: 27  \n",
              "0       NaN             NaN                  NaN          NaN  \n",
              "1       NaN             NaN                  NaN          NaN  \n",
              "2       NaN             NaN                  NaN          NaN  \n",
              "3       NaN             NaN                  NaN          NaN  \n",
              "4       NaN             NaN                  NaN          NaN  \n",
              "\n",
              "[5 rows x 28 columns]"
            ],
            "text/html": [
              "\n",
              "  <div id=\"df-f83476ea-3ec2-4b17-abdd-6f45da78003c\" class=\"colab-df-container\">\n",
              "    <div>\n",
              "<style scoped>\n",
              "    .dataframe tbody tr th:only-of-type {\n",
              "        vertical-align: middle;\n",
              "    }\n",
              "\n",
              "    .dataframe tbody tr th {\n",
              "        vertical-align: top;\n",
              "    }\n",
              "\n",
              "    .dataframe thead th {\n",
              "        text-align: right;\n",
              "    }\n",
              "</style>\n",
              "<table border=\"1\" class=\"dataframe\">\n",
              "  <thead>\n",
              "    <tr style=\"text-align: right;\">\n",
              "      <th></th>\n",
              "      <th>FL_DATE</th>\n",
              "      <th>OP_CARRIER</th>\n",
              "      <th>OP_CARRIER_FL_NUM</th>\n",
              "      <th>ORIGIN</th>\n",
              "      <th>DEST</th>\n",
              "      <th>CRS_DEP_TIME</th>\n",
              "      <th>DEP_TIME</th>\n",
              "      <th>DEP_DELAY</th>\n",
              "      <th>TAXI_OUT</th>\n",
              "      <th>WHEELS_OFF</th>\n",
              "      <th>...</th>\n",
              "      <th>CRS_ELAPSED_TIME</th>\n",
              "      <th>ACTUAL_ELAPSED_TIME</th>\n",
              "      <th>AIR_TIME</th>\n",
              "      <th>DISTANCE</th>\n",
              "      <th>CARRIER_DELAY</th>\n",
              "      <th>WEATHER_DELAY</th>\n",
              "      <th>NAS_DELAY</th>\n",
              "      <th>SECURITY_DELAY</th>\n",
              "      <th>LATE_AIRCRAFT_DELAY</th>\n",
              "      <th>Unnamed: 27</th>\n",
              "    </tr>\n",
              "  </thead>\n",
              "  <tbody>\n",
              "    <tr>\n",
              "      <th>0</th>\n",
              "      <td>2018-01-01</td>\n",
              "      <td>UA</td>\n",
              "      <td>2429</td>\n",
              "      <td>EWR</td>\n",
              "      <td>DEN</td>\n",
              "      <td>1517</td>\n",
              "      <td>1512.0</td>\n",
              "      <td>-5.0</td>\n",
              "      <td>15.0</td>\n",
              "      <td>1527.0</td>\n",
              "      <td>...</td>\n",
              "      <td>268.0</td>\n",
              "      <td>250.0</td>\n",
              "      <td>225.0</td>\n",
              "      <td>1605.0</td>\n",
              "      <td>NaN</td>\n",
              "      <td>NaN</td>\n",
              "      <td>NaN</td>\n",
              "      <td>NaN</td>\n",
              "      <td>NaN</td>\n",
              "      <td>NaN</td>\n",
              "    </tr>\n",
              "    <tr>\n",
              "      <th>1</th>\n",
              "      <td>2018-01-01</td>\n",
              "      <td>UA</td>\n",
              "      <td>2427</td>\n",
              "      <td>LAS</td>\n",
              "      <td>SFO</td>\n",
              "      <td>1115</td>\n",
              "      <td>1107.0</td>\n",
              "      <td>-8.0</td>\n",
              "      <td>11.0</td>\n",
              "      <td>1118.0</td>\n",
              "      <td>...</td>\n",
              "      <td>99.0</td>\n",
              "      <td>83.0</td>\n",
              "      <td>65.0</td>\n",
              "      <td>414.0</td>\n",
              "      <td>NaN</td>\n",
              "      <td>NaN</td>\n",
              "      <td>NaN</td>\n",
              "      <td>NaN</td>\n",
              "      <td>NaN</td>\n",
              "      <td>NaN</td>\n",
              "    </tr>\n",
              "    <tr>\n",
              "      <th>2</th>\n",
              "      <td>2018-01-01</td>\n",
              "      <td>UA</td>\n",
              "      <td>2426</td>\n",
              "      <td>SNA</td>\n",
              "      <td>DEN</td>\n",
              "      <td>1335</td>\n",
              "      <td>1330.0</td>\n",
              "      <td>-5.0</td>\n",
              "      <td>15.0</td>\n",
              "      <td>1345.0</td>\n",
              "      <td>...</td>\n",
              "      <td>134.0</td>\n",
              "      <td>126.0</td>\n",
              "      <td>106.0</td>\n",
              "      <td>846.0</td>\n",
              "      <td>NaN</td>\n",
              "      <td>NaN</td>\n",
              "      <td>NaN</td>\n",
              "      <td>NaN</td>\n",
              "      <td>NaN</td>\n",
              "      <td>NaN</td>\n",
              "    </tr>\n",
              "    <tr>\n",
              "      <th>3</th>\n",
              "      <td>2018-01-01</td>\n",
              "      <td>UA</td>\n",
              "      <td>2425</td>\n",
              "      <td>RSW</td>\n",
              "      <td>ORD</td>\n",
              "      <td>1546</td>\n",
              "      <td>1552.0</td>\n",
              "      <td>6.0</td>\n",
              "      <td>19.0</td>\n",
              "      <td>1611.0</td>\n",
              "      <td>...</td>\n",
              "      <td>190.0</td>\n",
              "      <td>182.0</td>\n",
              "      <td>157.0</td>\n",
              "      <td>1120.0</td>\n",
              "      <td>NaN</td>\n",
              "      <td>NaN</td>\n",
              "      <td>NaN</td>\n",
              "      <td>NaN</td>\n",
              "      <td>NaN</td>\n",
              "      <td>NaN</td>\n",
              "    </tr>\n",
              "    <tr>\n",
              "      <th>4</th>\n",
              "      <td>2018-01-01</td>\n",
              "      <td>UA</td>\n",
              "      <td>2424</td>\n",
              "      <td>ORD</td>\n",
              "      <td>ALB</td>\n",
              "      <td>630</td>\n",
              "      <td>650.0</td>\n",
              "      <td>20.0</td>\n",
              "      <td>13.0</td>\n",
              "      <td>703.0</td>\n",
              "      <td>...</td>\n",
              "      <td>112.0</td>\n",
              "      <td>106.0</td>\n",
              "      <td>83.0</td>\n",
              "      <td>723.0</td>\n",
              "      <td>NaN</td>\n",
              "      <td>NaN</td>\n",
              "      <td>NaN</td>\n",
              "      <td>NaN</td>\n",
              "      <td>NaN</td>\n",
              "      <td>NaN</td>\n",
              "    </tr>\n",
              "  </tbody>\n",
              "</table>\n",
              "<p>5 rows × 28 columns</p>\n",
              "</div>\n",
              "    <div class=\"colab-df-buttons\">\n",
              "\n",
              "  <div class=\"colab-df-container\">\n",
              "    <button class=\"colab-df-convert\" onclick=\"convertToInteractive('df-f83476ea-3ec2-4b17-abdd-6f45da78003c')\"\n",
              "            title=\"Convert this dataframe to an interactive table.\"\n",
              "            style=\"display:none;\">\n",
              "\n",
              "  <svg xmlns=\"http://www.w3.org/2000/svg\" height=\"24px\" viewBox=\"0 -960 960 960\">\n",
              "    <path d=\"M120-120v-720h720v720H120Zm60-500h600v-160H180v160Zm220 220h160v-160H400v160Zm0 220h160v-160H400v160ZM180-400h160v-160H180v160Zm440 0h160v-160H620v160ZM180-180h160v-160H180v160Zm440 0h160v-160H620v160Z\"/>\n",
              "  </svg>\n",
              "    </button>\n",
              "\n",
              "  <style>\n",
              "    .colab-df-container {\n",
              "      display:flex;\n",
              "      gap: 12px;\n",
              "    }\n",
              "\n",
              "    .colab-df-convert {\n",
              "      background-color: #E8F0FE;\n",
              "      border: none;\n",
              "      border-radius: 50%;\n",
              "      cursor: pointer;\n",
              "      display: none;\n",
              "      fill: #1967D2;\n",
              "      height: 32px;\n",
              "      padding: 0 0 0 0;\n",
              "      width: 32px;\n",
              "    }\n",
              "\n",
              "    .colab-df-convert:hover {\n",
              "      background-color: #E2EBFA;\n",
              "      box-shadow: 0px 1px 2px rgba(60, 64, 67, 0.3), 0px 1px 3px 1px rgba(60, 64, 67, 0.15);\n",
              "      fill: #174EA6;\n",
              "    }\n",
              "\n",
              "    .colab-df-buttons div {\n",
              "      margin-bottom: 4px;\n",
              "    }\n",
              "\n",
              "    [theme=dark] .colab-df-convert {\n",
              "      background-color: #3B4455;\n",
              "      fill: #D2E3FC;\n",
              "    }\n",
              "\n",
              "    [theme=dark] .colab-df-convert:hover {\n",
              "      background-color: #434B5C;\n",
              "      box-shadow: 0px 1px 3px 1px rgba(0, 0, 0, 0.15);\n",
              "      filter: drop-shadow(0px 1px 2px rgba(0, 0, 0, 0.3));\n",
              "      fill: #FFFFFF;\n",
              "    }\n",
              "  </style>\n",
              "\n",
              "    <script>\n",
              "      const buttonEl =\n",
              "        document.querySelector('#df-f83476ea-3ec2-4b17-abdd-6f45da78003c button.colab-df-convert');\n",
              "      buttonEl.style.display =\n",
              "        google.colab.kernel.accessAllowed ? 'block' : 'none';\n",
              "\n",
              "      async function convertToInteractive(key) {\n",
              "        const element = document.querySelector('#df-f83476ea-3ec2-4b17-abdd-6f45da78003c');\n",
              "        const dataTable =\n",
              "          await google.colab.kernel.invokeFunction('convertToInteractive',\n",
              "                                                    [key], {});\n",
              "        if (!dataTable) return;\n",
              "\n",
              "        const docLinkHtml = 'Like what you see? Visit the ' +\n",
              "          '<a target=\"_blank\" href=https://colab.research.google.com/notebooks/data_table.ipynb>data table notebook</a>'\n",
              "          + ' to learn more about interactive tables.';\n",
              "        element.innerHTML = '';\n",
              "        dataTable['output_type'] = 'display_data';\n",
              "        await google.colab.output.renderOutput(dataTable, element);\n",
              "        const docLink = document.createElement('div');\n",
              "        docLink.innerHTML = docLinkHtml;\n",
              "        element.appendChild(docLink);\n",
              "      }\n",
              "    </script>\n",
              "  </div>\n",
              "\n",
              "\n",
              "<div id=\"df-e70f79fb-2cb0-4616-9abc-f60b43ea0c7c\">\n",
              "  <button class=\"colab-df-quickchart\" onclick=\"quickchart('df-e70f79fb-2cb0-4616-9abc-f60b43ea0c7c')\"\n",
              "            title=\"Suggest charts\"\n",
              "            style=\"display:none;\">\n",
              "\n",
              "<svg xmlns=\"http://www.w3.org/2000/svg\" height=\"24px\"viewBox=\"0 0 24 24\"\n",
              "     width=\"24px\">\n",
              "    <g>\n",
              "        <path d=\"M19 3H5c-1.1 0-2 .9-2 2v14c0 1.1.9 2 2 2h14c1.1 0 2-.9 2-2V5c0-1.1-.9-2-2-2zM9 17H7v-7h2v7zm4 0h-2V7h2v10zm4 0h-2v-4h2v4z\"/>\n",
              "    </g>\n",
              "</svg>\n",
              "  </button>\n",
              "\n",
              "<style>\n",
              "  .colab-df-quickchart {\n",
              "      --bg-color: #E8F0FE;\n",
              "      --fill-color: #1967D2;\n",
              "      --hover-bg-color: #E2EBFA;\n",
              "      --hover-fill-color: #174EA6;\n",
              "      --disabled-fill-color: #AAA;\n",
              "      --disabled-bg-color: #DDD;\n",
              "  }\n",
              "\n",
              "  [theme=dark] .colab-df-quickchart {\n",
              "      --bg-color: #3B4455;\n",
              "      --fill-color: #D2E3FC;\n",
              "      --hover-bg-color: #434B5C;\n",
              "      --hover-fill-color: #FFFFFF;\n",
              "      --disabled-bg-color: #3B4455;\n",
              "      --disabled-fill-color: #666;\n",
              "  }\n",
              "\n",
              "  .colab-df-quickchart {\n",
              "    background-color: var(--bg-color);\n",
              "    border: none;\n",
              "    border-radius: 50%;\n",
              "    cursor: pointer;\n",
              "    display: none;\n",
              "    fill: var(--fill-color);\n",
              "    height: 32px;\n",
              "    padding: 0;\n",
              "    width: 32px;\n",
              "  }\n",
              "\n",
              "  .colab-df-quickchart:hover {\n",
              "    background-color: var(--hover-bg-color);\n",
              "    box-shadow: 0 1px 2px rgba(60, 64, 67, 0.3), 0 1px 3px 1px rgba(60, 64, 67, 0.15);\n",
              "    fill: var(--button-hover-fill-color);\n",
              "  }\n",
              "\n",
              "  .colab-df-quickchart-complete:disabled,\n",
              "  .colab-df-quickchart-complete:disabled:hover {\n",
              "    background-color: var(--disabled-bg-color);\n",
              "    fill: var(--disabled-fill-color);\n",
              "    box-shadow: none;\n",
              "  }\n",
              "\n",
              "  .colab-df-spinner {\n",
              "    border: 2px solid var(--fill-color);\n",
              "    border-color: transparent;\n",
              "    border-bottom-color: var(--fill-color);\n",
              "    animation:\n",
              "      spin 1s steps(1) infinite;\n",
              "  }\n",
              "\n",
              "  @keyframes spin {\n",
              "    0% {\n",
              "      border-color: transparent;\n",
              "      border-bottom-color: var(--fill-color);\n",
              "      border-left-color: var(--fill-color);\n",
              "    }\n",
              "    20% {\n",
              "      border-color: transparent;\n",
              "      border-left-color: var(--fill-color);\n",
              "      border-top-color: var(--fill-color);\n",
              "    }\n",
              "    30% {\n",
              "      border-color: transparent;\n",
              "      border-left-color: var(--fill-color);\n",
              "      border-top-color: var(--fill-color);\n",
              "      border-right-color: var(--fill-color);\n",
              "    }\n",
              "    40% {\n",
              "      border-color: transparent;\n",
              "      border-right-color: var(--fill-color);\n",
              "      border-top-color: var(--fill-color);\n",
              "    }\n",
              "    60% {\n",
              "      border-color: transparent;\n",
              "      border-right-color: var(--fill-color);\n",
              "    }\n",
              "    80% {\n",
              "      border-color: transparent;\n",
              "      border-right-color: var(--fill-color);\n",
              "      border-bottom-color: var(--fill-color);\n",
              "    }\n",
              "    90% {\n",
              "      border-color: transparent;\n",
              "      border-bottom-color: var(--fill-color);\n",
              "    }\n",
              "  }\n",
              "</style>\n",
              "\n",
              "  <script>\n",
              "    async function quickchart(key) {\n",
              "      const quickchartButtonEl =\n",
              "        document.querySelector('#' + key + ' button');\n",
              "      quickchartButtonEl.disabled = true;  // To prevent multiple clicks.\n",
              "      quickchartButtonEl.classList.add('colab-df-spinner');\n",
              "      try {\n",
              "        const charts = await google.colab.kernel.invokeFunction(\n",
              "            'suggestCharts', [key], {});\n",
              "      } catch (error) {\n",
              "        console.error('Error during call to suggestCharts:', error);\n",
              "      }\n",
              "      quickchartButtonEl.classList.remove('colab-df-spinner');\n",
              "      quickchartButtonEl.classList.add('colab-df-quickchart-complete');\n",
              "    }\n",
              "    (() => {\n",
              "      let quickchartButtonEl =\n",
              "        document.querySelector('#df-e70f79fb-2cb0-4616-9abc-f60b43ea0c7c button');\n",
              "      quickchartButtonEl.style.display =\n",
              "        google.colab.kernel.accessAllowed ? 'block' : 'none';\n",
              "    })();\n",
              "  </script>\n",
              "</div>\n",
              "    </div>\n",
              "  </div>\n"
            ]
          },
          "metadata": {},
          "execution_count": 6
        }
      ]
    },
    {
      "cell_type": "markdown",
      "source": [
        "With the code below, we conduct a fundamental exploratory data analysis to comprehend the inherent features of the dataset. This involves identifying missing values, inspecting data types, and obtaining a comprehensive overview of the dataset's structure and summary statistics."
      ],
      "metadata": {
        "id": "CS_x_bW-M0WE"
      }
    },
    {
      "cell_type": "code",
      "source": [
        "# Check for missing values\n",
        "print(df.isnull().sum())"
      ],
      "metadata": {
        "colab": {
          "base_uri": "https://localhost:8080/"
        },
        "id": "WF45RzBYMqa6",
        "outputId": "07eae476-4213-482c-f246-2f950fd15df7"
      },
      "execution_count": null,
      "outputs": [
        {
          "output_type": "stream",
          "name": "stdout",
          "text": [
            "FL_DATE                      0\n",
            "OP_CARRIER                   0\n",
            "OP_CARRIER_FL_NUM            0\n",
            "ORIGIN                       0\n",
            "DEST                         0\n",
            "CRS_DEP_TIME                 0\n",
            "DEP_TIME                112317\n",
            "DEP_DELAY               117234\n",
            "TAXI_OUT                115830\n",
            "WHEELS_OFF              115829\n",
            "WHEELS_ON               119246\n",
            "TAXI_IN                 119246\n",
            "CRS_ARR_TIME                 0\n",
            "ARR_TIME                119245\n",
            "ARR_DELAY               137040\n",
            "CANCELLED                    0\n",
            "CANCELLATION_CODE      7096862\n",
            "DIVERTED                     0\n",
            "CRS_ELAPSED_TIME            10\n",
            "ACTUAL_ELAPSED_TIME     134442\n",
            "AIR_TIME                134442\n",
            "DISTANCE                     0\n",
            "CARRIER_DELAY          5860736\n",
            "WEATHER_DELAY          5860736\n",
            "NAS_DELAY              5860736\n",
            "SECURITY_DELAY         5860736\n",
            "LATE_AIRCRAFT_DELAY    5860736\n",
            "Unnamed: 27            7213446\n",
            "dtype: int64\n"
          ]
        }
      ]
    },
    {
      "cell_type": "markdown",
      "source": [
        "\n",
        "Due to a substantial number of null values, we will be eliminating the following columns: 'CANCELLATION_CODE,' 'CARRIER_DELAY,' 'WEATHER_DELAY,' 'NAS_DELAY,' 'SECURITY_DELAY,' 'LATE_AIRCRAFT_DELAY,' and 'Unnamed: 27.'"
      ],
      "metadata": {
        "id": "bgoVmyZ1NFqa"
      }
    },
    {
      "cell_type": "code",
      "source": [
        "# List of columns to drop\n",
        "columns_to_drop = ['DIVERTED','CANCELLATION_CODE', 'CARRIER_DELAY', 'WEATHER_DELAY', 'NAS_DELAY', 'SECURITY_DELAY', 'LATE_AIRCRAFT_DELAY', 'Unnamed: 27']\n",
        "\n",
        "# Drop the specified columns\n",
        "df.drop(columns=columns_to_drop, inplace=True)"
      ],
      "metadata": {
        "id": "ZycqgKh2NGLC"
      },
      "execution_count": null,
      "outputs": []
    },
    {
      "cell_type": "code",
      "source": [
        "#Recheck the number of rows and columns again\n",
        "df.shape"
      ],
      "metadata": {
        "colab": {
          "base_uri": "https://localhost:8080/"
        },
        "id": "onHCEcP6Ndaa",
        "outputId": "f9143788-dfc1-4d6f-efa3-1fafcede3450"
      },
      "execution_count": null,
      "outputs": [
        {
          "output_type": "execute_result",
          "data": {
            "text/plain": [
              "(7213446, 20)"
            ]
          },
          "metadata": {},
          "execution_count": 9
        }
      ]
    },
    {
      "cell_type": "code",
      "source": [
        "df.head()"
      ],
      "metadata": {
        "colab": {
          "base_uri": "https://localhost:8080/",
          "height": 313
        },
        "id": "XJNNSnqYhvbE",
        "outputId": "d69a446c-6752-468f-e82e-4854fc985410"
      },
      "execution_count": null,
      "outputs": [
        {
          "output_type": "execute_result",
          "data": {
            "text/plain": [
              "      FL_DATE OP_CARRIER  OP_CARRIER_FL_NUM ORIGIN DEST  CRS_DEP_TIME  \\\n",
              "0  2018-01-01         UA               2429    EWR  DEN          1517   \n",
              "1  2018-01-01         UA               2427    LAS  SFO          1115   \n",
              "2  2018-01-01         UA               2426    SNA  DEN          1335   \n",
              "3  2018-01-01         UA               2425    RSW  ORD          1546   \n",
              "4  2018-01-01         UA               2424    ORD  ALB           630   \n",
              "\n",
              "   DEP_TIME  DEP_DELAY  TAXI_OUT  WHEELS_OFF  WHEELS_ON  TAXI_IN  \\\n",
              "0    1512.0       -5.0      15.0      1527.0     1712.0     10.0   \n",
              "1    1107.0       -8.0      11.0      1118.0     1223.0      7.0   \n",
              "2    1330.0       -5.0      15.0      1345.0     1631.0      5.0   \n",
              "3    1552.0        6.0      19.0      1611.0     1748.0      6.0   \n",
              "4     650.0       20.0      13.0       703.0      926.0     10.0   \n",
              "\n",
              "   CRS_ARR_TIME  ARR_TIME  ARR_DELAY  CANCELLED  CRS_ELAPSED_TIME  \\\n",
              "0          1745    1722.0      -23.0        0.0             268.0   \n",
              "1          1254    1230.0      -24.0        0.0              99.0   \n",
              "2          1649    1636.0      -13.0        0.0             134.0   \n",
              "3          1756    1754.0       -2.0        0.0             190.0   \n",
              "4           922     936.0       14.0        0.0             112.0   \n",
              "\n",
              "   ACTUAL_ELAPSED_TIME  AIR_TIME  DISTANCE  \n",
              "0                250.0     225.0    1605.0  \n",
              "1                 83.0      65.0     414.0  \n",
              "2                126.0     106.0     846.0  \n",
              "3                182.0     157.0    1120.0  \n",
              "4                106.0      83.0     723.0  "
            ],
            "text/html": [
              "\n",
              "  <div id=\"df-8b1163f8-c0e7-4726-8080-48e5cb342859\" class=\"colab-df-container\">\n",
              "    <div>\n",
              "<style scoped>\n",
              "    .dataframe tbody tr th:only-of-type {\n",
              "        vertical-align: middle;\n",
              "    }\n",
              "\n",
              "    .dataframe tbody tr th {\n",
              "        vertical-align: top;\n",
              "    }\n",
              "\n",
              "    .dataframe thead th {\n",
              "        text-align: right;\n",
              "    }\n",
              "</style>\n",
              "<table border=\"1\" class=\"dataframe\">\n",
              "  <thead>\n",
              "    <tr style=\"text-align: right;\">\n",
              "      <th></th>\n",
              "      <th>FL_DATE</th>\n",
              "      <th>OP_CARRIER</th>\n",
              "      <th>OP_CARRIER_FL_NUM</th>\n",
              "      <th>ORIGIN</th>\n",
              "      <th>DEST</th>\n",
              "      <th>CRS_DEP_TIME</th>\n",
              "      <th>DEP_TIME</th>\n",
              "      <th>DEP_DELAY</th>\n",
              "      <th>TAXI_OUT</th>\n",
              "      <th>WHEELS_OFF</th>\n",
              "      <th>WHEELS_ON</th>\n",
              "      <th>TAXI_IN</th>\n",
              "      <th>CRS_ARR_TIME</th>\n",
              "      <th>ARR_TIME</th>\n",
              "      <th>ARR_DELAY</th>\n",
              "      <th>CANCELLED</th>\n",
              "      <th>CRS_ELAPSED_TIME</th>\n",
              "      <th>ACTUAL_ELAPSED_TIME</th>\n",
              "      <th>AIR_TIME</th>\n",
              "      <th>DISTANCE</th>\n",
              "    </tr>\n",
              "  </thead>\n",
              "  <tbody>\n",
              "    <tr>\n",
              "      <th>0</th>\n",
              "      <td>2018-01-01</td>\n",
              "      <td>UA</td>\n",
              "      <td>2429</td>\n",
              "      <td>EWR</td>\n",
              "      <td>DEN</td>\n",
              "      <td>1517</td>\n",
              "      <td>1512.0</td>\n",
              "      <td>-5.0</td>\n",
              "      <td>15.0</td>\n",
              "      <td>1527.0</td>\n",
              "      <td>1712.0</td>\n",
              "      <td>10.0</td>\n",
              "      <td>1745</td>\n",
              "      <td>1722.0</td>\n",
              "      <td>-23.0</td>\n",
              "      <td>0.0</td>\n",
              "      <td>268.0</td>\n",
              "      <td>250.0</td>\n",
              "      <td>225.0</td>\n",
              "      <td>1605.0</td>\n",
              "    </tr>\n",
              "    <tr>\n",
              "      <th>1</th>\n",
              "      <td>2018-01-01</td>\n",
              "      <td>UA</td>\n",
              "      <td>2427</td>\n",
              "      <td>LAS</td>\n",
              "      <td>SFO</td>\n",
              "      <td>1115</td>\n",
              "      <td>1107.0</td>\n",
              "      <td>-8.0</td>\n",
              "      <td>11.0</td>\n",
              "      <td>1118.0</td>\n",
              "      <td>1223.0</td>\n",
              "      <td>7.0</td>\n",
              "      <td>1254</td>\n",
              "      <td>1230.0</td>\n",
              "      <td>-24.0</td>\n",
              "      <td>0.0</td>\n",
              "      <td>99.0</td>\n",
              "      <td>83.0</td>\n",
              "      <td>65.0</td>\n",
              "      <td>414.0</td>\n",
              "    </tr>\n",
              "    <tr>\n",
              "      <th>2</th>\n",
              "      <td>2018-01-01</td>\n",
              "      <td>UA</td>\n",
              "      <td>2426</td>\n",
              "      <td>SNA</td>\n",
              "      <td>DEN</td>\n",
              "      <td>1335</td>\n",
              "      <td>1330.0</td>\n",
              "      <td>-5.0</td>\n",
              "      <td>15.0</td>\n",
              "      <td>1345.0</td>\n",
              "      <td>1631.0</td>\n",
              "      <td>5.0</td>\n",
              "      <td>1649</td>\n",
              "      <td>1636.0</td>\n",
              "      <td>-13.0</td>\n",
              "      <td>0.0</td>\n",
              "      <td>134.0</td>\n",
              "      <td>126.0</td>\n",
              "      <td>106.0</td>\n",
              "      <td>846.0</td>\n",
              "    </tr>\n",
              "    <tr>\n",
              "      <th>3</th>\n",
              "      <td>2018-01-01</td>\n",
              "      <td>UA</td>\n",
              "      <td>2425</td>\n",
              "      <td>RSW</td>\n",
              "      <td>ORD</td>\n",
              "      <td>1546</td>\n",
              "      <td>1552.0</td>\n",
              "      <td>6.0</td>\n",
              "      <td>19.0</td>\n",
              "      <td>1611.0</td>\n",
              "      <td>1748.0</td>\n",
              "      <td>6.0</td>\n",
              "      <td>1756</td>\n",
              "      <td>1754.0</td>\n",
              "      <td>-2.0</td>\n",
              "      <td>0.0</td>\n",
              "      <td>190.0</td>\n",
              "      <td>182.0</td>\n",
              "      <td>157.0</td>\n",
              "      <td>1120.0</td>\n",
              "    </tr>\n",
              "    <tr>\n",
              "      <th>4</th>\n",
              "      <td>2018-01-01</td>\n",
              "      <td>UA</td>\n",
              "      <td>2424</td>\n",
              "      <td>ORD</td>\n",
              "      <td>ALB</td>\n",
              "      <td>630</td>\n",
              "      <td>650.0</td>\n",
              "      <td>20.0</td>\n",
              "      <td>13.0</td>\n",
              "      <td>703.0</td>\n",
              "      <td>926.0</td>\n",
              "      <td>10.0</td>\n",
              "      <td>922</td>\n",
              "      <td>936.0</td>\n",
              "      <td>14.0</td>\n",
              "      <td>0.0</td>\n",
              "      <td>112.0</td>\n",
              "      <td>106.0</td>\n",
              "      <td>83.0</td>\n",
              "      <td>723.0</td>\n",
              "    </tr>\n",
              "  </tbody>\n",
              "</table>\n",
              "</div>\n",
              "    <div class=\"colab-df-buttons\">\n",
              "\n",
              "  <div class=\"colab-df-container\">\n",
              "    <button class=\"colab-df-convert\" onclick=\"convertToInteractive('df-8b1163f8-c0e7-4726-8080-48e5cb342859')\"\n",
              "            title=\"Convert this dataframe to an interactive table.\"\n",
              "            style=\"display:none;\">\n",
              "\n",
              "  <svg xmlns=\"http://www.w3.org/2000/svg\" height=\"24px\" viewBox=\"0 -960 960 960\">\n",
              "    <path d=\"M120-120v-720h720v720H120Zm60-500h600v-160H180v160Zm220 220h160v-160H400v160Zm0 220h160v-160H400v160ZM180-400h160v-160H180v160Zm440 0h160v-160H620v160ZM180-180h160v-160H180v160Zm440 0h160v-160H620v160Z\"/>\n",
              "  </svg>\n",
              "    </button>\n",
              "\n",
              "  <style>\n",
              "    .colab-df-container {\n",
              "      display:flex;\n",
              "      gap: 12px;\n",
              "    }\n",
              "\n",
              "    .colab-df-convert {\n",
              "      background-color: #E8F0FE;\n",
              "      border: none;\n",
              "      border-radius: 50%;\n",
              "      cursor: pointer;\n",
              "      display: none;\n",
              "      fill: #1967D2;\n",
              "      height: 32px;\n",
              "      padding: 0 0 0 0;\n",
              "      width: 32px;\n",
              "    }\n",
              "\n",
              "    .colab-df-convert:hover {\n",
              "      background-color: #E2EBFA;\n",
              "      box-shadow: 0px 1px 2px rgba(60, 64, 67, 0.3), 0px 1px 3px 1px rgba(60, 64, 67, 0.15);\n",
              "      fill: #174EA6;\n",
              "    }\n",
              "\n",
              "    .colab-df-buttons div {\n",
              "      margin-bottom: 4px;\n",
              "    }\n",
              "\n",
              "    [theme=dark] .colab-df-convert {\n",
              "      background-color: #3B4455;\n",
              "      fill: #D2E3FC;\n",
              "    }\n",
              "\n",
              "    [theme=dark] .colab-df-convert:hover {\n",
              "      background-color: #434B5C;\n",
              "      box-shadow: 0px 1px 3px 1px rgba(0, 0, 0, 0.15);\n",
              "      filter: drop-shadow(0px 1px 2px rgba(0, 0, 0, 0.3));\n",
              "      fill: #FFFFFF;\n",
              "    }\n",
              "  </style>\n",
              "\n",
              "    <script>\n",
              "      const buttonEl =\n",
              "        document.querySelector('#df-8b1163f8-c0e7-4726-8080-48e5cb342859 button.colab-df-convert');\n",
              "      buttonEl.style.display =\n",
              "        google.colab.kernel.accessAllowed ? 'block' : 'none';\n",
              "\n",
              "      async function convertToInteractive(key) {\n",
              "        const element = document.querySelector('#df-8b1163f8-c0e7-4726-8080-48e5cb342859');\n",
              "        const dataTable =\n",
              "          await google.colab.kernel.invokeFunction('convertToInteractive',\n",
              "                                                    [key], {});\n",
              "        if (!dataTable) return;\n",
              "\n",
              "        const docLinkHtml = 'Like what you see? Visit the ' +\n",
              "          '<a target=\"_blank\" href=https://colab.research.google.com/notebooks/data_table.ipynb>data table notebook</a>'\n",
              "          + ' to learn more about interactive tables.';\n",
              "        element.innerHTML = '';\n",
              "        dataTable['output_type'] = 'display_data';\n",
              "        await google.colab.output.renderOutput(dataTable, element);\n",
              "        const docLink = document.createElement('div');\n",
              "        docLink.innerHTML = docLinkHtml;\n",
              "        element.appendChild(docLink);\n",
              "      }\n",
              "    </script>\n",
              "  </div>\n",
              "\n",
              "\n",
              "<div id=\"df-671c1879-afab-4b3c-93df-582aeb961a72\">\n",
              "  <button class=\"colab-df-quickchart\" onclick=\"quickchart('df-671c1879-afab-4b3c-93df-582aeb961a72')\"\n",
              "            title=\"Suggest charts\"\n",
              "            style=\"display:none;\">\n",
              "\n",
              "<svg xmlns=\"http://www.w3.org/2000/svg\" height=\"24px\"viewBox=\"0 0 24 24\"\n",
              "     width=\"24px\">\n",
              "    <g>\n",
              "        <path d=\"M19 3H5c-1.1 0-2 .9-2 2v14c0 1.1.9 2 2 2h14c1.1 0 2-.9 2-2V5c0-1.1-.9-2-2-2zM9 17H7v-7h2v7zm4 0h-2V7h2v10zm4 0h-2v-4h2v4z\"/>\n",
              "    </g>\n",
              "</svg>\n",
              "  </button>\n",
              "\n",
              "<style>\n",
              "  .colab-df-quickchart {\n",
              "      --bg-color: #E8F0FE;\n",
              "      --fill-color: #1967D2;\n",
              "      --hover-bg-color: #E2EBFA;\n",
              "      --hover-fill-color: #174EA6;\n",
              "      --disabled-fill-color: #AAA;\n",
              "      --disabled-bg-color: #DDD;\n",
              "  }\n",
              "\n",
              "  [theme=dark] .colab-df-quickchart {\n",
              "      --bg-color: #3B4455;\n",
              "      --fill-color: #D2E3FC;\n",
              "      --hover-bg-color: #434B5C;\n",
              "      --hover-fill-color: #FFFFFF;\n",
              "      --disabled-bg-color: #3B4455;\n",
              "      --disabled-fill-color: #666;\n",
              "  }\n",
              "\n",
              "  .colab-df-quickchart {\n",
              "    background-color: var(--bg-color);\n",
              "    border: none;\n",
              "    border-radius: 50%;\n",
              "    cursor: pointer;\n",
              "    display: none;\n",
              "    fill: var(--fill-color);\n",
              "    height: 32px;\n",
              "    padding: 0;\n",
              "    width: 32px;\n",
              "  }\n",
              "\n",
              "  .colab-df-quickchart:hover {\n",
              "    background-color: var(--hover-bg-color);\n",
              "    box-shadow: 0 1px 2px rgba(60, 64, 67, 0.3), 0 1px 3px 1px rgba(60, 64, 67, 0.15);\n",
              "    fill: var(--button-hover-fill-color);\n",
              "  }\n",
              "\n",
              "  .colab-df-quickchart-complete:disabled,\n",
              "  .colab-df-quickchart-complete:disabled:hover {\n",
              "    background-color: var(--disabled-bg-color);\n",
              "    fill: var(--disabled-fill-color);\n",
              "    box-shadow: none;\n",
              "  }\n",
              "\n",
              "  .colab-df-spinner {\n",
              "    border: 2px solid var(--fill-color);\n",
              "    border-color: transparent;\n",
              "    border-bottom-color: var(--fill-color);\n",
              "    animation:\n",
              "      spin 1s steps(1) infinite;\n",
              "  }\n",
              "\n",
              "  @keyframes spin {\n",
              "    0% {\n",
              "      border-color: transparent;\n",
              "      border-bottom-color: var(--fill-color);\n",
              "      border-left-color: var(--fill-color);\n",
              "    }\n",
              "    20% {\n",
              "      border-color: transparent;\n",
              "      border-left-color: var(--fill-color);\n",
              "      border-top-color: var(--fill-color);\n",
              "    }\n",
              "    30% {\n",
              "      border-color: transparent;\n",
              "      border-left-color: var(--fill-color);\n",
              "      border-top-color: var(--fill-color);\n",
              "      border-right-color: var(--fill-color);\n",
              "    }\n",
              "    40% {\n",
              "      border-color: transparent;\n",
              "      border-right-color: var(--fill-color);\n",
              "      border-top-color: var(--fill-color);\n",
              "    }\n",
              "    60% {\n",
              "      border-color: transparent;\n",
              "      border-right-color: var(--fill-color);\n",
              "    }\n",
              "    80% {\n",
              "      border-color: transparent;\n",
              "      border-right-color: var(--fill-color);\n",
              "      border-bottom-color: var(--fill-color);\n",
              "    }\n",
              "    90% {\n",
              "      border-color: transparent;\n",
              "      border-bottom-color: var(--fill-color);\n",
              "    }\n",
              "  }\n",
              "</style>\n",
              "\n",
              "  <script>\n",
              "    async function quickchart(key) {\n",
              "      const quickchartButtonEl =\n",
              "        document.querySelector('#' + key + ' button');\n",
              "      quickchartButtonEl.disabled = true;  // To prevent multiple clicks.\n",
              "      quickchartButtonEl.classList.add('colab-df-spinner');\n",
              "      try {\n",
              "        const charts = await google.colab.kernel.invokeFunction(\n",
              "            'suggestCharts', [key], {});\n",
              "      } catch (error) {\n",
              "        console.error('Error during call to suggestCharts:', error);\n",
              "      }\n",
              "      quickchartButtonEl.classList.remove('colab-df-spinner');\n",
              "      quickchartButtonEl.classList.add('colab-df-quickchart-complete');\n",
              "    }\n",
              "    (() => {\n",
              "      let quickchartButtonEl =\n",
              "        document.querySelector('#df-671c1879-afab-4b3c-93df-582aeb961a72 button');\n",
              "      quickchartButtonEl.style.display =\n",
              "        google.colab.kernel.accessAllowed ? 'block' : 'none';\n",
              "    })();\n",
              "  </script>\n",
              "</div>\n",
              "    </div>\n",
              "  </div>\n"
            ]
          },
          "metadata": {},
          "execution_count": 10
        }
      ]
    },
    {
      "cell_type": "markdown",
      "source": [
        "To identify missing values in a Pandas DataFrame, the isnull() method can be employed, producing a DataFrame with the same shape as the original, where True indicates missing data and False denotes existing values. Subsequently, utilizing the sum() function allows counting the missing values in each column."
      ],
      "metadata": {
        "id": "j0qCmBj3h2VH"
      }
    },
    {
      "cell_type": "code",
      "source": [
        "# Check for missing values\n",
        "print(df.isnull().sum())"
      ],
      "metadata": {
        "colab": {
          "base_uri": "https://localhost:8080/"
        },
        "id": "YMVswoE4h2l0",
        "outputId": "f7d75b9e-d13d-422a-f353-4991ad4b39f6"
      },
      "execution_count": null,
      "outputs": [
        {
          "output_type": "stream",
          "name": "stdout",
          "text": [
            "FL_DATE                     0\n",
            "OP_CARRIER                  0\n",
            "OP_CARRIER_FL_NUM           0\n",
            "ORIGIN                      0\n",
            "DEST                        0\n",
            "CRS_DEP_TIME                0\n",
            "DEP_TIME               112317\n",
            "DEP_DELAY              117234\n",
            "TAXI_OUT               115830\n",
            "WHEELS_OFF             115829\n",
            "WHEELS_ON              119246\n",
            "TAXI_IN                119246\n",
            "CRS_ARR_TIME                0\n",
            "ARR_TIME               119245\n",
            "ARR_DELAY              137040\n",
            "CANCELLED                   0\n",
            "CRS_ELAPSED_TIME           10\n",
            "ACTUAL_ELAPSED_TIME    134442\n",
            "AIR_TIME               134442\n",
            "DISTANCE                    0\n",
            "dtype: int64\n"
          ]
        }
      ]
    },
    {
      "cell_type": "markdown",
      "source": [
        "To drop rows with null values from the DataFrame, we can use the dropna() method."
      ],
      "metadata": {
        "id": "2ilBvtAsiC0q"
      }
    },
    {
      "cell_type": "code",
      "source": [
        "df.dropna(inplace=True)"
      ],
      "metadata": {
        "id": "NGZk9U_giC9b"
      },
      "execution_count": null,
      "outputs": []
    },
    {
      "cell_type": "markdown",
      "source": [
        "\n",
        "To assess the effectiveness of the data cleaning process, we can once again utilize the following code."
      ],
      "metadata": {
        "id": "tLsi6PfWiIer"
      }
    },
    {
      "cell_type": "code",
      "source": [
        "# Check for missing values\n",
        "print(df.isnull().sum())"
      ],
      "metadata": {
        "colab": {
          "base_uri": "https://localhost:8080/"
        },
        "id": "enFn5OK5iGlT",
        "outputId": "02348ee0-8d6a-42ed-a399-51522cf3664d"
      },
      "execution_count": null,
      "outputs": [
        {
          "output_type": "stream",
          "name": "stdout",
          "text": [
            "FL_DATE                0\n",
            "OP_CARRIER             0\n",
            "OP_CARRIER_FL_NUM      0\n",
            "ORIGIN                 0\n",
            "DEST                   0\n",
            "CRS_DEP_TIME           0\n",
            "DEP_TIME               0\n",
            "DEP_DELAY              0\n",
            "TAXI_OUT               0\n",
            "WHEELS_OFF             0\n",
            "WHEELS_ON              0\n",
            "TAXI_IN                0\n",
            "CRS_ARR_TIME           0\n",
            "ARR_TIME               0\n",
            "ARR_DELAY              0\n",
            "CANCELLED              0\n",
            "CRS_ELAPSED_TIME       0\n",
            "ACTUAL_ELAPSED_TIME    0\n",
            "AIR_TIME               0\n",
            "DISTANCE               0\n",
            "dtype: int64\n"
          ]
        }
      ]
    },
    {
      "cell_type": "code",
      "source": [
        "df.shape"
      ],
      "metadata": {
        "colab": {
          "base_uri": "https://localhost:8080/"
        },
        "id": "LVGyjQKxiWOT",
        "outputId": "02f331a8-9f9d-4b4d-d194-8fffa97f153f"
      },
      "execution_count": null,
      "outputs": [
        {
          "output_type": "execute_result",
          "data": {
            "text/plain": [
              "(7071817, 20)"
            ]
          },
          "metadata": {},
          "execution_count": 14
        }
      ]
    },
    {
      "cell_type": "code",
      "source": [
        "# Get data types and basic statistics\n",
        "print(df.info())"
      ],
      "metadata": {
        "colab": {
          "base_uri": "https://localhost:8080/"
        },
        "id": "r7aDwgrtia5d",
        "outputId": "376876b2-7556-4706-e2a0-0018d6f0db6b"
      },
      "execution_count": null,
      "outputs": [
        {
          "output_type": "stream",
          "name": "stdout",
          "text": [
            "<class 'pandas.core.frame.DataFrame'>\n",
            "Int64Index: 7071817 entries, 0 to 7213445\n",
            "Data columns (total 20 columns):\n",
            " #   Column               Dtype  \n",
            "---  ------               -----  \n",
            " 0   FL_DATE              object \n",
            " 1   OP_CARRIER           object \n",
            " 2   OP_CARRIER_FL_NUM    int64  \n",
            " 3   ORIGIN               object \n",
            " 4   DEST                 object \n",
            " 5   CRS_DEP_TIME         int64  \n",
            " 6   DEP_TIME             float64\n",
            " 7   DEP_DELAY            float64\n",
            " 8   TAXI_OUT             float64\n",
            " 9   WHEELS_OFF           float64\n",
            " 10  WHEELS_ON            float64\n",
            " 11  TAXI_IN              float64\n",
            " 12  CRS_ARR_TIME         int64  \n",
            " 13  ARR_TIME             float64\n",
            " 14  ARR_DELAY            float64\n",
            " 15  CANCELLED            float64\n",
            " 16  CRS_ELAPSED_TIME     float64\n",
            " 17  ACTUAL_ELAPSED_TIME  float64\n",
            " 18  AIR_TIME             float64\n",
            " 19  DISTANCE             float64\n",
            "dtypes: float64(13), int64(3), object(4)\n",
            "memory usage: 1.1+ GB\n",
            "None\n"
          ]
        }
      ]
    },
    {
      "cell_type": "markdown",
      "source": [
        "The describe() function can be employed to extract essential statistical details regarding the numerical columns in the dataset. This encompasses metrics such as the mean, standard deviation, minimum, 25th percentile (Q1), median (50th percentile or Q2), 75th percentile (Q3), and maximum values."
      ],
      "metadata": {
        "id": "xE6yrN-pi10S"
      }
    },
    {
      "cell_type": "code",
      "source": [
        "print(df.describe())"
      ],
      "metadata": {
        "colab": {
          "base_uri": "https://localhost:8080/"
        },
        "id": "Vywh9DoTi2Fy",
        "outputId": "df5ba313-0077-40be-d981-ecf4f1a0fce9"
      },
      "execution_count": null,
      "outputs": [
        {
          "output_type": "stream",
          "name": "stdout",
          "text": [
            "       OP_CARRIER_FL_NUM  CRS_DEP_TIME      DEP_TIME     DEP_DELAY  \\\n",
            "count       7.071817e+06  7.071817e+06  7.071817e+06  7.071817e+06   \n",
            "mean        2.596264e+03  1.328552e+03  1.333715e+03  9.902050e+00   \n",
            "std         1.858259e+03  4.908422e+02  5.045693e+02  4.464612e+01   \n",
            "min         1.000000e+00  1.000000e+00  1.000000e+00 -1.220000e+02   \n",
            "25%         1.018000e+03  9.140000e+02  9.160000e+02 -5.000000e+00   \n",
            "50%         2.119000e+03  1.320000e+03  1.326000e+03 -2.000000e+00   \n",
            "75%         4.060000e+03  1.735000e+03  1.744000e+03  7.000000e+00   \n",
            "max         7.909000e+03  2.359000e+03  2.400000e+03  2.710000e+03   \n",
            "\n",
            "           TAXI_OUT    WHEELS_OFF     WHEELS_ON       TAXI_IN  CRS_ARR_TIME  \\\n",
            "count  7.071817e+06  7.071817e+06  7.071817e+06  7.071817e+06  7.071817e+06   \n",
            "mean   1.739675e+01  1.357723e+03  1.462093e+03  7.595056e+00  1.485222e+03   \n",
            "std    9.904040e+00  5.060399e+02  5.332033e+02  6.041841e+00  5.181999e+02   \n",
            "min    1.000000e+00  1.000000e+00  1.000000e+00  1.000000e+00  1.000000e+00   \n",
            "25%    1.100000e+01  9.310000e+02  1.044000e+03  4.000000e+00  1.100000e+03   \n",
            "50%    1.500000e+01  1.340000e+03  1.502000e+03  6.000000e+00  1.515000e+03   \n",
            "75%    2.000000e+01  1.759000e+03  1.911000e+03  9.000000e+00  1.918000e+03   \n",
            "max    1.960000e+02  2.400000e+03  2.400000e+03  2.590000e+02  2.400000e+03   \n",
            "\n",
            "           ARR_TIME     ARR_DELAY  CANCELLED  CRS_ELAPSED_TIME  \\\n",
            "count  7.071817e+06  7.071817e+06  7071817.0      7.071817e+06   \n",
            "mean   1.466748e+03  5.055708e+00        0.0      1.413772e+02   \n",
            "std    5.374200e+02  4.693941e+01        0.0      7.350376e+01   \n",
            "min    1.000000e+00 -1.200000e+02        0.0     -9.900000e+01   \n",
            "25%    1.048000e+03 -1.400000e+01        0.0      8.800000e+01   \n",
            "50%    1.506000e+03 -6.000000e+00        0.0      1.220000e+02   \n",
            "75%    1.916000e+03  8.000000e+00        0.0      1.710000e+02   \n",
            "max    2.400000e+03  2.692000e+03        0.0      7.040000e+02   \n",
            "\n",
            "       ACTUAL_ELAPSED_TIME      AIR_TIME      DISTANCE  \n",
            "count         7.071817e+06  7.071817e+06  7.071817e+06  \n",
            "mean          1.365311e+02  1.115393e+02  8.026195e+02  \n",
            "std           7.315899e+01  7.113138e+01  5.994219e+02  \n",
            "min           1.400000e+01  7.000000e+00  3.100000e+01  \n",
            "25%           8.300000e+01  6.000000e+01  3.630000e+02  \n",
            "50%           1.180000e+02  9.200000e+01  6.340000e+02  \n",
            "75%           1.670000e+02  1.410000e+02  1.035000e+03  \n",
            "max           7.570000e+02  6.960000e+02  4.983000e+03  \n"
          ]
        }
      ]
    },
    {
      "cell_type": "markdown",
      "source": [
        "Calculating the correlation matrix for a DataFrame (df) using the corr() method in pandas. The resulting matrix represents the pairwise correlation coefficients between numerical columns in the DataFrame. Subsequently, the matrix is printed to provide insights into the strength and direction of relationships between variables."
      ],
      "metadata": {
        "id": "3dyjhxKXkGBz"
      }
    },
    {
      "cell_type": "code",
      "source": [
        "# Calculate and visualize correlation matrix\n",
        "correlation_matrix = df.corr()\n",
        "print(correlation_matrix)\n"
      ],
      "metadata": {
        "colab": {
          "base_uri": "https://localhost:8080/"
        },
        "id": "zY2wEljIkGTq",
        "outputId": "e0808fd6-24db-4b14-cde1-fe065236b754"
      },
      "execution_count": null,
      "outputs": [
        {
          "output_type": "stream",
          "name": "stderr",
          "text": [
            "<ipython-input-17-e95fed11acfd>:2: FutureWarning: The default value of numeric_only in DataFrame.corr is deprecated. In a future version, it will default to False. Select only valid columns or specify the value of numeric_only to silence this warning.\n",
            "  correlation_matrix = df.corr()\n"
          ]
        },
        {
          "output_type": "stream",
          "name": "stdout",
          "text": [
            "                     OP_CARRIER_FL_NUM  CRS_DEP_TIME  DEP_TIME  DEP_DELAY  \\\n",
            "OP_CARRIER_FL_NUM             1.000000      0.007482  0.013422   0.009448   \n",
            "CRS_DEP_TIME                  0.007482      1.000000  0.960311   0.104968   \n",
            "DEP_TIME                      0.013422      0.960311  1.000000   0.139866   \n",
            "DEP_DELAY                     0.009448      0.104968  0.139866   1.000000   \n",
            "TAXI_OUT                      0.067424      0.001208  0.010446   0.056181   \n",
            "WHEELS_OFF                    0.021491      0.934421  0.971443   0.130016   \n",
            "WHEELS_ON                     0.016669      0.638205  0.661590   0.038373   \n",
            "TAXI_IN                      -0.016509     -0.048556 -0.044276   0.009451   \n",
            "CRS_ARR_TIME                  0.014850      0.687537  0.689139   0.090476   \n",
            "ARR_TIME                      0.020243      0.610429  0.632954   0.030778   \n",
            "ARR_DELAY                     0.019213      0.095295  0.130680   0.957282   \n",
            "CANCELLED                          NaN           NaN       NaN        NaN   \n",
            "CRS_ELAPSED_TIME             -0.315050     -0.018290 -0.021582   0.013064   \n",
            "ACTUAL_ELAPSED_TIME          -0.309968     -0.021296 -0.023195   0.017081   \n",
            "AIR_TIME                     -0.326789     -0.017947 -0.021550   0.008942   \n",
            "DISTANCE                     -0.340154     -0.011330 -0.016827   0.009142   \n",
            "\n",
            "                     TAXI_OUT  WHEELS_OFF  WHEELS_ON   TAXI_IN  CRS_ARR_TIME  \\\n",
            "OP_CARRIER_FL_NUM    0.067424    0.021491   0.016669 -0.016509      0.014850   \n",
            "CRS_DEP_TIME         0.001208    0.934421   0.638205 -0.048556      0.687537   \n",
            "DEP_TIME             0.010446    0.971443   0.661590 -0.044276      0.689139   \n",
            "DEP_DELAY            0.056181    0.130016   0.038373  0.009451      0.090476   \n",
            "TAXI_OUT             1.000000    0.037412   0.030907  0.022659      0.024294   \n",
            "WHEELS_OFF           0.037412    1.000000   0.682346 -0.041735      0.699077   \n",
            "WHEELS_ON            0.030907    0.682346   1.000000 -0.004176      0.856509   \n",
            "TAXI_IN              0.022659   -0.041735  -0.004176  1.000000     -0.006900   \n",
            "CRS_ARR_TIME         0.024294    0.699077   0.856509 -0.006900      1.000000   \n",
            "ARR_TIME             0.027960    0.653555   0.967060  0.002594      0.850742   \n",
            "ARR_DELAY            0.218194    0.126322   0.039935  0.100476      0.084306   \n",
            "CANCELLED                 NaN         NaN        NaN       NaN           NaN   \n",
            "CRS_ELAPSED_TIME     0.087844   -0.028597   0.015887  0.109071      0.020280   \n",
            "ACTUAL_ELAPSED_TIME  0.193979   -0.027028   0.018167  0.168284      0.019257   \n",
            "AIR_TIME             0.058348   -0.029462   0.014736  0.084987      0.017009   \n",
            "DISTANCE             0.042729   -0.027382   0.010374  0.073901      0.014033   \n",
            "\n",
            "                     ARR_TIME  ARR_DELAY  CANCELLED  CRS_ELAPSED_TIME  \\\n",
            "OP_CARRIER_FL_NUM    0.020243   0.019213        NaN         -0.315050   \n",
            "CRS_DEP_TIME         0.610429   0.095295        NaN         -0.018290   \n",
            "DEP_TIME             0.632954   0.130680        NaN         -0.021582   \n",
            "DEP_DELAY            0.030778   0.957282        NaN          0.013064   \n",
            "TAXI_OUT             0.027960   0.218194        NaN          0.087844   \n",
            "WHEELS_OFF           0.653555   0.126322        NaN         -0.028597   \n",
            "WHEELS_ON            0.967060   0.039935        NaN          0.015887   \n",
            "TAXI_IN              0.002594   0.100476        NaN          0.109071   \n",
            "CRS_ARR_TIME         0.850742   0.084306        NaN          0.020280   \n",
            "ARR_TIME             1.000000   0.032352        NaN          0.013077   \n",
            "ARR_DELAY            0.032352   1.000000        NaN         -0.021598   \n",
            "CANCELLED                 NaN        NaN        NaN               NaN   \n",
            "CRS_ELAPSED_TIME     0.013077  -0.021598        NaN          1.000000   \n",
            "ACTUAL_ELAPSED_TIME  0.015113   0.035706        NaN          0.982879   \n",
            "AIR_TIME             0.011431  -0.002190        NaN          0.989401   \n",
            "DISTANCE             0.006533  -0.019505        NaN          0.982776   \n",
            "\n",
            "                     ACTUAL_ELAPSED_TIME  AIR_TIME  DISTANCE  \n",
            "OP_CARRIER_FL_NUM              -0.309968 -0.326789 -0.340154  \n",
            "CRS_DEP_TIME                   -0.021296 -0.017947 -0.011330  \n",
            "DEP_TIME                       -0.023195 -0.021550 -0.016827  \n",
            "DEP_DELAY                       0.017081  0.008942  0.009142  \n",
            "TAXI_OUT                        0.193979  0.058348  0.042729  \n",
            "WHEELS_OFF                     -0.027028 -0.029462 -0.027382  \n",
            "WHEELS_ON                       0.018167  0.014736  0.010374  \n",
            "TAXI_IN                         0.168284  0.084987  0.073901  \n",
            "CRS_ARR_TIME                    0.019257  0.017009  0.014033  \n",
            "ARR_TIME                        0.015113  0.011431  0.006533  \n",
            "ARR_DELAY                       0.035706 -0.002190 -0.019505  \n",
            "CANCELLED                            NaN       NaN       NaN  \n",
            "CRS_ELAPSED_TIME                0.982879  0.989401  0.982776  \n",
            "ACTUAL_ELAPSED_TIME             1.000000  0.987202  0.969315  \n",
            "AIR_TIME                        0.987202  1.000000  0.984719  \n",
            "DISTANCE                        0.969315  0.984719  1.000000  \n"
          ]
        }
      ]
    },
    {
      "cell_type": "markdown",
      "source": [
        "##Step 4 - Feature Engineering with Automated Tools"
      ],
      "metadata": {
        "id": "r3L1lE1sMTyq"
      }
    },
    {
      "cell_type": "markdown",
      "source": [
        "I have selected two feature engineering automation tools, Featuretools and AutoFeat, both renowned for their efficiency and user-friendly interfaces. In the upcoming step, I will be utilizing each of these tools separately to enhance the feature engineering process for my analysis. These tools are expected to streamline and automate the creation of new features, contributing to a more effective and comprehensive exploration of the dataset."
      ],
      "metadata": {
        "id": "FFc7ZnmilTkC"
      }
    },
    {
      "cell_type": "markdown",
      "source": [
        "###Automated Tool 1 - Featuretools\n",
        "\n",
        "* Featuretools is an open-source Python library designed for automated feature engineering.\n",
        "* It provides a high-level abstraction to define and create features, making it relatively easy to use.\n",
        "* Featuretools excels in handling relational datasets and can automatically generate features based on temporal and categorical relationships."
      ],
      "metadata": {
        "id": "GOwpV5yi-ZrQ"
      }
    },
    {
      "cell_type": "markdown",
      "source": [
        "i. Installing the latest version of 'featuretools' library into the Python environment, which will be used for automated feature engineering."
      ],
      "metadata": {
        "id": "AIQ2EJmr-tWA"
      }
    },
    {
      "cell_type": "code",
      "source": [
        "!pip install -U featuretools\n"
      ],
      "metadata": {
        "colab": {
          "base_uri": "https://localhost:8080/"
        },
        "id": "8NnXp0KN-4lx",
        "outputId": "56b16eee-f48a-46f1-bb42-474695e9d5cc"
      },
      "execution_count": null,
      "outputs": [
        {
          "output_type": "stream",
          "name": "stdout",
          "text": [
            "Requirement already satisfied: featuretools in /usr/local/lib/python3.10/dist-packages (1.28.0)\n",
            "Requirement already satisfied: cloudpickle>=1.5.0 in /usr/local/lib/python3.10/dist-packages (from featuretools) (2.2.1)\n",
            "Requirement already satisfied: holidays<0.33,>=0.13 in /usr/local/lib/python3.10/dist-packages (from featuretools) (0.32)\n",
            "Requirement already satisfied: numpy>=1.21.0 in /usr/local/lib/python3.10/dist-packages (from featuretools) (1.23.5)\n",
            "Requirement already satisfied: packaging>=20.0 in /usr/local/lib/python3.10/dist-packages (from featuretools) (23.2)\n",
            "Requirement already satisfied: pandas>=1.5.0 in /usr/local/lib/python3.10/dist-packages (from featuretools) (1.5.3)\n",
            "Requirement already satisfied: psutil>=5.6.6 in /usr/local/lib/python3.10/dist-packages (from featuretools) (5.9.5)\n",
            "Requirement already satisfied: scipy>=1.10.0 in /usr/local/lib/python3.10/dist-packages (from featuretools) (1.11.3)\n",
            "Requirement already satisfied: tqdm>=4.32.0 in /usr/local/lib/python3.10/dist-packages (from featuretools) (4.66.1)\n",
            "Requirement already satisfied: woodwork>=0.23.0 in /usr/local/lib/python3.10/dist-packages (from featuretools) (0.26.0)\n",
            "Requirement already satisfied: python-dateutil in /usr/local/lib/python3.10/dist-packages (from holidays<0.33,>=0.13->featuretools) (2.8.2)\n",
            "Requirement already satisfied: pytz>=2020.1 in /usr/local/lib/python3.10/dist-packages (from pandas>=1.5.0->featuretools) (2023.3.post1)\n",
            "Requirement already satisfied: scikit-learn>=0.22 in /usr/local/lib/python3.10/dist-packages (from woodwork>=0.23.0->featuretools) (1.2.2)\n",
            "Requirement already satisfied: importlib-resources>=5.10.0 in /usr/local/lib/python3.10/dist-packages (from woodwork>=0.23.0->featuretools) (6.1.1)\n",
            "Requirement already satisfied: six>=1.5 in /usr/local/lib/python3.10/dist-packages (from python-dateutil->holidays<0.33,>=0.13->featuretools) (1.16.0)\n",
            "Requirement already satisfied: joblib>=1.1.1 in /usr/local/lib/python3.10/dist-packages (from scikit-learn>=0.22->woodwork>=0.23.0->featuretools) (1.3.2)\n",
            "Requirement already satisfied: threadpoolctl>=2.0.0 in /usr/local/lib/python3.10/dist-packages (from scikit-learn>=0.22->woodwork>=0.23.0->featuretools) (3.2.0)\n"
          ]
        }
      ]
    },
    {
      "cell_type": "markdown",
      "source": [
        "ii. Setting up the environment for using the featuretools library while avoiding the display of warning messages from pandas."
      ],
      "metadata": {
        "id": "_5cczFye-5Dw"
      }
    },
    {
      "cell_type": "code",
      "source": [
        "import featuretools as ft\n",
        "\n",
        "# ignore warnings from pandas\n",
        "import warnings\n",
        "warnings.filterwarnings('ignore')\n"
      ],
      "metadata": {
        "id": "_jedLwAz-59Q"
      },
      "execution_count": null,
      "outputs": []
    },
    {
      "cell_type": "markdown",
      "source": [
        "iii. Creating an empty EntitySet with the identifier 'flights', and we can then add tables (entities) to this EntitySet and define relationships between them for feature engineering purposes."
      ],
      "metadata": {
        "id": "vAdKEHrQefuJ"
      }
    },
    {
      "cell_type": "code",
      "source": [
        "es = ft.EntitySet(id = 'flights')"
      ],
      "metadata": {
        "id": "FVEpMZ1DegmX"
      },
      "execution_count": null,
      "outputs": []
    },
    {
      "cell_type": "markdown",
      "source": [
        "iv. Creating a new DataFrame (op_carrier) containing unique values from the \"OP_CARRIER\" column of the original DataFrame (df). The new DataFrame has a single column named \"op_carrier.\""
      ],
      "metadata": {
        "id": "odNS3c9By2uq"
      }
    },
    {
      "cell_type": "code",
      "source": [
        "op_carrier = pd.DataFrame(df.OP_CARRIER.unique(), columns = [\"op_carrier\"])"
      ],
      "metadata": {
        "id": "PPiF9nkzvIpt"
      },
      "execution_count": null,
      "outputs": []
    },
    {
      "cell_type": "markdown",
      "source": [
        "v. Creating an entity from the df dataframe. The 'op_carrier' column in the DataFrame is designated as the index or unique identifier."
      ],
      "metadata": {
        "id": "waxVsskezYCD"
      }
    },
    {
      "cell_type": "code",
      "source": [
        "# Create an entity from the dataframe.\n",
        "es = es.add_dataframe(        dataframe = df,\n",
        "                              dataframe_name = 'flights',\n",
        "                              index = 'op_carrier',\n",
        "                              )"
      ],
      "metadata": {
        "id": "nAdeMPyzfpP3"
      },
      "execution_count": null,
      "outputs": []
    },
    {
      "cell_type": "markdown",
      "source": [
        "vi. Adding another DataFrame named 'op_carrier' to the existing EntitySet (es) that we had already created above."
      ],
      "metadata": {
        "id": "-IvJG6zg0P66"
      }
    },
    {
      "cell_type": "code",
      "source": [
        "es = es.add_dataframe(\n",
        "                         dataframe = op_carrier,\n",
        "                         dataframe_name = \"op_carrier\"\n",
        ")"
      ],
      "metadata": {
        "id": "8BeqZriAvedO"
      },
      "execution_count": null,
      "outputs": []
    },
    {
      "cell_type": "markdown",
      "source": [
        "vii. Establishing a relationship between the \"op_carrier\" entity and the \"flights\" entity in the EntitySet. The relationship is based on the \"OP_CARRIER\" variable in the \"flights\" entity and the \"op_carrier\" entity."
      ],
      "metadata": {
        "id": "-AWkBPO10oMZ"
      }
    },
    {
      "cell_type": "code",
      "source": [
        "es.add_relationship(\"op_carrier\", \"op_carrier\", \"flights\", \"OP_CARRIER\")"
      ],
      "metadata": {
        "colab": {
          "base_uri": "https://localhost:8080/"
        },
        "id": "lRVzV7Ogvfut",
        "outputId": "fc559c47-0797-4d42-bfa6-1dd3d484ce46"
      },
      "execution_count": null,
      "outputs": [
        {
          "output_type": "execute_result",
          "data": {
            "text/plain": [
              "Entityset: flights\n",
              "  DataFrames:\n",
              "    flights [Rows: 7071817, Columns: 21]\n",
              "    op_carrier [Rows: 18, Columns: 1]\n",
              "  Relationships:\n",
              "    flights.OP_CARRIER -> op_carrier.op_carrier"
            ]
          },
          "metadata": {},
          "execution_count": 24
        }
      ]
    },
    {
      "cell_type": "markdown",
      "source": [
        "viii. Performing the \"Deep Feature Synthesis\" function from the \"featuretools\" library to achieve feature engineering on the entity set that we had created.  The generated features are stored in the features DataFrame, and their names are stored in the feature_names variable."
      ],
      "metadata": {
        "id": "Q3UZbYby11-o"
      }
    },
    {
      "cell_type": "code",
      "source": [
        "# Perform deep feature synthesis without specifying primitives\n",
        "features, feature_names = ft.dfs(entityset=es, target_dataframe_name='op_carrier',  max_depth = 1)"
      ],
      "metadata": {
        "id": "9z-kFrqXi6O2"
      },
      "execution_count": null,
      "outputs": []
    },
    {
      "cell_type": "markdown",
      "source": [
        "ix. Exploring the first few rows of the data to have a view on the new features that are created."
      ],
      "metadata": {
        "id": "F4yYXItR2lgQ"
      }
    },
    {
      "cell_type": "code",
      "source": [
        "features.head()"
      ],
      "metadata": {
        "colab": {
          "base_uri": "https://localhost:8080/",
          "height": 287
        },
        "id": "DqWYby0LXjmH",
        "outputId": "c8728928-cde7-4046-9939-237102d0ada0"
      },
      "execution_count": null,
      "outputs": [
        {
          "output_type": "execute_result",
          "data": {
            "text/plain": [
              "            COUNT(flights)  MAX(flights.ACTUAL_ELAPSED_TIME)  \\\n",
              "op_carrier                                                     \n",
              "UA                  614915                             757.0   \n",
              "AS                  242979                             537.0   \n",
              "9E                  231815                             416.0   \n",
              "B6                  297758                             541.0   \n",
              "EV                  196583                             310.0   \n",
              "\n",
              "            MAX(flights.AIR_TIME)  MAX(flights.ARR_DELAY)  \\\n",
              "op_carrier                                                  \n",
              "UA                          682.0                  1429.0   \n",
              "AS                          438.0                   842.0   \n",
              "9E                          252.0                  1685.0   \n",
              "B6                          447.0                  1473.0   \n",
              "EV                          234.0                  1649.0   \n",
              "\n",
              "            MAX(flights.ARR_TIME)  MAX(flights.CANCELLED)  \\\n",
              "op_carrier                                                  \n",
              "UA                         2359.0                     0.0   \n",
              "AS                         2400.0                     0.0   \n",
              "9E                         2400.0                     0.0   \n",
              "B6                         2400.0                     0.0   \n",
              "EV                         2400.0                     0.0   \n",
              "\n",
              "            MAX(flights.CRS_ARR_TIME)  MAX(flights.CRS_DEP_TIME)  \\\n",
              "op_carrier                                                         \n",
              "UA                             2359.0                     2359.0   \n",
              "AS                             2359.0                     2359.0   \n",
              "9E                             2359.0                     2355.0   \n",
              "B6                             2400.0                     2359.0   \n",
              "EV                             2359.0                     2355.0   \n",
              "\n",
              "            MAX(flights.CRS_ELAPSED_TIME)  MAX(flights.DEP_DELAY)  ...  \\\n",
              "op_carrier                                                         ...   \n",
              "UA                                  683.0                  1431.0  ...   \n",
              "AS                                  432.0                   839.0  ...   \n",
              "9E                                  278.0                  1659.0  ...   \n",
              "B6                                  421.0                  1489.0  ...   \n",
              "EV                                  284.0                  1632.0  ...   \n",
              "\n",
              "            SUM(flights.CRS_DEP_TIME)  SUM(flights.CRS_ELAPSED_TIME)  \\\n",
              "op_carrier                                                             \n",
              "UA                        812996278.0                    114441027.0   \n",
              "AS                        323542094.0                     48754669.0   \n",
              "9E                        305335408.0                     25427050.0   \n",
              "B6                        406298118.0                     52113475.0   \n",
              "EV                        259565832.0                     20727117.0   \n",
              "\n",
              "            SUM(flights.DEP_DELAY)  SUM(flights.DEP_TIME)  \\\n",
              "op_carrier                                                  \n",
              "UA                       6134104.0            813539302.0   \n",
              "AS                        589980.0            322266394.0   \n",
              "9E                       2492404.0            307104852.0   \n",
              "B6                       4693897.0            403350895.0   \n",
              "EV                       2408534.0            261383286.0   \n",
              "\n",
              "            SUM(flights.DISTANCE)  SUM(flights.OP_CARRIER_FL_NUM)  \\\n",
              "op_carrier                                                          \n",
              "UA                    728082534.0                     757180769.0   \n",
              "AS                    317737205.0                     166776237.0   \n",
              "9E                    110143213.0                     996772739.0   \n",
              "B6                    319151438.0                     297361257.0   \n",
              "EV                     92787311.0                     833419950.0   \n",
              "\n",
              "            SUM(flights.TAXI_IN)  SUM(flights.TAXI_OUT)  \\\n",
              "op_carrier                                                \n",
              "UA                     4760636.0             11974875.0   \n",
              "AS                     1921577.0              4525223.0   \n",
              "9E                     1698167.0              5108971.0   \n",
              "B6                     2149815.0              5381765.0   \n",
              "EV                     1556681.0              3808556.0   \n",
              "\n",
              "            SUM(flights.WHEELS_OFF)  SUM(flights.WHEELS_ON)  \n",
              "op_carrier                                                   \n",
              "UA                      826571377.0             894839417.0  \n",
              "AS                      326917897.0             356226417.0  \n",
              "9E                      315313503.0             339885545.0  \n",
              "B6                      406089660.0             417468421.0  \n",
              "EV                      267563482.0             288010836.0  \n",
              "\n",
              "[5 rows x 101 columns]"
            ],
            "text/html": [
              "\n",
              "  <div id=\"df-6a01b507-1628-44a2-aacb-7d11ad5f1134\" class=\"colab-df-container\">\n",
              "    <div>\n",
              "<style scoped>\n",
              "    .dataframe tbody tr th:only-of-type {\n",
              "        vertical-align: middle;\n",
              "    }\n",
              "\n",
              "    .dataframe tbody tr th {\n",
              "        vertical-align: top;\n",
              "    }\n",
              "\n",
              "    .dataframe thead th {\n",
              "        text-align: right;\n",
              "    }\n",
              "</style>\n",
              "<table border=\"1\" class=\"dataframe\">\n",
              "  <thead>\n",
              "    <tr style=\"text-align: right;\">\n",
              "      <th></th>\n",
              "      <th>COUNT(flights)</th>\n",
              "      <th>MAX(flights.ACTUAL_ELAPSED_TIME)</th>\n",
              "      <th>MAX(flights.AIR_TIME)</th>\n",
              "      <th>MAX(flights.ARR_DELAY)</th>\n",
              "      <th>MAX(flights.ARR_TIME)</th>\n",
              "      <th>MAX(flights.CANCELLED)</th>\n",
              "      <th>MAX(flights.CRS_ARR_TIME)</th>\n",
              "      <th>MAX(flights.CRS_DEP_TIME)</th>\n",
              "      <th>MAX(flights.CRS_ELAPSED_TIME)</th>\n",
              "      <th>MAX(flights.DEP_DELAY)</th>\n",
              "      <th>...</th>\n",
              "      <th>SUM(flights.CRS_DEP_TIME)</th>\n",
              "      <th>SUM(flights.CRS_ELAPSED_TIME)</th>\n",
              "      <th>SUM(flights.DEP_DELAY)</th>\n",
              "      <th>SUM(flights.DEP_TIME)</th>\n",
              "      <th>SUM(flights.DISTANCE)</th>\n",
              "      <th>SUM(flights.OP_CARRIER_FL_NUM)</th>\n",
              "      <th>SUM(flights.TAXI_IN)</th>\n",
              "      <th>SUM(flights.TAXI_OUT)</th>\n",
              "      <th>SUM(flights.WHEELS_OFF)</th>\n",
              "      <th>SUM(flights.WHEELS_ON)</th>\n",
              "    </tr>\n",
              "    <tr>\n",
              "      <th>op_carrier</th>\n",
              "      <th></th>\n",
              "      <th></th>\n",
              "      <th></th>\n",
              "      <th></th>\n",
              "      <th></th>\n",
              "      <th></th>\n",
              "      <th></th>\n",
              "      <th></th>\n",
              "      <th></th>\n",
              "      <th></th>\n",
              "      <th></th>\n",
              "      <th></th>\n",
              "      <th></th>\n",
              "      <th></th>\n",
              "      <th></th>\n",
              "      <th></th>\n",
              "      <th></th>\n",
              "      <th></th>\n",
              "      <th></th>\n",
              "      <th></th>\n",
              "      <th></th>\n",
              "    </tr>\n",
              "  </thead>\n",
              "  <tbody>\n",
              "    <tr>\n",
              "      <th>UA</th>\n",
              "      <td>614915</td>\n",
              "      <td>757.0</td>\n",
              "      <td>682.0</td>\n",
              "      <td>1429.0</td>\n",
              "      <td>2359.0</td>\n",
              "      <td>0.0</td>\n",
              "      <td>2359.0</td>\n",
              "      <td>2359.0</td>\n",
              "      <td>683.0</td>\n",
              "      <td>1431.0</td>\n",
              "      <td>...</td>\n",
              "      <td>812996278.0</td>\n",
              "      <td>114441027.0</td>\n",
              "      <td>6134104.0</td>\n",
              "      <td>813539302.0</td>\n",
              "      <td>728082534.0</td>\n",
              "      <td>757180769.0</td>\n",
              "      <td>4760636.0</td>\n",
              "      <td>11974875.0</td>\n",
              "      <td>826571377.0</td>\n",
              "      <td>894839417.0</td>\n",
              "    </tr>\n",
              "    <tr>\n",
              "      <th>AS</th>\n",
              "      <td>242979</td>\n",
              "      <td>537.0</td>\n",
              "      <td>438.0</td>\n",
              "      <td>842.0</td>\n",
              "      <td>2400.0</td>\n",
              "      <td>0.0</td>\n",
              "      <td>2359.0</td>\n",
              "      <td>2359.0</td>\n",
              "      <td>432.0</td>\n",
              "      <td>839.0</td>\n",
              "      <td>...</td>\n",
              "      <td>323542094.0</td>\n",
              "      <td>48754669.0</td>\n",
              "      <td>589980.0</td>\n",
              "      <td>322266394.0</td>\n",
              "      <td>317737205.0</td>\n",
              "      <td>166776237.0</td>\n",
              "      <td>1921577.0</td>\n",
              "      <td>4525223.0</td>\n",
              "      <td>326917897.0</td>\n",
              "      <td>356226417.0</td>\n",
              "    </tr>\n",
              "    <tr>\n",
              "      <th>9E</th>\n",
              "      <td>231815</td>\n",
              "      <td>416.0</td>\n",
              "      <td>252.0</td>\n",
              "      <td>1685.0</td>\n",
              "      <td>2400.0</td>\n",
              "      <td>0.0</td>\n",
              "      <td>2359.0</td>\n",
              "      <td>2355.0</td>\n",
              "      <td>278.0</td>\n",
              "      <td>1659.0</td>\n",
              "      <td>...</td>\n",
              "      <td>305335408.0</td>\n",
              "      <td>25427050.0</td>\n",
              "      <td>2492404.0</td>\n",
              "      <td>307104852.0</td>\n",
              "      <td>110143213.0</td>\n",
              "      <td>996772739.0</td>\n",
              "      <td>1698167.0</td>\n",
              "      <td>5108971.0</td>\n",
              "      <td>315313503.0</td>\n",
              "      <td>339885545.0</td>\n",
              "    </tr>\n",
              "    <tr>\n",
              "      <th>B6</th>\n",
              "      <td>297758</td>\n",
              "      <td>541.0</td>\n",
              "      <td>447.0</td>\n",
              "      <td>1473.0</td>\n",
              "      <td>2400.0</td>\n",
              "      <td>0.0</td>\n",
              "      <td>2400.0</td>\n",
              "      <td>2359.0</td>\n",
              "      <td>421.0</td>\n",
              "      <td>1489.0</td>\n",
              "      <td>...</td>\n",
              "      <td>406298118.0</td>\n",
              "      <td>52113475.0</td>\n",
              "      <td>4693897.0</td>\n",
              "      <td>403350895.0</td>\n",
              "      <td>319151438.0</td>\n",
              "      <td>297361257.0</td>\n",
              "      <td>2149815.0</td>\n",
              "      <td>5381765.0</td>\n",
              "      <td>406089660.0</td>\n",
              "      <td>417468421.0</td>\n",
              "    </tr>\n",
              "    <tr>\n",
              "      <th>EV</th>\n",
              "      <td>196583</td>\n",
              "      <td>310.0</td>\n",
              "      <td>234.0</td>\n",
              "      <td>1649.0</td>\n",
              "      <td>2400.0</td>\n",
              "      <td>0.0</td>\n",
              "      <td>2359.0</td>\n",
              "      <td>2355.0</td>\n",
              "      <td>284.0</td>\n",
              "      <td>1632.0</td>\n",
              "      <td>...</td>\n",
              "      <td>259565832.0</td>\n",
              "      <td>20727117.0</td>\n",
              "      <td>2408534.0</td>\n",
              "      <td>261383286.0</td>\n",
              "      <td>92787311.0</td>\n",
              "      <td>833419950.0</td>\n",
              "      <td>1556681.0</td>\n",
              "      <td>3808556.0</td>\n",
              "      <td>267563482.0</td>\n",
              "      <td>288010836.0</td>\n",
              "    </tr>\n",
              "  </tbody>\n",
              "</table>\n",
              "<p>5 rows × 101 columns</p>\n",
              "</div>\n",
              "    <div class=\"colab-df-buttons\">\n",
              "\n",
              "  <div class=\"colab-df-container\">\n",
              "    <button class=\"colab-df-convert\" onclick=\"convertToInteractive('df-6a01b507-1628-44a2-aacb-7d11ad5f1134')\"\n",
              "            title=\"Convert this dataframe to an interactive table.\"\n",
              "            style=\"display:none;\">\n",
              "\n",
              "  <svg xmlns=\"http://www.w3.org/2000/svg\" height=\"24px\" viewBox=\"0 -960 960 960\">\n",
              "    <path d=\"M120-120v-720h720v720H120Zm60-500h600v-160H180v160Zm220 220h160v-160H400v160Zm0 220h160v-160H400v160ZM180-400h160v-160H180v160Zm440 0h160v-160H620v160ZM180-180h160v-160H180v160Zm440 0h160v-160H620v160Z\"/>\n",
              "  </svg>\n",
              "    </button>\n",
              "\n",
              "  <style>\n",
              "    .colab-df-container {\n",
              "      display:flex;\n",
              "      gap: 12px;\n",
              "    }\n",
              "\n",
              "    .colab-df-convert {\n",
              "      background-color: #E8F0FE;\n",
              "      border: none;\n",
              "      border-radius: 50%;\n",
              "      cursor: pointer;\n",
              "      display: none;\n",
              "      fill: #1967D2;\n",
              "      height: 32px;\n",
              "      padding: 0 0 0 0;\n",
              "      width: 32px;\n",
              "    }\n",
              "\n",
              "    .colab-df-convert:hover {\n",
              "      background-color: #E2EBFA;\n",
              "      box-shadow: 0px 1px 2px rgba(60, 64, 67, 0.3), 0px 1px 3px 1px rgba(60, 64, 67, 0.15);\n",
              "      fill: #174EA6;\n",
              "    }\n",
              "\n",
              "    .colab-df-buttons div {\n",
              "      margin-bottom: 4px;\n",
              "    }\n",
              "\n",
              "    [theme=dark] .colab-df-convert {\n",
              "      background-color: #3B4455;\n",
              "      fill: #D2E3FC;\n",
              "    }\n",
              "\n",
              "    [theme=dark] .colab-df-convert:hover {\n",
              "      background-color: #434B5C;\n",
              "      box-shadow: 0px 1px 3px 1px rgba(0, 0, 0, 0.15);\n",
              "      filter: drop-shadow(0px 1px 2px rgba(0, 0, 0, 0.3));\n",
              "      fill: #FFFFFF;\n",
              "    }\n",
              "  </style>\n",
              "\n",
              "    <script>\n",
              "      const buttonEl =\n",
              "        document.querySelector('#df-6a01b507-1628-44a2-aacb-7d11ad5f1134 button.colab-df-convert');\n",
              "      buttonEl.style.display =\n",
              "        google.colab.kernel.accessAllowed ? 'block' : 'none';\n",
              "\n",
              "      async function convertToInteractive(key) {\n",
              "        const element = document.querySelector('#df-6a01b507-1628-44a2-aacb-7d11ad5f1134');\n",
              "        const dataTable =\n",
              "          await google.colab.kernel.invokeFunction('convertToInteractive',\n",
              "                                                    [key], {});\n",
              "        if (!dataTable) return;\n",
              "\n",
              "        const docLinkHtml = 'Like what you see? Visit the ' +\n",
              "          '<a target=\"_blank\" href=https://colab.research.google.com/notebooks/data_table.ipynb>data table notebook</a>'\n",
              "          + ' to learn more about interactive tables.';\n",
              "        element.innerHTML = '';\n",
              "        dataTable['output_type'] = 'display_data';\n",
              "        await google.colab.output.renderOutput(dataTable, element);\n",
              "        const docLink = document.createElement('div');\n",
              "        docLink.innerHTML = docLinkHtml;\n",
              "        element.appendChild(docLink);\n",
              "      }\n",
              "    </script>\n",
              "  </div>\n",
              "\n",
              "\n",
              "<div id=\"df-324e449a-1fb1-4671-a783-55cb8f7f555c\">\n",
              "  <button class=\"colab-df-quickchart\" onclick=\"quickchart('df-324e449a-1fb1-4671-a783-55cb8f7f555c')\"\n",
              "            title=\"Suggest charts\"\n",
              "            style=\"display:none;\">\n",
              "\n",
              "<svg xmlns=\"http://www.w3.org/2000/svg\" height=\"24px\"viewBox=\"0 0 24 24\"\n",
              "     width=\"24px\">\n",
              "    <g>\n",
              "        <path d=\"M19 3H5c-1.1 0-2 .9-2 2v14c0 1.1.9 2 2 2h14c1.1 0 2-.9 2-2V5c0-1.1-.9-2-2-2zM9 17H7v-7h2v7zm4 0h-2V7h2v10zm4 0h-2v-4h2v4z\"/>\n",
              "    </g>\n",
              "</svg>\n",
              "  </button>\n",
              "\n",
              "<style>\n",
              "  .colab-df-quickchart {\n",
              "      --bg-color: #E8F0FE;\n",
              "      --fill-color: #1967D2;\n",
              "      --hover-bg-color: #E2EBFA;\n",
              "      --hover-fill-color: #174EA6;\n",
              "      --disabled-fill-color: #AAA;\n",
              "      --disabled-bg-color: #DDD;\n",
              "  }\n",
              "\n",
              "  [theme=dark] .colab-df-quickchart {\n",
              "      --bg-color: #3B4455;\n",
              "      --fill-color: #D2E3FC;\n",
              "      --hover-bg-color: #434B5C;\n",
              "      --hover-fill-color: #FFFFFF;\n",
              "      --disabled-bg-color: #3B4455;\n",
              "      --disabled-fill-color: #666;\n",
              "  }\n",
              "\n",
              "  .colab-df-quickchart {\n",
              "    background-color: var(--bg-color);\n",
              "    border: none;\n",
              "    border-radius: 50%;\n",
              "    cursor: pointer;\n",
              "    display: none;\n",
              "    fill: var(--fill-color);\n",
              "    height: 32px;\n",
              "    padding: 0;\n",
              "    width: 32px;\n",
              "  }\n",
              "\n",
              "  .colab-df-quickchart:hover {\n",
              "    background-color: var(--hover-bg-color);\n",
              "    box-shadow: 0 1px 2px rgba(60, 64, 67, 0.3), 0 1px 3px 1px rgba(60, 64, 67, 0.15);\n",
              "    fill: var(--button-hover-fill-color);\n",
              "  }\n",
              "\n",
              "  .colab-df-quickchart-complete:disabled,\n",
              "  .colab-df-quickchart-complete:disabled:hover {\n",
              "    background-color: var(--disabled-bg-color);\n",
              "    fill: var(--disabled-fill-color);\n",
              "    box-shadow: none;\n",
              "  }\n",
              "\n",
              "  .colab-df-spinner {\n",
              "    border: 2px solid var(--fill-color);\n",
              "    border-color: transparent;\n",
              "    border-bottom-color: var(--fill-color);\n",
              "    animation:\n",
              "      spin 1s steps(1) infinite;\n",
              "  }\n",
              "\n",
              "  @keyframes spin {\n",
              "    0% {\n",
              "      border-color: transparent;\n",
              "      border-bottom-color: var(--fill-color);\n",
              "      border-left-color: var(--fill-color);\n",
              "    }\n",
              "    20% {\n",
              "      border-color: transparent;\n",
              "      border-left-color: var(--fill-color);\n",
              "      border-top-color: var(--fill-color);\n",
              "    }\n",
              "    30% {\n",
              "      border-color: transparent;\n",
              "      border-left-color: var(--fill-color);\n",
              "      border-top-color: var(--fill-color);\n",
              "      border-right-color: var(--fill-color);\n",
              "    }\n",
              "    40% {\n",
              "      border-color: transparent;\n",
              "      border-right-color: var(--fill-color);\n",
              "      border-top-color: var(--fill-color);\n",
              "    }\n",
              "    60% {\n",
              "      border-color: transparent;\n",
              "      border-right-color: var(--fill-color);\n",
              "    }\n",
              "    80% {\n",
              "      border-color: transparent;\n",
              "      border-right-color: var(--fill-color);\n",
              "      border-bottom-color: var(--fill-color);\n",
              "    }\n",
              "    90% {\n",
              "      border-color: transparent;\n",
              "      border-bottom-color: var(--fill-color);\n",
              "    }\n",
              "  }\n",
              "</style>\n",
              "\n",
              "  <script>\n",
              "    async function quickchart(key) {\n",
              "      const quickchartButtonEl =\n",
              "        document.querySelector('#' + key + ' button');\n",
              "      quickchartButtonEl.disabled = true;  // To prevent multiple clicks.\n",
              "      quickchartButtonEl.classList.add('colab-df-spinner');\n",
              "      try {\n",
              "        const charts = await google.colab.kernel.invokeFunction(\n",
              "            'suggestCharts', [key], {});\n",
              "      } catch (error) {\n",
              "        console.error('Error during call to suggestCharts:', error);\n",
              "      }\n",
              "      quickchartButtonEl.classList.remove('colab-df-spinner');\n",
              "      quickchartButtonEl.classList.add('colab-df-quickchart-complete');\n",
              "    }\n",
              "    (() => {\n",
              "      let quickchartButtonEl =\n",
              "        document.querySelector('#df-324e449a-1fb1-4671-a783-55cb8f7f555c button');\n",
              "      quickchartButtonEl.style.display =\n",
              "        google.colab.kernel.accessAllowed ? 'block' : 'none';\n",
              "    })();\n",
              "  </script>\n",
              "</div>\n",
              "    </div>\n",
              "  </div>\n"
            ]
          },
          "metadata": {},
          "execution_count": 26
        }
      ]
    },
    {
      "cell_type": "markdown",
      "source": [
        "x. Exploring the columns that had been created by the \"featuretools\"."
      ],
      "metadata": {
        "id": "yESkd0mY2wHZ"
      }
    },
    {
      "cell_type": "code",
      "source": [
        "features.columns"
      ],
      "metadata": {
        "colab": {
          "base_uri": "https://localhost:8080/"
        },
        "id": "oeBw601Ok9KB",
        "outputId": "6458c3cd-eb0a-4126-e19b-e7911a3675b5"
      },
      "execution_count": null,
      "outputs": [
        {
          "output_type": "execute_result",
          "data": {
            "text/plain": [
              "Index(['COUNT(flights)', 'MAX(flights.ACTUAL_ELAPSED_TIME)',\n",
              "       'MAX(flights.AIR_TIME)', 'MAX(flights.ARR_DELAY)',\n",
              "       'MAX(flights.ARR_TIME)', 'MAX(flights.CANCELLED)',\n",
              "       'MAX(flights.CRS_ARR_TIME)', 'MAX(flights.CRS_DEP_TIME)',\n",
              "       'MAX(flights.CRS_ELAPSED_TIME)', 'MAX(flights.DEP_DELAY)',\n",
              "       ...\n",
              "       'SUM(flights.CRS_DEP_TIME)', 'SUM(flights.CRS_ELAPSED_TIME)',\n",
              "       'SUM(flights.DEP_DELAY)', 'SUM(flights.DEP_TIME)',\n",
              "       'SUM(flights.DISTANCE)', 'SUM(flights.OP_CARRIER_FL_NUM)',\n",
              "       'SUM(flights.TAXI_IN)', 'SUM(flights.TAXI_OUT)',\n",
              "       'SUM(flights.WHEELS_OFF)', 'SUM(flights.WHEELS_ON)'],\n",
              "      dtype='object', length=101)"
            ]
          },
          "metadata": {},
          "execution_count": 27
        }
      ]
    },
    {
      "cell_type": "markdown",
      "source": [
        "### Automated Tool 2 - AutoFeat\n",
        "\n",
        "* AutoFeat is an automated feature engineering tool designed to streamline the process of creating new features from existing data.\n",
        "* It aims to enhance the performance of machine learning models by automatically generating relevant and informative features.\n",
        "* AutoFeat may explore mathematical operations, transformations, and interactions between variables to construct new features.\n",
        "\n"
      ],
      "metadata": {
        "id": "DKt2AM4ji7ds"
      }
    },
    {
      "cell_type": "markdown",
      "source": [
        "i. Installing the latest version of 'autofeat' library into the Python environment, which will be used for automated feature engineering."
      ],
      "metadata": {
        "id": "SLYX7UqNsUh-"
      }
    },
    {
      "cell_type": "code",
      "source": [
        "!pip install autofeat"
      ],
      "metadata": {
        "colab": {
          "base_uri": "https://localhost:8080/"
        },
        "id": "d5-ThB8fTlvL",
        "outputId": "abf234e3-69ae-4fb2-ebf7-759aef52fe03"
      },
      "execution_count": null,
      "outputs": [
        {
          "output_type": "stream",
          "name": "stdout",
          "text": [
            "Requirement already satisfied: autofeat in /usr/local/lib/python3.10/dist-packages (2.1.2)\n",
            "Requirement already satisfied: joblib<2.0.0,>=1.2.0 in /usr/local/lib/python3.10/dist-packages (from autofeat) (1.3.2)\n",
            "Requirement already satisfied: numba>=0.53.1 in /usr/local/lib/python3.10/dist-packages (from autofeat) (0.58.1)\n",
            "Requirement already satisfied: numpy<2.0.0,>=1.20.3 in /usr/local/lib/python3.10/dist-packages (from autofeat) (1.23.5)\n",
            "Requirement already satisfied: pandas<3.0.0,>=1.3.5 in /usr/local/lib/python3.10/dist-packages (from autofeat) (1.5.3)\n",
            "Requirement already satisfied: pint<1.0,>=0.17 in /usr/local/lib/python3.10/dist-packages (from autofeat) (0.22)\n",
            "Requirement already satisfied: scikit-learn<2.0.0,>=1.2.0 in /usr/local/lib/python3.10/dist-packages (from autofeat) (1.2.2)\n",
            "Requirement already satisfied: scipy<2.0.0,>=1.7.3 in /usr/local/lib/python3.10/dist-packages (from autofeat) (1.11.3)\n",
            "Requirement already satisfied: sympy<2.0.0,>=1.7.1 in /usr/local/lib/python3.10/dist-packages (from autofeat) (1.12)\n",
            "Requirement already satisfied: llvmlite<0.42,>=0.41.0dev0 in /usr/local/lib/python3.10/dist-packages (from numba>=0.53.1->autofeat) (0.41.1)\n",
            "Requirement already satisfied: python-dateutil>=2.8.1 in /usr/local/lib/python3.10/dist-packages (from pandas<3.0.0,>=1.3.5->autofeat) (2.8.2)\n",
            "Requirement already satisfied: pytz>=2020.1 in /usr/local/lib/python3.10/dist-packages (from pandas<3.0.0,>=1.3.5->autofeat) (2023.3.post1)\n",
            "Requirement already satisfied: typing-extensions in /usr/local/lib/python3.10/dist-packages (from pint<1.0,>=0.17->autofeat) (4.5.0)\n",
            "Requirement already satisfied: threadpoolctl>=2.0.0 in /usr/local/lib/python3.10/dist-packages (from scikit-learn<2.0.0,>=1.2.0->autofeat) (3.2.0)\n",
            "Requirement already satisfied: mpmath>=0.19 in /usr/local/lib/python3.10/dist-packages (from sympy<2.0.0,>=1.7.1->autofeat) (1.3.0)\n",
            "Requirement already satisfied: six>=1.5 in /usr/local/lib/python3.10/dist-packages (from python-dateutil>=2.8.1->pandas<3.0.0,>=1.3.5->autofeat) (1.16.0)\n"
          ]
        }
      ]
    },
    {
      "cell_type": "markdown",
      "source": [
        "ii. Importing AutoFeatRegressor class from the 'autofeat' module."
      ],
      "metadata": {
        "id": "R_DYXcR5skDG"
      }
    },
    {
      "cell_type": "code",
      "source": [
        "from autofeat import AutoFeatRegressor"
      ],
      "metadata": {
        "id": "Fs8wV07JVKoy"
      },
      "execution_count": null,
      "outputs": []
    },
    {
      "cell_type": "markdown",
      "source": [
        "iii. Providing a short setup for using the AutoFeatRegressor class from the AutoFeat library. It initializes an instance of the AutoFeatRegressor class and assigns it to the variable afreg.\n",
        "\n",
        "The variable target_variable is set to 'ARR_TIME', indicating that the regression task involves predicting the arrival time specified by the 'ARR_TIME' column."
      ],
      "metadata": {
        "id": "MUJD7ft1s3gu"
      }
    },
    {
      "cell_type": "code",
      "source": [
        "target_variable = 'ARR_TIME'\n",
        "afreg = AutoFeatRegressor()"
      ],
      "metadata": {
        "id": "N1JF5OI1dHv0"
      },
      "execution_count": null,
      "outputs": []
    },
    {
      "cell_type": "markdown",
      "source": [
        "iv. Importing neccessary library which is 'train_test_split' from sklearn.model_selection."
      ],
      "metadata": {
        "id": "UNQxOJw0tMqO"
      }
    },
    {
      "cell_type": "code",
      "source": [
        "from sklearn.model_selection import train_test_split\n"
      ],
      "metadata": {
        "id": "M9-EBUo_tXlR"
      },
      "execution_count": null,
      "outputs": []
    },
    {
      "cell_type": "markdown",
      "source": [
        "v. Setting up the list of selected columns ('DISTANCE' and 'ARR_DELAY') and specifies the target variable ('ARR_TIME') for the regression task."
      ],
      "metadata": {
        "id": "dFsNBpTdtY2e"
      }
    },
    {
      "cell_type": "code",
      "source": [
        "selected_columns = ['DISTANCE', 'ARR_DELAY']\n",
        "target_variable = 'ARR_TIME'"
      ],
      "metadata": {
        "id": "7FbaHfkXteaG"
      },
      "execution_count": null,
      "outputs": []
    },
    {
      "cell_type": "markdown",
      "source": [
        "vi. Creating a subset of the original DataFrame (df) containing only the selected columns and the target variable.\n",
        "\n",
        "The sample method is then used to randomly sample 10% of the data (frac=0.1)."
      ],
      "metadata": {
        "id": "SYkcRsHftjoe"
      }
    },
    {
      "cell_type": "code",
      "source": [
        "df_train = df[selected_columns + [target_variable]].sample(frac = 0.1)"
      ],
      "metadata": {
        "id": "AkRZvmaOtst1"
      },
      "execution_count": null,
      "outputs": []
    },
    {
      "cell_type": "markdown",
      "source": [
        "vii. Separating the features (X_train) and the target variable (y_train) from the sampled DataFrame."
      ],
      "metadata": {
        "id": "VDFQJfYBttzl"
      }
    },
    {
      "cell_type": "code",
      "source": [
        "X_train = df_train.drop(target_variable, axis=1)\n",
        "y_train = df_train[target_variable]"
      ],
      "metadata": {
        "id": "sFTcriDmtwov"
      },
      "execution_count": null,
      "outputs": []
    },
    {
      "cell_type": "markdown",
      "source": [
        "viii. Fits the AutoFeatRegressor (afreg) to the training features (X_train) and target variable (y_train) using the fit_transform method. This performs automated feature engineering on the features to potentially improve the model's predictive performance.\n",
        "\n",
        "The focus is on predicting the arrival time ('ARR_TIME') based on the selected features."
      ],
      "metadata": {
        "id": "0Hezl6I1tysn"
      }
    },
    {
      "cell_type": "code",
      "source": [
        "X_train_transformed = afreg.fit_transform(X_train, y_train)"
      ],
      "metadata": {
        "id": "NCG_F6uot_UF"
      },
      "execution_count": null,
      "outputs": []
    },
    {
      "cell_type": "markdown",
      "source": [
        "ix. Display the results after applying automated feature engineering to the original features"
      ],
      "metadata": {
        "id": "l4dm5Hv8uFKO"
      }
    },
    {
      "cell_type": "code",
      "source": [
        "X_train_transformed\n"
      ],
      "metadata": {
        "colab": {
          "base_uri": "https://localhost:8080/",
          "height": 423
        },
        "id": "6zGLDGp4rPSo",
        "outputId": "429a2a3f-5349-4f1b-9464-443e494d2d96"
      },
      "execution_count": null,
      "outputs": [
        {
          "output_type": "execute_result",
          "data": {
            "text/plain": [
              "        DISTANCE  ARR_DELAY  1/DISTANCE   DISTANCE**4  ARR_DELAY**5  \\\n",
              "0          362.0       -8.0    0.002762  1.717253e+10 -3.276800e+04   \n",
              "1          628.0      -14.0    0.001592  1.555387e+11 -5.378240e+05   \n",
              "2          438.0       -7.0    0.002283  3.680412e+10 -1.680700e+04   \n",
              "3         1430.0       -9.0    0.000699  4.181616e+12 -5.904900e+04   \n",
              "4          957.0      -19.0    0.001045  8.387794e+11 -2.476099e+06   \n",
              "...          ...        ...         ...           ...           ...   \n",
              "707177     493.0       -2.0    0.002028  5.907282e+10 -3.200000e+01   \n",
              "707178     440.0      -14.0    0.002273  3.748096e+10 -5.378240e+05   \n",
              "707179     209.0       -5.0    0.004785  1.908030e+09 -3.125000e+03   \n",
              "707180    1014.0       76.0    0.000986  1.057187e+12  2.535525e+09   \n",
              "707181     223.0      -14.0    0.004484  2.472973e+09 -5.378240e+05   \n",
              "\n",
              "        ARR_DELAY**2  ARR_DELAY**2*DISTANCE**3  ARR_DELAY**3/DISTANCE  \\\n",
              "0               64.0              3.036027e+09              -1.414365   \n",
              "1              196.0              4.854394e+10              -4.369427   \n",
              "2               49.0              4.117356e+09              -0.783105   \n",
              "3               81.0              2.368608e+11              -0.509790   \n",
              "4              361.0              3.164048e+11              -7.167189   \n",
              "...              ...                       ...                    ...   \n",
              "707177           4.0              4.792926e+08              -0.016227   \n",
              "707178         196.0              1.669606e+10              -6.236364   \n",
              "707179          25.0              2.282332e+08              -0.598086   \n",
              "707180        5776.0              6.022004e+12             432.915187   \n",
              "707181         196.0              2.173555e+09             -12.304933   \n",
              "\n",
              "        DISTANCE*Abs(ARR_DELAY)  ARR_DELAY/DISTANCE  \n",
              "0                        2896.0           -0.022099  \n",
              "1                        8792.0           -0.022293  \n",
              "2                        3066.0           -0.015982  \n",
              "3                       12870.0           -0.006294  \n",
              "4                       18183.0           -0.019854  \n",
              "...                         ...                 ...  \n",
              "707177                    986.0           -0.004057  \n",
              "707178                   6160.0           -0.031818  \n",
              "707179                   1045.0           -0.023923  \n",
              "707180                  77064.0            0.074951  \n",
              "707181                   3122.0           -0.062780  \n",
              "\n",
              "[707182 rows x 10 columns]"
            ],
            "text/html": [
              "\n",
              "  <div id=\"df-a4b39c7f-671d-4c65-9c5e-fdb0366cfa7a\" class=\"colab-df-container\">\n",
              "    <div>\n",
              "<style scoped>\n",
              "    .dataframe tbody tr th:only-of-type {\n",
              "        vertical-align: middle;\n",
              "    }\n",
              "\n",
              "    .dataframe tbody tr th {\n",
              "        vertical-align: top;\n",
              "    }\n",
              "\n",
              "    .dataframe thead th {\n",
              "        text-align: right;\n",
              "    }\n",
              "</style>\n",
              "<table border=\"1\" class=\"dataframe\">\n",
              "  <thead>\n",
              "    <tr style=\"text-align: right;\">\n",
              "      <th></th>\n",
              "      <th>DISTANCE</th>\n",
              "      <th>ARR_DELAY</th>\n",
              "      <th>1/DISTANCE</th>\n",
              "      <th>DISTANCE**4</th>\n",
              "      <th>ARR_DELAY**5</th>\n",
              "      <th>ARR_DELAY**2</th>\n",
              "      <th>ARR_DELAY**2*DISTANCE**3</th>\n",
              "      <th>ARR_DELAY**3/DISTANCE</th>\n",
              "      <th>DISTANCE*Abs(ARR_DELAY)</th>\n",
              "      <th>ARR_DELAY/DISTANCE</th>\n",
              "    </tr>\n",
              "  </thead>\n",
              "  <tbody>\n",
              "    <tr>\n",
              "      <th>0</th>\n",
              "      <td>362.0</td>\n",
              "      <td>-8.0</td>\n",
              "      <td>0.002762</td>\n",
              "      <td>1.717253e+10</td>\n",
              "      <td>-3.276800e+04</td>\n",
              "      <td>64.0</td>\n",
              "      <td>3.036027e+09</td>\n",
              "      <td>-1.414365</td>\n",
              "      <td>2896.0</td>\n",
              "      <td>-0.022099</td>\n",
              "    </tr>\n",
              "    <tr>\n",
              "      <th>1</th>\n",
              "      <td>628.0</td>\n",
              "      <td>-14.0</td>\n",
              "      <td>0.001592</td>\n",
              "      <td>1.555387e+11</td>\n",
              "      <td>-5.378240e+05</td>\n",
              "      <td>196.0</td>\n",
              "      <td>4.854394e+10</td>\n",
              "      <td>-4.369427</td>\n",
              "      <td>8792.0</td>\n",
              "      <td>-0.022293</td>\n",
              "    </tr>\n",
              "    <tr>\n",
              "      <th>2</th>\n",
              "      <td>438.0</td>\n",
              "      <td>-7.0</td>\n",
              "      <td>0.002283</td>\n",
              "      <td>3.680412e+10</td>\n",
              "      <td>-1.680700e+04</td>\n",
              "      <td>49.0</td>\n",
              "      <td>4.117356e+09</td>\n",
              "      <td>-0.783105</td>\n",
              "      <td>3066.0</td>\n",
              "      <td>-0.015982</td>\n",
              "    </tr>\n",
              "    <tr>\n",
              "      <th>3</th>\n",
              "      <td>1430.0</td>\n",
              "      <td>-9.0</td>\n",
              "      <td>0.000699</td>\n",
              "      <td>4.181616e+12</td>\n",
              "      <td>-5.904900e+04</td>\n",
              "      <td>81.0</td>\n",
              "      <td>2.368608e+11</td>\n",
              "      <td>-0.509790</td>\n",
              "      <td>12870.0</td>\n",
              "      <td>-0.006294</td>\n",
              "    </tr>\n",
              "    <tr>\n",
              "      <th>4</th>\n",
              "      <td>957.0</td>\n",
              "      <td>-19.0</td>\n",
              "      <td>0.001045</td>\n",
              "      <td>8.387794e+11</td>\n",
              "      <td>-2.476099e+06</td>\n",
              "      <td>361.0</td>\n",
              "      <td>3.164048e+11</td>\n",
              "      <td>-7.167189</td>\n",
              "      <td>18183.0</td>\n",
              "      <td>-0.019854</td>\n",
              "    </tr>\n",
              "    <tr>\n",
              "      <th>...</th>\n",
              "      <td>...</td>\n",
              "      <td>...</td>\n",
              "      <td>...</td>\n",
              "      <td>...</td>\n",
              "      <td>...</td>\n",
              "      <td>...</td>\n",
              "      <td>...</td>\n",
              "      <td>...</td>\n",
              "      <td>...</td>\n",
              "      <td>...</td>\n",
              "    </tr>\n",
              "    <tr>\n",
              "      <th>707177</th>\n",
              "      <td>493.0</td>\n",
              "      <td>-2.0</td>\n",
              "      <td>0.002028</td>\n",
              "      <td>5.907282e+10</td>\n",
              "      <td>-3.200000e+01</td>\n",
              "      <td>4.0</td>\n",
              "      <td>4.792926e+08</td>\n",
              "      <td>-0.016227</td>\n",
              "      <td>986.0</td>\n",
              "      <td>-0.004057</td>\n",
              "    </tr>\n",
              "    <tr>\n",
              "      <th>707178</th>\n",
              "      <td>440.0</td>\n",
              "      <td>-14.0</td>\n",
              "      <td>0.002273</td>\n",
              "      <td>3.748096e+10</td>\n",
              "      <td>-5.378240e+05</td>\n",
              "      <td>196.0</td>\n",
              "      <td>1.669606e+10</td>\n",
              "      <td>-6.236364</td>\n",
              "      <td>6160.0</td>\n",
              "      <td>-0.031818</td>\n",
              "    </tr>\n",
              "    <tr>\n",
              "      <th>707179</th>\n",
              "      <td>209.0</td>\n",
              "      <td>-5.0</td>\n",
              "      <td>0.004785</td>\n",
              "      <td>1.908030e+09</td>\n",
              "      <td>-3.125000e+03</td>\n",
              "      <td>25.0</td>\n",
              "      <td>2.282332e+08</td>\n",
              "      <td>-0.598086</td>\n",
              "      <td>1045.0</td>\n",
              "      <td>-0.023923</td>\n",
              "    </tr>\n",
              "    <tr>\n",
              "      <th>707180</th>\n",
              "      <td>1014.0</td>\n",
              "      <td>76.0</td>\n",
              "      <td>0.000986</td>\n",
              "      <td>1.057187e+12</td>\n",
              "      <td>2.535525e+09</td>\n",
              "      <td>5776.0</td>\n",
              "      <td>6.022004e+12</td>\n",
              "      <td>432.915187</td>\n",
              "      <td>77064.0</td>\n",
              "      <td>0.074951</td>\n",
              "    </tr>\n",
              "    <tr>\n",
              "      <th>707181</th>\n",
              "      <td>223.0</td>\n",
              "      <td>-14.0</td>\n",
              "      <td>0.004484</td>\n",
              "      <td>2.472973e+09</td>\n",
              "      <td>-5.378240e+05</td>\n",
              "      <td>196.0</td>\n",
              "      <td>2.173555e+09</td>\n",
              "      <td>-12.304933</td>\n",
              "      <td>3122.0</td>\n",
              "      <td>-0.062780</td>\n",
              "    </tr>\n",
              "  </tbody>\n",
              "</table>\n",
              "<p>707182 rows × 10 columns</p>\n",
              "</div>\n",
              "    <div class=\"colab-df-buttons\">\n",
              "\n",
              "  <div class=\"colab-df-container\">\n",
              "    <button class=\"colab-df-convert\" onclick=\"convertToInteractive('df-a4b39c7f-671d-4c65-9c5e-fdb0366cfa7a')\"\n",
              "            title=\"Convert this dataframe to an interactive table.\"\n",
              "            style=\"display:none;\">\n",
              "\n",
              "  <svg xmlns=\"http://www.w3.org/2000/svg\" height=\"24px\" viewBox=\"0 -960 960 960\">\n",
              "    <path d=\"M120-120v-720h720v720H120Zm60-500h600v-160H180v160Zm220 220h160v-160H400v160Zm0 220h160v-160H400v160ZM180-400h160v-160H180v160Zm440 0h160v-160H620v160ZM180-180h160v-160H180v160Zm440 0h160v-160H620v160Z\"/>\n",
              "  </svg>\n",
              "    </button>\n",
              "\n",
              "  <style>\n",
              "    .colab-df-container {\n",
              "      display:flex;\n",
              "      gap: 12px;\n",
              "    }\n",
              "\n",
              "    .colab-df-convert {\n",
              "      background-color: #E8F0FE;\n",
              "      border: none;\n",
              "      border-radius: 50%;\n",
              "      cursor: pointer;\n",
              "      display: none;\n",
              "      fill: #1967D2;\n",
              "      height: 32px;\n",
              "      padding: 0 0 0 0;\n",
              "      width: 32px;\n",
              "    }\n",
              "\n",
              "    .colab-df-convert:hover {\n",
              "      background-color: #E2EBFA;\n",
              "      box-shadow: 0px 1px 2px rgba(60, 64, 67, 0.3), 0px 1px 3px 1px rgba(60, 64, 67, 0.15);\n",
              "      fill: #174EA6;\n",
              "    }\n",
              "\n",
              "    .colab-df-buttons div {\n",
              "      margin-bottom: 4px;\n",
              "    }\n",
              "\n",
              "    [theme=dark] .colab-df-convert {\n",
              "      background-color: #3B4455;\n",
              "      fill: #D2E3FC;\n",
              "    }\n",
              "\n",
              "    [theme=dark] .colab-df-convert:hover {\n",
              "      background-color: #434B5C;\n",
              "      box-shadow: 0px 1px 3px 1px rgba(0, 0, 0, 0.15);\n",
              "      filter: drop-shadow(0px 1px 2px rgba(0, 0, 0, 0.3));\n",
              "      fill: #FFFFFF;\n",
              "    }\n",
              "  </style>\n",
              "\n",
              "    <script>\n",
              "      const buttonEl =\n",
              "        document.querySelector('#df-a4b39c7f-671d-4c65-9c5e-fdb0366cfa7a button.colab-df-convert');\n",
              "      buttonEl.style.display =\n",
              "        google.colab.kernel.accessAllowed ? 'block' : 'none';\n",
              "\n",
              "      async function convertToInteractive(key) {\n",
              "        const element = document.querySelector('#df-a4b39c7f-671d-4c65-9c5e-fdb0366cfa7a');\n",
              "        const dataTable =\n",
              "          await google.colab.kernel.invokeFunction('convertToInteractive',\n",
              "                                                    [key], {});\n",
              "        if (!dataTable) return;\n",
              "\n",
              "        const docLinkHtml = 'Like what you see? Visit the ' +\n",
              "          '<a target=\"_blank\" href=https://colab.research.google.com/notebooks/data_table.ipynb>data table notebook</a>'\n",
              "          + ' to learn more about interactive tables.';\n",
              "        element.innerHTML = '';\n",
              "        dataTable['output_type'] = 'display_data';\n",
              "        await google.colab.output.renderOutput(dataTable, element);\n",
              "        const docLink = document.createElement('div');\n",
              "        docLink.innerHTML = docLinkHtml;\n",
              "        element.appendChild(docLink);\n",
              "      }\n",
              "    </script>\n",
              "  </div>\n",
              "\n",
              "\n",
              "<div id=\"df-e44afde6-9c35-46e0-ae24-f88b0506b791\">\n",
              "  <button class=\"colab-df-quickchart\" onclick=\"quickchart('df-e44afde6-9c35-46e0-ae24-f88b0506b791')\"\n",
              "            title=\"Suggest charts\"\n",
              "            style=\"display:none;\">\n",
              "\n",
              "<svg xmlns=\"http://www.w3.org/2000/svg\" height=\"24px\"viewBox=\"0 0 24 24\"\n",
              "     width=\"24px\">\n",
              "    <g>\n",
              "        <path d=\"M19 3H5c-1.1 0-2 .9-2 2v14c0 1.1.9 2 2 2h14c1.1 0 2-.9 2-2V5c0-1.1-.9-2-2-2zM9 17H7v-7h2v7zm4 0h-2V7h2v10zm4 0h-2v-4h2v4z\"/>\n",
              "    </g>\n",
              "</svg>\n",
              "  </button>\n",
              "\n",
              "<style>\n",
              "  .colab-df-quickchart {\n",
              "      --bg-color: #E8F0FE;\n",
              "      --fill-color: #1967D2;\n",
              "      --hover-bg-color: #E2EBFA;\n",
              "      --hover-fill-color: #174EA6;\n",
              "      --disabled-fill-color: #AAA;\n",
              "      --disabled-bg-color: #DDD;\n",
              "  }\n",
              "\n",
              "  [theme=dark] .colab-df-quickchart {\n",
              "      --bg-color: #3B4455;\n",
              "      --fill-color: #D2E3FC;\n",
              "      --hover-bg-color: #434B5C;\n",
              "      --hover-fill-color: #FFFFFF;\n",
              "      --disabled-bg-color: #3B4455;\n",
              "      --disabled-fill-color: #666;\n",
              "  }\n",
              "\n",
              "  .colab-df-quickchart {\n",
              "    background-color: var(--bg-color);\n",
              "    border: none;\n",
              "    border-radius: 50%;\n",
              "    cursor: pointer;\n",
              "    display: none;\n",
              "    fill: var(--fill-color);\n",
              "    height: 32px;\n",
              "    padding: 0;\n",
              "    width: 32px;\n",
              "  }\n",
              "\n",
              "  .colab-df-quickchart:hover {\n",
              "    background-color: var(--hover-bg-color);\n",
              "    box-shadow: 0 1px 2px rgba(60, 64, 67, 0.3), 0 1px 3px 1px rgba(60, 64, 67, 0.15);\n",
              "    fill: var(--button-hover-fill-color);\n",
              "  }\n",
              "\n",
              "  .colab-df-quickchart-complete:disabled,\n",
              "  .colab-df-quickchart-complete:disabled:hover {\n",
              "    background-color: var(--disabled-bg-color);\n",
              "    fill: var(--disabled-fill-color);\n",
              "    box-shadow: none;\n",
              "  }\n",
              "\n",
              "  .colab-df-spinner {\n",
              "    border: 2px solid var(--fill-color);\n",
              "    border-color: transparent;\n",
              "    border-bottom-color: var(--fill-color);\n",
              "    animation:\n",
              "      spin 1s steps(1) infinite;\n",
              "  }\n",
              "\n",
              "  @keyframes spin {\n",
              "    0% {\n",
              "      border-color: transparent;\n",
              "      border-bottom-color: var(--fill-color);\n",
              "      border-left-color: var(--fill-color);\n",
              "    }\n",
              "    20% {\n",
              "      border-color: transparent;\n",
              "      border-left-color: var(--fill-color);\n",
              "      border-top-color: var(--fill-color);\n",
              "    }\n",
              "    30% {\n",
              "      border-color: transparent;\n",
              "      border-left-color: var(--fill-color);\n",
              "      border-top-color: var(--fill-color);\n",
              "      border-right-color: var(--fill-color);\n",
              "    }\n",
              "    40% {\n",
              "      border-color: transparent;\n",
              "      border-right-color: var(--fill-color);\n",
              "      border-top-color: var(--fill-color);\n",
              "    }\n",
              "    60% {\n",
              "      border-color: transparent;\n",
              "      border-right-color: var(--fill-color);\n",
              "    }\n",
              "    80% {\n",
              "      border-color: transparent;\n",
              "      border-right-color: var(--fill-color);\n",
              "      border-bottom-color: var(--fill-color);\n",
              "    }\n",
              "    90% {\n",
              "      border-color: transparent;\n",
              "      border-bottom-color: var(--fill-color);\n",
              "    }\n",
              "  }\n",
              "</style>\n",
              "\n",
              "  <script>\n",
              "    async function quickchart(key) {\n",
              "      const quickchartButtonEl =\n",
              "        document.querySelector('#' + key + ' button');\n",
              "      quickchartButtonEl.disabled = true;  // To prevent multiple clicks.\n",
              "      quickchartButtonEl.classList.add('colab-df-spinner');\n",
              "      try {\n",
              "        const charts = await google.colab.kernel.invokeFunction(\n",
              "            'suggestCharts', [key], {});\n",
              "      } catch (error) {\n",
              "        console.error('Error during call to suggestCharts:', error);\n",
              "      }\n",
              "      quickchartButtonEl.classList.remove('colab-df-spinner');\n",
              "      quickchartButtonEl.classList.add('colab-df-quickchart-complete');\n",
              "    }\n",
              "    (() => {\n",
              "      let quickchartButtonEl =\n",
              "        document.querySelector('#df-e44afde6-9c35-46e0-ae24-f88b0506b791 button');\n",
              "      quickchartButtonEl.style.display =\n",
              "        google.colab.kernel.accessAllowed ? 'block' : 'none';\n",
              "    })();\n",
              "  </script>\n",
              "</div>\n",
              "    </div>\n",
              "  </div>\n"
            ]
          },
          "metadata": {},
          "execution_count": 41
        }
      ]
    },
    {
      "cell_type": "markdown",
      "source": [
        "##Step 5 - Feature Selection"
      ],
      "metadata": {
        "id": "OhMTKPW-MUP6"
      }
    },
    {
      "cell_type": "markdown",
      "source": [
        "To identify the crucial features generated by Automated Feature Engineering Tools, specifically from Featuretools and AutoFeat, we will leverage domain knowledge for the purpose of feature selection."
      ],
      "metadata": {
        "id": "QiBAF9Mm9MWq"
      }
    },
    {
      "cell_type": "markdown",
      "source": [
        "\n",
        "Before we identifying the specific features, let's start by enumerating the columns created by the tools for Automated Feature Engineering."
      ],
      "metadata": {
        "id": "bPH1tglu9_eD"
      }
    },
    {
      "cell_type": "code",
      "source": [
        "features.columns"
      ],
      "metadata": {
        "colab": {
          "base_uri": "https://localhost:8080/"
        },
        "id": "-uyyR7Lj-HF7",
        "outputId": "c9f9b53d-0012-4b5a-a67a-3a7263c82e85"
      },
      "execution_count": null,
      "outputs": [
        {
          "output_type": "execute_result",
          "data": {
            "text/plain": [
              "Index(['COUNT(flights)', 'MAX(flights.ACTUAL_ELAPSED_TIME)',\n",
              "       'MAX(flights.AIR_TIME)', 'MAX(flights.ARR_DELAY)',\n",
              "       'MAX(flights.ARR_TIME)', 'MAX(flights.CANCELLED)',\n",
              "       'MAX(flights.CRS_ARR_TIME)', 'MAX(flights.CRS_DEP_TIME)',\n",
              "       'MAX(flights.CRS_ELAPSED_TIME)', 'MAX(flights.DEP_DELAY)',\n",
              "       ...\n",
              "       'SUM(flights.CRS_DEP_TIME)', 'SUM(flights.CRS_ELAPSED_TIME)',\n",
              "       'SUM(flights.DEP_DELAY)', 'SUM(flights.DEP_TIME)',\n",
              "       'SUM(flights.DISTANCE)', 'SUM(flights.OP_CARRIER_FL_NUM)',\n",
              "       'SUM(flights.TAXI_IN)', 'SUM(flights.TAXI_OUT)',\n",
              "       'SUM(flights.WHEELS_OFF)', 'SUM(flights.WHEELS_ON)'],\n",
              "      dtype='object', length=101)"
            ]
          },
          "metadata": {},
          "execution_count": 43
        }
      ]
    },
    {
      "cell_type": "code",
      "source": [
        "X_train_transformed.columns"
      ],
      "metadata": {
        "colab": {
          "base_uri": "https://localhost:8080/"
        },
        "id": "gS9eoVmZ-KHx",
        "outputId": "a20861c4-a877-44ee-bba2-e0a1c92d78fe"
      },
      "execution_count": null,
      "outputs": [
        {
          "output_type": "execute_result",
          "data": {
            "text/plain": [
              "Index(['DISTANCE', 'ARR_DELAY', '1/DISTANCE', 'DISTANCE**4', 'ARR_DELAY**5',\n",
              "       'ARR_DELAY**2', 'ARR_DELAY**2*DISTANCE**3', 'ARR_DELAY**3/DISTANCE',\n",
              "       'DISTANCE*Abs(ARR_DELAY)', 'ARR_DELAY/DISTANCE'],\n",
              "      dtype='object')"
            ]
          },
          "metadata": {},
          "execution_count": 44
        }
      ]
    },
    {
      "cell_type": "markdown",
      "source": [
        "### Upon examining the features analyzed by Featuretools, we have identified five crucial features that contribute significantly to our understanding and analysis of the dataset.\n",
        "\n",
        "* COUNT(flights) feature plays a pivotal role in revealing the volume of flights attributed to each carrier helping us to understand the distribution of flights across various carriers.\n",
        "\n",
        "* (MAX(flights.DEP_DELAY)) and (MAX(flights.ARR_DELAY)) features is essential for identifying which type of airline carrier is most prone to flight delays.\n",
        "\n",
        "* SUM(flights.DISTANCE) feature is pivotal for assessing the extent of travel for each carrier. It provides a cumulative measure of the distance covered by flights operated by different carriers.\n",
        "\n",
        "* MEAN(flights.AIR_TIME) feature is evaluating the efficiency of air travel for each carrier. This metric indicates the average time spent in the air for flights operated by different carriers."
      ],
      "metadata": {
        "id": "tuCI53e4USkh"
      }
    },
    {
      "cell_type": "code",
      "source": [
        "# Specifying the features that we want to display\n",
        "selected_columns = ['COUNT(flights)', 'MAX(flights.DEP_DELAY)', 'MAX(flights.ARR_DELAY)', 'SUM(flights.DISTANCE)', 'MEAN(flights.AIR_TIME)']\n",
        "\n",
        "# Creating a new dataframe with only the desired columns\n",
        "selected_columns_df = features[selected_columns]\n",
        "\n",
        "# Displaying the new dataframe\n",
        "print(selected_columns_df)"
      ],
      "metadata": {
        "colab": {
          "base_uri": "https://localhost:8080/"
        },
        "id": "BRXKQTL-LQMz",
        "outputId": "e428c256-feb9-45a2-b038-f40bf1768294"
      },
      "execution_count": null,
      "outputs": [
        {
          "output_type": "stream",
          "name": "stdout",
          "text": [
            "            COUNT(flights)  MAX(flights.DEP_DELAY)  MAX(flights.ARR_DELAY)  \\\n",
            "op_carrier                                                                   \n",
            "UA                  614915                  1431.0                  1429.0   \n",
            "AS                  242979                   839.0                   842.0   \n",
            "9E                  231815                  1659.0                  1685.0   \n",
            "B6                  297758                  1489.0                  1473.0   \n",
            "EV                  196583                  1632.0                  1649.0   \n",
            "F9                  117523                  1254.0                  1253.0   \n",
            "G4                   95192                  1462.0                  1505.0   \n",
            "HA                   83375                  2482.0                  2475.0   \n",
            "MQ                  284497                  1291.0                  1301.0   \n",
            "NK                  174129                  1527.0                  1527.0   \n",
            "OH                  265784                  1108.0                  1105.0   \n",
            "OO                  760796                  2710.0                  2692.0   \n",
            "VX                   17153                   520.0                   504.0   \n",
            "WN                 1331609                   713.0                   698.0   \n",
            "YV                  209094                  1789.0                  1773.0   \n",
            "YX                  305251                  1293.0                  1346.0   \n",
            "AA                  899527                  2109.0                  2153.0   \n",
            "DL                  943837                  1207.0                  1255.0   \n",
            "\n",
            "            SUM(flights.DISTANCE)  MEAN(flights.AIR_TIME)  \n",
            "op_carrier                                                 \n",
            "UA                    728082534.0              154.682159  \n",
            "AS                    317737205.0              171.191584  \n",
            "9E                    110143213.0               74.229027  \n",
            "B6                    319151438.0              145.393645  \n",
            "EV                     92787311.0               74.693203  \n",
            "F9                    121559540.0              137.795887  \n",
            "G4                     84158332.0              118.395243  \n",
            "HA                     56377249.0               90.610051  \n",
            "MQ                    123271752.0               69.283103  \n",
            "NK                    179348996.0              137.670302  \n",
            "OH                    102108055.0               64.562829  \n",
            "OO                    365777948.0               74.798637  \n",
            "VX                     25130861.0              191.061039  \n",
            "WN                    998441965.0              103.936725  \n",
            "YV                    115638276.0               82.588377  \n",
            "YX                    181827856.0               90.734654  \n",
            "AA                    917133773.0              137.826856  \n",
            "DL                    837301850.0              120.250492  \n"
          ]
        }
      ]
    },
    {
      "cell_type": "markdown",
      "source": [
        "###After scrutinizing the features processed by AutoFeat, we have discovered five essential features that play a significant role in enhancing our comprehension and analysis of the dataset.\n",
        "\n",
        "* The 'DISTANCE' feature allows us to understand the absolute travel span of flights, providing a quantitative measure of the distance covered for each flight.\n",
        "\n",
        "* '1/DISTANCE' represents the reciprocal of the distance, offering insights into flight density or concentration concerning travel distance. A higher value in this column may indicate shorter average travel distances.\n",
        "\n",
        "* 'DISTANCE*Abs(ARR_DELAY)' integrates distance and the absolute value of arrival delay, providing a metric that emphasizes the impact of delays relative to the travel distance. This can help identify flights where delays have a proportionally higher impact.\n",
        "\n",
        "* 'ARR_DELAY/DISTANCE' represents the ratio of arrival delay to distance. This derived feature can provide insights into the efficiency of flights in terms of time delays relative to the distance traveled."
      ],
      "metadata": {
        "id": "I1nkQXkDTM65"
      }
    },
    {
      "cell_type": "code",
      "source": [
        "# Specifying the features that we want to display\n",
        "selected_columns = ['DISTANCE', '1/DISTANCE', 'DISTANCE*Abs(ARR_DELAY)', 'ARR_DELAY/DISTANCE']\n",
        "\n",
        "# Creating a new dataframe with only the desired columns\n",
        "selected_columns2_df = X_train_transformed[selected_columns]\n",
        "\n",
        "# Displaying the new dataframe\n",
        "print(selected_columns2_df)"
      ],
      "metadata": {
        "colab": {
          "base_uri": "https://localhost:8080/"
        },
        "id": "M-xXqT4PR4wU",
        "outputId": "b4b6ff34-1599-4c8b-ed07-f91b203564fb"
      },
      "execution_count": null,
      "outputs": [
        {
          "output_type": "stream",
          "name": "stdout",
          "text": [
            "        DISTANCE  1/DISTANCE  DISTANCE*Abs(ARR_DELAY)  ARR_DELAY/DISTANCE\n",
            "0          362.0    0.002762                   2896.0           -0.022099\n",
            "1          628.0    0.001592                   8792.0           -0.022293\n",
            "2          438.0    0.002283                   3066.0           -0.015982\n",
            "3         1430.0    0.000699                  12870.0           -0.006294\n",
            "4          957.0    0.001045                  18183.0           -0.019854\n",
            "...          ...         ...                      ...                 ...\n",
            "707177     493.0    0.002028                    986.0           -0.004057\n",
            "707178     440.0    0.002273                   6160.0           -0.031818\n",
            "707179     209.0    0.004785                   1045.0           -0.023923\n",
            "707180    1014.0    0.000986                  77064.0            0.074951\n",
            "707181     223.0    0.004484                   3122.0           -0.062780\n",
            "\n",
            "[707182 rows x 4 columns]\n"
          ]
        }
      ]
    },
    {
      "cell_type": "markdown",
      "source": [
        "##Step 6 - Visualization"
      ],
      "metadata": {
        "id": "G-9kcBMEMUlr"
      }
    },
    {
      "cell_type": "markdown",
      "source": [
        "Generating a bar plot to visualize the distribution of flight counts for each carrier, providing insights into the comparative performance or frequency of flights operated by different carriers."
      ],
      "metadata": {
        "id": "_8-GJ2FFz3YB"
      }
    },
    {
      "cell_type": "code",
      "source": [
        "sns.barplot(x= features.index, y='COUNT(flights)', data=features, palette='viridis')\n",
        "plt.xlabel('Flight Carrier')\n",
        "plt.ylabel('Count of Flights')\n",
        "plt.title('Histogram of Flight Counts by Carrier')\n",
        "plt.show()"
      ],
      "metadata": {
        "colab": {
          "base_uri": "https://localhost:8080/",
          "height": 472
        },
        "id": "pUw4HUa4qgge",
        "outputId": "8288a193-80e6-4bb1-a418-3a1ca7c0431e"
      },
      "execution_count": null,
      "outputs": [
        {
          "output_type": "display_data",
          "data": {
            "text/plain": [
              "<Figure size 640x480 with 1 Axes>"
            ],
            "image/png": "[encoded data removed]"
          },
          "metadata": {}
        }
      ]
    },
    {
      "cell_type": "markdown",
      "source": [
        "Visualizing the relationship between the maximum departure delay and the maximum arrival delay for each data point. So that we can understand if there is any correlation or pattern between MAX(flights.DEP_DELAY) and MAX(flights.ARR_DELAY)."
      ],
      "metadata": {
        "id": "aV4vKHZV0hFe"
      }
    },
    {
      "cell_type": "code",
      "source": [
        "plt.figure(figsize=(6, 4))\n",
        "sns.scatterplot(x='MAX(flights.DEP_DELAY)', y='MAX(flights.ARR_DELAY)', data=features, color='red')\n",
        "plt.xlabel('Flight Departure Delay')\n",
        "plt.ylabel('Flight Arrival Delay')\n",
        "plt.title('Scatter Plot of Flight Departure Delay vs Flight Arrival Delay')\n",
        "plt.show()"
      ],
      "metadata": {
        "colab": {
          "base_uri": "https://localhost:8080/",
          "height": 410
        },
        "id": "VKZlWz2ltQXV",
        "outputId": "76fcc256-2fb3-4693-c4c9-161e16e0bd47"
      },
      "execution_count": null,
      "outputs": [
        {
          "output_type": "display_data",
          "data": {
            "text/plain": [
              "<Figure size 600x400 with 1 Axes>"
            ],
            "image/png": "[encoded data removed]"
          },
          "metadata": {}
        }
      ]
    },
    {
      "cell_type": "markdown",
      "source": [
        "Generating a bar plot to visualize the total distance covered by flights for each flight carrier. This can provide insights into the comparative distances traveled by different carriers, allowing for a quick comparison of their overall flight distances."
      ],
      "metadata": {
        "id": "lpKHi8l72F1O"
      }
    },
    {
      "cell_type": "code",
      "source": [
        "sns.barplot(x= features.index, y='SUM(flights.DISTANCE)', data=features, palette='viridis')\n",
        "plt.xlabel('Flight Carrier')\n",
        "plt.ylabel('Total Distance')\n",
        "plt.title('Boxplot of Flight Carrier vs Total Distance')\n",
        "plt.show()"
      ],
      "metadata": {
        "colab": {
          "base_uri": "https://localhost:8080/",
          "height": 472
        },
        "id": "F4csQgNxvLwz",
        "outputId": "5a5b8070-215d-49c1-9150-b52ea3cbc7d5"
      },
      "execution_count": null,
      "outputs": [
        {
          "output_type": "display_data",
          "data": {
            "text/plain": [
              "<Figure size 640x480 with 1 Axes>"
            ],
            "image/png": "[encoded data removed]"
          },
          "metadata": {}
        }
      ]
    },
    {
      "cell_type": "markdown",
      "source": [
        "Creating a bar plot to visualize the average air time for flights operated by different carriers. This visualization allows for a quick comparison of the carriers based on the average duration of their flights."
      ],
      "metadata": {
        "id": "XiSiFV_G2Ozk"
      }
    },
    {
      "cell_type": "code",
      "source": [
        "sns.barplot(x= features.index, y='MEAN(flights.AIR_TIME)', data=features, palette='viridis')\n",
        "plt.xlabel('Flight Carrier')\n",
        "plt.ylabel('Average Air Time')\n",
        "plt.title('Histogram of Flight Carrier vs Average Air Time')\n",
        "plt.show()"
      ],
      "metadata": {
        "colab": {
          "base_uri": "https://localhost:8080/",
          "height": 472
        },
        "id": "PhhtwjIbvXOh",
        "outputId": "06755d6f-8fb5-4e08-dd8a-af8488a28168"
      },
      "execution_count": null,
      "outputs": [
        {
          "output_type": "display_data",
          "data": {
            "text/plain": [
              "<Figure size 640x480 with 1 Axes>"
            ],
            "image/png": "[encoded data removed]"
          },
          "metadata": {}
        }
      ]
    },
    {
      "cell_type": "markdown",
      "source": [
        "Generating a heatmap that visually represents the correlation matrix of the selected features in selected_columns2_df. This visualization helps in understanding the relationships between \"DISTANCE\" , \"1/DISTANCE\", \"DISTANCE*Abs(ARR_DELAY)\" and \"ARR_DELAY/DISTANCE\", especially the strength and direction of their correlations. The cooler or warmer colors and the numerical annotations provide insights into how strongly and in what direction these features are correlated with each other"
      ],
      "metadata": {
        "id": "CqNdiQkR24h0"
      }
    },
    {
      "cell_type": "code",
      "source": [
        "plt.figure(figsize=(6, 4))\n",
        "correlation_matrix = selected_columns2_df.corr()\n",
        "sns.heatmap(correlation_matrix, annot=True, cmap='coolwarm', fmt=\".2f\")\n",
        "plt.show()\n"
      ],
      "metadata": {
        "colab": {
          "base_uri": "https://localhost:8080/",
          "height": 552
        },
        "id": "mma7vlbhwsmx",
        "outputId": "831c7b58-4fcf-4bd8-c94f-a7fbeeee340b"
      },
      "execution_count": null,
      "outputs": [
        {
          "output_type": "display_data",
          "data": {
            "text/plain": [
              "<Figure size 600x400 with 2 Axes>"
            ],
            "image/png": "[encoded data removed]"
          },
          "metadata": {}
        }
      ]
    },
    {
      "cell_type": "markdown",
      "source": [
        "Visualizing the relationship between the 'DISTANCE' and '1/DISTANCE' features using a scatter plot."
      ],
      "metadata": {
        "id": "FMC6rhiS3WSt"
      }
    },
    {
      "cell_type": "code",
      "source": [
        "plt.figure(figsize=(6, 4))\n",
        "sns.scatterplot(x='DISTANCE', y='1/DISTANCE', data=selected_columns2_df, color='blue')\n",
        "plt.xlabel('Distance')\n",
        "plt.ylabel('1/Distance')\n",
        "plt.title('Scatter Plot of Distance vs 1/Distance')\n",
        "plt.show()"
      ],
      "metadata": {
        "colab": {
          "base_uri": "https://localhost:8080/",
          "height": 410
        },
        "id": "ZJb9Xvp-xq0I",
        "outputId": "4cccd068-0fde-44db-98f7-d1a13b5a2dae"
      },
      "execution_count": null,
      "outputs": [
        {
          "output_type": "display_data",
          "data": {
            "text/plain": [
              "<Figure size 600x400 with 1 Axes>"
            ],
            "image/png": "[encoded data removed]"
          },
          "metadata": {}
        }
      ]
    },
    {
      "cell_type": "markdown",
      "source": [
        "Visualizing the relationship between the '1/DISTANCE' and 'ARR_DELAY*DISTANCE' features using a scatter plot."
      ],
      "metadata": {
        "id": "gLq07jHj3ZFs"
      }
    },
    {
      "cell_type": "code",
      "source": [
        "plt.figure(figsize=(6, 4))\n",
        "sns.scatterplot(x='1/DISTANCE', y='DISTANCE*Abs(ARR_DELAY)', data=selected_columns2_df, color='blue')\n",
        "plt.xlabel('1/Distance')\n",
        "plt.ylabel('DISTANCE*Abs(ARR_DELAY)')\n",
        "plt.title('Scatter Plot of 1/Distance vs DISTANCE*Abs(ARR_DELAY)')\n",
        "plt.show()"
      ],
      "metadata": {
        "colab": {
          "base_uri": "https://localhost:8080/",
          "height": 425
        },
        "id": "OYifeeBoyBEY",
        "outputId": "bb98b80a-15f0-4235-fd63-c22f1311f52c"
      },
      "execution_count": null,
      "outputs": [
        {
          "output_type": "display_data",
          "data": {
            "text/plain": [
              "<Figure size 600x400 with 1 Axes>"
            ],
            "image/png": "[encoded data removed]"
          },
          "metadata": {}
        }
      ]
    },
    {
      "cell_type": "markdown",
      "source": [
        "Visualizing the relationship between the 'DISTANCE* Abs(ARR_DELAY)' and 'ARR_DELAY/DISTANCE' features using a scatter plot. This type of plot can reveal patterns, trends, or correlations between these two variables."
      ],
      "metadata": {
        "id": "eo9OfxPI3lfl"
      }
    },
    {
      "cell_type": "code",
      "source": [
        "plt.scatter(selected_columns2_df['DISTANCE*Abs(ARR_DELAY)'], selected_columns2_df['ARR_DELAY/DISTANCE'], alpha=0.7)\n",
        "plt.xlabel('DISTANCE*Abs(ARR_DELAY)')\n",
        "plt.ylabel('ARR_DELAY/DISTANCE')\n",
        "plt.title('Scatter Plot of DISTANCE*Abs(ARR_DELAY) vs. ARR_DELAY/DISTANCE')\n",
        "plt.show()"
      ],
      "metadata": {
        "colab": {
          "base_uri": "https://localhost:8080/",
          "height": 472
        },
        "id": "exiDXeaDzexe",
        "outputId": "b7f3a2e7-a845-4039-f31c-4ef1fcc0207e"
      },
      "execution_count": null,
      "outputs": [
        {
          "output_type": "display_data",
          "data": {
            "text/plain": [
              "<Figure size 640x480 with 1 Axes>"
            ],
            "image/png": "[encoded data removed]"
          },
          "metadata": {}
        }
      ]
    },
    {
      "cell_type": "markdown",
      "source": [
        "Providing a numerical measure of the linear correlation between the 'DISTANCEAbs(ARR_DELAY)' and 'ARR_DELAYAbs(ARR_DELAY)' features."
      ],
      "metadata": {
        "id": "YyzzaaGE35Bs"
      }
    },
    {
      "cell_type": "code",
      "source": [
        "correlation_distance_abs_delay = selected_columns2_df['DISTANCE*Abs(ARR_DELAY)'].corr(selected_columns2_df['ARR_DELAY/DISTANCE'])\n",
        "print(f\"Correlation: {correlation_distance_abs_delay}\")\n"
      ],
      "metadata": {
        "colab": {
          "base_uri": "https://localhost:8080/"
        },
        "id": "TlXB_p_xzSf2",
        "outputId": "48151dae-93f2-4c31-afcf-9cfd3031bbd5"
      },
      "execution_count": null,
      "outputs": [
        {
          "output_type": "stream",
          "name": "stdout",
          "text": [
            "Correlation: 0.26200476254529376\n"
          ]
        }
      ]
    },
    {
      "cell_type": "markdown",
      "source": [
        "##Step 7 - Conclusion"
      ],
      "metadata": {
        "id": "R_-U5xI3Mdka"
      }
    },
    {
      "cell_type": "markdown",
      "source": [
        "###Summary of findings:\n",
        "\n",
        "* The flight carrier labeled WN boasts the highest count of flights, reaching 1,331,609 in total. In contrast, the VN flight carrier has the lowest count of flights, with a total of 17,153.\n",
        "\n",
        "* A distinct linear relationship is evident between flight departure delay and flight arrival delay, indicating a clear correlation between these two features.\n",
        "\n",
        "* WN, the flight carrier, stands out with the highest total distance covered among all carriers, accumulating a staggering 998,441,965 in total. In contrast, the VX flight carrier has the lowest total distance covered, with a distance of 25,130,861.0.\n",
        "\n",
        "* VX flight carrier leads the pack with the longest average air time per flight, reaching an impressive 191.06 minutes. In opposite, the OH flight carrier has the shortest average air time per flight, with a duration of 64.56 minutes.\n",
        "\n",
        "* The 'DISTANCE' and '1/DISTANCE' features exhibit an inverse relationship, showcasing a clear pattern of correlation.\n",
        "\n",
        "* Similarly, the '1/DISTANCE' and 'DISTANCE*Abs(ARR_DELAY)' features also demonstrate an inverse relationship, revealing a distinctive correlation between the two variables.\n",
        "\n",
        "* The features 'DISTANCEAbs(ARR_DELAY)' and 'ARR_DELAY/DISTANCE' exhibit an inverse relationship pattern, and the correlation between the two variables is not highly robust due to the presence of numerous outliers.\n",
        "\n",
        "* The numerical measure of the linear correlation between 'DISTANCEAbs(ARR_DELAY)' and 'ARR_DELAY/DISTANCE' features is  0.262005, indicating a low positive linear relationship between the two variables.\n"
      ],
      "metadata": {
        "id": "JxYfIaw44E18"
      }
    },
    {
      "cell_type": "markdown",
      "source": [
        "### Feature engineering steps with automated tools:\n",
        "#### 1. Featuretools\n",
        "Creating an empty EntitySet with the identifier 'flights'\n",
        "* es = ft.EntitySet(id = 'flights')\n",
        "\n",
        "Creating a new DataFrame (op_carrier) containing unique values, we set \"OP_CARRIER\" column from the original dataframe as unique value. This is because without a unique value the Featuretools could not perform its DFS.\n",
        "* op_carrier = pd.DataFrame(df.OP_CARRIER.unique(), columns = [\"op_carrier\"])\n",
        "\n",
        "Creating an entity from the df dataframe and add it into the empty EntitySet. This step is to make a foundation for the DFS by Featuretools that we will be performing later.\n",
        "* es = es.add_dataframe( dataframe = op_carrier, dataframe_name = \"op_carrier\")\n",
        "\n",
        "Establishing a relationship between the \"op_carrier\" entity and the \"flights\" entity in the EntitySet. This step is very important because without a relationship the Featuretools cannot perform Deep Feature Synthesis.\n",
        "* es.add_relationship(\"op_carrier\", \"op_carrier\", \"flights\", \"OP_CARRIER\")\n",
        "\n",
        "Performing the \"Deep Feature Synthesis\" function by using Featuretools on the entity set that we had created. In this step, we do not specify any primitives while performing the DFS therefore it could generate as much features as possible.\n",
        "* features, feature_names = ft.dfs(entityset=es, target_dataframe_name='op_carrier',  max_depth = 1)\n",
        "\n",
        "By performing the tasks above, we had successfully applying Featuretools Automated Feature Engineering on our dataset as there is 101 new features generated. The main reason that we choose Featuretools as the Automated Feature Engineering Tool is because it is user-friendly and provide very effective results.\n",
        "<br><br>\n",
        "#### 2. AutoFeat\n",
        "Setting up the target variable = \"ARR_TIME\" for a regression task and create an instance of AutoFeatRegressor to automate the process of feature engineering. This step is to improve the predictive performance of a regression model.\n",
        "* target_variable = 'ARR_TIME'\n",
        "* afreg = AutoFeatRegressor()\n",
        "\n",
        "Setting up the list of selected columns ('DISTANCE' and 'ARR_DELAY') for the regression task. In this step, we select the columns from the dataframe that we want to perform a regression model with the target_variable. We only select 2 effective columns because too many columns would cause the RAM to exceeds its limit and crashed.\n",
        "* selected_columns = ['DISTANCE', 'ARR_DELAY']\n",
        "\n",
        "Creating a subset from original dataframe that only contain the selected columns and target variable. We only use 10% of randomly sample of data in this step because, a larger data would cause the RAM to exceeds it limits and we could not perform the regression model successfully.\n",
        "* df_train = df[selected_columns + [target_variable]].sample(frac = 0.1)\n",
        "\n",
        "Separating the dataset into two parts, features(X_train) and target_variable(y_train). We do this in order to train a model on historical data and later evaluate its performance on new data.\n",
        "* X_train = df_train.drop(target_variable, axis=1)\n",
        "* y_train = df_train[target_variable]\n",
        "\n",
        "Fitting the AutoFeatRegressor (afreg) to the training features (X_train) and target variable (y_train) using the fit_transform method to enhance the feature set for training a regression model. The purpose is to let the algorithm automatically create and select features that may better represent the underlying patterns in the data.\n",
        "* X_train_transformed = afreg.fit_transform(X_train, y_train)\n",
        "\n",
        "By performing the tasks above, we had successfully applying AutoFeat Automated Feature Engineering on the 3 columns from our dataset and there is 12 new features generated. The main reason that we choose AutoFeat as the Automated Feature Engineering Tool is due to its performance of machine learning models by automatically generating relevant and informative features.\n"
      ],
      "metadata": {
        "id": "Vpz6WXgYLHMu"
      }
    }
  ]
}